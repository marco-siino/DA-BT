{
  "cells": [
    {
      "cell_type": "markdown",
      "metadata": {
        "id": "view-in-github",
        "colab_type": "text"
      },
      "source": [
        "<a href=\"https://colab.research.google.com/github/marco-siino/DA-BT/blob/main/code/evaluation/hss/RoBERTa_HSS_augmented_MIX.ipynb\" target=\"_parent\"><img src=\"https://colab.research.google.com/assets/colab-badge.svg\" alt=\"Open In Colab\"/></a>"
      ]
    },
    {
      "cell_type": "markdown",
      "metadata": {
        "id": "u-hLo5ufkCT1"
      },
      "source": [
        "## Investigating text data augmentation using back translation for author profiling\n",
        "- - - \n",
        "RoBERTa ON HSS DS EXPERIMENTS NOTEBOOK \n",
        "- - -\n",
        "RoBERTa on Hate Speech Spreaders Dataset augmented with backtranslation.\n",
        "Code by M. Siino. \n",
        "\n",
        "From the paper: \"Investigating text data augmentation using back translation for author profiling\" by M.Siino et al.\n",
        "\n"
      ]
    },
    {
      "cell_type": "markdown",
      "metadata": {
        "id": "6IBqUcj4cx2G"
      },
      "source": [
        "## Importing modules."
      ]
    },
    {
      "cell_type": "code",
      "execution_count": null,
      "metadata": {
        "id": "AQSunQ-ucjLX",
        "colab": {
          "base_uri": "https://localhost:8080/"
        },
        "outputId": "47596eb7-343b-4d15-9b57-b86930ab295d"
      },
      "outputs": [
        {
          "output_type": "stream",
          "name": "stdout",
          "text": [
            "Requirement already satisfied: simpletransformers in c:\\users\\domenico\\.conda\\envs\\tf\\lib\\site-packages (0.63.9)\n",
            "Requirement already satisfied: scipy in c:\\users\\domenico\\.conda\\envs\\tf\\lib\\site-packages (from simpletransformers) (1.9.0)\n",
            "Requirement already satisfied: tqdm>=4.47.0 in c:\\users\\domenico\\.conda\\envs\\tf\\lib\\site-packages (from simpletransformers) (4.64.0)\n",
            "Requirement already satisfied: tensorboard in c:\\users\\domenico\\.conda\\envs\\tf\\lib\\site-packages (from simpletransformers) (2.9.1)\n",
            "Requirement already satisfied: tokenizers in c:\\users\\domenico\\.conda\\envs\\tf\\lib\\site-packages (from simpletransformers) (0.12.1)\n",
            "Requirement already satisfied: wandb>=0.10.32 in c:\\users\\domenico\\.conda\\envs\\tf\\lib\\site-packages (from simpletransformers) (0.13.3)\n",
            "Requirement already satisfied: sentencepiece in c:\\users\\domenico\\.conda\\envs\\tf\\lib\\site-packages (from simpletransformers) (0.1.97)\n",
            "Requirement already satisfied: scikit-learn in c:\\users\\domenico\\.conda\\envs\\tf\\lib\\site-packages (from simpletransformers) (1.1.1)\n",
            "Requirement already satisfied: requests in c:\\users\\domenico\\.conda\\envs\\tf\\lib\\site-packages (from simpletransformers) (2.28.1)\n",
            "Requirement already satisfied: pandas in c:\\users\\domenico\\.conda\\envs\\tf\\lib\\site-packages (from simpletransformers) (1.4.3)\n",
            "Requirement already satisfied: transformers>=4.6.0 in c:\\users\\domenico\\.conda\\envs\\tf\\lib\\site-packages (from simpletransformers) (4.22.1)\n",
            "Requirement already satisfied: streamlit in c:\\users\\domenico\\.conda\\envs\\tf\\lib\\site-packages (from simpletransformers) (1.12.2)\n",
            "Requirement already satisfied: numpy in c:\\users\\domenico\\appdata\\roaming\\python\\python39\\site-packages (from simpletransformers) (1.22.4)\n",
            "Requirement already satisfied: datasets in c:\\users\\domenico\\.conda\\envs\\tf\\lib\\site-packages (from simpletransformers) (2.4.0)\n",
            "Requirement already satisfied: seqeval in c:\\users\\domenico\\.conda\\envs\\tf\\lib\\site-packages (from simpletransformers) (1.2.2)\n",
            "Requirement already satisfied: regex in c:\\users\\domenico\\.conda\\envs\\tf\\lib\\site-packages (from simpletransformers) (2022.7.25)\n",
            "Requirement already satisfied: colorama in c:\\users\\domenico\\.conda\\envs\\tf\\lib\\site-packages (from tqdm>=4.47.0->simpletransformers) (0.4.5)\n",
            "Requirement already satisfied: pyyaml>=5.1 in c:\\users\\domenico\\.conda\\envs\\tf\\lib\\site-packages (from transformers>=4.6.0->simpletransformers) (6.0)\n",
            "Requirement already satisfied: filelock in c:\\users\\domenico\\.conda\\envs\\tf\\lib\\site-packages (from transformers>=4.6.0->simpletransformers) (3.8.0)\n",
            "Requirement already satisfied: huggingface-hub<1.0,>=0.9.0 in c:\\users\\domenico\\.conda\\envs\\tf\\lib\\site-packages (from transformers>=4.6.0->simpletransformers) (0.9.1)\n",
            "Requirement already satisfied: packaging>=20.0 in c:\\users\\domenico\\.conda\\envs\\tf\\lib\\site-packages (from transformers>=4.6.0->simpletransformers) (21.3)\n",
            "Requirement already satisfied: protobuf<4.0dev,>=3.12.0 in c:\\users\\domenico\\.conda\\envs\\tf\\lib\\site-packages (from wandb>=0.10.32->simpletransformers) (3.19.4)\n",
            "Requirement already satisfied: pathtools in c:\\users\\domenico\\.conda\\envs\\tf\\lib\\site-packages (from wandb>=0.10.32->simpletransformers) (0.1.2)\n",
            "Requirement already satisfied: six>=1.13.0 in c:\\users\\domenico\\.conda\\envs\\tf\\lib\\site-packages (from wandb>=0.10.32->simpletransformers) (1.16.0)\n",
            "Requirement already satisfied: setproctitle in c:\\users\\domenico\\.conda\\envs\\tf\\lib\\site-packages (from wandb>=0.10.32->simpletransformers) (1.3.2)\n",
            "Requirement already satisfied: sentry-sdk>=1.0.0 in c:\\users\\domenico\\.conda\\envs\\tf\\lib\\site-packages (from wandb>=0.10.32->simpletransformers) (1.9.8)\n",
            "Requirement already satisfied: Click!=8.0.0,>=7.0 in c:\\users\\domenico\\.conda\\envs\\tf\\lib\\site-packages (from wandb>=0.10.32->simpletransformers) (8.1.3)\n",
            "Requirement already satisfied: docker-pycreds>=0.4.0 in c:\\users\\domenico\\.conda\\envs\\tf\\lib\\site-packages (from wandb>=0.10.32->simpletransformers) (0.4.0)\n",
            "Requirement already satisfied: psutil>=5.0.0 in c:\\users\\domenico\\.conda\\envs\\tf\\lib\\site-packages (from wandb>=0.10.32->simpletransformers) (5.9.1)\n",
            "Requirement already satisfied: promise<3,>=2.0 in c:\\users\\domenico\\.conda\\envs\\tf\\lib\\site-packages (from wandb>=0.10.32->simpletransformers) (2.3)\n",
            "Requirement already satisfied: GitPython>=1.0.0 in c:\\users\\domenico\\.conda\\envs\\tf\\lib\\site-packages (from wandb>=0.10.32->simpletransformers) (3.1.27)\n",
            "Requirement already satisfied: setuptools in c:\\users\\domenico\\.conda\\envs\\tf\\lib\\site-packages (from wandb>=0.10.32->simpletransformers) (63.4.1)\n",
            "Requirement already satisfied: shortuuid>=0.5.0 in c:\\users\\domenico\\.conda\\envs\\tf\\lib\\site-packages (from wandb>=0.10.32->simpletransformers) (1.0.9)\n",
            "Requirement already satisfied: idna<4,>=2.5 in c:\\users\\domenico\\.conda\\envs\\tf\\lib\\site-packages (from requests->simpletransformers) (3.3)\n",
            "Requirement already satisfied: urllib3<1.27,>=1.21.1 in c:\\users\\domenico\\.conda\\envs\\tf\\lib\\site-packages (from requests->simpletransformers) (1.26.11)\n",
            "Requirement already satisfied: charset-normalizer<3,>=2 in c:\\users\\domenico\\.conda\\envs\\tf\\lib\\site-packages (from requests->simpletransformers) (2.1.0)\n",
            "Requirement already satisfied: certifi>=2017.4.17 in c:\\users\\domenico\\.conda\\envs\\tf\\lib\\site-packages (from requests->simpletransformers) (2022.9.14)\n",
            "Requirement already satisfied: xxhash in c:\\users\\domenico\\.conda\\envs\\tf\\lib\\site-packages (from datasets->simpletransformers) (3.0.0)\n",
            "Requirement already satisfied: multiprocess in c:\\users\\domenico\\.conda\\envs\\tf\\lib\\site-packages (from datasets->simpletransformers) (0.70.13)\n",
            "Requirement already satisfied: dill<0.3.6 in c:\\users\\domenico\\.conda\\envs\\tf\\lib\\site-packages (from datasets->simpletransformers) (0.3.5.1)\n",
            "Requirement already satisfied: responses<0.19 in c:\\users\\domenico\\.conda\\envs\\tf\\lib\\site-packages (from datasets->simpletransformers) (0.18.0)\n",
            "Requirement already satisfied: aiohttp in c:\\users\\domenico\\.conda\\envs\\tf\\lib\\site-packages (from datasets->simpletransformers) (3.8.1)\n",
            "Requirement already satisfied: pyarrow>=6.0.0 in c:\\users\\domenico\\.conda\\envs\\tf\\lib\\site-packages (from datasets->simpletransformers) (9.0.0)\n",
            "Requirement already satisfied: fsspec[http]>=2021.11.1 in c:\\users\\domenico\\.conda\\envs\\tf\\lib\\site-packages (from datasets->simpletransformers) (2022.8.2)\n",
            "Requirement already satisfied: python-dateutil>=2.8.1 in c:\\users\\domenico\\.conda\\envs\\tf\\lib\\site-packages (from pandas->simpletransformers) (2.8.2)\n",
            "Requirement already satisfied: pytz>=2020.1 in c:\\users\\domenico\\.conda\\envs\\tf\\lib\\site-packages (from pandas->simpletransformers) (2022.1)\n",
            "Requirement already satisfied: threadpoolctl>=2.0.0 in c:\\users\\domenico\\.conda\\envs\\tf\\lib\\site-packages (from scikit-learn->simpletransformers) (3.1.0)\n",
            "Requirement already satisfied: joblib>=1.0.0 in c:\\users\\domenico\\.conda\\envs\\tf\\lib\\site-packages (from scikit-learn->simpletransformers) (1.1.0)\n",
            "Requirement already satisfied: pydeck>=0.1.dev5 in c:\\users\\domenico\\.conda\\envs\\tf\\lib\\site-packages (from streamlit->simpletransformers) (0.8.0b3)\n",
            "Requirement already satisfied: pympler>=0.9 in c:\\users\\domenico\\.conda\\envs\\tf\\lib\\site-packages (from streamlit->simpletransformers) (1.0.1)\n",
            "Requirement already satisfied: tzlocal>=1.1 in c:\\users\\domenico\\.conda\\envs\\tf\\lib\\site-packages (from streamlit->simpletransformers) (4.2)\n",
            "Requirement already satisfied: pillow>=6.2.0 in c:\\users\\domenico\\.conda\\envs\\tf\\lib\\site-packages (from streamlit->simpletransformers) (9.2.0)\n",
            "Requirement already satisfied: importlib-metadata>=1.4 in c:\\users\\domenico\\.conda\\envs\\tf\\lib\\site-packages (from streamlit->simpletransformers) (4.12.0)\n",
            "Requirement already satisfied: typing-extensions>=3.10.0.0 in c:\\users\\domenico\\.conda\\envs\\tf\\lib\\site-packages (from streamlit->simpletransformers) (4.3.0)\n",
            "Requirement already satisfied: validators>=0.2 in c:\\users\\domenico\\.conda\\envs\\tf\\lib\\site-packages (from streamlit->simpletransformers) (0.20.0)\n",
            "Requirement already satisfied: semver in c:\\users\\domenico\\.conda\\envs\\tf\\lib\\site-packages (from streamlit->simpletransformers) (2.13.0)\n",
            "Requirement already satisfied: altair>=3.2.0 in c:\\users\\domenico\\.conda\\envs\\tf\\lib\\site-packages (from streamlit->simpletransformers) (4.2.0)\n",
            "Requirement already satisfied: blinker>=1.0.0 in c:\\users\\domenico\\.conda\\envs\\tf\\lib\\site-packages (from streamlit->simpletransformers) (1.5)\n",
            "Requirement already satisfied: watchdog in c:\\users\\domenico\\.conda\\envs\\tf\\lib\\site-packages (from streamlit->simpletransformers) (2.1.9)\n",
            "Requirement already satisfied: toml in c:\\users\\domenico\\.conda\\envs\\tf\\lib\\site-packages (from streamlit->simpletransformers) (0.10.2)\n",
            "Requirement already satisfied: cachetools>=4.0 in c:\\users\\domenico\\.conda\\envs\\tf\\lib\\site-packages (from streamlit->simpletransformers) (5.2.0)\n",
            "Requirement already satisfied: tornado>=5.0 in c:\\users\\domenico\\.conda\\envs\\tf\\lib\\site-packages (from streamlit->simpletransformers) (6.2)\n",
            "Requirement already satisfied: rich>=10.11.0 in c:\\users\\domenico\\.conda\\envs\\tf\\lib\\site-packages (from streamlit->simpletransformers) (12.5.1)\n",
            "Requirement already satisfied: markdown>=2.6.8 in c:\\users\\domenico\\.conda\\envs\\tf\\lib\\site-packages (from tensorboard->simpletransformers) (3.4.1)\n",
            "Requirement already satisfied: wheel>=0.26 in c:\\users\\domenico\\.conda\\envs\\tf\\lib\\site-packages (from tensorboard->simpletransformers) (0.37.1)\n",
            "Requirement already satisfied: google-auth<3,>=1.6.3 in c:\\users\\domenico\\.conda\\envs\\tf\\lib\\site-packages (from tensorboard->simpletransformers) (2.9.1)\n",
            "Requirement already satisfied: grpcio>=1.24.3 in c:\\users\\domenico\\.conda\\envs\\tf\\lib\\site-packages (from tensorboard->simpletransformers) (1.48.0)\n",
            "Requirement already satisfied: absl-py>=0.4 in c:\\users\\domenico\\.conda\\envs\\tf\\lib\\site-packages (from tensorboard->simpletransformers) (1.2.0)\n",
            "Requirement already satisfied: tensorboard-data-server<0.7.0,>=0.6.0 in c:\\users\\domenico\\.conda\\envs\\tf\\lib\\site-packages (from tensorboard->simpletransformers) (0.6.1)\n",
            "Requirement already satisfied: werkzeug>=1.0.1 in c:\\users\\domenico\\.conda\\envs\\tf\\lib\\site-packages (from tensorboard->simpletransformers) (2.2.1)\n",
            "Requirement already satisfied: google-auth-oauthlib<0.5,>=0.4.1 in c:\\users\\domenico\\.conda\\envs\\tf\\lib\\site-packages (from tensorboard->simpletransformers) (0.4.6)\n",
            "Requirement already satisfied: tensorboard-plugin-wit>=1.6.0 in c:\\users\\domenico\\.conda\\envs\\tf\\lib\\site-packages (from tensorboard->simpletransformers) (1.8.1)\n",
            "Requirement already satisfied: entrypoints in c:\\users\\domenico\\.conda\\envs\\tf\\lib\\site-packages (from altair>=3.2.0->streamlit->simpletransformers) (0.4)\n",
            "Requirement already satisfied: jsonschema>=3.0 in c:\\users\\domenico\\.conda\\envs\\tf\\lib\\site-packages (from altair>=3.2.0->streamlit->simpletransformers) (4.9.0)\n",
            "Requirement already satisfied: toolz in c:\\users\\domenico\\.conda\\envs\\tf\\lib\\site-packages (from altair>=3.2.0->streamlit->simpletransformers) (0.12.0)\n",
            "Requirement already satisfied: jinja2 in c:\\users\\domenico\\.conda\\envs\\tf\\lib\\site-packages (from altair>=3.2.0->streamlit->simpletransformers) (3.1.2)\n",
            "Requirement already satisfied: multidict<7.0,>=4.5 in c:\\users\\domenico\\.conda\\envs\\tf\\lib\\site-packages (from aiohttp->datasets->simpletransformers) (6.0.2)\n",
            "Requirement already satisfied: attrs>=17.3.0 in c:\\users\\domenico\\.conda\\envs\\tf\\lib\\site-packages (from aiohttp->datasets->simpletransformers) (22.1.0)\n",
            "Requirement already satisfied: aiosignal>=1.1.2 in c:\\users\\domenico\\.conda\\envs\\tf\\lib\\site-packages (from aiohttp->datasets->simpletransformers) (1.2.0)\n",
            "Requirement already satisfied: frozenlist>=1.1.1 in c:\\users\\domenico\\.conda\\envs\\tf\\lib\\site-packages (from aiohttp->datasets->simpletransformers) (1.3.1)\n",
            "Requirement already satisfied: async-timeout<5.0,>=4.0.0a3 in c:\\users\\domenico\\.conda\\envs\\tf\\lib\\site-packages (from aiohttp->datasets->simpletransformers) (4.0.2)\n",
            "Requirement already satisfied: yarl<2.0,>=1.0 in c:\\users\\domenico\\.conda\\envs\\tf\\lib\\site-packages (from aiohttp->datasets->simpletransformers) (1.8.1)\n",
            "Requirement already satisfied: gitdb<5,>=4.0.1 in c:\\users\\domenico\\.conda\\envs\\tf\\lib\\site-packages (from GitPython>=1.0.0->wandb>=0.10.32->simpletransformers) (4.0.9)\n",
            "Requirement already satisfied: pyasn1-modules>=0.2.1 in c:\\users\\domenico\\.conda\\envs\\tf\\lib\\site-packages (from google-auth<3,>=1.6.3->tensorboard->simpletransformers) (0.2.8)\n",
            "Requirement already satisfied: rsa<5,>=3.1.4 in c:\\users\\domenico\\.conda\\envs\\tf\\lib\\site-packages (from google-auth<3,>=1.6.3->tensorboard->simpletransformers) (4.9)\n",
            "Requirement already satisfied: requests-oauthlib>=0.7.0 in c:\\users\\domenico\\.conda\\envs\\tf\\lib\\site-packages (from google-auth-oauthlib<0.5,>=0.4.1->tensorboard->simpletransformers) (1.3.1)\n",
            "Requirement already satisfied: zipp>=0.5 in c:\\users\\domenico\\.conda\\envs\\tf\\lib\\site-packages (from importlib-metadata>=1.4->streamlit->simpletransformers) (3.8.1)\n",
            "Requirement already satisfied: pyparsing!=3.0.5,>=2.0.2 in c:\\users\\domenico\\.conda\\envs\\tf\\lib\\site-packages (from packaging>=20.0->transformers>=4.6.0->simpletransformers) (3.0.9)\n",
            "Requirement already satisfied: commonmark<0.10.0,>=0.9.0 in c:\\users\\domenico\\.conda\\envs\\tf\\lib\\site-packages (from rich>=10.11.0->streamlit->simpletransformers) (0.9.1)\n",
            "Requirement already satisfied: pygments<3.0.0,>=2.6.0 in c:\\users\\domenico\\.conda\\envs\\tf\\lib\\site-packages (from rich>=10.11.0->streamlit->simpletransformers) (2.12.0)\n",
            "Requirement already satisfied: tzdata in c:\\users\\domenico\\.conda\\envs\\tf\\lib\\site-packages (from tzlocal>=1.1->streamlit->simpletransformers) (2022.2)\n",
            "Requirement already satisfied: pytz-deprecation-shim in c:\\users\\domenico\\.conda\\envs\\tf\\lib\\site-packages (from tzlocal>=1.1->streamlit->simpletransformers) (0.1.0.post0)\n",
            "Requirement already satisfied: decorator>=3.4.0 in c:\\users\\domenico\\.conda\\envs\\tf\\lib\\site-packages (from validators>=0.2->streamlit->simpletransformers) (5.1.1)\n",
            "Requirement already satisfied: MarkupSafe>=2.1.1 in c:\\users\\domenico\\.conda\\envs\\tf\\lib\\site-packages (from werkzeug>=1.0.1->tensorboard->simpletransformers) (2.1.1)\n",
            "Requirement already satisfied: smmap<6,>=3.0.1 in c:\\users\\domenico\\.conda\\envs\\tf\\lib\\site-packages (from gitdb<5,>=4.0.1->GitPython>=1.0.0->wandb>=0.10.32->simpletransformers) (5.0.0)\n",
            "Requirement already satisfied: pyrsistent!=0.17.0,!=0.17.1,!=0.17.2,>=0.14.0 in c:\\users\\domenico\\.conda\\envs\\tf\\lib\\site-packages (from jsonschema>=3.0->altair>=3.2.0->streamlit->simpletransformers) (0.18.1)\n",
            "Requirement already satisfied: pyasn1<0.5.0,>=0.4.6 in c:\\users\\domenico\\.conda\\envs\\tf\\lib\\site-packages (from pyasn1-modules>=0.2.1->google-auth<3,>=1.6.3->tensorboard->simpletransformers) (0.4.8)\n",
            "Requirement already satisfied: oauthlib>=3.0.0 in c:\\users\\domenico\\.conda\\envs\\tf\\lib\\site-packages (from requests-oauthlib>=0.7.0->google-auth-oauthlib<0.5,>=0.4.1->tensorboard->simpletransformers) (3.2.0)\n",
            "Fetching https://raw.githubusercontent.com/marco-siino/DA-BT/main/code/dataset.py\n",
            "Fetching https://raw.githubusercontent.com/marco-siino/DA-BT/main/code/vectorizer.py\n",
            "Fetching https://raw.githubusercontent.com/marco-siino/DA-BT/main/code/simulator.py\n"
          ]
        },
        {
          "output_type": "stream",
          "name": "stderr",
          "text": [
            "C:\\Users\\Domenico\\.conda\\envs\\tf\\lib\\site-packages\\tqdm\\auto.py:22: TqdmWarning: IProgress not found. Please update jupyter and ipywidgets. See https://ipywidgets.readthedocs.io/en/stable/user_install.html\n",
            "  from .autonotebook import tqdm as notebook_tqdm\n"
          ]
        },
        {
          "output_type": "stream",
          "name": "stdout",
          "text": [
            "Fetching https://raw.githubusercontent.com/marco-siino/DA-BT/main/code/vectorizer.py\n"
          ]
        }
      ],
      "source": [
        "!pip install simpletransformers\n",
        "\n",
        "import matplotlib.pyplot as plt\n",
        "import os\n",
        "import random\n",
        "import re\n",
        "import shutil\n",
        "import string\n",
        "import tensorflow as tf\n",
        "from urllib import request\n",
        "\n",
        "\n",
        "import numpy as np\n",
        "\n",
        "from tensorflow.keras import layers\n",
        "from tensorflow.keras import losses\n",
        "from tensorflow.keras import preprocessing\n",
        "from keras.models import Model\n",
        "from tensorflow.keras.layers.experimental.preprocessing import TextVectorization\n",
        "\n",
        "# Import class Dataset\n",
        "module_url = f\"https://raw.githubusercontent.com/marco-siino/DA-BT/main/code/dataset.py\"\n",
        "module_name = module_url.split('/')[-1]\n",
        "print(f'Fetching {module_url}')\n",
        "with request.urlopen(module_url) as f, open(module_name,'w') as outf:\n",
        "  a = f.read()\n",
        "  outf.write(a.decode('utf-8'))\n",
        "from dataset import Dataset\n",
        "\n",
        "# Import class Vectorizer\n",
        "module_url = f\"https://raw.githubusercontent.com/marco-siino/DA-BT/main/code/vectorizer.py\"\n",
        "module_name = module_url.split('/')[-1]\n",
        "print(f'Fetching {module_url}')\n",
        "with request.urlopen(module_url) as f, open(module_name,'w') as outf:\n",
        "  a = f.read()\n",
        "  outf.write(a.decode('utf-8'))\n",
        "from vectorizer import Vectorizer\n",
        "\n",
        "# Import class Simulator\n",
        "module_url = f\"https://raw.githubusercontent.com/marco-siino/DA-BT/main/code/simulator.py\"\n",
        "module_name = module_url.split('/')[-1]\n",
        "print(f'Fetching {module_url}')\n",
        "with request.urlopen(module_url) as f, open(module_name,'w') as outf:\n",
        "  a = f.read()\n",
        "  outf.write(a.decode('utf-8'))\n",
        "from simulator import Simulator"
      ]
    },
    {
      "cell_type": "markdown",
      "source": [
        "## Fetch the dataset zips from GitHub and build up a Keras DS."
      ],
      "metadata": {
        "id": "ponyShZZABtv"
      }
    },
    {
      "cell_type": "code",
      "source": [
        "# Parameters of Dataset object are name of the ds used and augmentation language used.\n",
        "ds = Dataset('hss','mix')\n",
        "ds.build_ds(1)"
      ],
      "metadata": {
        "colab": {
          "base_uri": "https://localhost:8080/"
        },
        "id": "AvKprkqkzBIm",
        "outputId": "7ee939ae-be3a-4da7-85e7-0dc3e63223ab"
      },
      "execution_count": null,
      "outputs": [
        {
          "output_type": "stream",
          "name": "stdout",
          "text": [
            "Downloading data from https://github.com/marco-siino/DA-BT/raw/main/data/hss/hss-train-mix.zip\n",
            "3851666/3851666 [==============================] - 0s 0us/step\n",
            "Downloading data from https://github.com/marco-siino/DA-BT/raw/main/data/hss/hss-test-mix.zip\n",
            "2076727/2076727 [==============================] - 0s 0us/step\n",
            "Found 200 files belonging to 2 classes.\n",
            "Found 100 files belonging to 2 classes.\n"
          ]
        }
      ]
    },
    {
      "cell_type": "markdown",
      "source": [
        "## Vectorize text accordingly to the train set."
      ],
      "metadata": {
        "id": "8Ga8vMTIANTh"
      }
    },
    {
      "cell_type": "code",
      "source": [
        "vct_layer_obj = Vectorizer(ds.train_set)"
      ],
      "metadata": {
        "colab": {
          "base_uri": "https://localhost:8080/"
        },
        "id": "6x-QXirtAAFU",
        "outputId": "0f8d6223-b67e-409a-f673-1c19bf61e682"
      },
      "execution_count": null,
      "outputs": [
        {
          "output_type": "stream",
          "name": "stdout",
          "text": [
            "Length of the longest sample is: 20962\n",
            "\n",
            "Vocabulary size is: 105485\n"
          ]
        }
      ]
    },
    {
      "cell_type": "markdown",
      "source": [
        "## Run the simulation."
      ],
      "metadata": {
        "id": "ztD88sknARIV"
      }
    },
    {
      "cell_type": "code",
      "source": [
        "simulator = Simulator (\"roberta\",5,10,ds.train_set,ds.test_set,vct_layer_obj.vectorize_layer)\n",
        "simulator.run()"
      ],
      "metadata": {
        "colab": {
          "base_uri": "https://localhost:8080/"
        },
        "id": "rGT_dzZb94eM",
        "outputId": "bd5d5956-0c3a-4389-ab14-4029c97d5408"
      },
      "execution_count": null,
      "outputs": [
        {
          "output_type": "stream",
          "name": "stderr",
          "text": [
            "Some weights of the model checkpoint at roberta-base were not used when initializing RobertaForSequenceClassification: ['lm_head.bias', 'lm_head.layer_norm.bias', 'roberta.pooler.dense.weight', 'lm_head.decoder.weight', 'roberta.pooler.dense.bias', 'lm_head.layer_norm.weight', 'lm_head.dense.bias', 'lm_head.dense.weight']\n",
            "- This IS expected if you are initializing RobertaForSequenceClassification from the checkpoint of a model trained on another task or with another architecture (e.g. initializing a BertForSequenceClassification model from a BertForPreTraining model).\n",
            "- This IS NOT expected if you are initializing RobertaForSequenceClassification from the checkpoint of a model that you expect to be exactly identical (initializing a BertForSequenceClassification model from a BertForSequenceClassification model).\n",
            "Some weights of RobertaForSequenceClassification were not initialized from the model checkpoint at roberta-base and are newly initialized: ['classifier.out_proj.weight', 'classifier.dense.weight', 'classifier.out_proj.bias', 'classifier.dense.bias']\n",
            "You should probably TRAIN this model on a down-stream task to be able to use it for predictions and inference.\n",
            "Some weights of the model checkpoint at roberta-base were not used when initializing RobertaForSequenceClassification: ['lm_head.bias', 'lm_head.layer_norm.bias', 'roberta.pooler.dense.weight', 'lm_head.decoder.weight', 'roberta.pooler.dense.bias', 'lm_head.layer_norm.weight', 'lm_head.dense.bias', 'lm_head.dense.weight']\n",
            "- This IS expected if you are initializing RobertaForSequenceClassification from the checkpoint of a model trained on another task or with another architecture (e.g. initializing a BertForSequenceClassification model from a BertForPreTraining model).\n",
            "- This IS NOT expected if you are initializing RobertaForSequenceClassification from the checkpoint of a model that you expect to be exactly identical (initializing a BertForSequenceClassification model from a BertForSequenceClassification model).\n",
            "Some weights of RobertaForSequenceClassification were not initialized from the model checkpoint at roberta-base and are newly initialized: ['classifier.out_proj.weight', 'classifier.dense.weight', 'classifier.out_proj.bias', 'classifier.dense.bias']\n",
            "You should probably TRAIN this model on a down-stream task to be able to use it for predictions and inference.\n",
            "C:\\Users\\Domenico\\.conda\\envs\\tf\\lib\\site-packages\\simpletransformers\\classification\\classification_model.py:612: UserWarning: Dataframe headers not specified. Falling back to using column 0 as text and column 1 as labels.\n",
            "  warnings.warn(\n"
          ]
        },
        {
          "output_type": "stream",
          "name": "stdout",
          "text": [
            "\n",
            "EPOCH NUMBER:  0\n",
            "\n",
            "NOW TRAIN THE MODEL.\n"
          ]
        },
        {
          "output_type": "stream",
          "name": "stderr",
          "text": [
            "  0%|▍                                                                                 | 1/200 [00:09<30:29,  9.19s/it]\n",
            "Epoch 1 of 1:   0%|                                                                              | 0/1 [00:00<?, ?it/s]\n",
            "Running Epoch 0 of 1:   0%|                                                                     | 0/25 [00:00<?, ?it/s]\u001b[A\n",
            "Running Epoch 0 of 1:   4%|██▍                                                          | 1/25 [00:02<00:56,  2.36s/it]\u001b[A\n",
            "Running Epoch 0 of 1:   8%|████▉                                                        | 2/25 [00:04<00:51,  2.26s/it]\u001b[A\n",
            "Running Epoch 0 of 1:  12%|███████▎                                                     | 3/25 [00:06<00:48,  2.22s/it]\u001b[A\n",
            "Running Epoch 0 of 1:  16%|█████████▊                                                   | 4/25 [00:08<00:46,  2.21s/it]\u001b[A\n",
            "Running Epoch 0 of 1:  20%|████████████▏                                                | 5/25 [00:11<00:44,  2.22s/it]\u001b[A\n",
            "Running Epoch 0 of 1:  24%|██████████████▋                                              | 6/25 [00:13<00:42,  2.21s/it]\u001b[A\n",
            "Running Epoch 0 of 1:  28%|█████████████████                                            | 7/25 [00:15<00:39,  2.21s/it]\u001b[A\n",
            "Running Epoch 0 of 1:  32%|███████████████████▌                                         | 8/25 [00:17<00:37,  2.21s/it]\u001b[A\n",
            "Running Epoch 0 of 1:  36%|█████████████████████▉                                       | 9/25 [00:19<00:35,  2.21s/it]\u001b[A\n",
            "Running Epoch 0 of 1:  40%|████████████████████████                                    | 10/25 [00:22<00:33,  2.22s/it]\u001b[A\n",
            "Running Epoch 0 of 1:  44%|██████████████████████████▍                                 | 11/25 [00:24<00:30,  2.21s/it]\u001b[A\n",
            "Running Epoch 0 of 1:  48%|████████████████████████████▊                               | 12/25 [00:26<00:28,  2.22s/it]\u001b[A\n",
            "Running Epoch 0 of 1:  52%|███████████████████████████████▏                            | 13/25 [00:28<00:26,  2.22s/it]\u001b[A\n",
            "Running Epoch 0 of 1:  56%|█████████████████████████████████▌                          | 14/25 [00:31<00:24,  2.23s/it]\u001b[A\n",
            "Running Epoch 0 of 1:  60%|████████████████████████████████████                        | 15/25 [00:33<00:22,  2.24s/it]\u001b[A\n",
            "Running Epoch 0 of 1:  64%|██████████████████████████████████████▍                     | 16/25 [00:35<00:20,  2.24s/it]\u001b[A\n",
            "Running Epoch 0 of 1:  68%|████████████████████████████████████████▊                   | 17/25 [00:37<00:17,  2.23s/it]\u001b[A\n",
            "Running Epoch 0 of 1:  72%|███████████████████████████████████████████▏                | 18/25 [00:40<00:15,  2.23s/it]\u001b[A\n",
            "Running Epoch 0 of 1:  76%|█████████████████████████████████████████████▌              | 19/25 [00:42<00:13,  2.24s/it]\u001b[A\n",
            "Running Epoch 0 of 1:  80%|████████████████████████████████████████████████            | 20/25 [00:44<00:11,  2.24s/it]\u001b[A\n",
            "Running Epoch 0 of 1:  84%|██████████████████████████████████████████████████▍         | 21/25 [00:46<00:08,  2.23s/it]\u001b[A\n",
            "Running Epoch 0 of 1:  88%|████████████████████████████████████████████████████▊       | 22/25 [00:49<00:06,  2.24s/it]\u001b[A\n",
            "Running Epoch 0 of 1:  92%|███████████████████████████████████████████████████████▏    | 23/25 [00:51<00:04,  2.25s/it]\u001b[A\n",
            "Running Epoch 0 of 1:  96%|█████████████████████████████████████████████████████████▌  | 24/25 [00:53<00:02,  2.25s/it]\u001b[A\n",
            "Running Epoch 0 of 1: 100%|████████████████████████████████████████████████████████████| 25/25 [00:55<00:00,  2.23s/it]\n",
            "Epoch 1 of 1: 100%|██████████████████████████████████████████████████████████████████████| 1/1 [00:55<00:00, 55.78s/it]\n",
            "C:\\Users\\Domenico\\.conda\\envs\\tf\\lib\\site-packages\\simpletransformers\\classification\\classification_model.py:1454: UserWarning: Dataframe headers not specified. Falling back to using column 0 as text and column 1 as labels.\n",
            "  warnings.warn(\n"
          ]
        },
        {
          "output_type": "stream",
          "name": "stdout",
          "text": [
            "\n",
            "NOW EVALUATE THE TEST DF.\n"
          ]
        },
        {
          "output_type": "stream",
          "name": "stderr",
          "text": [
            "  1%|▊                                                                                 | 1/100 [00:07<11:45,  7.12s/it]\n",
            "Running Evaluation: 100%|██████████████████████████████████████████████████████████████| 13/13 [00:07<00:00,  1.81it/s]\n",
            "C:\\Users\\Domenico\\.conda\\envs\\tf\\lib\\site-packages\\simpletransformers\\classification\\classification_model.py:612: UserWarning: Dataframe headers not specified. Falling back to using column 0 as text and column 1 as labels.\n",
            "  warnings.warn(\n"
          ]
        },
        {
          "output_type": "stream",
          "name": "stdout",
          "text": [
            "{'mcc': 0.0, 'tp': 2, 'tn': 48, 'fp': 2, 'fn': 48, 'auroc': 0.46080000000000004, 'auprc': 0.4756635669774305, 'eval_loss': 0.6936083619411175}\n",
            "Correct predictions are:  50\n",
            "Total predictions are:  100\n",
            "Accuracy on test set is: 0.5 \n",
            "\n",
            "\n",
            "\n",
            "EPOCH NUMBER:  1\n",
            "\n",
            "NOW TRAIN THE MODEL.\n"
          ]
        },
        {
          "output_type": "stream",
          "name": "stderr",
          "text": [
            "  0%|▍                                                                                 | 1/200 [00:09<30:15,  9.12s/it]\n",
            "Epoch 1 of 1:   0%|                                                                              | 0/1 [00:00<?, ?it/s]\n",
            "Running Epoch 0 of 1:   0%|                                                                     | 0/25 [00:00<?, ?it/s]\u001b[A\n",
            "Running Epoch 0 of 1:   4%|██▍                                                          | 1/25 [00:02<00:55,  2.30s/it]\u001b[A\n",
            "Running Epoch 0 of 1:   8%|████▉                                                        | 2/25 [00:04<00:52,  2.26s/it]\u001b[A\n",
            "Running Epoch 0 of 1:  12%|███████▎                                                     | 3/25 [00:06<00:49,  2.26s/it]\u001b[A\n",
            "Running Epoch 0 of 1:  16%|█████████▊                                                   | 4/25 [00:09<00:47,  2.26s/it]\u001b[A\n",
            "Running Epoch 0 of 1:  20%|████████████▏                                                | 5/25 [00:11<00:45,  2.27s/it]\u001b[A\n",
            "Running Epoch 0 of 1:  24%|██████████████▋                                              | 6/25 [00:13<00:43,  2.28s/it]\u001b[A\n",
            "Running Epoch 0 of 1:  28%|█████████████████                                            | 7/25 [00:15<00:41,  2.28s/it]\u001b[A\n",
            "Running Epoch 0 of 1:  32%|███████████████████▌                                         | 8/25 [00:18<00:38,  2.28s/it]\u001b[A\n",
            "Running Epoch 0 of 1:  36%|█████████████████████▉                                       | 9/25 [00:20<00:36,  2.28s/it]\u001b[A\n",
            "Running Epoch 0 of 1:  40%|████████████████████████                                    | 10/25 [00:22<00:34,  2.28s/it]\u001b[A\n",
            "Running Epoch 0 of 1:  44%|██████████████████████████▍                                 | 11/25 [00:25<00:31,  2.28s/it]\u001b[A\n",
            "Running Epoch 0 of 1:  48%|████████████████████████████▊                               | 12/25 [00:27<00:29,  2.29s/it]\u001b[A\n",
            "Running Epoch 0 of 1:  52%|███████████████████████████████▏                            | 13/25 [00:29<00:27,  2.29s/it]\u001b[A\n",
            "Running Epoch 0 of 1:  56%|█████████████████████████████████▌                          | 14/25 [00:31<00:25,  2.29s/it]\u001b[A\n",
            "Running Epoch 0 of 1:  60%|████████████████████████████████████                        | 15/25 [00:34<00:22,  2.28s/it]\u001b[A\n",
            "Running Epoch 0 of 1:  64%|██████████████████████████████████████▍                     | 16/25 [00:36<00:20,  2.29s/it]\u001b[A\n",
            "Running Epoch 0 of 1:  68%|████████████████████████████████████████▊                   | 17/25 [00:38<00:18,  2.29s/it]\u001b[A\n",
            "Running Epoch 0 of 1:  72%|███████████████████████████████████████████▏                | 18/25 [00:41<00:15,  2.28s/it]\u001b[A\n",
            "Running Epoch 0 of 1:  76%|█████████████████████████████████████████████▌              | 19/25 [00:43<00:13,  2.28s/it]\u001b[A\n",
            "Running Epoch 0 of 1:  80%|████████████████████████████████████████████████            | 20/25 [00:45<00:11,  2.29s/it]\u001b[A\n",
            "Running Epoch 0 of 1:  84%|██████████████████████████████████████████████████▍         | 21/25 [00:47<00:09,  2.30s/it]\u001b[A\n",
            "Running Epoch 0 of 1:  88%|████████████████████████████████████████████████████▊       | 22/25 [00:50<00:06,  2.30s/it]\u001b[A\n",
            "Running Epoch 0 of 1:  92%|███████████████████████████████████████████████████████▏    | 23/25 [00:52<00:04,  2.30s/it]\u001b[A\n",
            "Running Epoch 0 of 1:  96%|█████████████████████████████████████████████████████████▌  | 24/25 [00:54<00:02,  2.30s/it]\u001b[A\n",
            "Running Epoch 0 of 1: 100%|████████████████████████████████████████████████████████████| 25/25 [00:57<00:00,  2.28s/it]\n",
            "Epoch 1 of 1: 100%|██████████████████████████████████████████████████████████████████████| 1/1 [00:57<00:00, 57.12s/it]\n",
            "C:\\Users\\Domenico\\.conda\\envs\\tf\\lib\\site-packages\\simpletransformers\\classification\\classification_model.py:1454: UserWarning: Dataframe headers not specified. Falling back to using column 0 as text and column 1 as labels.\n",
            "  warnings.warn(\n"
          ]
        },
        {
          "output_type": "stream",
          "name": "stdout",
          "text": [
            "\n",
            "NOW EVALUATE THE TEST DF.\n"
          ]
        },
        {
          "output_type": "stream",
          "name": "stderr",
          "text": [
            "  1%|▊                                                                                 | 1/100 [00:07<11:46,  7.13s/it]\n",
            "Running Evaluation: 100%|██████████████████████████████████████████████████████████████| 13/13 [00:07<00:00,  1.80it/s]\n",
            "C:\\Users\\Domenico\\.conda\\envs\\tf\\lib\\site-packages\\simpletransformers\\classification\\classification_model.py:612: UserWarning: Dataframe headers not specified. Falling back to using column 0 as text and column 1 as labels.\n",
            "  warnings.warn(\n"
          ]
        },
        {
          "output_type": "stream",
          "name": "stdout",
          "text": [
            "{'mcc': 0.0, 'tp': 50, 'tn': 0, 'fp': 50, 'fn': 0, 'auroc': 0.5264, 'auprc': 0.5616404792475264, 'eval_loss': 0.6941698376949017}\n",
            "Correct predictions are:  50\n",
            "Total predictions are:  100\n",
            "Accuracy on test set is: 0.5 \n",
            "\n",
            "\n",
            "\n",
            "EPOCH NUMBER:  2\n",
            "\n",
            "NOW TRAIN THE MODEL.\n"
          ]
        },
        {
          "output_type": "stream",
          "name": "stderr",
          "text": [
            "  0%|▍                                                                                 | 1/200 [00:09<30:35,  9.22s/it]\n",
            "Epoch 1 of 1:   0%|                                                                              | 0/1 [00:00<?, ?it/s]\n",
            "Running Epoch 0 of 1:   0%|                                                                     | 0/25 [00:00<?, ?it/s]\u001b[A\n",
            "Running Epoch 0 of 1:   4%|██▍                                                          | 1/25 [00:02<00:56,  2.34s/it]\u001b[A\n",
            "Running Epoch 0 of 1:   8%|████▉                                                        | 2/25 [00:04<00:52,  2.29s/it]\u001b[A\n",
            "Running Epoch 0 of 1:  12%|███████▎                                                     | 3/25 [00:06<00:50,  2.29s/it]\u001b[A\n",
            "Running Epoch 0 of 1:  16%|█████████▊                                                   | 4/25 [00:09<00:48,  2.30s/it]\u001b[A\n",
            "Running Epoch 0 of 1:  20%|████████████▏                                                | 5/25 [00:11<00:46,  2.32s/it]\u001b[A\n",
            "Running Epoch 0 of 1:  24%|██████████████▋                                              | 6/25 [00:13<00:43,  2.31s/it]\u001b[A\n",
            "Running Epoch 0 of 1:  28%|█████████████████                                            | 7/25 [00:16<00:41,  2.31s/it]\u001b[A\n",
            "Running Epoch 0 of 1:  32%|███████████████████▌                                         | 8/25 [00:18<00:39,  2.31s/it]\u001b[A\n",
            "Running Epoch 0 of 1:  36%|█████████████████████▉                                       | 9/25 [00:20<00:37,  2.34s/it]\u001b[A\n",
            "Running Epoch 0 of 1:  40%|████████████████████████                                    | 10/25 [00:23<00:35,  2.34s/it]\u001b[A\n",
            "Running Epoch 0 of 1:  44%|██████████████████████████▍                                 | 11/25 [00:25<00:32,  2.34s/it]\u001b[A\n",
            "Running Epoch 0 of 1:  48%|████████████████████████████▊                               | 12/25 [00:27<00:30,  2.34s/it]\u001b[A\n",
            "Running Epoch 0 of 1:  52%|███████████████████████████████▏                            | 13/25 [00:30<00:28,  2.35s/it]\u001b[A\n",
            "Running Epoch 0 of 1:  56%|█████████████████████████████████▌                          | 14/25 [00:32<00:25,  2.36s/it]\u001b[A\n",
            "Running Epoch 0 of 1:  60%|████████████████████████████████████                        | 15/25 [00:35<00:23,  2.38s/it]\u001b[A\n",
            "Running Epoch 0 of 1:  64%|██████████████████████████████████████▍                     | 16/25 [00:37<00:21,  2.36s/it]\u001b[A\n",
            "Running Epoch 0 of 1:  68%|████████████████████████████████████████▊                   | 17/25 [00:39<00:18,  2.36s/it]\u001b[A\n",
            "Running Epoch 0 of 1:  72%|███████████████████████████████████████████▏                | 18/25 [00:42<00:16,  2.36s/it]\u001b[A\n",
            "Running Epoch 0 of 1:  76%|█████████████████████████████████████████████▌              | 19/25 [00:44<00:14,  2.35s/it]\u001b[A\n",
            "Running Epoch 0 of 1:  80%|████████████████████████████████████████████████            | 20/25 [00:46<00:11,  2.35s/it]\u001b[A\n",
            "Running Epoch 0 of 1:  84%|██████████████████████████████████████████████████▍         | 21/25 [00:49<00:09,  2.32s/it]\u001b[A\n",
            "Running Epoch 0 of 1:  88%|████████████████████████████████████████████████████▊       | 22/25 [00:51<00:06,  2.29s/it]\u001b[A\n",
            "Running Epoch 0 of 1:  92%|███████████████████████████████████████████████████████▏    | 23/25 [00:53<00:04,  2.28s/it]\u001b[A\n",
            "Running Epoch 0 of 1:  96%|█████████████████████████████████████████████████████████▌  | 24/25 [00:55<00:02,  2.26s/it]\u001b[A\n",
            "Running Epoch 0 of 1: 100%|████████████████████████████████████████████████████████████| 25/25 [00:58<00:00,  2.32s/it]\n",
            "Epoch 1 of 1: 100%|██████████████████████████████████████████████████████████████████████| 1/1 [00:58<00:00, 58.02s/it]\n",
            "C:\\Users\\Domenico\\.conda\\envs\\tf\\lib\\site-packages\\simpletransformers\\classification\\classification_model.py:1454: UserWarning: Dataframe headers not specified. Falling back to using column 0 as text and column 1 as labels.\n",
            "  warnings.warn(\n"
          ]
        },
        {
          "output_type": "stream",
          "name": "stdout",
          "text": [
            "\n",
            "NOW EVALUATE THE TEST DF.\n"
          ]
        },
        {
          "output_type": "stream",
          "name": "stderr",
          "text": [
            "  1%|▊                                                                                 | 1/100 [00:14<24:36, 14.91s/it]\n",
            "Running Evaluation: 100%|██████████████████████████████████████████████████████████████| 13/13 [00:07<00:00,  1.85it/s]\n",
            "C:\\Users\\Domenico\\.conda\\envs\\tf\\lib\\site-packages\\simpletransformers\\classification\\classification_model.py:612: UserWarning: Dataframe headers not specified. Falling back to using column 0 as text and column 1 as labels.\n",
            "  warnings.warn(\n"
          ]
        },
        {
          "output_type": "stream",
          "name": "stdout",
          "text": [
            "{'mcc': 0.0, 'tp': 50, 'tn': 0, 'fp': 50, 'fn': 0, 'auroc': 0.5208, 'auprc': 0.5715774452581407, 'eval_loss': 0.6969727140206557}\n",
            "Correct predictions are:  50\n",
            "Total predictions are:  100\n",
            "Accuracy on test set is: 0.5 \n",
            "\n",
            "\n",
            "\n",
            "EPOCH NUMBER:  3\n",
            "\n",
            "NOW TRAIN THE MODEL.\n"
          ]
        },
        {
          "output_type": "stream",
          "name": "stderr",
          "text": [
            "  0%|▍                                                                                 | 1/200 [00:09<29:53,  9.01s/it]\n",
            "Epoch 1 of 1:   0%|                                                                              | 0/1 [00:00<?, ?it/s]\n",
            "Running Epoch 0 of 1:   0%|                                                                     | 0/25 [00:00<?, ?it/s]\u001b[A\n",
            "Running Epoch 0 of 1:   4%|██▍                                                          | 1/25 [00:02<00:53,  2.23s/it]\u001b[A\n",
            "Running Epoch 0 of 1:   8%|████▉                                                        | 2/25 [00:04<00:51,  2.23s/it]\u001b[A\n",
            "Running Epoch 0 of 1:  12%|███████▎                                                     | 3/25 [00:06<00:49,  2.23s/it]\u001b[A\n",
            "Running Epoch 0 of 1:  16%|█████████▊                                                   | 4/25 [00:08<00:46,  2.22s/it]\u001b[A\n",
            "Running Epoch 0 of 1:  20%|████████████▏                                                | 5/25 [00:11<00:44,  2.22s/it]\u001b[A\n",
            "Running Epoch 0 of 1:  24%|██████████████▋                                              | 6/25 [00:13<00:42,  2.22s/it]\u001b[A\n",
            "Running Epoch 0 of 1:  28%|█████████████████                                            | 7/25 [00:15<00:40,  2.23s/it]\u001b[A\n",
            "Running Epoch 0 of 1:  32%|███████████████████▌                                         | 8/25 [00:17<00:37,  2.23s/it]\u001b[A\n",
            "Running Epoch 0 of 1:  36%|█████████████████████▉                                       | 9/25 [00:20<00:35,  2.23s/it]\u001b[A\n",
            "Running Epoch 0 of 1:  40%|████████████████████████                                    | 10/25 [00:22<00:33,  2.22s/it]\u001b[A\n",
            "Running Epoch 0 of 1:  44%|██████████████████████████▍                                 | 11/25 [00:24<00:31,  2.23s/it]\u001b[A\n",
            "Running Epoch 0 of 1:  48%|████████████████████████████▊                               | 12/25 [00:26<00:28,  2.23s/it]\u001b[A\n",
            "Running Epoch 0 of 1:  52%|███████████████████████████████▏                            | 13/25 [00:28<00:26,  2.23s/it]\u001b[A\n",
            "Running Epoch 0 of 1:  56%|█████████████████████████████████▌                          | 14/25 [00:31<00:24,  2.24s/it]\u001b[A\n",
            "Running Epoch 0 of 1:  60%|████████████████████████████████████                        | 15/25 [00:33<00:22,  2.25s/it]\u001b[A\n",
            "Running Epoch 0 of 1:  64%|██████████████████████████████████████▍                     | 16/25 [00:35<00:20,  2.24s/it]\u001b[A\n",
            "Running Epoch 0 of 1:  68%|████████████████████████████████████████▊                   | 17/25 [00:37<00:17,  2.24s/it]\u001b[A\n",
            "Running Epoch 0 of 1:  72%|███████████████████████████████████████████▏                | 18/25 [00:40<00:15,  2.23s/it]\u001b[A\n",
            "Running Epoch 0 of 1:  76%|█████████████████████████████████████████████▌              | 19/25 [00:42<00:13,  2.23s/it]\u001b[A\n",
            "Running Epoch 0 of 1:  80%|████████████████████████████████████████████████            | 20/25 [00:44<00:11,  2.24s/it]\u001b[A\n",
            "Running Epoch 0 of 1:  84%|██████████████████████████████████████████████████▍         | 21/25 [00:46<00:08,  2.24s/it]\u001b[A\n",
            "Running Epoch 0 of 1:  88%|████████████████████████████████████████████████████▊       | 22/25 [00:49<00:06,  2.24s/it]\u001b[A\n",
            "Running Epoch 0 of 1:  92%|███████████████████████████████████████████████████████▏    | 23/25 [00:51<00:04,  2.24s/it]\u001b[A\n",
            "Running Epoch 0 of 1:  96%|█████████████████████████████████████████████████████████▌  | 24/25 [00:53<00:02,  2.24s/it]\u001b[A\n",
            "Running Epoch 0 of 1: 100%|████████████████████████████████████████████████████████████| 25/25 [00:55<00:00,  2.23s/it]\n",
            "Epoch 1 of 1: 100%|██████████████████████████████████████████████████████████████████████| 1/1 [00:55<00:00, 55.86s/it]\n",
            "C:\\Users\\Domenico\\.conda\\envs\\tf\\lib\\site-packages\\simpletransformers\\classification\\classification_model.py:1454: UserWarning: Dataframe headers not specified. Falling back to using column 0 as text and column 1 as labels.\n",
            "  warnings.warn(\n"
          ]
        },
        {
          "output_type": "stream",
          "name": "stdout",
          "text": [
            "\n",
            "NOW EVALUATE THE TEST DF.\n"
          ]
        },
        {
          "output_type": "stream",
          "name": "stderr",
          "text": [
            "  1%|▊                                                                                 | 1/100 [00:07<11:38,  7.06s/it]\n",
            "Running Evaluation: 100%|██████████████████████████████████████████████████████████████| 13/13 [00:07<00:00,  1.84it/s]\n",
            "C:\\Users\\Domenico\\.conda\\envs\\tf\\lib\\site-packages\\simpletransformers\\classification\\classification_model.py:612: UserWarning: Dataframe headers not specified. Falling back to using column 0 as text and column 1 as labels.\n",
            "  warnings.warn(\n"
          ]
        },
        {
          "output_type": "stream",
          "name": "stdout",
          "text": [
            "{'mcc': 0.0, 'tp': 3, 'tn': 47, 'fp': 3, 'fn': 47, 'auroc': 0.47000000000000003, 'auprc': 0.5052753109739273, 'eval_loss': 0.6966849290407621}\n",
            "Correct predictions are:  50\n",
            "Total predictions are:  100\n",
            "Accuracy on test set is: 0.5 \n",
            "\n",
            "\n",
            "\n",
            "EPOCH NUMBER:  4\n",
            "\n",
            "NOW TRAIN THE MODEL.\n"
          ]
        },
        {
          "output_type": "stream",
          "name": "stderr",
          "text": [
            "  0%|▍                                                                                 | 1/200 [00:08<29:28,  8.89s/it]\n",
            "Epoch 1 of 1:   0%|                                                                              | 0/1 [00:00<?, ?it/s]\n",
            "Running Epoch 0 of 1:   0%|                                                                     | 0/25 [00:00<?, ?it/s]\u001b[A\n",
            "Running Epoch 0 of 1:   4%|██▍                                                          | 1/25 [00:02<00:53,  2.23s/it]\u001b[A\n",
            "Running Epoch 0 of 1:   8%|████▉                                                        | 2/25 [00:04<00:50,  2.21s/it]\u001b[A\n",
            "Running Epoch 0 of 1:  12%|███████▎                                                     | 3/25 [00:06<00:48,  2.22s/it]\u001b[A\n",
            "Running Epoch 0 of 1:  16%|█████████▊                                                   | 4/25 [00:08<00:46,  2.23s/it]\u001b[A\n",
            "Running Epoch 0 of 1:  20%|████████████▏                                                | 5/25 [00:11<00:44,  2.22s/it]\u001b[A\n",
            "Running Epoch 0 of 1:  24%|██████████████▋                                              | 6/25 [00:13<00:42,  2.23s/it]\u001b[A\n",
            "Running Epoch 0 of 1:  28%|█████████████████                                            | 7/25 [00:15<00:40,  2.24s/it]\u001b[A\n",
            "Running Epoch 0 of 1:  32%|███████████████████▌                                         | 8/25 [00:17<00:38,  2.26s/it]\u001b[A\n",
            "Running Epoch 0 of 1:  36%|█████████████████████▉                                       | 9/25 [00:20<00:36,  2.26s/it]\u001b[A\n",
            "Running Epoch 0 of 1:  40%|████████████████████████                                    | 10/25 [00:22<00:34,  2.27s/it]\u001b[A\n",
            "Running Epoch 0 of 1:  44%|██████████████████████████▍                                 | 11/25 [00:24<00:31,  2.28s/it]\u001b[A\n",
            "Running Epoch 0 of 1:  48%|████████████████████████████▊                               | 12/25 [00:27<00:29,  2.28s/it]\u001b[A\n",
            "Running Epoch 0 of 1:  52%|███████████████████████████████▏                            | 13/25 [00:29<00:27,  2.28s/it]\u001b[A\n",
            "Running Epoch 0 of 1:  56%|█████████████████████████████████▌                          | 14/25 [00:31<00:25,  2.28s/it]\u001b[A\n",
            "Running Epoch 0 of 1:  60%|████████████████████████████████████                        | 15/25 [00:33<00:22,  2.29s/it]\u001b[A\n",
            "Running Epoch 0 of 1:  64%|██████████████████████████████████████▍                     | 16/25 [00:36<00:20,  2.29s/it]\u001b[A\n",
            "Running Epoch 0 of 1:  68%|████████████████████████████████████████▊                   | 17/25 [00:38<00:18,  2.29s/it]\u001b[A\n",
            "Running Epoch 0 of 1:  72%|███████████████████████████████████████████▏                | 18/25 [00:40<00:16,  2.30s/it]\u001b[A\n",
            "Running Epoch 0 of 1:  76%|█████████████████████████████████████████████▌              | 19/25 [00:43<00:13,  2.30s/it]\u001b[A\n",
            "Running Epoch 0 of 1:  80%|████████████████████████████████████████████████            | 20/25 [00:45<00:11,  2.30s/it]\u001b[A\n",
            "Running Epoch 0 of 1:  84%|██████████████████████████████████████████████████▍         | 21/25 [00:47<00:09,  2.30s/it]\u001b[A\n",
            "Running Epoch 0 of 1:  88%|████████████████████████████████████████████████████▊       | 22/25 [00:50<00:06,  2.30s/it]\u001b[A\n",
            "Running Epoch 0 of 1:  92%|███████████████████████████████████████████████████████▏    | 23/25 [00:52<00:04,  2.30s/it]\u001b[A\n",
            "Running Epoch 0 of 1:  96%|█████████████████████████████████████████████████████████▌  | 24/25 [00:54<00:02,  2.30s/it]\u001b[A\n",
            "Running Epoch 0 of 1: 100%|████████████████████████████████████████████████████████████| 25/25 [00:56<00:00,  2.28s/it]\n",
            "Epoch 1 of 1: 100%|██████████████████████████████████████████████████████████████████████| 1/1 [00:56<00:00, 56.97s/it]\n",
            "C:\\Users\\Domenico\\.conda\\envs\\tf\\lib\\site-packages\\simpletransformers\\classification\\classification_model.py:1454: UserWarning: Dataframe headers not specified. Falling back to using column 0 as text and column 1 as labels.\n",
            "  warnings.warn(\n"
          ]
        },
        {
          "output_type": "stream",
          "name": "stdout",
          "text": [
            "\n",
            "NOW EVALUATE THE TEST DF.\n"
          ]
        },
        {
          "output_type": "stream",
          "name": "stderr",
          "text": [
            "  1%|▊                                                                                 | 1/100 [00:07<11:47,  7.14s/it]\n",
            "Running Evaluation: 100%|██████████████████████████████████████████████████████████████| 13/13 [00:07<00:00,  1.79it/s]\n",
            "C:\\Users\\Domenico\\.conda\\envs\\tf\\lib\\site-packages\\simpletransformers\\classification\\classification_model.py:612: UserWarning: Dataframe headers not specified. Falling back to using column 0 as text and column 1 as labels.\n",
            "  warnings.warn(\n"
          ]
        },
        {
          "output_type": "stream",
          "name": "stdout",
          "text": [
            "{'mcc': 0.026621743403250103, 'tp': 9, 'tn': 42, 'fp': 8, 'fn': 41, 'auroc': 0.47480000000000006, 'auprc': 0.5162827634772246, 'eval_loss': 0.7220412905399616}\n",
            "Correct predictions are:  51\n",
            "Total predictions are:  100\n",
            "Accuracy on test set is: 0.51 \n",
            "\n",
            "\n",
            "\n",
            "EPOCH NUMBER:  5\n",
            "\n",
            "NOW TRAIN THE MODEL.\n"
          ]
        },
        {
          "output_type": "stream",
          "name": "stderr",
          "text": [
            "  0%|▍                                                                                 | 1/200 [00:09<30:26,  9.18s/it]\n",
            "Epoch 1 of 1:   0%|                                                                              | 0/1 [00:00<?, ?it/s]\n",
            "Running Epoch 0 of 1:   0%|                                                                     | 0/25 [00:00<?, ?it/s]\u001b[A\n",
            "Running Epoch 0 of 1:   4%|██▍                                                          | 1/25 [00:02<00:54,  2.28s/it]\u001b[A\n",
            "Running Epoch 0 of 1:   8%|████▉                                                        | 2/25 [00:04<00:52,  2.29s/it]\u001b[A\n",
            "Running Epoch 0 of 1:  12%|███████▎                                                     | 3/25 [00:06<00:50,  2.29s/it]\u001b[A\n",
            "Running Epoch 0 of 1:  16%|█████████▊                                                   | 4/25 [00:09<00:47,  2.29s/it]\u001b[A\n",
            "Running Epoch 0 of 1:  20%|████████████▏                                                | 5/25 [00:11<00:45,  2.28s/it]\u001b[A\n",
            "Running Epoch 0 of 1:  24%|██████████████▋                                              | 6/25 [00:13<00:43,  2.29s/it]\u001b[A\n",
            "Running Epoch 0 of 1:  28%|█████████████████                                            | 7/25 [00:15<00:41,  2.28s/it]\u001b[A\n",
            "Running Epoch 0 of 1:  32%|███████████████████▌                                         | 8/25 [00:18<00:38,  2.28s/it]\u001b[A\n",
            "Running Epoch 0 of 1:  36%|█████████████████████▉                                       | 9/25 [00:20<00:36,  2.29s/it]\u001b[A\n",
            "Running Epoch 0 of 1:  40%|████████████████████████                                    | 10/25 [00:22<00:34,  2.29s/it]\u001b[A\n",
            "Running Epoch 0 of 1:  44%|██████████████████████████▍                                 | 11/25 [00:25<00:31,  2.28s/it]\u001b[A\n",
            "Running Epoch 0 of 1:  48%|████████████████████████████▊                               | 12/25 [00:27<00:29,  2.28s/it]\u001b[A\n",
            "Running Epoch 0 of 1:  52%|███████████████████████████████▏                            | 13/25 [00:29<00:27,  2.28s/it]\u001b[A\n",
            "Running Epoch 0 of 1:  56%|█████████████████████████████████▌                          | 14/25 [00:31<00:25,  2.29s/it]\u001b[A\n",
            "Running Epoch 0 of 1:  60%|████████████████████████████████████                        | 15/25 [00:34<00:22,  2.28s/it]\u001b[A\n",
            "Running Epoch 0 of 1:  64%|██████████████████████████████████████▍                     | 16/25 [00:36<00:20,  2.29s/it]\u001b[A\n",
            "Running Epoch 0 of 1:  68%|████████████████████████████████████████▊                   | 17/25 [00:38<00:18,  2.30s/it]\u001b[A\n",
            "Running Epoch 0 of 1:  72%|███████████████████████████████████████████▏                | 18/25 [00:41<00:16,  2.30s/it]\u001b[A\n",
            "Running Epoch 0 of 1:  76%|█████████████████████████████████████████████▌              | 19/25 [00:43<00:13,  2.29s/it]\u001b[A\n",
            "Running Epoch 0 of 1:  80%|████████████████████████████████████████████████            | 20/25 [00:45<00:11,  2.30s/it]\u001b[A\n",
            "Running Epoch 0 of 1:  84%|██████████████████████████████████████████████████▍         | 21/25 [00:48<00:09,  2.29s/it]\u001b[A\n",
            "Running Epoch 0 of 1:  88%|████████████████████████████████████████████████████▊       | 22/25 [00:50<00:06,  2.29s/it]\u001b[A\n",
            "Running Epoch 0 of 1:  92%|███████████████████████████████████████████████████████▏    | 23/25 [00:52<00:04,  2.30s/it]\u001b[A\n",
            "Running Epoch 0 of 1:  96%|█████████████████████████████████████████████████████████▌  | 24/25 [00:54<00:02,  2.30s/it]\u001b[A\n",
            "Running Epoch 0 of 1: 100%|████████████████████████████████████████████████████████████| 25/25 [00:57<00:00,  2.29s/it]\n",
            "Epoch 1 of 1: 100%|██████████████████████████████████████████████████████████████████████| 1/1 [00:57<00:00, 57.29s/it]\n",
            "C:\\Users\\Domenico\\.conda\\envs\\tf\\lib\\site-packages\\simpletransformers\\classification\\classification_model.py:1454: UserWarning: Dataframe headers not specified. Falling back to using column 0 as text and column 1 as labels.\n",
            "  warnings.warn(\n"
          ]
        },
        {
          "output_type": "stream",
          "name": "stdout",
          "text": [
            "\n",
            "NOW EVALUATE THE TEST DF.\n"
          ]
        },
        {
          "output_type": "stream",
          "name": "stderr",
          "text": [
            "  1%|▊                                                                                 | 1/100 [00:07<11:52,  7.19s/it]\n",
            "Running Evaluation: 100%|██████████████████████████████████████████████████████████████| 13/13 [00:07<00:00,  1.78it/s]\n",
            "C:\\Users\\Domenico\\.conda\\envs\\tf\\lib\\site-packages\\simpletransformers\\classification\\classification_model.py:612: UserWarning: Dataframe headers not specified. Falling back to using column 0 as text and column 1 as labels.\n",
            "  warnings.warn(\n"
          ]
        },
        {
          "output_type": "stream",
          "name": "stdout",
          "text": [
            "{'mcc': 0.14285714285714285, 'tp': 2, 'tn': 50, 'fp': 0, 'fn': 48, 'auroc': 0.4656, 'auprc': 0.5236059572010657, 'eval_loss': 0.7109999473278339}\n",
            "Correct predictions are:  52\n",
            "Total predictions are:  100\n",
            "Accuracy on test set is: 0.52 \n",
            "\n",
            "\n",
            "\n",
            "EPOCH NUMBER:  6\n",
            "\n",
            "NOW TRAIN THE MODEL.\n"
          ]
        },
        {
          "output_type": "stream",
          "name": "stderr",
          "text": [
            "  0%|▍                                                                                 | 1/200 [00:09<30:05,  9.07s/it]\n",
            "Epoch 1 of 1:   0%|                                                                              | 0/1 [00:00<?, ?it/s]\n",
            "Running Epoch 0 of 1:   0%|                                                                     | 0/25 [00:00<?, ?it/s]\u001b[A\n",
            "Running Epoch 0 of 1:   4%|██▍                                                          | 1/25 [00:02<00:55,  2.29s/it]\u001b[A\n",
            "Running Epoch 0 of 1:   8%|████▉                                                        | 2/25 [00:04<00:52,  2.29s/it]\u001b[A\n",
            "Running Epoch 0 of 1:  12%|███████▎                                                     | 3/25 [00:06<00:50,  2.28s/it]\u001b[A\n",
            "Running Epoch 0 of 1:  16%|█████████▊                                                   | 4/25 [00:09<00:48,  2.30s/it]\u001b[A\n",
            "Running Epoch 0 of 1:  20%|████████████▏                                                | 5/25 [00:11<00:45,  2.30s/it]\u001b[A\n",
            "Running Epoch 0 of 1:  24%|██████████████▋                                              | 6/25 [00:13<00:43,  2.29s/it]\u001b[A\n",
            "Running Epoch 0 of 1:  28%|█████████████████                                            | 7/25 [00:16<00:41,  2.29s/it]\u001b[A\n",
            "Running Epoch 0 of 1:  32%|███████████████████▌                                         | 8/25 [00:18<00:38,  2.28s/it]\u001b[A\n",
            "Running Epoch 0 of 1:  36%|█████████████████████▉                                       | 9/25 [00:20<00:36,  2.29s/it]\u001b[A\n",
            "Running Epoch 0 of 1:  40%|████████████████████████                                    | 10/25 [00:22<00:34,  2.29s/it]\u001b[A\n",
            "Running Epoch 0 of 1:  44%|██████████████████████████▍                                 | 11/25 [00:25<00:32,  2.30s/it]\u001b[A\n",
            "Running Epoch 0 of 1:  48%|████████████████████████████▊                               | 12/25 [00:27<00:29,  2.30s/it]\u001b[A\n",
            "Running Epoch 0 of 1:  52%|███████████████████████████████▏                            | 13/25 [00:29<00:27,  2.29s/it]\u001b[A\n",
            "Running Epoch 0 of 1:  56%|█████████████████████████████████▌                          | 14/25 [00:32<00:25,  2.30s/it]\u001b[A\n",
            "Running Epoch 0 of 1:  60%|████████████████████████████████████                        | 15/25 [00:34<00:22,  2.30s/it]\u001b[A\n",
            "Running Epoch 0 of 1:  64%|██████████████████████████████████████▍                     | 16/25 [00:36<00:20,  2.29s/it]\u001b[A\n",
            "Running Epoch 0 of 1:  68%|████████████████████████████████████████▊                   | 17/25 [00:39<00:18,  2.31s/it]\u001b[A\n",
            "Running Epoch 0 of 1:  72%|███████████████████████████████████████████▏                | 18/25 [00:41<00:16,  2.30s/it]\u001b[A\n",
            "Running Epoch 0 of 1:  76%|█████████████████████████████████████████████▌              | 19/25 [00:43<00:13,  2.31s/it]\u001b[A\n",
            "Running Epoch 0 of 1:  80%|████████████████████████████████████████████████            | 20/25 [00:45<00:11,  2.30s/it]\u001b[A\n",
            "Running Epoch 0 of 1:  84%|██████████████████████████████████████████████████▍         | 21/25 [00:48<00:09,  2.31s/it]\u001b[A\n",
            "Running Epoch 0 of 1:  88%|████████████████████████████████████████████████████▊       | 22/25 [00:50<00:06,  2.31s/it]\u001b[A\n",
            "Running Epoch 0 of 1:  92%|███████████████████████████████████████████████████████▏    | 23/25 [00:52<00:04,  2.31s/it]\u001b[A\n",
            "Running Epoch 0 of 1:  96%|█████████████████████████████████████████████████████████▌  | 24/25 [00:55<00:02,  2.32s/it]\u001b[A\n",
            "Running Epoch 0 of 1: 100%|████████████████████████████████████████████████████████████| 25/25 [00:57<00:00,  2.30s/it]\n",
            "Epoch 1 of 1: 100%|██████████████████████████████████████████████████████████████████████| 1/1 [00:57<00:00, 57.51s/it]\n",
            "C:\\Users\\Domenico\\.conda\\envs\\tf\\lib\\site-packages\\simpletransformers\\classification\\classification_model.py:1454: UserWarning: Dataframe headers not specified. Falling back to using column 0 as text and column 1 as labels.\n",
            "  warnings.warn(\n"
          ]
        },
        {
          "output_type": "stream",
          "name": "stdout",
          "text": [
            "\n",
            "NOW EVALUATE THE TEST DF.\n"
          ]
        },
        {
          "output_type": "stream",
          "name": "stderr",
          "text": [
            "  1%|▊                                                                                 | 1/100 [00:07<11:57,  7.25s/it]\n",
            "Running Evaluation: 100%|██████████████████████████████████████████████████████████████| 13/13 [00:07<00:00,  1.78it/s]\n",
            "C:\\Users\\Domenico\\.conda\\envs\\tf\\lib\\site-packages\\simpletransformers\\classification\\classification_model.py:612: UserWarning: Dataframe headers not specified. Falling back to using column 0 as text and column 1 as labels.\n",
            "  warnings.warn(\n"
          ]
        },
        {
          "output_type": "stream",
          "name": "stdout",
          "text": [
            "{'mcc': 0.10002000600200071, 'tp': 28, 'tn': 27, 'fp': 23, 'fn': 22, 'auroc': 0.5928, 'auprc': 0.6032526970174324, 'eval_loss': 0.6790355948301462}\n",
            "Correct predictions are:  55\n",
            "Total predictions are:  100\n",
            "Accuracy on test set is: 0.55 \n",
            "\n",
            "\n",
            "\n",
            "EPOCH NUMBER:  7\n",
            "\n",
            "NOW TRAIN THE MODEL.\n"
          ]
        },
        {
          "output_type": "stream",
          "name": "stderr",
          "text": [
            "  0%|▍                                                                                 | 1/200 [00:08<29:44,  8.97s/it]\n",
            "Epoch 1 of 1:   0%|                                                                              | 0/1 [00:00<?, ?it/s]\n",
            "Running Epoch 0 of 1:   0%|                                                                     | 0/25 [00:00<?, ?it/s]\u001b[A\n",
            "Running Epoch 0 of 1:   4%|██▍                                                          | 1/25 [00:02<00:55,  2.32s/it]\u001b[A\n",
            "Running Epoch 0 of 1:   8%|████▉                                                        | 2/25 [00:04<00:52,  2.29s/it]\u001b[A\n",
            "Running Epoch 0 of 1:  12%|███████▎                                                     | 3/25 [00:06<00:50,  2.29s/it]\u001b[A\n",
            "Running Epoch 0 of 1:  16%|█████████▊                                                   | 4/25 [00:09<00:48,  2.29s/it]\u001b[A\n",
            "Running Epoch 0 of 1:  20%|████████████▏                                                | 5/25 [00:11<00:45,  2.29s/it]\u001b[A\n",
            "Running Epoch 0 of 1:  24%|██████████████▋                                              | 6/25 [00:13<00:43,  2.29s/it]\u001b[A\n",
            "Running Epoch 0 of 1:  28%|█████████████████                                            | 7/25 [00:16<00:41,  2.29s/it]\u001b[A\n",
            "Running Epoch 0 of 1:  32%|███████████████████▌                                         | 8/25 [00:18<00:39,  2.30s/it]\u001b[A\n",
            "Running Epoch 0 of 1:  36%|█████████████████████▉                                       | 9/25 [00:20<00:36,  2.31s/it]\u001b[A\n",
            "Running Epoch 0 of 1:  40%|████████████████████████                                    | 10/25 [00:22<00:34,  2.30s/it]\u001b[A\n",
            "Running Epoch 0 of 1:  44%|██████████████████████████▍                                 | 11/25 [00:25<00:32,  2.31s/it]\u001b[A\n",
            "Running Epoch 0 of 1:  48%|████████████████████████████▊                               | 12/25 [00:27<00:30,  2.31s/it]\u001b[A\n",
            "Running Epoch 0 of 1:  52%|███████████████████████████████▏                            | 13/25 [00:29<00:27,  2.30s/it]\u001b[A\n",
            "Running Epoch 0 of 1:  56%|█████████████████████████████████▌                          | 14/25 [00:32<00:25,  2.30s/it]\u001b[A\n",
            "Running Epoch 0 of 1:  60%|████████████████████████████████████                        | 15/25 [00:34<00:22,  2.30s/it]\u001b[A\n",
            "Running Epoch 0 of 1:  64%|██████████████████████████████████████▍                     | 16/25 [00:36<00:20,  2.30s/it]\u001b[A\n",
            "Running Epoch 0 of 1:  68%|████████████████████████████████████████▊                   | 17/25 [00:39<00:18,  2.30s/it]\u001b[A\n",
            "Running Epoch 0 of 1:  72%|███████████████████████████████████████████▏                | 18/25 [00:41<00:16,  2.30s/it]\u001b[A\n",
            "Running Epoch 0 of 1:  76%|█████████████████████████████████████████████▌              | 19/25 [00:43<00:13,  2.30s/it]\u001b[A\n",
            "Running Epoch 0 of 1:  80%|████████████████████████████████████████████████            | 20/25 [00:45<00:11,  2.30s/it]\u001b[A\n",
            "Running Epoch 0 of 1:  84%|██████████████████████████████████████████████████▍         | 21/25 [00:48<00:09,  2.31s/it]\u001b[A\n",
            "Running Epoch 0 of 1:  88%|████████████████████████████████████████████████████▊       | 22/25 [00:50<00:06,  2.31s/it]\u001b[A\n",
            "Running Epoch 0 of 1:  92%|███████████████████████████████████████████████████████▏    | 23/25 [00:52<00:04,  2.30s/it]\u001b[A\n",
            "Running Epoch 0 of 1:  96%|█████████████████████████████████████████████████████████▌  | 24/25 [00:55<00:02,  2.30s/it]\u001b[A\n",
            "Running Epoch 0 of 1: 100%|████████████████████████████████████████████████████████████| 25/25 [00:57<00:00,  2.30s/it]\n",
            "Epoch 1 of 1: 100%|██████████████████████████████████████████████████████████████████████| 1/1 [00:57<00:00, 57.53s/it]\n",
            "C:\\Users\\Domenico\\.conda\\envs\\tf\\lib\\site-packages\\simpletransformers\\classification\\classification_model.py:1454: UserWarning: Dataframe headers not specified. Falling back to using column 0 as text and column 1 as labels.\n",
            "  warnings.warn(\n"
          ]
        },
        {
          "output_type": "stream",
          "name": "stdout",
          "text": [
            "\n",
            "NOW EVALUATE THE TEST DF.\n"
          ]
        },
        {
          "output_type": "stream",
          "name": "stderr",
          "text": [
            "  1%|▊                                                                                 | 1/100 [00:07<11:45,  7.13s/it]\n",
            "Running Evaluation: 100%|██████████████████████████████████████████████████████████████| 13/13 [00:07<00:00,  1.78it/s]\n",
            "C:\\Users\\Domenico\\.conda\\envs\\tf\\lib\\site-packages\\simpletransformers\\classification\\classification_model.py:612: UserWarning: Dataframe headers not specified. Falling back to using column 0 as text and column 1 as labels.\n",
            "  warnings.warn(\n"
          ]
        },
        {
          "output_type": "stream",
          "name": "stdout",
          "text": [
            "{'mcc': 0.0445435403187374, 'tp': 15, 'tn': 37, 'fp': 13, 'fn': 35, 'auroc': 0.5327999999999999, 'auprc': 0.5674425296546419, 'eval_loss': 0.9335036598719083}\n",
            "Correct predictions are:  52\n",
            "Total predictions are:  100\n",
            "Accuracy on test set is: 0.52 \n",
            "\n",
            "\n",
            "\n",
            "EPOCH NUMBER:  8\n",
            "\n",
            "NOW TRAIN THE MODEL.\n"
          ]
        },
        {
          "output_type": "stream",
          "name": "stderr",
          "text": [
            "  0%|▍                                                                                 | 1/200 [00:09<30:22,  9.16s/it]\n",
            "Epoch 1 of 1:   0%|                                                                              | 0/1 [00:00<?, ?it/s]\n",
            "Running Epoch 0 of 1:   0%|                                                                     | 0/25 [00:00<?, ?it/s]\u001b[A\n",
            "Running Epoch 0 of 1:   4%|██▍                                                          | 1/25 [00:02<00:55,  2.32s/it]\u001b[A\n",
            "Running Epoch 0 of 1:   8%|████▉                                                        | 2/25 [00:04<00:53,  2.30s/it]\u001b[A\n",
            "Running Epoch 0 of 1:  12%|███████▎                                                     | 3/25 [00:06<00:50,  2.30s/it]\u001b[A\n",
            "Running Epoch 0 of 1:  16%|█████████▊                                                   | 4/25 [00:09<00:48,  2.30s/it]\u001b[A\n",
            "Running Epoch 0 of 1:  20%|████████████▏                                                | 5/25 [00:11<00:45,  2.29s/it]\u001b[A\n",
            "Running Epoch 0 of 1:  24%|██████████████▋                                              | 6/25 [00:13<00:43,  2.29s/it]\u001b[A\n",
            "Running Epoch 0 of 1:  28%|█████████████████                                            | 7/25 [00:16<00:41,  2.29s/it]\u001b[A\n",
            "Running Epoch 0 of 1:  32%|███████████████████▌                                         | 8/25 [00:18<00:38,  2.28s/it]\u001b[A\n",
            "Running Epoch 0 of 1:  36%|█████████████████████▉                                       | 9/25 [00:20<00:36,  2.29s/it]\u001b[A\n",
            "Running Epoch 0 of 1:  40%|████████████████████████                                    | 10/25 [00:22<00:34,  2.29s/it]\u001b[A\n",
            "Running Epoch 0 of 1:  44%|██████████████████████████▍                                 | 11/25 [00:25<00:32,  2.29s/it]\u001b[A\n",
            "Running Epoch 0 of 1:  48%|████████████████████████████▊                               | 12/25 [00:27<00:29,  2.29s/it]\u001b[A\n",
            "Running Epoch 0 of 1:  52%|███████████████████████████████▏                            | 13/25 [00:29<00:27,  2.29s/it]\u001b[A\n",
            "Running Epoch 0 of 1:  56%|█████████████████████████████████▌                          | 14/25 [00:32<00:25,  2.29s/it]\u001b[A\n",
            "Running Epoch 0 of 1:  60%|████████████████████████████████████                        | 15/25 [00:34<00:22,  2.30s/it]\u001b[A\n",
            "Running Epoch 0 of 1:  64%|██████████████████████████████████████▍                     | 16/25 [00:36<00:20,  2.33s/it]\u001b[A\n",
            "Running Epoch 0 of 1:  68%|████████████████████████████████████████▊                   | 17/25 [00:39<00:18,  2.36s/it]\u001b[A\n",
            "Running Epoch 0 of 1:  72%|███████████████████████████████████████████▏                | 18/25 [00:41<00:16,  2.38s/it]\u001b[A\n",
            "Running Epoch 0 of 1:  76%|█████████████████████████████████████████████▌              | 19/25 [00:44<00:14,  2.38s/it]\u001b[A\n",
            "Running Epoch 0 of 1:  80%|████████████████████████████████████████████████            | 20/25 [00:46<00:11,  2.37s/it]\u001b[A\n",
            "Running Epoch 0 of 1:  84%|██████████████████████████████████████████████████▍         | 21/25 [00:48<00:09,  2.37s/it]\u001b[A\n",
            "Running Epoch 0 of 1:  88%|████████████████████████████████████████████████████▊       | 22/25 [00:51<00:07,  2.37s/it]\u001b[A\n",
            "Running Epoch 0 of 1:  92%|███████████████████████████████████████████████████████▏    | 23/25 [00:53<00:04,  2.35s/it]\u001b[A\n",
            "Running Epoch 0 of 1:  96%|█████████████████████████████████████████████████████████▌  | 24/25 [00:55<00:02,  2.34s/it]\u001b[A\n",
            "Running Epoch 0 of 1: 100%|████████████████████████████████████████████████████████████| 25/25 [00:58<00:00,  2.32s/it]\n",
            "Epoch 1 of 1: 100%|██████████████████████████████████████████████████████████████████████| 1/1 [00:58<00:00, 58.07s/it]\n",
            "C:\\Users\\Domenico\\.conda\\envs\\tf\\lib\\site-packages\\simpletransformers\\classification\\classification_model.py:1454: UserWarning: Dataframe headers not specified. Falling back to using column 0 as text and column 1 as labels.\n",
            "  warnings.warn(\n"
          ]
        },
        {
          "output_type": "stream",
          "name": "stdout",
          "text": [
            "\n",
            "NOW EVALUATE THE TEST DF.\n"
          ]
        },
        {
          "output_type": "stream",
          "name": "stderr",
          "text": [
            "  1%|▊                                                                                 | 1/100 [00:07<11:55,  7.23s/it]\n",
            "Running Evaluation: 100%|██████████████████████████████████████████████████████████████| 13/13 [00:07<00:00,  1.78it/s]\n",
            "C:\\Users\\Domenico\\.conda\\envs\\tf\\lib\\site-packages\\simpletransformers\\classification\\classification_model.py:612: UserWarning: Dataframe headers not specified. Falling back to using column 0 as text and column 1 as labels.\n",
            "  warnings.warn(\n"
          ]
        },
        {
          "output_type": "stream",
          "name": "stdout",
          "text": [
            "{'mcc': -0.040824829046386304, 'tp': 29, 'tn': 19, 'fp': 31, 'fn': 21, 'auroc': 0.5167999999999999, 'auprc': 0.5638938792432157, 'eval_loss': 1.104006792490299}\n",
            "Correct predictions are:  48\n",
            "Total predictions are:  100\n",
            "Accuracy on test set is: 0.48 \n",
            "\n",
            "\n",
            "\n",
            "EPOCH NUMBER:  9\n",
            "\n",
            "NOW TRAIN THE MODEL.\n"
          ]
        },
        {
          "output_type": "stream",
          "name": "stderr",
          "text": [
            "  0%|▍                                                                                 | 1/200 [00:09<30:13,  9.11s/it]\n",
            "Epoch 1 of 1:   0%|                                                                              | 0/1 [00:00<?, ?it/s]\n",
            "Running Epoch 0 of 1:   0%|                                                                     | 0/25 [00:00<?, ?it/s]\u001b[A\n",
            "Running Epoch 0 of 1:   4%|██▍                                                          | 1/25 [00:02<00:55,  2.32s/it]\u001b[A\n",
            "Running Epoch 0 of 1:   8%|████▉                                                        | 2/25 [00:04<00:53,  2.30s/it]\u001b[A\n",
            "Running Epoch 0 of 1:  12%|███████▎                                                     | 3/25 [00:06<00:50,  2.29s/it]\u001b[A\n",
            "Running Epoch 0 of 1:  16%|█████████▊                                                   | 4/25 [00:09<00:48,  2.30s/it]\u001b[A\n",
            "Running Epoch 0 of 1:  20%|████████████▏                                                | 5/25 [00:11<00:45,  2.30s/it]\u001b[A\n",
            "Running Epoch 0 of 1:  24%|██████████████▋                                              | 6/25 [00:13<00:43,  2.30s/it]\u001b[A\n",
            "Running Epoch 0 of 1:  28%|█████████████████                                            | 7/25 [00:16<00:41,  2.29s/it]\u001b[A\n",
            "Running Epoch 0 of 1:  32%|███████████████████▌                                         | 8/25 [00:18<00:38,  2.29s/it]\u001b[A\n",
            "Running Epoch 0 of 1:  36%|█████████████████████▉                                       | 9/25 [00:20<00:36,  2.29s/it]\u001b[A\n",
            "Running Epoch 0 of 1:  40%|████████████████████████                                    | 10/25 [00:22<00:34,  2.29s/it]\u001b[A\n",
            "Running Epoch 0 of 1:  44%|██████████████████████████▍                                 | 11/25 [00:25<00:32,  2.30s/it]\u001b[A\n",
            "Running Epoch 0 of 1:  48%|████████████████████████████▊                               | 12/25 [00:27<00:29,  2.30s/it]\u001b[A\n",
            "Running Epoch 0 of 1:  52%|███████████████████████████████▏                            | 13/25 [00:29<00:27,  2.29s/it]\u001b[A\n",
            "Running Epoch 0 of 1:  56%|█████████████████████████████████▌                          | 14/25 [00:32<00:25,  2.30s/it]\u001b[A\n",
            "Running Epoch 0 of 1:  60%|████████████████████████████████████                        | 15/25 [00:34<00:23,  2.31s/it]\u001b[A\n",
            "Running Epoch 0 of 1:  64%|██████████████████████████████████████▍                     | 16/25 [00:36<00:20,  2.30s/it]\u001b[A\n",
            "Running Epoch 0 of 1:  68%|████████████████████████████████████████▊                   | 17/25 [00:39<00:18,  2.30s/it]\u001b[A\n",
            "Running Epoch 0 of 1:  72%|███████████████████████████████████████████▏                | 18/25 [00:41<00:16,  2.32s/it]\u001b[A\n",
            "Running Epoch 0 of 1:  76%|█████████████████████████████████████████████▌              | 19/25 [00:43<00:13,  2.32s/it]\u001b[A\n",
            "Running Epoch 0 of 1:  80%|████████████████████████████████████████████████            | 20/25 [00:46<00:11,  2.32s/it]\u001b[A\n",
            "Running Epoch 0 of 1:  84%|██████████████████████████████████████████████████▍         | 21/25 [00:48<00:09,  2.31s/it]\u001b[A\n",
            "Running Epoch 0 of 1:  88%|████████████████████████████████████████████████████▊       | 22/25 [00:50<00:06,  2.31s/it]\u001b[A\n",
            "Running Epoch 0 of 1:  92%|███████████████████████████████████████████████████████▏    | 23/25 [00:52<00:04,  2.30s/it]\u001b[A\n",
            "Running Epoch 0 of 1:  96%|█████████████████████████████████████████████████████████▌  | 24/25 [00:55<00:02,  2.30s/it]\u001b[A\n",
            "Running Epoch 0 of 1: 100%|████████████████████████████████████████████████████████████| 25/25 [00:57<00:00,  2.30s/it]\n",
            "Epoch 1 of 1: 100%|██████████████████████████████████████████████████████████████████████| 1/1 [00:57<00:00, 57.56s/it]\n",
            "C:\\Users\\Domenico\\.conda\\envs\\tf\\lib\\site-packages\\simpletransformers\\classification\\classification_model.py:1454: UserWarning: Dataframe headers not specified. Falling back to using column 0 as text and column 1 as labels.\n",
            "  warnings.warn(\n"
          ]
        },
        {
          "output_type": "stream",
          "name": "stdout",
          "text": [
            "\n",
            "NOW EVALUATE THE TEST DF.\n"
          ]
        },
        {
          "output_type": "stream",
          "name": "stderr",
          "text": [
            "  1%|▊                                                                                 | 1/100 [00:07<11:45,  7.12s/it]\n",
            "Running Evaluation: 100%|██████████████████████████████████████████████████████████████| 13/13 [00:07<00:00,  1.78it/s]\n"
          ]
        },
        {
          "output_type": "stream",
          "name": "stdout",
          "text": [
            "{'mcc': 0.0802572353905128, 'tp': 25, 'tn': 29, 'fp': 21, 'fn': 25, 'auroc': 0.5152, 'auprc': 0.5693218519510633, 'eval_loss': 1.4803338601039007}\n",
            "Correct predictions are:  54\n",
            "Total predictions are:  100\n",
            "Accuracy on test set is: 0.54 \n",
            "\n",
            "\n",
            "[0.5, 0.5, 0.5, 0.5, 0.51, 0.52, 0.55, 0.52, 0.48, 0.54]\n"
          ]
        },
        {
          "output_type": "stream",
          "name": "stderr",
          "text": [
            "Some weights of the model checkpoint at roberta-base were not used when initializing RobertaForSequenceClassification: ['lm_head.bias', 'lm_head.layer_norm.bias', 'roberta.pooler.dense.weight', 'lm_head.decoder.weight', 'roberta.pooler.dense.bias', 'lm_head.layer_norm.weight', 'lm_head.dense.bias', 'lm_head.dense.weight']\n",
            "- This IS expected if you are initializing RobertaForSequenceClassification from the checkpoint of a model trained on another task or with another architecture (e.g. initializing a BertForSequenceClassification model from a BertForPreTraining model).\n",
            "- This IS NOT expected if you are initializing RobertaForSequenceClassification from the checkpoint of a model that you expect to be exactly identical (initializing a BertForSequenceClassification model from a BertForSequenceClassification model).\n",
            "Some weights of RobertaForSequenceClassification were not initialized from the model checkpoint at roberta-base and are newly initialized: ['classifier.out_proj.weight', 'classifier.dense.weight', 'classifier.out_proj.bias', 'classifier.dense.bias']\n",
            "You should probably TRAIN this model on a down-stream task to be able to use it for predictions and inference.\n",
            "C:\\Users\\Domenico\\.conda\\envs\\tf\\lib\\site-packages\\simpletransformers\\classification\\classification_model.py:612: UserWarning: Dataframe headers not specified. Falling back to using column 0 as text and column 1 as labels.\n",
            "  warnings.warn(\n"
          ]
        },
        {
          "output_type": "stream",
          "name": "stdout",
          "text": [
            "\n",
            "EPOCH NUMBER:  0\n",
            "\n",
            "NOW TRAIN THE MODEL.\n"
          ]
        },
        {
          "output_type": "stream",
          "name": "stderr",
          "text": [
            "  0%|▍                                                                                 | 1/200 [00:09<30:08,  9.09s/it]\n",
            "Epoch 1 of 1:   0%|                                                                              | 0/1 [00:00<?, ?it/s]\n",
            "Running Epoch 0 of 1:   0%|                                                                     | 0/25 [00:00<?, ?it/s]\u001b[A\n",
            "Running Epoch 0 of 1:   4%|██▍                                                          | 1/25 [00:02<00:52,  2.20s/it]\u001b[A\n",
            "Running Epoch 0 of 1:   8%|████▉                                                        | 2/25 [00:04<00:52,  2.26s/it]\u001b[A\n",
            "Running Epoch 0 of 1:  12%|███████▎                                                     | 3/25 [00:06<00:50,  2.28s/it]\u001b[A\n",
            "Running Epoch 0 of 1:  16%|█████████▊                                                   | 4/25 [00:09<00:47,  2.27s/it]\u001b[A\n",
            "Running Epoch 0 of 1:  20%|████████████▏                                                | 5/25 [00:11<00:45,  2.29s/it]\u001b[A\n",
            "Running Epoch 0 of 1:  24%|██████████████▋                                              | 6/25 [00:13<00:43,  2.29s/it]\u001b[A\n",
            "Running Epoch 0 of 1:  28%|█████████████████                                            | 7/25 [00:15<00:41,  2.29s/it]\u001b[A\n",
            "Running Epoch 0 of 1:  32%|███████████████████▌                                         | 8/25 [00:18<00:38,  2.29s/it]\u001b[A\n",
            "Running Epoch 0 of 1:  36%|█████████████████████▉                                       | 9/25 [00:20<00:36,  2.31s/it]\u001b[A\n",
            "Running Epoch 0 of 1:  40%|████████████████████████                                    | 10/25 [00:22<00:34,  2.30s/it]\u001b[A\n",
            "Running Epoch 0 of 1:  44%|██████████████████████████▍                                 | 11/25 [00:25<00:32,  2.30s/it]\u001b[A\n",
            "Running Epoch 0 of 1:  48%|████████████████████████████▊                               | 12/25 [00:27<00:29,  2.31s/it]\u001b[A\n",
            "Running Epoch 0 of 1:  52%|███████████████████████████████▏                            | 13/25 [00:29<00:27,  2.30s/it]\u001b[A\n",
            "Running Epoch 0 of 1:  56%|█████████████████████████████████▌                          | 14/25 [00:32<00:25,  2.30s/it]\u001b[A\n",
            "Running Epoch 0 of 1:  60%|████████████████████████████████████                        | 15/25 [00:34<00:23,  2.30s/it]\u001b[A\n",
            "Running Epoch 0 of 1:  64%|██████████████████████████████████████▍                     | 16/25 [00:36<00:20,  2.31s/it]\u001b[A\n",
            "Running Epoch 0 of 1:  68%|████████████████████████████████████████▊                   | 17/25 [00:39<00:18,  2.31s/it]\u001b[A\n",
            "Running Epoch 0 of 1:  72%|███████████████████████████████████████████▏                | 18/25 [00:41<00:16,  2.31s/it]\u001b[A\n",
            "Running Epoch 0 of 1:  76%|█████████████████████████████████████████████▌              | 19/25 [00:43<00:13,  2.31s/it]\u001b[A\n",
            "Running Epoch 0 of 1:  80%|████████████████████████████████████████████████            | 20/25 [00:45<00:11,  2.30s/it]\u001b[A\n",
            "Running Epoch 0 of 1:  84%|██████████████████████████████████████████████████▍         | 21/25 [00:48<00:09,  2.30s/it]\u001b[A\n",
            "Running Epoch 0 of 1:  88%|████████████████████████████████████████████████████▊       | 22/25 [00:50<00:06,  2.31s/it]\u001b[A\n",
            "Running Epoch 0 of 1:  92%|███████████████████████████████████████████████████████▏    | 23/25 [00:52<00:04,  2.30s/it]\u001b[A\n",
            "Running Epoch 0 of 1:  96%|█████████████████████████████████████████████████████████▌  | 24/25 [00:55<00:02,  2.30s/it]\u001b[A\n",
            "Running Epoch 0 of 1: 100%|████████████████████████████████████████████████████████████| 25/25 [00:57<00:00,  2.30s/it]\n",
            "Epoch 1 of 1: 100%|██████████████████████████████████████████████████████████████████████| 1/1 [00:57<00:00, 57.45s/it]\n",
            "C:\\Users\\Domenico\\.conda\\envs\\tf\\lib\\site-packages\\simpletransformers\\classification\\classification_model.py:1454: UserWarning: Dataframe headers not specified. Falling back to using column 0 as text and column 1 as labels.\n",
            "  warnings.warn(\n"
          ]
        },
        {
          "output_type": "stream",
          "name": "stdout",
          "text": [
            "\n",
            "NOW EVALUATE THE TEST DF.\n"
          ]
        },
        {
          "output_type": "stream",
          "name": "stderr",
          "text": [
            "  1%|▊                                                                                 | 1/100 [00:07<11:55,  7.23s/it]\n",
            "Running Evaluation: 100%|██████████████████████████████████████████████████████████████| 13/13 [00:07<00:00,  1.78it/s]\n",
            "C:\\Users\\Domenico\\.conda\\envs\\tf\\lib\\site-packages\\simpletransformers\\classification\\classification_model.py:612: UserWarning: Dataframe headers not specified. Falling back to using column 0 as text and column 1 as labels.\n",
            "  warnings.warn(\n"
          ]
        },
        {
          "output_type": "stream",
          "name": "stdout",
          "text": [
            "{'mcc': 0.0, 'tp': 0, 'tn': 50, 'fp': 0, 'fn': 50, 'auroc': 0.44, 'auprc': 0.5195877330986739, 'eval_loss': 0.6962406772833604}\n",
            "Correct predictions are:  50\n",
            "Total predictions are:  100\n",
            "Accuracy on test set is: 0.5 \n",
            "\n",
            "\n",
            "\n",
            "EPOCH NUMBER:  1\n",
            "\n",
            "NOW TRAIN THE MODEL.\n"
          ]
        },
        {
          "output_type": "stream",
          "name": "stderr",
          "text": [
            "  0%|▍                                                                                 | 1/200 [00:09<30:39,  9.25s/it]\n",
            "Epoch 1 of 1:   0%|                                                                              | 0/1 [00:00<?, ?it/s]\n",
            "Running Epoch 0 of 1:   0%|                                                                     | 0/25 [00:00<?, ?it/s]\u001b[A\n",
            "Running Epoch 0 of 1:   4%|██▍                                                          | 1/25 [00:02<00:55,  2.32s/it]\u001b[A\n",
            "Running Epoch 0 of 1:   8%|████▉                                                        | 2/25 [00:04<00:52,  2.30s/it]\u001b[A\n",
            "Running Epoch 0 of 1:  12%|███████▎                                                     | 3/25 [00:06<00:50,  2.29s/it]\u001b[A\n",
            "Running Epoch 0 of 1:  16%|█████████▊                                                   | 4/25 [00:09<00:47,  2.28s/it]\u001b[A\n",
            "Running Epoch 0 of 1:  20%|████████████▏                                                | 5/25 [00:11<00:45,  2.28s/it]\u001b[A\n",
            "Running Epoch 0 of 1:  24%|██████████████▋                                              | 6/25 [00:13<00:43,  2.30s/it]\u001b[A\n",
            "Running Epoch 0 of 1:  28%|█████████████████                                            | 7/25 [00:16<00:41,  2.29s/it]\u001b[A\n",
            "Running Epoch 0 of 1:  32%|███████████████████▌                                         | 8/25 [00:18<00:38,  2.28s/it]\u001b[A\n",
            "Running Epoch 0 of 1:  36%|█████████████████████▉                                       | 9/25 [00:20<00:36,  2.29s/it]\u001b[A\n",
            "Running Epoch 0 of 1:  40%|████████████████████████                                    | 10/25 [00:22<00:34,  2.29s/it]\u001b[A\n",
            "Running Epoch 0 of 1:  44%|██████████████████████████▍                                 | 11/25 [00:25<00:32,  2.29s/it]\u001b[A\n",
            "Running Epoch 0 of 1:  48%|████████████████████████████▊                               | 12/25 [00:27<00:29,  2.30s/it]\u001b[A\n",
            "Running Epoch 0 of 1:  52%|███████████████████████████████▏                            | 13/25 [00:29<00:27,  2.30s/it]\u001b[A\n",
            "Running Epoch 0 of 1:  56%|█████████████████████████████████▌                          | 14/25 [00:32<00:25,  2.30s/it]\u001b[A\n",
            "Running Epoch 0 of 1:  60%|████████████████████████████████████                        | 15/25 [00:34<00:22,  2.29s/it]\u001b[A\n",
            "Running Epoch 0 of 1:  64%|██████████████████████████████████████▍                     | 16/25 [00:36<00:20,  2.30s/it]\u001b[A\n",
            "Running Epoch 0 of 1:  68%|████████████████████████████████████████▊                   | 17/25 [00:38<00:18,  2.30s/it]\u001b[A\n",
            "Running Epoch 0 of 1:  72%|███████████████████████████████████████████▏                | 18/25 [00:41<00:16,  2.29s/it]\u001b[A\n",
            "Running Epoch 0 of 1:  76%|█████████████████████████████████████████████▌              | 19/25 [00:43<00:13,  2.30s/it]\u001b[A\n",
            "Running Epoch 0 of 1:  80%|████████████████████████████████████████████████            | 20/25 [00:45<00:11,  2.30s/it]\u001b[A\n",
            "Running Epoch 0 of 1:  84%|██████████████████████████████████████████████████▍         | 21/25 [00:48<00:09,  2.30s/it]\u001b[A\n",
            "Running Epoch 0 of 1:  88%|████████████████████████████████████████████████████▊       | 22/25 [00:50<00:06,  2.29s/it]\u001b[A\n",
            "Running Epoch 0 of 1:  92%|███████████████████████████████████████████████████████▏    | 23/25 [00:52<00:04,  2.30s/it]\u001b[A\n",
            "Running Epoch 0 of 1:  96%|█████████████████████████████████████████████████████████▌  | 24/25 [00:55<00:02,  2.30s/it]\u001b[A\n",
            "Running Epoch 0 of 1: 100%|████████████████████████████████████████████████████████████| 25/25 [00:57<00:00,  2.29s/it]\n",
            "Epoch 1 of 1: 100%|██████████████████████████████████████████████████████████████████████| 1/1 [00:57<00:00, 57.35s/it]\n",
            "C:\\Users\\Domenico\\.conda\\envs\\tf\\lib\\site-packages\\simpletransformers\\classification\\classification_model.py:1454: UserWarning: Dataframe headers not specified. Falling back to using column 0 as text and column 1 as labels.\n",
            "  warnings.warn(\n"
          ]
        },
        {
          "output_type": "stream",
          "name": "stdout",
          "text": [
            "\n",
            "NOW EVALUATE THE TEST DF.\n"
          ]
        },
        {
          "output_type": "stream",
          "name": "stderr",
          "text": [
            "  1%|▊                                                                                 | 1/100 [00:07<12:08,  7.36s/it]\n",
            "Running Evaluation: 100%|██████████████████████████████████████████████████████████████| 13/13 [00:07<00:00,  1.79it/s]\n",
            "C:\\Users\\Domenico\\.conda\\envs\\tf\\lib\\site-packages\\simpletransformers\\classification\\classification_model.py:612: UserWarning: Dataframe headers not specified. Falling back to using column 0 as text and column 1 as labels.\n",
            "  warnings.warn(\n"
          ]
        },
        {
          "output_type": "stream",
          "name": "stdout",
          "text": [
            "{'mcc': -0.17149858514250885, 'tp': 30, 'tn': 12, 'fp': 38, 'fn': 20, 'auroc': 0.41, 'auprc': 0.4509294126774814, 'eval_loss': 0.6991480955710778}\n",
            "Correct predictions are:  42\n",
            "Total predictions are:  100\n",
            "Accuracy on test set is: 0.42 \n",
            "\n",
            "\n",
            "\n",
            "EPOCH NUMBER:  2\n",
            "\n",
            "NOW TRAIN THE MODEL.\n"
          ]
        },
        {
          "output_type": "stream",
          "name": "stderr",
          "text": [
            "  0%|▍                                                                                 | 1/200 [00:09<30:27,  9.18s/it]\n",
            "Epoch 1 of 1:   0%|                                                                              | 0/1 [00:00<?, ?it/s]\n",
            "Running Epoch 0 of 1:   0%|                                                                     | 0/25 [00:00<?, ?it/s]\u001b[A\n",
            "Running Epoch 0 of 1:   4%|██▍                                                          | 1/25 [00:02<00:55,  2.30s/it]\u001b[A\n",
            "Running Epoch 0 of 1:   8%|████▉                                                        | 2/25 [00:04<00:52,  2.28s/it]\u001b[A\n",
            "Running Epoch 0 of 1:  12%|███████▎                                                     | 3/25 [00:06<00:50,  2.29s/it]\u001b[A\n",
            "Running Epoch 0 of 1:  16%|█████████▊                                                   | 4/25 [00:09<00:48,  2.29s/it]\u001b[A\n",
            "Running Epoch 0 of 1:  20%|████████████▏                                                | 5/25 [00:11<00:45,  2.28s/it]\u001b[A\n",
            "Running Epoch 0 of 1:  24%|██████████████▋                                              | 6/25 [00:13<00:43,  2.28s/it]\u001b[A\n",
            "Running Epoch 0 of 1:  28%|█████████████████                                            | 7/25 [00:15<00:41,  2.28s/it]\u001b[A\n",
            "Running Epoch 0 of 1:  32%|███████████████████▌                                         | 8/25 [00:18<00:38,  2.28s/it]\u001b[A\n",
            "Running Epoch 0 of 1:  36%|█████████████████████▉                                       | 9/25 [00:20<00:36,  2.29s/it]\u001b[A\n",
            "Running Epoch 0 of 1:  40%|████████████████████████                                    | 10/25 [00:22<00:34,  2.29s/it]\u001b[A\n",
            "Running Epoch 0 of 1:  44%|██████████████████████████▍                                 | 11/25 [00:25<00:32,  2.30s/it]\u001b[A\n",
            "Running Epoch 0 of 1:  48%|████████████████████████████▊                               | 12/25 [00:27<00:29,  2.29s/it]\u001b[A\n",
            "Running Epoch 0 of 1:  52%|███████████████████████████████▏                            | 13/25 [00:29<00:27,  2.29s/it]\u001b[A\n",
            "Running Epoch 0 of 1:  56%|█████████████████████████████████▌                          | 14/25 [00:32<00:25,  2.29s/it]\u001b[A\n",
            "Running Epoch 0 of 1:  60%|████████████████████████████████████                        | 15/25 [00:34<00:22,  2.29s/it]\u001b[A\n",
            "Running Epoch 0 of 1:  64%|██████████████████████████████████████▍                     | 16/25 [00:36<00:20,  2.29s/it]\u001b[A\n",
            "Running Epoch 0 of 1:  68%|████████████████████████████████████████▊                   | 17/25 [00:38<00:18,  2.30s/it]\u001b[A\n",
            "Running Epoch 0 of 1:  72%|███████████████████████████████████████████▏                | 18/25 [00:41<00:16,  2.30s/it]\u001b[A\n",
            "Running Epoch 0 of 1:  76%|█████████████████████████████████████████████▌              | 19/25 [00:43<00:13,  2.30s/it]\u001b[A\n",
            "Running Epoch 0 of 1:  80%|████████████████████████████████████████████████            | 20/25 [00:45<00:11,  2.32s/it]\u001b[A\n",
            "Running Epoch 0 of 1:  84%|██████████████████████████████████████████████████▍         | 21/25 [00:48<00:09,  2.31s/it]\u001b[A\n",
            "Running Epoch 0 of 1:  88%|████████████████████████████████████████████████████▊       | 22/25 [00:50<00:06,  2.30s/it]\u001b[A\n",
            "Running Epoch 0 of 1:  92%|███████████████████████████████████████████████████████▏    | 23/25 [00:52<00:04,  2.31s/it]\u001b[A\n",
            "Running Epoch 0 of 1:  96%|█████████████████████████████████████████████████████████▌  | 24/25 [00:55<00:02,  2.31s/it]\u001b[A\n",
            "Running Epoch 0 of 1: 100%|████████████████████████████████████████████████████████████| 25/25 [00:57<00:00,  2.30s/it]\n",
            "Epoch 1 of 1: 100%|██████████████████████████████████████████████████████████████████████| 1/1 [00:57<00:00, 57.42s/it]\n",
            "C:\\Users\\Domenico\\.conda\\envs\\tf\\lib\\site-packages\\simpletransformers\\classification\\classification_model.py:1454: UserWarning: Dataframe headers not specified. Falling back to using column 0 as text and column 1 as labels.\n",
            "  warnings.warn(\n"
          ]
        },
        {
          "output_type": "stream",
          "name": "stdout",
          "text": [
            "\n",
            "NOW EVALUATE THE TEST DF.\n"
          ]
        },
        {
          "output_type": "stream",
          "name": "stderr",
          "text": [
            "  1%|▊                                                                                 | 1/100 [00:07<11:50,  7.18s/it]\n",
            "Running Evaluation: 100%|██████████████████████████████████████████████████████████████| 13/13 [00:07<00:00,  1.77it/s]\n",
            "C:\\Users\\Domenico\\.conda\\envs\\tf\\lib\\site-packages\\simpletransformers\\classification\\classification_model.py:612: UserWarning: Dataframe headers not specified. Falling back to using column 0 as text and column 1 as labels.\n",
            "  warnings.warn(\n"
          ]
        },
        {
          "output_type": "stream",
          "name": "stdout",
          "text": [
            "{'mcc': -0.04222003309207491, 'tp': 32, 'tn': 16, 'fp': 34, 'fn': 18, 'auroc': 0.4508, 'auprc': 0.5133075147618091, 'eval_loss': 0.6994178937031672}\n",
            "Correct predictions are:  48\n",
            "Total predictions are:  100\n",
            "Accuracy on test set is: 0.48 \n",
            "\n",
            "\n",
            "\n",
            "EPOCH NUMBER:  3\n",
            "\n",
            "NOW TRAIN THE MODEL.\n"
          ]
        },
        {
          "output_type": "stream",
          "name": "stderr",
          "text": [
            "  0%|▍                                                                                 | 1/200 [00:09<30:20,  9.15s/it]\n",
            "Epoch 1 of 1:   0%|                                                                              | 0/1 [00:00<?, ?it/s]\n",
            "Running Epoch 0 of 1:   0%|                                                                     | 0/25 [00:00<?, ?it/s]\u001b[A\n",
            "Running Epoch 0 of 1:   4%|██▍                                                          | 1/25 [00:02<00:55,  2.31s/it]\u001b[A\n",
            "Running Epoch 0 of 1:   8%|████▉                                                        | 2/25 [00:04<00:52,  2.28s/it]\u001b[A\n",
            "Running Epoch 0 of 1:  12%|███████▎                                                     | 3/25 [00:06<00:49,  2.27s/it]\u001b[A\n",
            "Running Epoch 0 of 1:  16%|█████████▊                                                   | 4/25 [00:09<00:47,  2.28s/it]\u001b[A\n",
            "Running Epoch 0 of 1:  20%|████████████▏                                                | 5/25 [00:11<00:45,  2.28s/it]\u001b[A\n",
            "Running Epoch 0 of 1:  24%|██████████████▋                                              | 6/25 [00:13<00:43,  2.28s/it]\u001b[A\n",
            "Running Epoch 0 of 1:  28%|█████████████████                                            | 7/25 [00:15<00:41,  2.29s/it]\u001b[A\n",
            "Running Epoch 0 of 1:  32%|███████████████████▌                                         | 8/25 [00:18<00:38,  2.29s/it]\u001b[A\n",
            "Running Epoch 0 of 1:  36%|█████████████████████▉                                       | 9/25 [00:20<00:36,  2.29s/it]\u001b[A\n",
            "Running Epoch 0 of 1:  40%|████████████████████████                                    | 10/25 [00:22<00:34,  2.29s/it]\u001b[A\n",
            "Running Epoch 0 of 1:  44%|██████████████████████████▍                                 | 11/25 [00:25<00:32,  2.31s/it]\u001b[A\n",
            "Running Epoch 0 of 1:  48%|████████████████████████████▊                               | 12/25 [00:27<00:29,  2.30s/it]\u001b[A\n",
            "Running Epoch 0 of 1:  52%|███████████████████████████████▏                            | 13/25 [00:29<00:27,  2.29s/it]\u001b[A\n",
            "Running Epoch 0 of 1:  56%|█████████████████████████████████▌                          | 14/25 [00:32<00:25,  2.30s/it]\u001b[A\n",
            "Running Epoch 0 of 1:  60%|████████████████████████████████████                        | 15/25 [00:34<00:23,  2.30s/it]\u001b[A\n",
            "Running Epoch 0 of 1:  64%|██████████████████████████████████████▍                     | 16/25 [00:36<00:20,  2.29s/it]\u001b[A\n",
            "Running Epoch 0 of 1:  68%|████████████████████████████████████████▊                   | 17/25 [00:38<00:18,  2.30s/it]\u001b[A\n",
            "Running Epoch 0 of 1:  72%|███████████████████████████████████████████▏                | 18/25 [00:41<00:16,  2.30s/it]\u001b[A\n",
            "Running Epoch 0 of 1:  76%|█████████████████████████████████████████████▌              | 19/25 [00:43<00:13,  2.30s/it]\u001b[A\n",
            "Running Epoch 0 of 1:  80%|████████████████████████████████████████████████            | 20/25 [00:45<00:11,  2.30s/it]\u001b[A\n",
            "Running Epoch 0 of 1:  84%|██████████████████████████████████████████████████▍         | 21/25 [00:48<00:09,  2.29s/it]\u001b[A\n",
            "Running Epoch 0 of 1:  88%|████████████████████████████████████████████████████▊       | 22/25 [00:50<00:06,  2.30s/it]\u001b[A\n",
            "Running Epoch 0 of 1:  92%|███████████████████████████████████████████████████████▏    | 23/25 [00:52<00:04,  2.30s/it]\u001b[A\n",
            "Running Epoch 0 of 1:  96%|█████████████████████████████████████████████████████████▌  | 24/25 [00:55<00:02,  2.31s/it]\u001b[A\n",
            "Running Epoch 0 of 1: 100%|████████████████████████████████████████████████████████████| 25/25 [00:57<00:00,  2.30s/it]\n",
            "Epoch 1 of 1: 100%|██████████████████████████████████████████████████████████████████████| 1/1 [00:57<00:00, 57.41s/it]\n",
            "C:\\Users\\Domenico\\.conda\\envs\\tf\\lib\\site-packages\\simpletransformers\\classification\\classification_model.py:1454: UserWarning: Dataframe headers not specified. Falling back to using column 0 as text and column 1 as labels.\n",
            "  warnings.warn(\n"
          ]
        },
        {
          "output_type": "stream",
          "name": "stdout",
          "text": [
            "\n",
            "NOW EVALUATE THE TEST DF.\n"
          ]
        },
        {
          "output_type": "stream",
          "name": "stderr",
          "text": [
            "  1%|▊                                                                                 | 1/100 [00:07<11:45,  7.12s/it]\n",
            "Running Evaluation: 100%|██████████████████████████████████████████████████████████████| 13/13 [00:07<00:00,  1.78it/s]\n",
            "C:\\Users\\Domenico\\.conda\\envs\\tf\\lib\\site-packages\\simpletransformers\\classification\\classification_model.py:612: UserWarning: Dataframe headers not specified. Falling back to using column 0 as text and column 1 as labels.\n",
            "  warnings.warn(\n"
          ]
        },
        {
          "output_type": "stream",
          "name": "stdout",
          "text": [
            "{'mcc': -0.0576390417704235, 'tp': 6, 'tn': 42, 'fp': 8, 'fn': 44, 'auroc': 0.4204, 'auprc': 0.4855942577230588, 'eval_loss': 0.7330866226783166}\n",
            "Correct predictions are:  48\n",
            "Total predictions are:  100\n",
            "Accuracy on test set is: 0.48 \n",
            "\n",
            "\n",
            "\n",
            "EPOCH NUMBER:  4\n",
            "\n",
            "NOW TRAIN THE MODEL.\n"
          ]
        },
        {
          "output_type": "stream",
          "name": "stderr",
          "text": [
            "  0%|▍                                                                                 | 1/200 [00:09<30:36,  9.23s/it]\n",
            "Epoch 1 of 1:   0%|                                                                              | 0/1 [00:00<?, ?it/s]\n",
            "Running Epoch 0 of 1:   0%|                                                                     | 0/25 [00:00<?, ?it/s]\u001b[A\n",
            "Running Epoch 0 of 1:   4%|██▍                                                          | 1/25 [00:02<00:56,  2.34s/it]\u001b[A\n",
            "Running Epoch 0 of 1:   8%|████▉                                                        | 2/25 [00:04<00:52,  2.30s/it]\u001b[A\n",
            "Running Epoch 0 of 1:  12%|███████▎                                                     | 3/25 [00:06<00:50,  2.30s/it]\u001b[A\n",
            "Running Epoch 0 of 1:  16%|█████████▊                                                   | 4/25 [00:09<00:48,  2.30s/it]\u001b[A\n",
            "Running Epoch 0 of 1:  20%|████████████▏                                                | 5/25 [00:11<00:45,  2.30s/it]\u001b[A\n",
            "Running Epoch 0 of 1:  24%|██████████████▋                                              | 6/25 [00:13<00:43,  2.30s/it]\u001b[A\n",
            "Running Epoch 0 of 1:  28%|█████████████████                                            | 7/25 [00:16<00:41,  2.29s/it]\u001b[A\n",
            "Running Epoch 0 of 1:  32%|███████████████████▌                                         | 8/25 [00:18<00:39,  2.30s/it]\u001b[A\n",
            "Running Epoch 0 of 1:  36%|█████████████████████▉                                       | 9/25 [00:20<00:36,  2.29s/it]\u001b[A\n",
            "Running Epoch 0 of 1:  40%|████████████████████████                                    | 10/25 [00:22<00:34,  2.29s/it]\u001b[A\n",
            "Running Epoch 0 of 1:  44%|██████████████████████████▍                                 | 11/25 [00:25<00:32,  2.30s/it]\u001b[A\n",
            "Running Epoch 0 of 1:  48%|████████████████████████████▊                               | 12/25 [00:27<00:29,  2.30s/it]\u001b[A\n",
            "Running Epoch 0 of 1:  52%|███████████████████████████████▏                            | 13/25 [00:29<00:27,  2.30s/it]\u001b[A\n",
            "Running Epoch 0 of 1:  56%|█████████████████████████████████▌                          | 14/25 [00:32<00:25,  2.29s/it]\u001b[A\n",
            "Running Epoch 0 of 1:  60%|████████████████████████████████████                        | 15/25 [00:34<00:23,  2.30s/it]\u001b[A\n",
            "Running Epoch 0 of 1:  64%|██████████████████████████████████████▍                     | 16/25 [00:36<00:20,  2.30s/it]\u001b[A\n",
            "Running Epoch 0 of 1:  68%|████████████████████████████████████████▊                   | 17/25 [00:39<00:18,  2.29s/it]\u001b[A\n",
            "Running Epoch 0 of 1:  72%|███████████████████████████████████████████▏                | 18/25 [00:41<00:16,  2.30s/it]\u001b[A\n",
            "Running Epoch 0 of 1:  76%|█████████████████████████████████████████████▌              | 19/25 [00:43<00:13,  2.30s/it]\u001b[A\n",
            "Running Epoch 0 of 1:  80%|████████████████████████████████████████████████            | 20/25 [00:45<00:11,  2.30s/it]\u001b[A\n",
            "Running Epoch 0 of 1:  84%|██████████████████████████████████████████████████▍         | 21/25 [00:48<00:09,  2.30s/it]\u001b[A\n",
            "Running Epoch 0 of 1:  88%|████████████████████████████████████████████████████▊       | 22/25 [00:50<00:06,  2.30s/it]\u001b[A\n",
            "Running Epoch 0 of 1:  92%|███████████████████████████████████████████████████████▏    | 23/25 [00:52<00:04,  2.29s/it]\u001b[A\n",
            "Running Epoch 0 of 1:  96%|█████████████████████████████████████████████████████████▌  | 24/25 [00:55<00:02,  2.29s/it]\u001b[A\n",
            "Running Epoch 0 of 1: 100%|████████████████████████████████████████████████████████████| 25/25 [00:57<00:00,  2.30s/it]\n",
            "Epoch 1 of 1: 100%|██████████████████████████████████████████████████████████████████████| 1/1 [00:57<00:00, 57.40s/it]\n",
            "C:\\Users\\Domenico\\.conda\\envs\\tf\\lib\\site-packages\\simpletransformers\\classification\\classification_model.py:1454: UserWarning: Dataframe headers not specified. Falling back to using column 0 as text and column 1 as labels.\n",
            "  warnings.warn(\n"
          ]
        },
        {
          "output_type": "stream",
          "name": "stdout",
          "text": [
            "\n",
            "NOW EVALUATE THE TEST DF.\n"
          ]
        },
        {
          "output_type": "stream",
          "name": "stderr",
          "text": [
            "  1%|▊                                                                                 | 1/100 [00:07<11:51,  7.18s/it]\n",
            "Running Evaluation: 100%|██████████████████████████████████████████████████████████████| 13/13 [00:07<00:00,  1.78it/s]\n",
            "C:\\Users\\Domenico\\.conda\\envs\\tf\\lib\\site-packages\\simpletransformers\\classification\\classification_model.py:612: UserWarning: Dataframe headers not specified. Falling back to using column 0 as text and column 1 as labels.\n",
            "  warnings.warn(\n"
          ]
        },
        {
          "output_type": "stream",
          "name": "stdout",
          "text": [
            "{'mcc': -0.08058229640253803, 'tp': 20, 'tn': 26, 'fp': 24, 'fn': 30, 'auroc': 0.44400000000000006, 'auprc': 0.47594402589318135, 'eval_loss': 0.7178608179092407}\n",
            "Correct predictions are:  46\n",
            "Total predictions are:  100\n",
            "Accuracy on test set is: 0.46 \n",
            "\n",
            "\n",
            "\n",
            "EPOCH NUMBER:  5\n",
            "\n",
            "NOW TRAIN THE MODEL.\n"
          ]
        },
        {
          "output_type": "stream",
          "name": "stderr",
          "text": [
            "  0%|▍                                                                                 | 1/200 [00:09<30:00,  9.05s/it]\n",
            "Epoch 1 of 1:   0%|                                                                              | 0/1 [00:00<?, ?it/s]\n",
            "Running Epoch 0 of 1:   0%|                                                                     | 0/25 [00:00<?, ?it/s]\u001b[A\n",
            "Running Epoch 0 of 1:   4%|██▍                                                          | 1/25 [00:02<00:55,  2.30s/it]\u001b[A\n",
            "Running Epoch 0 of 1:   8%|████▉                                                        | 2/25 [00:04<00:51,  2.26s/it]\u001b[A\n",
            "Running Epoch 0 of 1:  12%|███████▎                                                     | 3/25 [00:06<00:50,  2.28s/it]\u001b[A\n",
            "Running Epoch 0 of 1:  16%|█████████▊                                                   | 4/25 [00:09<00:48,  2.29s/it]\u001b[A\n",
            "Running Epoch 0 of 1:  20%|████████████▏                                                | 5/25 [00:11<00:45,  2.28s/it]\u001b[A\n",
            "Running Epoch 0 of 1:  24%|██████████████▋                                              | 6/25 [00:13<00:43,  2.29s/it]\u001b[A\n",
            "Running Epoch 0 of 1:  28%|█████████████████                                            | 7/25 [00:16<00:41,  2.29s/it]\u001b[A\n",
            "Running Epoch 0 of 1:  32%|███████████████████▌                                         | 8/25 [00:18<00:38,  2.29s/it]\u001b[A\n",
            "Running Epoch 0 of 1:  36%|█████████████████████▉                                       | 9/25 [00:20<00:36,  2.28s/it]\u001b[A\n",
            "Running Epoch 0 of 1:  40%|████████████████████████                                    | 10/25 [00:22<00:34,  2.29s/it]\u001b[A\n",
            "Running Epoch 0 of 1:  44%|██████████████████████████▍                                 | 11/25 [00:25<00:32,  2.29s/it]\u001b[A\n",
            "Running Epoch 0 of 1:  48%|████████████████████████████▊                               | 12/25 [00:27<00:29,  2.28s/it]\u001b[A\n",
            "Running Epoch 0 of 1:  52%|███████████████████████████████▏                            | 13/25 [00:29<00:27,  2.29s/it]\u001b[A\n",
            "Running Epoch 0 of 1:  56%|█████████████████████████████████▌                          | 14/25 [00:32<00:25,  2.30s/it]\u001b[A\n",
            "Running Epoch 0 of 1:  60%|████████████████████████████████████                        | 15/25 [00:34<00:22,  2.29s/it]\u001b[A\n",
            "Running Epoch 0 of 1:  64%|██████████████████████████████████████▍                     | 16/25 [00:36<00:20,  2.30s/it]\u001b[A\n",
            "Running Epoch 0 of 1:  68%|████████████████████████████████████████▊                   | 17/25 [00:38<00:18,  2.30s/it]\u001b[A\n",
            "Running Epoch 0 of 1:  72%|███████████████████████████████████████████▏                | 18/25 [00:41<00:16,  2.29s/it]\u001b[A\n",
            "Running Epoch 0 of 1:  76%|█████████████████████████████████████████████▌              | 19/25 [00:43<00:13,  2.29s/it]\u001b[A\n",
            "Running Epoch 0 of 1:  80%|████████████████████████████████████████████████            | 20/25 [00:45<00:11,  2.30s/it]\u001b[A\n",
            "Running Epoch 0 of 1:  84%|██████████████████████████████████████████████████▍         | 21/25 [00:48<00:09,  2.30s/it]\u001b[A\n",
            "Running Epoch 0 of 1:  88%|████████████████████████████████████████████████████▊       | 22/25 [00:50<00:06,  2.30s/it]\u001b[A\n",
            "Running Epoch 0 of 1:  92%|███████████████████████████████████████████████████████▏    | 23/25 [00:52<00:04,  2.31s/it]\u001b[A\n",
            "Running Epoch 0 of 1:  96%|█████████████████████████████████████████████████████████▌  | 24/25 [00:55<00:02,  2.30s/it]\u001b[A\n",
            "Running Epoch 0 of 1: 100%|████████████████████████████████████████████████████████████| 25/25 [00:57<00:00,  2.29s/it]\n",
            "Epoch 1 of 1: 100%|██████████████████████████████████████████████████████████████████████| 1/1 [00:57<00:00, 57.34s/it]\n",
            "C:\\Users\\Domenico\\.conda\\envs\\tf\\lib\\site-packages\\simpletransformers\\classification\\classification_model.py:1454: UserWarning: Dataframe headers not specified. Falling back to using column 0 as text and column 1 as labels.\n",
            "  warnings.warn(\n"
          ]
        },
        {
          "output_type": "stream",
          "name": "stdout",
          "text": [
            "\n",
            "NOW EVALUATE THE TEST DF.\n"
          ]
        },
        {
          "output_type": "stream",
          "name": "stderr",
          "text": [
            "  1%|▊                                                                                 | 1/100 [00:07<11:47,  7.15s/it]\n",
            "Running Evaluation: 100%|██████████████████████████████████████████████████████████████| 13/13 [00:07<00:00,  1.77it/s]\n",
            "C:\\Users\\Domenico\\.conda\\envs\\tf\\lib\\site-packages\\simpletransformers\\classification\\classification_model.py:612: UserWarning: Dataframe headers not specified. Falling back to using column 0 as text and column 1 as labels.\n",
            "  warnings.warn(\n"
          ]
        },
        {
          "output_type": "stream",
          "name": "stdout",
          "text": [
            "{'mcc': 0.14139250356818595, 'tp': 32, 'tn': 25, 'fp': 25, 'fn': 18, 'auroc': 0.5347999999999999, 'auprc': 0.5803074813587605, 'eval_loss': 0.7806511429639963}\n",
            "Correct predictions are:  57\n",
            "Total predictions are:  100\n",
            "Accuracy on test set is: 0.57 \n",
            "\n",
            "\n",
            "\n",
            "EPOCH NUMBER:  6\n",
            "\n",
            "NOW TRAIN THE MODEL.\n"
          ]
        },
        {
          "output_type": "stream",
          "name": "stderr",
          "text": [
            "  0%|▍                                                                                 | 1/200 [00:09<30:55,  9.33s/it]\n",
            "Epoch 1 of 1:   0%|                                                                              | 0/1 [00:00<?, ?it/s]\n",
            "Running Epoch 0 of 1:   0%|                                                                     | 0/25 [00:00<?, ?it/s]\u001b[A\n",
            "Running Epoch 0 of 1:   4%|██▍                                                          | 1/25 [00:02<00:55,  2.31s/it]\u001b[A\n",
            "Running Epoch 0 of 1:   8%|████▉                                                        | 2/25 [00:04<00:52,  2.28s/it]\u001b[A\n",
            "Running Epoch 0 of 1:  12%|███████▎                                                     | 3/25 [00:06<00:50,  2.30s/it]\u001b[A\n",
            "Running Epoch 0 of 1:  16%|█████████▊                                                   | 4/25 [00:09<00:48,  2.30s/it]\u001b[A\n",
            "Running Epoch 0 of 1:  20%|████████████▏                                                | 5/25 [00:11<00:45,  2.29s/it]\u001b[A\n",
            "Running Epoch 0 of 1:  24%|██████████████▋                                              | 6/25 [00:13<00:43,  2.29s/it]\u001b[A\n",
            "Running Epoch 0 of 1:  28%|█████████████████                                            | 7/25 [00:16<00:41,  2.29s/it]\u001b[A\n",
            "Running Epoch 0 of 1:  32%|███████████████████▌                                         | 8/25 [00:18<00:38,  2.29s/it]\u001b[A\n",
            "Running Epoch 0 of 1:  36%|█████████████████████▉                                       | 9/25 [00:20<00:36,  2.29s/it]\u001b[A\n",
            "Running Epoch 0 of 1:  40%|████████████████████████                                    | 10/25 [00:22<00:34,  2.30s/it]\u001b[A\n",
            "Running Epoch 0 of 1:  44%|██████████████████████████▍                                 | 11/25 [00:25<00:32,  2.30s/it]\u001b[A\n",
            "Running Epoch 0 of 1:  48%|████████████████████████████▊                               | 12/25 [00:27<00:29,  2.30s/it]\u001b[A\n",
            "Running Epoch 0 of 1:  52%|███████████████████████████████▏                            | 13/25 [00:29<00:27,  2.30s/it]\u001b[A\n",
            "Running Epoch 0 of 1:  56%|█████████████████████████████████▌                          | 14/25 [00:32<00:25,  2.31s/it]\u001b[A\n",
            "Running Epoch 0 of 1:  60%|████████████████████████████████████                        | 15/25 [00:34<00:22,  2.29s/it]\u001b[A\n",
            "Running Epoch 0 of 1:  64%|██████████████████████████████████████▍                     | 16/25 [00:36<00:20,  2.30s/it]\u001b[A\n",
            "Running Epoch 0 of 1:  68%|████████████████████████████████████████▊                   | 17/25 [00:39<00:18,  2.30s/it]\u001b[A\n",
            "Running Epoch 0 of 1:  72%|███████████████████████████████████████████▏                | 18/25 [00:41<00:16,  2.30s/it]\u001b[A\n",
            "Running Epoch 0 of 1:  76%|█████████████████████████████████████████████▌              | 19/25 [00:43<00:13,  2.29s/it]\u001b[A\n",
            "Running Epoch 0 of 1:  80%|████████████████████████████████████████████████            | 20/25 [00:45<00:11,  2.30s/it]\u001b[A\n",
            "Running Epoch 0 of 1:  84%|██████████████████████████████████████████████████▍         | 21/25 [00:48<00:09,  2.30s/it]\u001b[A\n",
            "Running Epoch 0 of 1:  88%|████████████████████████████████████████████████████▊       | 22/25 [00:50<00:06,  2.30s/it]\u001b[A\n",
            "Running Epoch 0 of 1:  92%|███████████████████████████████████████████████████████▏    | 23/25 [00:52<00:04,  2.30s/it]\u001b[A\n",
            "Running Epoch 0 of 1:  96%|█████████████████████████████████████████████████████████▌  | 24/25 [00:55<00:02,  2.29s/it]\u001b[A\n",
            "Running Epoch 0 of 1: 100%|████████████████████████████████████████████████████████████| 25/25 [00:57<00:00,  2.29s/it]\n",
            "Epoch 1 of 1: 100%|██████████████████████████████████████████████████████████████████████| 1/1 [00:57<00:00, 57.36s/it]\n",
            "C:\\Users\\Domenico\\.conda\\envs\\tf\\lib\\site-packages\\simpletransformers\\classification\\classification_model.py:1454: UserWarning: Dataframe headers not specified. Falling back to using column 0 as text and column 1 as labels.\n",
            "  warnings.warn(\n"
          ]
        },
        {
          "output_type": "stream",
          "name": "stdout",
          "text": [
            "\n",
            "NOW EVALUATE THE TEST DF.\n"
          ]
        },
        {
          "output_type": "stream",
          "name": "stderr",
          "text": [
            "  1%|▊                                                                                 | 1/100 [00:07<11:52,  7.20s/it]\n",
            "Running Evaluation: 100%|██████████████████████████████████████████████████████████████| 13/13 [00:07<00:00,  1.77it/s]\n",
            "C:\\Users\\Domenico\\.conda\\envs\\tf\\lib\\site-packages\\simpletransformers\\classification\\classification_model.py:612: UserWarning: Dataframe headers not specified. Falling back to using column 0 as text and column 1 as labels.\n",
            "  warnings.warn(\n"
          ]
        },
        {
          "output_type": "stream",
          "name": "stdout",
          "text": [
            "{'mcc': -0.08444006618414981, 'tp': 15, 'tn': 31, 'fp': 19, 'fn': 35, 'auroc': 0.4636, 'auprc': 0.49325468190523675, 'eval_loss': 0.8450906505951514}\n",
            "Correct predictions are:  46\n",
            "Total predictions are:  100\n",
            "Accuracy on test set is: 0.46 \n",
            "\n",
            "\n",
            "\n",
            "EPOCH NUMBER:  7\n",
            "\n",
            "NOW TRAIN THE MODEL.\n"
          ]
        },
        {
          "output_type": "stream",
          "name": "stderr",
          "text": [
            "  0%|▍                                                                                 | 1/200 [00:09<30:26,  9.18s/it]\n",
            "Epoch 1 of 1:   0%|                                                                              | 0/1 [00:00<?, ?it/s]\n",
            "Running Epoch 0 of 1:   0%|                                                                     | 0/25 [00:00<?, ?it/s]\u001b[A\n",
            "Running Epoch 0 of 1:   4%|██▍                                                          | 1/25 [00:02<00:55,  2.30s/it]\u001b[A\n",
            "Running Epoch 0 of 1:   8%|████▉                                                        | 2/25 [00:04<00:52,  2.30s/it]\u001b[A\n",
            "Running Epoch 0 of 1:  12%|███████▎                                                     | 3/25 [00:06<00:50,  2.28s/it]\u001b[A\n",
            "Running Epoch 0 of 1:  16%|█████████▊                                                   | 4/25 [00:09<00:48,  2.30s/it]\u001b[A\n",
            "Running Epoch 0 of 1:  20%|████████████▏                                                | 5/25 [00:11<00:46,  2.31s/it]\u001b[A\n",
            "Running Epoch 0 of 1:  24%|██████████████▋                                              | 6/25 [00:13<00:43,  2.30s/it]\u001b[A\n",
            "Running Epoch 0 of 1:  28%|█████████████████                                            | 7/25 [00:16<00:41,  2.29s/it]\u001b[A\n",
            "Running Epoch 0 of 1:  32%|███████████████████▌                                         | 8/25 [00:18<00:39,  2.30s/it]\u001b[A\n",
            "Running Epoch 0 of 1:  36%|█████████████████████▉                                       | 9/25 [00:20<00:36,  2.29s/it]\u001b[A\n",
            "Running Epoch 0 of 1:  40%|████████████████████████                                    | 10/25 [00:22<00:34,  2.29s/it]\u001b[A\n",
            "Running Epoch 0 of 1:  44%|██████████████████████████▍                                 | 11/25 [00:25<00:32,  2.30s/it]\u001b[A\n",
            "Running Epoch 0 of 1:  48%|████████████████████████████▊                               | 12/25 [00:27<00:29,  2.31s/it]\u001b[A\n",
            "Running Epoch 0 of 1:  52%|███████████████████████████████▏                            | 13/25 [00:29<00:27,  2.30s/it]\u001b[A\n",
            "Running Epoch 0 of 1:  56%|█████████████████████████████████▌                          | 14/25 [00:32<00:25,  2.30s/it]\u001b[A\n",
            "Running Epoch 0 of 1:  60%|████████████████████████████████████                        | 15/25 [00:34<00:23,  2.30s/it]\u001b[A\n",
            "Running Epoch 0 of 1:  64%|██████████████████████████████████████▍                     | 16/25 [00:36<00:20,  2.30s/it]\u001b[A\n",
            "Running Epoch 0 of 1:  68%|████████████████████████████████████████▊                   | 17/25 [00:39<00:18,  2.30s/it]\u001b[A\n",
            "Running Epoch 0 of 1:  72%|███████████████████████████████████████████▏                | 18/25 [00:41<00:16,  2.31s/it]\u001b[A\n",
            "Running Epoch 0 of 1:  76%|█████████████████████████████████████████████▌              | 19/25 [00:43<00:13,  2.30s/it]\u001b[A\n",
            "Running Epoch 0 of 1:  80%|████████████████████████████████████████████████            | 20/25 [00:45<00:11,  2.29s/it]\u001b[A\n",
            "Running Epoch 0 of 1:  84%|██████████████████████████████████████████████████▍         | 21/25 [00:48<00:09,  2.30s/it]\u001b[A\n",
            "Running Epoch 0 of 1:  88%|████████████████████████████████████████████████████▊       | 22/25 [00:50<00:06,  2.30s/it]\u001b[A\n",
            "Running Epoch 0 of 1:  92%|███████████████████████████████████████████████████████▏    | 23/25 [00:52<00:04,  2.29s/it]\u001b[A\n",
            "Running Epoch 0 of 1:  96%|█████████████████████████████████████████████████████████▌  | 24/25 [00:55<00:02,  2.30s/it]\u001b[A\n",
            "Running Epoch 0 of 1: 100%|████████████████████████████████████████████████████████████| 25/25 [00:57<00:00,  2.30s/it]\n",
            "Epoch 1 of 1: 100%|██████████████████████████████████████████████████████████████████████| 1/1 [00:57<00:00, 57.48s/it]\n",
            "C:\\Users\\Domenico\\.conda\\envs\\tf\\lib\\site-packages\\simpletransformers\\classification\\classification_model.py:1454: UserWarning: Dataframe headers not specified. Falling back to using column 0 as text and column 1 as labels.\n",
            "  warnings.warn(\n"
          ]
        },
        {
          "output_type": "stream",
          "name": "stdout",
          "text": [
            "\n",
            "NOW EVALUATE THE TEST DF.\n"
          ]
        },
        {
          "output_type": "stream",
          "name": "stderr",
          "text": [
            "  1%|▊                                                                                 | 1/100 [00:07<11:47,  7.15s/it]\n",
            "Running Evaluation: 100%|██████████████████████████████████████████████████████████████| 13/13 [00:07<00:00,  1.77it/s]\n",
            "C:\\Users\\Domenico\\.conda\\envs\\tf\\lib\\site-packages\\simpletransformers\\classification\\classification_model.py:612: UserWarning: Dataframe headers not specified. Falling back to using column 0 as text and column 1 as labels.\n",
            "  warnings.warn(\n"
          ]
        },
        {
          "output_type": "stream",
          "name": "stdout",
          "text": [
            "{'mcc': 0.08058229640253803, 'tp': 24, 'tn': 30, 'fp': 20, 'fn': 26, 'auroc': 0.5248, 'auprc': 0.5443116093550349, 'eval_loss': 1.0746541756850023}\n",
            "Correct predictions are:  54\n",
            "Total predictions are:  100\n",
            "Accuracy on test set is: 0.54 \n",
            "\n",
            "\n",
            "\n",
            "EPOCH NUMBER:  8\n",
            "\n",
            "NOW TRAIN THE MODEL.\n"
          ]
        },
        {
          "output_type": "stream",
          "name": "stderr",
          "text": [
            "  0%|▍                                                                                 | 1/200 [00:09<30:21,  9.15s/it]\n",
            "Epoch 1 of 1:   0%|                                                                              | 0/1 [00:00<?, ?it/s]\n",
            "Running Epoch 0 of 1:   0%|                                                                     | 0/25 [00:00<?, ?it/s]\u001b[A\n",
            "Running Epoch 0 of 1:   4%|██▍                                                          | 1/25 [00:02<00:56,  2.34s/it]\u001b[A\n",
            "Running Epoch 0 of 1:   8%|████▉                                                        | 2/25 [00:04<00:53,  2.31s/it]\u001b[A\n",
            "Running Epoch 0 of 1:  12%|███████▎                                                     | 3/25 [00:06<00:50,  2.29s/it]\u001b[A\n",
            "Running Epoch 0 of 1:  16%|█████████▊                                                   | 4/25 [00:09<00:47,  2.28s/it]\u001b[A\n",
            "Running Epoch 0 of 1:  20%|████████████▏                                                | 5/25 [00:11<00:45,  2.29s/it]\u001b[A\n",
            "Running Epoch 0 of 1:  24%|██████████████▋                                              | 6/25 [00:13<00:43,  2.29s/it]\u001b[A\n",
            "Running Epoch 0 of 1:  28%|█████████████████                                            | 7/25 [00:16<00:41,  2.29s/it]\u001b[A\n",
            "Running Epoch 0 of 1:  32%|███████████████████▌                                         | 8/25 [00:18<00:39,  2.30s/it]\u001b[A\n",
            "Running Epoch 0 of 1:  36%|█████████████████████▉                                       | 9/25 [00:20<00:36,  2.30s/it]\u001b[A\n",
            "Running Epoch 0 of 1:  40%|████████████████████████                                    | 10/25 [00:22<00:34,  2.30s/it]\u001b[A\n",
            "Running Epoch 0 of 1:  44%|██████████████████████████▍                                 | 11/25 [00:25<00:32,  2.30s/it]\u001b[A\n",
            "Running Epoch 0 of 1:  48%|████████████████████████████▊                               | 12/25 [00:27<00:30,  2.31s/it]\u001b[A\n",
            "Running Epoch 0 of 1:  52%|███████████████████████████████▏                            | 13/25 [00:29<00:27,  2.30s/it]\u001b[A\n",
            "Running Epoch 0 of 1:  56%|█████████████████████████████████▌                          | 14/25 [00:32<00:25,  2.30s/it]\u001b[A\n",
            "Running Epoch 0 of 1:  60%|████████████████████████████████████                        | 15/25 [00:34<00:23,  2.31s/it]\u001b[A\n",
            "Running Epoch 0 of 1:  64%|██████████████████████████████████████▍                     | 16/25 [00:36<00:20,  2.31s/it]\u001b[A\n",
            "Running Epoch 0 of 1:  68%|████████████████████████████████████████▊                   | 17/25 [00:39<00:18,  2.30s/it]\u001b[A\n",
            "Running Epoch 0 of 1:  72%|███████████████████████████████████████████▏                | 18/25 [00:41<00:16,  2.31s/it]\u001b[A\n",
            "Running Epoch 0 of 1:  76%|█████████████████████████████████████████████▌              | 19/25 [00:43<00:13,  2.30s/it]\u001b[A\n",
            "Running Epoch 0 of 1:  80%|████████████████████████████████████████████████            | 20/25 [00:46<00:11,  2.30s/it]\u001b[A\n",
            "Running Epoch 0 of 1:  84%|██████████████████████████████████████████████████▍         | 21/25 [00:48<00:09,  2.30s/it]\u001b[A\n",
            "Running Epoch 0 of 1:  88%|████████████████████████████████████████████████████▊       | 22/25 [00:50<00:06,  2.30s/it]\u001b[A\n",
            "Running Epoch 0 of 1:  92%|███████████████████████████████████████████████████████▏    | 23/25 [00:52<00:04,  2.29s/it]\u001b[A\n",
            "Running Epoch 0 of 1:  96%|█████████████████████████████████████████████████████████▌  | 24/25 [00:55<00:02,  2.30s/it]\u001b[A\n",
            "Running Epoch 0 of 1: 100%|████████████████████████████████████████████████████████████| 25/25 [00:57<00:00,  2.30s/it]\n",
            "Epoch 1 of 1: 100%|██████████████████████████████████████████████████████████████████████| 1/1 [00:57<00:00, 57.54s/it]\n",
            "C:\\Users\\Domenico\\.conda\\envs\\tf\\lib\\site-packages\\simpletransformers\\classification\\classification_model.py:1454: UserWarning: Dataframe headers not specified. Falling back to using column 0 as text and column 1 as labels.\n",
            "  warnings.warn(\n"
          ]
        },
        {
          "output_type": "stream",
          "name": "stdout",
          "text": [
            "\n",
            "NOW EVALUATE THE TEST DF.\n"
          ]
        },
        {
          "output_type": "stream",
          "name": "stderr",
          "text": [
            "  1%|▊                                                                                 | 1/100 [00:07<11:53,  7.21s/it]\n",
            "Running Evaluation: 100%|██████████████████████████████████████████████████████████████| 13/13 [00:07<00:00,  1.78it/s]\n",
            "C:\\Users\\Domenico\\.conda\\envs\\tf\\lib\\site-packages\\simpletransformers\\classification\\classification_model.py:612: UserWarning: Dataframe headers not specified. Falling back to using column 0 as text and column 1 as labels.\n",
            "  warnings.warn(\n"
          ]
        },
        {
          "output_type": "stream",
          "name": "stdout",
          "text": [
            "{'mcc': -0.10002000600200071, 'tp': 23, 'tn': 22, 'fp': 28, 'fn': 27, 'auroc': 0.44199999999999995, 'auprc': 0.5073843542121456, 'eval_loss': 1.2697496505884023}\n",
            "Correct predictions are:  45\n",
            "Total predictions are:  100\n",
            "Accuracy on test set is: 0.45 \n",
            "\n",
            "\n",
            "\n",
            "EPOCH NUMBER:  9\n",
            "\n",
            "NOW TRAIN THE MODEL.\n"
          ]
        },
        {
          "output_type": "stream",
          "name": "stderr",
          "text": [
            "  0%|▍                                                                                 | 1/200 [00:09<30:12,  9.11s/it]\n",
            "Epoch 1 of 1:   0%|                                                                              | 0/1 [00:00<?, ?it/s]\n",
            "Running Epoch 0 of 1:   0%|                                                                     | 0/25 [00:00<?, ?it/s]\u001b[A\n",
            "Running Epoch 0 of 1:   4%|██▍                                                          | 1/25 [00:02<00:55,  2.31s/it]\u001b[A\n",
            "Running Epoch 0 of 1:   8%|████▉                                                        | 2/25 [00:04<00:52,  2.30s/it]\u001b[A\n",
            "Running Epoch 0 of 1:  12%|███████▎                                                     | 3/25 [00:06<00:50,  2.30s/it]\u001b[A\n",
            "Running Epoch 0 of 1:  16%|█████████▊                                                   | 4/25 [00:09<00:48,  2.29s/it]\u001b[A\n",
            "Running Epoch 0 of 1:  20%|████████████▏                                                | 5/25 [00:11<00:45,  2.29s/it]\u001b[A\n",
            "Running Epoch 0 of 1:  24%|██████████████▋                                              | 6/25 [00:13<00:43,  2.30s/it]\u001b[A\n",
            "Running Epoch 0 of 1:  28%|█████████████████                                            | 7/25 [00:16<00:41,  2.29s/it]\u001b[A\n",
            "Running Epoch 0 of 1:  32%|███████████████████▌                                         | 8/25 [00:18<00:38,  2.29s/it]\u001b[A\n",
            "Running Epoch 0 of 1:  36%|█████████████████████▉                                       | 9/25 [00:20<00:36,  2.30s/it]\u001b[A\n",
            "Running Epoch 0 of 1:  40%|████████████████████████                                    | 10/25 [00:22<00:34,  2.29s/it]\u001b[A\n",
            "Running Epoch 0 of 1:  44%|██████████████████████████▍                                 | 11/25 [00:25<00:32,  2.29s/it]\u001b[A\n",
            "Running Epoch 0 of 1:  48%|████████████████████████████▊                               | 12/25 [00:27<00:29,  2.30s/it]\u001b[A\n",
            "Running Epoch 0 of 1:  52%|███████████████████████████████▏                            | 13/25 [00:29<00:27,  2.30s/it]\u001b[A\n",
            "Running Epoch 0 of 1:  56%|█████████████████████████████████▌                          | 14/25 [00:32<00:25,  2.29s/it]\u001b[A\n",
            "Running Epoch 0 of 1:  60%|████████████████████████████████████                        | 15/25 [00:34<00:23,  2.30s/it]\u001b[A\n",
            "Running Epoch 0 of 1:  64%|██████████████████████████████████████▍                     | 16/25 [00:36<00:20,  2.31s/it]\u001b[A\n",
            "Running Epoch 0 of 1:  68%|████████████████████████████████████████▊                   | 17/25 [00:39<00:18,  2.30s/it]\u001b[A\n",
            "Running Epoch 0 of 1:  72%|███████████████████████████████████████████▏                | 18/25 [00:41<00:16,  2.30s/it]\u001b[A\n",
            "Running Epoch 0 of 1:  76%|█████████████████████████████████████████████▌              | 19/25 [00:43<00:13,  2.30s/it]\u001b[A\n",
            "Running Epoch 0 of 1:  80%|████████████████████████████████████████████████            | 20/25 [00:45<00:11,  2.30s/it]\u001b[A\n",
            "Running Epoch 0 of 1:  84%|██████████████████████████████████████████████████▍         | 21/25 [00:48<00:09,  2.29s/it]\u001b[A\n",
            "Running Epoch 0 of 1:  88%|████████████████████████████████████████████████████▊       | 22/25 [00:50<00:06,  2.30s/it]\u001b[A\n",
            "Running Epoch 0 of 1:  92%|███████████████████████████████████████████████████████▏    | 23/25 [00:52<00:04,  2.29s/it]\u001b[A\n",
            "Running Epoch 0 of 1:  96%|█████████████████████████████████████████████████████████▌  | 24/25 [00:55<00:02,  2.29s/it]\u001b[A\n",
            "Running Epoch 0 of 1: 100%|████████████████████████████████████████████████████████████| 25/25 [00:57<00:00,  2.30s/it]\n",
            "Epoch 1 of 1: 100%|██████████████████████████████████████████████████████████████████████| 1/1 [00:57<00:00, 57.39s/it]\n",
            "C:\\Users\\Domenico\\.conda\\envs\\tf\\lib\\site-packages\\simpletransformers\\classification\\classification_model.py:1454: UserWarning: Dataframe headers not specified. Falling back to using column 0 as text and column 1 as labels.\n",
            "  warnings.warn(\n"
          ]
        },
        {
          "output_type": "stream",
          "name": "stdout",
          "text": [
            "\n",
            "NOW EVALUATE THE TEST DF.\n"
          ]
        },
        {
          "output_type": "stream",
          "name": "stderr",
          "text": [
            "  1%|▊                                                                                 | 1/100 [00:07<12:10,  7.38s/it]\n",
            "Running Evaluation: 100%|██████████████████████████████████████████████████████████████| 13/13 [00:07<00:00,  1.77it/s]\n"
          ]
        },
        {
          "output_type": "stream",
          "name": "stdout",
          "text": [
            "{'mcc': -0.08104408984731078, 'tp': 19, 'tn': 27, 'fp': 23, 'fn': 31, 'auroc': 0.46119999999999994, 'auprc': 0.5003796931487089, 'eval_loss': 2.0924311637018738}\n",
            "Correct predictions are:  46\n",
            "Total predictions are:  100\n",
            "Accuracy on test set is: 0.46 \n",
            "\n",
            "\n",
            "[0.5, 0.42, 0.48, 0.48, 0.46, 0.57, 0.46, 0.54, 0.45, 0.46]\n"
          ]
        },
        {
          "output_type": "stream",
          "name": "stderr",
          "text": [
            "Some weights of the model checkpoint at roberta-base were not used when initializing RobertaForSequenceClassification: ['lm_head.bias', 'lm_head.layer_norm.bias', 'roberta.pooler.dense.weight', 'lm_head.decoder.weight', 'roberta.pooler.dense.bias', 'lm_head.layer_norm.weight', 'lm_head.dense.bias', 'lm_head.dense.weight']\n",
            "- This IS expected if you are initializing RobertaForSequenceClassification from the checkpoint of a model trained on another task or with another architecture (e.g. initializing a BertForSequenceClassification model from a BertForPreTraining model).\n",
            "- This IS NOT expected if you are initializing RobertaForSequenceClassification from the checkpoint of a model that you expect to be exactly identical (initializing a BertForSequenceClassification model from a BertForSequenceClassification model).\n",
            "Some weights of RobertaForSequenceClassification were not initialized from the model checkpoint at roberta-base and are newly initialized: ['classifier.out_proj.weight', 'classifier.dense.weight', 'classifier.out_proj.bias', 'classifier.dense.bias']\n",
            "You should probably TRAIN this model on a down-stream task to be able to use it for predictions and inference.\n",
            "C:\\Users\\Domenico\\.conda\\envs\\tf\\lib\\site-packages\\simpletransformers\\classification\\classification_model.py:612: UserWarning: Dataframe headers not specified. Falling back to using column 0 as text and column 1 as labels.\n",
            "  warnings.warn(\n"
          ]
        },
        {
          "output_type": "stream",
          "name": "stdout",
          "text": [
            "\n",
            "EPOCH NUMBER:  0\n",
            "\n",
            "NOW TRAIN THE MODEL.\n"
          ]
        },
        {
          "output_type": "stream",
          "name": "stderr",
          "text": [
            "  0%|▍                                                                                 | 1/200 [00:09<30:09,  9.10s/it]\n",
            "Epoch 1 of 1:   0%|                                                                              | 0/1 [00:00<?, ?it/s]\n",
            "Running Epoch 0 of 1:   0%|                                                                     | 0/25 [00:00<?, ?it/s]\u001b[A\n",
            "Running Epoch 0 of 1:   4%|██▍                                                          | 1/25 [00:02<00:53,  2.21s/it]\u001b[A\n",
            "Running Epoch 0 of 1:   8%|████▉                                                        | 2/25 [00:04<00:51,  2.24s/it]\u001b[A\n",
            "Running Epoch 0 of 1:  12%|███████▎                                                     | 3/25 [00:06<00:49,  2.26s/it]\u001b[A\n",
            "Running Epoch 0 of 1:  16%|█████████▊                                                   | 4/25 [00:09<00:47,  2.26s/it]\u001b[A\n",
            "Running Epoch 0 of 1:  20%|████████████▏                                                | 5/25 [00:11<00:45,  2.26s/it]\u001b[A\n",
            "Running Epoch 0 of 1:  24%|██████████████▋                                              | 6/25 [00:13<00:43,  2.29s/it]\u001b[A\n",
            "Running Epoch 0 of 1:  28%|█████████████████                                            | 7/25 [00:15<00:41,  2.28s/it]\u001b[A\n",
            "Running Epoch 0 of 1:  32%|███████████████████▌                                         | 8/25 [00:18<00:38,  2.28s/it]\u001b[A\n",
            "Running Epoch 0 of 1:  36%|█████████████████████▉                                       | 9/25 [00:20<00:36,  2.28s/it]\u001b[A\n",
            "Running Epoch 0 of 1:  40%|████████████████████████                                    | 10/25 [00:22<00:34,  2.30s/it]\u001b[A\n",
            "Running Epoch 0 of 1:  44%|██████████████████████████▍                                 | 11/25 [00:25<00:32,  2.29s/it]\u001b[A\n",
            "Running Epoch 0 of 1:  48%|████████████████████████████▊                               | 12/25 [00:27<00:29,  2.29s/it]\u001b[A\n",
            "Running Epoch 0 of 1:  52%|███████████████████████████████▏                            | 13/25 [00:29<00:27,  2.29s/it]\u001b[A\n",
            "Running Epoch 0 of 1:  56%|█████████████████████████████████▌                          | 14/25 [00:31<00:25,  2.29s/it]\u001b[A\n",
            "Running Epoch 0 of 1:  60%|████████████████████████████████████                        | 15/25 [00:34<00:22,  2.29s/it]\u001b[A\n",
            "Running Epoch 0 of 1:  64%|██████████████████████████████████████▍                     | 16/25 [00:36<00:20,  2.30s/it]\u001b[A\n",
            "Running Epoch 0 of 1:  68%|████████████████████████████████████████▊                   | 17/25 [00:38<00:18,  2.30s/it]\u001b[A\n",
            "Running Epoch 0 of 1:  72%|███████████████████████████████████████████▏                | 18/25 [00:41<00:16,  2.29s/it]\u001b[A\n",
            "Running Epoch 0 of 1:  76%|█████████████████████████████████████████████▌              | 19/25 [00:43<00:13,  2.29s/it]\u001b[A\n",
            "Running Epoch 0 of 1:  80%|████████████████████████████████████████████████            | 20/25 [00:45<00:11,  2.29s/it]\u001b[A\n",
            "Running Epoch 0 of 1:  84%|██████████████████████████████████████████████████▍         | 21/25 [00:47<00:09,  2.30s/it]\u001b[A\n",
            "Running Epoch 0 of 1:  88%|████████████████████████████████████████████████████▊       | 22/25 [00:50<00:06,  2.29s/it]\u001b[A\n",
            "Running Epoch 0 of 1:  92%|███████████████████████████████████████████████████████▏    | 23/25 [00:52<00:04,  2.29s/it]\u001b[A\n",
            "Running Epoch 0 of 1:  96%|█████████████████████████████████████████████████████████▌  | 24/25 [00:54<00:02,  2.29s/it]\u001b[A\n",
            "Running Epoch 0 of 1: 100%|████████████████████████████████████████████████████████████| 25/25 [00:57<00:00,  2.29s/it]\n",
            "Epoch 1 of 1: 100%|██████████████████████████████████████████████████████████████████████| 1/1 [00:57<00:00, 57.15s/it]\n",
            "C:\\Users\\Domenico\\.conda\\envs\\tf\\lib\\site-packages\\simpletransformers\\classification\\classification_model.py:1454: UserWarning: Dataframe headers not specified. Falling back to using column 0 as text and column 1 as labels.\n",
            "  warnings.warn(\n"
          ]
        },
        {
          "output_type": "stream",
          "name": "stdout",
          "text": [
            "\n",
            "NOW EVALUATE THE TEST DF.\n"
          ]
        },
        {
          "output_type": "stream",
          "name": "stderr",
          "text": [
            "  1%|▊                                                                                 | 1/100 [00:07<11:48,  7.16s/it]\n",
            "Running Evaluation: 100%|██████████████████████████████████████████████████████████████| 13/13 [00:07<00:00,  1.78it/s]\n",
            "C:\\Users\\Domenico\\.conda\\envs\\tf\\lib\\site-packages\\simpletransformers\\classification\\classification_model.py:612: UserWarning: Dataframe headers not specified. Falling back to using column 0 as text and column 1 as labels.\n",
            "  warnings.warn(\n"
          ]
        },
        {
          "output_type": "stream",
          "name": "stdout",
          "text": [
            "{'mcc': 0.0, 'tp': 0, 'tn': 50, 'fp': 0, 'fn': 50, 'auroc': 0.4376, 'auprc': 0.46746730191945834, 'eval_loss': 0.6949567886499258}\n",
            "Correct predictions are:  50\n",
            "Total predictions are:  100\n",
            "Accuracy on test set is: 0.5 \n",
            "\n",
            "\n",
            "\n",
            "EPOCH NUMBER:  1\n",
            "\n",
            "NOW TRAIN THE MODEL.\n"
          ]
        },
        {
          "output_type": "stream",
          "name": "stderr",
          "text": [
            "  0%|▍                                                                                 | 1/200 [00:09<30:35,  9.22s/it]\n",
            "Epoch 1 of 1:   0%|                                                                              | 0/1 [00:00<?, ?it/s]\n",
            "Running Epoch 0 of 1:   0%|                                                                     | 0/25 [00:00<?, ?it/s]\u001b[A\n",
            "Running Epoch 0 of 1:   4%|██▍                                                          | 1/25 [00:02<00:55,  2.33s/it]\u001b[A\n",
            "Running Epoch 0 of 1:   8%|████▉                                                        | 2/25 [00:04<00:52,  2.30s/it]\u001b[A\n",
            "Running Epoch 0 of 1:  12%|███████▎                                                     | 3/25 [00:06<00:50,  2.31s/it]\u001b[A\n",
            "Running Epoch 0 of 1:  16%|█████████▊                                                   | 4/25 [00:09<00:48,  2.31s/it]\u001b[A\n",
            "Running Epoch 0 of 1:  20%|████████████▏                                                | 5/25 [00:11<00:45,  2.29s/it]\u001b[A\n",
            "Running Epoch 0 of 1:  24%|██████████████▋                                              | 6/25 [00:13<00:43,  2.29s/it]\u001b[A\n",
            "Running Epoch 0 of 1:  28%|█████████████████                                            | 7/25 [00:16<00:41,  2.31s/it]\u001b[A\n",
            "Running Epoch 0 of 1:  32%|███████████████████▌                                         | 8/25 [00:18<00:39,  2.31s/it]\u001b[A\n",
            "Running Epoch 0 of 1:  36%|█████████████████████▉                                       | 9/25 [00:20<00:36,  2.30s/it]\u001b[A\n",
            "Running Epoch 0 of 1:  40%|████████████████████████                                    | 10/25 [00:23<00:34,  2.30s/it]\u001b[A\n",
            "Running Epoch 0 of 1:  44%|██████████████████████████▍                                 | 11/25 [00:25<00:32,  2.29s/it]\u001b[A\n",
            "Running Epoch 0 of 1:  48%|████████████████████████████▊                               | 12/25 [00:27<00:29,  2.29s/it]\u001b[A\n",
            "Running Epoch 0 of 1:  52%|███████████████████████████████▏                            | 13/25 [00:29<00:27,  2.29s/it]\u001b[A\n",
            "Running Epoch 0 of 1:  56%|█████████████████████████████████▌                          | 14/25 [00:32<00:25,  2.30s/it]\u001b[A\n",
            "Running Epoch 0 of 1:  60%|████████████████████████████████████                        | 15/25 [00:34<00:22,  2.30s/it]\u001b[A\n",
            "Running Epoch 0 of 1:  64%|██████████████████████████████████████▍                     | 16/25 [00:36<00:20,  2.29s/it]\u001b[A\n",
            "Running Epoch 0 of 1:  68%|████████████████████████████████████████▊                   | 17/25 [00:39<00:18,  2.30s/it]\u001b[A\n",
            "Running Epoch 0 of 1:  72%|███████████████████████████████████████████▏                | 18/25 [00:41<00:16,  2.31s/it]\u001b[A\n",
            "Running Epoch 0 of 1:  76%|█████████████████████████████████████████████▌              | 19/25 [00:43<00:13,  2.31s/it]\u001b[A\n",
            "Running Epoch 0 of 1:  80%|████████████████████████████████████████████████            | 20/25 [00:46<00:11,  2.31s/it]\u001b[A\n",
            "Running Epoch 0 of 1:  84%|██████████████████████████████████████████████████▍         | 21/25 [00:48<00:09,  2.31s/it]\u001b[A\n",
            "Running Epoch 0 of 1:  88%|████████████████████████████████████████████████████▊       | 22/25 [00:50<00:06,  2.31s/it]\u001b[A\n",
            "Running Epoch 0 of 1:  92%|███████████████████████████████████████████████████████▏    | 23/25 [00:52<00:04,  2.30s/it]\u001b[A\n",
            "Running Epoch 0 of 1:  96%|█████████████████████████████████████████████████████████▌  | 24/25 [00:55<00:02,  2.31s/it]\u001b[A\n",
            "Running Epoch 0 of 1: 100%|████████████████████████████████████████████████████████████| 25/25 [00:57<00:00,  2.30s/it]\n",
            "Epoch 1 of 1: 100%|██████████████████████████████████████████████████████████████████████| 1/1 [00:57<00:00, 57.58s/it]\n",
            "C:\\Users\\Domenico\\.conda\\envs\\tf\\lib\\site-packages\\simpletransformers\\classification\\classification_model.py:1454: UserWarning: Dataframe headers not specified. Falling back to using column 0 as text and column 1 as labels.\n",
            "  warnings.warn(\n"
          ]
        },
        {
          "output_type": "stream",
          "name": "stdout",
          "text": [
            "\n",
            "NOW EVALUATE THE TEST DF.\n"
          ]
        },
        {
          "output_type": "stream",
          "name": "stderr",
          "text": [
            "  1%|▊                                                                                 | 1/100 [00:07<11:45,  7.13s/it]\n",
            "Running Evaluation: 100%|██████████████████████████████████████████████████████████████| 13/13 [00:07<00:00,  1.78it/s]\n",
            "C:\\Users\\Domenico\\.conda\\envs\\tf\\lib\\site-packages\\simpletransformers\\classification\\classification_model.py:612: UserWarning: Dataframe headers not specified. Falling back to using column 0 as text and column 1 as labels.\n",
            "  warnings.warn(\n"
          ]
        },
        {
          "output_type": "stream",
          "name": "stdout",
          "text": [
            "{'mcc': 0.10050378152592121, 'tp': 1, 'tn': 50, 'fp': 0, 'fn': 49, 'auroc': 0.46440000000000003, 'auprc': 0.5104399403594011, 'eval_loss': 0.6937204324282132}\n",
            "Correct predictions are:  51\n",
            "Total predictions are:  100\n",
            "Accuracy on test set is: 0.51 \n",
            "\n",
            "\n",
            "\n",
            "EPOCH NUMBER:  2\n",
            "\n",
            "NOW TRAIN THE MODEL.\n"
          ]
        },
        {
          "output_type": "stream",
          "name": "stderr",
          "text": [
            "  0%|▍                                                                                 | 1/200 [00:09<29:55,  9.02s/it]\n",
            "Epoch 1 of 1:   0%|                                                                              | 0/1 [00:00<?, ?it/s]\n",
            "Running Epoch 0 of 1:   0%|                                                                     | 0/25 [00:00<?, ?it/s]\u001b[A\n",
            "Running Epoch 0 of 1:   4%|██▍                                                          | 1/25 [00:02<00:55,  2.32s/it]\u001b[A\n",
            "Running Epoch 0 of 1:   8%|████▉                                                        | 2/25 [00:04<00:52,  2.30s/it]\u001b[A\n",
            "Running Epoch 0 of 1:  12%|███████▎                                                     | 3/25 [00:06<00:50,  2.28s/it]\u001b[A\n",
            "Running Epoch 0 of 1:  16%|█████████▊                                                   | 4/25 [00:09<00:48,  2.29s/it]\u001b[A\n",
            "Running Epoch 0 of 1:  20%|████████████▏                                                | 5/25 [00:11<00:45,  2.29s/it]\u001b[A\n",
            "Running Epoch 0 of 1:  24%|██████████████▋                                              | 6/25 [00:13<00:43,  2.29s/it]\u001b[A\n",
            "Running Epoch 0 of 1:  28%|█████████████████                                            | 7/25 [00:15<00:40,  2.28s/it]\u001b[A\n",
            "Running Epoch 0 of 1:  32%|███████████████████▌                                         | 8/25 [00:18<00:38,  2.29s/it]\u001b[A\n",
            "Running Epoch 0 of 1:  36%|█████████████████████▉                                       | 9/25 [00:20<00:36,  2.29s/it]\u001b[A\n",
            "Running Epoch 0 of 1:  40%|████████████████████████                                    | 10/25 [00:22<00:34,  2.29s/it]\u001b[A\n",
            "Running Epoch 0 of 1:  44%|██████████████████████████▍                                 | 11/25 [00:25<00:32,  2.29s/it]\u001b[A\n",
            "Running Epoch 0 of 1:  48%|████████████████████████████▊                               | 12/25 [00:27<00:29,  2.29s/it]\u001b[A\n",
            "Running Epoch 0 of 1:  52%|███████████████████████████████▏                            | 13/25 [00:29<00:27,  2.29s/it]\u001b[A\n",
            "Running Epoch 0 of 1:  56%|█████████████████████████████████▌                          | 14/25 [00:32<00:25,  2.28s/it]\u001b[A\n",
            "Running Epoch 0 of 1:  60%|████████████████████████████████████                        | 15/25 [00:34<00:22,  2.30s/it]\u001b[A\n",
            "Running Epoch 0 of 1:  64%|██████████████████████████████████████▍                     | 16/25 [00:36<00:20,  2.30s/it]\u001b[A\n",
            "Running Epoch 0 of 1:  68%|████████████████████████████████████████▊                   | 17/25 [00:39<00:18,  2.31s/it]\u001b[A\n",
            "Running Epoch 0 of 1:  72%|███████████████████████████████████████████▏                | 18/25 [00:41<00:16,  2.30s/it]\u001b[A\n",
            "Running Epoch 0 of 1:  76%|█████████████████████████████████████████████▌              | 19/25 [00:43<00:13,  2.30s/it]\u001b[A\n",
            "Running Epoch 0 of 1:  80%|████████████████████████████████████████████████            | 20/25 [00:45<00:11,  2.30s/it]\u001b[A\n",
            "Running Epoch 0 of 1:  84%|██████████████████████████████████████████████████▍         | 21/25 [00:48<00:09,  2.30s/it]\u001b[A\n",
            "Running Epoch 0 of 1:  88%|████████████████████████████████████████████████████▊       | 22/25 [00:50<00:06,  2.30s/it]\u001b[A\n",
            "Running Epoch 0 of 1:  92%|███████████████████████████████████████████████████████▏    | 23/25 [00:52<00:04,  2.30s/it]\u001b[A\n",
            "Running Epoch 0 of 1:  96%|█████████████████████████████████████████████████████████▌  | 24/25 [00:55<00:02,  2.30s/it]\u001b[A\n",
            "Running Epoch 0 of 1: 100%|████████████████████████████████████████████████████████████| 25/25 [00:57<00:00,  2.30s/it]\n",
            "Epoch 1 of 1: 100%|██████████████████████████████████████████████████████████████████████| 1/1 [00:57<00:00, 57.45s/it]\n",
            "C:\\Users\\Domenico\\.conda\\envs\\tf\\lib\\site-packages\\simpletransformers\\classification\\classification_model.py:1454: UserWarning: Dataframe headers not specified. Falling back to using column 0 as text and column 1 as labels.\n",
            "  warnings.warn(\n"
          ]
        },
        {
          "output_type": "stream",
          "name": "stdout",
          "text": [
            "\n",
            "NOW EVALUATE THE TEST DF.\n"
          ]
        },
        {
          "output_type": "stream",
          "name": "stderr",
          "text": [
            "  1%|▊                                                                                 | 1/100 [00:07<11:45,  7.12s/it]\n",
            "Running Evaluation: 100%|██████████████████████████████████████████████████████████████| 13/13 [00:07<00:00,  1.78it/s]\n",
            "C:\\Users\\Domenico\\.conda\\envs\\tf\\lib\\site-packages\\simpletransformers\\classification\\classification_model.py:612: UserWarning: Dataframe headers not specified. Falling back to using column 0 as text and column 1 as labels.\n",
            "  warnings.warn(\n"
          ]
        },
        {
          "output_type": "stream",
          "name": "stdout",
          "text": [
            "{'mcc': 0.0842151921066519, 'tp': 48, 'tn': 4, 'fp': 46, 'fn': 2, 'auroc': 0.5156, 'auprc': 0.5523922995340529, 'eval_loss': 0.6928981175789466}\n",
            "Correct predictions are:  52\n",
            "Total predictions are:  100\n",
            "Accuracy on test set is: 0.52 \n",
            "\n",
            "\n",
            "\n",
            "EPOCH NUMBER:  3\n",
            "\n",
            "NOW TRAIN THE MODEL.\n"
          ]
        },
        {
          "output_type": "stream",
          "name": "stderr",
          "text": [
            "  0%|▍                                                                                 | 1/200 [00:09<30:19,  9.15s/it]\n",
            "Epoch 1 of 1:   0%|                                                                              | 0/1 [00:00<?, ?it/s]\n",
            "Running Epoch 0 of 1:   0%|                                                                     | 0/25 [00:00<?, ?it/s]\u001b[A\n",
            "Running Epoch 0 of 1:   4%|██▍                                                          | 1/25 [00:02<00:55,  2.31s/it]\u001b[A\n",
            "Running Epoch 0 of 1:   8%|████▉                                                        | 2/25 [00:04<00:52,  2.30s/it]\u001b[A\n",
            "Running Epoch 0 of 1:  12%|███████▎                                                     | 3/25 [00:06<00:50,  2.29s/it]\u001b[A\n",
            "Running Epoch 0 of 1:  16%|█████████▊                                                   | 4/25 [00:09<00:48,  2.29s/it]\u001b[A\n",
            "Running Epoch 0 of 1:  20%|████████████▏                                                | 5/25 [00:11<00:46,  2.30s/it]\u001b[A\n",
            "Running Epoch 0 of 1:  24%|██████████████▋                                              | 6/25 [00:13<00:43,  2.29s/it]\u001b[A\n",
            "Running Epoch 0 of 1:  28%|█████████████████                                            | 7/25 [00:16<00:41,  2.29s/it]\u001b[A\n",
            "Running Epoch 0 of 1:  32%|███████████████████▌                                         | 8/25 [00:18<00:38,  2.29s/it]\u001b[A\n",
            "Running Epoch 0 of 1:  36%|█████████████████████▉                                       | 9/25 [00:20<00:36,  2.30s/it]\u001b[A\n",
            "Running Epoch 0 of 1:  40%|████████████████████████                                    | 10/25 [00:22<00:34,  2.29s/it]\u001b[A\n",
            "Running Epoch 0 of 1:  44%|██████████████████████████▍                                 | 11/25 [00:25<00:31,  2.28s/it]\u001b[A\n",
            "Running Epoch 0 of 1:  48%|████████████████████████████▊                               | 12/25 [00:27<00:29,  2.28s/it]\u001b[A\n",
            "Running Epoch 0 of 1:  52%|███████████████████████████████▏                            | 13/25 [00:29<00:27,  2.29s/it]\u001b[A\n",
            "Running Epoch 0 of 1:  56%|█████████████████████████████████▌                          | 14/25 [00:32<00:25,  2.30s/it]\u001b[A\n",
            "Running Epoch 0 of 1:  60%|████████████████████████████████████                        | 15/25 [00:34<00:22,  2.29s/it]\u001b[A\n",
            "Running Epoch 0 of 1:  64%|██████████████████████████████████████▍                     | 16/25 [00:36<00:20,  2.30s/it]\u001b[A\n",
            "Running Epoch 0 of 1:  68%|████████████████████████████████████████▊                   | 17/25 [00:38<00:18,  2.29s/it]\u001b[A\n",
            "Running Epoch 0 of 1:  72%|███████████████████████████████████████████▏                | 18/25 [00:41<00:16,  2.29s/it]\u001b[A\n",
            "Running Epoch 0 of 1:  76%|█████████████████████████████████████████████▌              | 19/25 [00:43<00:13,  2.30s/it]\u001b[A\n",
            "Running Epoch 0 of 1:  80%|████████████████████████████████████████████████            | 20/25 [00:45<00:11,  2.30s/it]\u001b[A\n",
            "Running Epoch 0 of 1:  84%|██████████████████████████████████████████████████▍         | 21/25 [00:48<00:09,  2.31s/it]\u001b[A\n",
            "Running Epoch 0 of 1:  88%|████████████████████████████████████████████████████▊       | 22/25 [00:50<00:06,  2.31s/it]\u001b[A\n",
            "Running Epoch 0 of 1:  92%|███████████████████████████████████████████████████████▏    | 23/25 [00:52<00:04,  2.31s/it]\u001b[A\n",
            "Running Epoch 0 of 1:  96%|█████████████████████████████████████████████████████████▌  | 24/25 [00:55<00:02,  2.30s/it]\u001b[A\n",
            "Running Epoch 0 of 1: 100%|████████████████████████████████████████████████████████████| 25/25 [00:57<00:00,  2.30s/it]\n",
            "Epoch 1 of 1: 100%|██████████████████████████████████████████████████████████████████████| 1/1 [00:57<00:00, 57.40s/it]\n",
            "C:\\Users\\Domenico\\.conda\\envs\\tf\\lib\\site-packages\\simpletransformers\\classification\\classification_model.py:1454: UserWarning: Dataframe headers not specified. Falling back to using column 0 as text and column 1 as labels.\n",
            "  warnings.warn(\n"
          ]
        },
        {
          "output_type": "stream",
          "name": "stdout",
          "text": [
            "\n",
            "NOW EVALUATE THE TEST DF.\n"
          ]
        },
        {
          "output_type": "stream",
          "name": "stderr",
          "text": [
            "  1%|▊                                                                                 | 1/100 [00:07<11:47,  7.15s/it]\n",
            "Running Evaluation: 100%|██████████████████████████████████████████████████████████████| 13/13 [00:07<00:00,  1.79it/s]\n",
            "C:\\Users\\Domenico\\.conda\\envs\\tf\\lib\\site-packages\\simpletransformers\\classification\\classification_model.py:612: UserWarning: Dataframe headers not specified. Falling back to using column 0 as text and column 1 as labels.\n",
            "  warnings.warn(\n"
          ]
        },
        {
          "output_type": "stream",
          "name": "stdout",
          "text": [
            "{'mcc': 0.05, 'tp': 41, 'tn': 11, 'fp': 39, 'fn': 9, 'auroc': 0.5136000000000001, 'auprc': 0.5438495427569293, 'eval_loss': 0.692985630952395}\n",
            "Correct predictions are:  52\n",
            "Total predictions are:  100\n",
            "Accuracy on test set is: 0.52 \n",
            "\n",
            "\n",
            "\n",
            "EPOCH NUMBER:  4\n",
            "\n",
            "NOW TRAIN THE MODEL.\n"
          ]
        },
        {
          "output_type": "stream",
          "name": "stderr",
          "text": [
            "  0%|▍                                                                                 | 1/200 [00:09<30:03,  9.06s/it]\n",
            "Epoch 1 of 1:   0%|                                                                              | 0/1 [00:00<?, ?it/s]\n",
            "Running Epoch 0 of 1:   0%|                                                                     | 0/25 [00:00<?, ?it/s]\u001b[A\n",
            "Running Epoch 0 of 1:   4%|██▍                                                          | 1/25 [00:02<00:55,  2.32s/it]\u001b[A\n",
            "Running Epoch 0 of 1:   8%|████▉                                                        | 2/25 [00:04<00:52,  2.30s/it]\u001b[A\n",
            "Running Epoch 0 of 1:  12%|███████▎                                                     | 3/25 [00:06<00:50,  2.29s/it]\u001b[A\n",
            "Running Epoch 0 of 1:  16%|█████████▊                                                   | 4/25 [00:09<00:48,  2.30s/it]\u001b[A\n",
            "Running Epoch 0 of 1:  20%|████████████▏                                                | 5/25 [00:11<00:45,  2.30s/it]\u001b[A\n",
            "Running Epoch 0 of 1:  24%|██████████████▋                                              | 6/25 [00:13<00:43,  2.29s/it]\u001b[A\n",
            "Running Epoch 0 of 1:  28%|█████████████████                                            | 7/25 [00:16<00:41,  2.30s/it]\u001b[A\n",
            "Running Epoch 0 of 1:  32%|███████████████████▌                                         | 8/25 [00:18<00:38,  2.29s/it]\u001b[A\n",
            "Running Epoch 0 of 1:  36%|█████████████████████▉                                       | 9/25 [00:20<00:36,  2.28s/it]\u001b[A\n",
            "Running Epoch 0 of 1:  40%|████████████████████████                                    | 10/25 [00:22<00:34,  2.29s/it]\u001b[A\n",
            "Running Epoch 0 of 1:  44%|██████████████████████████▍                                 | 11/25 [00:25<00:32,  2.29s/it]\u001b[A\n",
            "Running Epoch 0 of 1:  48%|████████████████████████████▊                               | 12/25 [00:27<00:29,  2.29s/it]\u001b[A\n",
            "Running Epoch 0 of 1:  52%|███████████████████████████████▏                            | 13/25 [00:29<00:27,  2.29s/it]\u001b[A\n",
            "Running Epoch 0 of 1:  56%|█████████████████████████████████▌                          | 14/25 [00:32<00:25,  2.30s/it]\u001b[A\n",
            "Running Epoch 0 of 1:  60%|████████████████████████████████████                        | 15/25 [00:34<00:22,  2.30s/it]\u001b[A\n",
            "Running Epoch 0 of 1:  64%|██████████████████████████████████████▍                     | 16/25 [00:36<00:20,  2.29s/it]\u001b[A\n",
            "Running Epoch 0 of 1:  68%|████████████████████████████████████████▊                   | 17/25 [00:39<00:18,  2.30s/it]\u001b[A\n",
            "Running Epoch 0 of 1:  72%|███████████████████████████████████████████▏                | 18/25 [00:41<00:16,  2.30s/it]\u001b[A\n",
            "Running Epoch 0 of 1:  76%|█████████████████████████████████████████████▌              | 19/25 [00:43<00:13,  2.30s/it]\u001b[A\n",
            "Running Epoch 0 of 1:  80%|████████████████████████████████████████████████            | 20/25 [00:45<00:11,  2.31s/it]\u001b[A\n",
            "Running Epoch 0 of 1:  84%|██████████████████████████████████████████████████▍         | 21/25 [00:48<00:09,  2.30s/it]\u001b[A\n",
            "Running Epoch 0 of 1:  88%|████████████████████████████████████████████████████▊       | 22/25 [00:50<00:06,  2.30s/it]\u001b[A\n",
            "Running Epoch 0 of 1:  92%|███████████████████████████████████████████████████████▏    | 23/25 [00:52<00:04,  2.29s/it]\u001b[A\n",
            "Running Epoch 0 of 1:  96%|█████████████████████████████████████████████████████████▌  | 24/25 [00:55<00:02,  2.30s/it]\u001b[A\n",
            "Running Epoch 0 of 1: 100%|████████████████████████████████████████████████████████████| 25/25 [00:57<00:00,  2.30s/it]\n",
            "Epoch 1 of 1: 100%|██████████████████████████████████████████████████████████████████████| 1/1 [00:57<00:00, 57.39s/it]\n",
            "C:\\Users\\Domenico\\.conda\\envs\\tf\\lib\\site-packages\\simpletransformers\\classification\\classification_model.py:1454: UserWarning: Dataframe headers not specified. Falling back to using column 0 as text and column 1 as labels.\n",
            "  warnings.warn(\n"
          ]
        },
        {
          "output_type": "stream",
          "name": "stdout",
          "text": [
            "\n",
            "NOW EVALUATE THE TEST DF.\n"
          ]
        },
        {
          "output_type": "stream",
          "name": "stderr",
          "text": [
            "  1%|▊                                                                                 | 1/100 [00:07<11:49,  7.16s/it]\n",
            "Running Evaluation: 100%|██████████████████████████████████████████████████████████████| 13/13 [00:07<00:00,  1.77it/s]\n",
            "C:\\Users\\Domenico\\.conda\\envs\\tf\\lib\\site-packages\\simpletransformers\\classification\\classification_model.py:612: UserWarning: Dataframe headers not specified. Falling back to using column 0 as text and column 1 as labels.\n",
            "  warnings.warn(\n"
          ]
        },
        {
          "output_type": "stream",
          "name": "stdout",
          "text": [
            "{'mcc': 0.063800911508867, 'tp': 18, 'tn': 35, 'fp': 15, 'fn': 32, 'auroc': 0.558, 'auprc': 0.5476708740568939, 'eval_loss': 0.6914356213349563}\n",
            "Correct predictions are:  53\n",
            "Total predictions are:  100\n",
            "Accuracy on test set is: 0.53 \n",
            "\n",
            "\n",
            "\n",
            "EPOCH NUMBER:  5\n",
            "\n",
            "NOW TRAIN THE MODEL.\n"
          ]
        },
        {
          "output_type": "stream",
          "name": "stderr",
          "text": [
            "  0%|▍                                                                                 | 1/200 [00:09<31:17,  9.43s/it]\n",
            "Epoch 1 of 1:   0%|                                                                              | 0/1 [00:00<?, ?it/s]\n",
            "Running Epoch 0 of 1:   0%|                                                                     | 0/25 [00:00<?, ?it/s]\u001b[A\n",
            "Running Epoch 0 of 1:   4%|██▍                                                          | 1/25 [00:02<00:55,  2.32s/it]\u001b[A\n",
            "Running Epoch 0 of 1:   8%|████▉                                                        | 2/25 [00:04<00:53,  2.31s/it]\u001b[A\n",
            "Running Epoch 0 of 1:  12%|███████▎                                                     | 3/25 [00:06<00:51,  2.32s/it]\u001b[A\n",
            "Running Epoch 0 of 1:  16%|█████████▊                                                   | 4/25 [00:09<00:48,  2.31s/it]\u001b[A\n",
            "Running Epoch 0 of 1:  20%|████████████▏                                                | 5/25 [00:11<00:46,  2.30s/it]\u001b[A\n",
            "Running Epoch 0 of 1:  24%|██████████████▋                                              | 6/25 [00:13<00:43,  2.29s/it]\u001b[A\n",
            "Running Epoch 0 of 1:  28%|█████████████████                                            | 7/25 [00:16<00:41,  2.30s/it]\u001b[A\n",
            "Running Epoch 0 of 1:  32%|███████████████████▌                                         | 8/25 [00:18<00:39,  2.30s/it]\u001b[A\n",
            "Running Epoch 0 of 1:  36%|█████████████████████▉                                       | 9/25 [00:20<00:36,  2.30s/it]\u001b[A\n",
            "Running Epoch 0 of 1:  40%|████████████████████████                                    | 10/25 [00:23<00:34,  2.30s/it]\u001b[A\n",
            "Running Epoch 0 of 1:  44%|██████████████████████████▍                                 | 11/25 [00:25<00:32,  2.30s/it]\u001b[A\n",
            "Running Epoch 0 of 1:  48%|████████████████████████████▊                               | 12/25 [00:27<00:29,  2.29s/it]\u001b[A\n",
            "Running Epoch 0 of 1:  52%|███████████████████████████████▏                            | 13/25 [00:29<00:27,  2.31s/it]\u001b[A\n",
            "Running Epoch 0 of 1:  56%|█████████████████████████████████▌                          | 14/25 [00:32<00:25,  2.30s/it]\u001b[A\n",
            "Running Epoch 0 of 1:  60%|████████████████████████████████████                        | 15/25 [00:34<00:22,  2.29s/it]\u001b[A\n",
            "Running Epoch 0 of 1:  64%|██████████████████████████████████████▍                     | 16/25 [00:36<00:20,  2.29s/it]\u001b[A\n",
            "Running Epoch 0 of 1:  68%|████████████████████████████████████████▊                   | 17/25 [00:39<00:18,  2.32s/it]\u001b[A\n",
            "Running Epoch 0 of 1:  72%|███████████████████████████████████████████▏                | 18/25 [00:41<00:16,  2.32s/it]\u001b[A\n",
            "Running Epoch 0 of 1:  76%|█████████████████████████████████████████████▌              | 19/25 [00:43<00:13,  2.32s/it]\u001b[A\n",
            "Running Epoch 0 of 1:  80%|████████████████████████████████████████████████            | 20/25 [00:46<00:11,  2.32s/it]\u001b[A\n",
            "Running Epoch 0 of 1:  84%|██████████████████████████████████████████████████▍         | 21/25 [00:48<00:09,  2.32s/it]\u001b[A\n",
            "Running Epoch 0 of 1:  88%|████████████████████████████████████████████████████▊       | 22/25 [00:50<00:06,  2.31s/it]\u001b[A\n",
            "Running Epoch 0 of 1:  92%|███████████████████████████████████████████████████████▏    | 23/25 [00:53<00:04,  2.31s/it]\u001b[A\n",
            "Running Epoch 0 of 1:  96%|█████████████████████████████████████████████████████████▌  | 24/25 [00:55<00:02,  2.31s/it]\u001b[A\n",
            "Running Epoch 0 of 1: 100%|████████████████████████████████████████████████████████████| 25/25 [00:57<00:00,  2.31s/it]\n",
            "Epoch 1 of 1: 100%|██████████████████████████████████████████████████████████████████████| 1/1 [00:57<00:00, 57.67s/it]\n",
            "C:\\Users\\Domenico\\.conda\\envs\\tf\\lib\\site-packages\\simpletransformers\\classification\\classification_model.py:1454: UserWarning: Dataframe headers not specified. Falling back to using column 0 as text and column 1 as labels.\n",
            "  warnings.warn(\n"
          ]
        },
        {
          "output_type": "stream",
          "name": "stdout",
          "text": [
            "\n",
            "NOW EVALUATE THE TEST DF.\n"
          ]
        },
        {
          "output_type": "stream",
          "name": "stderr",
          "text": [
            "  1%|▊                                                                                 | 1/100 [00:07<12:18,  7.45s/it]\n",
            "Running Evaluation: 100%|██████████████████████████████████████████████████████████████| 13/13 [00:07<00:00,  1.78it/s]\n",
            "C:\\Users\\Domenico\\.conda\\envs\\tf\\lib\\site-packages\\simpletransformers\\classification\\classification_model.py:612: UserWarning: Dataframe headers not specified. Falling back to using column 0 as text and column 1 as labels.\n",
            "  warnings.warn(\n"
          ]
        },
        {
          "output_type": "stream",
          "name": "stdout",
          "text": [
            "{'mcc': 0.0628970902033151, 'tp': 19, 'tn': 34, 'fp': 16, 'fn': 31, 'auroc': 0.5692, 'auprc': 0.5403468824153007, 'eval_loss': 0.7642322572378012}\n",
            "Correct predictions are:  53\n",
            "Total predictions are:  100\n",
            "Accuracy on test set is: 0.53 \n",
            "\n",
            "\n",
            "\n",
            "EPOCH NUMBER:  6\n",
            "\n",
            "NOW TRAIN THE MODEL.\n"
          ]
        },
        {
          "output_type": "stream",
          "name": "stderr",
          "text": [
            "  0%|▍                                                                                 | 1/200 [00:09<30:42,  9.26s/it]\n",
            "Epoch 1 of 1:   0%|                                                                              | 0/1 [00:00<?, ?it/s]\n",
            "Running Epoch 0 of 1:   0%|                                                                     | 0/25 [00:00<?, ?it/s]\u001b[A\n",
            "Running Epoch 0 of 1:   4%|██▍                                                          | 1/25 [00:02<00:55,  2.33s/it]\u001b[A\n",
            "Running Epoch 0 of 1:   8%|████▉                                                        | 2/25 [00:04<00:52,  2.28s/it]\u001b[A\n",
            "Running Epoch 0 of 1:  12%|███████▎                                                     | 3/25 [00:06<00:50,  2.29s/it]\u001b[A\n",
            "Running Epoch 0 of 1:  16%|█████████▊                                                   | 4/25 [00:09<00:47,  2.28s/it]\u001b[A\n",
            "Running Epoch 0 of 1:  20%|████████████▏                                                | 5/25 [00:11<00:45,  2.28s/it]\u001b[A\n",
            "Running Epoch 0 of 1:  24%|██████████████▋                                              | 6/25 [00:13<00:43,  2.29s/it]\u001b[A\n",
            "Running Epoch 0 of 1:  28%|█████████████████                                            | 7/25 [00:16<00:41,  2.30s/it]\u001b[A\n",
            "Running Epoch 0 of 1:  32%|███████████████████▌                                         | 8/25 [00:18<00:38,  2.29s/it]\u001b[A\n",
            "Running Epoch 0 of 1:  36%|█████████████████████▉                                       | 9/25 [00:20<00:36,  2.31s/it]\u001b[A\n",
            "Running Epoch 0 of 1:  40%|████████████████████████                                    | 10/25 [00:22<00:34,  2.31s/it]\u001b[A\n",
            "Running Epoch 0 of 1:  44%|██████████████████████████▍                                 | 11/25 [00:25<00:32,  2.31s/it]\u001b[A\n",
            "Running Epoch 0 of 1:  48%|████████████████████████████▊                               | 12/25 [00:27<00:29,  2.31s/it]\u001b[A\n",
            "Running Epoch 0 of 1:  52%|███████████████████████████████▏                            | 13/25 [00:29<00:27,  2.31s/it]\u001b[A\n",
            "Running Epoch 0 of 1:  56%|█████████████████████████████████▌                          | 14/25 [00:32<00:25,  2.30s/it]\u001b[A\n",
            "Running Epoch 0 of 1:  60%|████████████████████████████████████                        | 15/25 [00:34<00:23,  2.30s/it]\u001b[A\n",
            "Running Epoch 0 of 1:  64%|██████████████████████████████████████▍                     | 16/25 [00:36<00:20,  2.31s/it]\u001b[A\n",
            "Running Epoch 0 of 1:  68%|████████████████████████████████████████▊                   | 17/25 [00:39<00:18,  2.30s/it]\u001b[A\n",
            "Running Epoch 0 of 1:  72%|███████████████████████████████████████████▏                | 18/25 [00:41<00:16,  2.29s/it]\u001b[A\n",
            "Running Epoch 0 of 1:  76%|█████████████████████████████████████████████▌              | 19/25 [00:43<00:13,  2.30s/it]\u001b[A\n",
            "Running Epoch 0 of 1:  80%|████████████████████████████████████████████████            | 20/25 [00:46<00:11,  2.31s/it]\u001b[A\n",
            "Running Epoch 0 of 1:  84%|██████████████████████████████████████████████████▍         | 21/25 [00:48<00:09,  2.30s/it]\u001b[A\n",
            "Running Epoch 0 of 1:  88%|████████████████████████████████████████████████████▊       | 22/25 [00:50<00:06,  2.29s/it]\u001b[A\n",
            "Running Epoch 0 of 1:  92%|███████████████████████████████████████████████████████▏    | 23/25 [00:52<00:04,  2.29s/it]\u001b[A\n",
            "Running Epoch 0 of 1:  96%|█████████████████████████████████████████████████████████▌  | 24/25 [00:55<00:02,  2.29s/it]\u001b[A\n",
            "Running Epoch 0 of 1: 100%|████████████████████████████████████████████████████████████| 25/25 [00:57<00:00,  2.30s/it]\n",
            "Epoch 1 of 1: 100%|██████████████████████████████████████████████████████████████████████| 1/1 [00:57<00:00, 57.46s/it]\n",
            "C:\\Users\\Domenico\\.conda\\envs\\tf\\lib\\site-packages\\simpletransformers\\classification\\classification_model.py:1454: UserWarning: Dataframe headers not specified. Falling back to using column 0 as text and column 1 as labels.\n",
            "  warnings.warn(\n"
          ]
        },
        {
          "output_type": "stream",
          "name": "stdout",
          "text": [
            "\n",
            "NOW EVALUATE THE TEST DF.\n"
          ]
        },
        {
          "output_type": "stream",
          "name": "stderr",
          "text": [
            "  1%|▊                                                                                 | 1/100 [00:07<11:51,  7.18s/it]\n",
            "Running Evaluation: 100%|██████████████████████████████████████████████████████████████| 13/13 [00:07<00:00,  1.78it/s]\n",
            "C:\\Users\\Domenico\\.conda\\envs\\tf\\lib\\site-packages\\simpletransformers\\classification\\classification_model.py:612: UserWarning: Dataframe headers not specified. Falling back to using column 0 as text and column 1 as labels.\n",
            "  warnings.warn(\n"
          ]
        },
        {
          "output_type": "stream",
          "name": "stdout",
          "text": [
            "{'mcc': 0.1025115460130912, 'tp': 22, 'tn': 33, 'fp': 17, 'fn': 28, 'auroc': 0.5044, 'auprc': 0.5133099920981021, 'eval_loss': 0.8018463368599231}\n",
            "Correct predictions are:  55\n",
            "Total predictions are:  100\n",
            "Accuracy on test set is: 0.55 \n",
            "\n",
            "\n",
            "\n",
            "EPOCH NUMBER:  7\n",
            "\n",
            "NOW TRAIN THE MODEL.\n"
          ]
        },
        {
          "output_type": "stream",
          "name": "stderr",
          "text": [
            "  0%|▍                                                                                 | 1/200 [00:09<30:08,  9.09s/it]\n",
            "Epoch 1 of 1:   0%|                                                                              | 0/1 [00:00<?, ?it/s]\n",
            "Running Epoch 0 of 1:   0%|                                                                     | 0/25 [00:00<?, ?it/s]\u001b[A\n",
            "Running Epoch 0 of 1:   4%|██▍                                                          | 1/25 [00:02<00:56,  2.34s/it]\u001b[A\n",
            "Running Epoch 0 of 1:   8%|████▉                                                        | 2/25 [00:04<00:53,  2.32s/it]\u001b[A\n",
            "Running Epoch 0 of 1:  12%|███████▎                                                     | 3/25 [00:06<00:50,  2.31s/it]\u001b[A\n",
            "Running Epoch 0 of 1:  16%|█████████▊                                                   | 4/25 [00:09<00:48,  2.31s/it]\u001b[A\n",
            "Running Epoch 0 of 1:  20%|████████████▏                                                | 5/25 [00:11<00:45,  2.30s/it]\u001b[A\n",
            "Running Epoch 0 of 1:  24%|██████████████▋                                              | 6/25 [00:13<00:43,  2.29s/it]\u001b[A\n",
            "Running Epoch 0 of 1:  28%|█████████████████                                            | 7/25 [00:16<00:41,  2.30s/it]\u001b[A\n",
            "Running Epoch 0 of 1:  32%|███████████████████▌                                         | 8/25 [00:18<00:39,  2.30s/it]\u001b[A\n",
            "Running Epoch 0 of 1:  36%|█████████████████████▉                                       | 9/25 [00:20<00:36,  2.29s/it]\u001b[A\n",
            "Running Epoch 0 of 1:  40%|████████████████████████                                    | 10/25 [00:23<00:34,  2.31s/it]\u001b[A\n",
            "Running Epoch 0 of 1:  44%|██████████████████████████▍                                 | 11/25 [00:25<00:32,  2.30s/it]\u001b[A\n",
            "Running Epoch 0 of 1:  48%|████████████████████████████▊                               | 12/25 [00:27<00:29,  2.30s/it]\u001b[A\n",
            "Running Epoch 0 of 1:  52%|███████████████████████████████▏                            | 13/25 [00:29<00:27,  2.30s/it]\u001b[A\n",
            "Running Epoch 0 of 1:  56%|█████████████████████████████████▌                          | 14/25 [00:32<00:25,  2.30s/it]\u001b[A\n",
            "Running Epoch 0 of 1:  60%|████████████████████████████████████                        | 15/25 [00:34<00:23,  2.30s/it]\u001b[A\n",
            "Running Epoch 0 of 1:  64%|██████████████████████████████████████▍                     | 16/25 [00:36<00:20,  2.30s/it]\u001b[A\n",
            "Running Epoch 0 of 1:  68%|████████████████████████████████████████▊                   | 17/25 [00:39<00:18,  2.31s/it]\u001b[A\n",
            "Running Epoch 0 of 1:  72%|███████████████████████████████████████████▏                | 18/25 [00:41<00:16,  2.30s/it]\u001b[A\n",
            "Running Epoch 0 of 1:  76%|█████████████████████████████████████████████▌              | 19/25 [00:43<00:13,  2.30s/it]\u001b[A\n",
            "Running Epoch 0 of 1:  80%|████████████████████████████████████████████████            | 20/25 [00:46<00:11,  2.31s/it]\u001b[A\n",
            "Running Epoch 0 of 1:  84%|██████████████████████████████████████████████████▍         | 21/25 [00:48<00:09,  2.31s/it]\u001b[A\n",
            "Running Epoch 0 of 1:  88%|████████████████████████████████████████████████████▊       | 22/25 [00:50<00:06,  2.31s/it]\u001b[A\n",
            "Running Epoch 0 of 1:  92%|███████████████████████████████████████████████████████▏    | 23/25 [00:53<00:04,  2.31s/it]\u001b[A\n",
            "Running Epoch 0 of 1:  96%|█████████████████████████████████████████████████████████▌  | 24/25 [00:55<00:02,  2.31s/it]\u001b[A\n",
            "Running Epoch 0 of 1: 100%|████████████████████████████████████████████████████████████| 25/25 [00:57<00:00,  2.31s/it]\n",
            "Epoch 1 of 1: 100%|██████████████████████████████████████████████████████████████████████| 1/1 [00:57<00:00, 57.63s/it]\n",
            "C:\\Users\\Domenico\\.conda\\envs\\tf\\lib\\site-packages\\simpletransformers\\classification\\classification_model.py:1454: UserWarning: Dataframe headers not specified. Falling back to using column 0 as text and column 1 as labels.\n",
            "  warnings.warn(\n"
          ]
        },
        {
          "output_type": "stream",
          "name": "stdout",
          "text": [
            "\n",
            "NOW EVALUATE THE TEST DF.\n"
          ]
        },
        {
          "output_type": "stream",
          "name": "stderr",
          "text": [
            "  1%|▊                                                                                 | 1/100 [00:07<11:50,  7.18s/it]\n",
            "Running Evaluation: 100%|██████████████████████████████████████████████████████████████| 13/13 [00:07<00:00,  1.77it/s]\n",
            "C:\\Users\\Domenico\\.conda\\envs\\tf\\lib\\site-packages\\simpletransformers\\classification\\classification_model.py:612: UserWarning: Dataframe headers not specified. Falling back to using column 0 as text and column 1 as labels.\n",
            "  warnings.warn(\n"
          ]
        },
        {
          "output_type": "stream",
          "name": "stdout",
          "text": [
            "{'mcc': 0.22552540122880066, 'tp': 36, 'tn': 25, 'fp': 25, 'fn': 14, 'auroc': 0.6044, 'auprc': 0.5788456025521601, 'eval_loss': 0.8765030938845414}\n",
            "Correct predictions are:  61\n",
            "Total predictions are:  100\n",
            "Accuracy on test set is: 0.61 \n",
            "\n",
            "\n",
            "\n",
            "EPOCH NUMBER:  8\n",
            "\n",
            "NOW TRAIN THE MODEL.\n"
          ]
        },
        {
          "output_type": "stream",
          "name": "stderr",
          "text": [
            "  0%|▍                                                                                 | 1/200 [00:09<30:15,  9.12s/it]\n",
            "Epoch 1 of 1:   0%|                                                                              | 0/1 [00:00<?, ?it/s]\n",
            "Running Epoch 0 of 1:   0%|                                                                     | 0/25 [00:00<?, ?it/s]\u001b[A\n",
            "Running Epoch 0 of 1:   4%|██▍                                                          | 1/25 [00:02<00:55,  2.31s/it]\u001b[A\n",
            "Running Epoch 0 of 1:   8%|████▉                                                        | 2/25 [00:04<00:52,  2.28s/it]\u001b[A\n",
            "Running Epoch 0 of 1:  12%|███████▎                                                     | 3/25 [00:06<00:50,  2.28s/it]\u001b[A\n",
            "Running Epoch 0 of 1:  16%|█████████▊                                                   | 4/25 [00:09<00:48,  2.29s/it]\u001b[A\n",
            "Running Epoch 0 of 1:  20%|████████████▏                                                | 5/25 [00:11<00:45,  2.29s/it]\u001b[A\n",
            "Running Epoch 0 of 1:  24%|██████████████▋                                              | 6/25 [00:13<00:43,  2.28s/it]\u001b[A\n",
            "Running Epoch 0 of 1:  28%|█████████████████                                            | 7/25 [00:16<00:41,  2.29s/it]\u001b[A\n",
            "Running Epoch 0 of 1:  32%|███████████████████▌                                         | 8/25 [00:18<00:38,  2.29s/it]\u001b[A\n",
            "Running Epoch 0 of 1:  36%|█████████████████████▉                                       | 9/25 [00:20<00:36,  2.29s/it]\u001b[A\n",
            "Running Epoch 0 of 1:  40%|████████████████████████                                    | 10/25 [00:22<00:34,  2.29s/it]\u001b[A\n",
            "Running Epoch 0 of 1:  44%|██████████████████████████▍                                 | 11/25 [00:25<00:32,  2.30s/it]\u001b[A\n",
            "Running Epoch 0 of 1:  48%|████████████████████████████▊                               | 12/25 [00:27<00:29,  2.30s/it]\u001b[A\n",
            "Running Epoch 0 of 1:  52%|███████████████████████████████▏                            | 13/25 [00:29<00:27,  2.30s/it]\u001b[A\n",
            "Running Epoch 0 of 1:  56%|█████████████████████████████████▌                          | 14/25 [00:32<00:25,  2.30s/it]\u001b[A\n",
            "Running Epoch 0 of 1:  60%|████████████████████████████████████                        | 15/25 [00:34<00:23,  2.31s/it]\u001b[A\n",
            "Running Epoch 0 of 1:  64%|██████████████████████████████████████▍                     | 16/25 [00:36<00:20,  2.30s/it]\u001b[A\n",
            "Running Epoch 0 of 1:  68%|████████████████████████████████████████▊                   | 17/25 [00:39<00:18,  2.30s/it]\u001b[A\n",
            "Running Epoch 0 of 1:  72%|███████████████████████████████████████████▏                | 18/25 [00:41<00:16,  2.30s/it]\u001b[A\n",
            "Running Epoch 0 of 1:  76%|█████████████████████████████████████████████▌              | 19/25 [00:43<00:13,  2.30s/it]\u001b[A\n",
            "Running Epoch 0 of 1:  80%|████████████████████████████████████████████████            | 20/25 [00:45<00:11,  2.32s/it]\u001b[A\n",
            "Running Epoch 0 of 1:  84%|██████████████████████████████████████████████████▍         | 21/25 [00:48<00:09,  2.32s/it]\u001b[A\n",
            "Running Epoch 0 of 1:  88%|████████████████████████████████████████████████████▊       | 22/25 [00:50<00:06,  2.32s/it]\u001b[A\n",
            "Running Epoch 0 of 1:  92%|███████████████████████████████████████████████████████▏    | 23/25 [00:52<00:04,  2.32s/it]\u001b[A\n",
            "Running Epoch 0 of 1:  96%|█████████████████████████████████████████████████████████▌  | 24/25 [00:55<00:02,  2.32s/it]\u001b[A\n",
            "Running Epoch 0 of 1: 100%|████████████████████████████████████████████████████████████| 25/25 [00:57<00:00,  2.30s/it]\n",
            "Epoch 1 of 1: 100%|██████████████████████████████████████████████████████████████████████| 1/1 [00:57<00:00, 57.56s/it]\n",
            "C:\\Users\\Domenico\\.conda\\envs\\tf\\lib\\site-packages\\simpletransformers\\classification\\classification_model.py:1454: UserWarning: Dataframe headers not specified. Falling back to using column 0 as text and column 1 as labels.\n",
            "  warnings.warn(\n"
          ]
        },
        {
          "output_type": "stream",
          "name": "stdout",
          "text": [
            "\n",
            "NOW EVALUATE THE TEST DF.\n"
          ]
        },
        {
          "output_type": "stream",
          "name": "stderr",
          "text": [
            "  1%|▊                                                                                 | 1/100 [00:07<11:51,  7.19s/it]\n",
            "Running Evaluation: 100%|██████████████████████████████████████████████████████████████| 13/13 [00:07<00:00,  1.78it/s]\n",
            "C:\\Users\\Domenico\\.conda\\envs\\tf\\lib\\site-packages\\simpletransformers\\classification\\classification_model.py:612: UserWarning: Dataframe headers not specified. Falling back to using column 0 as text and column 1 as labels.\n",
            "  warnings.warn(\n"
          ]
        },
        {
          "output_type": "stream",
          "name": "stdout",
          "text": [
            "{'mcc': 0.10633485251477835, 'tp': 36, 'tn': 19, 'fp': 31, 'fn': 14, 'auroc': 0.5524, 'auprc': 0.551957869409551, 'eval_loss': 1.5679613139766913}\n",
            "Correct predictions are:  55\n",
            "Total predictions are:  100\n",
            "Accuracy on test set is: 0.55 \n",
            "\n",
            "\n",
            "\n",
            "EPOCH NUMBER:  9\n",
            "\n",
            "NOW TRAIN THE MODEL.\n"
          ]
        },
        {
          "output_type": "stream",
          "name": "stderr",
          "text": [
            "  0%|▍                                                                                 | 1/200 [00:09<30:12,  9.11s/it]\n",
            "Epoch 1 of 1:   0%|                                                                              | 0/1 [00:00<?, ?it/s]\n",
            "Running Epoch 0 of 1:   0%|                                                                     | 0/25 [00:00<?, ?it/s]\u001b[A\n",
            "Running Epoch 0 of 1:   4%|██▍                                                          | 1/25 [00:02<00:56,  2.35s/it]\u001b[A\n",
            "Running Epoch 0 of 1:   8%|████▉                                                        | 2/25 [00:04<00:52,  2.30s/it]\u001b[A\n",
            "Running Epoch 0 of 1:  12%|███████▎                                                     | 3/25 [00:06<00:50,  2.28s/it]\u001b[A\n",
            "Running Epoch 0 of 1:  16%|█████████▊                                                   | 4/25 [00:09<00:48,  2.29s/it]\u001b[A\n",
            "Running Epoch 0 of 1:  20%|████████████▏                                                | 5/25 [00:11<00:45,  2.29s/it]\u001b[A\n",
            "Running Epoch 0 of 1:  24%|██████████████▋                                              | 6/25 [00:13<00:43,  2.29s/it]\u001b[A\n",
            "Running Epoch 0 of 1:  28%|█████████████████                                            | 7/25 [00:16<00:41,  2.28s/it]\u001b[A\n",
            "Running Epoch 0 of 1:  32%|███████████████████▌                                         | 8/25 [00:18<00:38,  2.29s/it]\u001b[A\n",
            "Running Epoch 0 of 1:  36%|█████████████████████▉                                       | 9/25 [00:20<00:36,  2.29s/it]\u001b[A\n",
            "Running Epoch 0 of 1:  40%|████████████████████████                                    | 10/25 [00:22<00:34,  2.29s/it]\u001b[A\n",
            "Running Epoch 0 of 1:  44%|██████████████████████████▍                                 | 11/25 [00:25<00:32,  2.30s/it]\u001b[A\n",
            "Running Epoch 0 of 1:  48%|████████████████████████████▊                               | 12/25 [00:27<00:29,  2.31s/it]\u001b[A\n",
            "Running Epoch 0 of 1:  52%|███████████████████████████████▏                            | 13/25 [00:29<00:27,  2.29s/it]\u001b[A\n",
            "Running Epoch 0 of 1:  56%|█████████████████████████████████▌                          | 14/25 [00:32<00:25,  2.30s/it]\u001b[A\n",
            "Running Epoch 0 of 1:  60%|████████████████████████████████████                        | 15/25 [00:34<00:22,  2.30s/it]\u001b[A\n",
            "Running Epoch 0 of 1:  64%|██████████████████████████████████████▍                     | 16/25 [00:36<00:20,  2.30s/it]\u001b[A\n",
            "Running Epoch 0 of 1:  68%|████████████████████████████████████████▊                   | 17/25 [00:39<00:18,  2.29s/it]\u001b[A\n",
            "Running Epoch 0 of 1:  72%|███████████████████████████████████████████▏                | 18/25 [00:41<00:16,  2.30s/it]\u001b[A\n",
            "Running Epoch 0 of 1:  76%|█████████████████████████████████████████████▌              | 19/25 [00:43<00:13,  2.30s/it]\u001b[A\n",
            "Running Epoch 0 of 1:  80%|████████████████████████████████████████████████            | 20/25 [00:45<00:11,  2.29s/it]\u001b[A\n",
            "Running Epoch 0 of 1:  84%|██████████████████████████████████████████████████▍         | 21/25 [00:48<00:09,  2.30s/it]\u001b[A\n",
            "Running Epoch 0 of 1:  88%|████████████████████████████████████████████████████▊       | 22/25 [00:50<00:06,  2.30s/it]\u001b[A\n",
            "Running Epoch 0 of 1:  92%|███████████████████████████████████████████████████████▏    | 23/25 [00:52<00:04,  2.29s/it]\u001b[A\n",
            "Running Epoch 0 of 1:  96%|█████████████████████████████████████████████████████████▌  | 24/25 [00:55<00:02,  2.29s/it]\u001b[A\n",
            "Running Epoch 0 of 1: 100%|████████████████████████████████████████████████████████████| 25/25 [00:57<00:00,  2.30s/it]\n",
            "Epoch 1 of 1: 100%|██████████████████████████████████████████████████████████████████████| 1/1 [00:57<00:00, 57.40s/it]\n",
            "C:\\Users\\Domenico\\.conda\\envs\\tf\\lib\\site-packages\\simpletransformers\\classification\\classification_model.py:1454: UserWarning: Dataframe headers not specified. Falling back to using column 0 as text and column 1 as labels.\n",
            "  warnings.warn(\n"
          ]
        },
        {
          "output_type": "stream",
          "name": "stdout",
          "text": [
            "\n",
            "NOW EVALUATE THE TEST DF.\n"
          ]
        },
        {
          "output_type": "stream",
          "name": "stderr",
          "text": [
            "  1%|▊                                                                                 | 1/100 [00:07<11:46,  7.13s/it]\n",
            "Running Evaluation: 100%|██████████████████████████████████████████████████████████████| 13/13 [00:07<00:00,  1.79it/s]\n"
          ]
        },
        {
          "output_type": "stream",
          "name": "stdout",
          "text": [
            "{'mcc': -0.04222003309207491, 'tp': 16, 'tn': 32, 'fp': 18, 'fn': 34, 'auroc': 0.544, 'auprc': 0.5481183139821727, 'eval_loss': 1.97404944896698}\n",
            "Correct predictions are:  48\n",
            "Total predictions are:  100\n",
            "Accuracy on test set is: 0.48 \n",
            "\n",
            "\n",
            "[0.5, 0.51, 0.52, 0.52, 0.53, 0.53, 0.55, 0.61, 0.55, 0.48]\n"
          ]
        },
        {
          "output_type": "stream",
          "name": "stderr",
          "text": [
            "Some weights of the model checkpoint at roberta-base were not used when initializing RobertaForSequenceClassification: ['lm_head.bias', 'lm_head.layer_norm.bias', 'roberta.pooler.dense.weight', 'lm_head.decoder.weight', 'roberta.pooler.dense.bias', 'lm_head.layer_norm.weight', 'lm_head.dense.bias', 'lm_head.dense.weight']\n",
            "- This IS expected if you are initializing RobertaForSequenceClassification from the checkpoint of a model trained on another task or with another architecture (e.g. initializing a BertForSequenceClassification model from a BertForPreTraining model).\n",
            "- This IS NOT expected if you are initializing RobertaForSequenceClassification from the checkpoint of a model that you expect to be exactly identical (initializing a BertForSequenceClassification model from a BertForSequenceClassification model).\n",
            "Some weights of RobertaForSequenceClassification were not initialized from the model checkpoint at roberta-base and are newly initialized: ['classifier.out_proj.weight', 'classifier.dense.weight', 'classifier.out_proj.bias', 'classifier.dense.bias']\n",
            "You should probably TRAIN this model on a down-stream task to be able to use it for predictions and inference.\n",
            "C:\\Users\\Domenico\\.conda\\envs\\tf\\lib\\site-packages\\simpletransformers\\classification\\classification_model.py:612: UserWarning: Dataframe headers not specified. Falling back to using column 0 as text and column 1 as labels.\n",
            "  warnings.warn(\n"
          ]
        },
        {
          "output_type": "stream",
          "name": "stdout",
          "text": [
            "\n",
            "EPOCH NUMBER:  0\n",
            "\n",
            "NOW TRAIN THE MODEL.\n"
          ]
        },
        {
          "output_type": "stream",
          "name": "stderr",
          "text": [
            "  0%|▍                                                                                 | 1/200 [00:09<30:04,  9.07s/it]\n",
            "Epoch 1 of 1:   0%|                                                                              | 0/1 [00:00<?, ?it/s]\n",
            "Running Epoch 0 of 1:   0%|                                                                     | 0/25 [00:00<?, ?it/s]\u001b[A\n",
            "Running Epoch 0 of 1:   4%|██▍                                                          | 1/25 [00:02<00:53,  2.23s/it]\u001b[A\n",
            "Running Epoch 0 of 1:   8%|████▉                                                        | 2/25 [00:04<00:52,  2.26s/it]\u001b[A\n",
            "Running Epoch 0 of 1:  12%|███████▎                                                     | 3/25 [00:06<00:50,  2.29s/it]\u001b[A\n",
            "Running Epoch 0 of 1:  16%|█████████▊                                                   | 4/25 [00:09<00:47,  2.28s/it]\u001b[A\n",
            "Running Epoch 0 of 1:  20%|████████████▏                                                | 5/25 [00:11<00:45,  2.28s/it]\u001b[A\n",
            "Running Epoch 0 of 1:  24%|██████████████▋                                              | 6/25 [00:13<00:43,  2.29s/it]\u001b[A\n",
            "Running Epoch 0 of 1:  28%|█████████████████                                            | 7/25 [00:15<00:41,  2.28s/it]\u001b[A\n",
            "Running Epoch 0 of 1:  32%|███████████████████▌                                         | 8/25 [00:18<00:38,  2.28s/it]\u001b[A\n",
            "Running Epoch 0 of 1:  36%|█████████████████████▉                                       | 9/25 [00:20<00:36,  2.28s/it]\u001b[A\n",
            "Running Epoch 0 of 1:  40%|████████████████████████                                    | 10/25 [00:22<00:34,  2.29s/it]\u001b[A\n",
            "Running Epoch 0 of 1:  44%|██████████████████████████▍                                 | 11/25 [00:25<00:32,  2.29s/it]\u001b[A\n",
            "Running Epoch 0 of 1:  48%|████████████████████████████▊                               | 12/25 [00:27<00:29,  2.30s/it]\u001b[A\n",
            "Running Epoch 0 of 1:  52%|███████████████████████████████▏                            | 13/25 [00:29<00:27,  2.31s/it]\u001b[A\n",
            "Running Epoch 0 of 1:  56%|█████████████████████████████████▌                          | 14/25 [00:32<00:25,  2.31s/it]\u001b[A\n",
            "Running Epoch 0 of 1:  60%|████████████████████████████████████                        | 15/25 [00:34<00:23,  2.31s/it]\u001b[A\n",
            "Running Epoch 0 of 1:  64%|██████████████████████████████████████▍                     | 16/25 [00:36<00:20,  2.31s/it]\u001b[A\n",
            "Running Epoch 0 of 1:  68%|████████████████████████████████████████▊                   | 17/25 [00:39<00:18,  2.31s/it]\u001b[A\n",
            "Running Epoch 0 of 1:  72%|███████████████████████████████████████████▏                | 18/25 [00:41<00:16,  2.30s/it]\u001b[A\n",
            "Running Epoch 0 of 1:  76%|█████████████████████████████████████████████▌              | 19/25 [00:43<00:13,  2.30s/it]\u001b[A\n",
            "Running Epoch 0 of 1:  80%|████████████████████████████████████████████████            | 20/25 [00:45<00:11,  2.31s/it]\u001b[A\n",
            "Running Epoch 0 of 1:  84%|██████████████████████████████████████████████████▍         | 21/25 [00:48<00:09,  2.30s/it]\u001b[A\n",
            "Running Epoch 0 of 1:  88%|████████████████████████████████████████████████████▊       | 22/25 [00:50<00:06,  2.29s/it]\u001b[A\n",
            "Running Epoch 0 of 1:  92%|███████████████████████████████████████████████████████▏    | 23/25 [00:52<00:04,  2.30s/it]\u001b[A\n",
            "Running Epoch 0 of 1:  96%|█████████████████████████████████████████████████████████▌  | 24/25 [00:55<00:02,  2.30s/it]\u001b[A\n",
            "Running Epoch 0 of 1: 100%|████████████████████████████████████████████████████████████| 25/25 [00:57<00:00,  2.30s/it]\n",
            "Epoch 1 of 1: 100%|██████████████████████████████████████████████████████████████████████| 1/1 [00:57<00:00, 57.40s/it]\n",
            "C:\\Users\\Domenico\\.conda\\envs\\tf\\lib\\site-packages\\simpletransformers\\classification\\classification_model.py:1454: UserWarning: Dataframe headers not specified. Falling back to using column 0 as text and column 1 as labels.\n",
            "  warnings.warn(\n"
          ]
        },
        {
          "output_type": "stream",
          "name": "stdout",
          "text": [
            "\n",
            "NOW EVALUATE THE TEST DF.\n"
          ]
        },
        {
          "output_type": "stream",
          "name": "stderr",
          "text": [
            "  1%|▊                                                                                 | 1/100 [00:07<11:45,  7.12s/it]\n",
            "Running Evaluation: 100%|██████████████████████████████████████████████████████████████| 13/13 [00:07<00:00,  1.76it/s]\n",
            "C:\\Users\\Domenico\\.conda\\envs\\tf\\lib\\site-packages\\simpletransformers\\classification\\classification_model.py:612: UserWarning: Dataframe headers not specified. Falling back to using column 0 as text and column 1 as labels.\n",
            "  warnings.warn(\n"
          ]
        },
        {
          "output_type": "stream",
          "name": "stdout",
          "text": [
            "{'mcc': 0.0, 'tp': 50, 'tn': 0, 'fp': 50, 'fn': 0, 'auroc': 0.3348, 'auprc': 0.4030966991424862, 'eval_loss': 0.6953416879360492}\n",
            "Correct predictions are:  50\n",
            "Total predictions are:  100\n",
            "Accuracy on test set is: 0.5 \n",
            "\n",
            "\n",
            "\n",
            "EPOCH NUMBER:  1\n",
            "\n",
            "NOW TRAIN THE MODEL.\n"
          ]
        },
        {
          "output_type": "stream",
          "name": "stderr",
          "text": [
            "  0%|▍                                                                                 | 1/200 [00:09<30:10,  9.10s/it]\n",
            "Epoch 1 of 1:   0%|                                                                              | 0/1 [00:00<?, ?it/s]\n",
            "Running Epoch 0 of 1:   0%|                                                                     | 0/25 [00:00<?, ?it/s]\u001b[A\n",
            "Running Epoch 0 of 1:   4%|██▍                                                          | 1/25 [00:02<00:55,  2.32s/it]\u001b[A\n",
            "Running Epoch 0 of 1:   8%|████▉                                                        | 2/25 [00:04<00:52,  2.29s/it]\u001b[A\n",
            "Running Epoch 0 of 1:  12%|███████▎                                                     | 3/25 [00:06<00:50,  2.28s/it]\u001b[A\n",
            "Running Epoch 0 of 1:  16%|█████████▊                                                   | 4/25 [00:09<00:48,  2.29s/it]\u001b[A\n",
            "Running Epoch 0 of 1:  20%|████████████▏                                                | 5/25 [00:11<00:45,  2.29s/it]\u001b[A\n",
            "Running Epoch 0 of 1:  24%|██████████████▋                                              | 6/25 [00:13<00:43,  2.28s/it]\u001b[A\n",
            "Running Epoch 0 of 1:  28%|█████████████████                                            | 7/25 [00:16<00:41,  2.30s/it]\u001b[A\n",
            "Running Epoch 0 of 1:  32%|███████████████████▌                                         | 8/25 [00:18<00:39,  2.30s/it]\u001b[A\n",
            "Running Epoch 0 of 1:  36%|█████████████████████▉                                       | 9/25 [00:20<00:36,  2.30s/it]\u001b[A\n",
            "Running Epoch 0 of 1:  40%|████████████████████████                                    | 10/25 [00:22<00:34,  2.31s/it]\u001b[A\n",
            "Running Epoch 0 of 1:  44%|██████████████████████████▍                                 | 11/25 [00:25<00:32,  2.30s/it]\u001b[A\n",
            "Running Epoch 0 of 1:  48%|████████████████████████████▊                               | 12/25 [00:27<00:29,  2.30s/it]\u001b[A\n",
            "Running Epoch 0 of 1:  52%|███████████████████████████████▏                            | 13/25 [00:29<00:28,  2.33s/it]\u001b[A\n",
            "Running Epoch 0 of 1:  56%|█████████████████████████████████▌                          | 14/25 [00:32<00:26,  2.37s/it]\u001b[A\n",
            "Running Epoch 0 of 1:  60%|████████████████████████████████████                        | 15/25 [00:34<00:23,  2.37s/it]\u001b[A\n",
            "Running Epoch 0 of 1:  64%|██████████████████████████████████████▍                     | 16/25 [00:37<00:21,  2.35s/it]\u001b[A\n",
            "Running Epoch 0 of 1:  68%|████████████████████████████████████████▊                   | 17/25 [00:39<00:18,  2.33s/it]\u001b[A\n",
            "Running Epoch 0 of 1:  72%|███████████████████████████████████████████▏                | 18/25 [00:41<00:16,  2.32s/it]\u001b[A\n",
            "Running Epoch 0 of 1:  76%|█████████████████████████████████████████████▌              | 19/25 [00:44<00:13,  2.32s/it]\u001b[A\n",
            "Running Epoch 0 of 1:  80%|████████████████████████████████████████████████            | 20/25 [00:46<00:11,  2.32s/it]\u001b[A\n",
            "Running Epoch 0 of 1:  84%|██████████████████████████████████████████████████▍         | 21/25 [00:48<00:09,  2.32s/it]\u001b[A\n",
            "Running Epoch 0 of 1:  88%|████████████████████████████████████████████████████▊       | 22/25 [00:50<00:06,  2.32s/it]\u001b[A\n",
            "Running Epoch 0 of 1:  92%|███████████████████████████████████████████████████████▏    | 23/25 [00:53<00:04,  2.31s/it]\u001b[A\n",
            "Running Epoch 0 of 1:  96%|█████████████████████████████████████████████████████████▌  | 24/25 [00:55<00:02,  2.30s/it]\u001b[A\n",
            "Running Epoch 0 of 1: 100%|████████████████████████████████████████████████████████████| 25/25 [00:57<00:00,  2.32s/it]\n",
            "Epoch 1 of 1: 100%|██████████████████████████████████████████████████████████████████████| 1/1 [00:57<00:00, 57.89s/it]\n",
            "C:\\Users\\Domenico\\.conda\\envs\\tf\\lib\\site-packages\\simpletransformers\\classification\\classification_model.py:1454: UserWarning: Dataframe headers not specified. Falling back to using column 0 as text and column 1 as labels.\n",
            "  warnings.warn(\n"
          ]
        },
        {
          "output_type": "stream",
          "name": "stdout",
          "text": [
            "\n",
            "NOW EVALUATE THE TEST DF.\n"
          ]
        },
        {
          "output_type": "stream",
          "name": "stderr",
          "text": [
            "  1%|▊                                                                                 | 1/100 [00:07<11:49,  7.16s/it]\n",
            "Running Evaluation: 100%|██████████████████████████████████████████████████████████████| 13/13 [00:07<00:00,  1.79it/s]\n",
            "C:\\Users\\Domenico\\.conda\\envs\\tf\\lib\\site-packages\\simpletransformers\\classification\\classification_model.py:612: UserWarning: Dataframe headers not specified. Falling back to using column 0 as text and column 1 as labels.\n",
            "  warnings.warn(\n"
          ]
        },
        {
          "output_type": "stream",
          "name": "stdout",
          "text": [
            "{'mcc': -0.2279803762937766, 'tp': 8, 'tn': 32, 'fp': 18, 'fn': 42, 'auroc': 0.35319999999999996, 'auprc': 0.4394482611202633, 'eval_loss': 0.7006023572041438}\n",
            "Correct predictions are:  40\n",
            "Total predictions are:  100\n",
            "Accuracy on test set is: 0.4 \n",
            "\n",
            "\n",
            "\n",
            "EPOCH NUMBER:  2\n",
            "\n",
            "NOW TRAIN THE MODEL.\n"
          ]
        },
        {
          "output_type": "stream",
          "name": "stderr",
          "text": [
            "  0%|▍                                                                                 | 1/200 [00:09<30:33,  9.22s/it]\n",
            "Epoch 1 of 1:   0%|                                                                              | 0/1 [00:00<?, ?it/s]\n",
            "Running Epoch 0 of 1:   0%|                                                                     | 0/25 [00:00<?, ?it/s]\u001b[A\n",
            "Running Epoch 0 of 1:   4%|██▍                                                          | 1/25 [00:02<00:55,  2.32s/it]\u001b[A\n",
            "Running Epoch 0 of 1:   8%|████▉                                                        | 2/25 [00:04<00:52,  2.29s/it]\u001b[A\n",
            "Running Epoch 0 of 1:  12%|███████▎                                                     | 3/25 [00:06<00:50,  2.30s/it]\u001b[A\n",
            "Running Epoch 0 of 1:  16%|█████████▊                                                   | 4/25 [00:09<00:48,  2.30s/it]\u001b[A\n",
            "Running Epoch 0 of 1:  20%|████████████▏                                                | 5/25 [00:11<00:46,  2.30s/it]\u001b[A\n",
            "Running Epoch 0 of 1:  24%|██████████████▋                                              | 6/25 [00:13<00:43,  2.31s/it]\u001b[A\n",
            "Running Epoch 0 of 1:  28%|█████████████████                                            | 7/25 [00:16<00:41,  2.30s/it]\u001b[A\n",
            "Running Epoch 0 of 1:  32%|███████████████████▌                                         | 8/25 [00:18<00:39,  2.30s/it]\u001b[A\n",
            "Running Epoch 0 of 1:  36%|█████████████████████▉                                       | 9/25 [00:20<00:36,  2.30s/it]\u001b[A\n",
            "Running Epoch 0 of 1:  40%|████████████████████████                                    | 10/25 [00:23<00:34,  2.30s/it]\u001b[A\n",
            "Running Epoch 0 of 1:  44%|██████████████████████████▍                                 | 11/25 [00:25<00:32,  2.30s/it]\u001b[A\n",
            "Running Epoch 0 of 1:  48%|████████████████████████████▊                               | 12/25 [00:27<00:29,  2.30s/it]\u001b[A\n",
            "Running Epoch 0 of 1:  52%|███████████████████████████████▏                            | 13/25 [00:29<00:27,  2.31s/it]\u001b[A\n",
            "Running Epoch 0 of 1:  56%|█████████████████████████████████▌                          | 14/25 [00:32<00:25,  2.30s/it]\u001b[A\n",
            "Running Epoch 0 of 1:  60%|████████████████████████████████████                        | 15/25 [00:34<00:23,  2.30s/it]\u001b[A\n",
            "Running Epoch 0 of 1:  64%|██████████████████████████████████████▍                     | 16/25 [00:36<00:20,  2.30s/it]\u001b[A\n",
            "Running Epoch 0 of 1:  68%|████████████████████████████████████████▊                   | 17/25 [00:39<00:18,  2.30s/it]\u001b[A\n",
            "Running Epoch 0 of 1:  72%|███████████████████████████████████████████▏                | 18/25 [00:41<00:16,  2.30s/it]\u001b[A\n",
            "Running Epoch 0 of 1:  76%|█████████████████████████████████████████████▌              | 19/25 [00:43<00:13,  2.30s/it]\u001b[A\n",
            "Running Epoch 0 of 1:  80%|████████████████████████████████████████████████            | 20/25 [00:46<00:11,  2.30s/it]\u001b[A\n",
            "Running Epoch 0 of 1:  84%|██████████████████████████████████████████████████▍         | 21/25 [00:48<00:09,  2.30s/it]\u001b[A\n",
            "Running Epoch 0 of 1:  88%|████████████████████████████████████████████████████▊       | 22/25 [00:50<00:06,  2.31s/it]\u001b[A\n",
            "Running Epoch 0 of 1:  92%|███████████████████████████████████████████████████████▏    | 23/25 [00:53<00:04,  2.32s/it]\u001b[A\n",
            "Running Epoch 0 of 1:  96%|█████████████████████████████████████████████████████████▌  | 24/25 [00:55<00:02,  2.31s/it]\u001b[A\n",
            "Running Epoch 0 of 1: 100%|████████████████████████████████████████████████████████████| 25/25 [00:57<00:00,  2.31s/it]\n",
            "Epoch 1 of 1: 100%|██████████████████████████████████████████████████████████████████████| 1/1 [00:57<00:00, 57.66s/it]\n",
            "C:\\Users\\Domenico\\.conda\\envs\\tf\\lib\\site-packages\\simpletransformers\\classification\\classification_model.py:1454: UserWarning: Dataframe headers not specified. Falling back to using column 0 as text and column 1 as labels.\n",
            "  warnings.warn(\n"
          ]
        },
        {
          "output_type": "stream",
          "name": "stdout",
          "text": [
            "\n",
            "NOW EVALUATE THE TEST DF.\n"
          ]
        },
        {
          "output_type": "stream",
          "name": "stderr",
          "text": [
            "  1%|▊                                                                                 | 1/100 [00:07<11:51,  7.19s/it]\n",
            "Running Evaluation: 100%|██████████████████████████████████████████████████████████████| 13/13 [00:07<00:00,  1.78it/s]\n",
            "C:\\Users\\Domenico\\.conda\\envs\\tf\\lib\\site-packages\\simpletransformers\\classification\\classification_model.py:612: UserWarning: Dataframe headers not specified. Falling back to using column 0 as text and column 1 as labels.\n",
            "  warnings.warn(\n"
          ]
        },
        {
          "output_type": "stream",
          "name": "stdout",
          "text": [
            "{'mcc': 0.0, 'tp': 50, 'tn': 0, 'fp': 50, 'fn': 0, 'auroc': 0.49639999999999995, 'auprc': 0.4734950189805106, 'eval_loss': 0.7358016876073984}\n",
            "Correct predictions are:  50\n",
            "Total predictions are:  100\n",
            "Accuracy on test set is: 0.5 \n",
            "\n",
            "\n",
            "\n",
            "EPOCH NUMBER:  3\n",
            "\n",
            "NOW TRAIN THE MODEL.\n"
          ]
        },
        {
          "output_type": "stream",
          "name": "stderr",
          "text": [
            "  0%|▍                                                                                 | 1/200 [00:09<30:09,  9.09s/it]\n",
            "Epoch 1 of 1:   0%|                                                                              | 0/1 [00:00<?, ?it/s]\n",
            "Running Epoch 0 of 1:   0%|                                                                     | 0/25 [00:00<?, ?it/s]\u001b[A\n",
            "Running Epoch 0 of 1:   4%|██▍                                                          | 1/25 [00:02<00:56,  2.35s/it]\u001b[A\n",
            "Running Epoch 0 of 1:   8%|████▉                                                        | 2/25 [00:04<00:52,  2.30s/it]\u001b[A\n",
            "Running Epoch 0 of 1:  12%|███████▎                                                     | 3/25 [00:06<00:50,  2.30s/it]\u001b[A\n",
            "Running Epoch 0 of 1:  16%|█████████▊                                                   | 4/25 [00:09<00:48,  2.30s/it]\u001b[A\n",
            "Running Epoch 0 of 1:  20%|████████████▏                                                | 5/25 [00:11<00:45,  2.29s/it]\u001b[A\n",
            "Running Epoch 0 of 1:  24%|██████████████▋                                              | 6/25 [00:13<00:43,  2.30s/it]\u001b[A\n",
            "Running Epoch 0 of 1:  28%|█████████████████                                            | 7/25 [00:16<00:41,  2.30s/it]\u001b[A\n",
            "Running Epoch 0 of 1:  32%|███████████████████▌                                         | 8/25 [00:18<00:39,  2.30s/it]\u001b[A\n",
            "Running Epoch 0 of 1:  36%|█████████████████████▉                                       | 9/25 [00:20<00:36,  2.29s/it]\u001b[A\n",
            "Running Epoch 0 of 1:  40%|████████████████████████                                    | 10/25 [00:22<00:34,  2.30s/it]\u001b[A\n",
            "Running Epoch 0 of 1:  44%|██████████████████████████▍                                 | 11/25 [00:25<00:32,  2.30s/it]\u001b[A\n",
            "Running Epoch 0 of 1:  48%|████████████████████████████▊                               | 12/25 [00:27<00:29,  2.29s/it]\u001b[A\n",
            "Running Epoch 0 of 1:  52%|███████████████████████████████▏                            | 13/25 [00:29<00:27,  2.30s/it]\u001b[A\n",
            "Running Epoch 0 of 1:  56%|█████████████████████████████████▌                          | 14/25 [00:32<00:25,  2.30s/it]\u001b[A\n",
            "Running Epoch 0 of 1:  60%|████████████████████████████████████                        | 15/25 [00:34<00:22,  2.29s/it]\u001b[A\n",
            "Running Epoch 0 of 1:  64%|██████████████████████████████████████▍                     | 16/25 [00:36<00:20,  2.30s/it]\u001b[A\n",
            "Running Epoch 0 of 1:  68%|████████████████████████████████████████▊                   | 17/25 [00:39<00:18,  2.30s/it]\u001b[A\n",
            "Running Epoch 0 of 1:  72%|███████████████████████████████████████████▏                | 18/25 [00:41<00:16,  2.30s/it]\u001b[A\n",
            "Running Epoch 0 of 1:  76%|█████████████████████████████████████████████▌              | 19/25 [00:43<00:13,  2.30s/it]\u001b[A\n",
            "Running Epoch 0 of 1:  80%|████████████████████████████████████████████████            | 20/25 [00:45<00:11,  2.31s/it]\u001b[A\n",
            "Running Epoch 0 of 1:  84%|██████████████████████████████████████████████████▍         | 21/25 [00:48<00:09,  2.31s/it]\u001b[A\n",
            "Running Epoch 0 of 1:  88%|████████████████████████████████████████████████████▊       | 22/25 [00:50<00:06,  2.31s/it]\u001b[A\n",
            "Running Epoch 0 of 1:  92%|███████████████████████████████████████████████████████▏    | 23/25 [00:52<00:04,  2.31s/it]\u001b[A\n",
            "Running Epoch 0 of 1:  96%|█████████████████████████████████████████████████████████▌  | 24/25 [00:55<00:02,  2.31s/it]\u001b[A\n",
            "Running Epoch 0 of 1: 100%|████████████████████████████████████████████████████████████| 25/25 [00:57<00:00,  2.30s/it]\n",
            "Epoch 1 of 1: 100%|██████████████████████████████████████████████████████████████████████| 1/1 [00:57<00:00, 57.53s/it]\n",
            "C:\\Users\\Domenico\\.conda\\envs\\tf\\lib\\site-packages\\simpletransformers\\classification\\classification_model.py:1454: UserWarning: Dataframe headers not specified. Falling back to using column 0 as text and column 1 as labels.\n",
            "  warnings.warn(\n"
          ]
        },
        {
          "output_type": "stream",
          "name": "stdout",
          "text": [
            "\n",
            "NOW EVALUATE THE TEST DF.\n"
          ]
        },
        {
          "output_type": "stream",
          "name": "stderr",
          "text": [
            "  1%|▊                                                                                 | 1/100 [00:07<11:48,  7.16s/it]\n",
            "Running Evaluation: 100%|██████████████████████████████████████████████████████████████| 13/13 [00:07<00:00,  1.76it/s]\n",
            "C:\\Users\\Domenico\\.conda\\envs\\tf\\lib\\site-packages\\simpletransformers\\classification\\classification_model.py:612: UserWarning: Dataframe headers not specified. Falling back to using column 0 as text and column 1 as labels.\n",
            "  warnings.warn(\n"
          ]
        },
        {
          "output_type": "stream",
          "name": "stdout",
          "text": [
            "{'mcc': 0.0, 'tp': 50, 'tn': 0, 'fp': 50, 'fn': 0, 'auroc': 0.5635999999999999, 'auprc': 0.5701540894594143, 'eval_loss': 0.6933362438128545}\n",
            "Correct predictions are:  50\n",
            "Total predictions are:  100\n",
            "Accuracy on test set is: 0.5 \n",
            "\n",
            "\n",
            "\n",
            "EPOCH NUMBER:  4\n",
            "\n",
            "NOW TRAIN THE MODEL.\n"
          ]
        },
        {
          "output_type": "stream",
          "name": "stderr",
          "text": [
            "  0%|▍                                                                                 | 1/200 [00:09<31:10,  9.40s/it]\n",
            "Epoch 1 of 1:   0%|                                                                              | 0/1 [00:00<?, ?it/s]\n",
            "Running Epoch 0 of 1:   0%|                                                                     | 0/25 [00:00<?, ?it/s]\u001b[A\n",
            "Running Epoch 0 of 1:   4%|██▍                                                          | 1/25 [00:02<00:57,  2.40s/it]\u001b[A\n",
            "Running Epoch 0 of 1:   8%|████▉                                                        | 2/25 [00:04<00:54,  2.39s/it]\u001b[A\n",
            "Running Epoch 0 of 1:  12%|███████▎                                                     | 3/25 [00:07<00:52,  2.37s/it]\u001b[A\n",
            "Running Epoch 0 of 1:  16%|█████████▊                                                   | 4/25 [00:09<00:49,  2.35s/it]\u001b[A\n",
            "Running Epoch 0 of 1:  20%|████████████▏                                                | 5/25 [00:11<00:46,  2.35s/it]\u001b[A\n",
            "Running Epoch 0 of 1:  24%|██████████████▋                                              | 6/25 [00:14<00:44,  2.34s/it]\u001b[A\n",
            "Running Epoch 0 of 1:  28%|█████████████████                                            | 7/25 [00:16<00:41,  2.33s/it]\u001b[A\n",
            "Running Epoch 0 of 1:  32%|███████████████████▌                                         | 8/25 [00:18<00:39,  2.32s/it]\u001b[A\n",
            "Running Epoch 0 of 1:  36%|█████████████████████▉                                       | 9/25 [00:21<00:37,  2.31s/it]\u001b[A\n",
            "Running Epoch 0 of 1:  40%|████████████████████████                                    | 10/25 [00:23<00:34,  2.31s/it]\u001b[A\n",
            "Running Epoch 0 of 1:  44%|██████████████████████████▍                                 | 11/25 [00:25<00:32,  2.31s/it]\u001b[A\n",
            "Running Epoch 0 of 1:  48%|████████████████████████████▊                               | 12/25 [00:27<00:29,  2.31s/it]\u001b[A\n",
            "Running Epoch 0 of 1:  52%|███████████████████████████████▏                            | 13/25 [00:30<00:27,  2.30s/it]\u001b[A\n",
            "Running Epoch 0 of 1:  56%|█████████████████████████████████▌                          | 14/25 [00:32<00:25,  2.29s/it]\u001b[A\n",
            "Running Epoch 0 of 1:  60%|████████████████████████████████████                        | 15/25 [00:34<00:23,  2.31s/it]\u001b[A\n",
            "Running Epoch 0 of 1:  64%|██████████████████████████████████████▍                     | 16/25 [00:37<00:20,  2.30s/it]\u001b[A\n",
            "Running Epoch 0 of 1:  68%|████████████████████████████████████████▊                   | 17/25 [00:39<00:18,  2.30s/it]\u001b[A\n",
            "Running Epoch 0 of 1:  72%|███████████████████████████████████████████▏                | 18/25 [00:41<00:16,  2.30s/it]\u001b[A\n",
            "Running Epoch 0 of 1:  76%|█████████████████████████████████████████████▌              | 19/25 [00:44<00:13,  2.31s/it]\u001b[A\n",
            "Running Epoch 0 of 1:  80%|████████████████████████████████████████████████            | 20/25 [00:46<00:11,  2.30s/it]\u001b[A\n",
            "Running Epoch 0 of 1:  84%|██████████████████████████████████████████████████▍         | 21/25 [00:48<00:09,  2.31s/it]\u001b[A\n",
            "Running Epoch 0 of 1:  88%|████████████████████████████████████████████████████▊       | 22/25 [00:51<00:06,  2.32s/it]\u001b[A\n",
            "Running Epoch 0 of 1:  92%|███████████████████████████████████████████████████████▏    | 23/25 [00:53<00:04,  2.32s/it]\u001b[A\n",
            "Running Epoch 0 of 1:  96%|█████████████████████████████████████████████████████████▌  | 24/25 [00:55<00:02,  2.32s/it]\u001b[A\n",
            "Running Epoch 0 of 1: 100%|████████████████████████████████████████████████████████████| 25/25 [00:57<00:00,  2.32s/it]\n",
            "Epoch 1 of 1: 100%|██████████████████████████████████████████████████████████████████████| 1/1 [00:57<00:00, 57.98s/it]\n",
            "C:\\Users\\Domenico\\.conda\\envs\\tf\\lib\\site-packages\\simpletransformers\\classification\\classification_model.py:1454: UserWarning: Dataframe headers not specified. Falling back to using column 0 as text and column 1 as labels.\n",
            "  warnings.warn(\n"
          ]
        },
        {
          "output_type": "stream",
          "name": "stdout",
          "text": [
            "\n",
            "NOW EVALUATE THE TEST DF.\n"
          ]
        },
        {
          "output_type": "stream",
          "name": "stderr",
          "text": [
            "  1%|▊                                                                                 | 1/100 [00:07<11:44,  7.11s/it]\n",
            "Running Evaluation: 100%|██████████████████████████████████████████████████████████████| 13/13 [00:07<00:00,  1.77it/s]\n",
            "C:\\Users\\Domenico\\.conda\\envs\\tf\\lib\\site-packages\\simpletransformers\\classification\\classification_model.py:612: UserWarning: Dataframe headers not specified. Falling back to using column 0 as text and column 1 as labels.\n",
            "  warnings.warn(\n"
          ]
        },
        {
          "output_type": "stream",
          "name": "stdout",
          "text": [
            "{'mcc': 0.0, 'tp': 50, 'tn': 0, 'fp': 50, 'fn': 0, 'auroc': 0.44719999999999993, 'auprc': 0.469852132513956, 'eval_loss': 0.693191830928509}\n",
            "Correct predictions are:  50\n",
            "Total predictions are:  100\n",
            "Accuracy on test set is: 0.5 \n",
            "\n",
            "\n",
            "\n",
            "EPOCH NUMBER:  5\n",
            "\n",
            "NOW TRAIN THE MODEL.\n"
          ]
        },
        {
          "output_type": "stream",
          "name": "stderr",
          "text": [
            "  0%|▍                                                                                 | 1/200 [00:09<30:50,  9.30s/it]\n",
            "Epoch 1 of 1:   0%|                                                                              | 0/1 [00:00<?, ?it/s]\n",
            "Running Epoch 0 of 1:   0%|                                                                     | 0/25 [00:00<?, ?it/s]\u001b[A\n",
            "Running Epoch 0 of 1:   4%|██▍                                                          | 1/25 [00:02<00:55,  2.33s/it]\u001b[A\n",
            "Running Epoch 0 of 1:   8%|████▉                                                        | 2/25 [00:04<00:52,  2.29s/it]\u001b[A\n",
            "Running Epoch 0 of 1:  12%|███████▎                                                     | 3/25 [00:06<00:50,  2.28s/it]\u001b[A\n",
            "Running Epoch 0 of 1:  16%|█████████▊                                                   | 4/25 [00:09<00:48,  2.29s/it]\u001b[A\n",
            "Running Epoch 0 of 1:  20%|████████████▏                                                | 5/25 [00:11<00:45,  2.29s/it]\u001b[A\n",
            "Running Epoch 0 of 1:  24%|██████████████▋                                              | 6/25 [00:13<00:43,  2.29s/it]\u001b[A\n",
            "Running Epoch 0 of 1:  28%|█████████████████                                            | 7/25 [00:16<00:41,  2.30s/it]\u001b[A\n",
            "Running Epoch 0 of 1:  32%|███████████████████▌                                         | 8/25 [00:18<00:39,  2.30s/it]\u001b[A\n",
            "Running Epoch 0 of 1:  36%|█████████████████████▉                                       | 9/25 [00:20<00:36,  2.30s/it]\u001b[A\n",
            "Running Epoch 0 of 1:  40%|████████████████████████                                    | 10/25 [00:22<00:34,  2.29s/it]\u001b[A\n",
            "Running Epoch 0 of 1:  44%|██████████████████████████▍                                 | 11/25 [00:25<00:32,  2.30s/it]\u001b[A\n",
            "Running Epoch 0 of 1:  48%|████████████████████████████▊                               | 12/25 [00:27<00:29,  2.30s/it]\u001b[A\n",
            "Running Epoch 0 of 1:  52%|███████████████████████████████▏                            | 13/25 [00:29<00:27,  2.29s/it]\u001b[A\n",
            "Running Epoch 0 of 1:  56%|█████████████████████████████████▌                          | 14/25 [00:32<00:25,  2.31s/it]\u001b[A\n",
            "Running Epoch 0 of 1:  60%|████████████████████████████████████                        | 15/25 [00:34<00:23,  2.32s/it]\u001b[A\n",
            "Running Epoch 0 of 1:  64%|██████████████████████████████████████▍                     | 16/25 [00:36<00:20,  2.31s/it]\u001b[A\n",
            "Running Epoch 0 of 1:  68%|████████████████████████████████████████▊                   | 17/25 [00:39<00:18,  2.30s/it]\u001b[A\n",
            "Running Epoch 0 of 1:  72%|███████████████████████████████████████████▏                | 18/25 [00:41<00:16,  2.30s/it]\u001b[A\n",
            "Running Epoch 0 of 1:  76%|█████████████████████████████████████████████▌              | 19/25 [00:43<00:13,  2.30s/it]\u001b[A\n",
            "Running Epoch 0 of 1:  80%|████████████████████████████████████████████████            | 20/25 [00:45<00:11,  2.30s/it]\u001b[A\n",
            "Running Epoch 0 of 1:  84%|██████████████████████████████████████████████████▍         | 21/25 [00:48<00:09,  2.30s/it]\u001b[A\n",
            "Running Epoch 0 of 1:  88%|████████████████████████████████████████████████████▊       | 22/25 [00:50<00:06,  2.30s/it]\u001b[A\n",
            "Running Epoch 0 of 1:  92%|███████████████████████████████████████████████████████▏    | 23/25 [00:52<00:04,  2.30s/it]\u001b[A\n",
            "Running Epoch 0 of 1:  96%|█████████████████████████████████████████████████████████▌  | 24/25 [00:55<00:02,  2.30s/it]\u001b[A\n",
            "Running Epoch 0 of 1: 100%|████████████████████████████████████████████████████████████| 25/25 [00:57<00:00,  2.30s/it]\n",
            "Epoch 1 of 1: 100%|██████████████████████████████████████████████████████████████████████| 1/1 [00:57<00:00, 57.52s/it]\n",
            "C:\\Users\\Domenico\\.conda\\envs\\tf\\lib\\site-packages\\simpletransformers\\classification\\classification_model.py:1454: UserWarning: Dataframe headers not specified. Falling back to using column 0 as text and column 1 as labels.\n",
            "  warnings.warn(\n"
          ]
        },
        {
          "output_type": "stream",
          "name": "stdout",
          "text": [
            "\n",
            "NOW EVALUATE THE TEST DF.\n"
          ]
        },
        {
          "output_type": "stream",
          "name": "stderr",
          "text": [
            "  1%|▊                                                                                 | 1/100 [00:07<11:59,  7.26s/it]\n",
            "Running Evaluation: 100%|██████████████████████████████████████████████████████████████| 13/13 [00:07<00:00,  1.76it/s]\n",
            "C:\\Users\\Domenico\\.conda\\envs\\tf\\lib\\site-packages\\simpletransformers\\classification\\classification_model.py:612: UserWarning: Dataframe headers not specified. Falling back to using column 0 as text and column 1 as labels.\n",
            "  warnings.warn(\n"
          ]
        },
        {
          "output_type": "stream",
          "name": "stdout",
          "text": [
            "{'mcc': 0.0, 'tp': 50, 'tn': 0, 'fp': 50, 'fn': 0, 'auroc': 0.5519999999999999, 'auprc': 0.5853958570500839, 'eval_loss': 0.6931694654318002}\n",
            "Correct predictions are:  50\n",
            "Total predictions are:  100\n",
            "Accuracy on test set is: 0.5 \n",
            "\n",
            "\n",
            "\n",
            "EPOCH NUMBER:  6\n",
            "\n",
            "NOW TRAIN THE MODEL.\n"
          ]
        },
        {
          "output_type": "stream",
          "name": "stderr",
          "text": [
            "  0%|▍                                                                                 | 1/200 [00:09<30:48,  9.29s/it]\n",
            "Epoch 1 of 1:   0%|                                                                              | 0/1 [00:00<?, ?it/s]\n",
            "Running Epoch 0 of 1:   0%|                                                                     | 0/25 [00:00<?, ?it/s]\u001b[A\n",
            "Running Epoch 0 of 1:   4%|██▍                                                          | 1/25 [00:02<00:56,  2.34s/it]\u001b[A\n",
            "Running Epoch 0 of 1:   8%|████▉                                                        | 2/25 [00:04<00:53,  2.31s/it]\u001b[A\n",
            "Running Epoch 0 of 1:  12%|███████▎                                                     | 3/25 [00:06<00:50,  2.29s/it]\u001b[A\n",
            "Running Epoch 0 of 1:  16%|█████████▊                                                   | 4/25 [00:09<00:48,  2.29s/it]\u001b[A\n",
            "Running Epoch 0 of 1:  20%|████████████▏                                                | 5/25 [00:11<00:46,  2.30s/it]\u001b[A\n",
            "Running Epoch 0 of 1:  24%|██████████████▋                                              | 6/25 [00:13<00:43,  2.31s/it]\u001b[A\n",
            "Running Epoch 0 of 1:  28%|█████████████████                                            | 7/25 [00:16<00:41,  2.30s/it]\u001b[A\n",
            "Running Epoch 0 of 1:  32%|███████████████████▌                                         | 8/25 [00:18<00:39,  2.31s/it]\u001b[A\n",
            "Running Epoch 0 of 1:  36%|█████████████████████▉                                       | 9/25 [00:20<00:36,  2.31s/it]\u001b[A\n",
            "Running Epoch 0 of 1:  40%|████████████████████████                                    | 10/25 [00:23<00:34,  2.30s/it]\u001b[A\n",
            "Running Epoch 0 of 1:  44%|██████████████████████████▍                                 | 11/25 [00:25<00:32,  2.30s/it]\u001b[A\n",
            "Running Epoch 0 of 1:  48%|████████████████████████████▊                               | 12/25 [00:27<00:30,  2.31s/it]\u001b[A\n",
            "Running Epoch 0 of 1:  52%|███████████████████████████████▏                            | 13/25 [00:29<00:27,  2.30s/it]\u001b[A\n",
            "Running Epoch 0 of 1:  56%|█████████████████████████████████▌                          | 14/25 [00:32<00:25,  2.31s/it]\u001b[A\n",
            "Running Epoch 0 of 1:  60%|████████████████████████████████████                        | 15/25 [00:34<00:23,  2.31s/it]\u001b[A\n",
            "Running Epoch 0 of 1:  64%|██████████████████████████████████████▍                     | 16/25 [00:36<00:20,  2.30s/it]\u001b[A\n",
            "Running Epoch 0 of 1:  68%|████████████████████████████████████████▊                   | 17/25 [00:39<00:18,  2.30s/it]\u001b[A\n",
            "Running Epoch 0 of 1:  72%|███████████████████████████████████████████▏                | 18/25 [00:41<00:16,  2.31s/it]\u001b[A\n",
            "Running Epoch 0 of 1:  76%|█████████████████████████████████████████████▌              | 19/25 [00:43<00:13,  2.30s/it]\u001b[A\n",
            "Running Epoch 0 of 1:  80%|████████████████████████████████████████████████            | 20/25 [00:46<00:11,  2.31s/it]\u001b[A\n",
            "Running Epoch 0 of 1:  84%|██████████████████████████████████████████████████▍         | 21/25 [00:48<00:09,  2.31s/it]\u001b[A\n",
            "Running Epoch 0 of 1:  88%|████████████████████████████████████████████████████▊       | 22/25 [00:50<00:06,  2.32s/it]\u001b[A\n",
            "Running Epoch 0 of 1:  92%|███████████████████████████████████████████████████████▏    | 23/25 [00:53<00:04,  2.32s/it]\u001b[A\n",
            "Running Epoch 0 of 1:  96%|█████████████████████████████████████████████████████████▌  | 24/25 [00:55<00:02,  2.32s/it]\u001b[A\n",
            "Running Epoch 0 of 1: 100%|████████████████████████████████████████████████████████████| 25/25 [00:57<00:00,  2.31s/it]\n",
            "Epoch 1 of 1: 100%|██████████████████████████████████████████████████████████████████████| 1/1 [00:57<00:00, 57.71s/it]\n",
            "C:\\Users\\Domenico\\.conda\\envs\\tf\\lib\\site-packages\\simpletransformers\\classification\\classification_model.py:1454: UserWarning: Dataframe headers not specified. Falling back to using column 0 as text and column 1 as labels.\n",
            "  warnings.warn(\n"
          ]
        },
        {
          "output_type": "stream",
          "name": "stdout",
          "text": [
            "\n",
            "NOW EVALUATE THE TEST DF.\n"
          ]
        },
        {
          "output_type": "stream",
          "name": "stderr",
          "text": [
            "  1%|▊                                                                                 | 1/100 [00:07<12:02,  7.30s/it]\n",
            "Running Evaluation: 100%|██████████████████████████████████████████████████████████████| 13/13 [00:07<00:00,  1.76it/s]\n",
            "C:\\Users\\Domenico\\.conda\\envs\\tf\\lib\\site-packages\\simpletransformers\\classification\\classification_model.py:612: UserWarning: Dataframe headers not specified. Falling back to using column 0 as text and column 1 as labels.\n",
            "  warnings.warn(\n"
          ]
        },
        {
          "output_type": "stream",
          "name": "stdout",
          "text": [
            "{'mcc': 0.0, 'tp': 50, 'tn': 0, 'fp': 50, 'fn': 0, 'auroc': 0.4446, 'auprc': 0.46576473606233215, 'eval_loss': 0.7032904487389785}\n",
            "Correct predictions are:  50\n",
            "Total predictions are:  100\n",
            "Accuracy on test set is: 0.5 \n",
            "\n",
            "\n",
            "\n",
            "EPOCH NUMBER:  7\n",
            "\n",
            "NOW TRAIN THE MODEL.\n"
          ]
        },
        {
          "output_type": "stream",
          "name": "stderr",
          "text": [
            "  0%|▍                                                                                 | 1/200 [00:09<30:27,  9.18s/it]\n",
            "Epoch 1 of 1:   0%|                                                                              | 0/1 [00:00<?, ?it/s]\n",
            "Running Epoch 0 of 1:   0%|                                                                     | 0/25 [00:00<?, ?it/s]\u001b[A\n",
            "Running Epoch 0 of 1:   4%|██▍                                                          | 1/25 [00:02<00:56,  2.33s/it]\u001b[A\n",
            "Running Epoch 0 of 1:   8%|████▉                                                        | 2/25 [00:04<00:53,  2.31s/it]\u001b[A\n",
            "Running Epoch 0 of 1:  12%|███████▎                                                     | 3/25 [00:06<00:50,  2.29s/it]\u001b[A\n",
            "Running Epoch 0 of 1:  16%|█████████▊                                                   | 4/25 [00:09<00:48,  2.30s/it]\u001b[A\n",
            "Running Epoch 0 of 1:  20%|████████████▏                                                | 5/25 [00:11<00:46,  2.30s/it]\u001b[A\n",
            "Running Epoch 0 of 1:  24%|██████████████▋                                              | 6/25 [00:13<00:43,  2.29s/it]\u001b[A\n",
            "Running Epoch 0 of 1:  28%|█████████████████                                            | 7/25 [00:16<00:41,  2.29s/it]\u001b[A\n",
            "Running Epoch 0 of 1:  32%|███████████████████▌                                         | 8/25 [00:18<00:39,  2.30s/it]\u001b[A\n",
            "Running Epoch 0 of 1:  36%|█████████████████████▉                                       | 9/25 [00:20<00:36,  2.30s/it]\u001b[A\n",
            "Running Epoch 0 of 1:  40%|████████████████████████                                    | 10/25 [00:22<00:34,  2.30s/it]\u001b[A\n",
            "Running Epoch 0 of 1:  44%|██████████████████████████▍                                 | 11/25 [00:25<00:32,  2.30s/it]\u001b[A\n",
            "Running Epoch 0 of 1:  48%|████████████████████████████▊                               | 12/25 [00:27<00:29,  2.30s/it]\u001b[A\n",
            "Running Epoch 0 of 1:  52%|███████████████████████████████▏                            | 13/25 [00:29<00:27,  2.31s/it]\u001b[A\n",
            "Running Epoch 0 of 1:  56%|█████████████████████████████████▌                          | 14/25 [00:32<00:25,  2.31s/it]\u001b[A\n",
            "Running Epoch 0 of 1:  60%|████████████████████████████████████                        | 15/25 [00:34<00:22,  2.30s/it]\u001b[A\n",
            "Running Epoch 0 of 1:  64%|██████████████████████████████████████▍                     | 16/25 [00:36<00:20,  2.30s/it]\u001b[A\n",
            "Running Epoch 0 of 1:  68%|████████████████████████████████████████▊                   | 17/25 [00:39<00:18,  2.30s/it]\u001b[A\n",
            "Running Epoch 0 of 1:  72%|███████████████████████████████████████████▏                | 18/25 [00:41<00:16,  2.30s/it]\u001b[A\n",
            "Running Epoch 0 of 1:  76%|█████████████████████████████████████████████▌              | 19/25 [00:43<00:13,  2.30s/it]\u001b[A\n",
            "Running Epoch 0 of 1:  80%|████████████████████████████████████████████████            | 20/25 [00:46<00:11,  2.30s/it]\u001b[A\n",
            "Running Epoch 0 of 1:  84%|██████████████████████████████████████████████████▍         | 21/25 [00:48<00:09,  2.31s/it]\u001b[A\n",
            "Running Epoch 0 of 1:  88%|████████████████████████████████████████████████████▊       | 22/25 [00:50<00:06,  2.31s/it]\u001b[A\n",
            "Running Epoch 0 of 1:  92%|███████████████████████████████████████████████████████▏    | 23/25 [00:52<00:04,  2.31s/it]\u001b[A\n",
            "Running Epoch 0 of 1:  96%|█████████████████████████████████████████████████████████▌  | 24/25 [00:55<00:02,  2.33s/it]\u001b[A\n",
            "Running Epoch 0 of 1: 100%|████████████████████████████████████████████████████████████| 25/25 [00:57<00:00,  2.31s/it]\n",
            "Epoch 1 of 1: 100%|██████████████████████████████████████████████████████████████████████| 1/1 [00:57<00:00, 57.68s/it]\n",
            "C:\\Users\\Domenico\\.conda\\envs\\tf\\lib\\site-packages\\simpletransformers\\classification\\classification_model.py:1454: UserWarning: Dataframe headers not specified. Falling back to using column 0 as text and column 1 as labels.\n",
            "  warnings.warn(\n"
          ]
        },
        {
          "output_type": "stream",
          "name": "stdout",
          "text": [
            "\n",
            "NOW EVALUATE THE TEST DF.\n"
          ]
        },
        {
          "output_type": "stream",
          "name": "stderr",
          "text": [
            "  1%|▊                                                                                 | 1/100 [00:07<11:51,  7.18s/it]\n",
            "Running Evaluation: 100%|██████████████████████████████████████████████████████████████| 13/13 [00:07<00:00,  1.77it/s]\n",
            "C:\\Users\\Domenico\\.conda\\envs\\tf\\lib\\site-packages\\simpletransformers\\classification\\classification_model.py:612: UserWarning: Dataframe headers not specified. Falling back to using column 0 as text and column 1 as labels.\n",
            "  warnings.warn(\n"
          ]
        },
        {
          "output_type": "stream",
          "name": "stdout",
          "text": [
            "{'mcc': 0.0, 'tp': 50, 'tn': 0, 'fp': 50, 'fn': 0, 'auroc': 0.5356000000000001, 'auprc': 0.5571278804439324, 'eval_loss': 0.6931427396260775}\n",
            "Correct predictions are:  50\n",
            "Total predictions are:  100\n",
            "Accuracy on test set is: 0.5 \n",
            "\n",
            "\n",
            "\n",
            "EPOCH NUMBER:  8\n",
            "\n",
            "NOW TRAIN THE MODEL.\n"
          ]
        },
        {
          "output_type": "stream",
          "name": "stderr",
          "text": [
            "  0%|▍                                                                                 | 1/200 [00:09<30:07,  9.08s/it]\n",
            "Epoch 1 of 1:   0%|                                                                              | 0/1 [00:00<?, ?it/s]\n",
            "Running Epoch 0 of 1:   0%|                                                                     | 0/25 [00:00<?, ?it/s]\u001b[A\n",
            "Running Epoch 0 of 1:   4%|██▍                                                          | 1/25 [00:02<00:55,  2.33s/it]\u001b[A\n",
            "Running Epoch 0 of 1:   8%|████▉                                                        | 2/25 [00:04<00:52,  2.29s/it]\u001b[A\n",
            "Running Epoch 0 of 1:  12%|███████▎                                                     | 3/25 [00:06<00:50,  2.28s/it]\u001b[A\n",
            "Running Epoch 0 of 1:  16%|█████████▊                                                   | 4/25 [00:09<00:47,  2.28s/it]\u001b[A\n",
            "Running Epoch 0 of 1:  20%|████████████▏                                                | 5/25 [00:11<00:46,  2.30s/it]\u001b[A\n",
            "Running Epoch 0 of 1:  24%|██████████████▋                                              | 6/25 [00:13<00:43,  2.29s/it]\u001b[A\n",
            "Running Epoch 0 of 1:  28%|█████████████████                                            | 7/25 [00:16<00:41,  2.29s/it]\u001b[A\n",
            "Running Epoch 0 of 1:  32%|███████████████████▌                                         | 8/25 [00:18<00:38,  2.29s/it]\u001b[A\n",
            "Running Epoch 0 of 1:  36%|█████████████████████▉                                       | 9/25 [00:20<00:36,  2.30s/it]\u001b[A\n",
            "Running Epoch 0 of 1:  40%|████████████████████████                                    | 10/25 [00:22<00:34,  2.30s/it]\u001b[A\n",
            "Running Epoch 0 of 1:  44%|██████████████████████████▍                                 | 11/25 [00:25<00:32,  2.30s/it]\u001b[A\n",
            "Running Epoch 0 of 1:  48%|████████████████████████████▊                               | 12/25 [00:27<00:29,  2.31s/it]\u001b[A\n",
            "Running Epoch 0 of 1:  52%|███████████████████████████████▏                            | 13/25 [00:29<00:27,  2.31s/it]\u001b[A\n",
            "Running Epoch 0 of 1:  56%|█████████████████████████████████▌                          | 14/25 [00:32<00:25,  2.30s/it]\u001b[A\n",
            "Running Epoch 0 of 1:  60%|████████████████████████████████████                        | 15/25 [00:34<00:23,  2.30s/it]\u001b[A\n",
            "Running Epoch 0 of 1:  64%|██████████████████████████████████████▍                     | 16/25 [00:36<00:20,  2.31s/it]\u001b[A\n",
            "Running Epoch 0 of 1:  68%|████████████████████████████████████████▊                   | 17/25 [00:39<00:18,  2.30s/it]\u001b[A\n",
            "Running Epoch 0 of 1:  72%|███████████████████████████████████████████▏                | 18/25 [00:41<00:16,  2.31s/it]\u001b[A\n",
            "Running Epoch 0 of 1:  76%|█████████████████████████████████████████████▌              | 19/25 [00:43<00:13,  2.31s/it]\u001b[A\n",
            "Running Epoch 0 of 1:  80%|████████████████████████████████████████████████            | 20/25 [00:46<00:11,  2.31s/it]\u001b[A\n",
            "Running Epoch 0 of 1:  84%|██████████████████████████████████████████████████▍         | 21/25 [00:48<00:09,  2.30s/it]\u001b[A\n",
            "Running Epoch 0 of 1:  88%|████████████████████████████████████████████████████▊       | 22/25 [00:50<00:06,  2.30s/it]\u001b[A\n",
            "Running Epoch 0 of 1:  92%|███████████████████████████████████████████████████████▏    | 23/25 [00:52<00:04,  2.29s/it]\u001b[A\n",
            "Running Epoch 0 of 1:  96%|█████████████████████████████████████████████████████████▌  | 24/25 [00:55<00:02,  2.29s/it]\u001b[A\n",
            "Running Epoch 0 of 1: 100%|████████████████████████████████████████████████████████████| 25/25 [00:57<00:00,  2.30s/it]\n",
            "Epoch 1 of 1: 100%|██████████████████████████████████████████████████████████████████████| 1/1 [00:57<00:00, 57.52s/it]\n",
            "C:\\Users\\Domenico\\.conda\\envs\\tf\\lib\\site-packages\\simpletransformers\\classification\\classification_model.py:1454: UserWarning: Dataframe headers not specified. Falling back to using column 0 as text and column 1 as labels.\n",
            "  warnings.warn(\n"
          ]
        },
        {
          "output_type": "stream",
          "name": "stdout",
          "text": [
            "\n",
            "NOW EVALUATE THE TEST DF.\n"
          ]
        },
        {
          "output_type": "stream",
          "name": "stderr",
          "text": [
            "  1%|▊                                                                                 | 1/100 [00:07<11:43,  7.11s/it]\n",
            "Running Evaluation: 100%|██████████████████████████████████████████████████████████████| 13/13 [00:07<00:00,  1.78it/s]\n",
            "C:\\Users\\Domenico\\.conda\\envs\\tf\\lib\\site-packages\\simpletransformers\\classification\\classification_model.py:612: UserWarning: Dataframe headers not specified. Falling back to using column 0 as text and column 1 as labels.\n",
            "  warnings.warn(\n"
          ]
        },
        {
          "output_type": "stream",
          "name": "stdout",
          "text": [
            "{'mcc': 0.0, 'tp': 50, 'tn': 0, 'fp': 50, 'fn': 0, 'auroc': 0.5024, 'auprc': 0.5357879026077706, 'eval_loss': 0.6976639720109793}\n",
            "Correct predictions are:  50\n",
            "Total predictions are:  100\n",
            "Accuracy on test set is: 0.5 \n",
            "\n",
            "\n",
            "\n",
            "EPOCH NUMBER:  9\n",
            "\n",
            "NOW TRAIN THE MODEL.\n"
          ]
        },
        {
          "output_type": "stream",
          "name": "stderr",
          "text": [
            "  0%|▍                                                                                 | 1/200 [00:09<30:03,  9.06s/it]\n",
            "Epoch 1 of 1:   0%|                                                                              | 0/1 [00:00<?, ?it/s]\n",
            "Running Epoch 0 of 1:   0%|                                                                     | 0/25 [00:00<?, ?it/s]\u001b[A\n",
            "Running Epoch 0 of 1:   4%|██▍                                                          | 1/25 [00:02<00:54,  2.29s/it]\u001b[A\n",
            "Running Epoch 0 of 1:   8%|████▉                                                        | 2/25 [00:04<00:52,  2.29s/it]\u001b[A\n",
            "Running Epoch 0 of 1:  12%|███████▎                                                     | 3/25 [00:06<00:50,  2.30s/it]\u001b[A\n",
            "Running Epoch 0 of 1:  16%|█████████▊                                                   | 4/25 [00:09<00:48,  2.30s/it]\u001b[A\n",
            "Running Epoch 0 of 1:  20%|████████████▏                                                | 5/25 [00:11<00:45,  2.29s/it]\u001b[A\n",
            "Running Epoch 0 of 1:  24%|██████████████▋                                              | 6/25 [00:13<00:43,  2.30s/it]\u001b[A\n",
            "Running Epoch 0 of 1:  28%|█████████████████                                            | 7/25 [00:16<00:41,  2.30s/it]\u001b[A\n",
            "Running Epoch 0 of 1:  32%|███████████████████▌                                         | 8/25 [00:18<00:39,  2.31s/it]\u001b[A\n",
            "Running Epoch 0 of 1:  36%|█████████████████████▉                                       | 9/25 [00:20<00:36,  2.30s/it]\u001b[A\n",
            "Running Epoch 0 of 1:  40%|████████████████████████                                    | 10/25 [00:22<00:34,  2.28s/it]\u001b[A\n",
            "Running Epoch 0 of 1:  44%|██████████████████████████▍                                 | 11/25 [00:25<00:31,  2.27s/it]\u001b[A\n",
            "Running Epoch 0 of 1:  48%|████████████████████████████▊                               | 12/25 [00:27<00:29,  2.26s/it]\u001b[A\n",
            "Running Epoch 0 of 1:  52%|███████████████████████████████▏                            | 13/25 [00:29<00:27,  2.26s/it]\u001b[A\n",
            "Running Epoch 0 of 1:  56%|█████████████████████████████████▌                          | 14/25 [00:31<00:24,  2.26s/it]\u001b[A\n",
            "Running Epoch 0 of 1:  60%|████████████████████████████████████                        | 15/25 [00:34<00:22,  2.26s/it]\u001b[A\n",
            "Running Epoch 0 of 1:  64%|██████████████████████████████████████▍                     | 16/25 [00:36<00:20,  2.25s/it]\u001b[A\n",
            "Running Epoch 0 of 1:  68%|████████████████████████████████████████▊                   | 17/25 [00:38<00:18,  2.26s/it]\u001b[A\n",
            "Running Epoch 0 of 1:  72%|███████████████████████████████████████████▏                | 18/25 [00:40<00:15,  2.26s/it]\u001b[A\n",
            "Running Epoch 0 of 1:  76%|█████████████████████████████████████████████▌              | 19/25 [00:43<00:13,  2.25s/it]\u001b[A\n",
            "Running Epoch 0 of 1:  80%|████████████████████████████████████████████████            | 20/25 [00:45<00:11,  2.25s/it]\u001b[A\n",
            "Running Epoch 0 of 1:  84%|██████████████████████████████████████████████████▍         | 21/25 [00:47<00:09,  2.25s/it]\u001b[A\n",
            "Running Epoch 0 of 1:  88%|████████████████████████████████████████████████████▊       | 22/25 [00:49<00:06,  2.26s/it]\u001b[A\n",
            "Running Epoch 0 of 1:  92%|███████████████████████████████████████████████████████▏    | 23/25 [00:52<00:04,  2.24s/it]\u001b[A\n",
            "Running Epoch 0 of 1:  96%|█████████████████████████████████████████████████████████▌  | 24/25 [00:54<00:02,  2.24s/it]\u001b[A\n",
            "Running Epoch 0 of 1: 100%|████████████████████████████████████████████████████████████| 25/25 [00:56<00:00,  2.27s/it]\n",
            "Epoch 1 of 1: 100%|██████████████████████████████████████████████████████████████████████| 1/1 [00:56<00:00, 56.68s/it]\n",
            "C:\\Users\\Domenico\\.conda\\envs\\tf\\lib\\site-packages\\simpletransformers\\classification\\classification_model.py:1454: UserWarning: Dataframe headers not specified. Falling back to using column 0 as text and column 1 as labels.\n",
            "  warnings.warn(\n"
          ]
        },
        {
          "output_type": "stream",
          "name": "stdout",
          "text": [
            "\n",
            "NOW EVALUATE THE TEST DF.\n"
          ]
        },
        {
          "output_type": "stream",
          "name": "stderr",
          "text": [
            "  1%|▊                                                                                 | 1/100 [00:07<11:33,  7.00s/it]\n",
            "Running Evaluation: 100%|██████████████████████████████████████████████████████████████| 13/13 [00:07<00:00,  1.82it/s]\n"
          ]
        },
        {
          "output_type": "stream",
          "name": "stdout",
          "text": [
            "{'mcc': 0.0, 'tp': 50, 'tn': 0, 'fp': 50, 'fn': 0, 'auroc': 0.476, 'auprc': 0.5130572175958199, 'eval_loss': 0.6958540402925931}\n",
            "Correct predictions are:  50\n",
            "Total predictions are:  100\n",
            "Accuracy on test set is: 0.5 \n",
            "\n",
            "\n",
            "[0.5, 0.4, 0.5, 0.5, 0.5, 0.5, 0.5, 0.5, 0.5, 0.5]\n"
          ]
        },
        {
          "output_type": "stream",
          "name": "stderr",
          "text": [
            "Some weights of the model checkpoint at roberta-base were not used when initializing RobertaForSequenceClassification: ['lm_head.bias', 'lm_head.layer_norm.bias', 'roberta.pooler.dense.weight', 'lm_head.decoder.weight', 'roberta.pooler.dense.bias', 'lm_head.layer_norm.weight', 'lm_head.dense.bias', 'lm_head.dense.weight']\n",
            "- This IS expected if you are initializing RobertaForSequenceClassification from the checkpoint of a model trained on another task or with another architecture (e.g. initializing a BertForSequenceClassification model from a BertForPreTraining model).\n",
            "- This IS NOT expected if you are initializing RobertaForSequenceClassification from the checkpoint of a model that you expect to be exactly identical (initializing a BertForSequenceClassification model from a BertForSequenceClassification model).\n",
            "Some weights of RobertaForSequenceClassification were not initialized from the model checkpoint at roberta-base and are newly initialized: ['classifier.out_proj.weight', 'classifier.dense.weight', 'classifier.out_proj.bias', 'classifier.dense.bias']\n",
            "You should probably TRAIN this model on a down-stream task to be able to use it for predictions and inference.\n",
            "C:\\Users\\Domenico\\.conda\\envs\\tf\\lib\\site-packages\\simpletransformers\\classification\\classification_model.py:612: UserWarning: Dataframe headers not specified. Falling back to using column 0 as text and column 1 as labels.\n",
            "  warnings.warn(\n"
          ]
        },
        {
          "output_type": "stream",
          "name": "stdout",
          "text": [
            "\n",
            "EPOCH NUMBER:  0\n",
            "\n",
            "NOW TRAIN THE MODEL.\n"
          ]
        },
        {
          "output_type": "stream",
          "name": "stderr",
          "text": [
            "  0%|▍                                                                                 | 1/200 [00:08<29:22,  8.86s/it]\n",
            "Epoch 1 of 1:   0%|                                                                              | 0/1 [00:00<?, ?it/s]\n",
            "Running Epoch 0 of 1:   0%|                                                                     | 0/25 [00:00<?, ?it/s]\u001b[A\n",
            "Running Epoch 0 of 1:   4%|██▍                                                          | 1/25 [00:02<00:51,  2.17s/it]\u001b[A\n",
            "Running Epoch 0 of 1:   8%|████▉                                                        | 2/25 [00:04<00:50,  2.19s/it]\u001b[A\n",
            "Running Epoch 0 of 1:  12%|███████▎                                                     | 3/25 [00:06<00:48,  2.21s/it]\u001b[A\n",
            "Running Epoch 0 of 1:  16%|█████████▊                                                   | 4/25 [00:08<00:46,  2.22s/it]\u001b[A\n",
            "Running Epoch 0 of 1:  20%|████████████▏                                                | 5/25 [00:11<00:44,  2.22s/it]\u001b[A\n",
            "Running Epoch 0 of 1:  24%|██████████████▋                                              | 6/25 [00:13<00:42,  2.22s/it]\u001b[A\n",
            "Running Epoch 0 of 1:  28%|█████████████████                                            | 7/25 [00:15<00:39,  2.22s/it]\u001b[A\n",
            "Running Epoch 0 of 1:  32%|███████████████████▌                                         | 8/25 [00:17<00:37,  2.22s/it]\u001b[A\n",
            "Running Epoch 0 of 1:  36%|█████████████████████▉                                       | 9/25 [00:19<00:35,  2.23s/it]\u001b[A\n",
            "Running Epoch 0 of 1:  40%|████████████████████████                                    | 10/25 [00:22<00:33,  2.23s/it]\u001b[A\n",
            "Running Epoch 0 of 1:  44%|██████████████████████████▍                                 | 11/25 [00:24<00:31,  2.23s/it]\u001b[A\n",
            "Running Epoch 0 of 1:  48%|████████████████████████████▊                               | 12/25 [00:26<00:29,  2.23s/it]\u001b[A\n",
            "Running Epoch 0 of 1:  52%|███████████████████████████████▏                            | 13/25 [00:28<00:26,  2.24s/it]\u001b[A\n",
            "Running Epoch 0 of 1:  56%|█████████████████████████████████▌                          | 14/25 [00:31<00:24,  2.23s/it]\u001b[A\n",
            "Running Epoch 0 of 1:  60%|████████████████████████████████████                        | 15/25 [00:33<00:22,  2.23s/it]\u001b[A\n",
            "Running Epoch 0 of 1:  64%|██████████████████████████████████████▍                     | 16/25 [00:35<00:19,  2.22s/it]\u001b[A\n",
            "Running Epoch 0 of 1:  68%|████████████████████████████████████████▊                   | 17/25 [00:37<00:17,  2.23s/it]\u001b[A\n",
            "Running Epoch 0 of 1:  72%|███████████████████████████████████████████▏                | 18/25 [00:40<00:15,  2.24s/it]\u001b[A\n",
            "Running Epoch 0 of 1:  76%|█████████████████████████████████████████████▌              | 19/25 [00:42<00:13,  2.23s/it]\u001b[A\n",
            "Running Epoch 0 of 1:  80%|████████████████████████████████████████████████            | 20/25 [00:44<00:11,  2.24s/it]\u001b[A\n",
            "Running Epoch 0 of 1:  84%|██████████████████████████████████████████████████▍         | 21/25 [00:46<00:08,  2.25s/it]\u001b[A\n",
            "Running Epoch 0 of 1:  88%|████████████████████████████████████████████████████▊       | 22/25 [00:49<00:06,  2.25s/it]\u001b[A\n",
            "Running Epoch 0 of 1:  92%|███████████████████████████████████████████████████████▏    | 23/25 [00:51<00:04,  2.25s/it]\u001b[A\n",
            "Running Epoch 0 of 1:  96%|█████████████████████████████████████████████████████████▌  | 24/25 [00:53<00:02,  2.25s/it]\u001b[A\n",
            "Running Epoch 0 of 1: 100%|████████████████████████████████████████████████████████████| 25/25 [00:55<00:00,  2.23s/it]\n",
            "Epoch 1 of 1: 100%|██████████████████████████████████████████████████████████████████████| 1/1 [00:55<00:00, 55.81s/it]\n",
            "C:\\Users\\Domenico\\.conda\\envs\\tf\\lib\\site-packages\\simpletransformers\\classification\\classification_model.py:1454: UserWarning: Dataframe headers not specified. Falling back to using column 0 as text and column 1 as labels.\n",
            "  warnings.warn(\n"
          ]
        },
        {
          "output_type": "stream",
          "name": "stdout",
          "text": [
            "\n",
            "NOW EVALUATE THE TEST DF.\n"
          ]
        },
        {
          "output_type": "stream",
          "name": "stderr",
          "text": [
            "  1%|▊                                                                                 | 1/100 [00:07<11:42,  7.09s/it]\n",
            "Running Evaluation: 100%|██████████████████████████████████████████████████████████████| 13/13 [00:07<00:00,  1.83it/s]\n",
            "C:\\Users\\Domenico\\.conda\\envs\\tf\\lib\\site-packages\\simpletransformers\\classification\\classification_model.py:612: UserWarning: Dataframe headers not specified. Falling back to using column 0 as text and column 1 as labels.\n",
            "  warnings.warn(\n"
          ]
        },
        {
          "output_type": "stream",
          "name": "stdout",
          "text": [
            "{'mcc': 0.0, 'tp': 0, 'tn': 50, 'fp': 0, 'fn': 50, 'auroc': 0.4404, 'auprc': 0.5096118975816635, 'eval_loss': 0.6951693525681129}\n",
            "Correct predictions are:  50\n",
            "Total predictions are:  100\n",
            "Accuracy on test set is: 0.5 \n",
            "\n",
            "\n",
            "\n",
            "EPOCH NUMBER:  1\n",
            "\n",
            "NOW TRAIN THE MODEL.\n"
          ]
        },
        {
          "output_type": "stream",
          "name": "stderr",
          "text": [
            "  0%|▍                                                                                 | 1/200 [00:09<29:52,  9.01s/it]\n",
            "Epoch 1 of 1:   0%|                                                                              | 0/1 [00:00<?, ?it/s]\n",
            "Running Epoch 0 of 1:   0%|                                                                     | 0/25 [00:00<?, ?it/s]\u001b[A\n",
            "Running Epoch 0 of 1:   4%|██▍                                                          | 1/25 [00:02<00:54,  2.26s/it]\u001b[A\n",
            "Running Epoch 0 of 1:   8%|████▉                                                        | 2/25 [00:04<00:51,  2.23s/it]\u001b[A\n",
            "Running Epoch 0 of 1:  12%|███████▎                                                     | 3/25 [00:06<00:49,  2.23s/it]\u001b[A\n",
            "Running Epoch 0 of 1:  16%|█████████▊                                                   | 4/25 [00:08<00:47,  2.24s/it]\u001b[A\n",
            "Running Epoch 0 of 1:  20%|████████████▏                                                | 5/25 [00:11<00:44,  2.23s/it]\u001b[A\n",
            "Running Epoch 0 of 1:  24%|██████████████▋                                              | 6/25 [00:13<00:42,  2.22s/it]\u001b[A\n",
            "Running Epoch 0 of 1:  28%|█████████████████                                            | 7/25 [00:15<00:40,  2.23s/it]\u001b[A\n",
            "Running Epoch 0 of 1:  32%|███████████████████▌                                         | 8/25 [00:17<00:37,  2.23s/it]\u001b[A\n",
            "Running Epoch 0 of 1:  36%|█████████████████████▉                                       | 9/25 [00:20<00:35,  2.23s/it]\u001b[A\n",
            "Running Epoch 0 of 1:  40%|████████████████████████                                    | 10/25 [00:22<00:33,  2.24s/it]\u001b[A\n",
            "Running Epoch 0 of 1:  44%|██████████████████████████▍                                 | 11/25 [00:24<00:31,  2.23s/it]\u001b[A\n",
            "Running Epoch 0 of 1:  48%|████████████████████████████▊                               | 12/25 [00:26<00:29,  2.23s/it]\u001b[A\n",
            "Running Epoch 0 of 1:  52%|███████████████████████████████▏                            | 13/25 [00:29<00:26,  2.25s/it]\u001b[A\n",
            "Running Epoch 0 of 1:  56%|█████████████████████████████████▌                          | 14/25 [00:31<00:24,  2.26s/it]\u001b[A\n",
            "Running Epoch 0 of 1:  60%|████████████████████████████████████                        | 15/25 [00:33<00:22,  2.25s/it]\u001b[A\n",
            "Running Epoch 0 of 1:  64%|██████████████████████████████████████▍                     | 16/25 [00:35<00:20,  2.25s/it]\u001b[A\n",
            "Running Epoch 0 of 1:  68%|████████████████████████████████████████▊                   | 17/25 [00:38<00:18,  2.26s/it]\u001b[A\n",
            "Running Epoch 0 of 1:  72%|███████████████████████████████████████████▏                | 18/25 [00:40<00:15,  2.26s/it]\u001b[A\n",
            "Running Epoch 0 of 1:  76%|█████████████████████████████████████████████▌              | 19/25 [00:42<00:13,  2.26s/it]\u001b[A\n",
            "Running Epoch 0 of 1:  80%|████████████████████████████████████████████████            | 20/25 [00:44<00:11,  2.25s/it]\u001b[A\n",
            "Running Epoch 0 of 1:  84%|██████████████████████████████████████████████████▍         | 21/25 [00:47<00:09,  2.26s/it]\u001b[A\n",
            "Running Epoch 0 of 1:  88%|████████████████████████████████████████████████████▊       | 22/25 [00:49<00:06,  2.25s/it]\u001b[A\n",
            "Running Epoch 0 of 1:  92%|███████████████████████████████████████████████████████▏    | 23/25 [00:51<00:04,  2.26s/it]\u001b[A\n",
            "Running Epoch 0 of 1:  96%|█████████████████████████████████████████████████████████▌  | 24/25 [00:53<00:02,  2.25s/it]\u001b[A\n",
            "Running Epoch 0 of 1: 100%|████████████████████████████████████████████████████████████| 25/25 [00:56<00:00,  2.25s/it]\n",
            "Epoch 1 of 1: 100%|██████████████████████████████████████████████████████████████████████| 1/1 [00:56<00:00, 56.13s/it]\n",
            "C:\\Users\\Domenico\\.conda\\envs\\tf\\lib\\site-packages\\simpletransformers\\classification\\classification_model.py:1454: UserWarning: Dataframe headers not specified. Falling back to using column 0 as text and column 1 as labels.\n",
            "  warnings.warn(\n"
          ]
        },
        {
          "output_type": "stream",
          "name": "stdout",
          "text": [
            "\n",
            "NOW EVALUATE THE TEST DF.\n"
          ]
        },
        {
          "output_type": "stream",
          "name": "stderr",
          "text": [
            "  1%|▊                                                                                 | 1/100 [00:07<11:51,  7.19s/it]\n",
            "Running Evaluation: 100%|██████████████████████████████████████████████████████████████| 13/13 [00:07<00:00,  1.83it/s]\n",
            "C:\\Users\\Domenico\\.conda\\envs\\tf\\lib\\site-packages\\simpletransformers\\classification\\classification_model.py:612: UserWarning: Dataframe headers not specified. Falling back to using column 0 as text and column 1 as labels.\n",
            "  warnings.warn(\n"
          ]
        },
        {
          "output_type": "stream",
          "name": "stdout",
          "text": [
            "{'mcc': 0.1, 'tp': 12, 'tn': 42, 'fp': 8, 'fn': 38, 'auroc': 0.5048, 'auprc': 0.5595732502227037, 'eval_loss': 0.6954576556499188}\n",
            "Correct predictions are:  54\n",
            "Total predictions are:  100\n",
            "Accuracy on test set is: 0.54 \n",
            "\n",
            "\n",
            "\n",
            "EPOCH NUMBER:  2\n",
            "\n",
            "NOW TRAIN THE MODEL.\n"
          ]
        },
        {
          "output_type": "stream",
          "name": "stderr",
          "text": [
            "  0%|▍                                                                                 | 1/200 [00:08<29:47,  8.98s/it]\n",
            "Epoch 1 of 1:   0%|                                                                              | 0/1 [00:00<?, ?it/s]\n",
            "Running Epoch 0 of 1:   0%|                                                                     | 0/25 [00:00<?, ?it/s]\u001b[A\n",
            "Running Epoch 0 of 1:   4%|██▍                                                          | 1/25 [00:02<00:54,  2.27s/it]\u001b[A\n",
            "Running Epoch 0 of 1:   8%|████▉                                                        | 2/25 [00:04<00:51,  2.24s/it]\u001b[A\n",
            "Running Epoch 0 of 1:  12%|███████▎                                                     | 3/25 [00:06<00:49,  2.23s/it]\u001b[A\n",
            "Running Epoch 0 of 1:  16%|█████████▊                                                   | 4/25 [00:09<00:47,  2.25s/it]\u001b[A\n",
            "Running Epoch 0 of 1:  20%|████████████▏                                                | 5/25 [00:11<00:45,  2.28s/it]\u001b[A\n",
            "Running Epoch 0 of 1:  24%|██████████████▋                                              | 6/25 [00:13<00:43,  2.28s/it]\u001b[A\n",
            "Running Epoch 0 of 1:  28%|█████████████████                                            | 7/25 [00:15<00:41,  2.28s/it]\u001b[A\n",
            "Running Epoch 0 of 1:  32%|███████████████████▌                                         | 8/25 [00:18<00:39,  2.34s/it]\u001b[A\n",
            "Running Epoch 0 of 1:  36%|█████████████████████▉                                       | 9/25 [00:20<00:37,  2.32s/it]\u001b[A\n",
            "Running Epoch 0 of 1:  40%|████████████████████████                                    | 10/25 [00:22<00:34,  2.31s/it]\u001b[A\n",
            "Running Epoch 0 of 1:  44%|██████████████████████████▍                                 | 11/25 [00:25<00:32,  2.30s/it]\u001b[A\n",
            "Running Epoch 0 of 1:  48%|████████████████████████████▊                               | 12/25 [00:27<00:29,  2.28s/it]\u001b[A\n",
            "Running Epoch 0 of 1:  52%|███████████████████████████████▏                            | 13/25 [00:29<00:27,  2.27s/it]\u001b[A\n",
            "Running Epoch 0 of 1:  56%|█████████████████████████████████▌                          | 14/25 [00:31<00:24,  2.26s/it]\u001b[A\n",
            "Running Epoch 0 of 1:  60%|████████████████████████████████████                        | 15/25 [00:34<00:22,  2.26s/it]\u001b[A\n",
            "Running Epoch 0 of 1:  64%|██████████████████████████████████████▍                     | 16/25 [00:36<00:20,  2.25s/it]\u001b[A\n",
            "Running Epoch 0 of 1:  68%|████████████████████████████████████████▊                   | 17/25 [00:38<00:17,  2.24s/it]\u001b[A\n",
            "Running Epoch 0 of 1:  72%|███████████████████████████████████████████▏                | 18/25 [00:40<00:15,  2.24s/it]\u001b[A\n",
            "Running Epoch 0 of 1:  76%|█████████████████████████████████████████████▌              | 19/25 [00:43<00:13,  2.25s/it]\u001b[A\n",
            "Running Epoch 0 of 1:  80%|████████████████████████████████████████████████            | 20/25 [00:45<00:11,  2.25s/it]\u001b[A\n",
            "Running Epoch 0 of 1:  84%|██████████████████████████████████████████████████▍         | 21/25 [00:47<00:08,  2.24s/it]\u001b[A\n",
            "Running Epoch 0 of 1:  88%|████████████████████████████████████████████████████▊       | 22/25 [00:49<00:06,  2.28s/it]\u001b[A\n",
            "Running Epoch 0 of 1:  92%|███████████████████████████████████████████████████████▏    | 23/25 [00:52<00:04,  2.32s/it]\u001b[A\n",
            "Running Epoch 0 of 1:  96%|█████████████████████████████████████████████████████████▌  | 24/25 [00:54<00:02,  2.34s/it]\u001b[A\n",
            "Running Epoch 0 of 1: 100%|████████████████████████████████████████████████████████████| 25/25 [00:57<00:00,  2.28s/it]\n",
            "Epoch 1 of 1: 100%|██████████████████████████████████████████████████████████████████████| 1/1 [00:57<00:00, 57.04s/it]\n",
            "C:\\Users\\Domenico\\.conda\\envs\\tf\\lib\\site-packages\\simpletransformers\\classification\\classification_model.py:1454: UserWarning: Dataframe headers not specified. Falling back to using column 0 as text and column 1 as labels.\n",
            "  warnings.warn(\n"
          ]
        },
        {
          "output_type": "stream",
          "name": "stdout",
          "text": [
            "\n",
            "NOW EVALUATE THE TEST DF.\n"
          ]
        },
        {
          "output_type": "stream",
          "name": "stderr",
          "text": [
            "  1%|▊                                                                                 | 1/100 [00:07<11:42,  7.10s/it]\n",
            "Running Evaluation: 100%|██████████████████████████████████████████████████████████████| 13/13 [00:07<00:00,  1.81it/s]\n",
            "C:\\Users\\Domenico\\.conda\\envs\\tf\\lib\\site-packages\\simpletransformers\\classification\\classification_model.py:612: UserWarning: Dataframe headers not specified. Falling back to using column 0 as text and column 1 as labels.\n",
            "  warnings.warn(\n"
          ]
        },
        {
          "output_type": "stream",
          "name": "stdout",
          "text": [
            "{'mcc': 0.13764944032233706, 'tp': 4, 'tn': 49, 'fp': 1, 'fn': 46, 'auroc': 0.47559999999999997, 'auprc': 0.5370465531809524, 'eval_loss': 0.6976051789063674}\n",
            "Correct predictions are:  53\n",
            "Total predictions are:  100\n",
            "Accuracy on test set is: 0.53 \n",
            "\n",
            "\n",
            "\n",
            "EPOCH NUMBER:  3\n",
            "\n",
            "NOW TRAIN THE MODEL.\n"
          ]
        },
        {
          "output_type": "stream",
          "name": "stderr",
          "text": [
            "  0%|▍                                                                                 | 1/200 [00:09<30:17,  9.13s/it]\n",
            "Epoch 1 of 1:   0%|                                                                              | 0/1 [00:00<?, ?it/s]\n",
            "Running Epoch 0 of 1:   0%|                                                                     | 0/25 [00:00<?, ?it/s]\u001b[A\n",
            "Running Epoch 0 of 1:   4%|██▍                                                          | 1/25 [00:02<00:54,  2.27s/it]\u001b[A\n",
            "Running Epoch 0 of 1:   8%|████▉                                                        | 2/25 [00:04<00:51,  2.25s/it]\u001b[A\n",
            "Running Epoch 0 of 1:  12%|███████▎                                                     | 3/25 [00:06<00:49,  2.26s/it]\u001b[A\n",
            "Running Epoch 0 of 1:  16%|█████████▊                                                   | 4/25 [00:09<00:47,  2.26s/it]\u001b[A\n",
            "Running Epoch 0 of 1:  20%|████████████▏                                                | 5/25 [00:11<00:44,  2.25s/it]\u001b[A\n",
            "Running Epoch 0 of 1:  24%|██████████████▋                                              | 6/25 [00:13<00:42,  2.26s/it]\u001b[A\n",
            "Running Epoch 0 of 1:  28%|█████████████████                                            | 7/25 [00:15<00:40,  2.26s/it]\u001b[A\n",
            "Running Epoch 0 of 1:  32%|███████████████████▌                                         | 8/25 [00:18<00:38,  2.26s/it]\u001b[A\n",
            "Running Epoch 0 of 1:  36%|█████████████████████▉                                       | 9/25 [00:20<00:35,  2.24s/it]\u001b[A\n",
            "Running Epoch 0 of 1:  40%|████████████████████████                                    | 10/25 [00:22<00:33,  2.24s/it]\u001b[A\n",
            "Running Epoch 0 of 1:  44%|██████████████████████████▍                                 | 11/25 [00:24<00:31,  2.23s/it]\u001b[A\n",
            "Running Epoch 0 of 1:  48%|████████████████████████████▊                               | 12/25 [00:26<00:28,  2.23s/it]\u001b[A\n",
            "Running Epoch 0 of 1:  52%|███████████████████████████████▏                            | 13/25 [00:29<00:26,  2.23s/it]\u001b[A\n",
            "Running Epoch 0 of 1:  56%|█████████████████████████████████▌                          | 14/25 [00:31<00:24,  2.23s/it]\u001b[A\n",
            "Running Epoch 0 of 1:  60%|████████████████████████████████████                        | 15/25 [00:33<00:22,  2.24s/it]\u001b[A\n",
            "Running Epoch 0 of 1:  64%|██████████████████████████████████████▍                     | 16/25 [00:35<00:20,  2.25s/it]\u001b[A\n",
            "Running Epoch 0 of 1:  68%|████████████████████████████████████████▊                   | 17/25 [00:38<00:18,  2.26s/it]\u001b[A\n",
            "Running Epoch 0 of 1:  72%|███████████████████████████████████████████▏                | 18/25 [00:40<00:15,  2.25s/it]\u001b[A\n",
            "Running Epoch 0 of 1:  76%|█████████████████████████████████████████████▌              | 19/25 [00:42<00:13,  2.24s/it]\u001b[A\n",
            "Running Epoch 0 of 1:  80%|████████████████████████████████████████████████            | 20/25 [00:44<00:11,  2.25s/it]\u001b[A\n",
            "Running Epoch 0 of 1:  84%|██████████████████████████████████████████████████▍         | 21/25 [00:47<00:08,  2.25s/it]\u001b[A\n",
            "Running Epoch 0 of 1:  88%|████████████████████████████████████████████████████▊       | 22/25 [00:49<00:06,  2.24s/it]\u001b[A\n",
            "Running Epoch 0 of 1:  92%|███████████████████████████████████████████████████████▏    | 23/25 [00:51<00:04,  2.24s/it]\u001b[A\n",
            "Running Epoch 0 of 1:  96%|█████████████████████████████████████████████████████████▌  | 24/25 [00:53<00:02,  2.24s/it]\u001b[A\n",
            "Running Epoch 0 of 1: 100%|████████████████████████████████████████████████████████████| 25/25 [00:56<00:00,  2.24s/it]\n",
            "Epoch 1 of 1: 100%|██████████████████████████████████████████████████████████████████████| 1/1 [00:56<00:00, 56.09s/it]\n",
            "C:\\Users\\Domenico\\.conda\\envs\\tf\\lib\\site-packages\\simpletransformers\\classification\\classification_model.py:1454: UserWarning: Dataframe headers not specified. Falling back to using column 0 as text and column 1 as labels.\n",
            "  warnings.warn(\n"
          ]
        },
        {
          "output_type": "stream",
          "name": "stdout",
          "text": [
            "\n",
            "NOW EVALUATE THE TEST DF.\n"
          ]
        },
        {
          "output_type": "stream",
          "name": "stderr",
          "text": [
            "  1%|▊                                                                                 | 1/100 [00:07<11:44,  7.12s/it]\n",
            "Running Evaluation: 100%|██████████████████████████████████████████████████████████████| 13/13 [00:07<00:00,  1.81it/s]\n",
            "C:\\Users\\Domenico\\.conda\\envs\\tf\\lib\\site-packages\\simpletransformers\\classification\\classification_model.py:612: UserWarning: Dataframe headers not specified. Falling back to using column 0 as text and column 1 as labels.\n",
            "  warnings.warn(\n"
          ]
        },
        {
          "output_type": "stream",
          "name": "stdout",
          "text": [
            "{'mcc': 0.13093073414159542, 'tp': 38, 'tn': 18, 'fp': 32, 'fn': 12, 'auroc': 0.5860000000000001, 'auprc': 0.6160740949038683, 'eval_loss': 0.7152669292229873}\n",
            "Correct predictions are:  56\n",
            "Total predictions are:  100\n",
            "Accuracy on test set is: 0.56 \n",
            "\n",
            "\n",
            "\n",
            "EPOCH NUMBER:  4\n",
            "\n",
            "NOW TRAIN THE MODEL.\n"
          ]
        },
        {
          "output_type": "stream",
          "name": "stderr",
          "text": [
            "  0%|▍                                                                                 | 1/200 [00:09<30:06,  9.08s/it]\n",
            "Epoch 1 of 1:   0%|                                                                              | 0/1 [00:00<?, ?it/s]\n",
            "Running Epoch 0 of 1:   0%|                                                                     | 0/25 [00:00<?, ?it/s]\u001b[A\n",
            "Running Epoch 0 of 1:   4%|██▍                                                          | 1/25 [00:02<00:54,  2.29s/it]\u001b[A\n",
            "Running Epoch 0 of 1:   8%|████▉                                                        | 2/25 [00:04<00:51,  2.25s/it]\u001b[A\n",
            "Running Epoch 0 of 1:  12%|███████▎                                                     | 3/25 [00:06<00:49,  2.24s/it]\u001b[A\n",
            "Running Epoch 0 of 1:  16%|█████████▊                                                   | 4/25 [00:08<00:46,  2.23s/it]\u001b[A\n",
            "Running Epoch 0 of 1:  20%|████████████▏                                                | 5/25 [00:11<00:44,  2.24s/it]\u001b[A\n",
            "Running Epoch 0 of 1:  24%|██████████████▋                                              | 6/25 [00:13<00:42,  2.23s/it]\u001b[A\n",
            "Running Epoch 0 of 1:  28%|█████████████████                                            | 7/25 [00:15<00:40,  2.23s/it]\u001b[A\n",
            "Running Epoch 0 of 1:  32%|███████████████████▌                                         | 8/25 [00:17<00:38,  2.25s/it]\u001b[A\n",
            "Running Epoch 0 of 1:  36%|█████████████████████▉                                       | 9/25 [00:20<00:35,  2.25s/it]\u001b[A\n",
            "Running Epoch 0 of 1:  40%|████████████████████████                                    | 10/25 [00:22<00:33,  2.24s/it]\u001b[A\n",
            "Running Epoch 0 of 1:  44%|██████████████████████████▍                                 | 11/25 [00:24<00:31,  2.23s/it]\u001b[A\n",
            "Running Epoch 0 of 1:  48%|████████████████████████████▊                               | 12/25 [00:26<00:29,  2.23s/it]\u001b[A\n",
            "Running Epoch 0 of 1:  52%|███████████████████████████████▏                            | 13/25 [00:29<00:26,  2.24s/it]\u001b[A\n",
            "Running Epoch 0 of 1:  56%|█████████████████████████████████▌                          | 14/25 [00:31<00:24,  2.24s/it]\u001b[A\n",
            "Running Epoch 0 of 1:  60%|████████████████████████████████████                        | 15/25 [00:33<00:22,  2.24s/it]\u001b[A\n",
            "Running Epoch 0 of 1:  64%|██████████████████████████████████████▍                     | 16/25 [00:35<00:20,  2.25s/it]\u001b[A\n",
            "Running Epoch 0 of 1:  68%|████████████████████████████████████████▊                   | 17/25 [00:38<00:17,  2.25s/it]\u001b[A\n",
            "Running Epoch 0 of 1:  72%|███████████████████████████████████████████▏                | 18/25 [00:40<00:15,  2.24s/it]\u001b[A\n",
            "Running Epoch 0 of 1:  76%|█████████████████████████████████████████████▌              | 19/25 [00:42<00:13,  2.23s/it]\u001b[A\n",
            "Running Epoch 0 of 1:  80%|████████████████████████████████████████████████            | 20/25 [00:44<00:11,  2.24s/it]\u001b[A\n",
            "Running Epoch 0 of 1:  84%|██████████████████████████████████████████████████▍         | 21/25 [00:47<00:08,  2.25s/it]\u001b[A\n",
            "Running Epoch 0 of 1:  88%|████████████████████████████████████████████████████▊       | 22/25 [00:49<00:06,  2.28s/it]\u001b[A\n",
            "Running Epoch 0 of 1:  92%|███████████████████████████████████████████████████████▏    | 23/25 [00:51<00:04,  2.33s/it]\u001b[A\n",
            "Running Epoch 0 of 1:  96%|█████████████████████████████████████████████████████████▌  | 24/25 [00:54<00:02,  2.34s/it]\u001b[A\n",
            "Running Epoch 0 of 1: 100%|████████████████████████████████████████████████████████████| 25/25 [00:56<00:00,  2.26s/it]\n",
            "Epoch 1 of 1: 100%|██████████████████████████████████████████████████████████████████████| 1/1 [00:56<00:00, 56.48s/it]\n",
            "C:\\Users\\Domenico\\.conda\\envs\\tf\\lib\\site-packages\\simpletransformers\\classification\\classification_model.py:1454: UserWarning: Dataframe headers not specified. Falling back to using column 0 as text and column 1 as labels.\n",
            "  warnings.warn(\n"
          ]
        },
        {
          "output_type": "stream",
          "name": "stdout",
          "text": [
            "\n",
            "NOW EVALUATE THE TEST DF.\n"
          ]
        },
        {
          "output_type": "stream",
          "name": "stderr",
          "text": [
            "  1%|▊                                                                                 | 1/100 [00:07<11:37,  7.04s/it]\n",
            "Running Evaluation: 100%|██████████████████████████████████████████████████████████████| 13/13 [00:07<00:00,  1.83it/s]\n",
            "C:\\Users\\Domenico\\.conda\\envs\\tf\\lib\\site-packages\\simpletransformers\\classification\\classification_model.py:612: UserWarning: Dataframe headers not specified. Falling back to using column 0 as text and column 1 as labels.\n",
            "  warnings.warn(\n"
          ]
        },
        {
          "output_type": "stream",
          "name": "stdout",
          "text": [
            "{'mcc': 0.10633485251477835, 'tp': 36, 'tn': 19, 'fp': 31, 'fn': 14, 'auroc': 0.5732, 'auprc': 0.5838927430820484, 'eval_loss': 0.8477838474970597}\n",
            "Correct predictions are:  55\n",
            "Total predictions are:  100\n",
            "Accuracy on test set is: 0.55 \n",
            "\n",
            "\n",
            "\n",
            "EPOCH NUMBER:  5\n",
            "\n",
            "NOW TRAIN THE MODEL.\n"
          ]
        },
        {
          "output_type": "stream",
          "name": "stderr",
          "text": [
            "  0%|▍                                                                                 | 1/200 [00:08<29:41,  8.95s/it]\n",
            "Epoch 1 of 1:   0%|                                                                              | 0/1 [00:00<?, ?it/s]\n",
            "Running Epoch 0 of 1:   0%|                                                                     | 0/25 [00:00<?, ?it/s]\u001b[A\n",
            "Running Epoch 0 of 1:   4%|██▍                                                          | 1/25 [00:02<00:54,  2.28s/it]\u001b[A\n",
            "Running Epoch 0 of 1:   8%|████▉                                                        | 2/25 [00:04<00:51,  2.26s/it]\u001b[A\n",
            "Running Epoch 0 of 1:  12%|███████▎                                                     | 3/25 [00:06<00:49,  2.24s/it]\u001b[A\n",
            "Running Epoch 0 of 1:  16%|█████████▊                                                   | 4/25 [00:08<00:46,  2.24s/it]\u001b[A\n",
            "Running Epoch 0 of 1:  20%|████████████▏                                                | 5/25 [00:11<00:44,  2.23s/it]\u001b[A\n",
            "Running Epoch 0 of 1:  24%|██████████████▋                                              | 6/25 [00:13<00:42,  2.22s/it]\u001b[A\n",
            "Running Epoch 0 of 1:  28%|█████████████████                                            | 7/25 [00:15<00:40,  2.24s/it]\u001b[A\n",
            "Running Epoch 0 of 1:  32%|███████████████████▌                                         | 8/25 [00:17<00:38,  2.24s/it]\u001b[A\n",
            "Running Epoch 0 of 1:  36%|█████████████████████▉                                       | 9/25 [00:20<00:35,  2.23s/it]\u001b[A\n",
            "Running Epoch 0 of 1:  40%|████████████████████████                                    | 10/25 [00:22<00:33,  2.23s/it]\u001b[A\n",
            "Running Epoch 0 of 1:  44%|██████████████████████████▍                                 | 11/25 [00:24<00:31,  2.24s/it]\u001b[A\n",
            "Running Epoch 0 of 1:  48%|████████████████████████████▊                               | 12/25 [00:26<00:29,  2.24s/it]\u001b[A\n",
            "Running Epoch 0 of 1:  52%|███████████████████████████████▏                            | 13/25 [00:29<00:26,  2.24s/it]\u001b[A\n",
            "Running Epoch 0 of 1:  56%|█████████████████████████████████▌                          | 14/25 [00:31<00:24,  2.24s/it]\u001b[A\n",
            "Running Epoch 0 of 1:  60%|████████████████████████████████████                        | 15/25 [00:33<00:22,  2.25s/it]\u001b[A\n",
            "Running Epoch 0 of 1:  64%|██████████████████████████████████████▍                     | 16/25 [00:35<00:20,  2.25s/it]\u001b[A\n",
            "Running Epoch 0 of 1:  68%|████████████████████████████████████████▊                   | 17/25 [00:38<00:17,  2.24s/it]\u001b[A\n",
            "Running Epoch 0 of 1:  72%|███████████████████████████████████████████▏                | 18/25 [00:40<00:15,  2.24s/it]\u001b[A\n",
            "Running Epoch 0 of 1:  76%|█████████████████████████████████████████████▌              | 19/25 [00:42<00:13,  2.24s/it]\u001b[A\n",
            "Running Epoch 0 of 1:  80%|████████████████████████████████████████████████            | 20/25 [00:44<00:11,  2.25s/it]\u001b[A\n",
            "Running Epoch 0 of 1:  84%|██████████████████████████████████████████████████▍         | 21/25 [00:47<00:08,  2.24s/it]\u001b[A\n",
            "Running Epoch 0 of 1:  88%|████████████████████████████████████████████████████▊       | 22/25 [00:49<00:06,  2.24s/it]\u001b[A\n",
            "Running Epoch 0 of 1:  92%|███████████████████████████████████████████████████████▏    | 23/25 [00:51<00:04,  2.25s/it]\u001b[A\n",
            "Running Epoch 0 of 1:  96%|█████████████████████████████████████████████████████████▌  | 24/25 [00:53<00:02,  2.25s/it]\u001b[A\n",
            "Running Epoch 0 of 1: 100%|████████████████████████████████████████████████████████████| 25/25 [00:56<00:00,  2.24s/it]\n",
            "Epoch 1 of 1: 100%|██████████████████████████████████████████████████████████████████████| 1/1 [00:56<00:00, 56.03s/it]\n",
            "C:\\Users\\Domenico\\.conda\\envs\\tf\\lib\\site-packages\\simpletransformers\\classification\\classification_model.py:1454: UserWarning: Dataframe headers not specified. Falling back to using column 0 as text and column 1 as labels.\n",
            "  warnings.warn(\n"
          ]
        },
        {
          "output_type": "stream",
          "name": "stdout",
          "text": [
            "\n",
            "NOW EVALUATE THE TEST DF.\n"
          ]
        },
        {
          "output_type": "stream",
          "name": "stderr",
          "text": [
            "  1%|▊                                                                                 | 1/100 [00:07<11:35,  7.03s/it]\n",
            "Running Evaluation: 100%|██████████████████████████████████████████████████████████████| 13/13 [00:07<00:00,  1.82it/s]\n",
            "C:\\Users\\Domenico\\.conda\\envs\\tf\\lib\\site-packages\\simpletransformers\\classification\\classification_model.py:612: UserWarning: Dataframe headers not specified. Falling back to using column 0 as text and column 1 as labels.\n",
            "  warnings.warn(\n"
          ]
        },
        {
          "output_type": "stream",
          "name": "stdout",
          "text": [
            "{'mcc': 0.10002000600200071, 'tp': 28, 'tn': 27, 'fp': 23, 'fn': 22, 'auroc': 0.5488, 'auprc': 0.6029058611613154, 'eval_loss': 0.7369541457066169}\n",
            "Correct predictions are:  55\n",
            "Total predictions are:  100\n",
            "Accuracy on test set is: 0.55 \n",
            "\n",
            "\n",
            "\n",
            "EPOCH NUMBER:  6\n",
            "\n",
            "NOW TRAIN THE MODEL.\n"
          ]
        },
        {
          "output_type": "stream",
          "name": "stderr",
          "text": [
            "  0%|▍                                                                                 | 1/200 [00:08<29:40,  8.94s/it]\n",
            "Epoch 1 of 1:   0%|                                                                              | 0/1 [00:00<?, ?it/s]\n",
            "Running Epoch 0 of 1:   0%|                                                                     | 0/25 [00:00<?, ?it/s]\u001b[A\n",
            "Running Epoch 0 of 1:   4%|██▍                                                          | 1/25 [00:02<00:54,  2.25s/it]\u001b[A\n",
            "Running Epoch 0 of 1:   8%|████▉                                                        | 2/25 [00:04<00:51,  2.23s/it]\u001b[A\n",
            "Running Epoch 0 of 1:  12%|███████▎                                                     | 3/25 [00:06<00:48,  2.23s/it]\u001b[A\n",
            "Running Epoch 0 of 1:  16%|█████████▊                                                   | 4/25 [00:08<00:46,  2.23s/it]\u001b[A\n",
            "Running Epoch 0 of 1:  20%|████████████▏                                                | 5/25 [00:11<00:44,  2.23s/it]\u001b[A\n",
            "Running Epoch 0 of 1:  24%|██████████████▋                                              | 6/25 [00:13<00:42,  2.23s/it]\u001b[A\n",
            "Running Epoch 0 of 1:  28%|█████████████████                                            | 7/25 [00:15<00:40,  2.24s/it]\u001b[A\n",
            "Running Epoch 0 of 1:  32%|███████████████████▌                                         | 8/25 [00:17<00:38,  2.25s/it]\u001b[A\n",
            "Running Epoch 0 of 1:  36%|█████████████████████▉                                       | 9/25 [00:20<00:35,  2.25s/it]\u001b[A\n",
            "Running Epoch 0 of 1:  40%|████████████████████████                                    | 10/25 [00:22<00:33,  2.24s/it]\u001b[A\n",
            "Running Epoch 0 of 1:  44%|██████████████████████████▍                                 | 11/25 [00:24<00:31,  2.23s/it]\u001b[A\n",
            "Running Epoch 0 of 1:  48%|████████████████████████████▊                               | 12/25 [00:26<00:29,  2.24s/it]\u001b[A\n",
            "Running Epoch 0 of 1:  52%|███████████████████████████████▏                            | 13/25 [00:29<00:26,  2.24s/it]\u001b[A\n",
            "Running Epoch 0 of 1:  56%|█████████████████████████████████▌                          | 14/25 [00:31<00:24,  2.24s/it]\u001b[A\n",
            "Running Epoch 0 of 1:  60%|████████████████████████████████████                        | 15/25 [00:33<00:22,  2.23s/it]\u001b[A\n",
            "Running Epoch 0 of 1:  64%|██████████████████████████████████████▍                     | 16/25 [00:35<00:20,  2.24s/it]\u001b[A\n",
            "Running Epoch 0 of 1:  68%|████████████████████████████████████████▊                   | 17/25 [00:38<00:17,  2.24s/it]\u001b[A\n",
            "Running Epoch 0 of 1:  72%|███████████████████████████████████████████▏                | 18/25 [00:40<00:15,  2.24s/it]\u001b[A\n",
            "Running Epoch 0 of 1:  76%|█████████████████████████████████████████████▌              | 19/25 [00:42<00:13,  2.24s/it]\u001b[A\n",
            "Running Epoch 0 of 1:  80%|████████████████████████████████████████████████            | 20/25 [00:44<00:11,  2.24s/it]\u001b[A\n",
            "Running Epoch 0 of 1:  84%|██████████████████████████████████████████████████▍         | 21/25 [00:46<00:08,  2.24s/it]\u001b[A\n",
            "Running Epoch 0 of 1:  88%|████████████████████████████████████████████████████▊       | 22/25 [00:49<00:06,  2.26s/it]\u001b[A\n",
            "Running Epoch 0 of 1:  92%|███████████████████████████████████████████████████████▏    | 23/25 [00:51<00:04,  2.29s/it]\u001b[A\n",
            "Running Epoch 0 of 1:  96%|█████████████████████████████████████████████████████████▌  | 24/25 [00:54<00:02,  2.33s/it]\u001b[A\n",
            "Running Epoch 0 of 1: 100%|████████████████████████████████████████████████████████████| 25/25 [00:56<00:00,  2.25s/it]\n",
            "Epoch 1 of 1: 100%|██████████████████████████████████████████████████████████████████████| 1/1 [00:56<00:00, 56.31s/it]\n",
            "C:\\Users\\Domenico\\.conda\\envs\\tf\\lib\\site-packages\\simpletransformers\\classification\\classification_model.py:1454: UserWarning: Dataframe headers not specified. Falling back to using column 0 as text and column 1 as labels.\n",
            "  warnings.warn(\n"
          ]
        },
        {
          "output_type": "stream",
          "name": "stdout",
          "text": [
            "\n",
            "NOW EVALUATE THE TEST DF.\n"
          ]
        },
        {
          "output_type": "stream",
          "name": "stderr",
          "text": [
            "  1%|▊                                                                                 | 1/100 [00:07<11:51,  7.18s/it]\n",
            "Running Evaluation: 100%|██████████████████████████████████████████████████████████████| 13/13 [00:07<00:00,  1.82it/s]\n",
            "C:\\Users\\Domenico\\.conda\\envs\\tf\\lib\\site-packages\\simpletransformers\\classification\\classification_model.py:612: UserWarning: Dataframe headers not specified. Falling back to using column 0 as text and column 1 as labels.\n",
            "  warnings.warn(\n"
          ]
        },
        {
          "output_type": "stream",
          "name": "stdout",
          "text": [
            "{'mcc': 0.2203970724177368, 'tp': 32, 'tn': 29, 'fp': 21, 'fn': 18, 'auroc': 0.6036, 'auprc': 0.6322086956257194, 'eval_loss': 1.235708739895087}\n",
            "Correct predictions are:  61\n",
            "Total predictions are:  100\n",
            "Accuracy on test set is: 0.61 \n",
            "\n",
            "\n",
            "\n",
            "EPOCH NUMBER:  7\n",
            "\n",
            "NOW TRAIN THE MODEL.\n"
          ]
        },
        {
          "output_type": "stream",
          "name": "stderr",
          "text": [
            "  0%|▍                                                                                 | 1/200 [00:08<29:44,  8.97s/it]\n",
            "Epoch 1 of 1:   0%|                                                                              | 0/1 [00:00<?, ?it/s]\n",
            "Running Epoch 0 of 1:   0%|                                                                     | 0/25 [00:00<?, ?it/s]\u001b[A\n",
            "Running Epoch 0 of 1:   4%|██▍                                                          | 1/25 [00:02<00:53,  2.22s/it]\u001b[A\n",
            "Running Epoch 0 of 1:   8%|████▉                                                        | 2/25 [00:04<00:50,  2.22s/it]\u001b[A\n",
            "Running Epoch 0 of 1:  12%|███████▎                                                     | 3/25 [00:06<00:49,  2.23s/it]\u001b[A\n",
            "Running Epoch 0 of 1:  16%|█████████▊                                                   | 4/25 [00:08<00:46,  2.23s/it]\u001b[A\n",
            "Running Epoch 0 of 1:  20%|████████████▏                                                | 5/25 [00:11<00:44,  2.22s/it]\u001b[A\n",
            "Running Epoch 0 of 1:  24%|██████████████▋                                              | 6/25 [00:13<00:42,  2.22s/it]\u001b[A\n",
            "Running Epoch 0 of 1:  28%|█████████████████                                            | 7/25 [00:15<00:40,  2.22s/it]\u001b[A\n",
            "Running Epoch 0 of 1:  32%|███████████████████▌                                         | 8/25 [00:17<00:37,  2.23s/it]\u001b[A\n",
            "Running Epoch 0 of 1:  36%|█████████████████████▉                                       | 9/25 [00:20<00:35,  2.23s/it]\u001b[A\n",
            "Running Epoch 0 of 1:  40%|████████████████████████                                    | 10/25 [00:22<00:33,  2.23s/it]\u001b[A\n",
            "Running Epoch 0 of 1:  44%|██████████████████████████▍                                 | 11/25 [00:24<00:31,  2.23s/it]\u001b[A\n",
            "Running Epoch 0 of 1:  48%|████████████████████████████▊                               | 12/25 [00:26<00:29,  2.23s/it]\u001b[A\n",
            "Running Epoch 0 of 1:  52%|███████████████████████████████▏                            | 13/25 [00:28<00:26,  2.23s/it]\u001b[A\n",
            "Running Epoch 0 of 1:  56%|█████████████████████████████████▌                          | 14/25 [00:31<00:24,  2.23s/it]\u001b[A\n",
            "Running Epoch 0 of 1:  60%|████████████████████████████████████                        | 15/25 [00:33<00:22,  2.23s/it]\u001b[A\n",
            "Running Epoch 0 of 1:  64%|██████████████████████████████████████▍                     | 16/25 [00:35<00:20,  2.23s/it]\u001b[A\n",
            "Running Epoch 0 of 1:  68%|████████████████████████████████████████▊                   | 17/25 [00:37<00:17,  2.24s/it]\u001b[A\n",
            "Running Epoch 0 of 1:  72%|███████████████████████████████████████████▏                | 18/25 [00:40<00:15,  2.24s/it]\u001b[A\n",
            "Running Epoch 0 of 1:  76%|█████████████████████████████████████████████▌              | 19/25 [00:42<00:13,  2.25s/it]\u001b[A\n",
            "Running Epoch 0 of 1:  80%|████████████████████████████████████████████████            | 20/25 [00:44<00:11,  2.25s/it]\u001b[A\n",
            "Running Epoch 0 of 1:  84%|██████████████████████████████████████████████████▍         | 21/25 [00:46<00:08,  2.24s/it]\u001b[A\n",
            "Running Epoch 0 of 1:  88%|████████████████████████████████████████████████████▊       | 22/25 [00:49<00:06,  2.24s/it]\u001b[A\n",
            "Running Epoch 0 of 1:  92%|███████████████████████████████████████████████████████▏    | 23/25 [00:51<00:04,  2.24s/it]\u001b[A\n",
            "Running Epoch 0 of 1:  96%|█████████████████████████████████████████████████████████▌  | 24/25 [00:53<00:02,  2.24s/it]\u001b[A\n",
            "Running Epoch 0 of 1: 100%|████████████████████████████████████████████████████████████| 25/25 [00:55<00:00,  2.24s/it]\n",
            "Epoch 1 of 1: 100%|██████████████████████████████████████████████████████████████████████| 1/1 [00:55<00:00, 55.88s/it]\n",
            "C:\\Users\\Domenico\\.conda\\envs\\tf\\lib\\site-packages\\simpletransformers\\classification\\classification_model.py:1454: UserWarning: Dataframe headers not specified. Falling back to using column 0 as text and column 1 as labels.\n",
            "  warnings.warn(\n"
          ]
        },
        {
          "output_type": "stream",
          "name": "stdout",
          "text": [
            "\n",
            "NOW EVALUATE THE TEST DF.\n"
          ]
        },
        {
          "output_type": "stream",
          "name": "stderr",
          "text": [
            "  1%|▊                                                                                 | 1/100 [00:07<11:58,  7.26s/it]\n",
            "Running Evaluation: 100%|██████████████████████████████████████████████████████████████| 13/13 [00:07<00:00,  1.82it/s]\n",
            "C:\\Users\\Domenico\\.conda\\envs\\tf\\lib\\site-packages\\simpletransformers\\classification\\classification_model.py:612: UserWarning: Dataframe headers not specified. Falling back to using column 0 as text and column 1 as labels.\n",
            "  warnings.warn(\n"
          ]
        },
        {
          "output_type": "stream",
          "name": "stdout",
          "text": [
            "{'mcc': 0.04222003309207491, 'tp': 34, 'tn': 18, 'fp': 32, 'fn': 16, 'auroc': 0.572, 'auprc': 0.6117677012657808, 'eval_loss': 1.5650277401392276}\n",
            "Correct predictions are:  52\n",
            "Total predictions are:  100\n",
            "Accuracy on test set is: 0.52 \n",
            "\n",
            "\n",
            "\n",
            "EPOCH NUMBER:  8\n",
            "\n",
            "NOW TRAIN THE MODEL.\n"
          ]
        },
        {
          "output_type": "stream",
          "name": "stderr",
          "text": [
            "  0%|▍                                                                                 | 1/200 [00:08<29:50,  9.00s/it]\n",
            "Epoch 1 of 1:   0%|                                                                              | 0/1 [00:00<?, ?it/s]\n",
            "Running Epoch 0 of 1:   0%|                                                                     | 0/25 [00:00<?, ?it/s]\u001b[A\n",
            "Running Epoch 0 of 1:   4%|██▍                                                          | 1/25 [00:02<00:53,  2.24s/it]\u001b[A\n",
            "Running Epoch 0 of 1:   8%|████▉                                                        | 2/25 [00:04<00:51,  2.23s/it]\u001b[A\n",
            "Running Epoch 0 of 1:  12%|███████▎                                                     | 3/25 [00:06<00:49,  2.23s/it]\u001b[A\n",
            "Running Epoch 0 of 1:  16%|█████████▊                                                   | 4/25 [00:09<00:47,  2.27s/it]\u001b[A\n",
            "Running Epoch 0 of 1:  20%|████████████▏                                                | 5/25 [00:11<00:45,  2.29s/it]\u001b[A\n",
            "Running Epoch 0 of 1:  24%|██████████████▋                                              | 6/25 [00:13<00:44,  2.33s/it]\u001b[A\n",
            "Running Epoch 0 of 1:  28%|█████████████████                                            | 7/25 [00:16<00:41,  2.31s/it]\u001b[A\n",
            "Running Epoch 0 of 1:  32%|███████████████████▌                                         | 8/25 [00:18<00:38,  2.29s/it]\u001b[A\n",
            "Running Epoch 0 of 1:  36%|█████████████████████▉                                       | 9/25 [00:20<00:36,  2.27s/it]\u001b[A\n",
            "Running Epoch 0 of 1:  40%|████████████████████████                                    | 10/25 [00:22<00:33,  2.26s/it]\u001b[A\n",
            "Running Epoch 0 of 1:  44%|██████████████████████████▍                                 | 11/25 [00:24<00:31,  2.25s/it]\u001b[A\n",
            "Running Epoch 0 of 1:  48%|████████████████████████████▊                               | 12/25 [00:27<00:29,  2.24s/it]\u001b[A\n",
            "Running Epoch 0 of 1:  52%|███████████████████████████████▏                            | 13/25 [00:29<00:26,  2.24s/it]\u001b[A\n",
            "Running Epoch 0 of 1:  56%|█████████████████████████████████▌                          | 14/25 [00:31<00:24,  2.24s/it]\u001b[A\n",
            "Running Epoch 0 of 1:  60%|████████████████████████████████████                        | 15/25 [00:33<00:22,  2.25s/it]\u001b[A\n",
            "Running Epoch 0 of 1:  64%|██████████████████████████████████████▍                     | 16/25 [00:36<00:20,  2.24s/it]\u001b[A\n",
            "Running Epoch 0 of 1:  68%|████████████████████████████████████████▊                   | 17/25 [00:38<00:17,  2.24s/it]\u001b[A\n",
            "Running Epoch 0 of 1:  72%|███████████████████████████████████████████▏                | 18/25 [00:40<00:15,  2.24s/it]\u001b[A\n",
            "Running Epoch 0 of 1:  76%|█████████████████████████████████████████████▌              | 19/25 [00:42<00:13,  2.26s/it]\u001b[A\n",
            "Running Epoch 0 of 1:  80%|████████████████████████████████████████████████            | 20/25 [00:45<00:11,  2.25s/it]\u001b[A\n",
            "Running Epoch 0 of 1:  84%|██████████████████████████████████████████████████▍         | 21/25 [00:47<00:08,  2.25s/it]\u001b[A\n",
            "Running Epoch 0 of 1:  88%|████████████████████████████████████████████████████▊       | 22/25 [00:49<00:06,  2.25s/it]\u001b[A\n",
            "Running Epoch 0 of 1:  92%|███████████████████████████████████████████████████████▏    | 23/25 [00:51<00:04,  2.25s/it]\u001b[A\n",
            "Running Epoch 0 of 1:  96%|█████████████████████████████████████████████████████████▌  | 24/25 [00:54<00:02,  2.24s/it]\u001b[A\n",
            "Running Epoch 0 of 1: 100%|████████████████████████████████████████████████████████████| 25/25 [00:56<00:00,  2.26s/it]\n",
            "Epoch 1 of 1: 100%|██████████████████████████████████████████████████████████████████████| 1/1 [00:56<00:00, 56.40s/it]\n",
            "C:\\Users\\Domenico\\.conda\\envs\\tf\\lib\\site-packages\\simpletransformers\\classification\\classification_model.py:1454: UserWarning: Dataframe headers not specified. Falling back to using column 0 as text and column 1 as labels.\n",
            "  warnings.warn(\n"
          ]
        },
        {
          "output_type": "stream",
          "name": "stdout",
          "text": [
            "\n",
            "NOW EVALUATE THE TEST DF.\n"
          ]
        },
        {
          "output_type": "stream",
          "name": "stderr",
          "text": [
            "  1%|▊                                                                                 | 1/100 [00:07<11:42,  7.10s/it]\n",
            "Running Evaluation: 100%|██████████████████████████████████████████████████████████████| 13/13 [00:07<00:00,  1.81it/s]\n",
            "C:\\Users\\Domenico\\.conda\\envs\\tf\\lib\\site-packages\\simpletransformers\\classification\\classification_model.py:612: UserWarning: Dataframe headers not specified. Falling back to using column 0 as text and column 1 as labels.\n",
            "  warnings.warn(\n"
          ]
        },
        {
          "output_type": "stream",
          "name": "stdout",
          "text": [
            "{'mcc': 0.060996275952168354, 'tp': 22, 'tn': 31, 'fp': 19, 'fn': 28, 'auroc': 0.514, 'auprc': 0.5553640843754852, 'eval_loss': 2.200900164468644}\n",
            "Correct predictions are:  53\n",
            "Total predictions are:  100\n",
            "Accuracy on test set is: 0.53 \n",
            "\n",
            "\n",
            "\n",
            "EPOCH NUMBER:  9\n",
            "\n",
            "NOW TRAIN THE MODEL.\n"
          ]
        },
        {
          "output_type": "stream",
          "name": "stderr",
          "text": [
            "  0%|▍                                                                                 | 1/200 [00:08<29:36,  8.93s/it]\n",
            "Epoch 1 of 1:   0%|                                                                              | 0/1 [00:00<?, ?it/s]\n",
            "Running Epoch 0 of 1:   0%|                                                                     | 0/25 [00:00<?, ?it/s]\u001b[A\n",
            "Running Epoch 0 of 1:   4%|██▍                                                          | 1/25 [00:02<00:53,  2.25s/it]\u001b[A\n",
            "Running Epoch 0 of 1:   8%|████▉                                                        | 2/25 [00:04<00:51,  2.25s/it]\u001b[A\n",
            "Running Epoch 0 of 1:  12%|███████▎                                                     | 3/25 [00:06<00:49,  2.24s/it]\u001b[A\n",
            "Running Epoch 0 of 1:  16%|█████████▊                                                   | 4/25 [00:08<00:46,  2.24s/it]\u001b[A\n",
            "Running Epoch 0 of 1:  20%|████████████▏                                                | 5/25 [00:11<00:44,  2.24s/it]\u001b[A\n",
            "Running Epoch 0 of 1:  24%|██████████████▋                                              | 6/25 [00:13<00:42,  2.24s/it]\u001b[A\n",
            "Running Epoch 0 of 1:  28%|█████████████████                                            | 7/25 [00:15<00:40,  2.25s/it]\u001b[A\n",
            "Running Epoch 0 of 1:  32%|███████████████████▌                                         | 8/25 [00:17<00:38,  2.25s/it]\u001b[A\n",
            "Running Epoch 0 of 1:  36%|█████████████████████▉                                       | 9/25 [00:20<00:35,  2.24s/it]\u001b[A\n",
            "Running Epoch 0 of 1:  40%|████████████████████████                                    | 10/25 [00:22<00:33,  2.25s/it]\u001b[A\n",
            "Running Epoch 0 of 1:  44%|██████████████████████████▍                                 | 11/25 [00:24<00:31,  2.26s/it]\u001b[A\n",
            "Running Epoch 0 of 1:  48%|████████████████████████████▊                               | 12/25 [00:26<00:29,  2.26s/it]\u001b[A\n",
            "Running Epoch 0 of 1:  52%|███████████████████████████████▏                            | 13/25 [00:29<00:27,  2.25s/it]\u001b[A\n",
            "Running Epoch 0 of 1:  56%|█████████████████████████████████▌                          | 14/25 [00:31<00:24,  2.25s/it]\u001b[A\n",
            "Running Epoch 0 of 1:  60%|████████████████████████████████████                        | 15/25 [00:33<00:22,  2.25s/it]\u001b[A\n",
            "Running Epoch 0 of 1:  64%|██████████████████████████████████████▍                     | 16/25 [00:35<00:20,  2.25s/it]\u001b[A\n",
            "Running Epoch 0 of 1:  68%|████████████████████████████████████████▊                   | 17/25 [00:38<00:17,  2.24s/it]\u001b[A\n",
            "Running Epoch 0 of 1:  72%|███████████████████████████████████████████▏                | 18/25 [00:40<00:15,  2.25s/it]\u001b[A\n",
            "Running Epoch 0 of 1:  76%|█████████████████████████████████████████████▌              | 19/25 [00:42<00:13,  2.24s/it]\u001b[A\n",
            "Running Epoch 0 of 1:  80%|████████████████████████████████████████████████            | 20/25 [00:44<00:11,  2.24s/it]\u001b[A\n",
            "Running Epoch 0 of 1:  84%|██████████████████████████████████████████████████▍         | 21/25 [00:47<00:08,  2.24s/it]\u001b[A\n",
            "Running Epoch 0 of 1:  88%|████████████████████████████████████████████████████▊       | 22/25 [00:49<00:06,  2.25s/it]\u001b[A\n",
            "Running Epoch 0 of 1:  92%|███████████████████████████████████████████████████████▏    | 23/25 [00:51<00:04,  2.25s/it]\u001b[A\n",
            "Running Epoch 0 of 1:  96%|█████████████████████████████████████████████████████████▌  | 24/25 [00:53<00:02,  2.25s/it]\u001b[A\n",
            "Running Epoch 0 of 1: 100%|████████████████████████████████████████████████████████████| 25/25 [00:56<00:00,  2.25s/it]\n",
            "Epoch 1 of 1: 100%|██████████████████████████████████████████████████████████████████████| 1/1 [00:56<00:00, 56.17s/it]\n",
            "C:\\Users\\Domenico\\.conda\\envs\\tf\\lib\\site-packages\\simpletransformers\\classification\\classification_model.py:1454: UserWarning: Dataframe headers not specified. Falling back to using column 0 as text and column 1 as labels.\n",
            "  warnings.warn(\n"
          ]
        },
        {
          "output_type": "stream",
          "name": "stdout",
          "text": [
            "\n",
            "NOW EVALUATE THE TEST DF.\n"
          ]
        },
        {
          "output_type": "stream",
          "name": "stderr",
          "text": [
            "  1%|▊                                                                                 | 1/100 [00:07<11:36,  7.04s/it]\n",
            "Running Evaluation: 100%|██████████████████████████████████████████████████████████████| 13/13 [00:07<00:00,  1.82it/s]"
          ]
        },
        {
          "output_type": "stream",
          "name": "stdout",
          "text": [
            "{'mcc': 0.10482848367219183, 'tp': 20, 'tn': 35, 'fp': 15, 'fn': 30, 'auroc': 0.5908000000000001, 'auprc': 0.6234080360101322, 'eval_loss': 1.9969804214779288}\n",
            "Correct predictions are:  55\n",
            "Total predictions are:  100\n",
            "Accuracy on test set is: 0.55 \n",
            "\n",
            "\n",
            "[0.5, 0.54, 0.53, 0.56, 0.55, 0.55, 0.61, 0.52, 0.53, 0.55]\n",
            "\n",
            "\n",
            " Over all runs maximum accuracies are: [0.5, 0.55, 0.57, 0.61, 0.61]\n",
            "The median is: 0.57\n",
            "RoBERTa Accuracy Score on Test set ->  0.57 +/- 0.06999999999999995\n"
          ]
        },
        {
          "output_type": "stream",
          "name": "stderr",
          "text": [
            "\n"
          ]
        }
      ]
    }
  ],
  "metadata": {
    "accelerator": "GPU",
    "colab": {
      "provenance": [],
      "include_colab_link": true
    },
    "kernelspec": {
      "display_name": "Python 3",
      "name": "python3"
    },
    "gpuClass": "standard"
  },
  "nbformat": 4,
  "nbformat_minor": 0
}