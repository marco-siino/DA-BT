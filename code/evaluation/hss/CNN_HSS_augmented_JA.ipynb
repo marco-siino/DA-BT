{
  "cells": [
    {
      "cell_type": "markdown",
      "metadata": {
        "id": "view-in-github",
        "colab_type": "text"
      },
      "source": [
        "<a href=\"https://colab.research.google.com/github/marco-siino/DA-BT/blob/main/code/evaluation/hss/CNN_HSS_augmented_JA.ipynb\" target=\"_parent\"><img src=\"https://colab.research.google.com/assets/colab-badge.svg\" alt=\"Open In Colab\"/></a>"
      ]
    },
    {
      "cell_type": "markdown",
      "metadata": {
        "id": "u-hLo5ufkCT1"
      },
      "source": [
        "## Investigating text data augmentation using back translation for author profiling\n",
        "- - - \n",
        "CNN ON FNS DS EXPERIMENTS NOTEBOOK \n",
        "- - -\n",
        "Convolutional Neural Network on Hate Speech Spreaders Dataset augmented with JA backtranslation.\n",
        "Code by M. Siino. \n",
        "\n",
        "From the paper: \"Investigating text data augmentation using back translation for author profiling\" by M.Siino et al.\n",
        "\n"
      ]
    },
    {
      "cell_type": "markdown",
      "metadata": {
        "id": "6IBqUcj4cx2G"
      },
      "source": [
        "## Importing modules."
      ]
    },
    {
      "cell_type": "code",
      "execution_count": 6,
      "metadata": {
        "id": "AQSunQ-ucjLX",
        "colab": {
          "base_uri": "https://localhost:8080/"
        },
        "outputId": "4fdf35a6-307e-447d-9cdb-383035a2c4e0"
      },
      "outputs": [
        {
          "output_type": "stream",
          "name": "stdout",
          "text": [
            "Fetching https://raw.githubusercontent.com/marco-siino/DA-BT/main/code/dataset.py\n",
            "Fetching https://raw.githubusercontent.com/marco-siino/DA-BT/main/code/vectorizer.py\n",
            "Fetching https://raw.githubusercontent.com/marco-siino/DA-BT/main/code/simulator.py\n"
          ]
        }
      ],
      "source": [
        "import matplotlib.pyplot as plt\n",
        "import os\n",
        "import random\n",
        "import re\n",
        "import shutil\n",
        "import string\n",
        "import tensorflow as tf\n",
        "from urllib import request\n",
        "\n",
        "\n",
        "import numpy as np\n",
        "\n",
        "from tensorflow.keras import layers\n",
        "from tensorflow.keras import losses\n",
        "from tensorflow.keras import preprocessing\n",
        "from keras.models import Model\n",
        "from tensorflow.keras.layers.experimental.preprocessing import TextVectorization\n",
        "\n",
        "# Import class Dataset\n",
        "module_url = f\"https://raw.githubusercontent.com/marco-siino/DA-BT/main/code/dataset.py\"\n",
        "module_name = module_url.split('/')[-1]\n",
        "print(f'Fetching {module_url}')\n",
        "with request.urlopen(module_url) as f, open(module_name,'w') as outf:\n",
        "  a = f.read()\n",
        "  outf.write(a.decode('utf-8'))\n",
        "from dataset import Dataset\n",
        "\n",
        "# Import class Vectorizer\n",
        "module_url = f\"https://raw.githubusercontent.com/marco-siino/DA-BT/main/code/vectorizer.py\"\n",
        "module_name = module_url.split('/')[-1]\n",
        "print(f'Fetching {module_url}')\n",
        "with request.urlopen(module_url) as f, open(module_name,'w') as outf:\n",
        "  a = f.read()\n",
        "  outf.write(a.decode('utf-8'))\n",
        "from vectorizer import Vectorizer\n",
        "\n",
        "# Import class Simulator\n",
        "module_url = f\"https://raw.githubusercontent.com/marco-siino/DA-BT/main/code/simulator.py\"\n",
        "module_name = module_url.split('/')[-1]\n",
        "print(f'Fetching {module_url}')\n",
        "with request.urlopen(module_url) as f, open(module_name,'w') as outf:\n",
        "  a = f.read()\n",
        "  outf.write(a.decode('utf-8'))\n",
        "from simulator import Simulator"
      ]
    },
    {
      "cell_type": "markdown",
      "source": [
        "## Fetch the dataset zips from GitHub and build up a Keras DS."
      ],
      "metadata": {
        "id": "ponyShZZABtv"
      }
    },
    {
      "cell_type": "code",
      "source": [
        "# Parameters of Dataset object are name of the ds used and augmentation language used.\n",
        "ds = Dataset('hss','ja')\n",
        "ds.build_ds(1)"
      ],
      "metadata": {
        "colab": {
          "base_uri": "https://localhost:8080/"
        },
        "id": "AvKprkqkzBIm",
        "outputId": "e774f62e-166c-4e25-d04d-b09dea8fd5ab"
      },
      "execution_count": 7,
      "outputs": [
        {
          "output_type": "stream",
          "name": "stdout",
          "text": [
            "Downloading data from https://github.com/marco-siino/DA-BT/raw/main/data/hss/hss-train-ja.zip\n",
            "2054148/2054148 [==============================] - 21s 10us/step\n",
            "Downloading data from https://github.com/marco-siino/DA-BT/raw/main/data/hss/hss-test-ja.zip\n",
            "1088437/1088437 [==============================] - 1s 1us/step\n",
            "Found 200 files belonging to 2 classes.\n",
            "Found 100 files belonging to 2 classes.\n"
          ]
        }
      ]
    },
    {
      "cell_type": "markdown",
      "source": [
        "## Vectorize text accordingly to the train set."
      ],
      "metadata": {
        "id": "8Ga8vMTIANTh"
      }
    },
    {
      "cell_type": "code",
      "source": [
        "vct_layer_obj = Vectorizer(ds.train_set)"
      ],
      "metadata": {
        "colab": {
          "base_uri": "https://localhost:8080/"
        },
        "id": "6x-QXirtAAFU",
        "outputId": "32e26c9d-4658-4990-f72e-c30fa7acfdb3"
      },
      "execution_count": 8,
      "outputs": [
        {
          "output_type": "stream",
          "name": "stderr",
          "text": [
            "2023-04-04 11:41:28.749696: I tensorflow/core/grappler/optimizers/custom_graph_optimizer_registry.cc:114] Plugin optimizer for device_type GPU is enabled.\n"
          ]
        },
        {
          "output_type": "stream",
          "name": "stdout",
          "text": [
            "Length of the longest sample is: 8310\n"
          ]
        },
        {
          "output_type": "stream",
          "name": "stderr",
          "text": [
            "2023-04-04 11:41:56.518022: I tensorflow/core/grappler/optimizers/custom_graph_optimizer_registry.cc:114] Plugin optimizer for device_type GPU is enabled.\n"
          ]
        },
        {
          "output_type": "stream",
          "name": "stdout",
          "text": [
            "\n",
            "Vocabulary size is: 78454\n"
          ]
        }
      ]
    },
    {
      "cell_type": "markdown",
      "source": [
        "## Run the simulation."
      ],
      "metadata": {
        "id": "ztD88sknARIV"
      }
    },
    {
      "cell_type": "code",
      "source": [
        "simulator = Simulator (\"cnn\",5,20,ds.train_set,ds.test_set,vct_layer_obj.vectorize_layer)\n",
        "simulator.run()"
      ],
      "metadata": {
        "colab": {
          "base_uri": "https://localhost:8080/"
        },
        "id": "rGT_dzZb94eM",
        "outputId": "ebe89fc6-56f2-4c6f-b1dc-2f7637991a91"
      },
      "execution_count": 9,
      "outputs": [
        {
          "output_type": "stream",
          "name": "stdout",
          "text": [
            "\n",
            "Setup for shallow model completed.\n"
          ]
        },
        {
          "output_type": "stream",
          "name": "stderr",
          "text": [
            "2023-04-04 11:41:59.464738: I tensorflow/core/grappler/optimizers/custom_graph_optimizer_registry.cc:114] Plugin optimizer for device_type GPU is enabled.\n"
          ]
        },
        {
          "output_type": "stream",
          "name": "stdout",
          "text": [
            "200/200 [==============================] - ETA: 0s - loss: 0.7121 - binary_accuracy: 0.4450"
          ]
        },
        {
          "output_type": "stream",
          "name": "stderr",
          "text": [
            "2023-04-04 11:42:30.117002: I tensorflow/core/grappler/optimizers/custom_graph_optimizer_registry.cc:114] Plugin optimizer for device_type GPU is enabled.\n"
          ]
        },
        {
          "output_type": "stream",
          "name": "stdout",
          "text": [
            "200/200 [==============================] - 33s 156ms/step - loss: 0.7121 - binary_accuracy: 0.4450 - val_loss: 0.6930 - val_binary_accuracy: 0.5000\n",
            "Run:  1 / Accuracy on test set at epoch  0  is:  0.5 \n",
            "\n",
            "200/200 [==============================] - 14s 70ms/step - loss: 0.6767 - binary_accuracy: 0.5400 - val_loss: 0.6752 - val_binary_accuracy: 0.5600\n",
            "Run:  1 / Accuracy on test set at epoch  1  is:  0.5600000023841858 \n",
            "\n",
            "200/200 [==============================] - 13s 66ms/step - loss: 0.2731 - binary_accuracy: 0.8900 - val_loss: 0.7579 - val_binary_accuracy: 0.5600\n",
            "Run:  1 / Accuracy on test set at epoch  2  is:  0.5600000023841858 \n",
            "\n",
            "200/200 [==============================] - 13s 66ms/step - loss: 0.0185 - binary_accuracy: 0.9950 - val_loss: 0.9205 - val_binary_accuracy: 0.6300\n",
            "Run:  1 / Accuracy on test set at epoch  3  is:  0.6299999952316284 \n",
            "\n",
            "200/200 [==============================] - 13s 63ms/step - loss: 6.8026e-04 - binary_accuracy: 1.0000 - val_loss: 0.9981 - val_binary_accuracy: 0.5800\n",
            "Run:  1 / Accuracy on test set at epoch  4  is:  0.5799999833106995 \n",
            "\n",
            "200/200 [==============================] - 12s 62ms/step - loss: 1.1686e-05 - binary_accuracy: 1.0000 - val_loss: 1.0571 - val_binary_accuracy: 0.6100\n",
            "Run:  1 / Accuracy on test set at epoch  5  is:  0.6100000143051147 \n",
            "\n",
            "200/200 [==============================] - 12s 61ms/step - loss: 7.9903e-07 - binary_accuracy: 1.0000 - val_loss: 1.5535 - val_binary_accuracy: 0.5800\n",
            "Run:  1 / Accuracy on test set at epoch  6  is:  0.5799999833106995 \n",
            "\n",
            "200/200 [==============================] - 12s 60ms/step - loss: 3.3052e-09 - binary_accuracy: 1.0000 - val_loss: 1.1684 - val_binary_accuracy: 0.5900\n",
            "Run:  1 / Accuracy on test set at epoch  7  is:  0.5899999737739563 \n",
            "\n",
            "200/200 [==============================] - 12s 60ms/step - loss: 4.5446e-09 - binary_accuracy: 1.0000 - val_loss: 1.5571 - val_binary_accuracy: 0.5800\n",
            "Run:  1 / Accuracy on test set at epoch  8  is:  0.5799999833106995 \n",
            "\n",
            "200/200 [==============================] - 12s 61ms/step - loss: 0.0000e+00 - binary_accuracy: 1.0000 - val_loss: 0.8608 - val_binary_accuracy: 0.6400\n",
            "Run:  1 / Accuracy on test set at epoch  9  is:  0.6399999856948853 \n",
            "\n",
            "200/200 [==============================] - 12s 61ms/step - loss: 8.2630e-10 - binary_accuracy: 1.0000 - val_loss: 1.1541 - val_binary_accuracy: 0.5900\n",
            "Run:  1 / Accuracy on test set at epoch  10  is:  0.5899999737739563 \n",
            "\n",
            "200/200 [==============================] - 12s 60ms/step - loss: 0.0000e+00 - binary_accuracy: 1.0000 - val_loss: 0.8785 - val_binary_accuracy: 0.7000\n",
            "Run:  1 / Accuracy on test set at epoch  11  is:  0.699999988079071 \n",
            "\n",
            "200/200 [==============================] - 12s 59ms/step - loss: 0.0000e+00 - binary_accuracy: 1.0000 - val_loss: 0.9653 - val_binary_accuracy: 0.6900\n",
            "Run:  1 / Accuracy on test set at epoch  12  is:  0.6899999976158142 \n",
            "\n",
            "200/200 [==============================] - 12s 58ms/step - loss: 0.0000e+00 - binary_accuracy: 1.0000 - val_loss: 1.4814 - val_binary_accuracy: 0.5700\n",
            "Run:  1 / Accuracy on test set at epoch  13  is:  0.5699999928474426 \n",
            "\n",
            "200/200 [==============================] - 11s 57ms/step - loss: 0.0000e+00 - binary_accuracy: 1.0000 - val_loss: 1.0439 - val_binary_accuracy: 0.6300\n",
            "Run:  1 / Accuracy on test set at epoch  14  is:  0.6299999952316284 \n",
            "\n",
            "200/200 [==============================] - 12s 58ms/step - loss: 0.0000e+00 - binary_accuracy: 1.0000 - val_loss: 1.4807 - val_binary_accuracy: 0.5700\n",
            "Run:  1 / Accuracy on test set at epoch  15  is:  0.5699999928474426 \n",
            "\n",
            "200/200 [==============================] - 12s 58ms/step - loss: 0.0000e+00 - binary_accuracy: 1.0000 - val_loss: 0.9893 - val_binary_accuracy: 0.7000\n",
            "Run:  1 / Accuracy on test set at epoch  16  is:  0.699999988079071 \n",
            "\n",
            "200/200 [==============================] - 11s 57ms/step - loss: 0.0000e+00 - binary_accuracy: 1.0000 - val_loss: 1.3280 - val_binary_accuracy: 0.5800\n",
            "Run:  1 / Accuracy on test set at epoch  17  is:  0.5799999833106995 \n",
            "\n",
            "200/200 [==============================] - 11s 58ms/step - loss: 0.0000e+00 - binary_accuracy: 1.0000 - val_loss: 1.5521 - val_binary_accuracy: 0.5600\n",
            "Run:  1 / Accuracy on test set at epoch  18  is:  0.5600000023841858 \n",
            "\n",
            "200/200 [==============================] - 11s 57ms/step - loss: 0.0000e+00 - binary_accuracy: 1.0000 - val_loss: 1.6995 - val_binary_accuracy: 0.5700\n",
            "Run:  1 / Accuracy on test set at epoch  19  is:  0.5699999928474426 \n",
            "\n",
            "Accuracies over epochs: [0.5, 0.5600000023841858, 0.5600000023841858, 0.6299999952316284, 0.5799999833106995, 0.6100000143051147, 0.5799999833106995, 0.5899999737739563, 0.5799999833106995, 0.6399999856948853, 0.5899999737739563, 0.699999988079071, 0.6899999976158142, 0.5699999928474426, 0.6299999952316284, 0.5699999928474426, 0.699999988079071, 0.5799999833106995, 0.5600000023841858, 0.5699999928474426] \n",
            "\n"
          ]
        },
        {
          "output_type": "stream",
          "name": "stderr",
          "text": [
            "2023-04-04 11:46:23.189203: I tensorflow/core/grappler/optimizers/custom_graph_optimizer_registry.cc:114] Plugin optimizer for device_type GPU is enabled.\n"
          ]
        },
        {
          "output_type": "stream",
          "name": "stdout",
          "text": [
            "200/200 [==============================] - ETA: 0s - loss: 0.7154 - binary_accuracy: 0.4450"
          ]
        },
        {
          "output_type": "stream",
          "name": "stderr",
          "text": [
            "2023-04-04 11:46:48.917168: I tensorflow/core/grappler/optimizers/custom_graph_optimizer_registry.cc:114] Plugin optimizer for device_type GPU is enabled.\n"
          ]
        },
        {
          "output_type": "stream",
          "name": "stdout",
          "text": [
            "200/200 [==============================] - 29s 135ms/step - loss: 0.7154 - binary_accuracy: 0.4450 - val_loss: 0.6931 - val_binary_accuracy: 0.5000\n",
            "Run:  2 / Accuracy on test set at epoch  0  is:  0.5 \n",
            "\n",
            "200/200 [==============================] - 14s 70ms/step - loss: 0.6901 - binary_accuracy: 0.5250 - val_loss: 0.6794 - val_binary_accuracy: 0.5600\n",
            "Run:  2 / Accuracy on test set at epoch  1  is:  0.5600000023841858 \n",
            "\n",
            "200/200 [==============================] - 13s 65ms/step - loss: 0.3185 - binary_accuracy: 0.8700 - val_loss: 0.8008 - val_binary_accuracy: 0.5400\n",
            "Run:  2 / Accuracy on test set at epoch  2  is:  0.5399999618530273 \n",
            "\n",
            "200/200 [==============================] - 13s 64ms/step - loss: 0.0289 - binary_accuracy: 0.9950 - val_loss: 1.1290 - val_binary_accuracy: 0.5700\n",
            "Run:  2 / Accuracy on test set at epoch  3  is:  0.5699999928474426 \n",
            "\n",
            "200/200 [==============================] - 13s 63ms/step - loss: 7.0182e-04 - binary_accuracy: 1.0000 - val_loss: 1.1696 - val_binary_accuracy: 0.5600\n",
            "Run:  2 / Accuracy on test set at epoch  4  is:  0.5600000023841858 \n",
            "\n",
            "200/200 [==============================] - 12s 60ms/step - loss: 1.0758e-06 - binary_accuracy: 1.0000 - val_loss: 1.0073 - val_binary_accuracy: 0.6000\n",
            "Run:  2 / Accuracy on test set at epoch  5  is:  0.5999999642372131 \n",
            "\n",
            "200/200 [==============================] - 12s 60ms/step - loss: 5.8254e-08 - binary_accuracy: 1.0000 - val_loss: 1.6898 - val_binary_accuracy: 0.5400\n",
            "Run:  2 / Accuracy on test set at epoch  6  is:  0.5399999618530273 \n",
            "\n",
            "200/200 [==============================] - 12s 60ms/step - loss: 2.4789e-09 - binary_accuracy: 1.0000 - val_loss: 1.8100 - val_binary_accuracy: 0.5600\n",
            "Run:  2 / Accuracy on test set at epoch  7  is:  0.5600000023841858 \n",
            "\n",
            "200/200 [==============================] - 12s 59ms/step - loss: 0.0000e+00 - binary_accuracy: 1.0000 - val_loss: 1.6823 - val_binary_accuracy: 0.5800\n",
            "Run:  2 / Accuracy on test set at epoch  8  is:  0.5799999833106995 \n",
            "\n",
            "200/200 [==============================] - 12s 59ms/step - loss: 0.0000e+00 - binary_accuracy: 1.0000 - val_loss: 1.5522 - val_binary_accuracy: 0.5700\n",
            "Run:  2 / Accuracy on test set at epoch  9  is:  0.5699999928474426 \n",
            "\n",
            "200/200 [==============================] - 12s 59ms/step - loss: 0.0000e+00 - binary_accuracy: 1.0000 - val_loss: 1.3192 - val_binary_accuracy: 0.5700\n",
            "Run:  2 / Accuracy on test set at epoch  10  is:  0.5699999928474426 \n",
            "\n",
            "200/200 [==============================] - 12s 58ms/step - loss: 8.2630e-10 - binary_accuracy: 1.0000 - val_loss: 1.1444 - val_binary_accuracy: 0.6400\n",
            "Run:  2 / Accuracy on test set at epoch  11  is:  0.6399999856948853 \n",
            "\n",
            "200/200 [==============================] - 12s 59ms/step - loss: 4.5446e-09 - binary_accuracy: 1.0000 - val_loss: 1.1544 - val_binary_accuracy: 0.6800\n",
            "Run:  2 / Accuracy on test set at epoch  12  is:  0.6800000071525574 \n",
            "\n",
            "200/200 [==============================] - 12s 59ms/step - loss: 0.0000e+00 - binary_accuracy: 1.0000 - val_loss: 2.1754 - val_binary_accuracy: 0.5500\n",
            "Run:  2 / Accuracy on test set at epoch  13  is:  0.550000011920929 \n",
            "\n",
            "200/200 [==============================] - 12s 58ms/step - loss: 0.0000e+00 - binary_accuracy: 1.0000 - val_loss: 1.7024 - val_binary_accuracy: 0.5700\n",
            "Run:  2 / Accuracy on test set at epoch  14  is:  0.5699999928474426 \n",
            "\n",
            "200/200 [==============================] - 12s 58ms/step - loss: 0.0000e+00 - binary_accuracy: 1.0000 - val_loss: 2.2275 - val_binary_accuracy: 0.5400\n",
            "Run:  2 / Accuracy on test set at epoch  15  is:  0.5399999618530273 \n",
            "\n",
            "200/200 [==============================] - 12s 60ms/step - loss: 0.0000e+00 - binary_accuracy: 1.0000 - val_loss: 1.6602 - val_binary_accuracy: 0.5700\n",
            "Run:  2 / Accuracy on test set at epoch  16  is:  0.5699999928474426 \n",
            "\n",
            "200/200 [==============================] - 11s 57ms/step - loss: 0.0000e+00 - binary_accuracy: 1.0000 - val_loss: 2.1836 - val_binary_accuracy: 0.5500\n",
            "Run:  2 / Accuracy on test set at epoch  17  is:  0.550000011920929 \n",
            "\n",
            "200/200 [==============================] - 12s 60ms/step - loss: 0.0000e+00 - binary_accuracy: 1.0000 - val_loss: 2.4039 - val_binary_accuracy: 0.5200\n",
            "Run:  2 / Accuracy on test set at epoch  18  is:  0.5199999809265137 \n",
            "\n",
            "200/200 [==============================] - 12s 58ms/step - loss: 0.0000e+00 - binary_accuracy: 1.0000 - val_loss: 1.1903 - val_binary_accuracy: 0.6700\n",
            "Run:  2 / Accuracy on test set at epoch  19  is:  0.6699999570846558 \n",
            "\n",
            "Accuracies over epochs: [0.5, 0.5600000023841858, 0.5399999618530273, 0.5699999928474426, 0.5600000023841858, 0.5999999642372131, 0.5399999618530273, 0.5600000023841858, 0.5799999833106995, 0.5699999928474426, 0.5699999928474426, 0.6399999856948853, 0.6800000071525574, 0.550000011920929, 0.5699999928474426, 0.5399999618530273, 0.5699999928474426, 0.550000011920929, 0.5199999809265137, 0.6699999570846558] \n",
            "\n"
          ]
        },
        {
          "output_type": "stream",
          "name": "stderr",
          "text": [
            "2023-04-04 11:50:41.011258: I tensorflow/core/grappler/optimizers/custom_graph_optimizer_registry.cc:114] Plugin optimizer for device_type GPU is enabled.\n"
          ]
        },
        {
          "output_type": "stream",
          "name": "stdout",
          "text": [
            "200/200 [==============================] - ETA: 0s - loss: 0.7113 - binary_accuracy: 0.4400"
          ]
        },
        {
          "output_type": "stream",
          "name": "stderr",
          "text": [
            "2023-04-04 11:51:10.411950: I tensorflow/core/grappler/optimizers/custom_graph_optimizer_registry.cc:114] Plugin optimizer for device_type GPU is enabled.\n"
          ]
        },
        {
          "output_type": "stream",
          "name": "stdout",
          "text": [
            "200/200 [==============================] - 32s 153ms/step - loss: 0.7113 - binary_accuracy: 0.4400 - val_loss: 0.6931 - val_binary_accuracy: 0.5000\n",
            "Run:  3 / Accuracy on test set at epoch  0  is:  0.5 \n",
            "\n",
            "200/200 [==============================] - 14s 72ms/step - loss: 0.6757 - binary_accuracy: 0.5600 - val_loss: 0.6749 - val_binary_accuracy: 0.5400\n",
            "Run:  3 / Accuracy on test set at epoch  1  is:  0.5399999618530273 \n",
            "\n",
            "200/200 [==============================] - 14s 69ms/step - loss: 0.2420 - binary_accuracy: 0.9000 - val_loss: 0.6515 - val_binary_accuracy: 0.6400\n",
            "Run:  3 / Accuracy on test set at epoch  2  is:  0.6399999856948853 \n",
            "\n",
            "200/200 [==============================] - 14s 68ms/step - loss: 0.0096 - binary_accuracy: 0.9950 - val_loss: 0.8846 - val_binary_accuracy: 0.6700\n",
            "Run:  3 / Accuracy on test set at epoch  3  is:  0.6699999570846558 \n",
            "\n",
            "200/200 [==============================] - 14s 70ms/step - loss: 6.4873e-06 - binary_accuracy: 1.0000 - val_loss: 0.9031 - val_binary_accuracy: 0.6400\n",
            "Run:  3 / Accuracy on test set at epoch  4  is:  0.6399999856948853 \n",
            "\n",
            "200/200 [==============================] - 13s 67ms/step - loss: 4.2306e-07 - binary_accuracy: 1.0000 - val_loss: 0.8383 - val_binary_accuracy: 0.6400\n",
            "Run:  3 / Accuracy on test set at epoch  5  is:  0.6399999856948853 \n",
            "\n",
            "200/200 [==============================] - 13s 66ms/step - loss: 2.4789e-09 - binary_accuracy: 1.0000 - val_loss: 1.1677 - val_binary_accuracy: 0.6500\n",
            "Run:  3 / Accuracy on test set at epoch  6  is:  0.6499999761581421 \n",
            "\n",
            "200/200 [==============================] - 13s 64ms/step - loss: 3.7183e-09 - binary_accuracy: 1.0000 - val_loss: 2.6470 - val_binary_accuracy: 0.5300\n",
            "Run:  3 / Accuracy on test set at epoch  7  is:  0.5299999713897705 \n",
            "\n",
            "200/200 [==============================] - 13s 63ms/step - loss: 2.0657e-09 - binary_accuracy: 1.0000 - val_loss: 1.9175 - val_binary_accuracy: 0.5900\n",
            "Run:  3 / Accuracy on test set at epoch  8  is:  0.5899999737739563 \n",
            "\n",
            "200/200 [==============================] - 13s 63ms/step - loss: 0.0000e+00 - binary_accuracy: 1.0000 - val_loss: 1.2128 - val_binary_accuracy: 0.6900\n",
            "Run:  3 / Accuracy on test set at epoch  9  is:  0.6899999976158142 \n",
            "\n",
            "200/200 [==============================] - 12s 62ms/step - loss: 0.0000e+00 - binary_accuracy: 1.0000 - val_loss: 1.0380 - val_binary_accuracy: 0.6100\n",
            "Run:  3 / Accuracy on test set at epoch  10  is:  0.6100000143051147 \n",
            "\n",
            "200/200 [==============================] - 12s 61ms/step - loss: 0.0000e+00 - binary_accuracy: 1.0000 - val_loss: 0.9185 - val_binary_accuracy: 0.6200\n",
            "Run:  3 / Accuracy on test set at epoch  11  is:  0.6200000047683716 \n",
            "\n",
            "200/200 [==============================] - 12s 62ms/step - loss: 0.0000e+00 - binary_accuracy: 1.0000 - val_loss: 0.9104 - val_binary_accuracy: 0.6200\n",
            "Run:  3 / Accuracy on test set at epoch  12  is:  0.6200000047683716 \n",
            "\n",
            "200/200 [==============================] - 12s 60ms/step - loss: 0.0000e+00 - binary_accuracy: 1.0000 - val_loss: 1.0312 - val_binary_accuracy: 0.6200\n",
            "Run:  3 / Accuracy on test set at epoch  13  is:  0.6200000047683716 \n",
            "\n",
            "200/200 [==============================] - 12s 60ms/step - loss: 0.0000e+00 - binary_accuracy: 1.0000 - val_loss: 0.8782 - val_binary_accuracy: 0.6300\n",
            "Run:  3 / Accuracy on test set at epoch  14  is:  0.6299999952316284 \n",
            "\n",
            "200/200 [==============================] - 12s 60ms/step - loss: 0.0000e+00 - binary_accuracy: 1.0000 - val_loss: 0.9916 - val_binary_accuracy: 0.6200\n",
            "Run:  3 / Accuracy on test set at epoch  15  is:  0.6200000047683716 \n",
            "\n",
            "200/200 [==============================] - 12s 60ms/step - loss: 0.0000e+00 - binary_accuracy: 1.0000 - val_loss: 1.0832 - val_binary_accuracy: 0.6000\n",
            "Run:  3 / Accuracy on test set at epoch  16  is:  0.5999999642372131 \n",
            "\n",
            "200/200 [==============================] - 12s 60ms/step - loss: 0.0000e+00 - binary_accuracy: 1.0000 - val_loss: 0.8888 - val_binary_accuracy: 0.6500\n",
            "Run:  3 / Accuracy on test set at epoch  17  is:  0.6499999761581421 \n",
            "\n",
            "200/200 [==============================] - 12s 59ms/step - loss: 0.0000e+00 - binary_accuracy: 1.0000 - val_loss: 0.9749 - val_binary_accuracy: 0.6100\n",
            "Run:  3 / Accuracy on test set at epoch  18  is:  0.6100000143051147 \n",
            "\n",
            "200/200 [==============================] - 12s 62ms/step - loss: 0.0000e+00 - binary_accuracy: 1.0000 - val_loss: 1.0522 - val_binary_accuracy: 0.5800\n",
            "Run:  3 / Accuracy on test set at epoch  19  is:  0.5799999833106995 \n",
            "\n",
            "Accuracies over epochs: [0.5, 0.5399999618530273, 0.6399999856948853, 0.6699999570846558, 0.6399999856948853, 0.6399999856948853, 0.6499999761581421, 0.5299999713897705, 0.5899999737739563, 0.6899999976158142, 0.6100000143051147, 0.6200000047683716, 0.6200000047683716, 0.6200000047683716, 0.6299999952316284, 0.6200000047683716, 0.5999999642372131, 0.6499999761581421, 0.6100000143051147, 0.5799999833106995] \n",
            "\n"
          ]
        },
        {
          "output_type": "stream",
          "name": "stderr",
          "text": [
            "2023-04-04 11:55:15.461483: I tensorflow/core/grappler/optimizers/custom_graph_optimizer_registry.cc:114] Plugin optimizer for device_type GPU is enabled.\n"
          ]
        },
        {
          "output_type": "stream",
          "name": "stdout",
          "text": [
            "200/200 [==============================] - ETA: 0s - loss: 0.7113 - binary_accuracy: 0.4350"
          ]
        },
        {
          "output_type": "stream",
          "name": "stderr",
          "text": [
            "2023-04-04 11:55:54.692847: I tensorflow/core/grappler/optimizers/custom_graph_optimizer_registry.cc:114] Plugin optimizer for device_type GPU is enabled.\n"
          ]
        },
        {
          "output_type": "stream",
          "name": "stdout",
          "text": [
            "200/200 [==============================] - 42s 198ms/step - loss: 0.7113 - binary_accuracy: 0.4350 - val_loss: 0.6930 - val_binary_accuracy: 0.5800\n",
            "Run:  4 / Accuracy on test set at epoch  0  is:  0.5799999833106995 \n",
            "\n",
            "200/200 [==============================] - 16s 81ms/step - loss: 0.6761 - binary_accuracy: 0.5700 - val_loss: 0.6741 - val_binary_accuracy: 0.5800\n",
            "Run:  4 / Accuracy on test set at epoch  1  is:  0.5799999833106995 \n",
            "\n",
            "200/200 [==============================] - 15s 77ms/step - loss: 0.2430 - binary_accuracy: 0.9000 - val_loss: 0.8447 - val_binary_accuracy: 0.5600\n",
            "Run:  4 / Accuracy on test set at epoch  2  is:  0.5600000023841858 \n",
            "\n",
            "200/200 [==============================] - 15s 76ms/step - loss: 0.0020 - binary_accuracy: 1.0000 - val_loss: 0.7838 - val_binary_accuracy: 0.5700\n",
            "Run:  4 / Accuracy on test set at epoch  3  is:  0.5699999928474426 \n",
            "\n",
            "200/200 [==============================] - 14s 68ms/step - loss: 3.4874e-06 - binary_accuracy: 1.0000 - val_loss: 0.7803 - val_binary_accuracy: 0.7200\n",
            "Run:  4 / Accuracy on test set at epoch  4  is:  0.7199999690055847 \n",
            "\n",
            "200/200 [==============================] - 14s 70ms/step - loss: 8.2216e-08 - binary_accuracy: 1.0000 - val_loss: 1.1203 - val_binary_accuracy: 0.7000\n",
            "Run:  4 / Accuracy on test set at epoch  5  is:  0.699999988079071 \n",
            "\n",
            "200/200 [==============================] - 14s 70ms/step - loss: 5.0817e-08 - binary_accuracy: 1.0000 - val_loss: 0.9427 - val_binary_accuracy: 0.6400\n",
            "Run:  4 / Accuracy on test set at epoch  6  is:  0.6399999856948853 \n",
            "\n",
            "200/200 [==============================] - 13s 67ms/step - loss: 0.0000e+00 - binary_accuracy: 1.0000 - val_loss: 0.9808 - val_binary_accuracy: 0.6200\n",
            "Run:  4 / Accuracy on test set at epoch  7  is:  0.6200000047683716 \n",
            "\n",
            "200/200 [==============================] - 13s 66ms/step - loss: 8.2630e-10 - binary_accuracy: 1.0000 - val_loss: 0.9057 - val_binary_accuracy: 0.6300\n",
            "Run:  4 / Accuracy on test set at epoch  8  is:  0.6299999952316284 \n",
            "\n",
            "200/200 [==============================] - 14s 67ms/step - loss: 8.2630e-10 - binary_accuracy: 1.0000 - val_loss: 0.8678 - val_binary_accuracy: 0.5900\n",
            "Run:  4 / Accuracy on test set at epoch  9  is:  0.5899999737739563 \n",
            "\n",
            "200/200 [==============================] - 14s 72ms/step - loss: 0.0000e+00 - binary_accuracy: 1.0000 - val_loss: 0.9122 - val_binary_accuracy: 0.6200\n",
            "Run:  4 / Accuracy on test set at epoch  10  is:  0.6200000047683716 \n",
            "\n",
            "200/200 [==============================] - 15s 75ms/step - loss: 1.2394e-09 - binary_accuracy: 1.0000 - val_loss: 1.2511 - val_binary_accuracy: 0.6400\n",
            "Run:  4 / Accuracy on test set at epoch  11  is:  0.6399999856948853 \n",
            "\n",
            "200/200 [==============================] - 13s 65ms/step - loss: 0.0000e+00 - binary_accuracy: 1.0000 - val_loss: 0.9532 - val_binary_accuracy: 0.6300\n",
            "Run:  4 / Accuracy on test set at epoch  12  is:  0.6299999952316284 \n",
            "\n",
            "200/200 [==============================] - 13s 63ms/step - loss: 0.0000e+00 - binary_accuracy: 1.0000 - val_loss: 1.6600 - val_binary_accuracy: 0.5500\n",
            "Run:  4 / Accuracy on test set at epoch  13  is:  0.550000011920929 \n",
            "\n",
            "200/200 [==============================] - 13s 63ms/step - loss: 0.0000e+00 - binary_accuracy: 1.0000 - val_loss: 0.9210 - val_binary_accuracy: 0.6400\n",
            "Run:  4 / Accuracy on test set at epoch  14  is:  0.6399999856948853 \n",
            "\n",
            "200/200 [==============================] - 12s 61ms/step - loss: 0.0000e+00 - binary_accuracy: 1.0000 - val_loss: 1.7126 - val_binary_accuracy: 0.5700\n",
            "Run:  4 / Accuracy on test set at epoch  15  is:  0.5699999928474426 \n",
            "\n",
            "200/200 [==============================] - 12s 62ms/step - loss: 0.0000e+00 - binary_accuracy: 1.0000 - val_loss: 0.9383 - val_binary_accuracy: 0.6400\n",
            "Run:  4 / Accuracy on test set at epoch  16  is:  0.6399999856948853 \n",
            "\n",
            "200/200 [==============================] - 12s 61ms/step - loss: 0.0000e+00 - binary_accuracy: 1.0000 - val_loss: 1.6399 - val_binary_accuracy: 0.5500\n",
            "Run:  4 / Accuracy on test set at epoch  17  is:  0.550000011920929 \n",
            "\n",
            "200/200 [==============================] - 13s 63ms/step - loss: 0.0000e+00 - binary_accuracy: 1.0000 - val_loss: 1.8819 - val_binary_accuracy: 0.5500\n",
            "Run:  4 / Accuracy on test set at epoch  18  is:  0.550000011920929 \n",
            "\n",
            "200/200 [==============================] - 12s 60ms/step - loss: 0.0000e+00 - binary_accuracy: 1.0000 - val_loss: 0.9803 - val_binary_accuracy: 0.6400\n",
            "Run:  4 / Accuracy on test set at epoch  19  is:  0.6399999856948853 \n",
            "\n",
            "Accuracies over epochs: [0.5799999833106995, 0.5799999833106995, 0.5600000023841858, 0.5699999928474426, 0.7199999690055847, 0.699999988079071, 0.6399999856948853, 0.6200000047683716, 0.6299999952316284, 0.5899999737739563, 0.6200000047683716, 0.6399999856948853, 0.6299999952316284, 0.550000011920929, 0.6399999856948853, 0.5699999928474426, 0.6399999856948853, 0.550000011920929, 0.550000011920929, 0.6399999856948853] \n",
            "\n"
          ]
        },
        {
          "output_type": "stream",
          "name": "stderr",
          "text": [
            "2023-04-04 12:00:15.567283: I tensorflow/core/grappler/optimizers/custom_graph_optimizer_registry.cc:114] Plugin optimizer for device_type GPU is enabled.\n"
          ]
        },
        {
          "output_type": "stream",
          "name": "stdout",
          "text": [
            "200/200 [==============================] - ETA: 0s - loss: 0.7157 - binary_accuracy: 0.4450"
          ]
        },
        {
          "output_type": "stream",
          "name": "stderr",
          "text": [
            "2023-04-04 12:01:03.470253: I tensorflow/core/grappler/optimizers/custom_graph_optimizer_registry.cc:114] Plugin optimizer for device_type GPU is enabled.\n"
          ]
        },
        {
          "output_type": "stream",
          "name": "stdout",
          "text": [
            "200/200 [==============================] - 52s 245ms/step - loss: 0.7157 - binary_accuracy: 0.4450 - val_loss: 0.6925 - val_binary_accuracy: 0.5700\n",
            "Run:  5 / Accuracy on test set at epoch  0  is:  0.5699999928474426 \n",
            "\n",
            "200/200 [==============================] - 19s 96ms/step - loss: 0.6412 - binary_accuracy: 0.6450 - val_loss: 0.7235 - val_binary_accuracy: 0.5300\n",
            "Run:  5 / Accuracy on test set at epoch  1  is:  0.5299999713897705 \n",
            "\n",
            "200/200 [==============================] - 16s 81ms/step - loss: 0.1803 - binary_accuracy: 0.9300 - val_loss: 1.2472 - val_binary_accuracy: 0.5300\n",
            "Run:  5 / Accuracy on test set at epoch  2  is:  0.5299999713897705 \n",
            "\n",
            "200/200 [==============================] - 15s 77ms/step - loss: 0.0013 - binary_accuracy: 1.0000 - val_loss: 0.7634 - val_binary_accuracy: 0.6100\n",
            "Run:  5 / Accuracy on test set at epoch  3  is:  0.6100000143051147 \n",
            "\n",
            "200/200 [==============================] - 16s 78ms/step - loss: 1.0603e-05 - binary_accuracy: 1.0000 - val_loss: 1.3755 - val_binary_accuracy: 0.5500\n",
            "Run:  5 / Accuracy on test set at epoch  4  is:  0.550000011920929 \n",
            "\n",
            "200/200 [==============================] - 15s 76ms/step - loss: 1.3047e-06 - binary_accuracy: 1.0000 - val_loss: 0.9343 - val_binary_accuracy: 0.6100\n",
            "Run:  5 / Accuracy on test set at epoch  5  is:  0.6100000143051147 \n",
            "\n",
            "200/200 [==============================] - 15s 73ms/step - loss: 4.5446e-09 - binary_accuracy: 1.0000 - val_loss: 0.8656 - val_binary_accuracy: 0.6900\n",
            "Run:  5 / Accuracy on test set at epoch  6  is:  0.6899999976158142 \n",
            "\n",
            "200/200 [==============================] - 14s 72ms/step - loss: 5.3709e-09 - binary_accuracy: 1.0000 - val_loss: 0.9770 - val_binary_accuracy: 0.6800\n",
            "Run:  5 / Accuracy on test set at epoch  7  is:  0.6800000071525574 \n",
            "\n",
            "200/200 [==============================] - 14s 71ms/step - loss: 8.2630e-10 - binary_accuracy: 1.0000 - val_loss: 0.9315 - val_binary_accuracy: 0.7100\n",
            "Run:  5 / Accuracy on test set at epoch  8  is:  0.7099999785423279 \n",
            "\n",
            "200/200 [==============================] - 13s 67ms/step - loss: 0.0000e+00 - binary_accuracy: 1.0000 - val_loss: 0.9104 - val_binary_accuracy: 0.6200\n",
            "Run:  5 / Accuracy on test set at epoch  9  is:  0.6200000047683716 \n",
            "\n",
            "200/200 [==============================] - 13s 64ms/step - loss: 8.2630e-10 - binary_accuracy: 1.0000 - val_loss: 0.8911 - val_binary_accuracy: 0.6200\n",
            "Run:  5 / Accuracy on test set at epoch  10  is:  0.6200000047683716 \n",
            "\n",
            "200/200 [==============================] - 13s 66ms/step - loss: 0.0000e+00 - binary_accuracy: 1.0000 - val_loss: 0.8736 - val_binary_accuracy: 0.6200\n",
            "Run:  5 / Accuracy on test set at epoch  11  is:  0.6200000047683716 \n",
            "\n",
            "200/200 [==============================] - 13s 63ms/step - loss: 8.2630e-10 - binary_accuracy: 1.0000 - val_loss: 0.9100 - val_binary_accuracy: 0.7100\n",
            "Run:  5 / Accuracy on test set at epoch  12  is:  0.7099999785423279 \n",
            "\n",
            "200/200 [==============================] - 13s 63ms/step - loss: 1.2394e-09 - binary_accuracy: 1.0000 - val_loss: 1.1152 - val_binary_accuracy: 0.6700\n",
            "Run:  5 / Accuracy on test set at epoch  13  is:  0.6699999570846558 \n",
            "\n",
            "200/200 [==============================] - 12s 62ms/step - loss: 0.0000e+00 - binary_accuracy: 1.0000 - val_loss: 0.9167 - val_binary_accuracy: 0.6400\n",
            "Run:  5 / Accuracy on test set at epoch  14  is:  0.6399999856948853 \n",
            "\n",
            "200/200 [==============================] - 12s 62ms/step - loss: 0.0000e+00 - binary_accuracy: 1.0000 - val_loss: 1.6637 - val_binary_accuracy: 0.5800\n",
            "Run:  5 / Accuracy on test set at epoch  15  is:  0.5799999833106995 \n",
            "\n",
            "200/200 [==============================] - 12s 61ms/step - loss: 0.0000e+00 - binary_accuracy: 1.0000 - val_loss: 0.9387 - val_binary_accuracy: 0.6500\n",
            "Run:  5 / Accuracy on test set at epoch  16  is:  0.6499999761581421 \n",
            "\n",
            "200/200 [==============================] - 12s 61ms/step - loss: 0.0000e+00 - binary_accuracy: 1.0000 - val_loss: 1.6722 - val_binary_accuracy: 0.5800\n",
            "Run:  5 / Accuracy on test set at epoch  17  is:  0.5799999833106995 \n",
            "\n",
            "200/200 [==============================] - 12s 61ms/step - loss: 0.0000e+00 - binary_accuracy: 1.0000 - val_loss: 0.9715 - val_binary_accuracy: 0.6700\n",
            "Run:  5 / Accuracy on test set at epoch  18  is:  0.6699999570846558 \n",
            "\n",
            "200/200 [==============================] - 12s 60ms/step - loss: 0.0000e+00 - binary_accuracy: 1.0000 - val_loss: 1.6143 - val_binary_accuracy: 0.5700\n",
            "Run:  5 / Accuracy on test set at epoch  19  is:  0.5699999928474426 \n",
            "\n",
            "Accuracies over epochs: [0.5699999928474426, 0.5299999713897705, 0.5299999713897705, 0.6100000143051147, 0.550000011920929, 0.6100000143051147, 0.6899999976158142, 0.6800000071525574, 0.7099999785423279, 0.6200000047683716, 0.6200000047683716, 0.6200000047683716, 0.7099999785423279, 0.6699999570846558, 0.6399999856948853, 0.5799999833106995, 0.6499999761581421, 0.5799999833106995, 0.6699999570846558, 0.5699999928474426] \n",
            "\n",
            "\n",
            "\n",
            " Over all runs maximum accuracies on test set are: [0.6800000071525574, 0.6899999976158142, 0.699999988079071, 0.7099999785423279, 0.7199999690055847]\n",
            "The median is: 0.699999988079071 \n",
            "\n",
            "\n",
            "\n",
            "CNN Accuracy Score on test set ->  0.699999988079071 +/- 0.019999980926513672\n"
          ]
        }
      ]
    }
  ],
  "metadata": {
    "accelerator": "GPU",
    "colab": {
      "provenance": [],
      "include_colab_link": true
    },
    "kernelspec": {
      "display_name": "Python 3",
      "name": "python3"
    },
    "gpuClass": "standard"
  },
  "nbformat": 4,
  "nbformat_minor": 0
}