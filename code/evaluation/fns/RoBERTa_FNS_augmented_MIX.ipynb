{
  "cells": [
    {
      "cell_type": "markdown",
      "metadata": {
        "id": "view-in-github",
        "colab_type": "text"
      },
      "source": [
        "<a href=\"https://colab.research.google.com/github/marco-siino/DA-BT/blob/main/code/evaluation/fns/RoBERTa_FNS_augmented_MIX.ipynb\" target=\"_parent\"><img src=\"https://colab.research.google.com/assets/colab-badge.svg\" alt=\"Open In Colab\"/></a>"
      ]
    },
    {
      "cell_type": "markdown",
      "metadata": {
        "id": "u-hLo5ufkCT1"
      },
      "source": [
        "## Investigating text data augmentation using back translation for author profiling\n",
        "- - - \n",
        "RoBERTa ON FNS DS EXPERIMENTS NOTEBOOK \n",
        "- - -\n",
        "RoBERTa on Fake News Spreaders Dataset augmented with backtranslation.\n",
        "Code by M. Siino. \n",
        "\n",
        "From the paper: \"Investigating text data augmentation using back translation for author profiling\" by M.Siino et al.\n",
        "\n"
      ]
    },
    {
      "cell_type": "markdown",
      "metadata": {
        "id": "6IBqUcj4cx2G"
      },
      "source": [
        "## Importing modules."
      ]
    },
    {
      "cell_type": "code",
      "execution_count": null,
      "metadata": {
        "id": "AQSunQ-ucjLX",
        "colab": {
          "base_uri": "https://localhost:8080/"
        },
        "outputId": "6aec00af-57b2-47a5-aa08-9df44dbd67c5"
      },
      "outputs": [
        {
          "output_type": "stream",
          "name": "stdout",
          "text": [
            "Requirement already satisfied: simpletransformers in c:\\users\\domenico\\.conda\\envs\\tf\\lib\\site-packages (0.63.9)\n",
            "Requirement already satisfied: regex in c:\\users\\domenico\\.conda\\envs\\tf\\lib\\site-packages (from simpletransformers) (2022.7.25)\n",
            "Requirement already satisfied: transformers>=4.6.0 in c:\\users\\domenico\\.conda\\envs\\tf\\lib\\site-packages (from simpletransformers) (4.22.1)\n",
            "Requirement already satisfied: scipy in c:\\users\\domenico\\.conda\\envs\\tf\\lib\\site-packages (from simpletransformers) (1.9.0)\n",
            "Requirement already satisfied: sentencepiece in c:\\users\\domenico\\.conda\\envs\\tf\\lib\\site-packages (from simpletransformers) (0.1.97)\n",
            "Requirement already satisfied: tensorboard in c:\\users\\domenico\\.conda\\envs\\tf\\lib\\site-packages (from simpletransformers) (2.9.1)\n",
            "Requirement already satisfied: wandb>=0.10.32 in c:\\users\\domenico\\.conda\\envs\\tf\\lib\\site-packages (from simpletransformers) (0.13.3)\n",
            "Requirement already satisfied: tokenizers in c:\\users\\domenico\\.conda\\envs\\tf\\lib\\site-packages (from simpletransformers) (0.12.1)\n",
            "Requirement already satisfied: seqeval in c:\\users\\domenico\\.conda\\envs\\tf\\lib\\site-packages (from simpletransformers) (1.2.2)\n",
            "Requirement already satisfied: requests in c:\\users\\domenico\\.conda\\envs\\tf\\lib\\site-packages (from simpletransformers) (2.28.1)\n",
            "Requirement already satisfied: datasets in c:\\users\\domenico\\.conda\\envs\\tf\\lib\\site-packages (from simpletransformers) (2.4.0)\n",
            "Requirement already satisfied: streamlit in c:\\users\\domenico\\.conda\\envs\\tf\\lib\\site-packages (from simpletransformers) (1.12.2)\n",
            "Requirement already satisfied: tqdm>=4.47.0 in c:\\users\\domenico\\.conda\\envs\\tf\\lib\\site-packages (from simpletransformers) (4.64.0)\n",
            "Requirement already satisfied: pandas in c:\\users\\domenico\\.conda\\envs\\tf\\lib\\site-packages (from simpletransformers) (1.4.3)\n",
            "Requirement already satisfied: scikit-learn in c:\\users\\domenico\\.conda\\envs\\tf\\lib\\site-packages (from simpletransformers) (1.1.1)\n",
            "Requirement already satisfied: numpy in c:\\users\\domenico\\appdata\\roaming\\python\\python39\\site-packages (from simpletransformers) (1.22.4)\n",
            "Requirement already satisfied: colorama in c:\\users\\domenico\\.conda\\envs\\tf\\lib\\site-packages (from tqdm>=4.47.0->simpletransformers) (0.4.5)\n",
            "Requirement already satisfied: filelock in c:\\users\\domenico\\.conda\\envs\\tf\\lib\\site-packages (from transformers>=4.6.0->simpletransformers) (3.8.0)\n",
            "Requirement already satisfied: pyyaml>=5.1 in c:\\users\\domenico\\.conda\\envs\\tf\\lib\\site-packages (from transformers>=4.6.0->simpletransformers) (6.0)\n",
            "Requirement already satisfied: huggingface-hub<1.0,>=0.9.0 in c:\\users\\domenico\\.conda\\envs\\tf\\lib\\site-packages (from transformers>=4.6.0->simpletransformers) (0.9.1)\n",
            "Requirement already satisfied: packaging>=20.0 in c:\\users\\domenico\\.conda\\envs\\tf\\lib\\site-packages (from transformers>=4.6.0->simpletransformers) (21.3)\n",
            "Requirement already satisfied: protobuf<4.0dev,>=3.12.0 in c:\\users\\domenico\\.conda\\envs\\tf\\lib\\site-packages (from wandb>=0.10.32->simpletransformers) (3.19.4)\n",
            "Requirement already satisfied: psutil>=5.0.0 in c:\\users\\domenico\\.conda\\envs\\tf\\lib\\site-packages (from wandb>=0.10.32->simpletransformers) (5.9.1)\n",
            "Requirement already satisfied: shortuuid>=0.5.0 in c:\\users\\domenico\\.conda\\envs\\tf\\lib\\site-packages (from wandb>=0.10.32->simpletransformers) (1.0.9)\n",
            "Requirement already satisfied: GitPython>=1.0.0 in c:\\users\\domenico\\.conda\\envs\\tf\\lib\\site-packages (from wandb>=0.10.32->simpletransformers) (3.1.27)\n",
            "Requirement already satisfied: sentry-sdk>=1.0.0 in c:\\users\\domenico\\.conda\\envs\\tf\\lib\\site-packages (from wandb>=0.10.32->simpletransformers) (1.9.8)\n",
            "Requirement already satisfied: setproctitle in c:\\users\\domenico\\.conda\\envs\\tf\\lib\\site-packages (from wandb>=0.10.32->simpletransformers) (1.3.2)\n",
            "Requirement already satisfied: setuptools in c:\\users\\domenico\\.conda\\envs\\tf\\lib\\site-packages (from wandb>=0.10.32->simpletransformers) (63.4.1)\n",
            "Requirement already satisfied: promise<3,>=2.0 in c:\\users\\domenico\\.conda\\envs\\tf\\lib\\site-packages (from wandb>=0.10.32->simpletransformers) (2.3)\n",
            "Requirement already satisfied: Click!=8.0.0,>=7.0 in c:\\users\\domenico\\.conda\\envs\\tf\\lib\\site-packages (from wandb>=0.10.32->simpletransformers) (8.1.3)\n",
            "Requirement already satisfied: six>=1.13.0 in c:\\users\\domenico\\.conda\\envs\\tf\\lib\\site-packages (from wandb>=0.10.32->simpletransformers) (1.16.0)\n",
            "Requirement already satisfied: pathtools in c:\\users\\domenico\\.conda\\envs\\tf\\lib\\site-packages (from wandb>=0.10.32->simpletransformers) (0.1.2)\n",
            "Requirement already satisfied: docker-pycreds>=0.4.0 in c:\\users\\domenico\\.conda\\envs\\tf\\lib\\site-packages (from wandb>=0.10.32->simpletransformers) (0.4.0)\n",
            "Requirement already satisfied: urllib3<1.27,>=1.21.1 in c:\\users\\domenico\\.conda\\envs\\tf\\lib\\site-packages (from requests->simpletransformers) (1.26.11)\n",
            "Requirement already satisfied: charset-normalizer<3,>=2 in c:\\users\\domenico\\.conda\\envs\\tf\\lib\\site-packages (from requests->simpletransformers) (2.1.0)\n",
            "Requirement already satisfied: idna<4,>=2.5 in c:\\users\\domenico\\.conda\\envs\\tf\\lib\\site-packages (from requests->simpletransformers) (3.3)\n",
            "Requirement already satisfied: certifi>=2017.4.17 in c:\\users\\domenico\\.conda\\envs\\tf\\lib\\site-packages (from requests->simpletransformers) (2022.9.14)\n",
            "Requirement already satisfied: xxhash in c:\\users\\domenico\\.conda\\envs\\tf\\lib\\site-packages (from datasets->simpletransformers) (3.0.0)\n",
            "Requirement already satisfied: responses<0.19 in c:\\users\\domenico\\.conda\\envs\\tf\\lib\\site-packages (from datasets->simpletransformers) (0.18.0)\n",
            "Requirement already satisfied: aiohttp in c:\\users\\domenico\\.conda\\envs\\tf\\lib\\site-packages (from datasets->simpletransformers) (3.8.1)\n",
            "Requirement already satisfied: dill<0.3.6 in c:\\users\\domenico\\.conda\\envs\\tf\\lib\\site-packages (from datasets->simpletransformers) (0.3.5.1)\n",
            "Requirement already satisfied: fsspec[http]>=2021.11.1 in c:\\users\\domenico\\.conda\\envs\\tf\\lib\\site-packages (from datasets->simpletransformers) (2022.8.2)\n",
            "Requirement already satisfied: pyarrow>=6.0.0 in c:\\users\\domenico\\.conda\\envs\\tf\\lib\\site-packages (from datasets->simpletransformers) (9.0.0)\n",
            "Requirement already satisfied: multiprocess in c:\\users\\domenico\\.conda\\envs\\tf\\lib\\site-packages (from datasets->simpletransformers) (0.70.13)\n",
            "Requirement already satisfied: pytz>=2020.1 in c:\\users\\domenico\\.conda\\envs\\tf\\lib\\site-packages (from pandas->simpletransformers) (2022.1)\n",
            "Requirement already satisfied: python-dateutil>=2.8.1 in c:\\users\\domenico\\.conda\\envs\\tf\\lib\\site-packages (from pandas->simpletransformers) (2.8.2)\n",
            "Requirement already satisfied: joblib>=1.0.0 in c:\\users\\domenico\\.conda\\envs\\tf\\lib\\site-packages (from scikit-learn->simpletransformers) (1.1.0)\n",
            "Requirement already satisfied: threadpoolctl>=2.0.0 in c:\\users\\domenico\\.conda\\envs\\tf\\lib\\site-packages (from scikit-learn->simpletransformers) (3.1.0)\n",
            "Requirement already satisfied: cachetools>=4.0 in c:\\users\\domenico\\.conda\\envs\\tf\\lib\\site-packages (from streamlit->simpletransformers) (5.2.0)\n",
            "Requirement already satisfied: pillow>=6.2.0 in c:\\users\\domenico\\.conda\\envs\\tf\\lib\\site-packages (from streamlit->simpletransformers) (9.2.0)\n",
            "Requirement already satisfied: rich>=10.11.0 in c:\\users\\domenico\\.conda\\envs\\tf\\lib\\site-packages (from streamlit->simpletransformers) (12.5.1)\n",
            "Requirement already satisfied: tornado>=5.0 in c:\\users\\domenico\\.conda\\envs\\tf\\lib\\site-packages (from streamlit->simpletransformers) (6.2)\n",
            "Requirement already satisfied: semver in c:\\users\\domenico\\.conda\\envs\\tf\\lib\\site-packages (from streamlit->simpletransformers) (2.13.0)\n",
            "Requirement already satisfied: pydeck>=0.1.dev5 in c:\\users\\domenico\\.conda\\envs\\tf\\lib\\site-packages (from streamlit->simpletransformers) (0.8.0b3)\n",
            "Requirement already satisfied: tzlocal>=1.1 in c:\\users\\domenico\\.conda\\envs\\tf\\lib\\site-packages (from streamlit->simpletransformers) (4.2)\n",
            "Requirement already satisfied: altair>=3.2.0 in c:\\users\\domenico\\.conda\\envs\\tf\\lib\\site-packages (from streamlit->simpletransformers) (4.2.0)\n",
            "Requirement already satisfied: blinker>=1.0.0 in c:\\users\\domenico\\.conda\\envs\\tf\\lib\\site-packages (from streamlit->simpletransformers) (1.5)\n",
            "Requirement already satisfied: pympler>=0.9 in c:\\users\\domenico\\.conda\\envs\\tf\\lib\\site-packages (from streamlit->simpletransformers) (1.0.1)\n",
            "Requirement already satisfied: toml in c:\\users\\domenico\\.conda\\envs\\tf\\lib\\site-packages (from streamlit->simpletransformers) (0.10.2)\n",
            "Requirement already satisfied: importlib-metadata>=1.4 in c:\\users\\domenico\\.conda\\envs\\tf\\lib\\site-packages (from streamlit->simpletransformers) (4.12.0)\n",
            "Requirement already satisfied: validators>=0.2 in c:\\users\\domenico\\.conda\\envs\\tf\\lib\\site-packages (from streamlit->simpletransformers) (0.20.0)\n",
            "Requirement already satisfied: typing-extensions>=3.10.0.0 in c:\\users\\domenico\\.conda\\envs\\tf\\lib\\site-packages (from streamlit->simpletransformers) (4.3.0)\n",
            "Requirement already satisfied: watchdog in c:\\users\\domenico\\.conda\\envs\\tf\\lib\\site-packages (from streamlit->simpletransformers) (2.1.9)\n",
            "Requirement already satisfied: grpcio>=1.24.3 in c:\\users\\domenico\\.conda\\envs\\tf\\lib\\site-packages (from tensorboard->simpletransformers) (1.48.0)\n",
            "Requirement already satisfied: absl-py>=0.4 in c:\\users\\domenico\\.conda\\envs\\tf\\lib\\site-packages (from tensorboard->simpletransformers) (1.2.0)\n",
            "Requirement already satisfied: werkzeug>=1.0.1 in c:\\users\\domenico\\.conda\\envs\\tf\\lib\\site-packages (from tensorboard->simpletransformers) (2.2.1)\n",
            "Requirement already satisfied: wheel>=0.26 in c:\\users\\domenico\\.conda\\envs\\tf\\lib\\site-packages (from tensorboard->simpletransformers) (0.37.1)\n",
            "Requirement already satisfied: google-auth<3,>=1.6.3 in c:\\users\\domenico\\.conda\\envs\\tf\\lib\\site-packages (from tensorboard->simpletransformers) (2.9.1)\n",
            "Requirement already satisfied: markdown>=2.6.8 in c:\\users\\domenico\\.conda\\envs\\tf\\lib\\site-packages (from tensorboard->simpletransformers) (3.4.1)\n",
            "Requirement already satisfied: tensorboard-plugin-wit>=1.6.0 in c:\\users\\domenico\\.conda\\envs\\tf\\lib\\site-packages (from tensorboard->simpletransformers) (1.8.1)\n",
            "Requirement already satisfied: tensorboard-data-server<0.7.0,>=0.6.0 in c:\\users\\domenico\\.conda\\envs\\tf\\lib\\site-packages (from tensorboard->simpletransformers) (0.6.1)\n",
            "Requirement already satisfied: google-auth-oauthlib<0.5,>=0.4.1 in c:\\users\\domenico\\.conda\\envs\\tf\\lib\\site-packages (from tensorboard->simpletransformers) (0.4.6)\n",
            "Requirement already satisfied: toolz in c:\\users\\domenico\\.conda\\envs\\tf\\lib\\site-packages (from altair>=3.2.0->streamlit->simpletransformers) (0.12.0)\n",
            "Requirement already satisfied: jsonschema>=3.0 in c:\\users\\domenico\\.conda\\envs\\tf\\lib\\site-packages (from altair>=3.2.0->streamlit->simpletransformers) (4.9.0)\n",
            "Requirement already satisfied: entrypoints in c:\\users\\domenico\\.conda\\envs\\tf\\lib\\site-packages (from altair>=3.2.0->streamlit->simpletransformers) (0.4)\n",
            "Requirement already satisfied: jinja2 in c:\\users\\domenico\\.conda\\envs\\tf\\lib\\site-packages (from altair>=3.2.0->streamlit->simpletransformers) (3.1.2)\n",
            "Requirement already satisfied: frozenlist>=1.1.1 in c:\\users\\domenico\\.conda\\envs\\tf\\lib\\site-packages (from aiohttp->datasets->simpletransformers) (1.3.1)\n",
            "Requirement already satisfied: yarl<2.0,>=1.0 in c:\\users\\domenico\\.conda\\envs\\tf\\lib\\site-packages (from aiohttp->datasets->simpletransformers) (1.8.1)\n",
            "Requirement already satisfied: multidict<7.0,>=4.5 in c:\\users\\domenico\\.conda\\envs\\tf\\lib\\site-packages (from aiohttp->datasets->simpletransformers) (6.0.2)\n",
            "Requirement already satisfied: attrs>=17.3.0 in c:\\users\\domenico\\.conda\\envs\\tf\\lib\\site-packages (from aiohttp->datasets->simpletransformers) (22.1.0)\n",
            "Requirement already satisfied: async-timeout<5.0,>=4.0.0a3 in c:\\users\\domenico\\.conda\\envs\\tf\\lib\\site-packages (from aiohttp->datasets->simpletransformers) (4.0.2)\n",
            "Requirement already satisfied: aiosignal>=1.1.2 in c:\\users\\domenico\\.conda\\envs\\tf\\lib\\site-packages (from aiohttp->datasets->simpletransformers) (1.2.0)\n",
            "Requirement already satisfied: gitdb<5,>=4.0.1 in c:\\users\\domenico\\.conda\\envs\\tf\\lib\\site-packages (from GitPython>=1.0.0->wandb>=0.10.32->simpletransformers) (4.0.9)\n",
            "Requirement already satisfied: rsa<5,>=3.1.4 in c:\\users\\domenico\\.conda\\envs\\tf\\lib\\site-packages (from google-auth<3,>=1.6.3->tensorboard->simpletransformers) (4.9)\n",
            "Requirement already satisfied: pyasn1-modules>=0.2.1 in c:\\users\\domenico\\.conda\\envs\\tf\\lib\\site-packages (from google-auth<3,>=1.6.3->tensorboard->simpletransformers) (0.2.8)\n",
            "Requirement already satisfied: requests-oauthlib>=0.7.0 in c:\\users\\domenico\\.conda\\envs\\tf\\lib\\site-packages (from google-auth-oauthlib<0.5,>=0.4.1->tensorboard->simpletransformers) (1.3.1)\n",
            "Requirement already satisfied: zipp>=0.5 in c:\\users\\domenico\\.conda\\envs\\tf\\lib\\site-packages (from importlib-metadata>=1.4->streamlit->simpletransformers) (3.8.1)\n",
            "Requirement already satisfied: pyparsing!=3.0.5,>=2.0.2 in c:\\users\\domenico\\.conda\\envs\\tf\\lib\\site-packages (from packaging>=20.0->transformers>=4.6.0->simpletransformers) (3.0.9)\n",
            "Requirement already satisfied: commonmark<0.10.0,>=0.9.0 in c:\\users\\domenico\\.conda\\envs\\tf\\lib\\site-packages (from rich>=10.11.0->streamlit->simpletransformers) (0.9.1)\n",
            "Requirement already satisfied: pygments<3.0.0,>=2.6.0 in c:\\users\\domenico\\.conda\\envs\\tf\\lib\\site-packages (from rich>=10.11.0->streamlit->simpletransformers) (2.12.0)\n",
            "Requirement already satisfied: pytz-deprecation-shim in c:\\users\\domenico\\.conda\\envs\\tf\\lib\\site-packages (from tzlocal>=1.1->streamlit->simpletransformers) (0.1.0.post0)\n",
            "Requirement already satisfied: tzdata in c:\\users\\domenico\\.conda\\envs\\tf\\lib\\site-packages (from tzlocal>=1.1->streamlit->simpletransformers) (2022.2)\n",
            "Requirement already satisfied: decorator>=3.4.0 in c:\\users\\domenico\\.conda\\envs\\tf\\lib\\site-packages (from validators>=0.2->streamlit->simpletransformers) (5.1.1)\n",
            "Requirement already satisfied: MarkupSafe>=2.1.1 in c:\\users\\domenico\\.conda\\envs\\tf\\lib\\site-packages (from werkzeug>=1.0.1->tensorboard->simpletransformers) (2.1.1)\n",
            "Requirement already satisfied: smmap<6,>=3.0.1 in c:\\users\\domenico\\.conda\\envs\\tf\\lib\\site-packages (from gitdb<5,>=4.0.1->GitPython>=1.0.0->wandb>=0.10.32->simpletransformers) (5.0.0)\n",
            "Requirement already satisfied: pyrsistent!=0.17.0,!=0.17.1,!=0.17.2,>=0.14.0 in c:\\users\\domenico\\.conda\\envs\\tf\\lib\\site-packages (from jsonschema>=3.0->altair>=3.2.0->streamlit->simpletransformers) (0.18.1)\n",
            "Requirement already satisfied: pyasn1<0.5.0,>=0.4.6 in c:\\users\\domenico\\.conda\\envs\\tf\\lib\\site-packages (from pyasn1-modules>=0.2.1->google-auth<3,>=1.6.3->tensorboard->simpletransformers) (0.4.8)\n",
            "Requirement already satisfied: oauthlib>=3.0.0 in c:\\users\\domenico\\.conda\\envs\\tf\\lib\\site-packages (from requests-oauthlib>=0.7.0->google-auth-oauthlib<0.5,>=0.4.1->tensorboard->simpletransformers) (3.2.0)\n",
            "Fetching https://raw.githubusercontent.com/marco-siino/DA-BT/main/code/dataset.py\n",
            "Fetching https://raw.githubusercontent.com/marco-siino/DA-BT/main/code/vectorizer.py\n",
            "Fetching https://raw.githubusercontent.com/marco-siino/DA-BT/main/code/simulator.py\n"
          ]
        },
        {
          "output_type": "stream",
          "name": "stderr",
          "text": [
            "C:\\Users\\Domenico\\.conda\\envs\\tf\\lib\\site-packages\\tqdm\\auto.py:22: TqdmWarning: IProgress not found. Please update jupyter and ipywidgets. See https://ipywidgets.readthedocs.io/en/stable/user_install.html\n",
            "  from .autonotebook import tqdm as notebook_tqdm\n"
          ]
        },
        {
          "output_type": "stream",
          "name": "stdout",
          "text": [
            "Fetching https://raw.githubusercontent.com/marco-siino/DA-BT/main/code/vectorizer.py\n"
          ]
        }
      ],
      "source": [
        "!pip install simpletransformers\n",
        "\n",
        "import matplotlib.pyplot as plt\n",
        "import os\n",
        "import random\n",
        "import re\n",
        "import shutil\n",
        "import string\n",
        "import tensorflow as tf\n",
        "from urllib import request\n",
        "\n",
        "\n",
        "import numpy as np\n",
        "\n",
        "from tensorflow.keras import layers\n",
        "from tensorflow.keras import losses\n",
        "from tensorflow.keras import preprocessing\n",
        "from keras.models import Model\n",
        "from tensorflow.keras.layers.experimental.preprocessing import TextVectorization\n",
        "\n",
        "# Import class Dataset\n",
        "module_url = f\"https://raw.githubusercontent.com/marco-siino/DA-BT/main/code/dataset.py\"\n",
        "module_name = module_url.split('/')[-1]\n",
        "print(f'Fetching {module_url}')\n",
        "with request.urlopen(module_url) as f, open(module_name,'w') as outf:\n",
        "  a = f.read()\n",
        "  outf.write(a.decode('utf-8'))\n",
        "from dataset import Dataset\n",
        "\n",
        "# Import class Vectorizer\n",
        "module_url = f\"https://raw.githubusercontent.com/marco-siino/DA-BT/main/code/vectorizer.py\"\n",
        "module_name = module_url.split('/')[-1]\n",
        "print(f'Fetching {module_url}')\n",
        "with request.urlopen(module_url) as f, open(module_name,'w') as outf:\n",
        "  a = f.read()\n",
        "  outf.write(a.decode('utf-8'))\n",
        "from vectorizer import Vectorizer\n",
        "\n",
        "# Import class Simulator\n",
        "module_url = f\"https://raw.githubusercontent.com/marco-siino/DA-BT/main/code/simulator.py\"\n",
        "module_name = module_url.split('/')[-1]\n",
        "print(f'Fetching {module_url}')\n",
        "with request.urlopen(module_url) as f, open(module_name,'w') as outf:\n",
        "  a = f.read()\n",
        "  outf.write(a.decode('utf-8'))\n",
        "from simulator import Simulator"
      ]
    },
    {
      "cell_type": "markdown",
      "source": [
        "## Fetch the dataset zips from GitHub and build up a Keras DS."
      ],
      "metadata": {
        "id": "ponyShZZABtv"
      }
    },
    {
      "cell_type": "code",
      "source": [
        "# Parameters of Dataset object are name of the ds used and augmentation language used.\n",
        "ds = Dataset('fns','mix')\n",
        "ds.build_ds(1)"
      ],
      "metadata": {
        "colab": {
          "base_uri": "https://localhost:8080/"
        },
        "id": "AvKprkqkzBIm",
        "outputId": "31ccb9fe-f048-41e8-efc5-b5d2dc6e2141"
      },
      "execution_count": null,
      "outputs": [
        {
          "output_type": "stream",
          "name": "stdout",
          "text": [
            "Downloading data from https://github.com/marco-siino/DA-BT/raw/main/data/fns/fns-train-mix.zip\n",
            "3218787/3218787 [==============================] - 0s 0us/step\n",
            "Downloading data from https://github.com/marco-siino/DA-BT/raw/main/data/fns/fns-test-mix.zip\n",
            "2168036/2168036 [==============================] - 0s 0us/step\n",
            "Found 300 files belonging to 2 classes.\n",
            "Found 200 files belonging to 2 classes.\n"
          ]
        }
      ]
    },
    {
      "cell_type": "markdown",
      "source": [
        "## Vectorize text accordingly to the train set."
      ],
      "metadata": {
        "id": "8Ga8vMTIANTh"
      }
    },
    {
      "cell_type": "code",
      "source": [
        "vct_layer_obj = Vectorizer(ds.train_set)"
      ],
      "metadata": {
        "colab": {
          "base_uri": "https://localhost:8080/"
        },
        "id": "6x-QXirtAAFU",
        "outputId": "8385beea-0097-4bfa-9b0c-e854fc1b619f"
      },
      "execution_count": null,
      "outputs": [
        {
          "output_type": "stream",
          "name": "stdout",
          "text": [
            "Length of the longest sample is: 11646\n",
            "\n",
            "Vocabulary size is: 120564\n"
          ]
        }
      ]
    },
    {
      "cell_type": "markdown",
      "source": [
        "## Run the simulation."
      ],
      "metadata": {
        "id": "ztD88sknARIV"
      }
    },
    {
      "cell_type": "code",
      "source": [
        "simulator = Simulator (\"roberta\",5,10,ds.train_set,ds.test_set,vct_layer_obj.vectorize_layer)\n",
        "simulator.run()"
      ],
      "metadata": {
        "colab": {
          "base_uri": "https://localhost:8080/"
        },
        "id": "rGT_dzZb94eM",
        "outputId": "983f6c3e-ecd0-4343-b91f-56aadd22574d"
      },
      "execution_count": null,
      "outputs": [
        {
          "output_type": "stream",
          "name": "stderr",
          "text": [
            "Some weights of the model checkpoint at roberta-base were not used when initializing RobertaForSequenceClassification: ['lm_head.dense.weight', 'roberta.pooler.dense.bias', 'lm_head.layer_norm.weight', 'roberta.pooler.dense.weight', 'lm_head.layer_norm.bias', 'lm_head.dense.bias', 'lm_head.decoder.weight', 'lm_head.bias']\n",
            "- This IS expected if you are initializing RobertaForSequenceClassification from the checkpoint of a model trained on another task or with another architecture (e.g. initializing a BertForSequenceClassification model from a BertForPreTraining model).\n",
            "- This IS NOT expected if you are initializing RobertaForSequenceClassification from the checkpoint of a model that you expect to be exactly identical (initializing a BertForSequenceClassification model from a BertForSequenceClassification model).\n",
            "Some weights of RobertaForSequenceClassification were not initialized from the model checkpoint at roberta-base and are newly initialized: ['classifier.out_proj.bias', 'classifier.dense.bias', 'classifier.out_proj.weight', 'classifier.dense.weight']\n",
            "You should probably TRAIN this model on a down-stream task to be able to use it for predictions and inference.\n",
            "Some weights of the model checkpoint at roberta-base were not used when initializing RobertaForSequenceClassification: ['lm_head.dense.weight', 'roberta.pooler.dense.bias', 'lm_head.layer_norm.weight', 'roberta.pooler.dense.weight', 'lm_head.layer_norm.bias', 'lm_head.dense.bias', 'lm_head.decoder.weight', 'lm_head.bias']\n",
            "- This IS expected if you are initializing RobertaForSequenceClassification from the checkpoint of a model trained on another task or with another architecture (e.g. initializing a BertForSequenceClassification model from a BertForPreTraining model).\n",
            "- This IS NOT expected if you are initializing RobertaForSequenceClassification from the checkpoint of a model that you expect to be exactly identical (initializing a BertForSequenceClassification model from a BertForSequenceClassification model).\n",
            "Some weights of RobertaForSequenceClassification were not initialized from the model checkpoint at roberta-base and are newly initialized: ['classifier.out_proj.bias', 'classifier.dense.bias', 'classifier.out_proj.weight', 'classifier.dense.weight']\n",
            "You should probably TRAIN this model on a down-stream task to be able to use it for predictions and inference.\n",
            "C:\\Users\\Domenico\\.conda\\envs\\tf\\lib\\site-packages\\simpletransformers\\classification\\classification_model.py:612: UserWarning: Dataframe headers not specified. Falling back to using column 0 as text and column 1 as labels.\n",
            "  warnings.warn(\n"
          ]
        },
        {
          "output_type": "stream",
          "name": "stdout",
          "text": [
            "\n",
            "EPOCH NUMBER:  0\n",
            "\n",
            "NOW TRAIN THE MODEL.\n"
          ]
        },
        {
          "output_type": "stream",
          "name": "stderr",
          "text": [
            "  0%|▎                                                                                 | 1/300 [00:08<43:18,  8.69s/it]\n",
            "Epoch 1 of 1:   0%|                                                                              | 0/1 [00:00<?, ?it/s]\n",
            "Running Epoch 0 of 1:   0%|                                                                     | 0/38 [00:00<?, ?it/s]\u001b[A\n",
            "Running Epoch 0 of 1:   3%|█▌                                                           | 1/38 [00:02<01:20,  2.17s/it]\u001b[A\n",
            "Running Epoch 0 of 1:   5%|███▏                                                         | 2/38 [00:04<01:21,  2.25s/it]\u001b[A\n",
            "Running Epoch 0 of 1:   8%|████▊                                                        | 3/38 [00:06<01:19,  2.28s/it]\u001b[A\n",
            "Running Epoch 0 of 1:  11%|██████▍                                                      | 4/38 [00:09<01:18,  2.31s/it]\u001b[A\n",
            "Running Epoch 0 of 1:  13%|████████                                                     | 5/38 [00:11<01:15,  2.30s/it]\u001b[A\n",
            "Running Epoch 0 of 1:  16%|█████████▋                                                   | 6/38 [00:13<01:13,  2.31s/it]\u001b[A\n",
            "Running Epoch 0 of 1:  18%|███████████▏                                                 | 7/38 [00:16<01:12,  2.33s/it]\u001b[A\n",
            "Running Epoch 0 of 1:  21%|████████████▊                                                | 8/38 [00:18<01:09,  2.32s/it]\u001b[A\n",
            "Running Epoch 0 of 1:  24%|██████████████▍                                              | 9/38 [00:20<01:07,  2.32s/it]\u001b[A\n",
            "Running Epoch 0 of 1:  26%|███████████████▊                                            | 10/38 [00:23<01:05,  2.33s/it]\u001b[A\n",
            "Running Epoch 0 of 1:  29%|█████████████████▎                                          | 11/38 [00:25<01:02,  2.33s/it]\u001b[A\n",
            "Running Epoch 0 of 1:  32%|██████████████████▉                                         | 12/38 [00:27<01:00,  2.32s/it]\u001b[A\n",
            "Running Epoch 0 of 1:  34%|████████████████████▌                                       | 13/38 [00:30<00:58,  2.32s/it]\u001b[A\n",
            "Running Epoch 0 of 1:  37%|██████████████████████                                      | 14/38 [00:32<00:55,  2.31s/it]\u001b[A\n",
            "Running Epoch 0 of 1:  39%|███████████████████████▋                                    | 15/38 [00:34<00:53,  2.31s/it]\u001b[A\n",
            "Running Epoch 0 of 1:  42%|█████████████████████████▎                                  | 16/38 [00:37<00:51,  2.33s/it]\u001b[A\n",
            "Running Epoch 0 of 1:  45%|██████████████████████████▊                                 | 17/38 [00:39<00:48,  2.31s/it]\u001b[A\n",
            "Running Epoch 0 of 1:  47%|████████████████████████████▍                               | 18/38 [00:41<00:46,  2.33s/it]\u001b[A\n",
            "Running Epoch 0 of 1:  50%|██████████████████████████████                              | 19/38 [00:44<00:44,  2.35s/it]\u001b[A\n",
            "Running Epoch 0 of 1:  53%|███████████████████████████████▌                            | 20/38 [00:46<00:42,  2.34s/it]\u001b[A\n",
            "Running Epoch 0 of 1:  55%|█████████████████████████████████▏                          | 21/38 [00:48<00:39,  2.34s/it]\u001b[A\n",
            "Running Epoch 0 of 1:  58%|██████████████████████████████████▋                         | 22/38 [00:51<00:37,  2.34s/it]\u001b[A\n",
            "Running Epoch 0 of 1:  61%|████████████████████████████████████▎                       | 23/38 [00:53<00:35,  2.34s/it]\u001b[A\n",
            "Running Epoch 0 of 1:  63%|█████████████████████████████████████▉                      | 24/38 [00:55<00:32,  2.35s/it]\u001b[A\n",
            "Running Epoch 0 of 1:  66%|███████████████████████████████████████▍                    | 25/38 [00:58<00:30,  2.35s/it]\u001b[A\n",
            "Running Epoch 0 of 1:  68%|█████████████████████████████████████████                   | 26/38 [01:00<00:28,  2.35s/it]\u001b[A\n",
            "Running Epoch 0 of 1:  71%|██████████████████████████████████████████▋                 | 27/38 [01:02<00:25,  2.36s/it]\u001b[A\n",
            "Running Epoch 0 of 1:  74%|████████████████████████████████████████████▏               | 28/38 [01:05<00:23,  2.36s/it]\u001b[A\n",
            "Running Epoch 0 of 1:  76%|█████████████████████████████████████████████▊              | 29/38 [01:07<00:21,  2.34s/it]\u001b[A\n",
            "Running Epoch 0 of 1:  79%|███████████████████████████████████████████████▎            | 30/38 [01:09<00:18,  2.36s/it]\u001b[A\n",
            "Running Epoch 0 of 1:  82%|████████████████████████████████████████████████▉           | 31/38 [01:12<00:16,  2.35s/it]\u001b[A\n",
            "Running Epoch 0 of 1:  84%|██████████████████████████████████████████████████▌         | 32/38 [01:14<00:14,  2.33s/it]\u001b[A\n",
            "Running Epoch 0 of 1:  87%|████████████████████████████████████████████████████        | 33/38 [01:16<00:11,  2.35s/it]\u001b[A\n",
            "Running Epoch 0 of 1:  89%|█████████████████████████████████████████████████████▋      | 34/38 [01:19<00:09,  2.34s/it]\u001b[A\n",
            "Running Epoch 0 of 1:  92%|███████████████████████████████████████████████████████▎    | 35/38 [01:21<00:07,  2.35s/it]\u001b[A\n",
            "Running Epoch 0 of 1:  95%|████████████████████████████████████████████████████████▊   | 36/38 [01:24<00:04,  2.36s/it]\u001b[A\n",
            "Running Epoch 0 of 1:  97%|██████████████████████████████████████████████████████████▍ | 37/38 [01:26<00:02,  2.36s/it]\u001b[A\n",
            "Running Epoch 0 of 1: 100%|████████████████████████████████████████████████████████████| 38/38 [01:27<00:00,  2.32s/it]\n",
            "Epoch 1 of 1: 100%|██████████████████████████████████████████████████████████████████████| 1/1 [01:27<00:00, 87.99s/it]\n",
            "C:\\Users\\Domenico\\.conda\\envs\\tf\\lib\\site-packages\\simpletransformers\\classification\\classification_model.py:1454: UserWarning: Dataframe headers not specified. Falling back to using column 0 as text and column 1 as labels.\n",
            "  warnings.warn(\n"
          ]
        },
        {
          "output_type": "stream",
          "name": "stdout",
          "text": [
            "\n",
            "NOW EVALUATE THE TEST DF.\n"
          ]
        },
        {
          "output_type": "stream",
          "name": "stderr",
          "text": [
            "  0%|▍                                                                                 | 1/200 [00:07<24:38,  7.43s/it]\n",
            "Running Evaluation: 100%|██████████████████████████████████████████████████████████████| 25/25 [00:14<00:00,  1.78it/s]\n",
            "C:\\Users\\Domenico\\.conda\\envs\\tf\\lib\\site-packages\\simpletransformers\\classification\\classification_model.py:612: UserWarning: Dataframe headers not specified. Falling back to using column 0 as text and column 1 as labels.\n",
            "  warnings.warn(\n"
          ]
        },
        {
          "output_type": "stream",
          "name": "stdout",
          "text": [
            "{'mcc': 0.10050378152592121, 'tp': 2, 'tn': 100, 'fp': 0, 'fn': 98, 'auroc': 0.6198000000000001, 'auprc': 0.6292254646650649, 'eval_loss': 0.6880000138282776}\n",
            "Correct predictions are:  102\n",
            "Total predictions are:  200\n",
            "Accuracy on test set is: 0.51 \n",
            "\n",
            "\n",
            "\n",
            "EPOCH NUMBER:  1\n",
            "\n",
            "NOW TRAIN THE MODEL.\n"
          ]
        },
        {
          "output_type": "stream",
          "name": "stderr",
          "text": [
            "  0%|▎                                                                                 | 1/300 [00:08<43:04,  8.65s/it]\n",
            "Epoch 1 of 1:   0%|                                                                              | 0/1 [00:00<?, ?it/s]\n",
            "Running Epoch 0 of 1:   0%|                                                                     | 0/38 [00:00<?, ?it/s]\u001b[A\n",
            "Running Epoch 0 of 1:   3%|█▌                                                           | 1/38 [00:02<01:24,  2.28s/it]\u001b[A\n",
            "Running Epoch 0 of 1:   5%|███▏                                                         | 2/38 [00:04<01:23,  2.32s/it]\u001b[A\n",
            "Running Epoch 0 of 1:   8%|████▊                                                        | 3/38 [00:07<01:22,  2.34s/it]\u001b[A\n",
            "Running Epoch 0 of 1:  11%|██████▍                                                      | 4/38 [00:09<01:19,  2.34s/it]\u001b[A\n",
            "Running Epoch 0 of 1:  13%|████████                                                     | 5/38 [00:11<01:17,  2.35s/it]\u001b[A\n",
            "Running Epoch 0 of 1:  16%|█████████▋                                                   | 6/38 [00:14<01:15,  2.37s/it]\u001b[A\n",
            "Running Epoch 0 of 1:  18%|███████████▏                                                 | 7/38 [00:16<01:12,  2.35s/it]\u001b[A\n",
            "Running Epoch 0 of 1:  21%|████████████▊                                                | 8/38 [00:18<01:10,  2.35s/it]\u001b[A\n",
            "Running Epoch 0 of 1:  24%|██████████████▍                                              | 9/38 [00:21<01:08,  2.36s/it]\u001b[A\n",
            "Running Epoch 0 of 1:  26%|███████████████▊                                            | 10/38 [00:23<01:05,  2.34s/it]\u001b[A\n",
            "Running Epoch 0 of 1:  29%|█████████████████▎                                          | 11/38 [00:25<01:03,  2.35s/it]\u001b[A\n",
            "Running Epoch 0 of 1:  32%|██████████████████▉                                         | 12/38 [00:28<01:01,  2.37s/it]\u001b[A\n",
            "Running Epoch 0 of 1:  34%|████████████████████▌                                       | 13/38 [00:30<00:59,  2.37s/it]\u001b[A\n",
            "Running Epoch 0 of 1:  37%|██████████████████████                                      | 14/38 [00:33<00:57,  2.38s/it]\u001b[A\n",
            "Running Epoch 0 of 1:  39%|███████████████████████▋                                    | 15/38 [00:35<00:54,  2.37s/it]\u001b[A\n",
            "Running Epoch 0 of 1:  42%|█████████████████████████▎                                  | 16/38 [00:37<00:52,  2.37s/it]\u001b[A\n",
            "Running Epoch 0 of 1:  45%|██████████████████████████▊                                 | 17/38 [00:40<00:49,  2.38s/it]\u001b[A\n",
            "Running Epoch 0 of 1:  47%|████████████████████████████▍                               | 18/38 [00:42<00:48,  2.43s/it]\u001b[A\n",
            "Running Epoch 0 of 1:  50%|██████████████████████████████                              | 19/38 [00:45<00:47,  2.51s/it]\u001b[A\n",
            "Running Epoch 0 of 1:  53%|███████████████████████████████▌                            | 20/38 [00:48<00:46,  2.57s/it]\u001b[A\n",
            "Running Epoch 0 of 1:  55%|█████████████████████████████████▏                          | 21/38 [00:50<00:44,  2.61s/it]\u001b[A\n",
            "Running Epoch 0 of 1:  58%|██████████████████████████████████▋                         | 22/38 [00:53<00:42,  2.63s/it]\u001b[A\n",
            "Running Epoch 0 of 1:  61%|████████████████████████████████████▎                       | 23/38 [00:56<00:39,  2.64s/it]\u001b[A\n",
            "Running Epoch 0 of 1:  63%|█████████████████████████████████████▉                      | 24/38 [00:59<00:37,  2.70s/it]\u001b[A\n",
            "Running Epoch 0 of 1:  66%|███████████████████████████████████████▍                    | 25/38 [01:02<00:38,  2.95s/it]\u001b[A\n",
            "Running Epoch 0 of 1:  68%|█████████████████████████████████████████                   | 26/38 [01:05<00:36,  3.07s/it]\u001b[A\n",
            "Running Epoch 0 of 1:  71%|██████████████████████████████████████████▋                 | 27/38 [01:08<00:32,  2.95s/it]\u001b[A\n",
            "Running Epoch 0 of 1:  74%|████████████████████████████████████████████▏               | 28/38 [01:11<00:28,  2.86s/it]\u001b[A\n",
            "Running Epoch 0 of 1:  76%|█████████████████████████████████████████████▊              | 29/38 [01:13<00:25,  2.79s/it]\u001b[A\n",
            "Running Epoch 0 of 1:  79%|███████████████████████████████████████████████▎            | 30/38 [01:16<00:21,  2.72s/it]\u001b[A\n",
            "Running Epoch 0 of 1:  82%|████████████████████████████████████████████████▉           | 31/38 [01:19<00:18,  2.70s/it]\u001b[A\n",
            "Running Epoch 0 of 1:  84%|██████████████████████████████████████████████████▌         | 32/38 [01:21<00:15,  2.66s/it]\u001b[A\n",
            "Running Epoch 0 of 1:  87%|████████████████████████████████████████████████████        | 33/38 [01:24<00:13,  2.62s/it]\u001b[A\n",
            "Running Epoch 0 of 1:  89%|█████████████████████████████████████████████████████▋      | 34/38 [01:26<00:10,  2.61s/it]\u001b[A\n",
            "Running Epoch 0 of 1:  92%|███████████████████████████████████████████████████████▎    | 35/38 [01:29<00:07,  2.61s/it]\u001b[A\n",
            "Running Epoch 0 of 1:  95%|████████████████████████████████████████████████████████▊   | 36/38 [01:31<00:05,  2.60s/it]\u001b[A\n",
            "Running Epoch 0 of 1:  97%|██████████████████████████████████████████████████████████▍ | 37/38 [01:34<00:02,  2.60s/it]\u001b[A\n",
            "Running Epoch 0 of 1: 100%|████████████████████████████████████████████████████████████| 38/38 [01:36<00:00,  2.53s/it]\n",
            "Epoch 1 of 1: 100%|██████████████████████████████████████████████████████████████████████| 1/1 [01:36<00:00, 96.21s/it]\n",
            "C:\\Users\\Domenico\\.conda\\envs\\tf\\lib\\site-packages\\simpletransformers\\classification\\classification_model.py:1454: UserWarning: Dataframe headers not specified. Falling back to using column 0 as text and column 1 as labels.\n",
            "  warnings.warn(\n"
          ]
        },
        {
          "output_type": "stream",
          "name": "stdout",
          "text": [
            "\n",
            "NOW EVALUATE THE TEST DF.\n"
          ]
        },
        {
          "output_type": "stream",
          "name": "stderr",
          "text": [
            "  0%|▍                                                                                 | 1/200 [00:07<25:12,  7.60s/it]\n",
            "Running Evaluation: 100%|██████████████████████████████████████████████████████████████| 25/25 [00:14<00:00,  1.70it/s]\n",
            "C:\\Users\\Domenico\\.conda\\envs\\tf\\lib\\site-packages\\simpletransformers\\classification\\classification_model.py:612: UserWarning: Dataframe headers not specified. Falling back to using column 0 as text and column 1 as labels.\n",
            "  warnings.warn(\n"
          ]
        },
        {
          "output_type": "stream",
          "name": "stdout",
          "text": [
            "{'mcc': 0.3644344934278313, 'tp': 85, 'tn': 49, 'fp': 51, 'fn': 15, 'auroc': 0.7123999999999999, 'auprc': 0.6641625701405119, 'eval_loss': 0.6225837659835816}\n",
            "Correct predictions are:  134\n",
            "Total predictions are:  200\n",
            "Accuracy on test set is: 0.67 \n",
            "\n",
            "\n",
            "\n",
            "EPOCH NUMBER:  2\n",
            "\n",
            "NOW TRAIN THE MODEL.\n"
          ]
        },
        {
          "output_type": "stream",
          "name": "stderr",
          "text": [
            "  0%|▎                                                                                 | 1/300 [00:08<44:10,  8.86s/it]\n",
            "Epoch 1 of 1:   0%|                                                                              | 0/1 [00:00<?, ?it/s]\n",
            "Running Epoch 0 of 1:   0%|                                                                     | 0/38 [00:00<?, ?it/s]\u001b[A\n",
            "Running Epoch 0 of 1:   3%|█▌                                                           | 1/38 [00:02<01:30,  2.43s/it]\u001b[A\n",
            "Running Epoch 0 of 1:   5%|███▏                                                         | 2/38 [00:04<01:28,  2.46s/it]\u001b[A\n",
            "Running Epoch 0 of 1:   8%|████▊                                                        | 3/38 [00:07<01:24,  2.42s/it]\u001b[A\n",
            "Running Epoch 0 of 1:  11%|██████▍                                                      | 4/38 [00:09<01:23,  2.44s/it]\u001b[A\n",
            "Running Epoch 0 of 1:  13%|████████                                                     | 5/38 [00:12<01:20,  2.43s/it]\u001b[A\n",
            "Running Epoch 0 of 1:  16%|█████████▋                                                   | 6/38 [00:14<01:18,  2.46s/it]\u001b[A\n",
            "Running Epoch 0 of 1:  18%|███████████▏                                                 | 7/38 [00:17<01:16,  2.47s/it]\u001b[A\n",
            "Running Epoch 0 of 1:  21%|████████████▊                                                | 8/38 [00:19<01:13,  2.46s/it]\u001b[A\n",
            "Running Epoch 0 of 1:  24%|██████████████▍                                              | 9/38 [00:22<01:11,  2.46s/it]\u001b[A\n",
            "Running Epoch 0 of 1:  26%|███████████████▊                                            | 10/38 [00:24<01:09,  2.47s/it]\u001b[A\n",
            "Running Epoch 0 of 1:  29%|█████████████████▎                                          | 11/38 [00:27<01:07,  2.48s/it]\u001b[A\n",
            "Running Epoch 0 of 1:  32%|██████████████████▉                                         | 12/38 [00:29<01:04,  2.50s/it]\u001b[A\n",
            "Running Epoch 0 of 1:  34%|████████████████████▌                                       | 13/38 [00:32<01:02,  2.48s/it]\u001b[A\n",
            "Running Epoch 0 of 1:  37%|██████████████████████                                      | 14/38 [00:34<00:59,  2.48s/it]\u001b[A\n",
            "Running Epoch 0 of 1:  39%|███████████████████████▋                                    | 15/38 [00:37<00:57,  2.48s/it]\u001b[A\n",
            "Running Epoch 0 of 1:  42%|█████████████████████████▎                                  | 16/38 [00:39<00:54,  2.47s/it]\u001b[A\n",
            "Running Epoch 0 of 1:  45%|██████████████████████████▊                                 | 17/38 [00:41<00:51,  2.47s/it]\u001b[A\n",
            "Running Epoch 0 of 1:  47%|████████████████████████████▍                               | 18/38 [00:44<00:49,  2.45s/it]\u001b[A\n",
            "Running Epoch 0 of 1:  50%|██████████████████████████████                              | 19/38 [00:46<00:46,  2.46s/it]\u001b[A\n",
            "Running Epoch 0 of 1:  53%|███████████████████████████████▌                            | 20/38 [00:49<00:44,  2.46s/it]\u001b[A\n",
            "Running Epoch 0 of 1:  55%|█████████████████████████████████▏                          | 21/38 [00:51<00:41,  2.45s/it]\u001b[A\n",
            "Running Epoch 0 of 1:  58%|██████████████████████████████████▋                         | 22/38 [00:54<00:39,  2.45s/it]\u001b[A\n",
            "Running Epoch 0 of 1:  61%|████████████████████████████████████▎                       | 23/38 [00:56<00:36,  2.44s/it]\u001b[A\n",
            "Running Epoch 0 of 1:  63%|█████████████████████████████████████▉                      | 24/38 [00:59<00:34,  2.45s/it]\u001b[A\n",
            "Running Epoch 0 of 1:  66%|███████████████████████████████████████▍                    | 25/38 [01:01<00:32,  2.46s/it]\u001b[A\n",
            "Running Epoch 0 of 1:  68%|█████████████████████████████████████████                   | 26/38 [01:04<00:29,  2.47s/it]\u001b[A\n",
            "Running Epoch 0 of 1:  71%|██████████████████████████████████████████▋                 | 27/38 [01:06<00:27,  2.46s/it]\u001b[A\n",
            "Running Epoch 0 of 1:  74%|████████████████████████████████████████████▏               | 28/38 [01:09<00:24,  2.48s/it]\u001b[A\n",
            "Running Epoch 0 of 1:  76%|█████████████████████████████████████████████▊              | 29/38 [01:11<00:22,  2.48s/it]\u001b[A\n",
            "Running Epoch 0 of 1:  79%|███████████████████████████████████████████████▎            | 30/38 [01:14<00:20,  2.50s/it]\u001b[A\n",
            "Running Epoch 0 of 1:  82%|████████████████████████████████████████████████▉           | 31/38 [01:16<00:17,  2.53s/it]\u001b[A\n",
            "Running Epoch 0 of 1:  84%|██████████████████████████████████████████████████▌         | 32/38 [01:19<00:15,  2.53s/it]\u001b[A\n",
            "Running Epoch 0 of 1:  87%|████████████████████████████████████████████████████        | 33/38 [01:21<00:12,  2.51s/it]\u001b[A\n",
            "Running Epoch 0 of 1:  89%|█████████████████████████████████████████████████████▋      | 34/38 [01:24<00:10,  2.50s/it]\u001b[A\n",
            "Running Epoch 0 of 1:  92%|███████████████████████████████████████████████████████▎    | 35/38 [01:26<00:07,  2.51s/it]\u001b[A\n",
            "Running Epoch 0 of 1:  95%|████████████████████████████████████████████████████████▊   | 36/38 [01:29<00:05,  2.51s/it]\u001b[A\n",
            "Running Epoch 0 of 1:  97%|██████████████████████████████████████████████████████████▍ | 37/38 [01:31<00:02,  2.50s/it]\u001b[A\n",
            "Running Epoch 0 of 1: 100%|████████████████████████████████████████████████████████████| 38/38 [01:33<00:00,  2.45s/it]\n",
            "Epoch 1 of 1: 100%|██████████████████████████████████████████████████████████████████████| 1/1 [01:33<00:00, 93.24s/it]\n",
            "C:\\Users\\Domenico\\.conda\\envs\\tf\\lib\\site-packages\\simpletransformers\\classification\\classification_model.py:1454: UserWarning: Dataframe headers not specified. Falling back to using column 0 as text and column 1 as labels.\n",
            "  warnings.warn(\n"
          ]
        },
        {
          "output_type": "stream",
          "name": "stdout",
          "text": [
            "\n",
            "NOW EVALUATE THE TEST DF.\n"
          ]
        },
        {
          "output_type": "stream",
          "name": "stderr",
          "text": [
            "  0%|▍                                                                                 | 1/200 [00:07<25:27,  7.67s/it]\n",
            "Running Evaluation: 100%|██████████████████████████████████████████████████████████████| 25/25 [00:15<00:00,  1.64it/s]\n",
            "C:\\Users\\Domenico\\.conda\\envs\\tf\\lib\\site-packages\\simpletransformers\\classification\\classification_model.py:612: UserWarning: Dataframe headers not specified. Falling back to using column 0 as text and column 1 as labels.\n",
            "  warnings.warn(\n"
          ]
        },
        {
          "output_type": "stream",
          "name": "stdout",
          "text": [
            "{'mcc': 0.3541666666666667, 'tp': 81, 'tn': 53, 'fp': 47, 'fn': 19, 'auroc': 0.7129, 'auprc': 0.6493507760256885, 'eval_loss': 0.6964267027378083}\n",
            "Correct predictions are:  134\n",
            "Total predictions are:  200\n",
            "Accuracy on test set is: 0.67 \n",
            "\n",
            "\n",
            "\n",
            "EPOCH NUMBER:  3\n",
            "\n",
            "NOW TRAIN THE MODEL.\n"
          ]
        },
        {
          "output_type": "stream",
          "name": "stderr",
          "text": [
            "  0%|▎                                                                                 | 1/300 [00:08<44:03,  8.84s/it]\n",
            "Epoch 1 of 1:   0%|                                                                              | 0/1 [00:00<?, ?it/s]\n",
            "Running Epoch 0 of 1:   0%|                                                                     | 0/38 [00:00<?, ?it/s]\u001b[A\n",
            "Running Epoch 0 of 1:   3%|█▌                                                           | 1/38 [00:02<01:31,  2.48s/it]\u001b[A\n",
            "Running Epoch 0 of 1:   5%|███▏                                                         | 2/38 [00:04<01:28,  2.46s/it]\u001b[A\n",
            "Running Epoch 0 of 1:   8%|████▊                                                        | 3/38 [00:07<01:25,  2.44s/it]\u001b[A\n",
            "Running Epoch 0 of 1:  11%|██████▍                                                      | 4/38 [00:09<01:23,  2.46s/it]\u001b[A\n",
            "Running Epoch 0 of 1:  13%|████████                                                     | 5/38 [00:12<01:21,  2.48s/it]\u001b[A\n",
            "Running Epoch 0 of 1:  16%|█████████▋                                                   | 6/38 [00:14<01:21,  2.53s/it]\u001b[A\n",
            "Running Epoch 0 of 1:  18%|███████████▏                                                 | 7/38 [00:17<01:20,  2.59s/it]\u001b[A\n",
            "Running Epoch 0 of 1:  21%|████████████▊                                                | 8/38 [00:20<01:18,  2.62s/it]\u001b[A\n",
            "Running Epoch 0 of 1:  24%|██████████████▍                                              | 9/38 [00:23<01:16,  2.64s/it]\u001b[A\n",
            "Running Epoch 0 of 1:  26%|███████████████▊                                            | 10/38 [00:25<01:14,  2.67s/it]\u001b[A\n",
            "Running Epoch 0 of 1:  29%|█████████████████▎                                          | 11/38 [00:28<01:11,  2.66s/it]\u001b[A\n",
            "Running Epoch 0 of 1:  32%|██████████████████▉                                         | 12/38 [00:31<01:09,  2.67s/it]\u001b[A\n",
            "Running Epoch 0 of 1:  34%|████████████████████▌                                       | 13/38 [00:33<01:06,  2.67s/it]\u001b[A\n",
            "Running Epoch 0 of 1:  37%|██████████████████████                                      | 14/38 [00:36<01:04,  2.67s/it]\u001b[A\n",
            "Running Epoch 0 of 1:  39%|███████████████████████▋                                    | 15/38 [00:39<01:01,  2.68s/it]\u001b[A\n",
            "Running Epoch 0 of 1:  42%|█████████████████████████▎                                  | 16/38 [00:41<00:59,  2.69s/it]\u001b[A\n",
            "Running Epoch 0 of 1:  45%|██████████████████████████▊                                 | 17/38 [00:44<00:56,  2.67s/it]\u001b[A\n",
            "Running Epoch 0 of 1:  47%|████████████████████████████▍                               | 18/38 [00:47<00:53,  2.67s/it]\u001b[A\n",
            "Running Epoch 0 of 1:  50%|██████████████████████████████                              | 19/38 [00:49<00:50,  2.67s/it]\u001b[A\n",
            "Running Epoch 0 of 1:  53%|███████████████████████████████▌                            | 20/38 [00:52<00:47,  2.65s/it]\u001b[A\n",
            "Running Epoch 0 of 1:  55%|█████████████████████████████████▏                          | 21/38 [00:55<00:45,  2.66s/it]\u001b[A\n",
            "Running Epoch 0 of 1:  58%|██████████████████████████████████▋                         | 22/38 [00:57<00:42,  2.67s/it]\u001b[A\n",
            "Running Epoch 0 of 1:  61%|████████████████████████████████████▎                       | 23/38 [01:00<00:40,  2.67s/it]\u001b[A\n",
            "Running Epoch 0 of 1:  63%|█████████████████████████████████████▉                      | 24/38 [01:03<00:37,  2.67s/it]\u001b[A\n",
            "Running Epoch 0 of 1:  66%|███████████████████████████████████████▍                    | 25/38 [01:05<00:34,  2.66s/it]\u001b[A\n",
            "Running Epoch 0 of 1:  68%|█████████████████████████████████████████                   | 26/38 [01:08<00:32,  2.67s/it]\u001b[A\n",
            "Running Epoch 0 of 1:  71%|██████████████████████████████████████████▋                 | 27/38 [01:11<00:29,  2.68s/it]\u001b[A\n",
            "Running Epoch 0 of 1:  74%|████████████████████████████████████████████▏               | 28/38 [01:13<00:26,  2.67s/it]\u001b[A\n",
            "Running Epoch 0 of 1:  76%|█████████████████████████████████████████████▊              | 29/38 [01:16<00:24,  2.68s/it]\u001b[A\n",
            "Running Epoch 0 of 1:  79%|███████████████████████████████████████████████▎            | 30/38 [01:19<00:21,  2.69s/it]\u001b[A\n",
            "Running Epoch 0 of 1:  82%|████████████████████████████████████████████████▉           | 31/38 [01:21<00:18,  2.70s/it]\u001b[A\n",
            "Running Epoch 0 of 1:  84%|██████████████████████████████████████████████████▌         | 32/38 [01:24<00:16,  2.70s/it]\u001b[A\n",
            "Running Epoch 0 of 1:  87%|████████████████████████████████████████████████████        | 33/38 [01:27<00:13,  2.70s/it]\u001b[A\n",
            "Running Epoch 0 of 1:  89%|█████████████████████████████████████████████████████▋      | 34/38 [01:30<00:10,  2.70s/it]\u001b[A\n",
            "Running Epoch 0 of 1:  92%|███████████████████████████████████████████████████████▎    | 35/38 [01:32<00:08,  2.70s/it]\u001b[A\n",
            "Running Epoch 0 of 1:  95%|████████████████████████████████████████████████████████▊   | 36/38 [01:35<00:05,  2.69s/it]\u001b[A\n",
            "Running Epoch 0 of 1:  97%|██████████████████████████████████████████████████████████▍ | 37/38 [01:38<00:02,  2.70s/it]\u001b[A\n",
            "Running Epoch 0 of 1: 100%|████████████████████████████████████████████████████████████| 38/38 [01:39<00:00,  2.63s/it]\n",
            "Epoch 1 of 1: 100%|█████████████████████████████████████████████████████████████████████| 1/1 [01:40<00:00, 100.00s/it]\n",
            "C:\\Users\\Domenico\\.conda\\envs\\tf\\lib\\site-packages\\simpletransformers\\classification\\classification_model.py:1454: UserWarning: Dataframe headers not specified. Falling back to using column 0 as text and column 1 as labels.\n",
            "  warnings.warn(\n"
          ]
        },
        {
          "output_type": "stream",
          "name": "stdout",
          "text": [
            "\n",
            "NOW EVALUATE THE TEST DF.\n"
          ]
        },
        {
          "output_type": "stream",
          "name": "stderr",
          "text": [
            "  0%|▍                                                                                 | 1/200 [00:07<25:48,  7.78s/it]\n",
            "Running Evaluation: 100%|██████████████████████████████████████████████████████████████| 25/25 [00:16<00:00,  1.51it/s]\n",
            "C:\\Users\\Domenico\\.conda\\envs\\tf\\lib\\site-packages\\simpletransformers\\classification\\classification_model.py:612: UserWarning: Dataframe headers not specified. Falling back to using column 0 as text and column 1 as labels.\n",
            "  warnings.warn(\n"
          ]
        },
        {
          "output_type": "stream",
          "name": "stdout",
          "text": [
            "{'mcc': 0.37282185960072, 'tp': 81, 'tn': 55, 'fp': 45, 'fn': 19, 'auroc': 0.7203, 'auprc': 0.6749090563055787, 'eval_loss': 0.7897515606880188}\n",
            "Correct predictions are:  136\n",
            "Total predictions are:  200\n",
            "Accuracy on test set is: 0.68 \n",
            "\n",
            "\n",
            "\n",
            "EPOCH NUMBER:  4\n",
            "\n",
            "NOW TRAIN THE MODEL.\n"
          ]
        },
        {
          "output_type": "stream",
          "name": "stderr",
          "text": [
            "  0%|▎                                                                                 | 1/300 [00:08<44:30,  8.93s/it]\n",
            "Epoch 1 of 1:   0%|                                                                              | 0/1 [00:00<?, ?it/s]\n",
            "Running Epoch 0 of 1:   0%|                                                                     | 0/38 [00:00<?, ?it/s]\u001b[A\n",
            "Running Epoch 0 of 1:   3%|█▌                                                           | 1/38 [00:02<01:39,  2.70s/it]\u001b[A\n",
            "Running Epoch 0 of 1:   5%|███▏                                                         | 2/38 [00:05<01:36,  2.69s/it]\u001b[A\n",
            "Running Epoch 0 of 1:   8%|████▊                                                        | 3/38 [00:08<01:34,  2.69s/it]\u001b[A\n",
            "Running Epoch 0 of 1:  11%|██████▍                                                      | 4/38 [00:10<01:32,  2.71s/it]\u001b[A\n",
            "Running Epoch 0 of 1:  13%|████████                                                     | 5/38 [00:13<01:29,  2.70s/it]\u001b[A\n",
            "Running Epoch 0 of 1:  16%|█████████▋                                                   | 6/38 [00:16<01:26,  2.70s/it]\u001b[A\n",
            "Running Epoch 0 of 1:  18%|███████████▏                                                 | 7/38 [00:18<01:23,  2.70s/it]\u001b[A\n",
            "Running Epoch 0 of 1:  21%|████████████▊                                                | 8/38 [00:21<01:20,  2.69s/it]\u001b[A\n",
            "Running Epoch 0 of 1:  24%|██████████████▍                                              | 9/38 [00:24<01:17,  2.68s/it]\u001b[A\n",
            "Running Epoch 0 of 1:  26%|███████████████▊                                            | 10/38 [00:26<01:14,  2.68s/it]\u001b[A\n",
            "Running Epoch 0 of 1:  29%|█████████████████▎                                          | 11/38 [00:29<01:12,  2.69s/it]\u001b[A\n",
            "Running Epoch 0 of 1:  32%|██████████████████▉                                         | 12/38 [00:32<01:09,  2.68s/it]\u001b[A\n",
            "Running Epoch 0 of 1:  34%|████████████████████▌                                       | 13/38 [00:34<01:07,  2.68s/it]\u001b[A\n",
            "Running Epoch 0 of 1:  37%|██████████████████████                                      | 14/38 [00:37<01:04,  2.68s/it]\u001b[A\n",
            "Running Epoch 0 of 1:  39%|███████████████████████▋                                    | 15/38 [00:40<01:01,  2.69s/it]\u001b[A\n",
            "Running Epoch 0 of 1:  42%|█████████████████████████▎                                  | 16/38 [00:43<00:59,  2.69s/it]\u001b[A\n",
            "Running Epoch 0 of 1:  45%|██████████████████████████▊                                 | 17/38 [00:45<00:56,  2.70s/it]\u001b[A\n",
            "Running Epoch 0 of 1:  47%|████████████████████████████▍                               | 18/38 [00:48<00:54,  2.70s/it]\u001b[A\n",
            "Running Epoch 0 of 1:  50%|██████████████████████████████                              | 19/38 [00:51<00:51,  2.69s/it]\u001b[A\n",
            "Running Epoch 0 of 1:  53%|███████████████████████████████▌                            | 20/38 [00:53<00:48,  2.70s/it]\u001b[A\n",
            "Running Epoch 0 of 1:  55%|█████████████████████████████████▏                          | 21/38 [00:56<00:45,  2.69s/it]\u001b[A\n",
            "Running Epoch 0 of 1:  58%|██████████████████████████████████▋                         | 22/38 [00:59<00:43,  2.69s/it]\u001b[A\n",
            "Running Epoch 0 of 1:  61%|████████████████████████████████████▎                       | 23/38 [01:01<00:40,  2.68s/it]\u001b[A\n",
            "Running Epoch 0 of 1:  63%|█████████████████████████████████████▉                      | 24/38 [01:04<00:37,  2.67s/it]\u001b[A\n",
            "Running Epoch 0 of 1:  66%|███████████████████████████████████████▍                    | 25/38 [01:07<00:34,  2.67s/it]\u001b[A\n",
            "Running Epoch 0 of 1:  68%|█████████████████████████████████████████                   | 26/38 [01:09<00:32,  2.69s/it]\u001b[A\n",
            "Running Epoch 0 of 1:  71%|██████████████████████████████████████████▋                 | 27/38 [01:12<00:29,  2.69s/it]\u001b[A\n",
            "Running Epoch 0 of 1:  74%|████████████████████████████████████████████▏               | 28/38 [01:15<00:26,  2.69s/it]\u001b[A\n",
            "Running Epoch 0 of 1:  76%|█████████████████████████████████████████████▊              | 29/38 [01:18<00:24,  2.70s/it]\u001b[A\n",
            "Running Epoch 0 of 1:  79%|███████████████████████████████████████████████▎            | 30/38 [01:20<00:21,  2.69s/it]\u001b[A\n",
            "Running Epoch 0 of 1:  82%|████████████████████████████████████████████████▉           | 31/38 [01:23<00:18,  2.68s/it]\u001b[A\n",
            "Running Epoch 0 of 1:  84%|██████████████████████████████████████████████████▌         | 32/38 [01:25<00:16,  2.68s/it]\u001b[A\n",
            "Running Epoch 0 of 1:  87%|████████████████████████████████████████████████████        | 33/38 [01:28<00:13,  2.68s/it]\u001b[A\n",
            "Running Epoch 0 of 1:  89%|█████████████████████████████████████████████████████▋      | 34/38 [01:31<00:10,  2.68s/it]\u001b[A\n",
            "Running Epoch 0 of 1:  92%|███████████████████████████████████████████████████████▎    | 35/38 [01:34<00:08,  2.69s/it]\u001b[A\n",
            "Running Epoch 0 of 1:  95%|████████████████████████████████████████████████████████▊   | 36/38 [01:36<00:05,  2.69s/it]\u001b[A\n",
            "Running Epoch 0 of 1:  97%|██████████████████████████████████████████████████████████▍ | 37/38 [01:39<00:02,  2.68s/it]\u001b[A\n",
            "Running Epoch 0 of 1: 100%|████████████████████████████████████████████████████████████| 38/38 [01:41<00:00,  2.66s/it]\n",
            "Epoch 1 of 1: 100%|█████████████████████████████████████████████████████████████████████| 1/1 [01:41<00:00, 101.26s/it]\n",
            "C:\\Users\\Domenico\\.conda\\envs\\tf\\lib\\site-packages\\simpletransformers\\classification\\classification_model.py:1454: UserWarning: Dataframe headers not specified. Falling back to using column 0 as text and column 1 as labels.\n",
            "  warnings.warn(\n"
          ]
        },
        {
          "output_type": "stream",
          "name": "stdout",
          "text": [
            "\n",
            "NOW EVALUATE THE TEST DF.\n"
          ]
        },
        {
          "output_type": "stream",
          "name": "stderr",
          "text": [
            "  0%|▍                                                                                 | 1/200 [00:07<25:27,  7.67s/it]\n",
            "Running Evaluation: 100%|██████████████████████████████████████████████████████████████| 25/25 [00:16<00:00,  1.53it/s]\n",
            "C:\\Users\\Domenico\\.conda\\envs\\tf\\lib\\site-packages\\simpletransformers\\classification\\classification_model.py:612: UserWarning: Dataframe headers not specified. Falling back to using column 0 as text and column 1 as labels.\n",
            "  warnings.warn(\n"
          ]
        },
        {
          "output_type": "stream",
          "name": "stdout",
          "text": [
            "{'mcc': 0.3551698299029901, 'tp': 76, 'tn': 59, 'fp': 41, 'fn': 24, 'auroc': 0.7198000000000001, 'auprc': 0.7162661581100818, 'eval_loss': 0.8044268965721131}\n",
            "Correct predictions are:  135\n",
            "Total predictions are:  200\n",
            "Accuracy on test set is: 0.675 \n",
            "\n",
            "\n",
            "\n",
            "EPOCH NUMBER:  5\n",
            "\n",
            "NOW TRAIN THE MODEL.\n"
          ]
        },
        {
          "output_type": "stream",
          "name": "stderr",
          "text": [
            "  0%|▎                                                                                 | 1/300 [00:09<45:04,  9.05s/it]\n",
            "Epoch 1 of 1:   0%|                                                                              | 0/1 [00:00<?, ?it/s]\n",
            "Running Epoch 0 of 1:   0%|                                                                     | 0/38 [00:00<?, ?it/s]\u001b[A\n",
            "Running Epoch 0 of 1:   3%|█▌                                                           | 1/38 [00:02<01:37,  2.65s/it]\u001b[A\n",
            "Running Epoch 0 of 1:   5%|███▏                                                         | 2/38 [00:05<01:34,  2.63s/it]\u001b[A\n",
            "Running Epoch 0 of 1:   8%|████▊                                                        | 3/38 [00:07<01:32,  2.65s/it]\u001b[A\n",
            "Running Epoch 0 of 1:  11%|██████▍                                                      | 4/38 [00:10<01:31,  2.69s/it]\u001b[A\n",
            "Running Epoch 0 of 1:  13%|████████                                                     | 5/38 [00:13<01:28,  2.68s/it]\u001b[A\n",
            "Running Epoch 0 of 1:  16%|█████████▋                                                   | 6/38 [00:16<01:25,  2.68s/it]\u001b[A\n",
            "Running Epoch 0 of 1:  18%|███████████▏                                                 | 7/38 [00:18<01:23,  2.69s/it]\u001b[A\n",
            "Running Epoch 0 of 1:  21%|████████████▊                                                | 8/38 [00:21<01:21,  2.71s/it]\u001b[A\n",
            "Running Epoch 0 of 1:  24%|██████████████▍                                              | 9/38 [00:24<01:18,  2.70s/it]\u001b[A\n",
            "Running Epoch 0 of 1:  26%|███████████████▊                                            | 10/38 [00:26<01:15,  2.69s/it]\u001b[A\n",
            "Running Epoch 0 of 1:  29%|█████████████████▎                                          | 11/38 [00:29<01:12,  2.69s/it]\u001b[A\n",
            "Running Epoch 0 of 1:  32%|██████████████████▉                                         | 12/38 [00:32<01:09,  2.69s/it]\u001b[A\n",
            "Running Epoch 0 of 1:  34%|████████████████████▌                                       | 13/38 [00:34<01:07,  2.68s/it]\u001b[A\n",
            "Running Epoch 0 of 1:  37%|██████████████████████                                      | 14/38 [00:37<01:04,  2.68s/it]\u001b[A\n",
            "Running Epoch 0 of 1:  39%|███████████████████████▋                                    | 15/38 [00:40<01:01,  2.66s/it]\u001b[A\n",
            "Running Epoch 0 of 1:  42%|█████████████████████████▎                                  | 16/38 [00:42<00:58,  2.67s/it]\u001b[A\n",
            "Running Epoch 0 of 1:  45%|██████████████████████████▊                                 | 17/38 [00:45<00:56,  2.69s/it]\u001b[A\n",
            "Running Epoch 0 of 1:  47%|████████████████████████████▍                               | 18/38 [00:48<00:53,  2.69s/it]\u001b[A\n",
            "Running Epoch 0 of 1:  50%|██████████████████████████████                              | 19/38 [00:51<00:51,  2.69s/it]\u001b[A\n",
            "Running Epoch 0 of 1:  53%|███████████████████████████████▌                            | 20/38 [00:53<00:48,  2.70s/it]\u001b[A\n",
            "Running Epoch 0 of 1:  55%|█████████████████████████████████▏                          | 21/38 [00:56<00:46,  2.72s/it]\u001b[A\n",
            "Running Epoch 0 of 1:  58%|██████████████████████████████████▋                         | 22/38 [00:59<00:43,  2.72s/it]\u001b[A\n",
            "Running Epoch 0 of 1:  61%|████████████████████████████████████▎                       | 23/38 [01:01<00:40,  2.72s/it]\u001b[A\n",
            "Running Epoch 0 of 1:  63%|█████████████████████████████████████▉                      | 24/38 [01:04<00:38,  2.73s/it]\u001b[A\n",
            "Running Epoch 0 of 1:  66%|███████████████████████████████████████▍                    | 25/38 [01:07<00:35,  2.72s/it]\u001b[A\n",
            "Running Epoch 0 of 1:  68%|█████████████████████████████████████████                   | 26/38 [01:10<00:32,  2.72s/it]\u001b[A\n",
            "Running Epoch 0 of 1:  71%|██████████████████████████████████████████▋                 | 27/38 [01:12<00:29,  2.71s/it]\u001b[A\n",
            "Running Epoch 0 of 1:  74%|████████████████████████████████████████████▏               | 28/38 [01:15<00:27,  2.72s/it]\u001b[A\n",
            "Running Epoch 0 of 1:  76%|█████████████████████████████████████████████▊              | 29/38 [01:18<00:24,  2.72s/it]\u001b[A\n",
            "Running Epoch 0 of 1:  79%|███████████████████████████████████████████████▎            | 30/38 [01:21<00:21,  2.74s/it]\u001b[A\n",
            "Running Epoch 0 of 1:  82%|████████████████████████████████████████████████▉           | 31/38 [01:23<00:19,  2.73s/it]\u001b[A\n",
            "Running Epoch 0 of 1:  84%|██████████████████████████████████████████████████▌         | 32/38 [01:26<00:16,  2.71s/it]\u001b[A\n",
            "Running Epoch 0 of 1:  87%|████████████████████████████████████████████████████        | 33/38 [01:29<00:13,  2.71s/it]\u001b[A\n",
            "Running Epoch 0 of 1:  89%|█████████████████████████████████████████████████████▋      | 34/38 [01:31<00:10,  2.71s/it]\u001b[A\n",
            "Running Epoch 0 of 1:  92%|███████████████████████████████████████████████████████▎    | 35/38 [01:34<00:08,  2.69s/it]\u001b[A\n",
            "Running Epoch 0 of 1:  95%|████████████████████████████████████████████████████████▊   | 36/38 [01:37<00:05,  2.68s/it]\u001b[A\n",
            "Running Epoch 0 of 1:  97%|██████████████████████████████████████████████████████████▍ | 37/38 [01:39<00:02,  2.68s/it]\u001b[A\n",
            "Running Epoch 0 of 1: 100%|████████████████████████████████████████████████████████████| 38/38 [01:41<00:00,  2.67s/it]\n",
            "Epoch 1 of 1: 100%|█████████████████████████████████████████████████████████████████████| 1/1 [01:41<00:00, 101.56s/it]\n",
            "C:\\Users\\Domenico\\.conda\\envs\\tf\\lib\\site-packages\\simpletransformers\\classification\\classification_model.py:1454: UserWarning: Dataframe headers not specified. Falling back to using column 0 as text and column 1 as labels.\n",
            "  warnings.warn(\n"
          ]
        },
        {
          "output_type": "stream",
          "name": "stdout",
          "text": [
            "\n",
            "NOW EVALUATE THE TEST DF.\n"
          ]
        },
        {
          "output_type": "stream",
          "name": "stderr",
          "text": [
            "  0%|▍                                                                                 | 1/200 [00:07<25:12,  7.60s/it]\n",
            "Running Evaluation: 100%|██████████████████████████████████████████████████████████████| 25/25 [00:16<00:00,  1.52it/s]\n",
            "C:\\Users\\Domenico\\.conda\\envs\\tf\\lib\\site-packages\\simpletransformers\\classification\\classification_model.py:612: UserWarning: Dataframe headers not specified. Falling back to using column 0 as text and column 1 as labels.\n",
            "  warnings.warn(\n"
          ]
        },
        {
          "output_type": "stream",
          "name": "stdout",
          "text": [
            "{'mcc': 0.32006401920640226, 'tp': 67, 'tn': 65, 'fp': 35, 'fn': 33, 'auroc': 0.7164, 'auprc': 0.7035798141517471, 'eval_loss': 1.0399076002836227}\n",
            "Correct predictions are:  132\n",
            "Total predictions are:  200\n",
            "Accuracy on test set is: 0.66 \n",
            "\n",
            "\n",
            "\n",
            "EPOCH NUMBER:  6\n",
            "\n",
            "NOW TRAIN THE MODEL.\n"
          ]
        },
        {
          "output_type": "stream",
          "name": "stderr",
          "text": [
            "  0%|▎                                                                                 | 1/300 [00:08<44:42,  8.97s/it]\n",
            "Epoch 1 of 1:   0%|                                                                              | 0/1 [00:00<?, ?it/s]\n",
            "Running Epoch 0 of 1:   0%|                                                                     | 0/38 [00:00<?, ?it/s]\u001b[A\n",
            "Running Epoch 0 of 1:   3%|█▌                                                           | 1/38 [00:02<01:38,  2.65s/it]\u001b[A\n",
            "Running Epoch 0 of 1:   5%|███▏                                                         | 2/38 [00:05<01:36,  2.68s/it]\u001b[A\n",
            "Running Epoch 0 of 1:   8%|████▊                                                        | 3/38 [00:07<01:33,  2.66s/it]\u001b[A\n",
            "Running Epoch 0 of 1:  11%|██████▍                                                      | 4/38 [00:10<01:31,  2.69s/it]\u001b[A\n",
            "Running Epoch 0 of 1:  13%|████████                                                     | 5/38 [00:13<01:29,  2.71s/it]\u001b[A\n",
            "Running Epoch 0 of 1:  16%|█████████▋                                                   | 6/38 [00:16<01:25,  2.68s/it]\u001b[A\n",
            "Running Epoch 0 of 1:  18%|███████████▏                                                 | 7/38 [00:18<01:23,  2.68s/it]\u001b[A\n",
            "Running Epoch 0 of 1:  21%|████████████▊                                                | 8/38 [00:21<01:21,  2.70s/it]\u001b[A\n",
            "Running Epoch 0 of 1:  24%|██████████████▍                                              | 9/38 [00:24<01:18,  2.72s/it]\u001b[A\n",
            "Running Epoch 0 of 1:  26%|███████████████▊                                            | 10/38 [00:26<01:15,  2.70s/it]\u001b[A\n",
            "Running Epoch 0 of 1:  29%|█████████████████▎                                          | 11/38 [00:29<01:12,  2.69s/it]\u001b[A\n",
            "Running Epoch 0 of 1:  32%|██████████████████▉                                         | 12/38 [00:32<01:10,  2.70s/it]\u001b[A\n",
            "Running Epoch 0 of 1:  34%|████████████████████▌                                       | 13/38 [00:35<01:07,  2.70s/it]\u001b[A\n",
            "Running Epoch 0 of 1:  37%|██████████████████████                                      | 14/38 [00:37<01:05,  2.73s/it]\u001b[A\n",
            "Running Epoch 0 of 1:  39%|███████████████████████▋                                    | 15/38 [00:40<01:02,  2.73s/it]\u001b[A\n",
            "Running Epoch 0 of 1:  42%|█████████████████████████▎                                  | 16/38 [00:43<00:59,  2.71s/it]\u001b[A\n",
            "Running Epoch 0 of 1:  45%|██████████████████████████▊                                 | 17/38 [00:45<00:57,  2.72s/it]\u001b[A\n",
            "Running Epoch 0 of 1:  47%|████████████████████████████▍                               | 18/38 [00:48<00:54,  2.71s/it]\u001b[A\n",
            "Running Epoch 0 of 1:  50%|██████████████████████████████                              | 19/38 [00:51<00:51,  2.71s/it]\u001b[A\n",
            "Running Epoch 0 of 1:  53%|███████████████████████████████▌                            | 20/38 [00:54<00:48,  2.70s/it]\u001b[A\n",
            "Running Epoch 0 of 1:  55%|█████████████████████████████████▏                          | 21/38 [00:56<00:46,  2.71s/it]\u001b[A\n",
            "Running Epoch 0 of 1:  58%|██████████████████████████████████▋                         | 22/38 [00:59<00:43,  2.72s/it]\u001b[A\n",
            "Running Epoch 0 of 1:  61%|████████████████████████████████████▎                       | 23/38 [01:02<00:40,  2.71s/it]\u001b[A\n",
            "Running Epoch 0 of 1:  63%|█████████████████████████████████████▉                      | 24/38 [01:04<00:37,  2.70s/it]\u001b[A\n",
            "Running Epoch 0 of 1:  66%|███████████████████████████████████████▍                    | 25/38 [01:07<00:34,  2.69s/it]\u001b[A\n",
            "Running Epoch 0 of 1:  68%|█████████████████████████████████████████                   | 26/38 [01:10<00:32,  2.73s/it]\u001b[A\n",
            "Running Epoch 0 of 1:  71%|██████████████████████████████████████████▋                 | 27/38 [01:13<00:29,  2.72s/it]\u001b[A\n",
            "Running Epoch 0 of 1:  74%|████████████████████████████████████████████▏               | 28/38 [01:15<00:27,  2.72s/it]\u001b[A\n",
            "Running Epoch 0 of 1:  76%|█████████████████████████████████████████████▊              | 29/38 [01:18<00:24,  2.69s/it]\u001b[A\n",
            "Running Epoch 0 of 1:  79%|███████████████████████████████████████████████▎            | 30/38 [01:21<00:21,  2.69s/it]\u001b[A\n",
            "Running Epoch 0 of 1:  82%|████████████████████████████████████████████████▉           | 31/38 [01:23<00:18,  2.71s/it]\u001b[A\n",
            "Running Epoch 0 of 1:  84%|██████████████████████████████████████████████████▌         | 32/38 [01:26<00:16,  2.72s/it]\u001b[A\n",
            "Running Epoch 0 of 1:  87%|████████████████████████████████████████████████████        | 33/38 [01:29<00:13,  2.71s/it]\u001b[A\n",
            "Running Epoch 0 of 1:  89%|█████████████████████████████████████████████████████▋      | 34/38 [01:31<00:10,  2.70s/it]\u001b[A\n",
            "Running Epoch 0 of 1:  92%|███████████████████████████████████████████████████████▎    | 35/38 [01:34<00:08,  2.69s/it]\u001b[A\n",
            "Running Epoch 0 of 1:  95%|████████████████████████████████████████████████████████▊   | 36/38 [01:37<00:05,  2.70s/it]\u001b[A\n",
            "Running Epoch 0 of 1:  97%|██████████████████████████████████████████████████████████▍ | 37/38 [01:40<00:02,  2.71s/it]\u001b[A\n",
            "Running Epoch 0 of 1: 100%|████████████████████████████████████████████████████████████| 38/38 [01:41<00:00,  2.68s/it]\n",
            "Epoch 1 of 1: 100%|█████████████████████████████████████████████████████████████████████| 1/1 [01:41<00:00, 101.85s/it]\n",
            "C:\\Users\\Domenico\\.conda\\envs\\tf\\lib\\site-packages\\simpletransformers\\classification\\classification_model.py:1454: UserWarning: Dataframe headers not specified. Falling back to using column 0 as text and column 1 as labels.\n",
            "  warnings.warn(\n"
          ]
        },
        {
          "output_type": "stream",
          "name": "stdout",
          "text": [
            "\n",
            "NOW EVALUATE THE TEST DF.\n"
          ]
        },
        {
          "output_type": "stream",
          "name": "stderr",
          "text": [
            "  0%|▍                                                                                 | 1/200 [00:07<25:06,  7.57s/it]\n",
            "Running Evaluation: 100%|██████████████████████████████████████████████████████████████| 25/25 [00:16<00:00,  1.51it/s]\n",
            "C:\\Users\\Domenico\\.conda\\envs\\tf\\lib\\site-packages\\simpletransformers\\classification\\classification_model.py:612: UserWarning: Dataframe headers not specified. Falling back to using column 0 as text and column 1 as labels.\n",
            "  warnings.warn(\n"
          ]
        },
        {
          "output_type": "stream",
          "name": "stdout",
          "text": [
            "{'mcc': 0.33041327505236084, 'tp': 69, 'tn': 64, 'fp': 36, 'fn': 31, 'auroc': 0.7208, 'auprc': 0.6930449460368534, 'eval_loss': 1.3858859564363957}\n",
            "Correct predictions are:  133\n",
            "Total predictions are:  200\n",
            "Accuracy on test set is: 0.665 \n",
            "\n",
            "\n",
            "\n",
            "EPOCH NUMBER:  7\n",
            "\n",
            "NOW TRAIN THE MODEL.\n"
          ]
        },
        {
          "output_type": "stream",
          "name": "stderr",
          "text": [
            "  0%|▎                                                                                 | 1/300 [00:08<44:20,  8.90s/it]\n",
            "Epoch 1 of 1:   0%|                                                                              | 0/1 [00:00<?, ?it/s]\n",
            "Running Epoch 0 of 1:   0%|                                                                     | 0/38 [00:00<?, ?it/s]\u001b[A\n",
            "Running Epoch 0 of 1:   3%|█▌                                                           | 1/38 [00:02<01:38,  2.67s/it]\u001b[A\n",
            "Running Epoch 0 of 1:   5%|███▏                                                         | 2/38 [00:05<01:35,  2.66s/it]\u001b[A\n",
            "Running Epoch 0 of 1:   8%|████▊                                                        | 3/38 [00:07<01:33,  2.67s/it]\u001b[A\n",
            "Running Epoch 0 of 1:  11%|██████▍                                                      | 4/38 [00:10<01:30,  2.67s/it]\u001b[A\n",
            "Running Epoch 0 of 1:  13%|████████                                                     | 5/38 [00:13<01:27,  2.66s/it]\u001b[A\n",
            "Running Epoch 0 of 1:  16%|█████████▋                                                   | 6/38 [00:15<01:25,  2.66s/it]\u001b[A\n",
            "Running Epoch 0 of 1:  18%|███████████▏                                                 | 7/38 [00:18<01:23,  2.69s/it]\u001b[A\n",
            "Running Epoch 0 of 1:  21%|████████████▊                                                | 8/38 [00:21<01:20,  2.69s/it]\u001b[A\n",
            "Running Epoch 0 of 1:  24%|██████████████▍                                              | 9/38 [00:24<01:17,  2.67s/it]\u001b[A\n",
            "Running Epoch 0 of 1:  26%|███████████████▊                                            | 10/38 [00:26<01:14,  2.68s/it]\u001b[A\n",
            "Running Epoch 0 of 1:  29%|█████████████████▎                                          | 11/38 [00:29<01:12,  2.67s/it]\u001b[A\n",
            "Running Epoch 0 of 1:  32%|██████████████████▉                                         | 12/38 [00:32<01:09,  2.69s/it]\u001b[A\n",
            "Running Epoch 0 of 1:  34%|████████████████████▌                                       | 13/38 [00:34<01:07,  2.69s/it]\u001b[A\n",
            "Running Epoch 0 of 1:  37%|██████████████████████                                      | 14/38 [00:37<01:04,  2.68s/it]\u001b[A\n",
            "Running Epoch 0 of 1:  39%|███████████████████████▋                                    | 15/38 [00:40<01:01,  2.68s/it]\u001b[A\n",
            "Running Epoch 0 of 1:  42%|█████████████████████████▎                                  | 16/38 [00:42<00:58,  2.68s/it]\u001b[A\n",
            "Running Epoch 0 of 1:  45%|██████████████████████████▊                                 | 17/38 [00:45<00:56,  2.68s/it]\u001b[A\n",
            "Running Epoch 0 of 1:  47%|████████████████████████████▍                               | 18/38 [00:48<00:53,  2.69s/it]\u001b[A\n",
            "Running Epoch 0 of 1:  50%|██████████████████████████████                              | 19/38 [00:50<00:51,  2.71s/it]\u001b[A\n",
            "Running Epoch 0 of 1:  53%|███████████████████████████████▌                            | 20/38 [00:53<00:48,  2.69s/it]\u001b[A\n",
            "Running Epoch 0 of 1:  55%|█████████████████████████████████▏                          | 21/38 [00:56<00:46,  2.72s/it]\u001b[A\n",
            "Running Epoch 0 of 1:  58%|██████████████████████████████████▋                         | 22/38 [00:59<00:43,  2.72s/it]\u001b[A\n",
            "Running Epoch 0 of 1:  61%|████████████████████████████████████▎                       | 23/38 [01:01<00:40,  2.73s/it]\u001b[A\n",
            "Running Epoch 0 of 1:  63%|█████████████████████████████████████▉                      | 24/38 [01:04<00:38,  2.73s/it]\u001b[A\n",
            "Running Epoch 0 of 1:  66%|███████████████████████████████████████▍                    | 25/38 [01:07<00:35,  2.70s/it]\u001b[A\n",
            "Running Epoch 0 of 1:  68%|█████████████████████████████████████████                   | 26/38 [01:10<00:32,  2.72s/it]\u001b[A\n",
            "Running Epoch 0 of 1:  71%|██████████████████████████████████████████▋                 | 27/38 [01:12<00:29,  2.72s/it]\u001b[A\n",
            "Running Epoch 0 of 1:  74%|████████████████████████████████████████████▏               | 28/38 [01:15<00:27,  2.71s/it]\u001b[A\n",
            "Running Epoch 0 of 1:  76%|█████████████████████████████████████████████▊              | 29/38 [01:18<00:24,  2.71s/it]\u001b[A\n",
            "Running Epoch 0 of 1:  79%|███████████████████████████████████████████████▎            | 30/38 [01:20<00:21,  2.70s/it]\u001b[A\n",
            "Running Epoch 0 of 1:  82%|████████████████████████████████████████████████▉           | 31/38 [01:23<00:18,  2.70s/it]\u001b[A\n",
            "Running Epoch 0 of 1:  84%|██████████████████████████████████████████████████▌         | 32/38 [01:26<00:16,  2.69s/it]\u001b[A\n",
            "Running Epoch 0 of 1:  87%|████████████████████████████████████████████████████        | 33/38 [01:28<00:13,  2.69s/it]\u001b[A\n",
            "Running Epoch 0 of 1:  89%|█████████████████████████████████████████████████████▋      | 34/38 [01:31<00:10,  2.69s/it]\u001b[A\n",
            "Running Epoch 0 of 1:  92%|███████████████████████████████████████████████████████▎    | 35/38 [01:34<00:08,  2.68s/it]\u001b[A\n",
            "Running Epoch 0 of 1:  95%|████████████████████████████████████████████████████████▊   | 36/38 [01:37<00:05,  2.71s/it]\u001b[A\n",
            "Running Epoch 0 of 1:  97%|██████████████████████████████████████████████████████████▍ | 37/38 [01:39<00:02,  2.69s/it]\u001b[A\n",
            "Running Epoch 0 of 1: 100%|████████████████████████████████████████████████████████████| 38/38 [01:41<00:00,  2.67s/it]\n",
            "Epoch 1 of 1: 100%|█████████████████████████████████████████████████████████████████████| 1/1 [01:41<00:00, 101.43s/it]\n",
            "C:\\Users\\Domenico\\.conda\\envs\\tf\\lib\\site-packages\\simpletransformers\\classification\\classification_model.py:1454: UserWarning: Dataframe headers not specified. Falling back to using column 0 as text and column 1 as labels.\n",
            "  warnings.warn(\n"
          ]
        },
        {
          "output_type": "stream",
          "name": "stdout",
          "text": [
            "\n",
            "NOW EVALUATE THE TEST DF.\n"
          ]
        },
        {
          "output_type": "stream",
          "name": "stderr",
          "text": [
            "  0%|▍                                                                                 | 1/200 [00:07<25:35,  7.72s/it]\n",
            "Running Evaluation: 100%|██████████████████████████████████████████████████████████████| 25/25 [00:16<00:00,  1.51it/s]\n",
            "C:\\Users\\Domenico\\.conda\\envs\\tf\\lib\\site-packages\\simpletransformers\\classification\\classification_model.py:612: UserWarning: Dataframe headers not specified. Falling back to using column 0 as text and column 1 as labels.\n",
            "  warnings.warn(\n"
          ]
        },
        {
          "output_type": "stream",
          "name": "stdout",
          "text": [
            "{'mcc': 0.3337763466999546, 'tp': 74, 'tn': 59, 'fp': 41, 'fn': 26, 'auroc': 0.7106, 'auprc': 0.6922569021562694, 'eval_loss': 1.7385766865313053}\n",
            "Correct predictions are:  133\n",
            "Total predictions are:  200\n",
            "Accuracy on test set is: 0.665 \n",
            "\n",
            "\n",
            "\n",
            "EPOCH NUMBER:  8\n",
            "\n",
            "NOW TRAIN THE MODEL.\n"
          ]
        },
        {
          "output_type": "stream",
          "name": "stderr",
          "text": [
            "  0%|▎                                                                                 | 1/300 [00:08<44:11,  8.87s/it]\n",
            "Epoch 1 of 1:   0%|                                                                              | 0/1 [00:00<?, ?it/s]\n",
            "Running Epoch 0 of 1:   0%|                                                                     | 0/38 [00:00<?, ?it/s]\u001b[A\n",
            "Running Epoch 0 of 1:   3%|█▌                                                           | 1/38 [00:02<01:38,  2.66s/it]\u001b[A\n",
            "Running Epoch 0 of 1:   5%|███▏                                                         | 2/38 [00:05<01:37,  2.72s/it]\u001b[A\n",
            "Running Epoch 0 of 1:   8%|████▊                                                        | 3/38 [00:08<01:35,  2.73s/it]\u001b[A\n",
            "Running Epoch 0 of 1:  11%|██████▍                                                      | 4/38 [00:10<01:32,  2.71s/it]\u001b[A\n",
            "Running Epoch 0 of 1:  13%|████████                                                     | 5/38 [00:13<01:30,  2.74s/it]\u001b[A\n",
            "Running Epoch 0 of 1:  16%|█████████▋                                                   | 6/38 [00:16<01:26,  2.71s/it]\u001b[A\n",
            "Running Epoch 0 of 1:  18%|███████████▏                                                 | 7/38 [00:18<01:23,  2.71s/it]\u001b[A\n",
            "Running Epoch 0 of 1:  21%|████████████▊                                                | 8/38 [00:21<01:20,  2.69s/it]\u001b[A\n",
            "Running Epoch 0 of 1:  24%|██████████████▍                                              | 9/38 [00:24<01:18,  2.72s/it]\u001b[A\n",
            "Running Epoch 0 of 1:  26%|███████████████▊                                            | 10/38 [00:27<01:16,  2.72s/it]\u001b[A\n",
            "Running Epoch 0 of 1:  29%|█████████████████▎                                          | 11/38 [00:29<01:13,  2.72s/it]\u001b[A\n",
            "Running Epoch 0 of 1:  32%|██████████████████▉                                         | 12/38 [00:32<01:10,  2.71s/it]\u001b[A\n",
            "Running Epoch 0 of 1:  34%|████████████████████▌                                       | 13/38 [00:35<01:07,  2.70s/it]\u001b[A\n",
            "Running Epoch 0 of 1:  37%|██████████████████████                                      | 14/38 [00:37<01:05,  2.72s/it]\u001b[A\n",
            "Running Epoch 0 of 1:  39%|███████████████████████▋                                    | 15/38 [00:40<01:02,  2.73s/it]\u001b[A\n",
            "Running Epoch 0 of 1:  42%|█████████████████████████▎                                  | 16/38 [00:43<01:00,  2.74s/it]\u001b[A\n",
            "Running Epoch 0 of 1:  45%|██████████████████████████▊                                 | 17/38 [00:46<00:57,  2.73s/it]\u001b[A\n",
            "Running Epoch 0 of 1:  47%|████████████████████████████▍                               | 18/38 [00:48<00:54,  2.74s/it]\u001b[A\n",
            "Running Epoch 0 of 1:  50%|██████████████████████████████                              | 19/38 [00:51<00:52,  2.74s/it]\u001b[A\n",
            "Running Epoch 0 of 1:  53%|███████████████████████████████▌                            | 20/38 [00:54<00:49,  2.74s/it]\u001b[A\n",
            "Running Epoch 0 of 1:  55%|█████████████████████████████████▏                          | 21/38 [00:57<00:46,  2.75s/it]\u001b[A\n",
            "Running Epoch 0 of 1:  58%|██████████████████████████████████▋                         | 22/38 [00:59<00:43,  2.74s/it]\u001b[A\n",
            "Running Epoch 0 of 1:  61%|████████████████████████████████████▎                       | 23/38 [01:02<00:41,  2.79s/it]\u001b[A\n",
            "Running Epoch 0 of 1:  63%|█████████████████████████████████████▉                      | 24/38 [01:05<00:39,  2.79s/it]\u001b[A\n",
            "Running Epoch 0 of 1:  66%|███████████████████████████████████████▍                    | 25/38 [01:08<00:36,  2.77s/it]\u001b[A\n",
            "Running Epoch 0 of 1:  68%|█████████████████████████████████████████                   | 26/38 [01:11<00:32,  2.74s/it]\u001b[A\n",
            "Running Epoch 0 of 1:  71%|██████████████████████████████████████████▋                 | 27/38 [01:13<00:29,  2.73s/it]\u001b[A\n",
            "Running Epoch 0 of 1:  74%|████████████████████████████████████████████▏               | 28/38 [01:16<00:27,  2.73s/it]\u001b[A\n",
            "Running Epoch 0 of 1:  76%|█████████████████████████████████████████████▊              | 29/38 [01:19<00:24,  2.71s/it]\u001b[A\n",
            "Running Epoch 0 of 1:  79%|███████████████████████████████████████████████▎            | 30/38 [01:21<00:21,  2.70s/it]\u001b[A\n",
            "Running Epoch 0 of 1:  82%|████████████████████████████████████████████████▉           | 31/38 [01:24<00:19,  2.72s/it]\u001b[A\n",
            "Running Epoch 0 of 1:  84%|██████████████████████████████████████████████████▌         | 32/38 [01:27<00:16,  2.71s/it]\u001b[A\n",
            "Running Epoch 0 of 1:  87%|████████████████████████████████████████████████████        | 33/38 [01:29<00:13,  2.69s/it]\u001b[A\n",
            "Running Epoch 0 of 1:  89%|█████████████████████████████████████████████████████▋      | 34/38 [01:32<00:10,  2.68s/it]\u001b[A\n",
            "Running Epoch 0 of 1:  92%|███████████████████████████████████████████████████████▎    | 35/38 [01:35<00:08,  2.70s/it]\u001b[A\n",
            "Running Epoch 0 of 1:  95%|████████████████████████████████████████████████████████▊   | 36/38 [01:38<00:05,  2.70s/it]\u001b[A\n",
            "Running Epoch 0 of 1:  97%|██████████████████████████████████████████████████████████▍ | 37/38 [01:40<00:02,  2.71s/it]\u001b[A\n",
            "Running Epoch 0 of 1: 100%|████████████████████████████████████████████████████████████| 38/38 [01:42<00:00,  2.70s/it]\n",
            "Epoch 1 of 1: 100%|█████████████████████████████████████████████████████████████████████| 1/1 [01:42<00:00, 102.56s/it]\n",
            "C:\\Users\\Domenico\\.conda\\envs\\tf\\lib\\site-packages\\simpletransformers\\classification\\classification_model.py:1454: UserWarning: Dataframe headers not specified. Falling back to using column 0 as text and column 1 as labels.\n",
            "  warnings.warn(\n"
          ]
        },
        {
          "output_type": "stream",
          "name": "stdout",
          "text": [
            "\n",
            "NOW EVALUATE THE TEST DF.\n"
          ]
        },
        {
          "output_type": "stream",
          "name": "stderr",
          "text": [
            "  0%|▍                                                                                 | 1/200 [00:07<24:49,  7.49s/it]\n",
            "Running Evaluation: 100%|██████████████████████████████████████████████████████████████| 25/25 [00:16<00:00,  1.52it/s]\n",
            "C:\\Users\\Domenico\\.conda\\envs\\tf\\lib\\site-packages\\simpletransformers\\classification\\classification_model.py:612: UserWarning: Dataframe headers not specified. Falling back to using column 0 as text and column 1 as labels.\n",
            "  warnings.warn(\n"
          ]
        },
        {
          "output_type": "stream",
          "name": "stdout",
          "text": [
            "{'mcc': 0.32025630761017426, 'tp': 68, 'tn': 64, 'fp': 36, 'fn': 32, 'auroc': 0.6869, 'auprc': 0.6537057234535374, 'eval_loss': 2.0540955543518065}\n",
            "Correct predictions are:  132\n",
            "Total predictions are:  200\n",
            "Accuracy on test set is: 0.66 \n",
            "\n",
            "\n",
            "\n",
            "EPOCH NUMBER:  9\n",
            "\n",
            "NOW TRAIN THE MODEL.\n"
          ]
        },
        {
          "output_type": "stream",
          "name": "stderr",
          "text": [
            "  0%|▎                                                                                 | 1/300 [00:08<44:00,  8.83s/it]\n",
            "Epoch 1 of 1:   0%|                                                                              | 0/1 [00:00<?, ?it/s]\n",
            "Running Epoch 0 of 1:   0%|                                                                     | 0/38 [00:00<?, ?it/s]\u001b[A\n",
            "Running Epoch 0 of 1:   3%|█▌                                                           | 1/38 [00:02<01:38,  2.67s/it]\u001b[A\n",
            "Running Epoch 0 of 1:   5%|███▏                                                         | 2/38 [00:05<01:37,  2.71s/it]\u001b[A\n",
            "Running Epoch 0 of 1:   8%|████▊                                                        | 3/38 [00:08<01:34,  2.69s/it]\u001b[A\n",
            "Running Epoch 0 of 1:  11%|██████▍                                                      | 4/38 [00:10<01:31,  2.70s/it]\u001b[A\n",
            "Running Epoch 0 of 1:  13%|████████                                                     | 5/38 [00:13<01:29,  2.72s/it]\u001b[A\n",
            "Running Epoch 0 of 1:  16%|█████████▋                                                   | 6/38 [00:16<01:27,  2.73s/it]\u001b[A\n",
            "Running Epoch 0 of 1:  18%|███████████▏                                                 | 7/38 [00:18<01:23,  2.71s/it]\u001b[A\n",
            "Running Epoch 0 of 1:  21%|████████████▊                                                | 8/38 [00:21<01:21,  2.71s/it]\u001b[A\n",
            "Running Epoch 0 of 1:  24%|██████████████▍                                              | 9/38 [00:24<01:18,  2.71s/it]\u001b[A\n",
            "Running Epoch 0 of 1:  26%|███████████████▊                                            | 10/38 [00:27<01:16,  2.73s/it]\u001b[A\n",
            "Running Epoch 0 of 1:  29%|█████████████████▎                                          | 11/38 [00:29<01:13,  2.71s/it]\u001b[A\n",
            "Running Epoch 0 of 1:  32%|██████████████████▉                                         | 12/38 [00:32<01:10,  2.70s/it]\u001b[A\n",
            "Running Epoch 0 of 1:  34%|████████████████████▌                                       | 13/38 [00:35<01:07,  2.69s/it]\u001b[A\n",
            "Running Epoch 0 of 1:  37%|██████████████████████                                      | 14/38 [00:37<01:04,  2.69s/it]\u001b[A\n",
            "Running Epoch 0 of 1:  39%|███████████████████████▋                                    | 15/38 [00:40<01:01,  2.68s/it]\u001b[A\n",
            "Running Epoch 0 of 1:  42%|█████████████████████████▎                                  | 16/38 [00:43<00:59,  2.70s/it]\u001b[A\n",
            "Running Epoch 0 of 1:  45%|██████████████████████████▊                                 | 17/38 [00:45<00:56,  2.71s/it]\u001b[A\n",
            "Running Epoch 0 of 1:  47%|████████████████████████████▍                               | 18/38 [00:48<00:54,  2.71s/it]\u001b[A\n",
            "Running Epoch 0 of 1:  50%|██████████████████████████████                              | 19/38 [00:51<00:51,  2.69s/it]\u001b[A\n",
            "Running Epoch 0 of 1:  53%|███████████████████████████████▌                            | 20/38 [00:54<00:48,  2.71s/it]\u001b[A\n",
            "Running Epoch 0 of 1:  55%|█████████████████████████████████▏                          | 21/38 [00:56<00:46,  2.71s/it]\u001b[A\n",
            "Running Epoch 0 of 1:  58%|██████████████████████████████████▋                         | 22/38 [00:59<00:43,  2.72s/it]\u001b[A\n",
            "Running Epoch 0 of 1:  61%|████████████████████████████████████▎                       | 23/38 [01:02<00:40,  2.71s/it]\u001b[A\n",
            "Running Epoch 0 of 1:  63%|█████████████████████████████████████▉                      | 24/38 [01:04<00:37,  2.70s/it]\u001b[A\n",
            "Running Epoch 0 of 1:  66%|███████████████████████████████████████▍                    | 25/38 [01:07<00:35,  2.70s/it]\u001b[A\n",
            "Running Epoch 0 of 1:  68%|█████████████████████████████████████████                   | 26/38 [01:10<00:32,  2.70s/it]\u001b[A\n",
            "Running Epoch 0 of 1:  71%|██████████████████████████████████████████▋                 | 27/38 [01:13<00:29,  2.71s/it]\u001b[A\n",
            "Running Epoch 0 of 1:  74%|████████████████████████████████████████████▏               | 28/38 [01:15<00:27,  2.70s/it]\u001b[A\n",
            "Running Epoch 0 of 1:  76%|█████████████████████████████████████████████▊              | 29/38 [01:18<00:24,  2.69s/it]\u001b[A\n",
            "Running Epoch 0 of 1:  79%|███████████████████████████████████████████████▎            | 30/38 [01:21<00:21,  2.68s/it]\u001b[A\n",
            "Running Epoch 0 of 1:  82%|████████████████████████████████████████████████▉           | 31/38 [01:23<00:18,  2.69s/it]\u001b[A\n",
            "Running Epoch 0 of 1:  84%|██████████████████████████████████████████████████▌         | 32/38 [01:26<00:16,  2.69s/it]\u001b[A\n",
            "Running Epoch 0 of 1:  87%|████████████████████████████████████████████████████        | 33/38 [01:29<00:13,  2.69s/it]\u001b[A\n",
            "Running Epoch 0 of 1:  89%|█████████████████████████████████████████████████████▋      | 34/38 [01:31<00:10,  2.69s/it]\u001b[A\n",
            "Running Epoch 0 of 1:  92%|███████████████████████████████████████████████████████▎    | 35/38 [01:34<00:08,  2.68s/it]\u001b[A\n",
            "Running Epoch 0 of 1:  95%|████████████████████████████████████████████████████████▊   | 36/38 [01:37<00:05,  2.69s/it]\u001b[A\n",
            "Running Epoch 0 of 1:  97%|██████████████████████████████████████████████████████████▍ | 37/38 [01:39<00:02,  2.69s/it]\u001b[A\n",
            "Running Epoch 0 of 1: 100%|████████████████████████████████████████████████████████████| 38/38 [01:41<00:00,  2.67s/it]\n",
            "Epoch 1 of 1: 100%|█████████████████████████████████████████████████████████████████████| 1/1 [01:41<00:00, 101.63s/it]\n",
            "C:\\Users\\Domenico\\.conda\\envs\\tf\\lib\\site-packages\\simpletransformers\\classification\\classification_model.py:1454: UserWarning: Dataframe headers not specified. Falling back to using column 0 as text and column 1 as labels.\n",
            "  warnings.warn(\n"
          ]
        },
        {
          "output_type": "stream",
          "name": "stdout",
          "text": [
            "\n",
            "NOW EVALUATE THE TEST DF.\n"
          ]
        },
        {
          "output_type": "stream",
          "name": "stderr",
          "text": [
            "  0%|▍                                                                                 | 1/200 [00:07<25:16,  7.62s/it]\n",
            "Running Evaluation: 100%|██████████████████████████████████████████████████████████████| 25/25 [00:16<00:00,  1.53it/s]\n"
          ]
        },
        {
          "output_type": "stream",
          "name": "stdout",
          "text": [
            "{'mcc': 0.3021836115095176, 'tp': 59, 'tn': 71, 'fp': 29, 'fn': 41, 'auroc': 0.7033, 'auprc': 0.6542683288761462, 'eval_loss': 2.419726923108101}\n",
            "Correct predictions are:  130\n",
            "Total predictions are:  200\n",
            "Accuracy on test set is: 0.65 \n",
            "\n",
            "\n",
            "[0.51, 0.67, 0.67, 0.68, 0.675, 0.66, 0.665, 0.665, 0.66, 0.65]\n"
          ]
        },
        {
          "output_type": "stream",
          "name": "stderr",
          "text": [
            "Some weights of the model checkpoint at roberta-base were not used when initializing RobertaForSequenceClassification: ['lm_head.dense.weight', 'roberta.pooler.dense.bias', 'lm_head.layer_norm.weight', 'roberta.pooler.dense.weight', 'lm_head.layer_norm.bias', 'lm_head.dense.bias', 'lm_head.decoder.weight', 'lm_head.bias']\n",
            "- This IS expected if you are initializing RobertaForSequenceClassification from the checkpoint of a model trained on another task or with another architecture (e.g. initializing a BertForSequenceClassification model from a BertForPreTraining model).\n",
            "- This IS NOT expected if you are initializing RobertaForSequenceClassification from the checkpoint of a model that you expect to be exactly identical (initializing a BertForSequenceClassification model from a BertForSequenceClassification model).\n",
            "Some weights of RobertaForSequenceClassification were not initialized from the model checkpoint at roberta-base and are newly initialized: ['classifier.out_proj.bias', 'classifier.dense.bias', 'classifier.out_proj.weight', 'classifier.dense.weight']\n",
            "You should probably TRAIN this model on a down-stream task to be able to use it for predictions and inference.\n",
            "C:\\Users\\Domenico\\.conda\\envs\\tf\\lib\\site-packages\\simpletransformers\\classification\\classification_model.py:612: UserWarning: Dataframe headers not specified. Falling back to using column 0 as text and column 1 as labels.\n",
            "  warnings.warn(\n"
          ]
        },
        {
          "output_type": "stream",
          "name": "stdout",
          "text": [
            "\n",
            "EPOCH NUMBER:  0\n",
            "\n",
            "NOW TRAIN THE MODEL.\n"
          ]
        },
        {
          "output_type": "stream",
          "name": "stderr",
          "text": [
            "  0%|▎                                                                                 | 1/300 [00:08<43:42,  8.77s/it]\n",
            "Epoch 1 of 1:   0%|                                                                              | 0/1 [00:00<?, ?it/s]\n",
            "Running Epoch 0 of 1:   0%|                                                                     | 0/38 [00:00<?, ?it/s]\u001b[A\n",
            "Running Epoch 0 of 1:   3%|█▌                                                           | 1/38 [00:02<01:34,  2.55s/it]\u001b[A\n",
            "Running Epoch 0 of 1:   5%|███▏                                                         | 2/38 [00:05<01:33,  2.60s/it]\u001b[A\n",
            "Running Epoch 0 of 1:   8%|████▊                                                        | 3/38 [00:07<01:33,  2.67s/it]\u001b[A\n",
            "Running Epoch 0 of 1:  11%|██████▍                                                      | 4/38 [00:10<01:30,  2.66s/it]\u001b[A\n",
            "Running Epoch 0 of 1:  13%|████████                                                     | 5/38 [00:13<01:28,  2.67s/it]\u001b[A\n",
            "Running Epoch 0 of 1:  16%|█████████▋                                                   | 6/38 [00:16<01:26,  2.70s/it]\u001b[A\n",
            "Running Epoch 0 of 1:  18%|███████████▏                                                 | 7/38 [00:18<01:23,  2.71s/it]\u001b[A\n",
            "Running Epoch 0 of 1:  21%|████████████▊                                                | 8/38 [00:21<01:21,  2.70s/it]\u001b[A\n",
            "Running Epoch 0 of 1:  24%|██████████████▍                                              | 9/38 [00:24<01:18,  2.70s/it]\u001b[A\n",
            "Running Epoch 0 of 1:  26%|███████████████▊                                            | 10/38 [00:26<01:15,  2.69s/it]\u001b[A\n",
            "Running Epoch 0 of 1:  29%|█████████████████▎                                          | 11/38 [00:29<01:12,  2.69s/it]\u001b[A\n",
            "Running Epoch 0 of 1:  32%|██████████████████▉                                         | 12/38 [00:32<01:10,  2.71s/it]\u001b[A\n",
            "Running Epoch 0 of 1:  34%|████████████████████▌                                       | 13/38 [00:34<01:07,  2.71s/it]\u001b[A\n",
            "Running Epoch 0 of 1:  37%|██████████████████████                                      | 14/38 [00:37<01:04,  2.71s/it]\u001b[A\n",
            "Running Epoch 0 of 1:  39%|███████████████████████▋                                    | 15/38 [00:40<01:02,  2.71s/it]\u001b[A\n",
            "Running Epoch 0 of 1:  42%|█████████████████████████▎                                  | 16/38 [00:43<00:59,  2.70s/it]\u001b[A\n",
            "Running Epoch 0 of 1:  45%|██████████████████████████▊                                 | 17/38 [00:45<00:56,  2.70s/it]\u001b[A\n",
            "Running Epoch 0 of 1:  47%|████████████████████████████▍                               | 18/38 [00:48<00:53,  2.69s/it]\u001b[A\n",
            "Running Epoch 0 of 1:  50%|██████████████████████████████                              | 19/38 [00:51<00:51,  2.71s/it]\u001b[A\n",
            "Running Epoch 0 of 1:  53%|███████████████████████████████▌                            | 20/38 [00:53<00:49,  2.72s/it]\u001b[A\n",
            "Running Epoch 0 of 1:  55%|█████████████████████████████████▏                          | 21/38 [00:56<00:46,  2.73s/it]\u001b[A\n",
            "Running Epoch 0 of 1:  58%|██████████████████████████████████▋                         | 22/38 [00:59<00:43,  2.73s/it]\u001b[A\n",
            "Running Epoch 0 of 1:  61%|████████████████████████████████████▎                       | 23/38 [01:02<00:40,  2.72s/it]\u001b[A\n",
            "Running Epoch 0 of 1:  63%|█████████████████████████████████████▉                      | 24/38 [01:04<00:37,  2.71s/it]\u001b[A\n",
            "Running Epoch 0 of 1:  66%|███████████████████████████████████████▍                    | 25/38 [01:07<00:35,  2.72s/it]\u001b[A\n",
            "Running Epoch 0 of 1:  68%|█████████████████████████████████████████                   | 26/38 [01:10<00:32,  2.71s/it]\u001b[A\n",
            "Running Epoch 0 of 1:  71%|██████████████████████████████████████████▋                 | 27/38 [01:12<00:29,  2.71s/it]\u001b[A\n",
            "Running Epoch 0 of 1:  74%|████████████████████████████████████████████▏               | 28/38 [01:15<00:27,  2.71s/it]\u001b[A\n",
            "Running Epoch 0 of 1:  76%|█████████████████████████████████████████████▊              | 29/38 [01:18<00:24,  2.71s/it]\u001b[A\n",
            "Running Epoch 0 of 1:  79%|███████████████████████████████████████████████▎            | 30/38 [01:21<00:21,  2.70s/it]\u001b[A\n",
            "Running Epoch 0 of 1:  82%|████████████████████████████████████████████████▉           | 31/38 [01:23<00:18,  2.70s/it]\u001b[A\n",
            "Running Epoch 0 of 1:  84%|██████████████████████████████████████████████████▌         | 32/38 [01:26<00:16,  2.72s/it]\u001b[A\n",
            "Running Epoch 0 of 1:  87%|████████████████████████████████████████████████████        | 33/38 [01:29<00:13,  2.71s/it]\u001b[A\n",
            "Running Epoch 0 of 1:  89%|█████████████████████████████████████████████████████▋      | 34/38 [01:31<00:10,  2.71s/it]\u001b[A\n",
            "Running Epoch 0 of 1:  92%|███████████████████████████████████████████████████████▎    | 35/38 [01:34<00:08,  2.71s/it]\u001b[A\n",
            "Running Epoch 0 of 1:  95%|████████████████████████████████████████████████████████▊   | 36/38 [01:37<00:05,  2.70s/it]\u001b[A\n",
            "Running Epoch 0 of 1:  97%|██████████████████████████████████████████████████████████▍ | 37/38 [01:39<00:02,  2.70s/it]\u001b[A\n",
            "Running Epoch 0 of 1: 100%|████████████████████████████████████████████████████████████| 38/38 [01:41<00:00,  2.68s/it]\n",
            "Epoch 1 of 1: 100%|█████████████████████████████████████████████████████████████████████| 1/1 [01:41<00:00, 101.82s/it]\n",
            "C:\\Users\\Domenico\\.conda\\envs\\tf\\lib\\site-packages\\simpletransformers\\classification\\classification_model.py:1454: UserWarning: Dataframe headers not specified. Falling back to using column 0 as text and column 1 as labels.\n",
            "  warnings.warn(\n"
          ]
        },
        {
          "output_type": "stream",
          "name": "stdout",
          "text": [
            "\n",
            "NOW EVALUATE THE TEST DF.\n"
          ]
        },
        {
          "output_type": "stream",
          "name": "stderr",
          "text": [
            "  0%|▍                                                                                 | 1/200 [00:07<25:09,  7.58s/it]\n",
            "Running Evaluation: 100%|██████████████████████████████████████████████████████████████| 25/25 [00:16<00:00,  1.53it/s]\n",
            "C:\\Users\\Domenico\\.conda\\envs\\tf\\lib\\site-packages\\simpletransformers\\classification\\classification_model.py:612: UserWarning: Dataframe headers not specified. Falling back to using column 0 as text and column 1 as labels.\n",
            "  warnings.warn(\n"
          ]
        },
        {
          "output_type": "stream",
          "name": "stdout",
          "text": [
            "{'mcc': 0.0, 'tp': 2, 'tn': 98, 'fp': 2, 'fn': 98, 'auroc': 0.6686000000000001, 'auprc': 0.6521586515255756, 'eval_loss': 0.6864362359046936}\n",
            "Correct predictions are:  100\n",
            "Total predictions are:  200\n",
            "Accuracy on test set is: 0.5 \n",
            "\n",
            "\n",
            "\n",
            "EPOCH NUMBER:  1\n",
            "\n",
            "NOW TRAIN THE MODEL.\n"
          ]
        },
        {
          "output_type": "stream",
          "name": "stderr",
          "text": [
            "  0%|▎                                                                                 | 1/300 [00:08<44:33,  8.94s/it]\n",
            "Epoch 1 of 1:   0%|                                                                              | 0/1 [00:00<?, ?it/s]\n",
            "Running Epoch 0 of 1:   0%|                                                                     | 0/38 [00:00<?, ?it/s]\u001b[A\n",
            "Running Epoch 0 of 1:   3%|█▌                                                           | 1/38 [00:02<01:39,  2.69s/it]\u001b[A\n",
            "Running Epoch 0 of 1:   5%|███▏                                                         | 2/38 [00:05<01:36,  2.69s/it]\u001b[A\n",
            "Running Epoch 0 of 1:   8%|████▊                                                        | 3/38 [00:08<01:33,  2.68s/it]\u001b[A\n",
            "Running Epoch 0 of 1:  11%|██████▍                                                      | 4/38 [00:10<01:31,  2.70s/it]\u001b[A\n",
            "Running Epoch 0 of 1:  13%|████████                                                     | 5/38 [00:13<01:29,  2.71s/it]\u001b[A\n",
            "Running Epoch 0 of 1:  16%|█████████▋                                                   | 6/38 [00:16<01:26,  2.71s/it]\u001b[A\n",
            "Running Epoch 0 of 1:  18%|███████████▏                                                 | 7/38 [00:18<01:23,  2.69s/it]\u001b[A\n",
            "Running Epoch 0 of 1:  21%|████████████▊                                                | 8/38 [00:21<01:20,  2.70s/it]\u001b[A\n",
            "Running Epoch 0 of 1:  24%|██████████████▍                                              | 9/38 [00:24<01:18,  2.69s/it]\u001b[A\n",
            "Running Epoch 0 of 1:  26%|███████████████▊                                            | 10/38 [00:26<01:15,  2.68s/it]\u001b[A\n",
            "Running Epoch 0 of 1:  29%|█████████████████▎                                          | 11/38 [00:29<01:12,  2.69s/it]\u001b[A\n",
            "Running Epoch 0 of 1:  32%|██████████████████▉                                         | 12/38 [00:32<01:09,  2.69s/it]\u001b[A\n",
            "Running Epoch 0 of 1:  34%|████████████████████▌                                       | 13/38 [00:34<01:07,  2.68s/it]\u001b[A\n",
            "Running Epoch 0 of 1:  37%|██████████████████████                                      | 14/38 [00:37<01:04,  2.69s/it]\u001b[A\n",
            "Running Epoch 0 of 1:  39%|███████████████████████▋                                    | 15/38 [00:40<01:01,  2.68s/it]\u001b[A\n",
            "Running Epoch 0 of 1:  42%|█████████████████████████▎                                  | 16/38 [00:43<00:59,  2.69s/it]\u001b[A\n",
            "Running Epoch 0 of 1:  45%|██████████████████████████▊                                 | 17/38 [00:45<00:56,  2.69s/it]\u001b[A\n",
            "Running Epoch 0 of 1:  47%|████████████████████████████▍                               | 18/38 [00:48<00:53,  2.70s/it]\u001b[A\n",
            "Running Epoch 0 of 1:  50%|██████████████████████████████                              | 19/38 [00:51<00:51,  2.70s/it]\u001b[A\n",
            "Running Epoch 0 of 1:  53%|███████████████████████████████▌                            | 20/38 [00:53<00:48,  2.68s/it]\u001b[A\n",
            "Running Epoch 0 of 1:  55%|█████████████████████████████████▏                          | 21/38 [00:56<00:45,  2.68s/it]\u001b[A\n",
            "Running Epoch 0 of 1:  58%|██████████████████████████████████▋                         | 22/38 [00:59<00:42,  2.67s/it]\u001b[A\n",
            "Running Epoch 0 of 1:  61%|████████████████████████████████████▎                       | 23/38 [01:01<00:40,  2.67s/it]\u001b[A\n",
            "Running Epoch 0 of 1:  63%|█████████████████████████████████████▉                      | 24/38 [01:04<00:37,  2.69s/it]\u001b[A\n",
            "Running Epoch 0 of 1:  66%|███████████████████████████████████████▍                    | 25/38 [01:07<00:35,  2.69s/it]\u001b[A\n",
            "Running Epoch 0 of 1:  68%|█████████████████████████████████████████                   | 26/38 [01:09<00:32,  2.69s/it]\u001b[A\n",
            "Running Epoch 0 of 1:  71%|██████████████████████████████████████████▋                 | 27/38 [01:12<00:29,  2.69s/it]\u001b[A\n",
            "Running Epoch 0 of 1:  74%|████████████████████████████████████████████▏               | 28/38 [01:15<00:26,  2.69s/it]\u001b[A\n",
            "Running Epoch 0 of 1:  76%|█████████████████████████████████████████████▊              | 29/38 [01:17<00:24,  2.69s/it]\u001b[A\n",
            "Running Epoch 0 of 1:  79%|███████████████████████████████████████████████▎            | 30/38 [01:20<00:21,  2.69s/it]\u001b[A\n",
            "Running Epoch 0 of 1:  82%|████████████████████████████████████████████████▉           | 31/38 [01:23<00:18,  2.70s/it]\u001b[A\n",
            "Running Epoch 0 of 1:  84%|██████████████████████████████████████████████████▌         | 32/38 [01:26<00:16,  2.70s/it]\u001b[A\n",
            "Running Epoch 0 of 1:  87%|████████████████████████████████████████████████████        | 33/38 [01:28<00:13,  2.69s/it]\u001b[A\n",
            "Running Epoch 0 of 1:  89%|█████████████████████████████████████████████████████▋      | 34/38 [01:31<00:10,  2.69s/it]\u001b[A\n",
            "Running Epoch 0 of 1:  92%|███████████████████████████████████████████████████████▎    | 35/38 [01:34<00:08,  2.69s/it]\u001b[A\n",
            "Running Epoch 0 of 1:  95%|████████████████████████████████████████████████████████▊   | 36/38 [01:36<00:05,  2.70s/it]\u001b[A\n",
            "Running Epoch 0 of 1:  97%|██████████████████████████████████████████████████████████▍ | 37/38 [01:39<00:02,  2.69s/it]\u001b[A\n",
            "Running Epoch 0 of 1: 100%|████████████████████████████████████████████████████████████| 38/38 [01:41<00:00,  2.67s/it]\n",
            "Epoch 1 of 1: 100%|█████████████████████████████████████████████████████████████████████| 1/1 [01:41<00:00, 101.32s/it]\n",
            "C:\\Users\\Domenico\\.conda\\envs\\tf\\lib\\site-packages\\simpletransformers\\classification\\classification_model.py:1454: UserWarning: Dataframe headers not specified. Falling back to using column 0 as text and column 1 as labels.\n",
            "  warnings.warn(\n"
          ]
        },
        {
          "output_type": "stream",
          "name": "stdout",
          "text": [
            "\n",
            "NOW EVALUATE THE TEST DF.\n"
          ]
        },
        {
          "output_type": "stream",
          "name": "stderr",
          "text": [
            "  0%|▍                                                                                 | 1/200 [00:07<24:51,  7.49s/it]\n",
            "Running Evaluation: 100%|██████████████████████████████████████████████████████████████| 25/25 [00:16<00:00,  1.50it/s]\n",
            "C:\\Users\\Domenico\\.conda\\envs\\tf\\lib\\site-packages\\simpletransformers\\classification\\classification_model.py:612: UserWarning: Dataframe headers not specified. Falling back to using column 0 as text and column 1 as labels.\n",
            "  warnings.warn(\n"
          ]
        },
        {
          "output_type": "stream",
          "name": "stdout",
          "text": [
            "{'mcc': 0.32318286529871076, 'tp': 59, 'tn': 73, 'fp': 27, 'fn': 41, 'auroc': 0.7311000000000001, 'auprc': 0.7060948649694023, 'eval_loss': 0.646719045639038}\n",
            "Correct predictions are:  132\n",
            "Total predictions are:  200\n",
            "Accuracy on test set is: 0.66 \n",
            "\n",
            "\n",
            "\n",
            "EPOCH NUMBER:  2\n",
            "\n",
            "NOW TRAIN THE MODEL.\n"
          ]
        },
        {
          "output_type": "stream",
          "name": "stderr",
          "text": [
            "  0%|▎                                                                                 | 1/300 [00:08<44:26,  8.92s/it]\n",
            "Epoch 1 of 1:   0%|                                                                              | 0/1 [00:00<?, ?it/s]\n",
            "Running Epoch 0 of 1:   0%|                                                                     | 0/38 [00:00<?, ?it/s]\u001b[A\n",
            "Running Epoch 0 of 1:   3%|█▌                                                           | 1/38 [00:02<01:37,  2.64s/it]\u001b[A\n",
            "Running Epoch 0 of 1:   5%|███▏                                                         | 2/38 [00:05<01:36,  2.69s/it]\u001b[A\n",
            "Running Epoch 0 of 1:   8%|████▊                                                        | 3/38 [00:08<01:34,  2.71s/it]\u001b[A\n",
            "Running Epoch 0 of 1:  11%|██████▍                                                      | 4/38 [00:10<01:32,  2.72s/it]\u001b[A\n",
            "Running Epoch 0 of 1:  13%|████████                                                     | 5/38 [00:13<01:29,  2.71s/it]\u001b[A\n",
            "Running Epoch 0 of 1:  16%|█████████▋                                                   | 6/38 [00:16<01:26,  2.71s/it]\u001b[A\n",
            "Running Epoch 0 of 1:  18%|███████████▏                                                 | 7/38 [00:18<01:23,  2.70s/it]\u001b[A\n",
            "Running Epoch 0 of 1:  21%|████████████▊                                                | 8/38 [00:21<01:21,  2.71s/it]\u001b[A\n",
            "Running Epoch 0 of 1:  24%|██████████████▍                                              | 9/38 [00:24<01:18,  2.70s/it]\u001b[A\n",
            "Running Epoch 0 of 1:  26%|███████████████▊                                            | 10/38 [00:27<01:15,  2.70s/it]\u001b[A\n",
            "Running Epoch 0 of 1:  29%|█████████████████▎                                          | 11/38 [00:29<01:12,  2.69s/it]\u001b[A\n",
            "Running Epoch 0 of 1:  32%|██████████████████▉                                         | 12/38 [00:32<01:10,  2.70s/it]\u001b[A\n",
            "Running Epoch 0 of 1:  34%|████████████████████▌                                       | 13/38 [00:35<01:07,  2.72s/it]\u001b[A\n",
            "Running Epoch 0 of 1:  37%|██████████████████████                                      | 14/38 [00:37<01:05,  2.73s/it]\u001b[A\n",
            "Running Epoch 0 of 1:  39%|███████████████████████▋                                    | 15/38 [00:40<01:02,  2.70s/it]\u001b[A\n",
            "Running Epoch 0 of 1:  42%|█████████████████████████▎                                  | 16/38 [00:43<00:59,  2.71s/it]\u001b[A\n",
            "Running Epoch 0 of 1:  45%|██████████████████████████▊                                 | 17/38 [00:46<00:57,  2.73s/it]\u001b[A\n",
            "Running Epoch 0 of 1:  47%|████████████████████████████▍                               | 18/38 [00:48<00:54,  2.72s/it]\u001b[A\n",
            "Running Epoch 0 of 1:  50%|██████████████████████████████                              | 19/38 [00:51<00:51,  2.72s/it]\u001b[A\n",
            "Running Epoch 0 of 1:  53%|███████████████████████████████▌                            | 20/38 [00:54<00:48,  2.71s/it]\u001b[A\n",
            "Running Epoch 0 of 1:  55%|█████████████████████████████████▏                          | 21/38 [00:56<00:46,  2.72s/it]\u001b[A\n",
            "Running Epoch 0 of 1:  58%|██████████████████████████████████▋                         | 22/38 [00:59<00:43,  2.70s/it]\u001b[A\n",
            "Running Epoch 0 of 1:  61%|████████████████████████████████████▎                       | 23/38 [01:02<00:40,  2.69s/it]\u001b[A\n",
            "Running Epoch 0 of 1:  63%|█████████████████████████████████████▉                      | 24/38 [01:04<00:37,  2.70s/it]\u001b[A\n",
            "Running Epoch 0 of 1:  66%|███████████████████████████████████████▍                    | 25/38 [01:07<00:35,  2.70s/it]\u001b[A\n",
            "Running Epoch 0 of 1:  68%|█████████████████████████████████████████                   | 26/38 [01:10<00:32,  2.70s/it]\u001b[A\n",
            "Running Epoch 0 of 1:  71%|██████████████████████████████████████████▋                 | 27/38 [01:13<00:29,  2.71s/it]\u001b[A\n",
            "Running Epoch 0 of 1:  74%|████████████████████████████████████████████▏               | 28/38 [01:15<00:26,  2.70s/it]\u001b[A\n",
            "Running Epoch 0 of 1:  76%|█████████████████████████████████████████████▊              | 29/38 [01:18<00:24,  2.71s/it]\u001b[A\n",
            "Running Epoch 0 of 1:  79%|███████████████████████████████████████████████▎            | 30/38 [01:21<00:21,  2.71s/it]\u001b[A\n",
            "Running Epoch 0 of 1:  82%|████████████████████████████████████████████████▉           | 31/38 [01:23<00:18,  2.70s/it]\u001b[A\n",
            "Running Epoch 0 of 1:  84%|██████████████████████████████████████████████████▌         | 32/38 [01:26<00:16,  2.72s/it]\u001b[A\n",
            "Running Epoch 0 of 1:  87%|████████████████████████████████████████████████████        | 33/38 [01:29<00:13,  2.74s/it]\u001b[A\n",
            "Running Epoch 0 of 1:  89%|█████████████████████████████████████████████████████▋      | 34/38 [01:32<00:10,  2.73s/it]\u001b[A\n",
            "Running Epoch 0 of 1:  92%|███████████████████████████████████████████████████████▎    | 35/38 [01:34<00:08,  2.75s/it]\u001b[A\n",
            "Running Epoch 0 of 1:  95%|████████████████████████████████████████████████████████▊   | 36/38 [01:37<00:05,  2.72s/it]\u001b[A\n",
            "Running Epoch 0 of 1:  97%|██████████████████████████████████████████████████████████▍ | 37/38 [01:40<00:02,  2.70s/it]\u001b[A\n",
            "Running Epoch 0 of 1: 100%|████████████████████████████████████████████████████████████| 38/38 [01:42<00:00,  2.68s/it]\n",
            "Epoch 1 of 1: 100%|█████████████████████████████████████████████████████████████████████| 1/1 [01:42<00:00, 102.03s/it]\n",
            "C:\\Users\\Domenico\\.conda\\envs\\tf\\lib\\site-packages\\simpletransformers\\classification\\classification_model.py:1454: UserWarning: Dataframe headers not specified. Falling back to using column 0 as text and column 1 as labels.\n",
            "  warnings.warn(\n"
          ]
        },
        {
          "output_type": "stream",
          "name": "stdout",
          "text": [
            "\n",
            "NOW EVALUATE THE TEST DF.\n"
          ]
        },
        {
          "output_type": "stream",
          "name": "stderr",
          "text": [
            "  0%|▍                                                                                 | 1/200 [00:07<24:59,  7.54s/it]\n",
            "Running Evaluation: 100%|██████████████████████████████████████████████████████████████| 25/25 [00:16<00:00,  1.50it/s]\n",
            "C:\\Users\\Domenico\\.conda\\envs\\tf\\lib\\site-packages\\simpletransformers\\classification\\classification_model.py:612: UserWarning: Dataframe headers not specified. Falling back to using column 0 as text and column 1 as labels.\n",
            "  warnings.warn(\n"
          ]
        },
        {
          "output_type": "stream",
          "name": "stdout",
          "text": [
            "{'mcc': 0.38030436528708195, 'tp': 67, 'tn': 71, 'fp': 29, 'fn': 33, 'auroc': 0.7259, 'auprc': 0.7102049162805956, 'eval_loss': 0.614011470079422}\n",
            "Correct predictions are:  138\n",
            "Total predictions are:  200\n",
            "Accuracy on test set is: 0.69 \n",
            "\n",
            "\n",
            "\n",
            "EPOCH NUMBER:  3\n",
            "\n",
            "NOW TRAIN THE MODEL.\n"
          ]
        },
        {
          "output_type": "stream",
          "name": "stderr",
          "text": [
            "  0%|▎                                                                                 | 1/300 [00:08<43:56,  8.82s/it]\n",
            "Epoch 1 of 1:   0%|                                                                              | 0/1 [00:00<?, ?it/s]\n",
            "Running Epoch 0 of 1:   0%|                                                                     | 0/38 [00:00<?, ?it/s]\u001b[A\n",
            "Running Epoch 0 of 1:   3%|█▌                                                           | 1/38 [00:02<01:39,  2.70s/it]\u001b[A\n",
            "Running Epoch 0 of 1:   5%|███▏                                                         | 2/38 [00:05<01:37,  2.72s/it]\u001b[A\n",
            "Running Epoch 0 of 1:   8%|████▊                                                        | 3/38 [00:08<01:33,  2.68s/it]\u001b[A\n",
            "Running Epoch 0 of 1:  11%|██████▍                                                      | 4/38 [00:10<01:30,  2.67s/it]\u001b[A\n",
            "Running Epoch 0 of 1:  13%|████████                                                     | 5/38 [00:13<01:28,  2.68s/it]\u001b[A\n",
            "Running Epoch 0 of 1:  16%|█████████▋                                                   | 6/38 [00:16<01:26,  2.70s/it]\u001b[A\n",
            "Running Epoch 0 of 1:  18%|███████████▏                                                 | 7/38 [00:18<01:23,  2.70s/it]\u001b[A\n",
            "Running Epoch 0 of 1:  21%|████████████▊                                                | 8/38 [00:21<01:21,  2.70s/it]\u001b[A\n",
            "Running Epoch 0 of 1:  24%|██████████████▍                                              | 9/38 [00:24<01:18,  2.71s/it]\u001b[A\n",
            "Running Epoch 0 of 1:  26%|███████████████▊                                            | 10/38 [00:26<01:15,  2.70s/it]\u001b[A\n",
            "Running Epoch 0 of 1:  29%|█████████████████▎                                          | 11/38 [00:29<01:12,  2.70s/it]\u001b[A\n",
            "Running Epoch 0 of 1:  32%|██████████████████▉                                         | 12/38 [00:32<01:10,  2.72s/it]\u001b[A\n",
            "Running Epoch 0 of 1:  34%|████████████████████▌                                       | 13/38 [00:35<01:08,  2.73s/it]\u001b[A\n",
            "Running Epoch 0 of 1:  37%|██████████████████████                                      | 14/38 [00:37<01:05,  2.74s/it]\u001b[A\n",
            "Running Epoch 0 of 1:  39%|███████████████████████▋                                    | 15/38 [00:40<01:02,  2.72s/it]\u001b[A\n",
            "Running Epoch 0 of 1:  42%|█████████████████████████▎                                  | 16/38 [00:43<01:00,  2.74s/it]\u001b[A\n",
            "Running Epoch 0 of 1:  45%|██████████████████████████▊                                 | 17/38 [00:46<00:57,  2.72s/it]\u001b[A\n",
            "Running Epoch 0 of 1:  47%|████████████████████████████▍                               | 18/38 [00:48<00:54,  2.73s/it]\u001b[A\n",
            "Running Epoch 0 of 1:  50%|██████████████████████████████                              | 19/38 [00:51<00:51,  2.71s/it]\u001b[A\n",
            "Running Epoch 0 of 1:  53%|███████████████████████████████▌                            | 20/38 [00:54<00:48,  2.72s/it]\u001b[A\n",
            "Running Epoch 0 of 1:  55%|█████████████████████████████████▏                          | 21/38 [00:57<00:46,  2.73s/it]\u001b[A\n",
            "Running Epoch 0 of 1:  58%|██████████████████████████████████▋                         | 22/38 [00:59<00:43,  2.71s/it]\u001b[A\n",
            "Running Epoch 0 of 1:  61%|████████████████████████████████████▎                       | 23/38 [01:02<00:40,  2.69s/it]\u001b[A\n",
            "Running Epoch 0 of 1:  63%|█████████████████████████████████████▉                      | 24/38 [01:04<00:37,  2.69s/it]\u001b[A\n",
            "Running Epoch 0 of 1:  66%|███████████████████████████████████████▍                    | 25/38 [01:07<00:34,  2.68s/it]\u001b[A\n",
            "Running Epoch 0 of 1:  68%|█████████████████████████████████████████                   | 26/38 [01:10<00:32,  2.68s/it]\u001b[A\n",
            "Running Epoch 0 of 1:  71%|██████████████████████████████████████████▋                 | 27/38 [01:13<00:29,  2.70s/it]\u001b[A\n",
            "Running Epoch 0 of 1:  74%|████████████████████████████████████████████▏               | 28/38 [01:15<00:26,  2.69s/it]\u001b[A\n",
            "Running Epoch 0 of 1:  76%|█████████████████████████████████████████████▊              | 29/38 [01:18<00:24,  2.69s/it]\u001b[A\n",
            "Running Epoch 0 of 1:  79%|███████████████████████████████████████████████▎            | 30/38 [01:21<00:21,  2.72s/it]\u001b[A\n",
            "Running Epoch 0 of 1:  82%|████████████████████████████████████████████████▉           | 31/38 [01:23<00:18,  2.71s/it]\u001b[A\n",
            "Running Epoch 0 of 1:  84%|██████████████████████████████████████████████████▌         | 32/38 [01:26<00:16,  2.71s/it]\u001b[A\n",
            "Running Epoch 0 of 1:  87%|████████████████████████████████████████████████████        | 33/38 [01:29<00:13,  2.71s/it]\u001b[A\n",
            "Running Epoch 0 of 1:  89%|█████████████████████████████████████████████████████▋      | 34/38 [01:32<00:10,  2.73s/it]\u001b[A\n",
            "Running Epoch 0 of 1:  92%|███████████████████████████████████████████████████████▎    | 35/38 [01:34<00:08,  2.74s/it]\u001b[A\n",
            "Running Epoch 0 of 1:  95%|████████████████████████████████████████████████████████▊   | 36/38 [01:37<00:05,  2.72s/it]\u001b[A\n",
            "Running Epoch 0 of 1:  97%|██████████████████████████████████████████████████████████▍ | 37/38 [01:40<00:02,  2.71s/it]\u001b[A\n",
            "Running Epoch 0 of 1: 100%|████████████████████████████████████████████████████████████| 38/38 [01:41<00:00,  2.68s/it]\n",
            "Epoch 1 of 1: 100%|█████████████████████████████████████████████████████████████████████| 1/1 [01:41<00:00, 101.98s/it]\n",
            "C:\\Users\\Domenico\\.conda\\envs\\tf\\lib\\site-packages\\simpletransformers\\classification\\classification_model.py:1454: UserWarning: Dataframe headers not specified. Falling back to using column 0 as text and column 1 as labels.\n",
            "  warnings.warn(\n"
          ]
        },
        {
          "output_type": "stream",
          "name": "stdout",
          "text": [
            "\n",
            "NOW EVALUATE THE TEST DF.\n"
          ]
        },
        {
          "output_type": "stream",
          "name": "stderr",
          "text": [
            "  0%|▍                                                                                 | 1/200 [00:07<25:20,  7.64s/it]\n",
            "Running Evaluation: 100%|██████████████████████████████████████████████████████████████| 25/25 [00:16<00:00,  1.52it/s]\n",
            "C:\\Users\\Domenico\\.conda\\envs\\tf\\lib\\site-packages\\simpletransformers\\classification\\classification_model.py:612: UserWarning: Dataframe headers not specified. Falling back to using column 0 as text and column 1 as labels.\n",
            "  warnings.warn(\n"
          ]
        },
        {
          "output_type": "stream",
          "name": "stdout",
          "text": [
            "{'mcc': 0.3253134717448979, 'tp': 75, 'tn': 57, 'fp': 43, 'fn': 25, 'auroc': 0.7275, 'auprc': 0.697809002278349, 'eval_loss': 0.6429458105564118}\n",
            "Correct predictions are:  132\n",
            "Total predictions are:  200\n",
            "Accuracy on test set is: 0.66 \n",
            "\n",
            "\n",
            "\n",
            "EPOCH NUMBER:  4\n",
            "\n",
            "NOW TRAIN THE MODEL.\n"
          ]
        },
        {
          "output_type": "stream",
          "name": "stderr",
          "text": [
            "  0%|▎                                                                                 | 1/300 [00:08<43:45,  8.78s/it]\n",
            "Epoch 1 of 1:   0%|                                                                              | 0/1 [00:00<?, ?it/s]\n",
            "Running Epoch 0 of 1:   0%|                                                                     | 0/38 [00:00<?, ?it/s]\u001b[A\n",
            "Running Epoch 0 of 1:   3%|█▌                                                           | 1/38 [00:02<01:37,  2.63s/it]\u001b[A\n",
            "Running Epoch 0 of 1:   5%|███▏                                                         | 2/38 [00:05<01:35,  2.65s/it]\u001b[A\n",
            "Running Epoch 0 of 1:   8%|████▊                                                        | 3/38 [00:08<01:33,  2.69s/it]\u001b[A\n",
            "Running Epoch 0 of 1:  11%|██████▍                                                      | 4/38 [00:10<01:32,  2.71s/it]\u001b[A\n",
            "Running Epoch 0 of 1:  13%|████████                                                     | 5/38 [00:13<01:29,  2.72s/it]\u001b[A\n",
            "Running Epoch 0 of 1:  16%|█████████▋                                                   | 6/38 [00:16<01:26,  2.70s/it]\u001b[A\n",
            "Running Epoch 0 of 1:  18%|███████████▏                                                 | 7/38 [00:18<01:24,  2.71s/it]\u001b[A\n",
            "Running Epoch 0 of 1:  21%|████████████▊                                                | 8/38 [00:21<01:21,  2.72s/it]\u001b[A\n",
            "Running Epoch 0 of 1:  24%|██████████████▍                                              | 9/38 [00:24<01:18,  2.70s/it]\u001b[A\n",
            "Running Epoch 0 of 1:  26%|███████████████▊                                            | 10/38 [00:26<01:15,  2.69s/it]\u001b[A\n",
            "Running Epoch 0 of 1:  29%|█████████████████▎                                          | 11/38 [00:29<01:12,  2.69s/it]\u001b[A\n",
            "Running Epoch 0 of 1:  32%|██████████████████▉                                         | 12/38 [00:32<01:10,  2.70s/it]\u001b[A\n",
            "Running Epoch 0 of 1:  34%|████████████████████▌                                       | 13/38 [00:35<01:07,  2.69s/it]\u001b[A\n",
            "Running Epoch 0 of 1:  37%|██████████████████████                                      | 14/38 [00:37<01:04,  2.70s/it]\u001b[A\n",
            "Running Epoch 0 of 1:  39%|███████████████████████▋                                    | 15/38 [00:40<01:02,  2.70s/it]\u001b[A\n",
            "Running Epoch 0 of 1:  42%|█████████████████████████▎                                  | 16/38 [00:43<00:59,  2.71s/it]\u001b[A\n",
            "Running Epoch 0 of 1:  45%|██████████████████████████▊                                 | 17/38 [00:45<00:57,  2.72s/it]\u001b[A\n",
            "Running Epoch 0 of 1:  47%|████████████████████████████▍                               | 18/38 [00:48<00:54,  2.72s/it]\u001b[A\n",
            "Running Epoch 0 of 1:  50%|██████████████████████████████                              | 19/38 [00:51<00:51,  2.72s/it]\u001b[A\n",
            "Running Epoch 0 of 1:  53%|███████████████████████████████▌                            | 20/38 [00:54<00:48,  2.71s/it]\u001b[A\n",
            "Running Epoch 0 of 1:  55%|█████████████████████████████████▏                          | 21/38 [00:56<00:45,  2.70s/it]\u001b[A\n",
            "Running Epoch 0 of 1:  58%|██████████████████████████████████▋                         | 22/38 [00:59<00:43,  2.71s/it]\u001b[A\n",
            "Running Epoch 0 of 1:  61%|████████████████████████████████████▎                       | 23/38 [01:02<00:40,  2.72s/it]\u001b[A\n",
            "Running Epoch 0 of 1:  63%|█████████████████████████████████████▉                      | 24/38 [01:04<00:38,  2.73s/it]\u001b[A\n",
            "Running Epoch 0 of 1:  66%|███████████████████████████████████████▍                    | 25/38 [01:07<00:35,  2.71s/it]\u001b[A\n",
            "Running Epoch 0 of 1:  68%|█████████████████████████████████████████                   | 26/38 [01:10<00:32,  2.69s/it]\u001b[A\n",
            "Running Epoch 0 of 1:  71%|██████████████████████████████████████████▋                 | 27/38 [01:13<00:29,  2.71s/it]\u001b[A\n",
            "Running Epoch 0 of 1:  74%|████████████████████████████████████████████▏               | 28/38 [01:15<00:27,  2.71s/it]\u001b[A\n",
            "Running Epoch 0 of 1:  76%|█████████████████████████████████████████████▊              | 29/38 [01:18<00:24,  2.70s/it]\u001b[A\n",
            "Running Epoch 0 of 1:  79%|███████████████████████████████████████████████▎            | 30/38 [01:21<00:21,  2.71s/it]\u001b[A\n",
            "Running Epoch 0 of 1:  82%|████████████████████████████████████████████████▉           | 31/38 [01:23<00:18,  2.70s/it]\u001b[A\n",
            "Running Epoch 0 of 1:  84%|██████████████████████████████████████████████████▌         | 32/38 [01:26<00:16,  2.70s/it]\u001b[A\n",
            "Running Epoch 0 of 1:  87%|████████████████████████████████████████████████████        | 33/38 [01:29<00:13,  2.69s/it]\u001b[A\n",
            "Running Epoch 0 of 1:  89%|█████████████████████████████████████████████████████▋      | 34/38 [01:31<00:10,  2.70s/it]\u001b[A\n",
            "Running Epoch 0 of 1:  92%|███████████████████████████████████████████████████████▎    | 35/38 [01:34<00:08,  2.70s/it]\u001b[A\n",
            "Running Epoch 0 of 1:  95%|████████████████████████████████████████████████████████▊   | 36/38 [01:37<00:05,  2.70s/it]\u001b[A\n",
            "Running Epoch 0 of 1:  97%|██████████████████████████████████████████████████████████▍ | 37/38 [01:39<00:02,  2.69s/it]\u001b[A\n",
            "Running Epoch 0 of 1: 100%|████████████████████████████████████████████████████████████| 38/38 [01:41<00:00,  2.68s/it]\n",
            "Epoch 1 of 1: 100%|█████████████████████████████████████████████████████████████████████| 1/1 [01:41<00:00, 101.77s/it]\n",
            "C:\\Users\\Domenico\\.conda\\envs\\tf\\lib\\site-packages\\simpletransformers\\classification\\classification_model.py:1454: UserWarning: Dataframe headers not specified. Falling back to using column 0 as text and column 1 as labels.\n",
            "  warnings.warn(\n"
          ]
        },
        {
          "output_type": "stream",
          "name": "stdout",
          "text": [
            "\n",
            "NOW EVALUATE THE TEST DF.\n"
          ]
        },
        {
          "output_type": "stream",
          "name": "stderr",
          "text": [
            "  0%|▍                                                                                 | 1/200 [00:07<25:06,  7.57s/it]\n",
            "Running Evaluation: 100%|██████████████████████████████████████████████████████████████| 25/25 [00:16<00:00,  1.52it/s]\n",
            "C:\\Users\\Domenico\\.conda\\envs\\tf\\lib\\site-packages\\simpletransformers\\classification\\classification_model.py:612: UserWarning: Dataframe headers not specified. Falling back to using column 0 as text and column 1 as labels.\n",
            "  warnings.warn(\n"
          ]
        },
        {
          "output_type": "stream",
          "name": "stdout",
          "text": [
            "{'mcc': 0.4403524229639896, 'tp': 70, 'tn': 74, 'fp': 26, 'fn': 30, 'auroc': 0.7515, 'auprc': 0.7238424067791283, 'eval_loss': 0.6893804657459259}\n",
            "Correct predictions are:  144\n",
            "Total predictions are:  200\n",
            "Accuracy on test set is: 0.72 \n",
            "\n",
            "\n",
            "\n",
            "EPOCH NUMBER:  5\n",
            "\n",
            "NOW TRAIN THE MODEL.\n"
          ]
        },
        {
          "output_type": "stream",
          "name": "stderr",
          "text": [
            "  0%|▎                                                                                 | 1/300 [00:08<44:13,  8.88s/it]\n",
            "Epoch 1 of 1:   0%|                                                                              | 0/1 [00:00<?, ?it/s]\n",
            "Running Epoch 0 of 1:   0%|                                                                     | 0/38 [00:00<?, ?it/s]\u001b[A\n",
            "Running Epoch 0 of 1:   3%|█▌                                                           | 1/38 [00:02<01:36,  2.60s/it]\u001b[A\n",
            "Running Epoch 0 of 1:   5%|███▏                                                         | 2/38 [00:05<01:36,  2.69s/it]\u001b[A\n",
            "Running Epoch 0 of 1:   8%|████▊                                                        | 3/38 [00:08<01:34,  2.69s/it]\u001b[A\n",
            "Running Epoch 0 of 1:  11%|██████▍                                                      | 4/38 [00:10<01:31,  2.68s/it]\u001b[A\n",
            "Running Epoch 0 of 1:  13%|████████                                                     | 5/38 [00:13<01:28,  2.68s/it]\u001b[A\n",
            "Running Epoch 0 of 1:  16%|█████████▋                                                   | 6/38 [00:16<01:25,  2.67s/it]\u001b[A\n",
            "Running Epoch 0 of 1:  18%|███████████▏                                                 | 7/38 [00:18<01:23,  2.69s/it]\u001b[A\n",
            "Running Epoch 0 of 1:  21%|████████████▊                                                | 8/38 [00:21<01:20,  2.69s/it]\u001b[A\n",
            "Running Epoch 0 of 1:  24%|██████████████▍                                              | 9/38 [00:24<01:18,  2.71s/it]\u001b[A\n",
            "Running Epoch 0 of 1:  26%|███████████████▊                                            | 10/38 [00:26<01:16,  2.72s/it]\u001b[A\n",
            "Running Epoch 0 of 1:  29%|█████████████████▎                                          | 11/38 [00:29<01:13,  2.72s/it]\u001b[A\n",
            "Running Epoch 0 of 1:  32%|██████████████████▉                                         | 12/38 [00:32<01:11,  2.74s/it]\u001b[A\n",
            "Running Epoch 0 of 1:  34%|████████████████████▌                                       | 13/38 [00:35<01:08,  2.73s/it]\u001b[A\n",
            "Running Epoch 0 of 1:  37%|██████████████████████                                      | 14/38 [00:37<01:05,  2.72s/it]\u001b[A\n",
            "Running Epoch 0 of 1:  39%|███████████████████████▋                                    | 15/38 [00:40<01:02,  2.72s/it]\u001b[A\n",
            "Running Epoch 0 of 1:  42%|█████████████████████████▎                                  | 16/38 [00:43<00:59,  2.72s/it]\u001b[A\n",
            "Running Epoch 0 of 1:  45%|██████████████████████████▊                                 | 17/38 [00:45<00:56,  2.70s/it]\u001b[A\n",
            "Running Epoch 0 of 1:  47%|████████████████████████████▍                               | 18/38 [00:48<00:53,  2.70s/it]\u001b[A\n",
            "Running Epoch 0 of 1:  50%|██████████████████████████████                              | 19/38 [00:51<00:51,  2.72s/it]\u001b[A\n",
            "Running Epoch 0 of 1:  53%|███████████████████████████████▌                            | 20/38 [00:54<00:49,  2.74s/it]\u001b[A\n",
            "Running Epoch 0 of 1:  55%|█████████████████████████████████▏                          | 21/38 [00:56<00:46,  2.74s/it]\u001b[A\n",
            "Running Epoch 0 of 1:  58%|██████████████████████████████████▋                         | 22/38 [00:59<00:43,  2.74s/it]\u001b[A\n",
            "Running Epoch 0 of 1:  61%|████████████████████████████████████▎                       | 23/38 [01:02<00:41,  2.75s/it]\u001b[A\n",
            "Running Epoch 0 of 1:  63%|█████████████████████████████████████▉                      | 24/38 [01:05<00:38,  2.74s/it]\u001b[A\n",
            "Running Epoch 0 of 1:  66%|███████████████████████████████████████▍                    | 25/38 [01:07<00:35,  2.74s/it]\u001b[A\n",
            "Running Epoch 0 of 1:  68%|█████████████████████████████████████████                   | 26/38 [01:10<00:32,  2.74s/it]\u001b[A\n",
            "Running Epoch 0 of 1:  71%|██████████████████████████████████████████▋                 | 27/38 [01:13<00:29,  2.73s/it]\u001b[A\n",
            "Running Epoch 0 of 1:  74%|████████████████████████████████████████████▏               | 28/38 [01:16<00:27,  2.71s/it]\u001b[A\n",
            "Running Epoch 0 of 1:  76%|█████████████████████████████████████████████▊              | 29/38 [01:18<00:24,  2.70s/it]\u001b[A\n",
            "Running Epoch 0 of 1:  79%|███████████████████████████████████████████████▎            | 30/38 [01:21<00:21,  2.71s/it]\u001b[A\n",
            "Running Epoch 0 of 1:  82%|████████████████████████████████████████████████▉           | 31/38 [01:24<00:18,  2.71s/it]\u001b[A\n",
            "Running Epoch 0 of 1:  84%|██████████████████████████████████████████████████▌         | 32/38 [01:26<00:16,  2.71s/it]\u001b[A\n",
            "Running Epoch 0 of 1:  87%|████████████████████████████████████████████████████        | 33/38 [01:29<00:13,  2.71s/it]\u001b[A\n",
            "Running Epoch 0 of 1:  89%|█████████████████████████████████████████████████████▋      | 34/38 [01:32<00:10,  2.72s/it]\u001b[A\n",
            "Running Epoch 0 of 1:  92%|███████████████████████████████████████████████████████▎    | 35/38 [01:35<00:08,  2.73s/it]\u001b[A\n",
            "Running Epoch 0 of 1:  95%|████████████████████████████████████████████████████████▊   | 36/38 [01:37<00:05,  2.74s/it]\u001b[A\n",
            "Running Epoch 0 of 1:  97%|██████████████████████████████████████████████████████████▍ | 37/38 [01:40<00:02,  2.72s/it]\u001b[A\n",
            "Running Epoch 0 of 1: 100%|████████████████████████████████████████████████████████████| 38/38 [01:42<00:00,  2.69s/it]\n",
            "Epoch 1 of 1: 100%|█████████████████████████████████████████████████████████████████████| 1/1 [01:42<00:00, 102.31s/it]\n",
            "C:\\Users\\Domenico\\.conda\\envs\\tf\\lib\\site-packages\\simpletransformers\\classification\\classification_model.py:1454: UserWarning: Dataframe headers not specified. Falling back to using column 0 as text and column 1 as labels.\n",
            "  warnings.warn(\n"
          ]
        },
        {
          "output_type": "stream",
          "name": "stdout",
          "text": [
            "\n",
            "NOW EVALUATE THE TEST DF.\n"
          ]
        },
        {
          "output_type": "stream",
          "name": "stderr",
          "text": [
            "  0%|▍                                                                                 | 1/200 [00:07<25:49,  7.79s/it]\n",
            "Running Evaluation: 100%|██████████████████████████████████████████████████████████████| 25/25 [00:16<00:00,  1.51it/s]\n",
            "C:\\Users\\Domenico\\.conda\\envs\\tf\\lib\\site-packages\\simpletransformers\\classification\\classification_model.py:612: UserWarning: Dataframe headers not specified. Falling back to using column 0 as text and column 1 as labels.\n",
            "  warnings.warn(\n"
          ]
        },
        {
          "output_type": "stream",
          "name": "stdout",
          "text": [
            "{'mcc': 0.3424747597107866, 'tp': 61, 'tn': 73, 'fp': 27, 'fn': 39, 'auroc': 0.7435999999999999, 'auprc': 0.7054587057012704, 'eval_loss': 0.7183223485946655}\n",
            "Correct predictions are:  134\n",
            "Total predictions are:  200\n",
            "Accuracy on test set is: 0.67 \n",
            "\n",
            "\n",
            "\n",
            "EPOCH NUMBER:  6\n",
            "\n",
            "NOW TRAIN THE MODEL.\n"
          ]
        },
        {
          "output_type": "stream",
          "name": "stderr",
          "text": [
            "  0%|▎                                                                                 | 1/300 [00:08<43:52,  8.80s/it]\n",
            "Epoch 1 of 1:   0%|                                                                              | 0/1 [00:00<?, ?it/s]\n",
            "Running Epoch 0 of 1:   0%|                                                                     | 0/38 [00:00<?, ?it/s]\u001b[A\n",
            "Running Epoch 0 of 1:   3%|█▌                                                           | 1/38 [00:02<01:36,  2.60s/it]\u001b[A\n",
            "Running Epoch 0 of 1:   5%|███▏                                                         | 2/38 [00:05<01:35,  2.64s/it]\u001b[A\n",
            "Running Epoch 0 of 1:   8%|████▊                                                        | 3/38 [00:07<01:33,  2.66s/it]\u001b[A\n",
            "Running Epoch 0 of 1:  11%|██████▍                                                      | 4/38 [00:10<01:30,  2.67s/it]\u001b[A\n",
            "Running Epoch 0 of 1:  13%|████████                                                     | 5/38 [00:13<01:28,  2.68s/it]\u001b[A\n",
            "Running Epoch 0 of 1:  16%|█████████▋                                                   | 6/38 [00:16<01:26,  2.70s/it]\u001b[A\n",
            "Running Epoch 0 of 1:  18%|███████████▏                                                 | 7/38 [00:18<01:23,  2.71s/it]\u001b[A\n",
            "Running Epoch 0 of 1:  21%|████████████▊                                                | 8/38 [00:21<01:20,  2.69s/it]\u001b[A\n",
            "Running Epoch 0 of 1:  24%|██████████████▍                                              | 9/38 [00:24<01:17,  2.69s/it]\u001b[A\n",
            "Running Epoch 0 of 1:  26%|███████████████▊                                            | 10/38 [00:26<01:15,  2.71s/it]\u001b[A\n",
            "Running Epoch 0 of 1:  29%|█████████████████▎                                          | 11/38 [00:29<01:12,  2.70s/it]\u001b[A\n",
            "Running Epoch 0 of 1:  32%|██████████████████▉                                         | 12/38 [00:32<01:10,  2.69s/it]\u001b[A\n",
            "Running Epoch 0 of 1:  34%|████████████████████▌                                       | 13/38 [00:34<01:06,  2.68s/it]\u001b[A\n",
            "Running Epoch 0 of 1:  37%|██████████████████████                                      | 14/38 [00:37<01:04,  2.68s/it]\u001b[A\n",
            "Running Epoch 0 of 1:  39%|███████████████████████▋                                    | 15/38 [00:40<01:01,  2.69s/it]\u001b[A\n",
            "Running Epoch 0 of 1:  42%|█████████████████████████▎                                  | 16/38 [00:42<00:58,  2.68s/it]\u001b[A\n",
            "Running Epoch 0 of 1:  45%|██████████████████████████▊                                 | 17/38 [00:45<00:55,  2.65s/it]\u001b[A\n",
            "Running Epoch 0 of 1:  47%|████████████████████████████▍                               | 18/38 [00:48<00:52,  2.64s/it]\u001b[A\n",
            "Running Epoch 0 of 1:  50%|██████████████████████████████                              | 19/38 [00:50<00:49,  2.62s/it]\u001b[A\n",
            "Running Epoch 0 of 1:  53%|███████████████████████████████▌                            | 20/38 [00:53<00:46,  2.60s/it]\u001b[A\n",
            "Running Epoch 0 of 1:  55%|█████████████████████████████████▏                          | 21/38 [00:55<00:44,  2.62s/it]\u001b[A\n",
            "Running Epoch 0 of 1:  58%|██████████████████████████████████▋                         | 22/38 [00:58<00:41,  2.62s/it]\u001b[A\n",
            "Running Epoch 0 of 1:  61%|████████████████████████████████████▎                       | 23/38 [01:01<00:39,  2.62s/it]\u001b[A\n",
            "Running Epoch 0 of 1:  63%|█████████████████████████████████████▉                      | 24/38 [01:03<00:36,  2.62s/it]\u001b[A\n",
            "Running Epoch 0 of 1:  66%|███████████████████████████████████████▍                    | 25/38 [01:06<00:33,  2.60s/it]\u001b[A\n",
            "Running Epoch 0 of 1:  68%|█████████████████████████████████████████                   | 26/38 [01:09<00:31,  2.62s/it]\u001b[A\n",
            "Running Epoch 0 of 1:  71%|██████████████████████████████████████████▋                 | 27/38 [01:11<00:29,  2.64s/it]\u001b[A\n",
            "Running Epoch 0 of 1:  74%|████████████████████████████████████████████▏               | 28/38 [01:14<00:26,  2.64s/it]\u001b[A\n",
            "Running Epoch 0 of 1:  76%|█████████████████████████████████████████████▊              | 29/38 [01:17<00:23,  2.66s/it]\u001b[A\n",
            "Running Epoch 0 of 1:  79%|███████████████████████████████████████████████▎            | 30/38 [01:19<00:21,  2.66s/it]\u001b[A\n",
            "Running Epoch 0 of 1:  82%|████████████████████████████████████████████████▉           | 31/38 [01:22<00:18,  2.68s/it]\u001b[A\n",
            "Running Epoch 0 of 1:  84%|██████████████████████████████████████████████████▌         | 32/38 [01:25<00:16,  2.69s/it]\u001b[A\n",
            "Running Epoch 0 of 1:  87%|████████████████████████████████████████████████████        | 33/38 [01:27<00:13,  2.70s/it]\u001b[A\n",
            "Running Epoch 0 of 1:  89%|█████████████████████████████████████████████████████▋      | 34/38 [01:30<00:10,  2.71s/it]\u001b[A\n",
            "Running Epoch 0 of 1:  92%|███████████████████████████████████████████████████████▎    | 35/38 [01:33<00:08,  2.70s/it]\u001b[A\n",
            "Running Epoch 0 of 1:  95%|████████████████████████████████████████████████████████▊   | 36/38 [01:36<00:05,  2.72s/it]\u001b[A\n",
            "Running Epoch 0 of 1:  97%|██████████████████████████████████████████████████████████▍ | 37/38 [01:38<00:02,  2.72s/it]\u001b[A\n",
            "Running Epoch 0 of 1: 100%|████████████████████████████████████████████████████████████| 38/38 [01:40<00:00,  2.64s/it]\n",
            "Epoch 1 of 1: 100%|█████████████████████████████████████████████████████████████████████| 1/1 [01:40<00:00, 100.51s/it]\n",
            "C:\\Users\\Domenico\\.conda\\envs\\tf\\lib\\site-packages\\simpletransformers\\classification\\classification_model.py:1454: UserWarning: Dataframe headers not specified. Falling back to using column 0 as text and column 1 as labels.\n",
            "  warnings.warn(\n"
          ]
        },
        {
          "output_type": "stream",
          "name": "stdout",
          "text": [
            "\n",
            "NOW EVALUATE THE TEST DF.\n"
          ]
        },
        {
          "output_type": "stream",
          "name": "stderr",
          "text": [
            "  0%|▍                                                                                 | 1/200 [00:07<25:25,  7.67s/it]\n",
            "Running Evaluation: 100%|██████████████████████████████████████████████████████████████| 25/25 [00:16<00:00,  1.53it/s]\n",
            "C:\\Users\\Domenico\\.conda\\envs\\tf\\lib\\site-packages\\simpletransformers\\classification\\classification_model.py:612: UserWarning: Dataframe headers not specified. Falling back to using column 0 as text and column 1 as labels.\n",
            "  warnings.warn(\n"
          ]
        },
        {
          "output_type": "stream",
          "name": "stdout",
          "text": [
            "{'mcc': 0.3417128571881321, 'tp': 62, 'tn': 72, 'fp': 28, 'fn': 38, 'auroc': 0.7160000000000001, 'auprc': 0.6771135171302433, 'eval_loss': 1.2740767538547515}\n",
            "Correct predictions are:  134\n",
            "Total predictions are:  200\n",
            "Accuracy on test set is: 0.67 \n",
            "\n",
            "\n",
            "\n",
            "EPOCH NUMBER:  7\n",
            "\n",
            "NOW TRAIN THE MODEL.\n"
          ]
        },
        {
          "output_type": "stream",
          "name": "stderr",
          "text": [
            "  0%|▎                                                                                 | 1/300 [00:08<43:51,  8.80s/it]\n",
            "Epoch 1 of 1:   0%|                                                                              | 0/1 [00:00<?, ?it/s]\n",
            "Running Epoch 0 of 1:   0%|                                                                     | 0/38 [00:00<?, ?it/s]\u001b[A\n",
            "Running Epoch 0 of 1:   3%|█▌                                                           | 1/38 [00:02<01:37,  2.65s/it]\u001b[A\n",
            "Running Epoch 0 of 1:   5%|███▏                                                         | 2/38 [00:05<01:35,  2.66s/it]\u001b[A\n",
            "Running Epoch 0 of 1:   8%|████▊                                                        | 3/38 [00:08<01:34,  2.70s/it]\u001b[A\n",
            "Running Epoch 0 of 1:  11%|██████▍                                                      | 4/38 [00:10<01:32,  2.72s/it]\u001b[A\n",
            "Running Epoch 0 of 1:  13%|████████                                                     | 5/38 [00:13<01:29,  2.71s/it]\u001b[A\n",
            "Running Epoch 0 of 1:  16%|█████████▋                                                   | 6/38 [00:16<01:27,  2.73s/it]\u001b[A\n",
            "Running Epoch 0 of 1:  18%|███████████▏                                                 | 7/38 [00:18<01:24,  2.72s/it]\u001b[A\n",
            "Running Epoch 0 of 1:  21%|████████████▊                                                | 8/38 [00:21<01:21,  2.72s/it]\u001b[A\n",
            "Running Epoch 0 of 1:  24%|██████████████▍                                              | 9/38 [00:24<01:18,  2.71s/it]\u001b[A\n",
            "Running Epoch 0 of 1:  26%|███████████████▊                                            | 10/38 [00:27<01:15,  2.71s/it]\u001b[A\n",
            "Running Epoch 0 of 1:  29%|█████████████████▎                                          | 11/38 [00:29<01:12,  2.69s/it]\u001b[A\n",
            "Running Epoch 0 of 1:  32%|██████████████████▉                                         | 12/38 [00:32<01:10,  2.70s/it]\u001b[A\n",
            "Running Epoch 0 of 1:  34%|████████████████████▌                                       | 13/38 [00:35<01:07,  2.72s/it]\u001b[A\n",
            "Running Epoch 0 of 1:  37%|██████████████████████                                      | 14/38 [00:37<01:05,  2.73s/it]\u001b[A\n",
            "Running Epoch 0 of 1:  39%|███████████████████████▋                                    | 15/38 [00:40<01:02,  2.72s/it]\u001b[A\n",
            "Running Epoch 0 of 1:  42%|█████████████████████████▎                                  | 16/38 [00:43<00:59,  2.70s/it]\u001b[A\n",
            "Running Epoch 0 of 1:  45%|██████████████████████████▊                                 | 17/38 [00:46<00:56,  2.70s/it]\u001b[A\n",
            "Running Epoch 0 of 1:  47%|████████████████████████████▍                               | 18/38 [00:48<00:54,  2.70s/it]\u001b[A\n",
            "Running Epoch 0 of 1:  50%|██████████████████████████████                              | 19/38 [00:51<00:51,  2.69s/it]\u001b[A\n",
            "Running Epoch 0 of 1:  53%|███████████████████████████████▌                            | 20/38 [00:54<00:48,  2.70s/it]\u001b[A\n",
            "Running Epoch 0 of 1:  55%|█████████████████████████████████▏                          | 21/38 [00:56<00:46,  2.71s/it]\u001b[A\n",
            "Running Epoch 0 of 1:  58%|██████████████████████████████████▋                         | 22/38 [00:59<00:43,  2.70s/it]\u001b[A\n",
            "Running Epoch 0 of 1:  61%|████████████████████████████████████▎                       | 23/38 [01:02<00:40,  2.71s/it]\u001b[A\n",
            "Running Epoch 0 of 1:  63%|█████████████████████████████████████▉                      | 24/38 [01:04<00:37,  2.71s/it]\u001b[A\n",
            "Running Epoch 0 of 1:  66%|███████████████████████████████████████▍                    | 25/38 [01:07<00:34,  2.66s/it]\u001b[A\n",
            "Running Epoch 0 of 1:  68%|█████████████████████████████████████████                   | 26/38 [01:10<00:31,  2.65s/it]\u001b[A\n",
            "Running Epoch 0 of 1:  71%|██████████████████████████████████████████▋                 | 27/38 [01:12<00:29,  2.67s/it]\u001b[A\n",
            "Running Epoch 0 of 1:  74%|████████████████████████████████████████████▏               | 28/38 [01:15<00:26,  2.68s/it]\u001b[A\n",
            "Running Epoch 0 of 1:  76%|█████████████████████████████████████████████▊              | 29/38 [01:18<00:24,  2.68s/it]\u001b[A\n",
            "Running Epoch 0 of 1:  79%|███████████████████████████████████████████████▎            | 30/38 [01:20<00:21,  2.69s/it]\u001b[A\n",
            "Running Epoch 0 of 1:  82%|████████████████████████████████████████████████▉           | 31/38 [01:23<00:18,  2.70s/it]\u001b[A\n",
            "Running Epoch 0 of 1:  84%|██████████████████████████████████████████████████▌         | 32/38 [01:26<00:16,  2.69s/it]\u001b[A\n",
            "Running Epoch 0 of 1:  87%|████████████████████████████████████████████████████        | 33/38 [01:29<00:13,  2.72s/it]\u001b[A\n",
            "Running Epoch 0 of 1:  89%|█████████████████████████████████████████████████████▋      | 34/38 [01:31<00:10,  2.70s/it]\u001b[A\n",
            "Running Epoch 0 of 1:  92%|███████████████████████████████████████████████████████▎    | 35/38 [01:34<00:08,  2.71s/it]\u001b[A\n",
            "Running Epoch 0 of 1:  95%|████████████████████████████████████████████████████████▊   | 36/38 [01:37<00:05,  2.71s/it]\u001b[A\n",
            "Running Epoch 0 of 1:  97%|██████████████████████████████████████████████████████████▍ | 37/38 [01:39<00:02,  2.71s/it]\u001b[A\n",
            "Running Epoch 0 of 1: 100%|████████████████████████████████████████████████████████████| 38/38 [01:41<00:00,  2.68s/it]\n",
            "Epoch 1 of 1: 100%|█████████████████████████████████████████████████████████████████████| 1/1 [01:41<00:00, 101.67s/it]\n",
            "C:\\Users\\Domenico\\.conda\\envs\\tf\\lib\\site-packages\\simpletransformers\\classification\\classification_model.py:1454: UserWarning: Dataframe headers not specified. Falling back to using column 0 as text and column 1 as labels.\n",
            "  warnings.warn(\n"
          ]
        },
        {
          "output_type": "stream",
          "name": "stdout",
          "text": [
            "\n",
            "NOW EVALUATE THE TEST DF.\n"
          ]
        },
        {
          "output_type": "stream",
          "name": "stderr",
          "text": [
            "  0%|▍                                                                                 | 1/200 [00:07<24:56,  7.52s/it]\n",
            "Running Evaluation: 100%|██████████████████████████████████████████████████████████████| 25/25 [00:16<00:00,  1.53it/s]\n",
            "C:\\Users\\Domenico\\.conda\\envs\\tf\\lib\\site-packages\\simpletransformers\\classification\\classification_model.py:612: UserWarning: Dataframe headers not specified. Falling back to using column 0 as text and column 1 as labels.\n",
            "  warnings.warn(\n"
          ]
        },
        {
          "output_type": "stream",
          "name": "stdout",
          "text": [
            "{'mcc': 0.3485392564445101, 'tp': 56, 'tn': 78, 'fp': 22, 'fn': 44, 'auroc': 0.7377, 'auprc': 0.7096867956422315, 'eval_loss': 1.4407290244102477}\n",
            "Correct predictions are:  134\n",
            "Total predictions are:  200\n",
            "Accuracy on test set is: 0.67 \n",
            "\n",
            "\n",
            "\n",
            "EPOCH NUMBER:  8\n",
            "\n",
            "NOW TRAIN THE MODEL.\n"
          ]
        },
        {
          "output_type": "stream",
          "name": "stderr",
          "text": [
            "  0%|▎                                                                                 | 1/300 [00:08<43:38,  8.76s/it]\n",
            "Epoch 1 of 1:   0%|                                                                              | 0/1 [00:00<?, ?it/s]\n",
            "Running Epoch 0 of 1:   0%|                                                                     | 0/38 [00:00<?, ?it/s]\u001b[A\n",
            "Running Epoch 0 of 1:   3%|█▌                                                           | 1/38 [00:02<01:37,  2.64s/it]\u001b[A\n",
            "Running Epoch 0 of 1:   5%|███▏                                                         | 2/38 [00:05<01:31,  2.55s/it]\u001b[A\n",
            "Running Epoch 0 of 1:   8%|████▊                                                        | 3/38 [00:07<01:32,  2.64s/it]\u001b[A\n",
            "Running Epoch 0 of 1:  11%|██████▍                                                      | 4/38 [00:10<01:29,  2.64s/it]\u001b[A\n",
            "Running Epoch 0 of 1:  13%|████████                                                     | 5/38 [00:13<01:28,  2.70s/it]\u001b[A\n",
            "Running Epoch 0 of 1:  16%|█████████▋                                                   | 6/38 [00:16<01:26,  2.69s/it]\u001b[A\n",
            "Running Epoch 0 of 1:  18%|███████████▏                                                 | 7/38 [00:18<01:23,  2.68s/it]\u001b[A\n",
            "Running Epoch 0 of 1:  21%|████████████▊                                                | 8/38 [00:21<01:20,  2.67s/it]\u001b[A\n",
            "Running Epoch 0 of 1:  24%|██████████████▍                                              | 9/38 [00:24<01:18,  2.70s/it]\u001b[A\n",
            "Running Epoch 0 of 1:  26%|███████████████▊                                            | 10/38 [00:26<01:15,  2.70s/it]\u001b[A\n",
            "Running Epoch 0 of 1:  29%|█████████████████▎                                          | 11/38 [00:29<01:12,  2.69s/it]\u001b[A\n",
            "Running Epoch 0 of 1:  32%|██████████████████▉                                         | 12/38 [00:32<01:10,  2.71s/it]\u001b[A\n",
            "Running Epoch 0 of 1:  34%|████████████████████▌                                       | 13/38 [00:34<01:07,  2.71s/it]\u001b[A\n",
            "Running Epoch 0 of 1:  37%|██████████████████████                                      | 14/38 [00:37<01:04,  2.69s/it]\u001b[A\n",
            "Running Epoch 0 of 1:  39%|███████████████████████▋                                    | 15/38 [00:40<01:01,  2.68s/it]\u001b[A\n",
            "Running Epoch 0 of 1:  42%|█████████████████████████▎                                  | 16/38 [00:42<00:59,  2.71s/it]\u001b[A\n",
            "Running Epoch 0 of 1:  45%|██████████████████████████▊                                 | 17/38 [00:45<00:57,  2.73s/it]\u001b[A\n",
            "Running Epoch 0 of 1:  47%|████████████████████████████▍                               | 18/38 [00:48<00:54,  2.71s/it]\u001b[A\n",
            "Running Epoch 0 of 1:  50%|██████████████████████████████                              | 19/38 [00:51<00:51,  2.71s/it]\u001b[A\n",
            "Running Epoch 0 of 1:  53%|███████████████████████████████▌                            | 20/38 [00:53<00:48,  2.72s/it]\u001b[A\n",
            "Running Epoch 0 of 1:  55%|█████████████████████████████████▏                          | 21/38 [00:56<00:45,  2.71s/it]\u001b[A\n",
            "Running Epoch 0 of 1:  58%|██████████████████████████████████▋                         | 22/38 [00:59<00:42,  2.68s/it]\u001b[A\n",
            "Running Epoch 0 of 1:  61%|████████████████████████████████████▎                       | 23/38 [01:01<00:40,  2.72s/it]\u001b[A\n",
            "Running Epoch 0 of 1:  63%|█████████████████████████████████████▉                      | 24/38 [01:04<00:38,  2.71s/it]\u001b[A\n",
            "Running Epoch 0 of 1:  66%|███████████████████████████████████████▍                    | 25/38 [01:07<00:35,  2.71s/it]\u001b[A\n",
            "Running Epoch 0 of 1:  68%|█████████████████████████████████████████                   | 26/38 [01:10<00:32,  2.69s/it]\u001b[A\n",
            "Running Epoch 0 of 1:  71%|██████████████████████████████████████████▋                 | 27/38 [01:12<00:29,  2.70s/it]\u001b[A\n",
            "Running Epoch 0 of 1:  74%|████████████████████████████████████████████▏               | 28/38 [01:15<00:26,  2.68s/it]\u001b[A\n",
            "Running Epoch 0 of 1:  76%|█████████████████████████████████████████████▊              | 29/38 [01:18<00:24,  2.69s/it]\u001b[A\n",
            "Running Epoch 0 of 1:  79%|███████████████████████████████████████████████▎            | 30/38 [01:20<00:21,  2.70s/it]\u001b[A\n",
            "Running Epoch 0 of 1:  82%|████████████████████████████████████████████████▉           | 31/38 [01:23<00:18,  2.68s/it]\u001b[A\n",
            "Running Epoch 0 of 1:  84%|██████████████████████████████████████████████████▌         | 32/38 [01:26<00:16,  2.69s/it]\u001b[A\n",
            "Running Epoch 0 of 1:  87%|████████████████████████████████████████████████████        | 33/38 [01:28<00:13,  2.69s/it]\u001b[A\n",
            "Running Epoch 0 of 1:  89%|█████████████████████████████████████████████████████▋      | 34/38 [01:31<00:10,  2.68s/it]\u001b[A\n",
            "Running Epoch 0 of 1:  92%|███████████████████████████████████████████████████████▎    | 35/38 [01:34<00:08,  2.68s/it]\u001b[A\n",
            "Running Epoch 0 of 1:  95%|████████████████████████████████████████████████████████▊   | 36/38 [01:36<00:05,  2.67s/it]\u001b[A\n",
            "Running Epoch 0 of 1:  97%|██████████████████████████████████████████████████████████▍ | 37/38 [01:39<00:02,  2.67s/it]\u001b[A\n",
            "Running Epoch 0 of 1: 100%|████████████████████████████████████████████████████████████| 38/38 [01:41<00:00,  2.67s/it]\n",
            "Epoch 1 of 1: 100%|█████████████████████████████████████████████████████████████████████| 1/1 [01:41<00:00, 101.35s/it]\n",
            "C:\\Users\\Domenico\\.conda\\envs\\tf\\lib\\site-packages\\simpletransformers\\classification\\classification_model.py:1454: UserWarning: Dataframe headers not specified. Falling back to using column 0 as text and column 1 as labels.\n",
            "  warnings.warn(\n"
          ]
        },
        {
          "output_type": "stream",
          "name": "stdout",
          "text": [
            "\n",
            "NOW EVALUATE THE TEST DF.\n"
          ]
        },
        {
          "output_type": "stream",
          "name": "stderr",
          "text": [
            "  0%|▍                                                                                 | 1/200 [00:07<25:09,  7.58s/it]\n",
            "Running Evaluation: 100%|██████████████████████████████████████████████████████████████| 25/25 [00:16<00:00,  1.56it/s]\n",
            "C:\\Users\\Domenico\\.conda\\envs\\tf\\lib\\site-packages\\simpletransformers\\classification\\classification_model.py:612: UserWarning: Dataframe headers not specified. Falling back to using column 0 as text and column 1 as labels.\n",
            "  warnings.warn(\n"
          ]
        },
        {
          "output_type": "stream",
          "name": "stdout",
          "text": [
            "{'mcc': 0.29177058435373304, 'tp': 70, 'tn': 59, 'fp': 41, 'fn': 30, 'auroc': 0.7063999999999999, 'auprc': 0.6776659819917432, 'eval_loss': 1.561114166378975}\n",
            "Correct predictions are:  129\n",
            "Total predictions are:  200\n",
            "Accuracy on test set is: 0.645 \n",
            "\n",
            "\n",
            "\n",
            "EPOCH NUMBER:  9\n",
            "\n",
            "NOW TRAIN THE MODEL.\n"
          ]
        },
        {
          "output_type": "stream",
          "name": "stderr",
          "text": [
            "  0%|▎                                                                                 | 1/300 [00:08<44:02,  8.84s/it]\n",
            "Epoch 1 of 1:   0%|                                                                              | 0/1 [00:00<?, ?it/s]\n",
            "Running Epoch 0 of 1:   0%|                                                                     | 0/38 [00:00<?, ?it/s]\u001b[A\n",
            "Running Epoch 0 of 1:   3%|█▌                                                           | 1/38 [00:02<01:31,  2.49s/it]\u001b[A\n",
            "Running Epoch 0 of 1:   5%|███▏                                                         | 2/38 [00:05<01:30,  2.51s/it]\u001b[A\n",
            "Running Epoch 0 of 1:   8%|████▊                                                        | 3/38 [00:07<01:28,  2.52s/it]\u001b[A\n",
            "Running Epoch 0 of 1:  11%|██████▍                                                      | 4/38 [00:10<01:25,  2.51s/it]\u001b[A\n",
            "Running Epoch 0 of 1:  13%|████████                                                     | 5/38 [00:12<01:22,  2.51s/it]\u001b[A\n",
            "Running Epoch 0 of 1:  16%|█████████▋                                                   | 6/38 [00:15<01:22,  2.57s/it]\u001b[A\n",
            "Running Epoch 0 of 1:  18%|███████████▏                                                 | 7/38 [00:17<01:20,  2.61s/it]\u001b[A\n",
            "Running Epoch 0 of 1:  21%|████████████▊                                                | 8/38 [00:20<01:18,  2.63s/it]\u001b[A\n",
            "Running Epoch 0 of 1:  24%|██████████████▍                                              | 9/38 [00:23<01:16,  2.64s/it]\u001b[A\n",
            "Running Epoch 0 of 1:  26%|███████████████▊                                            | 10/38 [00:26<01:15,  2.68s/it]\u001b[A\n",
            "Running Epoch 0 of 1:  29%|█████████████████▎                                          | 11/38 [00:28<01:12,  2.70s/it]\u001b[A\n",
            "Running Epoch 0 of 1:  32%|██████████████████▉                                         | 12/38 [00:31<01:10,  2.70s/it]\u001b[A\n",
            "Running Epoch 0 of 1:  34%|████████████████████▌                                       | 13/38 [00:34<01:08,  2.73s/it]\u001b[A\n",
            "Running Epoch 0 of 1:  37%|██████████████████████                                      | 14/38 [00:36<01:05,  2.72s/it]\u001b[A\n",
            "Running Epoch 0 of 1:  39%|███████████████████████▋                                    | 15/38 [00:39<01:02,  2.72s/it]\u001b[A\n",
            "Running Epoch 0 of 1:  42%|█████████████████████████▎                                  | 16/38 [00:42<00:59,  2.73s/it]\u001b[A\n",
            "Running Epoch 0 of 1:  45%|██████████████████████████▊                                 | 17/38 [00:45<00:57,  2.72s/it]\u001b[A\n",
            "Running Epoch 0 of 1:  47%|████████████████████████████▍                               | 18/38 [00:47<00:54,  2.72s/it]\u001b[A\n",
            "Running Epoch 0 of 1:  50%|██████████████████████████████                              | 19/38 [00:50<00:51,  2.72s/it]\u001b[A\n",
            "Running Epoch 0 of 1:  53%|███████████████████████████████▌                            | 20/38 [00:53<00:49,  2.73s/it]\u001b[A\n",
            "Running Epoch 0 of 1:  55%|█████████████████████████████████▏                          | 21/38 [00:55<00:45,  2.70s/it]\u001b[A\n",
            "Running Epoch 0 of 1:  58%|██████████████████████████████████▋                         | 22/38 [00:58<00:43,  2.69s/it]\u001b[A\n",
            "Running Epoch 0 of 1:  61%|████████████████████████████████████▎                       | 23/38 [01:01<00:40,  2.72s/it]\u001b[A\n",
            "Running Epoch 0 of 1:  63%|█████████████████████████████████████▉                      | 24/38 [01:04<00:38,  2.72s/it]\u001b[A\n",
            "Running Epoch 0 of 1:  66%|███████████████████████████████████████▍                    | 25/38 [01:06<00:35,  2.75s/it]\u001b[A\n",
            "Running Epoch 0 of 1:  68%|█████████████████████████████████████████                   | 26/38 [01:09<00:32,  2.73s/it]\u001b[A\n",
            "Running Epoch 0 of 1:  71%|██████████████████████████████████████████▋                 | 27/38 [01:12<00:29,  2.72s/it]\u001b[A\n",
            "Running Epoch 0 of 1:  74%|████████████████████████████████████████████▏               | 28/38 [01:15<00:27,  2.71s/it]\u001b[A\n",
            "Running Epoch 0 of 1:  76%|█████████████████████████████████████████████▊              | 29/38 [01:17<00:24,  2.71s/it]\u001b[A\n",
            "Running Epoch 0 of 1:  79%|███████████████████████████████████████████████▎            | 30/38 [01:20<00:21,  2.70s/it]\u001b[A\n",
            "Running Epoch 0 of 1:  82%|████████████████████████████████████████████████▉           | 31/38 [01:23<00:18,  2.71s/it]\u001b[A\n",
            "Running Epoch 0 of 1:  84%|██████████████████████████████████████████████████▌         | 32/38 [01:25<00:16,  2.69s/it]\u001b[A\n",
            "Running Epoch 0 of 1:  87%|████████████████████████████████████████████████████        | 33/38 [01:28<00:13,  2.68s/it]\u001b[A\n",
            "Running Epoch 0 of 1:  89%|█████████████████████████████████████████████████████▋      | 34/38 [01:31<00:10,  2.68s/it]\u001b[A\n",
            "Running Epoch 0 of 1:  92%|███████████████████████████████████████████████████████▎    | 35/38 [01:33<00:08,  2.68s/it]\u001b[A\n",
            "Running Epoch 0 of 1:  95%|████████████████████████████████████████████████████████▊   | 36/38 [01:36<00:05,  2.68s/it]\u001b[A\n",
            "Running Epoch 0 of 1:  97%|██████████████████████████████████████████████████████████▍ | 37/38 [01:39<00:02,  2.68s/it]\u001b[A\n",
            "Running Epoch 0 of 1: 100%|████████████████████████████████████████████████████████████| 38/38 [01:40<00:00,  2.66s/it]\n",
            "Epoch 1 of 1: 100%|█████████████████████████████████████████████████████████████████████| 1/1 [01:40<00:00, 100.92s/it]\n",
            "C:\\Users\\Domenico\\.conda\\envs\\tf\\lib\\site-packages\\simpletransformers\\classification\\classification_model.py:1454: UserWarning: Dataframe headers not specified. Falling back to using column 0 as text and column 1 as labels.\n",
            "  warnings.warn(\n"
          ]
        },
        {
          "output_type": "stream",
          "name": "stdout",
          "text": [
            "\n",
            "NOW EVALUATE THE TEST DF.\n"
          ]
        },
        {
          "output_type": "stream",
          "name": "stderr",
          "text": [
            "  0%|▍                                                                                 | 1/200 [00:07<25:41,  7.75s/it]\n",
            "Running Evaluation: 100%|██████████████████████████████████████████████████████████████| 25/25 [00:16<00:00,  1.55it/s]\n"
          ]
        },
        {
          "output_type": "stream",
          "name": "stdout",
          "text": [
            "{'mcc': 0.3, 'tp': 65, 'tn': 65, 'fp': 35, 'fn': 35, 'auroc': 0.7328, 'auprc': 0.7167769540041335, 'eval_loss': 1.770516538619995}\n",
            "Correct predictions are:  130\n",
            "Total predictions are:  200\n",
            "Accuracy on test set is: 0.65 \n",
            "\n",
            "\n",
            "[0.5, 0.66, 0.69, 0.66, 0.72, 0.67, 0.67, 0.67, 0.645, 0.65]\n"
          ]
        },
        {
          "output_type": "stream",
          "name": "stderr",
          "text": [
            "Some weights of the model checkpoint at roberta-base were not used when initializing RobertaForSequenceClassification: ['lm_head.dense.weight', 'roberta.pooler.dense.bias', 'lm_head.layer_norm.weight', 'roberta.pooler.dense.weight', 'lm_head.layer_norm.bias', 'lm_head.dense.bias', 'lm_head.decoder.weight', 'lm_head.bias']\n",
            "- This IS expected if you are initializing RobertaForSequenceClassification from the checkpoint of a model trained on another task or with another architecture (e.g. initializing a BertForSequenceClassification model from a BertForPreTraining model).\n",
            "- This IS NOT expected if you are initializing RobertaForSequenceClassification from the checkpoint of a model that you expect to be exactly identical (initializing a BertForSequenceClassification model from a BertForSequenceClassification model).\n",
            "Some weights of RobertaForSequenceClassification were not initialized from the model checkpoint at roberta-base and are newly initialized: ['classifier.out_proj.bias', 'classifier.dense.bias', 'classifier.out_proj.weight', 'classifier.dense.weight']\n",
            "You should probably TRAIN this model on a down-stream task to be able to use it for predictions and inference.\n",
            "C:\\Users\\Domenico\\.conda\\envs\\tf\\lib\\site-packages\\simpletransformers\\classification\\classification_model.py:612: UserWarning: Dataframe headers not specified. Falling back to using column 0 as text and column 1 as labels.\n",
            "  warnings.warn(\n"
          ]
        },
        {
          "output_type": "stream",
          "name": "stdout",
          "text": [
            "\n",
            "EPOCH NUMBER:  0\n",
            "\n",
            "NOW TRAIN THE MODEL.\n"
          ]
        },
        {
          "output_type": "stream",
          "name": "stderr",
          "text": [
            "  0%|▎                                                                                 | 1/300 [00:09<44:59,  9.03s/it]\n",
            "Epoch 1 of 1:   0%|                                                                              | 0/1 [00:00<?, ?it/s]\n",
            "Running Epoch 0 of 1:   0%|                                                                     | 0/38 [00:00<?, ?it/s]\u001b[A\n",
            "Running Epoch 0 of 1:   3%|█▌                                                           | 1/38 [00:02<01:29,  2.41s/it]\u001b[A\n",
            "Running Epoch 0 of 1:   5%|███▏                                                         | 2/38 [00:05<01:31,  2.54s/it]\u001b[A\n",
            "Running Epoch 0 of 1:   8%|████▊                                                        | 3/38 [00:07<01:31,  2.62s/it]\u001b[A\n",
            "Running Epoch 0 of 1:  11%|██████▍                                                      | 4/38 [00:10<01:30,  2.65s/it]\u001b[A\n",
            "Running Epoch 0 of 1:  13%|████████                                                     | 5/38 [00:13<01:27,  2.66s/it]\u001b[A\n",
            "Running Epoch 0 of 1:  16%|█████████▋                                                   | 6/38 [00:15<01:25,  2.67s/it]\u001b[A\n",
            "Running Epoch 0 of 1:  18%|███████████▏                                                 | 7/38 [00:18<01:23,  2.69s/it]\u001b[A\n",
            "Running Epoch 0 of 1:  21%|████████████▊                                                | 8/38 [00:21<01:20,  2.69s/it]\u001b[A\n",
            "Running Epoch 0 of 1:  24%|██████████████▍                                              | 9/38 [00:23<01:18,  2.70s/it]\u001b[A\n",
            "Running Epoch 0 of 1:  26%|███████████████▊                                            | 10/38 [00:26<01:15,  2.71s/it]\u001b[A\n",
            "Running Epoch 0 of 1:  29%|█████████████████▎                                          | 11/38 [00:29<01:12,  2.70s/it]\u001b[A\n",
            "Running Epoch 0 of 1:  32%|██████████████████▉                                         | 12/38 [00:32<01:10,  2.71s/it]\u001b[A\n",
            "Running Epoch 0 of 1:  34%|████████████████████▌                                       | 13/38 [00:34<01:07,  2.70s/it]\u001b[A\n",
            "Running Epoch 0 of 1:  37%|██████████████████████                                      | 14/38 [00:37<01:05,  2.72s/it]\u001b[A\n",
            "Running Epoch 0 of 1:  39%|███████████████████████▋                                    | 15/38 [00:40<01:02,  2.71s/it]\u001b[A\n",
            "Running Epoch 0 of 1:  42%|█████████████████████████▎                                  | 16/38 [00:42<00:59,  2.69s/it]\u001b[A\n",
            "Running Epoch 0 of 1:  45%|██████████████████████████▊                                 | 17/38 [00:45<00:56,  2.69s/it]\u001b[A\n",
            "Running Epoch 0 of 1:  47%|████████████████████████████▍                               | 18/38 [00:48<00:53,  2.70s/it]\u001b[A\n",
            "Running Epoch 0 of 1:  50%|██████████████████████████████                              | 19/38 [00:51<00:51,  2.71s/it]\u001b[A\n",
            "Running Epoch 0 of 1:  53%|███████████████████████████████▌                            | 20/38 [00:53<00:48,  2.71s/it]\u001b[A\n",
            "Running Epoch 0 of 1:  55%|█████████████████████████████████▏                          | 21/38 [00:56<00:46,  2.72s/it]\u001b[A\n",
            "Running Epoch 0 of 1:  58%|██████████████████████████████████▋                         | 22/38 [00:59<00:43,  2.72s/it]\u001b[A\n",
            "Running Epoch 0 of 1:  61%|████████████████████████████████████▎                       | 23/38 [01:01<00:41,  2.74s/it]\u001b[A\n",
            "Running Epoch 0 of 1:  63%|█████████████████████████████████████▉                      | 24/38 [01:04<00:38,  2.73s/it]\u001b[A\n",
            "Running Epoch 0 of 1:  66%|███████████████████████████████████████▍                    | 25/38 [01:07<00:35,  2.72s/it]\u001b[A\n",
            "Running Epoch 0 of 1:  68%|█████████████████████████████████████████                   | 26/38 [01:10<00:32,  2.72s/it]\u001b[A\n",
            "Running Epoch 0 of 1:  71%|██████████████████████████████████████████▋                 | 27/38 [01:12<00:29,  2.72s/it]\u001b[A\n",
            "Running Epoch 0 of 1:  74%|████████████████████████████████████████████▏               | 28/38 [01:15<00:27,  2.70s/it]\u001b[A\n",
            "Running Epoch 0 of 1:  76%|█████████████████████████████████████████████▊              | 29/38 [01:18<00:24,  2.70s/it]\u001b[A\n",
            "Running Epoch 0 of 1:  79%|███████████████████████████████████████████████▎            | 30/38 [01:20<00:21,  2.68s/it]\u001b[A\n",
            "Running Epoch 0 of 1:  82%|████████████████████████████████████████████████▉           | 31/38 [01:23<00:18,  2.70s/it]\u001b[A\n",
            "Running Epoch 0 of 1:  84%|██████████████████████████████████████████████████▌         | 32/38 [01:26<00:16,  2.72s/it]\u001b[A\n",
            "Running Epoch 0 of 1:  87%|████████████████████████████████████████████████████        | 33/38 [01:29<00:13,  2.71s/it]\u001b[A\n",
            "Running Epoch 0 of 1:  89%|█████████████████████████████████████████████████████▋      | 34/38 [01:31<00:10,  2.71s/it]\u001b[A\n",
            "Running Epoch 0 of 1:  92%|███████████████████████████████████████████████████████▎    | 35/38 [01:34<00:08,  2.70s/it]\u001b[A\n",
            "Running Epoch 0 of 1:  95%|████████████████████████████████████████████████████████▊   | 36/38 [01:37<00:05,  2.72s/it]\u001b[A\n",
            "Running Epoch 0 of 1:  97%|██████████████████████████████████████████████████████████▍ | 37/38 [01:39<00:02,  2.70s/it]\u001b[A\n",
            "Running Epoch 0 of 1: 100%|████████████████████████████████████████████████████████████| 38/38 [01:41<00:00,  2.67s/it]\n",
            "Epoch 1 of 1: 100%|█████████████████████████████████████████████████████████████████████| 1/1 [01:41<00:00, 101.59s/it]\n",
            "C:\\Users\\Domenico\\.conda\\envs\\tf\\lib\\site-packages\\simpletransformers\\classification\\classification_model.py:1454: UserWarning: Dataframe headers not specified. Falling back to using column 0 as text and column 1 as labels.\n",
            "  warnings.warn(\n"
          ]
        },
        {
          "output_type": "stream",
          "name": "stdout",
          "text": [
            "\n",
            "NOW EVALUATE THE TEST DF.\n"
          ]
        },
        {
          "output_type": "stream",
          "name": "stderr",
          "text": [
            "  0%|▍                                                                                 | 1/200 [00:07<25:02,  7.55s/it]\n",
            "Running Evaluation: 100%|██████████████████████████████████████████████████████████████| 25/25 [00:16<00:00,  1.53it/s]\n",
            "C:\\Users\\Domenico\\.conda\\envs\\tf\\lib\\site-packages\\simpletransformers\\classification\\classification_model.py:612: UserWarning: Dataframe headers not specified. Falling back to using column 0 as text and column 1 as labels.\n",
            "  warnings.warn(\n"
          ]
        },
        {
          "output_type": "stream",
          "name": "stdout",
          "text": [
            "{'mcc': 0.3000600180060021, 'tp': 64, 'tn': 66, 'fp': 34, 'fn': 36, 'auroc': 0.6852, 'auprc': 0.6595845723600763, 'eval_loss': 0.6844728350639343}\n",
            "Correct predictions are:  130\n",
            "Total predictions are:  200\n",
            "Accuracy on test set is: 0.65 \n",
            "\n",
            "\n",
            "\n",
            "EPOCH NUMBER:  1\n",
            "\n",
            "NOW TRAIN THE MODEL.\n"
          ]
        },
        {
          "output_type": "stream",
          "name": "stderr",
          "text": [
            "  0%|▎                                                                                 | 1/300 [00:08<44:07,  8.86s/it]\n",
            "Epoch 1 of 1:   0%|                                                                              | 0/1 [00:00<?, ?it/s]\n",
            "Running Epoch 0 of 1:   0%|                                                                     | 0/38 [00:00<?, ?it/s]\u001b[A\n",
            "Running Epoch 0 of 1:   3%|█▌                                                           | 1/38 [00:02<01:36,  2.61s/it]\u001b[A\n",
            "Running Epoch 0 of 1:   5%|███▏                                                         | 2/38 [00:05<01:35,  2.64s/it]\u001b[A\n",
            "Running Epoch 0 of 1:   8%|████▊                                                        | 3/38 [00:07<01:32,  2.65s/it]\u001b[A\n",
            "Running Epoch 0 of 1:  11%|██████▍                                                      | 4/38 [00:10<01:31,  2.68s/it]\u001b[A\n",
            "Running Epoch 0 of 1:  13%|████████                                                     | 5/38 [00:13<01:28,  2.68s/it]\u001b[A\n",
            "Running Epoch 0 of 1:  16%|█████████▋                                                   | 6/38 [00:16<01:25,  2.68s/it]\u001b[A\n",
            "Running Epoch 0 of 1:  18%|███████████▏                                                 | 7/38 [00:18<01:23,  2.68s/it]\u001b[A\n",
            "Running Epoch 0 of 1:  21%|████████████▊                                                | 8/38 [00:21<01:20,  2.69s/it]\u001b[A\n",
            "Running Epoch 0 of 1:  24%|██████████████▍                                              | 9/38 [00:24<01:18,  2.69s/it]\u001b[A\n",
            "Running Epoch 0 of 1:  26%|███████████████▊                                            | 10/38 [00:26<01:15,  2.69s/it]\u001b[A\n",
            "Running Epoch 0 of 1:  29%|█████████████████▎                                          | 11/38 [00:29<01:12,  2.69s/it]\u001b[A\n",
            "Running Epoch 0 of 1:  32%|██████████████████▉                                         | 12/38 [00:32<01:09,  2.67s/it]\u001b[A\n",
            "Running Epoch 0 of 1:  34%|████████████████████▌                                       | 13/38 [00:34<01:06,  2.67s/it]\u001b[A\n",
            "Running Epoch 0 of 1:  37%|██████████████████████                                      | 14/38 [00:37<01:04,  2.69s/it]\u001b[A\n",
            "Running Epoch 0 of 1:  39%|███████████████████████▋                                    | 15/38 [00:40<01:01,  2.68s/it]\u001b[A\n",
            "Running Epoch 0 of 1:  42%|█████████████████████████▎                                  | 16/38 [00:42<00:58,  2.67s/it]\u001b[A\n",
            "Running Epoch 0 of 1:  45%|██████████████████████████▊                                 | 17/38 [00:45<00:56,  2.67s/it]\u001b[A\n",
            "Running Epoch 0 of 1:  47%|████████████████████████████▍                               | 18/38 [00:48<00:53,  2.69s/it]\u001b[A\n",
            "Running Epoch 0 of 1:  50%|██████████████████████████████                              | 19/38 [00:50<00:50,  2.67s/it]\u001b[A\n",
            "Running Epoch 0 of 1:  53%|███████████████████████████████▌                            | 20/38 [00:53<00:47,  2.66s/it]\u001b[A\n",
            "Running Epoch 0 of 1:  55%|█████████████████████████████████▏                          | 21/38 [00:56<00:44,  2.64s/it]\u001b[A\n",
            "Running Epoch 0 of 1:  58%|██████████████████████████████████▋                         | 22/38 [00:58<00:42,  2.65s/it]\u001b[A\n",
            "Running Epoch 0 of 1:  61%|████████████████████████████████████▎                       | 23/38 [01:01<00:39,  2.66s/it]\u001b[A\n",
            "Running Epoch 0 of 1:  63%|█████████████████████████████████████▉                      | 24/38 [01:04<00:37,  2.65s/it]\u001b[A\n",
            "Running Epoch 0 of 1:  66%|███████████████████████████████████████▍                    | 25/38 [01:06<00:34,  2.66s/it]\u001b[A\n",
            "Running Epoch 0 of 1:  68%|█████████████████████████████████████████                   | 26/38 [01:09<00:31,  2.65s/it]\u001b[A\n",
            "Running Epoch 0 of 1:  71%|██████████████████████████████████████████▋                 | 27/38 [01:11<00:28,  2.63s/it]\u001b[A\n",
            "Running Epoch 0 of 1:  74%|████████████████████████████████████████████▏               | 28/38 [01:14<00:26,  2.63s/it]\u001b[A\n",
            "Running Epoch 0 of 1:  76%|█████████████████████████████████████████████▊              | 29/38 [01:17<00:23,  2.60s/it]\u001b[A\n",
            "Running Epoch 0 of 1:  79%|███████████████████████████████████████████████▎            | 30/38 [01:19<00:20,  2.60s/it]\u001b[A\n",
            "Running Epoch 0 of 1:  82%|████████████████████████████████████████████████▉           | 31/38 [01:22<00:18,  2.62s/it]\u001b[A\n",
            "Running Epoch 0 of 1:  84%|██████████████████████████████████████████████████▌         | 32/38 [01:25<00:15,  2.63s/it]\u001b[A\n",
            "Running Epoch 0 of 1:  87%|████████████████████████████████████████████████████        | 33/38 [01:27<00:13,  2.64s/it]\u001b[A\n",
            "Running Epoch 0 of 1:  89%|█████████████████████████████████████████████████████▋      | 34/38 [01:30<00:10,  2.64s/it]\u001b[A\n",
            "Running Epoch 0 of 1:  92%|███████████████████████████████████████████████████████▎    | 35/38 [01:32<00:07,  2.62s/it]\u001b[A\n",
            "Running Epoch 0 of 1:  95%|████████████████████████████████████████████████████████▊   | 36/38 [01:35<00:05,  2.63s/it]\u001b[A\n",
            "Running Epoch 0 of 1:  97%|██████████████████████████████████████████████████████████▍ | 37/38 [01:38<00:02,  2.64s/it]\u001b[A\n",
            "Running Epoch 0 of 1: 100%|████████████████████████████████████████████████████████████| 38/38 [01:39<00:00,  2.63s/it]\n",
            "Epoch 1 of 1: 100%|██████████████████████████████████████████████████████████████████████| 1/1 [01:39<00:00, 99.94s/it]\n",
            "C:\\Users\\Domenico\\.conda\\envs\\tf\\lib\\site-packages\\simpletransformers\\classification\\classification_model.py:1454: UserWarning: Dataframe headers not specified. Falling back to using column 0 as text and column 1 as labels.\n",
            "  warnings.warn(\n"
          ]
        },
        {
          "output_type": "stream",
          "name": "stdout",
          "text": [
            "\n",
            "NOW EVALUATE THE TEST DF.\n"
          ]
        },
        {
          "output_type": "stream",
          "name": "stderr",
          "text": [
            "  0%|▍                                                                                 | 1/200 [00:07<26:04,  7.86s/it]\n",
            "Running Evaluation: 100%|██████████████████████████████████████████████████████████████| 25/25 [00:16<00:00,  1.52it/s]\n",
            "C:\\Users\\Domenico\\.conda\\envs\\tf\\lib\\site-packages\\simpletransformers\\classification\\classification_model.py:612: UserWarning: Dataframe headers not specified. Falling back to using column 0 as text and column 1 as labels.\n",
            "  warnings.warn(\n"
          ]
        },
        {
          "output_type": "stream",
          "name": "stdout",
          "text": [
            "{'mcc': 0.30982226922028794, 'tp': 95, 'tn': 28, 'fp': 72, 'fn': 5, 'auroc': 0.734, 'auprc': 0.6862100964072306, 'eval_loss': 0.6744616878032684}\n",
            "Correct predictions are:  123\n",
            "Total predictions are:  200\n",
            "Accuracy on test set is: 0.615 \n",
            "\n",
            "\n",
            "\n",
            "EPOCH NUMBER:  2\n",
            "\n",
            "NOW TRAIN THE MODEL.\n"
          ]
        },
        {
          "output_type": "stream",
          "name": "stderr",
          "text": [
            "  0%|▎                                                                                 | 1/300 [00:08<43:59,  8.83s/it]\n",
            "Epoch 1 of 1:   0%|                                                                              | 0/1 [00:00<?, ?it/s]\n",
            "Running Epoch 0 of 1:   0%|                                                                     | 0/38 [00:00<?, ?it/s]\u001b[A\n",
            "Running Epoch 0 of 1:   3%|█▌                                                           | 1/38 [00:02<01:39,  2.69s/it]\u001b[A\n",
            "Running Epoch 0 of 1:   5%|███▏                                                         | 2/38 [00:05<01:37,  2.72s/it]\u001b[A\n",
            "Running Epoch 0 of 1:   8%|████▊                                                        | 3/38 [00:08<01:33,  2.67s/it]\u001b[A\n",
            "Running Epoch 0 of 1:  11%|██████▍                                                      | 4/38 [00:10<01:30,  2.66s/it]\u001b[A\n",
            "Running Epoch 0 of 1:  13%|████████                                                     | 5/38 [00:13<01:27,  2.67s/it]\u001b[A\n",
            "Running Epoch 0 of 1:  16%|█████████▋                                                   | 6/38 [00:16<01:25,  2.68s/it]\u001b[A\n",
            "Running Epoch 0 of 1:  18%|███████████▏                                                 | 7/38 [00:18<01:23,  2.70s/it]\u001b[A\n",
            "Running Epoch 0 of 1:  21%|████████████▊                                                | 8/38 [00:21<01:21,  2.71s/it]\u001b[A\n",
            "Running Epoch 0 of 1:  24%|██████████████▍                                              | 9/38 [00:24<01:18,  2.71s/it]\u001b[A\n",
            "Running Epoch 0 of 1:  26%|███████████████▊                                            | 10/38 [00:26<01:15,  2.70s/it]\u001b[A\n",
            "Running Epoch 0 of 1:  29%|█████████████████▎                                          | 11/38 [00:29<01:13,  2.71s/it]\u001b[A\n",
            "Running Epoch 0 of 1:  32%|██████████████████▉                                         | 12/38 [00:32<01:09,  2.69s/it]\u001b[A\n",
            "Running Epoch 0 of 1:  34%|████████████████████▌                                       | 13/38 [00:34<01:06,  2.68s/it]\u001b[A\n",
            "Running Epoch 0 of 1:  37%|██████████████████████                                      | 14/38 [00:37<01:04,  2.69s/it]\u001b[A\n",
            "Running Epoch 0 of 1:  39%|███████████████████████▋                                    | 15/38 [00:40<01:01,  2.69s/it]\u001b[A\n",
            "Running Epoch 0 of 1:  42%|█████████████████████████▎                                  | 16/38 [00:42<00:58,  2.67s/it]\u001b[A\n",
            "Running Epoch 0 of 1:  45%|██████████████████████████▊                                 | 17/38 [00:45<00:55,  2.66s/it]\u001b[A\n",
            "Running Epoch 0 of 1:  47%|████████████████████████████▍                               | 18/38 [00:48<00:53,  2.66s/it]\u001b[A\n",
            "Running Epoch 0 of 1:  50%|██████████████████████████████                              | 19/38 [00:50<00:50,  2.67s/it]\u001b[A\n",
            "Running Epoch 0 of 1:  53%|███████████████████████████████▌                            | 20/38 [00:53<00:48,  2.67s/it]\u001b[A\n",
            "Running Epoch 0 of 1:  55%|█████████████████████████████████▏                          | 21/38 [00:56<00:45,  2.67s/it]\u001b[A\n",
            "Running Epoch 0 of 1:  58%|██████████████████████████████████▋                         | 22/38 [00:58<00:42,  2.67s/it]\u001b[A\n",
            "Running Epoch 0 of 1:  61%|████████████████████████████████████▎                       | 23/38 [01:01<00:40,  2.69s/it]\u001b[A\n",
            "Running Epoch 0 of 1:  63%|█████████████████████████████████████▉                      | 24/38 [01:04<00:37,  2.67s/it]\u001b[A\n",
            "Running Epoch 0 of 1:  66%|███████████████████████████████████████▍                    | 25/38 [01:06<00:34,  2.65s/it]\u001b[A\n",
            "Running Epoch 0 of 1:  68%|█████████████████████████████████████████                   | 26/38 [01:09<00:31,  2.66s/it]\u001b[A\n",
            "Running Epoch 0 of 1:  71%|██████████████████████████████████████████▋                 | 27/38 [01:12<00:29,  2.67s/it]\u001b[A\n",
            "Running Epoch 0 of 1:  74%|████████████████████████████████████████████▏               | 28/38 [01:15<00:26,  2.67s/it]\u001b[A\n",
            "Running Epoch 0 of 1:  76%|█████████████████████████████████████████████▊              | 29/38 [01:17<00:24,  2.67s/it]\u001b[A\n",
            "Running Epoch 0 of 1:  79%|███████████████████████████████████████████████▎            | 30/38 [01:20<00:21,  2.67s/it]\u001b[A\n",
            "Running Epoch 0 of 1:  82%|████████████████████████████████████████████████▉           | 31/38 [01:23<00:18,  2.66s/it]\u001b[A\n",
            "Running Epoch 0 of 1:  84%|██████████████████████████████████████████████████▌         | 32/38 [01:25<00:16,  2.67s/it]\u001b[A\n",
            "Running Epoch 0 of 1:  87%|████████████████████████████████████████████████████        | 33/38 [01:28<00:13,  2.67s/it]\u001b[A\n",
            "Running Epoch 0 of 1:  89%|█████████████████████████████████████████████████████▋      | 34/38 [01:31<00:10,  2.68s/it]\u001b[A\n",
            "Running Epoch 0 of 1:  92%|███████████████████████████████████████████████████████▎    | 35/38 [01:33<00:08,  2.69s/it]\u001b[A\n",
            "Running Epoch 0 of 1:  95%|████████████████████████████████████████████████████████▊   | 36/38 [01:36<00:05,  2.68s/it]\u001b[A\n",
            "Running Epoch 0 of 1:  97%|██████████████████████████████████████████████████████████▍ | 37/38 [01:39<00:02,  2.68s/it]\u001b[A\n",
            "Running Epoch 0 of 1: 100%|████████████████████████████████████████████████████████████| 38/38 [01:40<00:00,  2.65s/it]\n",
            "Epoch 1 of 1: 100%|█████████████████████████████████████████████████████████████████████| 1/1 [01:40<00:00, 100.84s/it]\n",
            "C:\\Users\\Domenico\\.conda\\envs\\tf\\lib\\site-packages\\simpletransformers\\classification\\classification_model.py:1454: UserWarning: Dataframe headers not specified. Falling back to using column 0 as text and column 1 as labels.\n",
            "  warnings.warn(\n"
          ]
        },
        {
          "output_type": "stream",
          "name": "stdout",
          "text": [
            "\n",
            "NOW EVALUATE THE TEST DF.\n"
          ]
        },
        {
          "output_type": "stream",
          "name": "stderr",
          "text": [
            "  0%|▍                                                                                 | 1/200 [00:07<25:28,  7.68s/it]\n",
            "Running Evaluation: 100%|██████████████████████████████████████████████████████████████| 25/25 [00:16<00:00,  1.53it/s]\n",
            "C:\\Users\\Domenico\\.conda\\envs\\tf\\lib\\site-packages\\simpletransformers\\classification\\classification_model.py:612: UserWarning: Dataframe headers not specified. Falling back to using column 0 as text and column 1 as labels.\n",
            "  warnings.warn(\n"
          ]
        },
        {
          "output_type": "stream",
          "name": "stdout",
          "text": [
            "{'mcc': 0.3635807234610496, 'tp': 61, 'tn': 75, 'fp': 25, 'fn': 39, 'auroc': 0.7293, 'auprc': 0.6672235367615065, 'eval_loss': 0.6222319626808166}\n",
            "Correct predictions are:  136\n",
            "Total predictions are:  200\n",
            "Accuracy on test set is: 0.68 \n",
            "\n",
            "\n",
            "\n",
            "EPOCH NUMBER:  3\n",
            "\n",
            "NOW TRAIN THE MODEL.\n"
          ]
        },
        {
          "output_type": "stream",
          "name": "stderr",
          "text": [
            "  0%|▎                                                                                 | 1/300 [00:08<43:22,  8.70s/it]\n",
            "Epoch 1 of 1:   0%|                                                                              | 0/1 [00:00<?, ?it/s]\n",
            "Running Epoch 0 of 1:   0%|                                                                     | 0/38 [00:00<?, ?it/s]\u001b[A\n",
            "Running Epoch 0 of 1:   3%|█▌                                                           | 1/38 [00:02<01:36,  2.62s/it]\u001b[A\n",
            "Running Epoch 0 of 1:   5%|███▏                                                         | 2/38 [00:05<01:36,  2.67s/it]\u001b[A\n",
            "Running Epoch 0 of 1:   8%|████▊                                                        | 3/38 [00:07<01:33,  2.67s/it]\u001b[A\n",
            "Running Epoch 0 of 1:  11%|██████▍                                                      | 4/38 [00:10<01:30,  2.67s/it]\u001b[A\n",
            "Running Epoch 0 of 1:  13%|████████                                                     | 5/38 [00:13<01:28,  2.68s/it]\u001b[A\n",
            "Running Epoch 0 of 1:  16%|█████████▋                                                   | 6/38 [00:16<01:25,  2.68s/it]\u001b[A\n",
            "Running Epoch 0 of 1:  18%|███████████▏                                                 | 7/38 [00:18<01:22,  2.67s/it]\u001b[A\n",
            "Running Epoch 0 of 1:  21%|████████████▊                                                | 8/38 [00:21<01:20,  2.68s/it]\u001b[A\n",
            "Running Epoch 0 of 1:  24%|██████████████▍                                              | 9/38 [00:24<01:18,  2.69s/it]\u001b[A\n",
            "Running Epoch 0 of 1:  26%|███████████████▊                                            | 10/38 [00:26<01:15,  2.69s/it]\u001b[A\n",
            "Running Epoch 0 of 1:  29%|█████████████████▎                                          | 11/38 [00:29<01:13,  2.71s/it]\u001b[A\n",
            "Running Epoch 0 of 1:  32%|██████████████████▉                                         | 12/38 [00:32<01:10,  2.70s/it]\u001b[A\n",
            "Running Epoch 0 of 1:  34%|████████████████████▌                                       | 13/38 [00:34<01:07,  2.70s/it]\u001b[A\n",
            "Running Epoch 0 of 1:  37%|██████████████████████                                      | 14/38 [00:37<01:04,  2.69s/it]\u001b[A\n",
            "Running Epoch 0 of 1:  39%|███████████████████████▋                                    | 15/38 [00:40<01:02,  2.71s/it]\u001b[A\n",
            "Running Epoch 0 of 1:  42%|█████████████████████████▎                                  | 16/38 [00:43<00:59,  2.69s/it]\u001b[A\n",
            "Running Epoch 0 of 1:  45%|██████████████████████████▊                                 | 17/38 [00:45<00:56,  2.70s/it]\u001b[A\n",
            "Running Epoch 0 of 1:  47%|████████████████████████████▍                               | 18/38 [00:48<00:53,  2.69s/it]\u001b[A\n",
            "Running Epoch 0 of 1:  50%|██████████████████████████████                              | 19/38 [00:51<00:51,  2.69s/it]\u001b[A\n",
            "Running Epoch 0 of 1:  53%|███████████████████████████████▌                            | 20/38 [00:53<00:48,  2.69s/it]\u001b[A\n",
            "Running Epoch 0 of 1:  55%|█████████████████████████████████▏                          | 21/38 [00:56<00:45,  2.69s/it]\u001b[A\n",
            "Running Epoch 0 of 1:  58%|██████████████████████████████████▋                         | 22/38 [00:59<00:43,  2.69s/it]\u001b[A\n",
            "Running Epoch 0 of 1:  61%|████████████████████████████████████▎                       | 23/38 [01:01<00:40,  2.69s/it]\u001b[A\n",
            "Running Epoch 0 of 1:  63%|█████████████████████████████████████▉                      | 24/38 [01:04<00:37,  2.68s/it]\u001b[A\n",
            "Running Epoch 0 of 1:  66%|███████████████████████████████████████▍                    | 25/38 [01:07<00:35,  2.70s/it]\u001b[A\n",
            "Running Epoch 0 of 1:  68%|█████████████████████████████████████████                   | 26/38 [01:09<00:32,  2.70s/it]\u001b[A\n",
            "Running Epoch 0 of 1:  71%|██████████████████████████████████████████▋                 | 27/38 [01:12<00:29,  2.70s/it]\u001b[A\n",
            "Running Epoch 0 of 1:  74%|████████████████████████████████████████████▏               | 28/38 [01:15<00:27,  2.70s/it]\u001b[A\n",
            "Running Epoch 0 of 1:  76%|█████████████████████████████████████████████▊              | 29/38 [01:18<00:24,  2.69s/it]\u001b[A\n",
            "Running Epoch 0 of 1:  79%|███████████████████████████████████████████████▎            | 30/38 [01:20<00:21,  2.69s/it]\u001b[A\n",
            "Running Epoch 0 of 1:  82%|████████████████████████████████████████████████▉           | 31/38 [01:23<00:18,  2.70s/it]\u001b[A\n",
            "Running Epoch 0 of 1:  84%|██████████████████████████████████████████████████▌         | 32/38 [01:26<00:16,  2.68s/it]\u001b[A\n",
            "Running Epoch 0 of 1:  87%|████████████████████████████████████████████████████        | 33/38 [01:28<00:13,  2.67s/it]\u001b[A\n",
            "Running Epoch 0 of 1:  89%|█████████████████████████████████████████████████████▋      | 34/38 [01:31<00:10,  2.68s/it]\u001b[A\n",
            "Running Epoch 0 of 1:  92%|███████████████████████████████████████████████████████▎    | 35/38 [01:34<00:08,  2.67s/it]\u001b[A\n",
            "Running Epoch 0 of 1:  95%|████████████████████████████████████████████████████████▊   | 36/38 [01:36<00:05,  2.66s/it]\u001b[A\n",
            "Running Epoch 0 of 1:  97%|██████████████████████████████████████████████████████████▍ | 37/38 [01:39<00:02,  2.65s/it]\u001b[A\n",
            "Running Epoch 0 of 1: 100%|████████████████████████████████████████████████████████████| 38/38 [01:41<00:00,  2.66s/it]\n",
            "Epoch 1 of 1: 100%|█████████████████████████████████████████████████████████████████████| 1/1 [01:41<00:00, 101.11s/it]\n",
            "C:\\Users\\Domenico\\.conda\\envs\\tf\\lib\\site-packages\\simpletransformers\\classification\\classification_model.py:1454: UserWarning: Dataframe headers not specified. Falling back to using column 0 as text and column 1 as labels.\n",
            "  warnings.warn(\n"
          ]
        },
        {
          "output_type": "stream",
          "name": "stdout",
          "text": [
            "\n",
            "NOW EVALUATE THE TEST DF.\n"
          ]
        },
        {
          "output_type": "stream",
          "name": "stderr",
          "text": [
            "  0%|▍                                                                                 | 1/200 [00:07<25:24,  7.66s/it]\n",
            "Running Evaluation: 100%|██████████████████████████████████████████████████████████████| 25/25 [00:16<00:00,  1.54it/s]\n",
            "C:\\Users\\Domenico\\.conda\\envs\\tf\\lib\\site-packages\\simpletransformers\\classification\\classification_model.py:612: UserWarning: Dataframe headers not specified. Falling back to using column 0 as text and column 1 as labels.\n",
            "  warnings.warn(\n"
          ]
        },
        {
          "output_type": "stream",
          "name": "stdout",
          "text": [
            "{'mcc': 0.32803694724189186, 'tp': 55, 'tn': 77, 'fp': 23, 'fn': 45, 'auroc': 0.7117000000000001, 'auprc': 0.6590588541738293, 'eval_loss': 0.6922412133216858}\n",
            "Correct predictions are:  132\n",
            "Total predictions are:  200\n",
            "Accuracy on test set is: 0.66 \n",
            "\n",
            "\n",
            "\n",
            "EPOCH NUMBER:  4\n",
            "\n",
            "NOW TRAIN THE MODEL.\n"
          ]
        },
        {
          "output_type": "stream",
          "name": "stderr",
          "text": [
            "  0%|▎                                                                                 | 1/300 [00:08<43:47,  8.79s/it]\n",
            "Epoch 1 of 1:   0%|                                                                              | 0/1 [00:00<?, ?it/s]\n",
            "Running Epoch 0 of 1:   0%|                                                                     | 0/38 [00:00<?, ?it/s]\u001b[A\n",
            "Running Epoch 0 of 1:   3%|█▌                                                           | 1/38 [00:02<01:33,  2.52s/it]\u001b[A\n",
            "Running Epoch 0 of 1:   5%|███▏                                                         | 2/38 [00:05<01:36,  2.67s/it]\u001b[A\n",
            "Running Epoch 0 of 1:   8%|████▊                                                        | 3/38 [00:08<01:34,  2.69s/it]\u001b[A\n",
            "Running Epoch 0 of 1:  11%|██████▍                                                      | 4/38 [00:10<01:32,  2.71s/it]\u001b[A\n",
            "Running Epoch 0 of 1:  13%|████████                                                     | 5/38 [00:13<01:29,  2.71s/it]\u001b[A\n",
            "Running Epoch 0 of 1:  16%|█████████▋                                                   | 6/38 [00:16<01:25,  2.68s/it]\u001b[A\n",
            "Running Epoch 0 of 1:  18%|███████████▏                                                 | 7/38 [00:18<01:23,  2.71s/it]\u001b[A\n",
            "Running Epoch 0 of 1:  21%|████████████▊                                                | 8/38 [00:21<01:21,  2.73s/it]\u001b[A\n",
            "Running Epoch 0 of 1:  24%|██████████████▍                                              | 9/38 [00:24<01:18,  2.70s/it]\u001b[A\n",
            "Running Epoch 0 of 1:  26%|███████████████▊                                            | 10/38 [00:26<01:15,  2.69s/it]\u001b[A\n",
            "Running Epoch 0 of 1:  29%|█████████████████▎                                          | 11/38 [00:29<01:12,  2.69s/it]\u001b[A\n",
            "Running Epoch 0 of 1:  32%|██████████████████▉                                         | 12/38 [00:32<01:09,  2.68s/it]\u001b[A\n",
            "Running Epoch 0 of 1:  34%|████████████████████▌                                       | 13/38 [00:34<01:07,  2.69s/it]\u001b[A\n",
            "Running Epoch 0 of 1:  37%|██████████████████████                                      | 14/38 [00:37<01:04,  2.69s/it]\u001b[A\n",
            "Running Epoch 0 of 1:  39%|███████████████████████▋                                    | 15/38 [00:40<01:02,  2.70s/it]\u001b[A\n",
            "Running Epoch 0 of 1:  42%|█████████████████████████▎                                  | 16/38 [00:43<00:59,  2.69s/it]\u001b[A\n",
            "Running Epoch 0 of 1:  45%|██████████████████████████▊                                 | 17/38 [00:45<00:56,  2.69s/it]\u001b[A\n",
            "Running Epoch 0 of 1:  47%|████████████████████████████▍                               | 18/38 [00:48<00:53,  2.68s/it]\u001b[A\n",
            "Running Epoch 0 of 1:  50%|██████████████████████████████                              | 19/38 [00:51<00:51,  2.69s/it]\u001b[A\n",
            "Running Epoch 0 of 1:  53%|███████████████████████████████▌                            | 20/38 [00:53<00:48,  2.71s/it]\u001b[A\n",
            "Running Epoch 0 of 1:  55%|█████████████████████████████████▏                          | 21/38 [00:56<00:45,  2.70s/it]\u001b[A\n",
            "Running Epoch 0 of 1:  58%|██████████████████████████████████▋                         | 22/38 [00:59<00:43,  2.71s/it]\u001b[A\n",
            "Running Epoch 0 of 1:  61%|████████████████████████████████████▎                       | 23/38 [01:01<00:40,  2.68s/it]\u001b[A\n",
            "Running Epoch 0 of 1:  63%|█████████████████████████████████████▉                      | 24/38 [01:04<00:37,  2.69s/it]\u001b[A\n",
            "Running Epoch 0 of 1:  66%|███████████████████████████████████████▍                    | 25/38 [01:07<00:34,  2.69s/it]\u001b[A\n",
            "Running Epoch 0 of 1:  68%|█████████████████████████████████████████                   | 26/38 [01:09<00:32,  2.67s/it]\u001b[A\n",
            "Running Epoch 0 of 1:  71%|██████████████████████████████████████████▋                 | 27/38 [01:12<00:29,  2.69s/it]\u001b[A\n",
            "Running Epoch 0 of 1:  74%|████████████████████████████████████████████▏               | 28/38 [01:15<00:26,  2.68s/it]\u001b[A\n",
            "Running Epoch 0 of 1:  76%|█████████████████████████████████████████████▊              | 29/38 [01:17<00:24,  2.67s/it]\u001b[A\n",
            "Running Epoch 0 of 1:  79%|███████████████████████████████████████████████▎            | 30/38 [01:20<00:21,  2.68s/it]\u001b[A\n",
            "Running Epoch 0 of 1:  82%|████████████████████████████████████████████████▉           | 31/38 [01:23<00:18,  2.70s/it]\u001b[A\n",
            "Running Epoch 0 of 1:  84%|██████████████████████████████████████████████████▌         | 32/38 [01:26<00:16,  2.72s/it]\u001b[A\n",
            "Running Epoch 0 of 1:  87%|████████████████████████████████████████████████████        | 33/38 [01:28<00:13,  2.71s/it]\u001b[A\n",
            "Running Epoch 0 of 1:  89%|█████████████████████████████████████████████████████▋      | 34/38 [01:31<00:10,  2.73s/it]\u001b[A\n",
            "Running Epoch 0 of 1:  92%|███████████████████████████████████████████████████████▎    | 35/38 [01:34<00:08,  2.72s/it]\u001b[A\n",
            "Running Epoch 0 of 1:  95%|████████████████████████████████████████████████████████▊   | 36/38 [01:36<00:05,  2.69s/it]\u001b[A\n",
            "Running Epoch 0 of 1:  97%|██████████████████████████████████████████████████████████▍ | 37/38 [01:39<00:02,  2.71s/it]\u001b[A\n",
            "Running Epoch 0 of 1: 100%|████████████████████████████████████████████████████████████| 38/38 [01:41<00:00,  2.67s/it]\n",
            "Epoch 1 of 1: 100%|█████████████████████████████████████████████████████████████████████| 1/1 [01:41<00:00, 101.51s/it]\n",
            "C:\\Users\\Domenico\\.conda\\envs\\tf\\lib\\site-packages\\simpletransformers\\classification\\classification_model.py:1454: UserWarning: Dataframe headers not specified. Falling back to using column 0 as text and column 1 as labels.\n",
            "  warnings.warn(\n"
          ]
        },
        {
          "output_type": "stream",
          "name": "stdout",
          "text": [
            "\n",
            "NOW EVALUATE THE TEST DF.\n"
          ]
        },
        {
          "output_type": "stream",
          "name": "stderr",
          "text": [
            "  0%|▍                                                                                 | 1/200 [00:07<25:02,  7.55s/it]\n",
            "Running Evaluation: 100%|██████████████████████████████████████████████████████████████| 25/25 [00:16<00:00,  1.51it/s]\n",
            "C:\\Users\\Domenico\\.conda\\envs\\tf\\lib\\site-packages\\simpletransformers\\classification\\classification_model.py:612: UserWarning: Dataframe headers not specified. Falling back to using column 0 as text and column 1 as labels.\n",
            "  warnings.warn(\n"
          ]
        },
        {
          "output_type": "stream",
          "name": "stdout",
          "text": [
            "{'mcc': 0.38068585235790897, 'tp': 66, 'tn': 72, 'fp': 28, 'fn': 34, 'auroc': 0.7229, 'auprc': 0.7029174539107271, 'eval_loss': 0.6932207524776459}\n",
            "Correct predictions are:  138\n",
            "Total predictions are:  200\n",
            "Accuracy on test set is: 0.69 \n",
            "\n",
            "\n",
            "\n",
            "EPOCH NUMBER:  5\n",
            "\n",
            "NOW TRAIN THE MODEL.\n"
          ]
        },
        {
          "output_type": "stream",
          "name": "stderr",
          "text": [
            "  0%|▎                                                                                 | 1/300 [00:08<43:59,  8.83s/it]\n",
            "Epoch 1 of 1:   0%|                                                                              | 0/1 [00:00<?, ?it/s]\n",
            "Running Epoch 0 of 1:   0%|                                                                     | 0/38 [00:00<?, ?it/s]\u001b[A\n",
            "Running Epoch 0 of 1:   3%|█▌                                                           | 1/38 [00:02<01:36,  2.61s/it]\u001b[A\n",
            "Running Epoch 0 of 1:   5%|███▏                                                         | 2/38 [00:05<01:36,  2.68s/it]\u001b[A\n",
            "Running Epoch 0 of 1:   8%|████▊                                                        | 3/38 [00:07<01:33,  2.67s/it]\u001b[A\n",
            "Running Epoch 0 of 1:  11%|██████▍                                                      | 4/38 [00:10<01:30,  2.66s/it]\u001b[A\n",
            "Running Epoch 0 of 1:  13%|████████                                                     | 5/38 [00:13<01:28,  2.70s/it]\u001b[A\n",
            "Running Epoch 0 of 1:  16%|█████████▋                                                   | 6/38 [00:16<01:26,  2.70s/it]\u001b[A\n",
            "Running Epoch 0 of 1:  18%|███████████▏                                                 | 7/38 [00:18<01:24,  2.71s/it]\u001b[A\n",
            "Running Epoch 0 of 1:  21%|████████████▊                                                | 8/38 [00:21<01:21,  2.73s/it]\u001b[A\n",
            "Running Epoch 0 of 1:  24%|██████████████▍                                              | 9/38 [00:24<01:19,  2.74s/it]\u001b[A\n",
            "Running Epoch 0 of 1:  26%|███████████████▊                                            | 10/38 [00:27<01:16,  2.73s/it]\u001b[A\n",
            "Running Epoch 0 of 1:  29%|█████████████████▎                                          | 11/38 [00:29<01:12,  2.69s/it]\u001b[A\n",
            "Running Epoch 0 of 1:  32%|██████████████████▉                                         | 12/38 [00:32<01:09,  2.68s/it]\u001b[A\n",
            "Running Epoch 0 of 1:  34%|████████████████████▌                                       | 13/38 [00:35<01:07,  2.69s/it]\u001b[A\n",
            "Running Epoch 0 of 1:  37%|██████████████████████                                      | 14/38 [00:37<01:04,  2.69s/it]\u001b[A\n",
            "Running Epoch 0 of 1:  39%|███████████████████████▋                                    | 15/38 [00:40<01:02,  2.71s/it]\u001b[A\n",
            "Running Epoch 0 of 1:  42%|█████████████████████████▎                                  | 16/38 [00:43<00:59,  2.72s/it]\u001b[A\n",
            "Running Epoch 0 of 1:  45%|██████████████████████████▊                                 | 17/38 [00:45<00:57,  2.72s/it]\u001b[A\n",
            "Running Epoch 0 of 1:  47%|████████████████████████████▍                               | 18/38 [00:48<00:54,  2.72s/it]\u001b[A\n",
            "Running Epoch 0 of 1:  50%|██████████████████████████████                              | 19/38 [00:51<00:51,  2.72s/it]\u001b[A\n",
            "Running Epoch 0 of 1:  53%|███████████████████████████████▌                            | 20/38 [00:54<00:49,  2.73s/it]\u001b[A\n",
            "Running Epoch 0 of 1:  55%|█████████████████████████████████▏                          | 21/38 [00:56<00:46,  2.72s/it]\u001b[A\n",
            "Running Epoch 0 of 1:  58%|██████████████████████████████████▋                         | 22/38 [00:59<00:43,  2.71s/it]\u001b[A\n",
            "Running Epoch 0 of 1:  61%|████████████████████████████████████▎                       | 23/38 [01:02<00:40,  2.71s/it]\u001b[A\n",
            "Running Epoch 0 of 1:  63%|█████████████████████████████████████▉                      | 24/38 [01:04<00:38,  2.72s/it]\u001b[A\n",
            "Running Epoch 0 of 1:  66%|███████████████████████████████████████▍                    | 25/38 [01:07<00:35,  2.72s/it]\u001b[A\n",
            "Running Epoch 0 of 1:  68%|█████████████████████████████████████████                   | 26/38 [01:10<00:32,  2.71s/it]\u001b[A\n",
            "Running Epoch 0 of 1:  71%|██████████████████████████████████████████▋                 | 27/38 [01:13<00:29,  2.72s/it]\u001b[A\n",
            "Running Epoch 0 of 1:  74%|████████████████████████████████████████████▏               | 28/38 [01:15<00:26,  2.70s/it]\u001b[A\n",
            "Running Epoch 0 of 1:  76%|█████████████████████████████████████████████▊              | 29/38 [01:18<00:24,  2.70s/it]\u001b[A\n",
            "Running Epoch 0 of 1:  79%|███████████████████████████████████████████████▎            | 30/38 [01:21<00:21,  2.72s/it]\u001b[A\n",
            "Running Epoch 0 of 1:  82%|████████████████████████████████████████████████▉           | 31/38 [01:23<00:18,  2.70s/it]\u001b[A\n",
            "Running Epoch 0 of 1:  84%|██████████████████████████████████████████████████▌         | 32/38 [01:26<00:16,  2.70s/it]\u001b[A\n",
            "Running Epoch 0 of 1:  87%|████████████████████████████████████████████████████        | 33/38 [01:29<00:13,  2.73s/it]\u001b[A\n",
            "Running Epoch 0 of 1:  89%|█████████████████████████████████████████████████████▋      | 34/38 [01:32<00:10,  2.72s/it]\u001b[A\n",
            "Running Epoch 0 of 1:  92%|███████████████████████████████████████████████████████▎    | 35/38 [01:34<00:08,  2.73s/it]\u001b[A\n",
            "Running Epoch 0 of 1:  95%|████████████████████████████████████████████████████████▊   | 36/38 [01:37<00:05,  2.73s/it]\u001b[A\n",
            "Running Epoch 0 of 1:  97%|██████████████████████████████████████████████████████████▍ | 37/38 [01:40<00:02,  2.73s/it]\u001b[A\n",
            "Running Epoch 0 of 1: 100%|████████████████████████████████████████████████████████████| 38/38 [01:42<00:00,  2.69s/it]\n",
            "Epoch 1 of 1: 100%|█████████████████████████████████████████████████████████████████████| 1/1 [01:42<00:00, 102.11s/it]\n",
            "C:\\Users\\Domenico\\.conda\\envs\\tf\\lib\\site-packages\\simpletransformers\\classification\\classification_model.py:1454: UserWarning: Dataframe headers not specified. Falling back to using column 0 as text and column 1 as labels.\n",
            "  warnings.warn(\n"
          ]
        },
        {
          "output_type": "stream",
          "name": "stdout",
          "text": [
            "\n",
            "NOW EVALUATE THE TEST DF.\n"
          ]
        },
        {
          "output_type": "stream",
          "name": "stderr",
          "text": [
            "  0%|▍                                                                                 | 1/200 [00:07<25:05,  7.57s/it]\n",
            "Running Evaluation: 100%|██████████████████████████████████████████████████████████████| 25/25 [00:16<00:00,  1.52it/s]\n",
            "C:\\Users\\Domenico\\.conda\\envs\\tf\\lib\\site-packages\\simpletransformers\\classification\\classification_model.py:612: UserWarning: Dataframe headers not specified. Falling back to using column 0 as text and column 1 as labels.\n",
            "  warnings.warn(\n"
          ]
        },
        {
          "output_type": "stream",
          "name": "stdout",
          "text": [
            "{'mcc': 0.30151134457776363, 'tp': 60, 'tn': 70, 'fp': 30, 'fn': 40, 'auroc': 0.7055, 'auprc': 0.6566773782524357, 'eval_loss': 0.9658555690944195}\n",
            "Correct predictions are:  130\n",
            "Total predictions are:  200\n",
            "Accuracy on test set is: 0.65 \n",
            "\n",
            "\n",
            "\n",
            "EPOCH NUMBER:  6\n",
            "\n",
            "NOW TRAIN THE MODEL.\n"
          ]
        },
        {
          "output_type": "stream",
          "name": "stderr",
          "text": [
            "  0%|▎                                                                                 | 1/300 [00:08<44:03,  8.84s/it]\n",
            "Epoch 1 of 1:   0%|                                                                              | 0/1 [00:00<?, ?it/s]\n",
            "Running Epoch 0 of 1:   0%|                                                                     | 0/38 [00:00<?, ?it/s]\u001b[A\n",
            "Running Epoch 0 of 1:   3%|█▌                                                           | 1/38 [00:02<01:37,  2.62s/it]\u001b[A\n",
            "Running Epoch 0 of 1:   5%|███▏                                                         | 2/38 [00:05<01:35,  2.66s/it]\u001b[A\n",
            "Running Epoch 0 of 1:   8%|████▊                                                        | 3/38 [00:07<01:32,  2.64s/it]\u001b[A\n",
            "Running Epoch 0 of 1:  11%|██████▍                                                      | 4/38 [00:10<01:29,  2.64s/it]\u001b[A\n",
            "Running Epoch 0 of 1:  13%|████████                                                     | 5/38 [00:13<01:27,  2.66s/it]\u001b[A\n",
            "Running Epoch 0 of 1:  16%|█████████▋                                                   | 6/38 [00:15<01:24,  2.65s/it]\u001b[A\n",
            "Running Epoch 0 of 1:  18%|███████████▏                                                 | 7/38 [00:18<01:22,  2.65s/it]\u001b[A\n",
            "Running Epoch 0 of 1:  21%|████████████▊                                                | 8/38 [00:21<01:19,  2.64s/it]\u001b[A\n",
            "Running Epoch 0 of 1:  24%|██████████████▍                                              | 9/38 [00:23<01:16,  2.65s/it]\u001b[A\n",
            "Running Epoch 0 of 1:  26%|███████████████▊                                            | 10/38 [00:26<01:14,  2.66s/it]\u001b[A\n",
            "Running Epoch 0 of 1:  29%|█████████████████▎                                          | 11/38 [00:29<01:11,  2.66s/it]\u001b[A\n",
            "Running Epoch 0 of 1:  32%|██████████████████▉                                         | 12/38 [00:31<01:09,  2.66s/it]\u001b[A\n",
            "Running Epoch 0 of 1:  34%|████████████████████▌                                       | 13/38 [00:34<01:06,  2.65s/it]\u001b[A\n",
            "Running Epoch 0 of 1:  37%|██████████████████████                                      | 14/38 [00:37<01:03,  2.66s/it]\u001b[A\n",
            "Running Epoch 0 of 1:  39%|███████████████████████▋                                    | 15/38 [00:39<01:01,  2.67s/it]\u001b[A\n",
            "Running Epoch 0 of 1:  42%|█████████████████████████▎                                  | 16/38 [00:42<00:58,  2.68s/it]\u001b[A\n",
            "Running Epoch 0 of 1:  45%|██████████████████████████▊                                 | 17/38 [00:45<00:56,  2.68s/it]\u001b[A\n",
            "Running Epoch 0 of 1:  47%|████████████████████████████▍                               | 18/38 [00:47<00:54,  2.70s/it]\u001b[A\n",
            "Running Epoch 0 of 1:  50%|██████████████████████████████                              | 19/38 [00:50<00:50,  2.68s/it]\u001b[A\n",
            "Running Epoch 0 of 1:  53%|███████████████████████████████▌                            | 20/38 [00:53<00:48,  2.67s/it]\u001b[A\n",
            "Running Epoch 0 of 1:  55%|█████████████████████████████████▏                          | 21/38 [00:55<00:45,  2.67s/it]\u001b[A\n",
            "Running Epoch 0 of 1:  58%|██████████████████████████████████▋                         | 22/38 [00:58<00:43,  2.70s/it]\u001b[A\n",
            "Running Epoch 0 of 1:  61%|████████████████████████████████████▎                       | 23/38 [01:01<00:40,  2.69s/it]\u001b[A\n",
            "Running Epoch 0 of 1:  63%|█████████████████████████████████████▉                      | 24/38 [01:04<00:37,  2.69s/it]\u001b[A\n",
            "Running Epoch 0 of 1:  66%|███████████████████████████████████████▍                    | 25/38 [01:06<00:34,  2.67s/it]\u001b[A\n",
            "Running Epoch 0 of 1:  68%|█████████████████████████████████████████                   | 26/38 [01:09<00:32,  2.70s/it]\u001b[A\n",
            "Running Epoch 0 of 1:  71%|██████████████████████████████████████████▋                 | 27/38 [01:12<00:29,  2.69s/it]\u001b[A\n",
            "Running Epoch 0 of 1:  74%|████████████████████████████████████████████▏               | 28/38 [01:14<00:27,  2.71s/it]\u001b[A\n",
            "Running Epoch 0 of 1:  76%|█████████████████████████████████████████████▊              | 29/38 [01:17<00:24,  2.67s/it]\u001b[A\n",
            "Running Epoch 0 of 1:  79%|███████████████████████████████████████████████▎            | 30/38 [01:20<00:21,  2.68s/it]\u001b[A\n",
            "Running Epoch 0 of 1:  82%|████████████████████████████████████████████████▉           | 31/38 [01:22<00:18,  2.68s/it]\u001b[A\n",
            "Running Epoch 0 of 1:  84%|██████████████████████████████████████████████████▌         | 32/38 [01:25<00:16,  2.71s/it]\u001b[A\n",
            "Running Epoch 0 of 1:  87%|████████████████████████████████████████████████████        | 33/38 [01:28<00:13,  2.72s/it]\u001b[A\n",
            "Running Epoch 0 of 1:  89%|█████████████████████████████████████████████████████▋      | 34/38 [01:30<00:10,  2.70s/it]\u001b[A\n",
            "Running Epoch 0 of 1:  92%|███████████████████████████████████████████████████████▎    | 35/38 [01:33<00:08,  2.71s/it]\u001b[A\n",
            "Running Epoch 0 of 1:  95%|████████████████████████████████████████████████████████▊   | 36/38 [01:36<00:05,  2.70s/it]\u001b[A\n",
            "Running Epoch 0 of 1:  97%|██████████████████████████████████████████████████████████▍ | 37/38 [01:39<00:02,  2.72s/it]\u001b[A\n",
            "Running Epoch 0 of 1: 100%|████████████████████████████████████████████████████████████| 38/38 [01:40<00:00,  2.65s/it]\n",
            "Epoch 1 of 1: 100%|█████████████████████████████████████████████████████████████████████| 1/1 [01:40<00:00, 100.89s/it]\n",
            "C:\\Users\\Domenico\\.conda\\envs\\tf\\lib\\site-packages\\simpletransformers\\classification\\classification_model.py:1454: UserWarning: Dataframe headers not specified. Falling back to using column 0 as text and column 1 as labels.\n",
            "  warnings.warn(\n"
          ]
        },
        {
          "output_type": "stream",
          "name": "stdout",
          "text": [
            "\n",
            "NOW EVALUATE THE TEST DF.\n"
          ]
        },
        {
          "output_type": "stream",
          "name": "stderr",
          "text": [
            "  0%|▍                                                                                 | 1/200 [00:07<25:09,  7.58s/it]\n",
            "Running Evaluation: 100%|██████████████████████████████████████████████████████████████| 25/25 [00:15<00:00,  1.57it/s]\n",
            "C:\\Users\\Domenico\\.conda\\envs\\tf\\lib\\site-packages\\simpletransformers\\classification\\classification_model.py:612: UserWarning: Dataframe headers not specified. Falling back to using column 0 as text and column 1 as labels.\n",
            "  warnings.warn(\n"
          ]
        },
        {
          "output_type": "stream",
          "name": "stdout",
          "text": [
            "{'mcc': 0.3501576063922972, 'tp': 66, 'tn': 69, 'fp': 31, 'fn': 34, 'auroc': 0.7199000000000001, 'auprc': 0.6432422894786909, 'eval_loss': 0.9014798374474049}\n",
            "Correct predictions are:  135\n",
            "Total predictions are:  200\n",
            "Accuracy on test set is: 0.675 \n",
            "\n",
            "\n",
            "\n",
            "EPOCH NUMBER:  7\n",
            "\n",
            "NOW TRAIN THE MODEL.\n"
          ]
        },
        {
          "output_type": "stream",
          "name": "stderr",
          "text": [
            "  0%|▎                                                                                 | 1/300 [00:08<43:39,  8.76s/it]\n",
            "Epoch 1 of 1:   0%|                                                                              | 0/1 [00:00<?, ?it/s]\n",
            "Running Epoch 0 of 1:   0%|                                                                     | 0/38 [00:00<?, ?it/s]\u001b[A\n",
            "Running Epoch 0 of 1:   3%|█▌                                                           | 1/38 [00:02<01:39,  2.70s/it]\u001b[A\n",
            "Running Epoch 0 of 1:   5%|███▏                                                         | 2/38 [00:05<01:36,  2.69s/it]\u001b[A\n",
            "Running Epoch 0 of 1:   8%|████▊                                                        | 3/38 [00:08<01:33,  2.67s/it]\u001b[A\n",
            "Running Epoch 0 of 1:  11%|██████▍                                                      | 4/38 [00:10<01:30,  2.67s/it]\u001b[A\n",
            "Running Epoch 0 of 1:  13%|████████                                                     | 5/38 [00:13<01:28,  2.69s/it]\u001b[A\n",
            "Running Epoch 0 of 1:  16%|█████████▋                                                   | 6/38 [00:16<01:25,  2.68s/it]\u001b[A\n",
            "Running Epoch 0 of 1:  18%|███████████▏                                                 | 7/38 [00:18<01:23,  2.69s/it]\u001b[A\n",
            "Running Epoch 0 of 1:  21%|████████████▊                                                | 8/38 [00:21<01:20,  2.69s/it]\u001b[A\n",
            "Running Epoch 0 of 1:  24%|██████████████▍                                              | 9/38 [00:24<01:17,  2.68s/it]\u001b[A\n",
            "Running Epoch 0 of 1:  26%|███████████████▊                                            | 10/38 [00:26<01:15,  2.68s/it]\u001b[A\n",
            "Running Epoch 0 of 1:  29%|█████████████████▎                                          | 11/38 [00:29<01:12,  2.70s/it]\u001b[A\n",
            "Running Epoch 0 of 1:  32%|██████████████████▉                                         | 12/38 [00:32<01:09,  2.68s/it]\u001b[A\n",
            "Running Epoch 0 of 1:  34%|████████████████████▌                                       | 13/38 [00:34<01:06,  2.67s/it]\u001b[A\n",
            "Running Epoch 0 of 1:  37%|██████████████████████                                      | 14/38 [00:37<01:04,  2.67s/it]\u001b[A\n",
            "Running Epoch 0 of 1:  39%|███████████████████████▋                                    | 15/38 [00:40<01:01,  2.69s/it]\u001b[A\n",
            "Running Epoch 0 of 1:  42%|█████████████████████████▎                                  | 16/38 [00:42<00:59,  2.69s/it]\u001b[A\n",
            "Running Epoch 0 of 1:  45%|██████████████████████████▊                                 | 17/38 [00:45<00:56,  2.69s/it]\u001b[A\n",
            "Running Epoch 0 of 1:  47%|████████████████████████████▍                               | 18/38 [00:48<00:53,  2.67s/it]\u001b[A\n",
            "Running Epoch 0 of 1:  50%|██████████████████████████████                              | 19/38 [00:50<00:50,  2.66s/it]\u001b[A\n",
            "Running Epoch 0 of 1:  53%|███████████████████████████████▌                            | 20/38 [00:53<00:47,  2.66s/it]\u001b[A\n",
            "Running Epoch 0 of 1:  55%|█████████████████████████████████▏                          | 21/38 [00:56<00:45,  2.69s/it]\u001b[A\n",
            "Running Epoch 0 of 1:  58%|██████████████████████████████████▋                         | 22/38 [00:58<00:42,  2.66s/it]\u001b[A\n",
            "Running Epoch 0 of 1:  61%|████████████████████████████████████▎                       | 23/38 [01:01<00:40,  2.69s/it]\u001b[A\n",
            "Running Epoch 0 of 1:  63%|█████████████████████████████████████▉                      | 24/38 [01:04<00:37,  2.67s/it]\u001b[A\n",
            "Running Epoch 0 of 1:  66%|███████████████████████████████████████▍                    | 25/38 [01:06<00:34,  2.68s/it]\u001b[A\n",
            "Running Epoch 0 of 1:  68%|█████████████████████████████████████████                   | 26/38 [01:09<00:32,  2.70s/it]\u001b[A\n",
            "Running Epoch 0 of 1:  71%|██████████████████████████████████████████▋                 | 27/38 [01:12<00:29,  2.72s/it]\u001b[A\n",
            "Running Epoch 0 of 1:  74%|████████████████████████████████████████████▏               | 28/38 [01:15<00:27,  2.71s/it]\u001b[A\n",
            "Running Epoch 0 of 1:  76%|█████████████████████████████████████████████▊              | 29/38 [01:17<00:24,  2.69s/it]\u001b[A\n",
            "Running Epoch 0 of 1:  79%|███████████████████████████████████████████████▎            | 30/38 [01:20<00:21,  2.68s/it]\u001b[A\n",
            "Running Epoch 0 of 1:  82%|████████████████████████████████████████████████▉           | 31/38 [01:23<00:18,  2.69s/it]\u001b[A\n",
            "Running Epoch 0 of 1:  84%|██████████████████████████████████████████████████▌         | 32/38 [01:25<00:16,  2.69s/it]\u001b[A\n",
            "Running Epoch 0 of 1:  87%|████████████████████████████████████████████████████        | 33/38 [01:28<00:13,  2.67s/it]\u001b[A\n",
            "Running Epoch 0 of 1:  89%|█████████████████████████████████████████████████████▋      | 34/38 [01:31<00:10,  2.67s/it]\u001b[A\n",
            "Running Epoch 0 of 1:  92%|███████████████████████████████████████████████████████▎    | 35/38 [01:33<00:08,  2.68s/it]\u001b[A\n",
            "Running Epoch 0 of 1:  95%|████████████████████████████████████████████████████████▊   | 36/38 [01:36<00:05,  2.68s/it]\u001b[A\n",
            "Running Epoch 0 of 1:  97%|██████████████████████████████████████████████████████████▍ | 37/38 [01:39<00:02,  2.68s/it]\u001b[A\n",
            "Running Epoch 0 of 1: 100%|████████████████████████████████████████████████████████████| 38/38 [01:40<00:00,  2.66s/it]\n",
            "Epoch 1 of 1: 100%|█████████████████████████████████████████████████████████████████████| 1/1 [01:40<00:00, 101.00s/it]\n",
            "C:\\Users\\Domenico\\.conda\\envs\\tf\\lib\\site-packages\\simpletransformers\\classification\\classification_model.py:1454: UserWarning: Dataframe headers not specified. Falling back to using column 0 as text and column 1 as labels.\n",
            "  warnings.warn(\n"
          ]
        },
        {
          "output_type": "stream",
          "name": "stdout",
          "text": [
            "\n",
            "NOW EVALUATE THE TEST DF.\n"
          ]
        },
        {
          "output_type": "stream",
          "name": "stderr",
          "text": [
            "  0%|▍                                                                                 | 1/200 [00:07<25:00,  7.54s/it]\n",
            "Running Evaluation: 100%|██████████████████████████████████████████████████████████████| 25/25 [00:16<00:00,  1.52it/s]\n",
            "C:\\Users\\Domenico\\.conda\\envs\\tf\\lib\\site-packages\\simpletransformers\\classification\\classification_model.py:612: UserWarning: Dataframe headers not specified. Falling back to using column 0 as text and column 1 as labels.\n",
            "  warnings.warn(\n"
          ]
        },
        {
          "output_type": "stream",
          "name": "stdout",
          "text": [
            "{'mcc': 0.3320148028852824, 'tp': 61, 'tn': 72, 'fp': 28, 'fn': 39, 'auroc': 0.7181000000000002, 'auprc': 0.648799937746469, 'eval_loss': 1.7344943246245383}\n",
            "Correct predictions are:  133\n",
            "Total predictions are:  200\n",
            "Accuracy on test set is: 0.665 \n",
            "\n",
            "\n",
            "\n",
            "EPOCH NUMBER:  8\n",
            "\n",
            "NOW TRAIN THE MODEL.\n"
          ]
        },
        {
          "output_type": "stream",
          "name": "stderr",
          "text": [
            "  0%|▎                                                                                 | 1/300 [00:08<43:31,  8.74s/it]\n",
            "Epoch 1 of 1:   0%|                                                                              | 0/1 [00:00<?, ?it/s]\n",
            "Running Epoch 0 of 1:   0%|                                                                     | 0/38 [00:00<?, ?it/s]\u001b[A\n",
            "Running Epoch 0 of 1:   3%|█▌                                                           | 1/38 [00:02<01:30,  2.46s/it]\u001b[A\n",
            "Running Epoch 0 of 1:   5%|███▏                                                         | 2/38 [00:05<01:31,  2.53s/it]\u001b[A\n",
            "Running Epoch 0 of 1:   8%|████▊                                                        | 3/38 [00:07<01:26,  2.48s/it]\u001b[A\n",
            "Running Epoch 0 of 1:  11%|██████▍                                                      | 4/38 [00:09<01:22,  2.43s/it]\u001b[A\n",
            "Running Epoch 0 of 1:  13%|████████                                                     | 5/38 [00:12<01:20,  2.43s/it]\u001b[A\n",
            "Running Epoch 0 of 1:  16%|█████████▋                                                   | 6/38 [00:14<01:17,  2.41s/it]\u001b[A\n",
            "Running Epoch 0 of 1:  18%|███████████▏                                                 | 7/38 [00:17<01:14,  2.41s/it]\u001b[A\n",
            "Running Epoch 0 of 1:  21%|████████████▊                                                | 8/38 [00:19<01:12,  2.41s/it]\u001b[A\n",
            "Running Epoch 0 of 1:  24%|██████████████▍                                              | 9/38 [00:21<01:09,  2.41s/it]\u001b[A\n",
            "Running Epoch 0 of 1:  26%|███████████████▊                                            | 10/38 [00:24<01:07,  2.41s/it]\u001b[A\n",
            "Running Epoch 0 of 1:  29%|█████████████████▎                                          | 11/38 [00:26<01:04,  2.39s/it]\u001b[A\n",
            "Running Epoch 0 of 1:  32%|██████████████████▉                                         | 12/38 [00:29<01:02,  2.40s/it]\u001b[A\n",
            "Running Epoch 0 of 1:  34%|████████████████████▌                                       | 13/38 [00:31<00:59,  2.39s/it]\u001b[A\n",
            "Running Epoch 0 of 1:  37%|██████████████████████                                      | 14/38 [00:33<00:57,  2.39s/it]\u001b[A\n",
            "Running Epoch 0 of 1:  39%|███████████████████████▋                                    | 15/38 [00:36<00:55,  2.40s/it]\u001b[A\n",
            "Running Epoch 0 of 1:  42%|█████████████████████████▎                                  | 16/38 [00:38<00:52,  2.39s/it]\u001b[A\n",
            "Running Epoch 0 of 1:  45%|██████████████████████████▊                                 | 17/38 [00:40<00:50,  2.40s/it]\u001b[A\n",
            "Running Epoch 0 of 1:  47%|████████████████████████████▍                               | 18/38 [00:43<00:47,  2.38s/it]\u001b[A\n",
            "Running Epoch 0 of 1:  50%|██████████████████████████████                              | 19/38 [00:45<00:45,  2.39s/it]\u001b[A\n",
            "Running Epoch 0 of 1:  53%|███████████████████████████████▌                            | 20/38 [00:48<00:43,  2.40s/it]\u001b[A\n",
            "Running Epoch 0 of 1:  55%|█████████████████████████████████▏                          | 21/38 [00:50<00:40,  2.39s/it]\u001b[A\n",
            "Running Epoch 0 of 1:  58%|██████████████████████████████████▋                         | 22/38 [00:52<00:38,  2.39s/it]\u001b[A\n",
            "Running Epoch 0 of 1:  61%|████████████████████████████████████▎                       | 23/38 [00:55<00:35,  2.39s/it]\u001b[A\n",
            "Running Epoch 0 of 1:  63%|█████████████████████████████████████▉                      | 24/38 [00:57<00:33,  2.38s/it]\u001b[A\n",
            "Running Epoch 0 of 1:  66%|███████████████████████████████████████▍                    | 25/38 [01:00<00:31,  2.40s/it]\u001b[A\n",
            "Running Epoch 0 of 1:  68%|█████████████████████████████████████████                   | 26/38 [01:02<00:28,  2.38s/it]\u001b[A\n",
            "Running Epoch 0 of 1:  71%|██████████████████████████████████████████▋                 | 27/38 [01:04<00:26,  2.40s/it]\u001b[A\n",
            "Running Epoch 0 of 1:  74%|████████████████████████████████████████████▏               | 28/38 [01:07<00:23,  2.40s/it]\u001b[A\n",
            "Running Epoch 0 of 1:  76%|█████████████████████████████████████████████▊              | 29/38 [01:09<00:21,  2.40s/it]\u001b[A\n",
            "Running Epoch 0 of 1:  79%|███████████████████████████████████████████████▎            | 30/38 [01:12<00:19,  2.40s/it]\u001b[A\n",
            "Running Epoch 0 of 1:  82%|████████████████████████████████████████████████▉           | 31/38 [01:14<00:16,  2.40s/it]\u001b[A\n",
            "Running Epoch 0 of 1:  84%|██████████████████████████████████████████████████▌         | 32/38 [01:16<00:14,  2.40s/it]\u001b[A\n",
            "Running Epoch 0 of 1:  87%|████████████████████████████████████████████████████        | 33/38 [01:19<00:12,  2.41s/it]\u001b[A\n",
            "Running Epoch 0 of 1:  89%|█████████████████████████████████████████████████████▋      | 34/38 [01:21<00:09,  2.41s/it]\u001b[A\n",
            "Running Epoch 0 of 1:  92%|███████████████████████████████████████████████████████▎    | 35/38 [01:24<00:07,  2.42s/it]\u001b[A\n",
            "Running Epoch 0 of 1:  95%|████████████████████████████████████████████████████████▊   | 36/38 [01:26<00:04,  2.40s/it]\u001b[A\n",
            "Running Epoch 0 of 1:  97%|██████████████████████████████████████████████████████████▍ | 37/38 [01:28<00:02,  2.41s/it]\u001b[A\n",
            "Running Epoch 0 of 1: 100%|████████████████████████████████████████████████████████████| 38/38 [01:30<00:00,  2.38s/it]\n",
            "Epoch 1 of 1: 100%|██████████████████████████████████████████████████████████████████████| 1/1 [01:30<00:00, 90.50s/it]\n",
            "C:\\Users\\Domenico\\.conda\\envs\\tf\\lib\\site-packages\\simpletransformers\\classification\\classification_model.py:1454: UserWarning: Dataframe headers not specified. Falling back to using column 0 as text and column 1 as labels.\n",
            "  warnings.warn(\n"
          ]
        },
        {
          "output_type": "stream",
          "name": "stdout",
          "text": [
            "\n",
            "NOW EVALUATE THE TEST DF.\n"
          ]
        },
        {
          "output_type": "stream",
          "name": "stderr",
          "text": [
            "  0%|▍                                                                                 | 1/200 [00:07<24:11,  7.30s/it]\n",
            "Running Evaluation: 100%|██████████████████████████████████████████████████████████████| 25/25 [00:14<00:00,  1.75it/s]\n",
            "C:\\Users\\Domenico\\.conda\\envs\\tf\\lib\\site-packages\\simpletransformers\\classification\\classification_model.py:612: UserWarning: Dataframe headers not specified. Falling back to using column 0 as text and column 1 as labels.\n",
            "  warnings.warn(\n"
          ]
        },
        {
          "output_type": "stream",
          "name": "stdout",
          "text": [
            "{'mcc': 0.3300165012376031, 'tp': 67, 'tn': 66, 'fp': 34, 'fn': 33, 'auroc': 0.7101, 'auprc': 0.6799220279507334, 'eval_loss': 1.863013137159869}\n",
            "Correct predictions are:  133\n",
            "Total predictions are:  200\n",
            "Accuracy on test set is: 0.665 \n",
            "\n",
            "\n",
            "\n",
            "EPOCH NUMBER:  9\n",
            "\n",
            "NOW TRAIN THE MODEL.\n"
          ]
        },
        {
          "output_type": "stream",
          "name": "stderr",
          "text": [
            "  0%|▎                                                                                 | 1/300 [00:08<42:18,  8.49s/it]\n",
            "Epoch 1 of 1:   0%|                                                                              | 0/1 [00:00<?, ?it/s]\n",
            "Running Epoch 0 of 1:   0%|                                                                     | 0/38 [00:00<?, ?it/s]\u001b[A\n",
            "Running Epoch 0 of 1:   3%|█▌                                                           | 1/38 [00:02<01:26,  2.33s/it]\u001b[A\n",
            "Running Epoch 0 of 1:   5%|███▏                                                         | 2/38 [00:04<01:24,  2.35s/it]\u001b[A\n",
            "Running Epoch 0 of 1:   8%|████▊                                                        | 3/38 [00:07<01:22,  2.36s/it]\u001b[A\n",
            "Running Epoch 0 of 1:  11%|██████▍                                                      | 4/38 [00:09<01:20,  2.37s/it]\u001b[A\n",
            "Running Epoch 0 of 1:  13%|████████                                                     | 5/38 [00:11<01:18,  2.38s/it]\u001b[A\n",
            "Running Epoch 0 of 1:  16%|█████████▋                                                   | 6/38 [00:14<01:16,  2.39s/it]\u001b[A\n",
            "Running Epoch 0 of 1:  18%|███████████▏                                                 | 7/38 [00:16<01:14,  2.40s/it]\u001b[A\n",
            "Running Epoch 0 of 1:  21%|████████████▊                                                | 8/38 [00:19<01:11,  2.39s/it]\u001b[A\n",
            "Running Epoch 0 of 1:  24%|██████████████▍                                              | 9/38 [00:21<01:09,  2.38s/it]\u001b[A\n",
            "Running Epoch 0 of 1:  26%|███████████████▊                                            | 10/38 [00:23<01:07,  2.40s/it]\u001b[A\n",
            "Running Epoch 0 of 1:  29%|█████████████████▎                                          | 11/38 [00:26<01:04,  2.38s/it]\u001b[A\n",
            "Running Epoch 0 of 1:  32%|██████████████████▉                                         | 12/38 [00:28<01:02,  2.39s/it]\u001b[A\n",
            "Running Epoch 0 of 1:  34%|████████████████████▌                                       | 13/38 [00:30<00:59,  2.39s/it]\u001b[A\n",
            "Running Epoch 0 of 1:  37%|██████████████████████                                      | 14/38 [00:33<00:57,  2.39s/it]\u001b[A\n",
            "Running Epoch 0 of 1:  39%|███████████████████████▋                                    | 15/38 [00:35<00:55,  2.40s/it]\u001b[A\n",
            "Running Epoch 0 of 1:  42%|█████████████████████████▎                                  | 16/38 [00:38<00:52,  2.37s/it]\u001b[A\n",
            "Running Epoch 0 of 1:  45%|██████████████████████████▊                                 | 17/38 [00:40<00:50,  2.39s/it]\u001b[A\n",
            "Running Epoch 0 of 1:  47%|████████████████████████████▍                               | 18/38 [00:42<00:47,  2.40s/it]\u001b[A\n",
            "Running Epoch 0 of 1:  50%|██████████████████████████████                              | 19/38 [00:45<00:45,  2.39s/it]\u001b[A\n",
            "Running Epoch 0 of 1:  53%|███████████████████████████████▌                            | 20/38 [00:47<00:42,  2.39s/it]\u001b[A\n",
            "Running Epoch 0 of 1:  55%|█████████████████████████████████▏                          | 21/38 [00:50<00:40,  2.39s/it]\u001b[A\n",
            "Running Epoch 0 of 1:  58%|██████████████████████████████████▋                         | 22/38 [00:52<00:38,  2.39s/it]\u001b[A\n",
            "Running Epoch 0 of 1:  61%|████████████████████████████████████▎                       | 23/38 [00:54<00:36,  2.40s/it]\u001b[A\n",
            "Running Epoch 0 of 1:  63%|█████████████████████████████████████▉                      | 24/38 [00:57<00:33,  2.39s/it]\u001b[A\n",
            "Running Epoch 0 of 1:  66%|███████████████████████████████████████▍                    | 25/38 [00:59<00:31,  2.41s/it]\u001b[A\n",
            "Running Epoch 0 of 1:  68%|█████████████████████████████████████████                   | 26/38 [01:02<00:28,  2.40s/it]\u001b[A\n",
            "Running Epoch 0 of 1:  71%|██████████████████████████████████████████▋                 | 27/38 [01:04<00:26,  2.40s/it]\u001b[A\n",
            "Running Epoch 0 of 1:  74%|████████████████████████████████████████████▏               | 28/38 [01:06<00:24,  2.41s/it]\u001b[A\n",
            "Running Epoch 0 of 1:  76%|█████████████████████████████████████████████▊              | 29/38 [01:09<00:21,  2.39s/it]\u001b[A\n",
            "Running Epoch 0 of 1:  79%|███████████████████████████████████████████████▎            | 30/38 [01:11<00:19,  2.39s/it]\u001b[A\n",
            "Running Epoch 0 of 1:  82%|████████████████████████████████████████████████▉           | 31/38 [01:14<00:16,  2.39s/it]\u001b[A\n",
            "Running Epoch 0 of 1:  84%|██████████████████████████████████████████████████▌         | 32/38 [01:16<00:14,  2.38s/it]\u001b[A\n",
            "Running Epoch 0 of 1:  87%|████████████████████████████████████████████████████        | 33/38 [01:18<00:11,  2.40s/it]\u001b[A\n",
            "Running Epoch 0 of 1:  89%|█████████████████████████████████████████████████████▋      | 34/38 [01:21<00:09,  2.39s/it]\u001b[A\n",
            "Running Epoch 0 of 1:  92%|███████████████████████████████████████████████████████▎    | 35/38 [01:23<00:07,  2.41s/it]\u001b[A\n",
            "Running Epoch 0 of 1:  95%|████████████████████████████████████████████████████████▊   | 36/38 [01:26<00:04,  2.41s/it]\u001b[A\n",
            "Running Epoch 0 of 1:  97%|██████████████████████████████████████████████████████████▍ | 37/38 [01:28<00:02,  2.42s/it]\u001b[A\n",
            "Running Epoch 0 of 1: 100%|████████████████████████████████████████████████████████████| 38/38 [01:30<00:00,  2.37s/it]\n",
            "Epoch 1 of 1: 100%|██████████████████████████████████████████████████████████████████████| 1/1 [01:30<00:00, 90.12s/it]\n",
            "C:\\Users\\Domenico\\.conda\\envs\\tf\\lib\\site-packages\\simpletransformers\\classification\\classification_model.py:1454: UserWarning: Dataframe headers not specified. Falling back to using column 0 as text and column 1 as labels.\n",
            "  warnings.warn(\n"
          ]
        },
        {
          "output_type": "stream",
          "name": "stdout",
          "text": [
            "\n",
            "NOW EVALUATE THE TEST DF.\n"
          ]
        },
        {
          "output_type": "stream",
          "name": "stderr",
          "text": [
            "  0%|▍                                                                                 | 1/200 [00:07<24:09,  7.28s/it]\n",
            "Running Evaluation: 100%|██████████████████████████████████████████████████████████████| 25/25 [00:15<00:00,  1.63it/s]\n"
          ]
        },
        {
          "output_type": "stream",
          "name": "stdout",
          "text": [
            "{'mcc': 0.4082482904638631, 'tp': 80, 'tn': 60, 'fp': 40, 'fn': 20, 'auroc': 0.751, 'auprc': 0.7207736820346567, 'eval_loss': 2.1958652152866125}\n",
            "Correct predictions are:  140\n",
            "Total predictions are:  200\n",
            "Accuracy on test set is: 0.7 \n",
            "\n",
            "\n",
            "[0.65, 0.615, 0.68, 0.66, 0.69, 0.65, 0.675, 0.665, 0.665, 0.7]\n"
          ]
        },
        {
          "output_type": "stream",
          "name": "stderr",
          "text": [
            "Some weights of the model checkpoint at roberta-base were not used when initializing RobertaForSequenceClassification: ['lm_head.dense.weight', 'roberta.pooler.dense.bias', 'lm_head.layer_norm.weight', 'roberta.pooler.dense.weight', 'lm_head.layer_norm.bias', 'lm_head.dense.bias', 'lm_head.decoder.weight', 'lm_head.bias']\n",
            "- This IS expected if you are initializing RobertaForSequenceClassification from the checkpoint of a model trained on another task or with another architecture (e.g. initializing a BertForSequenceClassification model from a BertForPreTraining model).\n",
            "- This IS NOT expected if you are initializing RobertaForSequenceClassification from the checkpoint of a model that you expect to be exactly identical (initializing a BertForSequenceClassification model from a BertForSequenceClassification model).\n",
            "Some weights of RobertaForSequenceClassification were not initialized from the model checkpoint at roberta-base and are newly initialized: ['classifier.out_proj.bias', 'classifier.dense.bias', 'classifier.out_proj.weight', 'classifier.dense.weight']\n",
            "You should probably TRAIN this model on a down-stream task to be able to use it for predictions and inference.\n",
            "C:\\Users\\Domenico\\.conda\\envs\\tf\\lib\\site-packages\\simpletransformers\\classification\\classification_model.py:612: UserWarning: Dataframe headers not specified. Falling back to using column 0 as text and column 1 as labels.\n",
            "  warnings.warn(\n"
          ]
        },
        {
          "output_type": "stream",
          "name": "stdout",
          "text": [
            "\n",
            "EPOCH NUMBER:  0\n",
            "\n",
            "NOW TRAIN THE MODEL.\n"
          ]
        },
        {
          "output_type": "stream",
          "name": "stderr",
          "text": [
            "  0%|▎                                                                                 | 1/300 [00:08<43:30,  8.73s/it]\n",
            "Epoch 1 of 1:   0%|                                                                              | 0/1 [00:00<?, ?it/s]\n",
            "Running Epoch 0 of 1:   0%|                                                                     | 0/38 [00:00<?, ?it/s]\u001b[A\n",
            "Running Epoch 0 of 1:   3%|█▌                                                           | 1/38 [00:02<01:28,  2.40s/it]\u001b[A\n",
            "Running Epoch 0 of 1:   5%|███▏                                                         | 2/38 [00:05<01:30,  2.52s/it]\u001b[A\n",
            "Running Epoch 0 of 1:   8%|████▊                                                        | 3/38 [00:07<01:29,  2.56s/it]\u001b[A\n",
            "Running Epoch 0 of 1:  11%|██████▍                                                      | 4/38 [00:10<01:28,  2.60s/it]\u001b[A\n",
            "Running Epoch 0 of 1:  13%|████████                                                     | 5/38 [00:12<01:25,  2.60s/it]\u001b[A\n",
            "Running Epoch 0 of 1:  16%|█████████▋                                                   | 6/38 [00:15<01:22,  2.59s/it]\u001b[A\n",
            "Running Epoch 0 of 1:  18%|███████████▏                                                 | 7/38 [00:17<01:19,  2.57s/it]\u001b[A\n",
            "Running Epoch 0 of 1:  21%|████████████▊                                                | 8/38 [00:20<01:17,  2.58s/it]\u001b[A\n",
            "Running Epoch 0 of 1:  24%|██████████████▍                                              | 9/38 [00:23<01:14,  2.59s/it]\u001b[A\n",
            "Running Epoch 0 of 1:  26%|███████████████▊                                            | 10/38 [00:25<01:12,  2.60s/it]\u001b[A\n",
            "Running Epoch 0 of 1:  29%|█████████████████▎                                          | 11/38 [00:28<01:10,  2.60s/it]\u001b[A\n",
            "Running Epoch 0 of 1:  32%|██████████████████▉                                         | 12/38 [00:30<01:06,  2.56s/it]\u001b[A\n",
            "Running Epoch 0 of 1:  34%|████████████████████▌                                       | 13/38 [00:33<01:03,  2.53s/it]\u001b[A\n",
            "Running Epoch 0 of 1:  37%|██████████████████████                                      | 14/38 [00:35<01:00,  2.54s/it]\u001b[A\n",
            "Running Epoch 0 of 1:  39%|███████████████████████▋                                    | 15/38 [00:38<00:57,  2.52s/it]\u001b[A\n",
            "Running Epoch 0 of 1:  42%|█████████████████████████▎                                  | 16/38 [00:40<00:54,  2.50s/it]\u001b[A\n",
            "Running Epoch 0 of 1:  45%|██████████████████████████▊                                 | 17/38 [00:43<00:52,  2.49s/it]\u001b[A\n",
            "Running Epoch 0 of 1:  47%|████████████████████████████▍                               | 18/38 [00:45<00:49,  2.47s/it]\u001b[A\n",
            "Running Epoch 0 of 1:  50%|██████████████████████████████                              | 19/38 [00:48<00:46,  2.47s/it]\u001b[A\n",
            "Running Epoch 0 of 1:  53%|███████████████████████████████▌                            | 20/38 [00:50<00:44,  2.47s/it]\u001b[A\n",
            "Running Epoch 0 of 1:  55%|█████████████████████████████████▏                          | 21/38 [00:53<00:42,  2.48s/it]\u001b[A\n",
            "Running Epoch 0 of 1:  58%|██████████████████████████████████▋                         | 22/38 [00:55<00:39,  2.47s/it]\u001b[A\n",
            "Running Epoch 0 of 1:  61%|████████████████████████████████████▎                       | 23/38 [00:58<00:37,  2.47s/it]\u001b[A\n",
            "Running Epoch 0 of 1:  63%|█████████████████████████████████████▉                      | 24/38 [01:00<00:34,  2.46s/it]\u001b[A\n",
            "Running Epoch 0 of 1:  66%|███████████████████████████████████████▍                    | 25/38 [01:03<00:32,  2.48s/it]\u001b[A\n",
            "Running Epoch 0 of 1:  68%|█████████████████████████████████████████                   | 26/38 [01:05<00:29,  2.47s/it]\u001b[A\n",
            "Running Epoch 0 of 1:  71%|██████████████████████████████████████████▋                 | 27/38 [01:07<00:27,  2.47s/it]\u001b[A\n",
            "Running Epoch 0 of 1:  74%|████████████████████████████████████████████▏               | 28/38 [01:10<00:24,  2.47s/it]\u001b[A\n",
            "Running Epoch 0 of 1:  76%|█████████████████████████████████████████████▊              | 29/38 [01:12<00:22,  2.48s/it]\u001b[A\n",
            "Running Epoch 0 of 1:  79%|███████████████████████████████████████████████▎            | 30/38 [01:15<00:19,  2.49s/it]\u001b[A\n",
            "Running Epoch 0 of 1:  82%|████████████████████████████████████████████████▉           | 31/38 [01:17<00:17,  2.47s/it]\u001b[A\n",
            "Running Epoch 0 of 1:  84%|██████████████████████████████████████████████████▌         | 32/38 [01:20<00:14,  2.48s/it]\u001b[A\n",
            "Running Epoch 0 of 1:  87%|████████████████████████████████████████████████████        | 33/38 [01:22<00:12,  2.48s/it]\u001b[A\n",
            "Running Epoch 0 of 1:  89%|█████████████████████████████████████████████████████▋      | 34/38 [01:25<00:10,  2.51s/it]\u001b[A\n",
            "Running Epoch 0 of 1:  92%|███████████████████████████████████████████████████████▎    | 35/38 [01:27<00:07,  2.49s/it]\u001b[A\n",
            "Running Epoch 0 of 1:  95%|████████████████████████████████████████████████████████▊   | 36/38 [01:30<00:04,  2.49s/it]\u001b[A\n",
            "Running Epoch 0 of 1:  97%|██████████████████████████████████████████████████████████▍ | 37/38 [01:32<00:02,  2.48s/it]\u001b[A\n",
            "Running Epoch 0 of 1: 100%|████████████████████████████████████████████████████████████| 38/38 [01:34<00:00,  2.49s/it]\n",
            "Epoch 1 of 1: 100%|██████████████████████████████████████████████████████████████████████| 1/1 [01:34<00:00, 94.45s/it]\n",
            "C:\\Users\\Domenico\\.conda\\envs\\tf\\lib\\site-packages\\simpletransformers\\classification\\classification_model.py:1454: UserWarning: Dataframe headers not specified. Falling back to using column 0 as text and column 1 as labels.\n",
            "  warnings.warn(\n"
          ]
        },
        {
          "output_type": "stream",
          "name": "stdout",
          "text": [
            "\n",
            "NOW EVALUATE THE TEST DF.\n"
          ]
        },
        {
          "output_type": "stream",
          "name": "stderr",
          "text": [
            "  0%|▍                                                                                 | 1/200 [00:07<24:48,  7.48s/it]\n",
            "Running Evaluation: 100%|██████████████████████████████████████████████████████████████| 25/25 [00:14<00:00,  1.69it/s]\n",
            "C:\\Users\\Domenico\\.conda\\envs\\tf\\lib\\site-packages\\simpletransformers\\classification\\classification_model.py:612: UserWarning: Dataframe headers not specified. Falling back to using column 0 as text and column 1 as labels.\n",
            "  warnings.warn(\n"
          ]
        },
        {
          "output_type": "stream",
          "name": "stdout",
          "text": [
            "{'mcc': 0.0, 'tp': 100, 'tn': 0, 'fp': 100, 'fn': 0, 'auroc': 0.6848, 'auprc': 0.6322305808045044, 'eval_loss': 0.6925685787200928}\n",
            "Correct predictions are:  100\n",
            "Total predictions are:  200\n",
            "Accuracy on test set is: 0.5 \n",
            "\n",
            "\n",
            "\n",
            "EPOCH NUMBER:  1\n",
            "\n",
            "NOW TRAIN THE MODEL.\n"
          ]
        },
        {
          "output_type": "stream",
          "name": "stderr",
          "text": [
            "  0%|▎                                                                                 | 1/300 [00:08<43:29,  8.73s/it]\n",
            "Epoch 1 of 1:   0%|                                                                              | 0/1 [00:00<?, ?it/s]\n",
            "Running Epoch 0 of 1:   0%|                                                                     | 0/38 [00:00<?, ?it/s]\u001b[A\n",
            "Running Epoch 0 of 1:   3%|█▌                                                           | 1/38 [00:02<01:28,  2.38s/it]\u001b[A\n",
            "Running Epoch 0 of 1:   5%|███▏                                                         | 2/38 [00:04<01:27,  2.44s/it]\u001b[A\n",
            "Running Epoch 0 of 1:   8%|████▊                                                        | 3/38 [00:07<01:25,  2.45s/it]\u001b[A\n",
            "Running Epoch 0 of 1:  11%|██████▍                                                      | 4/38 [00:09<01:24,  2.47s/it]\u001b[A\n",
            "Running Epoch 0 of 1:  13%|████████                                                     | 5/38 [00:12<01:21,  2.47s/it]\u001b[A\n",
            "Running Epoch 0 of 1:  16%|█████████▋                                                   | 6/38 [00:14<01:19,  2.48s/it]\u001b[A\n",
            "Running Epoch 0 of 1:  18%|███████████▏                                                 | 7/38 [00:17<01:16,  2.47s/it]\u001b[A\n",
            "Running Epoch 0 of 1:  21%|████████████▊                                                | 8/38 [00:19<01:14,  2.49s/it]\u001b[A\n",
            "Running Epoch 0 of 1:  24%|██████████████▍                                              | 9/38 [00:22<01:11,  2.48s/it]\u001b[A\n",
            "Running Epoch 0 of 1:  26%|███████████████▊                                            | 10/38 [00:24<01:09,  2.50s/it]\u001b[A\n",
            "Running Epoch 0 of 1:  29%|█████████████████▎                                          | 11/38 [00:27<01:07,  2.51s/it]\u001b[A\n",
            "Running Epoch 0 of 1:  32%|██████████████████▉                                         | 12/38 [00:29<01:05,  2.52s/it]\u001b[A\n",
            "Running Epoch 0 of 1:  34%|████████████████████▌                                       | 13/38 [00:32<01:03,  2.52s/it]\u001b[A\n",
            "Running Epoch 0 of 1:  37%|██████████████████████                                      | 14/38 [00:34<01:01,  2.55s/it]\u001b[A\n",
            "Running Epoch 0 of 1:  39%|███████████████████████▋                                    | 15/38 [00:37<00:59,  2.57s/it]\u001b[A\n",
            "Running Epoch 0 of 1:  42%|█████████████████████████▎                                  | 16/38 [00:40<00:56,  2.59s/it]\u001b[A\n",
            "Running Epoch 0 of 1:  45%|██████████████████████████▊                                 | 17/38 [00:42<00:54,  2.59s/it]\u001b[A\n",
            "Running Epoch 0 of 1:  47%|████████████████████████████▍                               | 18/38 [00:45<00:51,  2.57s/it]\u001b[A\n",
            "Running Epoch 0 of 1:  50%|██████████████████████████████                              | 19/38 [00:47<00:48,  2.54s/it]\u001b[A\n",
            "Running Epoch 0 of 1:  53%|███████████████████████████████▌                            | 20/38 [00:50<00:45,  2.51s/it]\u001b[A\n",
            "Running Epoch 0 of 1:  55%|█████████████████████████████████▏                          | 21/38 [00:52<00:42,  2.51s/it]\u001b[A\n",
            "Running Epoch 0 of 1:  58%|██████████████████████████████████▋                         | 22/38 [00:55<00:40,  2.52s/it]\u001b[A\n",
            "Running Epoch 0 of 1:  61%|████████████████████████████████████▎                       | 23/38 [00:58<00:38,  2.59s/it]\u001b[A\n",
            "Running Epoch 0 of 1:  63%|█████████████████████████████████████▉                      | 24/38 [01:00<00:36,  2.63s/it]\u001b[A\n",
            "Running Epoch 0 of 1:  66%|███████████████████████████████████████▍                    | 25/38 [01:03<00:34,  2.62s/it]\u001b[A\n",
            "Running Epoch 0 of 1:  68%|█████████████████████████████████████████                   | 26/38 [01:06<00:31,  2.63s/it]\u001b[A\n",
            "Running Epoch 0 of 1:  71%|██████████████████████████████████████████▋                 | 27/38 [01:08<00:28,  2.63s/it]\u001b[A\n",
            "Running Epoch 0 of 1:  74%|████████████████████████████████████████████▏               | 28/38 [01:11<00:26,  2.65s/it]\u001b[A\n",
            "Running Epoch 0 of 1:  76%|█████████████████████████████████████████████▊              | 29/38 [01:14<00:23,  2.66s/it]\u001b[A\n",
            "Running Epoch 0 of 1:  79%|███████████████████████████████████████████████▎            | 30/38 [01:16<00:21,  2.67s/it]\u001b[A\n",
            "Running Epoch 0 of 1:  82%|████████████████████████████████████████████████▉           | 31/38 [01:19<00:18,  2.68s/it]\u001b[A\n",
            "Running Epoch 0 of 1:  84%|██████████████████████████████████████████████████▌         | 32/38 [01:22<00:16,  2.68s/it]\u001b[A\n",
            "Running Epoch 0 of 1:  87%|████████████████████████████████████████████████████        | 33/38 [01:24<00:13,  2.67s/it]\u001b[A\n",
            "Running Epoch 0 of 1:  89%|█████████████████████████████████████████████████████▋      | 34/38 [01:27<00:10,  2.65s/it]\u001b[A\n",
            "Running Epoch 0 of 1:  92%|███████████████████████████████████████████████████████▎    | 35/38 [01:30<00:07,  2.66s/it]\u001b[A\n",
            "Running Epoch 0 of 1:  95%|████████████████████████████████████████████████████████▊   | 36/38 [01:32<00:05,  2.63s/it]\u001b[A\n",
            "Running Epoch 0 of 1:  97%|██████████████████████████████████████████████████████████▍ | 37/38 [01:35<00:02,  2.64s/it]\u001b[A\n",
            "Running Epoch 0 of 1: 100%|████████████████████████████████████████████████████████████| 38/38 [01:37<00:00,  2.55s/it]\n",
            "Epoch 1 of 1: 100%|██████████████████████████████████████████████████████████████████████| 1/1 [01:37<00:00, 97.07s/it]\n",
            "C:\\Users\\Domenico\\.conda\\envs\\tf\\lib\\site-packages\\simpletransformers\\classification\\classification_model.py:1454: UserWarning: Dataframe headers not specified. Falling back to using column 0 as text and column 1 as labels.\n",
            "  warnings.warn(\n"
          ]
        },
        {
          "output_type": "stream",
          "name": "stdout",
          "text": [
            "\n",
            "NOW EVALUATE THE TEST DF.\n"
          ]
        },
        {
          "output_type": "stream",
          "name": "stderr",
          "text": [
            "  0%|▍                                                                                 | 1/200 [00:07<25:06,  7.57s/it]\n",
            "Running Evaluation: 100%|██████████████████████████████████████████████████████████████| 25/25 [00:16<00:00,  1.54it/s]\n",
            "C:\\Users\\Domenico\\.conda\\envs\\tf\\lib\\site-packages\\simpletransformers\\classification\\classification_model.py:612: UserWarning: Dataframe headers not specified. Falling back to using column 0 as text and column 1 as labels.\n",
            "  warnings.warn(\n"
          ]
        },
        {
          "output_type": "stream",
          "name": "stdout",
          "text": [
            "{'mcc': 0.05694947974514994, 'tp': 94, 'tn': 9, 'fp': 91, 'fn': 6, 'auroc': 0.6772, 'auprc': 0.6701032610158673, 'eval_loss': 0.6834816718101502}\n",
            "Correct predictions are:  103\n",
            "Total predictions are:  200\n",
            "Accuracy on test set is: 0.515 \n",
            "\n",
            "\n",
            "\n",
            "EPOCH NUMBER:  2\n",
            "\n",
            "NOW TRAIN THE MODEL.\n"
          ]
        },
        {
          "output_type": "stream",
          "name": "stderr",
          "text": [
            "  0%|▎                                                                                 | 1/300 [00:08<43:39,  8.76s/it]\n",
            "Epoch 1 of 1:   0%|                                                                              | 0/1 [00:00<?, ?it/s]\n",
            "Running Epoch 0 of 1:   0%|                                                                     | 0/38 [00:00<?, ?it/s]\u001b[A\n",
            "Running Epoch 0 of 1:   3%|█▌                                                           | 1/38 [00:02<01:37,  2.63s/it]\u001b[A\n",
            "Running Epoch 0 of 1:   5%|███▏                                                         | 2/38 [00:05<01:34,  2.62s/it]\u001b[A\n",
            "Running Epoch 0 of 1:   8%|████▊                                                        | 3/38 [00:07<01:32,  2.63s/it]\u001b[A\n",
            "Running Epoch 0 of 1:  11%|██████▍                                                      | 4/38 [00:10<01:30,  2.68s/it]\u001b[A\n",
            "Running Epoch 0 of 1:  13%|████████                                                     | 5/38 [00:13<01:28,  2.69s/it]\u001b[A\n",
            "Running Epoch 0 of 1:  16%|█████████▋                                                   | 6/38 [00:15<01:25,  2.67s/it]\u001b[A\n",
            "Running Epoch 0 of 1:  18%|███████████▏                                                 | 7/38 [00:18<01:22,  2.68s/it]\u001b[A\n",
            "Running Epoch 0 of 1:  21%|████████████▊                                                | 8/38 [00:21<01:19,  2.65s/it]\u001b[A\n",
            "Running Epoch 0 of 1:  24%|██████████████▍                                              | 9/38 [00:23<01:16,  2.65s/it]\u001b[A\n",
            "Running Epoch 0 of 1:  26%|███████████████▊                                            | 10/38 [00:26<01:14,  2.65s/it]\u001b[A\n",
            "Running Epoch 0 of 1:  29%|█████████████████▎                                          | 11/38 [00:29<01:11,  2.64s/it]\u001b[A\n",
            "Running Epoch 0 of 1:  32%|██████████████████▉                                         | 12/38 [00:31<01:08,  2.63s/it]\u001b[A\n",
            "Running Epoch 0 of 1:  34%|████████████████████▌                                       | 13/38 [00:34<01:06,  2.66s/it]\u001b[A\n",
            "Running Epoch 0 of 1:  37%|██████████████████████                                      | 14/38 [00:37<01:03,  2.65s/it]\u001b[A\n",
            "Running Epoch 0 of 1:  39%|███████████████████████▋                                    | 15/38 [00:39<01:01,  2.65s/it]\u001b[A\n",
            "Running Epoch 0 of 1:  42%|█████████████████████████▎                                  | 16/38 [00:42<00:58,  2.65s/it]\u001b[A\n",
            "Running Epoch 0 of 1:  45%|██████████████████████████▊                                 | 17/38 [00:45<00:55,  2.65s/it]\u001b[A\n",
            "Running Epoch 0 of 1:  47%|████████████████████████████▍                               | 18/38 [00:47<00:53,  2.65s/it]\u001b[A\n",
            "Running Epoch 0 of 1:  50%|██████████████████████████████                              | 19/38 [00:50<00:50,  2.67s/it]\u001b[A\n",
            "Running Epoch 0 of 1:  53%|███████████████████████████████▌                            | 20/38 [00:53<00:48,  2.68s/it]\u001b[A\n",
            "Running Epoch 0 of 1:  55%|█████████████████████████████████▏                          | 21/38 [00:55<00:45,  2.66s/it]\u001b[A\n",
            "Running Epoch 0 of 1:  58%|██████████████████████████████████▋                         | 22/38 [00:58<00:42,  2.67s/it]\u001b[A\n",
            "Running Epoch 0 of 1:  61%|████████████████████████████████████▎                       | 23/38 [01:01<00:39,  2.65s/it]\u001b[A\n",
            "Running Epoch 0 of 1:  63%|█████████████████████████████████████▉                      | 24/38 [01:03<00:37,  2.67s/it]\u001b[A\n",
            "Running Epoch 0 of 1:  66%|███████████████████████████████████████▍                    | 25/38 [01:06<00:34,  2.68s/it]\u001b[A\n",
            "Running Epoch 0 of 1:  68%|█████████████████████████████████████████                   | 26/38 [01:09<00:32,  2.70s/it]\u001b[A\n",
            "Running Epoch 0 of 1:  71%|██████████████████████████████████████████▋                 | 27/38 [01:11<00:29,  2.71s/it]\u001b[A\n",
            "Running Epoch 0 of 1:  74%|████████████████████████████████████████████▏               | 28/38 [01:14<00:26,  2.68s/it]\u001b[A\n",
            "Running Epoch 0 of 1:  76%|█████████████████████████████████████████████▊              | 29/38 [01:17<00:24,  2.70s/it]\u001b[A\n",
            "Running Epoch 0 of 1:  79%|███████████████████████████████████████████████▎            | 30/38 [01:19<00:21,  2.68s/it]\u001b[A\n",
            "Running Epoch 0 of 1:  82%|████████████████████████████████████████████████▉           | 31/38 [01:22<00:18,  2.68s/it]\u001b[A\n",
            "Running Epoch 0 of 1:  84%|██████████████████████████████████████████████████▌         | 32/38 [01:25<00:15,  2.66s/it]\u001b[A\n",
            "Running Epoch 0 of 1:  87%|████████████████████████████████████████████████████        | 33/38 [01:27<00:13,  2.67s/it]\u001b[A\n",
            "Running Epoch 0 of 1:  89%|█████████████████████████████████████████████████████▋      | 34/38 [01:30<00:10,  2.68s/it]\u001b[A\n",
            "Running Epoch 0 of 1:  92%|███████████████████████████████████████████████████████▎    | 35/38 [01:33<00:08,  2.68s/it]\u001b[A\n",
            "Running Epoch 0 of 1:  95%|████████████████████████████████████████████████████████▊   | 36/38 [01:35<00:05,  2.65s/it]\u001b[A\n",
            "Running Epoch 0 of 1:  97%|██████████████████████████████████████████████████████████▍ | 37/38 [01:38<00:02,  2.66s/it]\u001b[A\n",
            "Running Epoch 0 of 1: 100%|████████████████████████████████████████████████████████████| 38/38 [01:40<00:00,  2.64s/it]\n",
            "Epoch 1 of 1: 100%|█████████████████████████████████████████████████████████████████████| 1/1 [01:40<00:00, 100.39s/it]\n",
            "C:\\Users\\Domenico\\.conda\\envs\\tf\\lib\\site-packages\\simpletransformers\\classification\\classification_model.py:1454: UserWarning: Dataframe headers not specified. Falling back to using column 0 as text and column 1 as labels.\n",
            "  warnings.warn(\n"
          ]
        },
        {
          "output_type": "stream",
          "name": "stdout",
          "text": [
            "\n",
            "NOW EVALUATE THE TEST DF.\n"
          ]
        },
        {
          "output_type": "stream",
          "name": "stderr",
          "text": [
            "  0%|▍                                                                                 | 1/200 [00:07<25:11,  7.60s/it]\n",
            "Running Evaluation: 100%|██████████████████████████████████████████████████████████████| 25/25 [00:16<00:00,  1.54it/s]\n",
            "C:\\Users\\Domenico\\.conda\\envs\\tf\\lib\\site-packages\\simpletransformers\\classification\\classification_model.py:612: UserWarning: Dataframe headers not specified. Falling back to using column 0 as text and column 1 as labels.\n",
            "  warnings.warn(\n"
          ]
        },
        {
          "output_type": "stream",
          "name": "stdout",
          "text": [
            "{'mcc': 0.33909081143141073, 'tp': 78, 'tn': 55, 'fp': 45, 'fn': 22, 'auroc': 0.7202, 'auprc': 0.688080942917672, 'eval_loss': 0.6286006927490234}\n",
            "Correct predictions are:  133\n",
            "Total predictions are:  200\n",
            "Accuracy on test set is: 0.665 \n",
            "\n",
            "\n",
            "\n",
            "EPOCH NUMBER:  3\n",
            "\n",
            "NOW TRAIN THE MODEL.\n"
          ]
        },
        {
          "output_type": "stream",
          "name": "stderr",
          "text": [
            "  0%|▎                                                                                 | 1/300 [00:08<44:10,  8.86s/it]\n",
            "Epoch 1 of 1:   0%|                                                                              | 0/1 [00:00<?, ?it/s]\n",
            "Running Epoch 0 of 1:   0%|                                                                     | 0/38 [00:00<?, ?it/s]\u001b[A\n",
            "Running Epoch 0 of 1:   3%|█▌                                                           | 1/38 [00:02<01:35,  2.59s/it]\u001b[A\n",
            "Running Epoch 0 of 1:   5%|███▏                                                         | 2/38 [00:05<01:34,  2.63s/it]\u001b[A\n",
            "Running Epoch 0 of 1:   8%|████▊                                                        | 3/38 [00:07<01:33,  2.67s/it]\u001b[A\n",
            "Running Epoch 0 of 1:  11%|██████▍                                                      | 4/38 [00:10<01:30,  2.67s/it]\u001b[A\n",
            "Running Epoch 0 of 1:  13%|████████                                                     | 5/38 [00:13<01:27,  2.65s/it]\u001b[A\n",
            "Running Epoch 0 of 1:  16%|█████████▋                                                   | 6/38 [00:15<01:25,  2.66s/it]\u001b[A\n",
            "Running Epoch 0 of 1:  18%|███████████▏                                                 | 7/38 [00:18<01:22,  2.67s/it]\u001b[A\n",
            "Running Epoch 0 of 1:  21%|████████████▊                                                | 8/38 [00:21<01:19,  2.66s/it]\u001b[A\n",
            "Running Epoch 0 of 1:  24%|██████████████▍                                              | 9/38 [00:23<01:17,  2.66s/it]\u001b[A\n",
            "Running Epoch 0 of 1:  26%|███████████████▊                                            | 10/38 [00:26<01:14,  2.67s/it]\u001b[A\n",
            "Running Epoch 0 of 1:  29%|█████████████████▎                                          | 11/38 [00:29<01:12,  2.68s/it]\u001b[A\n",
            "Running Epoch 0 of 1:  32%|██████████████████▉                                         | 12/38 [00:31<01:09,  2.67s/it]\u001b[A\n",
            "Running Epoch 0 of 1:  34%|████████████████████▌                                       | 13/38 [00:34<01:07,  2.68s/it]\u001b[A\n",
            "Running Epoch 0 of 1:  37%|██████████████████████                                      | 14/38 [00:37<01:04,  2.68s/it]\u001b[A\n",
            "Running Epoch 0 of 1:  39%|███████████████████████▋                                    | 15/38 [00:39<01:01,  2.67s/it]\u001b[A\n",
            "Running Epoch 0 of 1:  42%|█████████████████████████▎                                  | 16/38 [00:42<00:59,  2.68s/it]\u001b[A\n",
            "Running Epoch 0 of 1:  45%|██████████████████████████▊                                 | 17/38 [00:45<00:56,  2.68s/it]\u001b[A\n",
            "Running Epoch 0 of 1:  47%|████████████████████████████▍                               | 18/38 [00:47<00:53,  2.66s/it]\u001b[A\n",
            "Running Epoch 0 of 1:  50%|██████████████████████████████                              | 19/38 [00:50<00:51,  2.68s/it]\u001b[A\n",
            "Running Epoch 0 of 1:  53%|███████████████████████████████▌                            | 20/38 [00:53<00:47,  2.65s/it]\u001b[A\n",
            "Running Epoch 0 of 1:  55%|█████████████████████████████████▏                          | 21/38 [00:55<00:45,  2.65s/it]\u001b[A\n",
            "Running Epoch 0 of 1:  58%|██████████████████████████████████▋                         | 22/38 [00:58<00:42,  2.66s/it]\u001b[A\n",
            "Running Epoch 0 of 1:  61%|████████████████████████████████████▎                       | 23/38 [01:01<00:39,  2.67s/it]\u001b[A\n",
            "Running Epoch 0 of 1:  63%|█████████████████████████████████████▉                      | 24/38 [01:04<00:37,  2.68s/it]\u001b[A\n",
            "Running Epoch 0 of 1:  66%|███████████████████████████████████████▍                    | 25/38 [01:06<00:34,  2.69s/it]\u001b[A\n",
            "Running Epoch 0 of 1:  68%|█████████████████████████████████████████                   | 26/38 [01:09<00:32,  2.70s/it]\u001b[A\n",
            "Running Epoch 0 of 1:  71%|██████████████████████████████████████████▋                 | 27/38 [01:12<00:29,  2.69s/it]\u001b[A\n",
            "Running Epoch 0 of 1:  74%|████████████████████████████████████████████▏               | 28/38 [01:14<00:26,  2.70s/it]\u001b[A\n",
            "Running Epoch 0 of 1:  76%|█████████████████████████████████████████████▊              | 29/38 [01:17<00:24,  2.68s/it]\u001b[A\n",
            "Running Epoch 0 of 1:  79%|███████████████████████████████████████████████▎            | 30/38 [01:20<00:21,  2.67s/it]\u001b[A\n",
            "Running Epoch 0 of 1:  82%|████████████████████████████████████████████████▉           | 31/38 [01:22<00:18,  2.66s/it]\u001b[A\n",
            "Running Epoch 0 of 1:  84%|██████████████████████████████████████████████████▌         | 32/38 [01:25<00:16,  2.67s/it]\u001b[A\n",
            "Running Epoch 0 of 1:  87%|████████████████████████████████████████████████████        | 33/38 [01:28<00:13,  2.66s/it]\u001b[A\n",
            "Running Epoch 0 of 1:  89%|█████████████████████████████████████████████████████▋      | 34/38 [01:30<00:10,  2.65s/it]\u001b[A\n",
            "Running Epoch 0 of 1:  92%|███████████████████████████████████████████████████████▎    | 35/38 [01:33<00:07,  2.66s/it]\u001b[A\n",
            "Running Epoch 0 of 1:  95%|████████████████████████████████████████████████████████▊   | 36/38 [01:36<00:05,  2.66s/it]\u001b[A\n",
            "Running Epoch 0 of 1:  97%|██████████████████████████████████████████████████████████▍ | 37/38 [01:38<00:02,  2.68s/it]\u001b[A\n",
            "Running Epoch 0 of 1: 100%|████████████████████████████████████████████████████████████| 38/38 [01:40<00:00,  2.65s/it]\n",
            "Epoch 1 of 1: 100%|█████████████████████████████████████████████████████████████████████| 1/1 [01:40<00:00, 100.59s/it]\n",
            "C:\\Users\\Domenico\\.conda\\envs\\tf\\lib\\site-packages\\simpletransformers\\classification\\classification_model.py:1454: UserWarning: Dataframe headers not specified. Falling back to using column 0 as text and column 1 as labels.\n",
            "  warnings.warn(\n"
          ]
        },
        {
          "output_type": "stream",
          "name": "stdout",
          "text": [
            "\n",
            "NOW EVALUATE THE TEST DF.\n"
          ]
        },
        {
          "output_type": "stream",
          "name": "stderr",
          "text": [
            "  0%|▍                                                                                 | 1/200 [00:07<24:50,  7.49s/it]\n",
            "Running Evaluation: 100%|██████████████████████████████████████████████████████████████| 25/25 [00:16<00:00,  1.53it/s]\n",
            "C:\\Users\\Domenico\\.conda\\envs\\tf\\lib\\site-packages\\simpletransformers\\classification\\classification_model.py:612: UserWarning: Dataframe headers not specified. Falling back to using column 0 as text and column 1 as labels.\n",
            "  warnings.warn(\n"
          ]
        },
        {
          "output_type": "stream",
          "name": "stdout",
          "text": [
            "{'mcc': 0.3501576063922972, 'tp': 66, 'tn': 69, 'fp': 31, 'fn': 34, 'auroc': 0.7201, 'auprc': 0.6884807886707388, 'eval_loss': 0.6332817554473877}\n",
            "Correct predictions are:  135\n",
            "Total predictions are:  200\n",
            "Accuracy on test set is: 0.675 \n",
            "\n",
            "\n",
            "\n",
            "EPOCH NUMBER:  4\n",
            "\n",
            "NOW TRAIN THE MODEL.\n"
          ]
        },
        {
          "output_type": "stream",
          "name": "stderr",
          "text": [
            "  0%|▎                                                                                 | 1/300 [00:08<44:08,  8.86s/it]\n",
            "Epoch 1 of 1:   0%|                                                                              | 0/1 [00:00<?, ?it/s]\n",
            "Running Epoch 0 of 1:   0%|                                                                     | 0/38 [00:00<?, ?it/s]\u001b[A\n",
            "Running Epoch 0 of 1:   3%|█▌                                                           | 1/38 [00:02<01:35,  2.57s/it]\u001b[A\n",
            "Running Epoch 0 of 1:   5%|███▏                                                         | 2/38 [00:05<01:34,  2.63s/it]\u001b[A\n",
            "Running Epoch 0 of 1:   8%|████▊                                                        | 3/38 [00:07<01:31,  2.62s/it]\u001b[A\n",
            "Running Epoch 0 of 1:  11%|██████▍                                                      | 4/38 [00:10<01:29,  2.63s/it]\u001b[A\n",
            "Running Epoch 0 of 1:  13%|████████                                                     | 5/38 [00:13<01:27,  2.65s/it]\u001b[A\n",
            "Running Epoch 0 of 1:  16%|█████████▋                                                   | 6/38 [00:15<01:25,  2.67s/it]\u001b[A\n",
            "Running Epoch 0 of 1:  18%|███████████▏                                                 | 7/38 [00:18<01:22,  2.67s/it]\u001b[A\n",
            "Running Epoch 0 of 1:  21%|████████████▊                                                | 8/38 [00:21<01:20,  2.70s/it]\u001b[A\n",
            "Running Epoch 0 of 1:  24%|██████████████▍                                              | 9/38 [00:23<01:17,  2.67s/it]\u001b[A\n",
            "Running Epoch 0 of 1:  26%|███████████████▊                                            | 10/38 [00:26<01:14,  2.67s/it]\u001b[A\n",
            "Running Epoch 0 of 1:  29%|█████████████████▎                                          | 11/38 [00:29<01:11,  2.64s/it]\u001b[A\n",
            "Running Epoch 0 of 1:  32%|██████████████████▉                                         | 12/38 [00:31<01:09,  2.67s/it]\u001b[A\n",
            "Running Epoch 0 of 1:  34%|████████████████████▌                                       | 13/38 [00:34<01:06,  2.67s/it]\u001b[A\n",
            "Running Epoch 0 of 1:  37%|██████████████████████                                      | 14/38 [00:37<01:04,  2.67s/it]\u001b[A\n",
            "Running Epoch 0 of 1:  39%|███████████████████████▋                                    | 15/38 [00:39<01:01,  2.67s/it]\u001b[A\n",
            "Running Epoch 0 of 1:  42%|█████████████████████████▎                                  | 16/38 [00:42<00:58,  2.68s/it]\u001b[A\n",
            "Running Epoch 0 of 1:  45%|██████████████████████████▊                                 | 17/38 [00:45<00:56,  2.69s/it]\u001b[A\n",
            "Running Epoch 0 of 1:  47%|████████████████████████████▍                               | 18/38 [00:47<00:53,  2.67s/it]\u001b[A\n",
            "Running Epoch 0 of 1:  50%|██████████████████████████████                              | 19/38 [00:50<00:50,  2.68s/it]\u001b[A\n",
            "Running Epoch 0 of 1:  53%|███████████████████████████████▌                            | 20/38 [00:53<00:48,  2.69s/it]\u001b[A\n",
            "Running Epoch 0 of 1:  55%|█████████████████████████████████▏                          | 21/38 [00:56<00:45,  2.68s/it]\u001b[A\n",
            "Running Epoch 0 of 1:  58%|██████████████████████████████████▋                         | 22/38 [00:58<00:42,  2.69s/it]\u001b[A\n",
            "Running Epoch 0 of 1:  61%|████████████████████████████████████▎                       | 23/38 [01:01<00:40,  2.68s/it]\u001b[A\n",
            "Running Epoch 0 of 1:  63%|█████████████████████████████████████▉                      | 24/38 [01:04<00:37,  2.69s/it]\u001b[A\n",
            "Running Epoch 0 of 1:  66%|███████████████████████████████████████▍                    | 25/38 [01:06<00:35,  2.71s/it]\u001b[A\n",
            "Running Epoch 0 of 1:  68%|█████████████████████████████████████████                   | 26/38 [01:09<00:32,  2.70s/it]\u001b[A\n",
            "Running Epoch 0 of 1:  71%|██████████████████████████████████████████▋                 | 27/38 [01:12<00:29,  2.68s/it]\u001b[A\n",
            "Running Epoch 0 of 1:  74%|████████████████████████████████████████████▏               | 28/38 [01:14<00:26,  2.69s/it]\u001b[A\n",
            "Running Epoch 0 of 1:  76%|█████████████████████████████████████████████▊              | 29/38 [01:17<00:24,  2.68s/it]\u001b[A\n",
            "Running Epoch 0 of 1:  79%|███████████████████████████████████████████████▎            | 30/38 [01:20<00:21,  2.69s/it]\u001b[A\n",
            "Running Epoch 0 of 1:  82%|████████████████████████████████████████████████▉           | 31/38 [01:22<00:18,  2.67s/it]\u001b[A\n",
            "Running Epoch 0 of 1:  84%|██████████████████████████████████████████████████▌         | 32/38 [01:25<00:15,  2.66s/it]\u001b[A\n",
            "Running Epoch 0 of 1:  87%|████████████████████████████████████████████████████        | 33/38 [01:28<00:13,  2.67s/it]\u001b[A\n",
            "Running Epoch 0 of 1:  89%|█████████████████████████████████████████████████████▋      | 34/38 [01:30<00:10,  2.68s/it]\u001b[A\n",
            "Running Epoch 0 of 1:  92%|███████████████████████████████████████████████████████▎    | 35/38 [01:33<00:07,  2.67s/it]\u001b[A\n",
            "Running Epoch 0 of 1:  95%|████████████████████████████████████████████████████████▊   | 36/38 [01:36<00:05,  2.66s/it]\u001b[A\n",
            "Running Epoch 0 of 1:  97%|██████████████████████████████████████████████████████████▍ | 37/38 [01:38<00:02,  2.68s/it]\u001b[A\n",
            "Running Epoch 0 of 1: 100%|████████████████████████████████████████████████████████████| 38/38 [01:40<00:00,  2.65s/it]\n",
            "Epoch 1 of 1: 100%|█████████████████████████████████████████████████████████████████████| 1/1 [01:40<00:00, 100.66s/it]\n",
            "C:\\Users\\Domenico\\.conda\\envs\\tf\\lib\\site-packages\\simpletransformers\\classification\\classification_model.py:1454: UserWarning: Dataframe headers not specified. Falling back to using column 0 as text and column 1 as labels.\n",
            "  warnings.warn(\n"
          ]
        },
        {
          "output_type": "stream",
          "name": "stdout",
          "text": [
            "\n",
            "NOW EVALUATE THE TEST DF.\n"
          ]
        },
        {
          "output_type": "stream",
          "name": "stderr",
          "text": [
            "  0%|▍                                                                                 | 1/200 [00:07<24:59,  7.53s/it]\n",
            "Running Evaluation: 100%|██████████████████████████████████████████████████████████████| 25/25 [00:16<00:00,  1.54it/s]\n",
            "C:\\Users\\Domenico\\.conda\\envs\\tf\\lib\\site-packages\\simpletransformers\\classification\\classification_model.py:612: UserWarning: Dataframe headers not specified. Falling back to using column 0 as text and column 1 as labels.\n",
            "  warnings.warn(\n"
          ]
        },
        {
          "output_type": "stream",
          "name": "stdout",
          "text": [
            "{'mcc': 0.3863097476970662, 'tp': 78, 'tn': 60, 'fp': 40, 'fn': 22, 'auroc': 0.725, 'auprc': 0.7003056244620787, 'eval_loss': 0.648487229347229}\n",
            "Correct predictions are:  138\n",
            "Total predictions are:  200\n",
            "Accuracy on test set is: 0.69 \n",
            "\n",
            "\n",
            "\n",
            "EPOCH NUMBER:  5\n",
            "\n",
            "NOW TRAIN THE MODEL.\n"
          ]
        },
        {
          "output_type": "stream",
          "name": "stderr",
          "text": [
            "  0%|▎                                                                                 | 1/300 [00:08<43:32,  8.74s/it]\n",
            "Epoch 1 of 1:   0%|                                                                              | 0/1 [00:00<?, ?it/s]\n",
            "Running Epoch 0 of 1:   0%|                                                                     | 0/38 [00:00<?, ?it/s]\u001b[A\n",
            "Running Epoch 0 of 1:   3%|█▌                                                           | 1/38 [00:02<01:37,  2.63s/it]\u001b[A\n",
            "Running Epoch 0 of 1:   5%|███▏                                                         | 2/38 [00:05<01:35,  2.64s/it]\u001b[A\n",
            "Running Epoch 0 of 1:   8%|████▊                                                        | 3/38 [00:07<01:33,  2.66s/it]\u001b[A\n",
            "Running Epoch 0 of 1:  11%|██████▍                                                      | 4/38 [00:10<01:31,  2.69s/it]\u001b[A\n",
            "Running Epoch 0 of 1:  13%|████████                                                     | 5/38 [00:13<01:28,  2.68s/it]\u001b[A\n",
            "Running Epoch 0 of 1:  16%|█████████▋                                                   | 6/38 [00:15<01:25,  2.66s/it]\u001b[A\n",
            "Running Epoch 0 of 1:  18%|███████████▏                                                 | 7/38 [00:18<01:22,  2.66s/it]\u001b[A\n",
            "Running Epoch 0 of 1:  21%|████████████▊                                                | 8/38 [00:21<01:19,  2.66s/it]\u001b[A\n",
            "Running Epoch 0 of 1:  24%|██████████████▍                                              | 9/38 [00:23<01:17,  2.66s/it]\u001b[A\n",
            "Running Epoch 0 of 1:  26%|███████████████▊                                            | 10/38 [00:26<01:14,  2.65s/it]\u001b[A\n",
            "Running Epoch 0 of 1:  29%|█████████████████▎                                          | 11/38 [00:29<01:11,  2.66s/it]\u001b[A\n",
            "Running Epoch 0 of 1:  32%|██████████████████▉                                         | 12/38 [00:31<01:09,  2.66s/it]\u001b[A\n",
            "Running Epoch 0 of 1:  34%|████████████████████▌                                       | 13/38 [00:34<01:06,  2.67s/it]\u001b[A\n",
            "Running Epoch 0 of 1:  37%|██████████████████████                                      | 14/38 [00:37<01:04,  2.67s/it]\u001b[A\n",
            "Running Epoch 0 of 1:  39%|███████████████████████▋                                    | 15/38 [00:39<01:01,  2.67s/it]\u001b[A\n",
            "Running Epoch 0 of 1:  42%|█████████████████████████▎                                  | 16/38 [00:42<00:59,  2.68s/it]\u001b[A\n",
            "Running Epoch 0 of 1:  45%|██████████████████████████▊                                 | 17/38 [00:45<00:56,  2.68s/it]\u001b[A\n",
            "Running Epoch 0 of 1:  47%|████████████████████████████▍                               | 18/38 [00:48<00:53,  2.68s/it]\u001b[A\n",
            "Running Epoch 0 of 1:  50%|██████████████████████████████                              | 19/38 [00:50<00:50,  2.67s/it]\u001b[A\n",
            "Running Epoch 0 of 1:  53%|███████████████████████████████▌                            | 20/38 [00:53<00:48,  2.67s/it]\u001b[A\n",
            "Running Epoch 0 of 1:  55%|█████████████████████████████████▏                          | 21/38 [00:55<00:45,  2.66s/it]\u001b[A\n",
            "Running Epoch 0 of 1:  58%|██████████████████████████████████▋                         | 22/38 [00:58<00:42,  2.65s/it]\u001b[A\n",
            "Running Epoch 0 of 1:  61%|████████████████████████████████████▎                       | 23/38 [01:01<00:39,  2.64s/it]\u001b[A\n",
            "Running Epoch 0 of 1:  63%|█████████████████████████████████████▉                      | 24/38 [01:03<00:37,  2.65s/it]\u001b[A\n",
            "Running Epoch 0 of 1:  66%|███████████████████████████████████████▍                    | 25/38 [01:06<00:34,  2.66s/it]\u001b[A\n",
            "Running Epoch 0 of 1:  68%|█████████████████████████████████████████                   | 26/38 [01:09<00:32,  2.68s/it]\u001b[A\n",
            "Running Epoch 0 of 1:  71%|██████████████████████████████████████████▋                 | 27/38 [01:12<00:29,  2.69s/it]\u001b[A\n",
            "Running Epoch 0 of 1:  74%|████████████████████████████████████████████▏               | 28/38 [01:14<00:26,  2.70s/it]\u001b[A\n",
            "Running Epoch 0 of 1:  76%|█████████████████████████████████████████████▊              | 29/38 [01:17<00:24,  2.69s/it]\u001b[A\n",
            "Running Epoch 0 of 1:  79%|███████████████████████████████████████████████▎            | 30/38 [01:20<00:21,  2.67s/it]\u001b[A\n",
            "Running Epoch 0 of 1:  82%|████████████████████████████████████████████████▉           | 31/38 [01:22<00:18,  2.69s/it]\u001b[A\n",
            "Running Epoch 0 of 1:  84%|██████████████████████████████████████████████████▌         | 32/38 [01:25<00:16,  2.67s/it]\u001b[A\n",
            "Running Epoch 0 of 1:  87%|████████████████████████████████████████████████████        | 33/38 [01:28<00:13,  2.66s/it]\u001b[A\n",
            "Running Epoch 0 of 1:  89%|█████████████████████████████████████████████████████▋      | 34/38 [01:30<00:10,  2.66s/it]\u001b[A\n",
            "Running Epoch 0 of 1:  92%|███████████████████████████████████████████████████████▎    | 35/38 [01:33<00:08,  2.68s/it]\u001b[A\n",
            "Running Epoch 0 of 1:  95%|████████████████████████████████████████████████████████▊   | 36/38 [01:36<00:05,  2.69s/it]\u001b[A\n",
            "Running Epoch 0 of 1:  97%|██████████████████████████████████████████████████████████▍ | 37/38 [01:38<00:02,  2.72s/it]\u001b[A\n",
            "Running Epoch 0 of 1: 100%|████████████████████████████████████████████████████████████| 38/38 [01:40<00:00,  2.65s/it]\n",
            "Epoch 1 of 1: 100%|█████████████████████████████████████████████████████████████████████| 1/1 [01:40<00:00, 100.72s/it]\n",
            "C:\\Users\\Domenico\\.conda\\envs\\tf\\lib\\site-packages\\simpletransformers\\classification\\classification_model.py:1454: UserWarning: Dataframe headers not specified. Falling back to using column 0 as text and column 1 as labels.\n",
            "  warnings.warn(\n"
          ]
        },
        {
          "output_type": "stream",
          "name": "stdout",
          "text": [
            "\n",
            "NOW EVALUATE THE TEST DF.\n"
          ]
        },
        {
          "output_type": "stream",
          "name": "stderr",
          "text": [
            "  0%|▍                                                                                 | 1/200 [00:07<24:56,  7.52s/it]\n",
            "Running Evaluation: 100%|██████████████████████████████████████████████████████████████| 25/25 [00:16<00:00,  1.53it/s]\n",
            "C:\\Users\\Domenico\\.conda\\envs\\tf\\lib\\site-packages\\simpletransformers\\classification\\classification_model.py:612: UserWarning: Dataframe headers not specified. Falling back to using column 0 as text and column 1 as labels.\n",
            "  warnings.warn(\n"
          ]
        },
        {
          "output_type": "stream",
          "name": "stdout",
          "text": [
            "{'mcc': 0.3521095340673467, 'tp': 80, 'tn': 54, 'fp': 46, 'fn': 20, 'auroc': 0.7189, 'auprc': 0.6921510522480455, 'eval_loss': 1.2860818785429}\n",
            "Correct predictions are:  134\n",
            "Total predictions are:  200\n",
            "Accuracy on test set is: 0.67 \n",
            "\n",
            "\n",
            "\n",
            "EPOCH NUMBER:  6\n",
            "\n",
            "NOW TRAIN THE MODEL.\n"
          ]
        },
        {
          "output_type": "stream",
          "name": "stderr",
          "text": [
            "  0%|▎                                                                                 | 1/300 [00:08<43:43,  8.78s/it]\n",
            "Epoch 1 of 1:   0%|                                                                              | 0/1 [00:00<?, ?it/s]\n",
            "Running Epoch 0 of 1:   0%|                                                                     | 0/38 [00:00<?, ?it/s]\u001b[A\n",
            "Running Epoch 0 of 1:   3%|█▌                                                           | 1/38 [00:02<01:40,  2.71s/it]\u001b[A\n",
            "Running Epoch 0 of 1:   5%|███▏                                                         | 2/38 [00:05<01:37,  2.71s/it]\u001b[A\n",
            "Running Epoch 0 of 1:   8%|████▊                                                        | 3/38 [00:08<01:33,  2.67s/it]\u001b[A\n",
            "Running Epoch 0 of 1:  11%|██████▍                                                      | 4/38 [00:10<01:31,  2.68s/it]\u001b[A\n",
            "Running Epoch 0 of 1:  13%|████████                                                     | 5/38 [00:13<01:28,  2.67s/it]\u001b[A\n",
            "Running Epoch 0 of 1:  16%|█████████▋                                                   | 6/38 [00:16<01:24,  2.65s/it]\u001b[A\n",
            "Running Epoch 0 of 1:  18%|███████████▏                                                 | 7/38 [00:18<01:22,  2.67s/it]\u001b[A\n",
            "Running Epoch 0 of 1:  21%|████████████▊                                                | 8/38 [00:21<01:19,  2.66s/it]\u001b[A\n",
            "Running Epoch 0 of 1:  24%|██████████████▍                                              | 9/38 [00:24<01:17,  2.66s/it]\u001b[A\n",
            "Running Epoch 0 of 1:  26%|███████████████▊                                            | 10/38 [00:26<01:15,  2.70s/it]\u001b[A\n",
            "Running Epoch 0 of 1:  29%|█████████████████▎                                          | 11/38 [00:29<01:12,  2.69s/it]\u001b[A\n",
            "Running Epoch 0 of 1:  32%|██████████████████▉                                         | 12/38 [00:32<01:10,  2.70s/it]\u001b[A\n",
            "Running Epoch 0 of 1:  34%|████████████████████▌                                       | 13/38 [00:34<01:07,  2.68s/it]\u001b[A\n",
            "Running Epoch 0 of 1:  37%|██████████████████████                                      | 14/38 [00:37<01:04,  2.69s/it]\u001b[A\n",
            "Running Epoch 0 of 1:  39%|███████████████████████▋                                    | 15/38 [00:40<01:01,  2.69s/it]\u001b[A\n",
            "Running Epoch 0 of 1:  42%|█████████████████████████▎                                  | 16/38 [00:42<00:59,  2.70s/it]\u001b[A\n",
            "Running Epoch 0 of 1:  45%|██████████████████████████▊                                 | 17/38 [00:45<00:56,  2.69s/it]\u001b[A\n",
            "Running Epoch 0 of 1:  47%|████████████████████████████▍                               | 18/38 [00:48<00:53,  2.70s/it]\u001b[A\n",
            "Running Epoch 0 of 1:  50%|██████████████████████████████                              | 19/38 [00:51<00:51,  2.70s/it]\u001b[A\n",
            "Running Epoch 0 of 1:  53%|███████████████████████████████▌                            | 20/38 [00:53<00:48,  2.70s/it]\u001b[A\n",
            "Running Epoch 0 of 1:  55%|█████████████████████████████████▏                          | 21/38 [00:56<00:45,  2.71s/it]\u001b[A\n",
            "Running Epoch 0 of 1:  58%|██████████████████████████████████▋                         | 22/38 [00:59<00:43,  2.69s/it]\u001b[A\n",
            "Running Epoch 0 of 1:  61%|████████████████████████████████████▎                       | 23/38 [01:01<00:39,  2.67s/it]\u001b[A\n",
            "Running Epoch 0 of 1:  63%|█████████████████████████████████████▉                      | 24/38 [01:04<00:37,  2.67s/it]\u001b[A\n",
            "Running Epoch 0 of 1:  66%|███████████████████████████████████████▍                    | 25/38 [01:07<00:34,  2.68s/it]\u001b[A\n",
            "Running Epoch 0 of 1:  68%|█████████████████████████████████████████                   | 26/38 [01:09<00:32,  2.68s/it]\u001b[A\n",
            "Running Epoch 0 of 1:  71%|██████████████████████████████████████████▋                 | 27/38 [01:12<00:29,  2.67s/it]\u001b[A\n",
            "Running Epoch 0 of 1:  74%|████████████████████████████████████████████▏               | 28/38 [01:15<00:26,  2.66s/it]\u001b[A\n",
            "Running Epoch 0 of 1:  76%|█████████████████████████████████████████████▊              | 29/38 [01:17<00:23,  2.67s/it]\u001b[A\n",
            "Running Epoch 0 of 1:  79%|███████████████████████████████████████████████▎            | 30/38 [01:20<00:21,  2.68s/it]\u001b[A\n",
            "Running Epoch 0 of 1:  82%|████████████████████████████████████████████████▉           | 31/38 [01:23<00:18,  2.68s/it]\u001b[A\n",
            "Running Epoch 0 of 1:  84%|██████████████████████████████████████████████████▌         | 32/38 [01:25<00:16,  2.68s/it]\u001b[A\n",
            "Running Epoch 0 of 1:  87%|████████████████████████████████████████████████████        | 33/38 [01:28<00:13,  2.69s/it]\u001b[A\n",
            "Running Epoch 0 of 1:  89%|█████████████████████████████████████████████████████▋      | 34/38 [01:31<00:10,  2.69s/it]\u001b[A\n",
            "Running Epoch 0 of 1:  92%|███████████████████████████████████████████████████████▎    | 35/38 [01:33<00:08,  2.68s/it]\u001b[A\n",
            "Running Epoch 0 of 1:  95%|████████████████████████████████████████████████████████▊   | 36/38 [01:36<00:05,  2.70s/it]\u001b[A\n",
            "Running Epoch 0 of 1:  97%|██████████████████████████████████████████████████████████▍ | 37/38 [01:39<00:02,  2.69s/it]\u001b[A\n",
            "Running Epoch 0 of 1: 100%|████████████████████████████████████████████████████████████| 38/38 [01:41<00:00,  2.66s/it]\n",
            "Epoch 1 of 1: 100%|█████████████████████████████████████████████████████████████████████| 1/1 [01:41<00:00, 101.09s/it]\n",
            "C:\\Users\\Domenico\\.conda\\envs\\tf\\lib\\site-packages\\simpletransformers\\classification\\classification_model.py:1454: UserWarning: Dataframe headers not specified. Falling back to using column 0 as text and column 1 as labels.\n",
            "  warnings.warn(\n"
          ]
        },
        {
          "output_type": "stream",
          "name": "stdout",
          "text": [
            "\n",
            "NOW EVALUATE THE TEST DF.\n"
          ]
        },
        {
          "output_type": "stream",
          "name": "stderr",
          "text": [
            "  0%|▍                                                                                 | 1/200 [00:07<24:43,  7.46s/it]\n",
            "Running Evaluation: 100%|██████████████████████████████████████████████████████████████| 25/25 [00:16<00:00,  1.53it/s]\n",
            "C:\\Users\\Domenico\\.conda\\envs\\tf\\lib\\site-packages\\simpletransformers\\classification\\classification_model.py:612: UserWarning: Dataframe headers not specified. Falling back to using column 0 as text and column 1 as labels.\n",
            "  warnings.warn(\n"
          ]
        },
        {
          "output_type": "stream",
          "name": "stdout",
          "text": [
            "{'mcc': 0.3508606642357747, 'tp': 64, 'tn': 71, 'fp': 29, 'fn': 36, 'auroc': 0.7066, 'auprc': 0.6670265925953816, 'eval_loss': 0.7261461043357849}\n",
            "Correct predictions are:  135\n",
            "Total predictions are:  200\n",
            "Accuracy on test set is: 0.675 \n",
            "\n",
            "\n",
            "\n",
            "EPOCH NUMBER:  7\n",
            "\n",
            "NOW TRAIN THE MODEL.\n"
          ]
        },
        {
          "output_type": "stream",
          "name": "stderr",
          "text": [
            "  0%|▎                                                                                 | 1/300 [00:08<43:46,  8.78s/it]\n",
            "Epoch 1 of 1:   0%|                                                                              | 0/1 [00:00<?, ?it/s]\n",
            "Running Epoch 0 of 1:   0%|                                                                     | 0/38 [00:00<?, ?it/s]\u001b[A\n",
            "Running Epoch 0 of 1:   3%|█▌                                                           | 1/38 [00:02<01:35,  2.59s/it]\u001b[A\n",
            "Running Epoch 0 of 1:   5%|███▏                                                         | 2/38 [00:05<01:36,  2.67s/it]\u001b[A\n",
            "Running Epoch 0 of 1:   8%|████▊                                                        | 3/38 [00:07<01:32,  2.64s/it]\u001b[A\n",
            "Running Epoch 0 of 1:  11%|██████▍                                                      | 4/38 [00:10<01:31,  2.68s/it]\u001b[A\n",
            "Running Epoch 0 of 1:  13%|████████                                                     | 5/38 [00:13<01:29,  2.70s/it]\u001b[A\n",
            "Running Epoch 0 of 1:  16%|█████████▋                                                   | 6/38 [00:16<01:26,  2.70s/it]\u001b[A\n",
            "Running Epoch 0 of 1:  18%|███████████▏                                                 | 7/38 [00:18<01:23,  2.70s/it]\u001b[A\n",
            "Running Epoch 0 of 1:  21%|████████████▊                                                | 8/38 [00:21<01:20,  2.69s/it]\u001b[A\n",
            "Running Epoch 0 of 1:  24%|██████████████▍                                              | 9/38 [00:24<01:18,  2.69s/it]\u001b[A\n",
            "Running Epoch 0 of 1:  26%|███████████████▊                                            | 10/38 [00:26<01:15,  2.69s/it]\u001b[A\n",
            "Running Epoch 0 of 1:  29%|█████████████████▎                                          | 11/38 [00:29<01:12,  2.69s/it]\u001b[A\n",
            "Running Epoch 0 of 1:  32%|██████████████████▉                                         | 12/38 [00:32<01:09,  2.69s/it]\u001b[A\n",
            "Running Epoch 0 of 1:  34%|████████████████████▌                                       | 13/38 [00:34<01:07,  2.69s/it]\u001b[A\n",
            "Running Epoch 0 of 1:  37%|██████████████████████                                      | 14/38 [00:37<01:04,  2.70s/it]\u001b[A\n",
            "Running Epoch 0 of 1:  39%|███████████████████████▋                                    | 15/38 [00:40<01:01,  2.69s/it]\u001b[A\n",
            "Running Epoch 0 of 1:  42%|█████████████████████████▎                                  | 16/38 [00:43<00:59,  2.71s/it]\u001b[A\n",
            "Running Epoch 0 of 1:  45%|██████████████████████████▊                                 | 17/38 [00:45<00:56,  2.69s/it]\u001b[A\n",
            "Running Epoch 0 of 1:  47%|████████████████████████████▍                               | 18/38 [00:48<00:54,  2.71s/it]\u001b[A\n",
            "Running Epoch 0 of 1:  50%|██████████████████████████████                              | 19/38 [00:51<00:51,  2.72s/it]\u001b[A\n",
            "Running Epoch 0 of 1:  53%|███████████████████████████████▌                            | 20/38 [00:53<00:48,  2.70s/it]\u001b[A\n",
            "Running Epoch 0 of 1:  55%|█████████████████████████████████▏                          | 21/38 [00:56<00:45,  2.70s/it]\u001b[A\n",
            "Running Epoch 0 of 1:  58%|██████████████████████████████████▋                         | 22/38 [00:59<00:43,  2.69s/it]\u001b[A\n",
            "Running Epoch 0 of 1:  61%|████████████████████████████████████▎                       | 23/38 [01:01<00:40,  2.70s/it]\u001b[A\n",
            "Running Epoch 0 of 1:  63%|█████████████████████████████████████▉                      | 24/38 [01:04<00:37,  2.70s/it]\u001b[A\n",
            "Running Epoch 0 of 1:  66%|███████████████████████████████████████▍                    | 25/38 [01:07<00:35,  2.70s/it]\u001b[A\n",
            "Running Epoch 0 of 1:  68%|█████████████████████████████████████████                   | 26/38 [01:10<00:32,  2.69s/it]\u001b[A\n",
            "Running Epoch 0 of 1:  71%|██████████████████████████████████████████▋                 | 27/38 [01:12<00:29,  2.68s/it]\u001b[A\n",
            "Running Epoch 0 of 1:  74%|████████████████████████████████████████████▏               | 28/38 [01:15<00:26,  2.67s/it]\u001b[A\n",
            "Running Epoch 0 of 1:  76%|█████████████████████████████████████████████▊              | 29/38 [01:17<00:23,  2.65s/it]\u001b[A\n",
            "Running Epoch 0 of 1:  79%|███████████████████████████████████████████████▎            | 30/38 [01:20<00:21,  2.65s/it]\u001b[A\n",
            "Running Epoch 0 of 1:  82%|████████████████████████████████████████████████▉           | 31/38 [01:23<00:18,  2.64s/it]\u001b[A\n",
            "Running Epoch 0 of 1:  84%|██████████████████████████████████████████████████▌         | 32/38 [01:25<00:15,  2.64s/it]\u001b[A\n",
            "Running Epoch 0 of 1:  87%|████████████████████████████████████████████████████        | 33/38 [01:28<00:13,  2.65s/it]\u001b[A\n",
            "Running Epoch 0 of 1:  89%|█████████████████████████████████████████████████████▋      | 34/38 [01:31<00:10,  2.67s/it]\u001b[A\n",
            "Running Epoch 0 of 1:  92%|███████████████████████████████████████████████████████▎    | 35/38 [01:33<00:07,  2.66s/it]\u001b[A\n",
            "Running Epoch 0 of 1:  95%|████████████████████████████████████████████████████████▊   | 36/38 [01:36<00:05,  2.67s/it]\u001b[A\n",
            "Running Epoch 0 of 1:  97%|██████████████████████████████████████████████████████████▍ | 37/38 [01:39<00:02,  2.67s/it]\u001b[A\n",
            "Running Epoch 0 of 1: 100%|████████████████████████████████████████████████████████████| 38/38 [01:40<00:00,  2.66s/it]\n",
            "Epoch 1 of 1: 100%|█████████████████████████████████████████████████████████████████████| 1/1 [01:40<00:00, 100.99s/it]\n",
            "C:\\Users\\Domenico\\.conda\\envs\\tf\\lib\\site-packages\\simpletransformers\\classification\\classification_model.py:1454: UserWarning: Dataframe headers not specified. Falling back to using column 0 as text and column 1 as labels.\n",
            "  warnings.warn(\n"
          ]
        },
        {
          "output_type": "stream",
          "name": "stdout",
          "text": [
            "\n",
            "NOW EVALUATE THE TEST DF.\n"
          ]
        },
        {
          "output_type": "stream",
          "name": "stderr",
          "text": [
            "  0%|▍                                                                                 | 1/200 [00:07<24:53,  7.50s/it]\n",
            "Running Evaluation: 100%|██████████████████████████████████████████████████████████████| 25/25 [00:16<00:00,  1.55it/s]\n",
            "C:\\Users\\Domenico\\.conda\\envs\\tf\\lib\\site-packages\\simpletransformers\\classification\\classification_model.py:612: UserWarning: Dataframe headers not specified. Falling back to using column 0 as text and column 1 as labels.\n",
            "  warnings.warn(\n"
          ]
        },
        {
          "output_type": "stream",
          "name": "stdout",
          "text": [
            "{'mcc': 0.3444373818510708, 'tp': 59, 'tn': 75, 'fp': 25, 'fn': 41, 'auroc': 0.6971, 'auprc': 0.6844132786636021, 'eval_loss': 1.4356009340286255}\n",
            "Correct predictions are:  134\n",
            "Total predictions are:  200\n",
            "Accuracy on test set is: 0.67 \n",
            "\n",
            "\n",
            "\n",
            "EPOCH NUMBER:  8\n",
            "\n",
            "NOW TRAIN THE MODEL.\n"
          ]
        },
        {
          "output_type": "stream",
          "name": "stderr",
          "text": [
            "  0%|▎                                                                                 | 1/300 [00:08<43:32,  8.74s/it]\n",
            "Epoch 1 of 1:   0%|                                                                              | 0/1 [00:00<?, ?it/s]\n",
            "Running Epoch 0 of 1:   0%|                                                                     | 0/38 [00:00<?, ?it/s]\u001b[A\n",
            "Running Epoch 0 of 1:   3%|█▌                                                           | 1/38 [00:02<01:35,  2.59s/it]\u001b[A\n",
            "Running Epoch 0 of 1:   5%|███▏                                                         | 2/38 [00:05<01:34,  2.63s/it]\u001b[A\n",
            "Running Epoch 0 of 1:   8%|████▊                                                        | 3/38 [00:07<01:33,  2.67s/it]\u001b[A\n",
            "Running Epoch 0 of 1:  11%|██████▍                                                      | 4/38 [00:10<01:30,  2.67s/it]\u001b[A\n",
            "Running Epoch 0 of 1:  13%|████████                                                     | 5/38 [00:13<01:28,  2.69s/it]\u001b[A\n",
            "Running Epoch 0 of 1:  16%|█████████▋                                                   | 6/38 [00:16<01:25,  2.68s/it]\u001b[A\n",
            "Running Epoch 0 of 1:  18%|███████████▏                                                 | 7/38 [00:18<01:22,  2.67s/it]\u001b[A\n",
            "Running Epoch 0 of 1:  21%|████████████▊                                                | 8/38 [00:21<01:20,  2.68s/it]\u001b[A\n",
            "Running Epoch 0 of 1:  24%|██████████████▍                                              | 9/38 [00:24<01:18,  2.70s/it]\u001b[A\n",
            "Running Epoch 0 of 1:  26%|███████████████▊                                            | 10/38 [00:26<01:15,  2.69s/it]\u001b[A\n",
            "Running Epoch 0 of 1:  29%|█████████████████▎                                          | 11/38 [00:29<01:12,  2.68s/it]\u001b[A\n",
            "Running Epoch 0 of 1:  32%|██████████████████▉                                         | 12/38 [00:32<01:11,  2.76s/it]\u001b[A\n",
            "Running Epoch 0 of 1:  34%|████████████████████▌                                       | 13/38 [00:35<01:09,  2.78s/it]\u001b[A\n",
            "Running Epoch 0 of 1:  37%|██████████████████████                                      | 14/38 [00:38<01:06,  2.78s/it]\u001b[A\n",
            "Running Epoch 0 of 1:  39%|███████████████████████▋                                    | 15/38 [00:40<01:03,  2.77s/it]\u001b[A\n",
            "Running Epoch 0 of 1:  42%|█████████████████████████▎                                  | 16/38 [00:43<01:00,  2.77s/it]\u001b[A\n",
            "Running Epoch 0 of 1:  45%|██████████████████████████▊                                 | 17/38 [00:46<00:57,  2.75s/it]\u001b[A\n",
            "Running Epoch 0 of 1:  47%|████████████████████████████▍                               | 18/38 [00:48<00:54,  2.74s/it]\u001b[A\n",
            "Running Epoch 0 of 1:  50%|██████████████████████████████                              | 19/38 [00:51<00:51,  2.71s/it]\u001b[A\n",
            "Running Epoch 0 of 1:  53%|███████████████████████████████▌                            | 20/38 [00:54<00:48,  2.70s/it]\u001b[A\n",
            "Running Epoch 0 of 1:  55%|█████████████████████████████████▏                          | 21/38 [00:56<00:45,  2.70s/it]\u001b[A\n",
            "Running Epoch 0 of 1:  58%|██████████████████████████████████▋                         | 22/38 [00:59<00:43,  2.69s/it]\u001b[A\n",
            "Running Epoch 0 of 1:  61%|████████████████████████████████████▎                       | 23/38 [01:02<00:40,  2.68s/it]\u001b[A\n",
            "Running Epoch 0 of 1:  63%|█████████████████████████████████████▉                      | 24/38 [01:04<00:37,  2.69s/it]\u001b[A\n",
            "Running Epoch 0 of 1:  66%|███████████████████████████████████████▍                    | 25/38 [01:07<00:34,  2.68s/it]\u001b[A\n",
            "Running Epoch 0 of 1:  68%|█████████████████████████████████████████                   | 26/38 [01:10<00:32,  2.68s/it]\u001b[A\n",
            "Running Epoch 0 of 1:  71%|██████████████████████████████████████████▋                 | 27/38 [01:12<00:29,  2.66s/it]\u001b[A\n",
            "Running Epoch 0 of 1:  74%|████████████████████████████████████████████▏               | 28/38 [01:15<00:26,  2.67s/it]\u001b[A\n",
            "Running Epoch 0 of 1:  76%|█████████████████████████████████████████████▊              | 29/38 [01:18<00:24,  2.70s/it]\u001b[A\n",
            "Running Epoch 0 of 1:  79%|███████████████████████████████████████████████▎            | 30/38 [01:21<00:21,  2.69s/it]\u001b[A\n",
            "Running Epoch 0 of 1:  82%|████████████████████████████████████████████████▉           | 31/38 [01:23<00:18,  2.70s/it]\u001b[A\n",
            "Running Epoch 0 of 1:  84%|██████████████████████████████████████████████████▌         | 32/38 [01:26<00:16,  2.71s/it]\u001b[A\n",
            "Running Epoch 0 of 1:  87%|████████████████████████████████████████████████████        | 33/38 [01:29<00:13,  2.72s/it]\u001b[A\n",
            "Running Epoch 0 of 1:  89%|█████████████████████████████████████████████████████▋      | 34/38 [01:31<00:10,  2.72s/it]\u001b[A\n",
            "Running Epoch 0 of 1:  92%|███████████████████████████████████████████████████████▎    | 35/38 [01:34<00:08,  2.72s/it]\u001b[A\n",
            "Running Epoch 0 of 1:  95%|████████████████████████████████████████████████████████▊   | 36/38 [01:37<00:05,  2.71s/it]\u001b[A\n",
            "Running Epoch 0 of 1:  97%|██████████████████████████████████████████████████████████▍ | 37/38 [01:40<00:02,  2.71s/it]\u001b[A\n",
            "Running Epoch 0 of 1: 100%|████████████████████████████████████████████████████████████| 38/38 [01:41<00:00,  2.68s/it]\n",
            "Epoch 1 of 1: 100%|█████████████████████████████████████████████████████████████████████| 1/1 [01:41<00:00, 101.85s/it]\n",
            "C:\\Users\\Domenico\\.conda\\envs\\tf\\lib\\site-packages\\simpletransformers\\classification\\classification_model.py:1454: UserWarning: Dataframe headers not specified. Falling back to using column 0 as text and column 1 as labels.\n",
            "  warnings.warn(\n"
          ]
        },
        {
          "output_type": "stream",
          "name": "stdout",
          "text": [
            "\n",
            "NOW EVALUATE THE TEST DF.\n"
          ]
        },
        {
          "output_type": "stream",
          "name": "stderr",
          "text": [
            "  0%|▍                                                                                 | 1/200 [00:07<24:44,  7.46s/it]\n",
            "Running Evaluation: 100%|██████████████████████████████████████████████████████████████| 25/25 [00:16<00:00,  1.52it/s]\n",
            "C:\\Users\\Domenico\\.conda\\envs\\tf\\lib\\site-packages\\simpletransformers\\classification\\classification_model.py:612: UserWarning: Dataframe headers not specified. Falling back to using column 0 as text and column 1 as labels.\n",
            "  warnings.warn(\n"
          ]
        },
        {
          "output_type": "stream",
          "name": "stdout",
          "text": [
            "{'mcc': 0.3320148028852824, 'tp': 72, 'tn': 61, 'fp': 39, 'fn': 28, 'auroc': 0.7008, 'auprc': 0.6732921317367797, 'eval_loss': 1.5302454781532289}\n",
            "Correct predictions are:  133\n",
            "Total predictions are:  200\n",
            "Accuracy on test set is: 0.665 \n",
            "\n",
            "\n",
            "\n",
            "EPOCH NUMBER:  9\n",
            "\n",
            "NOW TRAIN THE MODEL.\n"
          ]
        },
        {
          "output_type": "stream",
          "name": "stderr",
          "text": [
            "  0%|▎                                                                                 | 1/300 [00:08<43:22,  8.70s/it]\n",
            "Epoch 1 of 1:   0%|                                                                              | 0/1 [00:00<?, ?it/s]\n",
            "Running Epoch 0 of 1:   0%|                                                                     | 0/38 [00:00<?, ?it/s]\u001b[A\n",
            "Running Epoch 0 of 1:   3%|█▌                                                           | 1/38 [00:02<01:38,  2.66s/it]\u001b[A\n",
            "Running Epoch 0 of 1:   5%|███▏                                                         | 2/38 [00:05<01:35,  2.64s/it]\u001b[A\n",
            "Running Epoch 0 of 1:   8%|████▊                                                        | 3/38 [00:07<01:33,  2.67s/it]\u001b[A\n",
            "Running Epoch 0 of 1:  11%|██████▍                                                      | 4/38 [00:10<01:31,  2.69s/it]\u001b[A\n",
            "Running Epoch 0 of 1:  13%|████████                                                     | 5/38 [00:13<01:28,  2.68s/it]\u001b[A\n",
            "Running Epoch 0 of 1:  16%|█████████▋                                                   | 6/38 [00:16<01:25,  2.67s/it]\u001b[A\n",
            "Running Epoch 0 of 1:  18%|███████████▏                                                 | 7/38 [00:18<01:23,  2.68s/it]\u001b[A\n",
            "Running Epoch 0 of 1:  21%|████████████▊                                                | 8/38 [00:21<01:19,  2.67s/it]\u001b[A\n",
            "Running Epoch 0 of 1:  24%|██████████████▍                                              | 9/38 [00:24<01:17,  2.67s/it]\u001b[A\n",
            "Running Epoch 0 of 1:  26%|███████████████▊                                            | 10/38 [00:26<01:15,  2.69s/it]\u001b[A\n",
            "Running Epoch 0 of 1:  29%|█████████████████▎                                          | 11/38 [00:29<01:11,  2.66s/it]\u001b[A\n",
            "Running Epoch 0 of 1:  32%|██████████████████▉                                         | 12/38 [00:32<01:09,  2.66s/it]\u001b[A\n",
            "Running Epoch 0 of 1:  34%|████████████████████▌                                       | 13/38 [00:34<01:06,  2.67s/it]\u001b[A\n",
            "Running Epoch 0 of 1:  37%|██████████████████████                                      | 14/38 [00:37<01:03,  2.65s/it]\u001b[A\n",
            "Running Epoch 0 of 1:  39%|███████████████████████▋                                    | 15/38 [00:39<01:00,  2.65s/it]\u001b[A\n",
            "Running Epoch 0 of 1:  42%|█████████████████████████▎                                  | 16/38 [00:42<00:58,  2.65s/it]\u001b[A\n",
            "Running Epoch 0 of 1:  45%|██████████████████████████▊                                 | 17/38 [00:45<00:55,  2.65s/it]\u001b[A\n",
            "Running Epoch 0 of 1:  47%|████████████████████████████▍                               | 18/38 [00:48<00:53,  2.67s/it]\u001b[A\n",
            "Running Epoch 0 of 1:  50%|██████████████████████████████                              | 19/38 [00:50<00:51,  2.70s/it]\u001b[A\n",
            "Running Epoch 0 of 1:  53%|███████████████████████████████▌                            | 20/38 [00:53<00:48,  2.67s/it]\u001b[A\n",
            "Running Epoch 0 of 1:  55%|█████████████████████████████████▏                          | 21/38 [00:56<00:45,  2.67s/it]\u001b[A\n",
            "Running Epoch 0 of 1:  58%|██████████████████████████████████▋                         | 22/38 [00:58<00:42,  2.66s/it]\u001b[A\n",
            "Running Epoch 0 of 1:  61%|████████████████████████████████████▎                       | 23/38 [01:01<00:40,  2.68s/it]\u001b[A\n",
            "Running Epoch 0 of 1:  63%|█████████████████████████████████████▉                      | 24/38 [01:04<00:37,  2.69s/it]\u001b[A\n",
            "Running Epoch 0 of 1:  66%|███████████████████████████████████████▍                    | 25/38 [01:06<00:35,  2.69s/it]\u001b[A\n",
            "Running Epoch 0 of 1:  68%|█████████████████████████████████████████                   | 26/38 [01:09<00:32,  2.70s/it]\u001b[A\n",
            "Running Epoch 0 of 1:  71%|██████████████████████████████████████████▋                 | 27/38 [01:12<00:29,  2.67s/it]\u001b[A\n",
            "Running Epoch 0 of 1:  74%|████████████████████████████████████████████▏               | 28/38 [01:14<00:26,  2.67s/it]\u001b[A\n",
            "Running Epoch 0 of 1:  76%|█████████████████████████████████████████████▊              | 29/38 [01:17<00:24,  2.68s/it]\u001b[A\n",
            "Running Epoch 0 of 1:  79%|███████████████████████████████████████████████▎            | 30/38 [01:20<00:21,  2.68s/it]\u001b[A\n",
            "Running Epoch 0 of 1:  82%|████████████████████████████████████████████████▉           | 31/38 [01:22<00:18,  2.69s/it]\u001b[A\n",
            "Running Epoch 0 of 1:  84%|██████████████████████████████████████████████████▌         | 32/38 [01:25<00:16,  2.70s/it]\u001b[A\n",
            "Running Epoch 0 of 1:  87%|████████████████████████████████████████████████████        | 33/38 [01:28<00:13,  2.70s/it]\u001b[A\n",
            "Running Epoch 0 of 1:  89%|█████████████████████████████████████████████████████▋      | 34/38 [01:31<00:10,  2.70s/it]\u001b[A\n",
            "Running Epoch 0 of 1:  92%|███████████████████████████████████████████████████████▎    | 35/38 [01:33<00:08,  2.70s/it]\u001b[A\n",
            "Running Epoch 0 of 1:  95%|████████████████████████████████████████████████████████▊   | 36/38 [01:36<00:05,  2.70s/it]\u001b[A\n",
            "Running Epoch 0 of 1:  97%|██████████████████████████████████████████████████████████▍ | 37/38 [01:39<00:02,  2.71s/it]\u001b[A\n",
            "Running Epoch 0 of 1: 100%|████████████████████████████████████████████████████████████| 38/38 [01:40<00:00,  2.66s/it]\n",
            "Epoch 1 of 1: 100%|█████████████████████████████████████████████████████████████████████| 1/1 [01:40<00:00, 100.95s/it]\n",
            "C:\\Users\\Domenico\\.conda\\envs\\tf\\lib\\site-packages\\simpletransformers\\classification\\classification_model.py:1454: UserWarning: Dataframe headers not specified. Falling back to using column 0 as text and column 1 as labels.\n",
            "  warnings.warn(\n"
          ]
        },
        {
          "output_type": "stream",
          "name": "stdout",
          "text": [
            "\n",
            "NOW EVALUATE THE TEST DF.\n"
          ]
        },
        {
          "output_type": "stream",
          "name": "stderr",
          "text": [
            "  0%|▍                                                                                 | 1/200 [00:07<25:00,  7.54s/it]\n",
            "Running Evaluation: 100%|██████████████████████████████████████████████████████████████| 25/25 [00:15<00:00,  1.56it/s]\n"
          ]
        },
        {
          "output_type": "stream",
          "name": "stdout",
          "text": [
            "{'mcc': 0.3241763593892431, 'tp': 58, 'tn': 74, 'fp': 26, 'fn': 42, 'auroc': 0.7019000000000001, 'auprc': 0.7048167369250186, 'eval_loss': 1.6800164863467217}\n",
            "Correct predictions are:  132\n",
            "Total predictions are:  200\n",
            "Accuracy on test set is: 0.66 \n",
            "\n",
            "\n",
            "[0.5, 0.515, 0.665, 0.675, 0.69, 0.67, 0.675, 0.67, 0.665, 0.66]\n"
          ]
        },
        {
          "output_type": "stream",
          "name": "stderr",
          "text": [
            "Some weights of the model checkpoint at roberta-base were not used when initializing RobertaForSequenceClassification: ['lm_head.dense.weight', 'roberta.pooler.dense.bias', 'lm_head.layer_norm.weight', 'roberta.pooler.dense.weight', 'lm_head.layer_norm.bias', 'lm_head.dense.bias', 'lm_head.decoder.weight', 'lm_head.bias']\n",
            "- This IS expected if you are initializing RobertaForSequenceClassification from the checkpoint of a model trained on another task or with another architecture (e.g. initializing a BertForSequenceClassification model from a BertForPreTraining model).\n",
            "- This IS NOT expected if you are initializing RobertaForSequenceClassification from the checkpoint of a model that you expect to be exactly identical (initializing a BertForSequenceClassification model from a BertForSequenceClassification model).\n",
            "Some weights of RobertaForSequenceClassification were not initialized from the model checkpoint at roberta-base and are newly initialized: ['classifier.out_proj.bias', 'classifier.dense.bias', 'classifier.out_proj.weight', 'classifier.dense.weight']\n",
            "You should probably TRAIN this model on a down-stream task to be able to use it for predictions and inference.\n",
            "C:\\Users\\Domenico\\.conda\\envs\\tf\\lib\\site-packages\\simpletransformers\\classification\\classification_model.py:612: UserWarning: Dataframe headers not specified. Falling back to using column 0 as text and column 1 as labels.\n",
            "  warnings.warn(\n"
          ]
        },
        {
          "output_type": "stream",
          "name": "stdout",
          "text": [
            "\n",
            "EPOCH NUMBER:  0\n",
            "\n",
            "NOW TRAIN THE MODEL.\n"
          ]
        },
        {
          "output_type": "stream",
          "name": "stderr",
          "text": [
            "  0%|▎                                                                                 | 1/300 [00:08<43:00,  8.63s/it]\n",
            "Epoch 1 of 1:   0%|                                                                              | 0/1 [00:00<?, ?it/s]\n",
            "Running Epoch 0 of 1:   0%|                                                                     | 0/38 [00:00<?, ?it/s]\u001b[A\n",
            "Running Epoch 0 of 1:   3%|█▌                                                           | 1/38 [00:02<01:32,  2.50s/it]\u001b[A\n",
            "Running Epoch 0 of 1:   5%|███▏                                                         | 2/38 [00:05<01:31,  2.55s/it]\u001b[A\n",
            "Running Epoch 0 of 1:   8%|████▊                                                        | 3/38 [00:07<01:30,  2.59s/it]\u001b[A\n",
            "Running Epoch 0 of 1:  11%|██████▍                                                      | 4/38 [00:10<01:29,  2.62s/it]\u001b[A\n",
            "Running Epoch 0 of 1:  13%|████████                                                     | 5/38 [00:13<01:26,  2.63s/it]\u001b[A\n",
            "Running Epoch 0 of 1:  16%|█████████▋                                                   | 6/38 [00:15<01:24,  2.65s/it]\u001b[A\n",
            "Running Epoch 0 of 1:  18%|███████████▏                                                 | 7/38 [00:18<01:21,  2.64s/it]\u001b[A\n",
            "Running Epoch 0 of 1:  21%|████████████▊                                                | 8/38 [00:20<01:19,  2.64s/it]\u001b[A\n",
            "Running Epoch 0 of 1:  24%|██████████████▍                                              | 9/38 [00:23<01:17,  2.66s/it]\u001b[A\n",
            "Running Epoch 0 of 1:  26%|███████████████▊                                            | 10/38 [00:26<01:14,  2.67s/it]\u001b[A\n",
            "Running Epoch 0 of 1:  29%|█████████████████▎                                          | 11/38 [00:29<01:11,  2.66s/it]\u001b[A\n",
            "Running Epoch 0 of 1:  32%|██████████████████▉                                         | 12/38 [00:31<01:09,  2.66s/it]\u001b[A\n",
            "Running Epoch 0 of 1:  34%|████████████████████▌                                       | 13/38 [00:34<01:06,  2.66s/it]\u001b[A\n",
            "Running Epoch 0 of 1:  37%|██████████████████████                                      | 14/38 [00:37<01:03,  2.66s/it]\u001b[A\n",
            "Running Epoch 0 of 1:  39%|███████████████████████▋                                    | 15/38 [00:39<01:01,  2.66s/it]\u001b[A\n",
            "Running Epoch 0 of 1:  42%|█████████████████████████▎                                  | 16/38 [00:42<00:58,  2.65s/it]\u001b[A\n",
            "Running Epoch 0 of 1:  45%|██████████████████████████▊                                 | 17/38 [00:44<00:55,  2.65s/it]\u001b[A\n",
            "Running Epoch 0 of 1:  47%|████████████████████████████▍                               | 18/38 [00:47<00:53,  2.66s/it]\u001b[A\n",
            "Running Epoch 0 of 1:  50%|██████████████████████████████                              | 19/38 [00:50<00:50,  2.64s/it]\u001b[A\n",
            "Running Epoch 0 of 1:  53%|███████████████████████████████▌                            | 20/38 [00:52<00:47,  2.65s/it]\u001b[A\n",
            "Running Epoch 0 of 1:  55%|█████████████████████████████████▏                          | 21/38 [00:55<00:45,  2.65s/it]\u001b[A\n",
            "Running Epoch 0 of 1:  58%|██████████████████████████████████▋                         | 22/38 [00:58<00:42,  2.65s/it]\u001b[A\n",
            "Running Epoch 0 of 1:  61%|████████████████████████████████████▎                       | 23/38 [01:00<00:39,  2.65s/it]\u001b[A\n",
            "Running Epoch 0 of 1:  63%|█████████████████████████████████████▉                      | 24/38 [01:03<00:36,  2.64s/it]\u001b[A\n",
            "Running Epoch 0 of 1:  66%|███████████████████████████████████████▍                    | 25/38 [01:06<00:34,  2.64s/it]\u001b[A\n",
            "Running Epoch 0 of 1:  68%|█████████████████████████████████████████                   | 26/38 [01:08<00:31,  2.65s/it]\u001b[A\n",
            "Running Epoch 0 of 1:  71%|██████████████████████████████████████████▋                 | 27/38 [01:11<00:29,  2.65s/it]\u001b[A\n",
            "Running Epoch 0 of 1:  74%|████████████████████████████████████████████▏               | 28/38 [01:14<00:26,  2.65s/it]\u001b[A\n",
            "Running Epoch 0 of 1:  76%|█████████████████████████████████████████████▊              | 29/38 [01:16<00:23,  2.67s/it]\u001b[A\n",
            "Running Epoch 0 of 1:  79%|███████████████████████████████████████████████▎            | 30/38 [01:19<00:21,  2.66s/it]\u001b[A\n",
            "Running Epoch 0 of 1:  82%|████████████████████████████████████████████████▉           | 31/38 [01:22<00:18,  2.66s/it]\u001b[A\n",
            "Running Epoch 0 of 1:  84%|██████████████████████████████████████████████████▌         | 32/38 [01:24<00:15,  2.67s/it]\u001b[A\n",
            "Running Epoch 0 of 1:  87%|████████████████████████████████████████████████████        | 33/38 [01:27<00:13,  2.67s/it]\u001b[A\n",
            "Running Epoch 0 of 1:  89%|█████████████████████████████████████████████████████▋      | 34/38 [01:30<00:10,  2.65s/it]\u001b[A\n",
            "Running Epoch 0 of 1:  92%|███████████████████████████████████████████████████████▎    | 35/38 [01:32<00:07,  2.64s/it]\u001b[A\n",
            "Running Epoch 0 of 1:  95%|████████████████████████████████████████████████████████▊   | 36/38 [01:35<00:05,  2.64s/it]\u001b[A\n",
            "Running Epoch 0 of 1:  97%|██████████████████████████████████████████████████████████▍ | 37/38 [01:37<00:02,  2.65s/it]\u001b[A\n",
            "Running Epoch 0 of 1: 100%|████████████████████████████████████████████████████████████| 38/38 [01:39<00:00,  2.62s/it]\n",
            "Epoch 1 of 1: 100%|██████████████████████████████████████████████████████████████████████| 1/1 [01:39<00:00, 99.72s/it]\n",
            "C:\\Users\\Domenico\\.conda\\envs\\tf\\lib\\site-packages\\simpletransformers\\classification\\classification_model.py:1454: UserWarning: Dataframe headers not specified. Falling back to using column 0 as text and column 1 as labels.\n",
            "  warnings.warn(\n"
          ]
        },
        {
          "output_type": "stream",
          "name": "stdout",
          "text": [
            "\n",
            "NOW EVALUATE THE TEST DF.\n"
          ]
        },
        {
          "output_type": "stream",
          "name": "stderr",
          "text": [
            "  0%|▍                                                                                 | 1/200 [00:07<25:11,  7.60s/it]\n",
            "Running Evaluation: 100%|██████████████████████████████████████████████████████████████| 25/25 [00:16<00:00,  1.55it/s]\n",
            "C:\\Users\\Domenico\\.conda\\envs\\tf\\lib\\site-packages\\simpletransformers\\classification\\classification_model.py:612: UserWarning: Dataframe headers not specified. Falling back to using column 0 as text and column 1 as labels.\n",
            "  warnings.warn(\n"
          ]
        },
        {
          "output_type": "stream",
          "name": "stdout",
          "text": [
            "{'mcc': 0.20044593143431827, 'tp': 37, 'tn': 81, 'fp': 19, 'fn': 63, 'auroc': 0.6675, 'auprc': 0.6682410890910069, 'eval_loss': 0.6819031953811645}\n",
            "Correct predictions are:  118\n",
            "Total predictions are:  200\n",
            "Accuracy on test set is: 0.59 \n",
            "\n",
            "\n",
            "\n",
            "EPOCH NUMBER:  1\n",
            "\n",
            "NOW TRAIN THE MODEL.\n"
          ]
        },
        {
          "output_type": "stream",
          "name": "stderr",
          "text": [
            "  0%|▎                                                                                 | 1/300 [00:08<43:50,  8.80s/it]\n",
            "Epoch 1 of 1:   0%|                                                                              | 0/1 [00:00<?, ?it/s]\n",
            "Running Epoch 0 of 1:   0%|                                                                     | 0/38 [00:00<?, ?it/s]\u001b[A\n",
            "Running Epoch 0 of 1:   3%|█▌                                                           | 1/38 [00:02<01:33,  2.53s/it]\u001b[A\n",
            "Running Epoch 0 of 1:   5%|███▏                                                         | 2/38 [00:05<01:33,  2.59s/it]\u001b[A\n",
            "Running Epoch 0 of 1:   8%|████▊                                                        | 3/38 [00:07<01:31,  2.63s/it]\u001b[A\n",
            "Running Epoch 0 of 1:  11%|██████▍                                                      | 4/38 [00:10<01:29,  2.63s/it]\u001b[A\n",
            "Running Epoch 0 of 1:  13%|████████                                                     | 5/38 [00:13<01:28,  2.68s/it]\u001b[A\n",
            "Running Epoch 0 of 1:  16%|█████████▋                                                   | 6/38 [00:15<01:26,  2.69s/it]\u001b[A\n",
            "Running Epoch 0 of 1:  18%|███████████▏                                                 | 7/38 [00:18<01:23,  2.70s/it]\u001b[A\n",
            "Running Epoch 0 of 1:  21%|████████████▊                                                | 8/38 [00:21<01:20,  2.69s/it]\u001b[A\n",
            "Running Epoch 0 of 1:  24%|██████████████▍                                              | 9/38 [00:24<01:18,  2.69s/it]\u001b[A\n",
            "Running Epoch 0 of 1:  26%|███████████████▊                                            | 10/38 [00:26<01:14,  2.67s/it]\u001b[A\n",
            "Running Epoch 0 of 1:  29%|█████████████████▎                                          | 11/38 [00:29<01:12,  2.67s/it]\u001b[A\n",
            "Running Epoch 0 of 1:  32%|██████████████████▉                                         | 12/38 [00:32<01:09,  2.68s/it]\u001b[A\n",
            "Running Epoch 0 of 1:  34%|████████████████████▌                                       | 13/38 [00:34<01:06,  2.67s/it]\u001b[A\n",
            "Running Epoch 0 of 1:  37%|██████████████████████                                      | 14/38 [00:37<01:03,  2.66s/it]\u001b[A\n",
            "Running Epoch 0 of 1:  39%|███████████████████████▋                                    | 15/38 [00:39<01:01,  2.66s/it]\u001b[A\n",
            "Running Epoch 0 of 1:  42%|█████████████████████████▎                                  | 16/38 [00:42<00:58,  2.66s/it]\u001b[A\n",
            "Running Epoch 0 of 1:  45%|██████████████████████████▊                                 | 17/38 [00:45<00:55,  2.66s/it]\u001b[A\n",
            "Running Epoch 0 of 1:  47%|████████████████████████████▍                               | 18/38 [00:47<00:53,  2.67s/it]\u001b[A\n",
            "Running Epoch 0 of 1:  50%|██████████████████████████████                              | 19/38 [00:50<00:50,  2.67s/it]\u001b[A\n",
            "Running Epoch 0 of 1:  53%|███████████████████████████████▌                            | 20/38 [00:53<00:48,  2.70s/it]\u001b[A\n",
            "Running Epoch 0 of 1:  55%|█████████████████████████████████▏                          | 21/38 [00:56<00:45,  2.70s/it]\u001b[A\n",
            "Running Epoch 0 of 1:  58%|██████████████████████████████████▋                         | 22/38 [00:58<00:43,  2.69s/it]\u001b[A\n",
            "Running Epoch 0 of 1:  61%|████████████████████████████████████▎                       | 23/38 [01:01<00:40,  2.69s/it]\u001b[A\n",
            "Running Epoch 0 of 1:  63%|█████████████████████████████████████▉                      | 24/38 [01:04<00:37,  2.70s/it]\u001b[A\n",
            "Running Epoch 0 of 1:  66%|███████████████████████████████████████▍                    | 25/38 [01:06<00:34,  2.69s/it]\u001b[A\n",
            "Running Epoch 0 of 1:  68%|█████████████████████████████████████████                   | 26/38 [01:09<00:32,  2.70s/it]\u001b[A\n",
            "Running Epoch 0 of 1:  71%|██████████████████████████████████████████▋                 | 27/38 [01:12<00:29,  2.68s/it]\u001b[A\n",
            "Running Epoch 0 of 1:  74%|████████████████████████████████████████████▏               | 28/38 [01:14<00:26,  2.69s/it]\u001b[A\n",
            "Running Epoch 0 of 1:  76%|█████████████████████████████████████████████▊              | 29/38 [01:17<00:24,  2.71s/it]\u001b[A\n",
            "Running Epoch 0 of 1:  79%|███████████████████████████████████████████████▎            | 30/38 [01:20<00:21,  2.70s/it]\u001b[A\n",
            "Running Epoch 0 of 1:  82%|████████████████████████████████████████████████▉           | 31/38 [01:23<00:18,  2.70s/it]\u001b[A\n",
            "Running Epoch 0 of 1:  84%|██████████████████████████████████████████████████▌         | 32/38 [01:25<00:16,  2.71s/it]\u001b[A\n",
            "Running Epoch 0 of 1:  87%|████████████████████████████████████████████████████        | 33/38 [01:28<00:13,  2.69s/it]\u001b[A\n",
            "Running Epoch 0 of 1:  89%|█████████████████████████████████████████████████████▋      | 34/38 [01:31<00:10,  2.70s/it]\u001b[A\n",
            "Running Epoch 0 of 1:  92%|███████████████████████████████████████████████████████▎    | 35/38 [01:33<00:08,  2.67s/it]\u001b[A\n",
            "Running Epoch 0 of 1:  95%|████████████████████████████████████████████████████████▊   | 36/38 [01:36<00:05,  2.68s/it]\u001b[A\n",
            "Running Epoch 0 of 1:  97%|██████████████████████████████████████████████████████████▍ | 37/38 [01:39<00:02,  2.68s/it]\u001b[A\n",
            "Running Epoch 0 of 1: 100%|████████████████████████████████████████████████████████████| 38/38 [01:40<00:00,  2.66s/it]\n",
            "Epoch 1 of 1: 100%|█████████████████████████████████████████████████████████████████████| 1/1 [01:40<00:00, 100.91s/it]\n",
            "C:\\Users\\Domenico\\.conda\\envs\\tf\\lib\\site-packages\\simpletransformers\\classification\\classification_model.py:1454: UserWarning: Dataframe headers not specified. Falling back to using column 0 as text and column 1 as labels.\n",
            "  warnings.warn(\n"
          ]
        },
        {
          "output_type": "stream",
          "name": "stdout",
          "text": [
            "\n",
            "NOW EVALUATE THE TEST DF.\n"
          ]
        },
        {
          "output_type": "stream",
          "name": "stderr",
          "text": [
            "  0%|▍                                                                                 | 1/200 [00:07<24:48,  7.48s/it]\n",
            "Running Evaluation: 100%|██████████████████████████████████████████████████████████████| 25/25 [00:16<00:00,  1.54it/s]\n",
            "C:\\Users\\Domenico\\.conda\\envs\\tf\\lib\\site-packages\\simpletransformers\\classification\\classification_model.py:612: UserWarning: Dataframe headers not specified. Falling back to using column 0 as text and column 1 as labels.\n",
            "  warnings.warn(\n"
          ]
        },
        {
          "output_type": "stream",
          "name": "stdout",
          "text": [
            "{'mcc': 0.23333333333333334, 'tp': 97, 'tn': 17, 'fp': 83, 'fn': 3, 'auroc': 0.7078, 'auprc': 0.6851139850276033, 'eval_loss': 0.6756130528450012}\n",
            "Correct predictions are:  114\n",
            "Total predictions are:  200\n",
            "Accuracy on test set is: 0.57 \n",
            "\n",
            "\n",
            "\n",
            "EPOCH NUMBER:  2\n",
            "\n",
            "NOW TRAIN THE MODEL.\n"
          ]
        },
        {
          "output_type": "stream",
          "name": "stderr",
          "text": [
            "  0%|▎                                                                                 | 1/300 [00:08<43:58,  8.82s/it]\n",
            "Epoch 1 of 1:   0%|                                                                              | 0/1 [00:00<?, ?it/s]\n",
            "Running Epoch 0 of 1:   0%|                                                                     | 0/38 [00:00<?, ?it/s]\u001b[A\n",
            "Running Epoch 0 of 1:   3%|█▌                                                           | 1/38 [00:02<01:34,  2.56s/it]\u001b[A\n",
            "Running Epoch 0 of 1:   5%|███▏                                                         | 2/38 [00:05<01:34,  2.63s/it]\u001b[A\n",
            "Running Epoch 0 of 1:   8%|████▊                                                        | 3/38 [00:07<01:32,  2.64s/it]\u001b[A\n",
            "Running Epoch 0 of 1:  11%|██████▍                                                      | 4/38 [00:10<01:30,  2.66s/it]\u001b[A\n",
            "Running Epoch 0 of 1:  13%|████████                                                     | 5/38 [00:13<01:28,  2.67s/it]\u001b[A\n",
            "Running Epoch 0 of 1:  16%|█████████▋                                                   | 6/38 [00:15<01:24,  2.65s/it]\u001b[A\n",
            "Running Epoch 0 of 1:  18%|███████████▏                                                 | 7/38 [00:18<01:22,  2.67s/it]\u001b[A\n",
            "Running Epoch 0 of 1:  21%|████████████▊                                                | 8/38 [00:21<01:20,  2.67s/it]\u001b[A\n",
            "Running Epoch 0 of 1:  24%|██████████████▍                                              | 9/38 [00:23<01:17,  2.67s/it]\u001b[A\n",
            "Running Epoch 0 of 1:  26%|███████████████▊                                            | 10/38 [00:26<01:14,  2.67s/it]\u001b[A\n",
            "Running Epoch 0 of 1:  29%|█████████████████▎                                          | 11/38 [00:29<01:12,  2.67s/it]\u001b[A\n",
            "Running Epoch 0 of 1:  32%|██████████████████▉                                         | 12/38 [00:31<01:09,  2.69s/it]\u001b[A\n",
            "Running Epoch 0 of 1:  34%|████████████████████▌                                       | 13/38 [00:34<01:06,  2.67s/it]\u001b[A\n",
            "Running Epoch 0 of 1:  37%|██████████████████████                                      | 14/38 [00:37<01:04,  2.69s/it]\u001b[A\n",
            "Running Epoch 0 of 1:  39%|███████████████████████▋                                    | 15/38 [00:40<01:02,  2.70s/it]\u001b[A\n",
            "Running Epoch 0 of 1:  42%|█████████████████████████▎                                  | 16/38 [00:42<00:59,  2.71s/it]\u001b[A\n",
            "Running Epoch 0 of 1:  45%|██████████████████████████▊                                 | 17/38 [00:45<00:57,  2.72s/it]\u001b[A\n",
            "Running Epoch 0 of 1:  47%|████████████████████████████▍                               | 18/38 [00:48<00:54,  2.70s/it]\u001b[A\n",
            "Running Epoch 0 of 1:  50%|██████████████████████████████                              | 19/38 [00:50<00:51,  2.70s/it]\u001b[A\n",
            "Running Epoch 0 of 1:  53%|███████████████████████████████▌                            | 20/38 [00:53<00:48,  2.69s/it]\u001b[A\n",
            "Running Epoch 0 of 1:  55%|█████████████████████████████████▏                          | 21/38 [00:56<00:45,  2.69s/it]\u001b[A\n",
            "Running Epoch 0 of 1:  58%|██████████████████████████████████▋                         | 22/38 [00:58<00:42,  2.69s/it]\u001b[A\n",
            "Running Epoch 0 of 1:  61%|████████████████████████████████████▎                       | 23/38 [01:01<00:40,  2.69s/it]\u001b[A\n",
            "Running Epoch 0 of 1:  63%|█████████████████████████████████████▉                      | 24/38 [01:04<00:37,  2.68s/it]\u001b[A\n",
            "Running Epoch 0 of 1:  66%|███████████████████████████████████████▍                    | 25/38 [01:06<00:34,  2.68s/it]\u001b[A\n",
            "Running Epoch 0 of 1:  68%|█████████████████████████████████████████                   | 26/38 [01:09<00:31,  2.66s/it]\u001b[A\n",
            "Running Epoch 0 of 1:  71%|██████████████████████████████████████████▋                 | 27/38 [01:12<00:29,  2.66s/it]\u001b[A\n",
            "Running Epoch 0 of 1:  74%|████████████████████████████████████████████▏               | 28/38 [01:15<00:26,  2.69s/it]\u001b[A\n",
            "Running Epoch 0 of 1:  76%|█████████████████████████████████████████████▊              | 29/38 [01:17<00:24,  2.70s/it]\u001b[A\n",
            "Running Epoch 0 of 1:  79%|███████████████████████████████████████████████▎            | 30/38 [01:20<00:21,  2.69s/it]\u001b[A\n",
            "Running Epoch 0 of 1:  82%|████████████████████████████████████████████████▉           | 31/38 [01:23<00:18,  2.69s/it]\u001b[A\n",
            "Running Epoch 0 of 1:  84%|██████████████████████████████████████████████████▌         | 32/38 [01:25<00:16,  2.70s/it]\u001b[A\n",
            "Running Epoch 0 of 1:  87%|████████████████████████████████████████████████████        | 33/38 [01:28<00:13,  2.69s/it]\u001b[A\n",
            "Running Epoch 0 of 1:  89%|█████████████████████████████████████████████████████▋      | 34/38 [01:31<00:10,  2.69s/it]\u001b[A\n",
            "Running Epoch 0 of 1:  92%|███████████████████████████████████████████████████████▎    | 35/38 [01:33<00:08,  2.71s/it]\u001b[A\n",
            "Running Epoch 0 of 1:  95%|████████████████████████████████████████████████████████▊   | 36/38 [01:36<00:05,  2.71s/it]\u001b[A\n",
            "Running Epoch 0 of 1:  97%|██████████████████████████████████████████████████████████▍ | 37/38 [01:39<00:02,  2.70s/it]\u001b[A\n",
            "Running Epoch 0 of 1: 100%|████████████████████████████████████████████████████████████| 38/38 [01:41<00:00,  2.66s/it]\n",
            "Epoch 1 of 1: 100%|█████████████████████████████████████████████████████████████████████| 1/1 [01:41<00:00, 101.13s/it]\n",
            "C:\\Users\\Domenico\\.conda\\envs\\tf\\lib\\site-packages\\simpletransformers\\classification\\classification_model.py:1454: UserWarning: Dataframe headers not specified. Falling back to using column 0 as text and column 1 as labels.\n",
            "  warnings.warn(\n"
          ]
        },
        {
          "output_type": "stream",
          "name": "stdout",
          "text": [
            "\n",
            "NOW EVALUATE THE TEST DF.\n"
          ]
        },
        {
          "output_type": "stream",
          "name": "stderr",
          "text": [
            "  0%|▍                                                                                 | 1/200 [00:07<24:41,  7.44s/it]\n",
            "Running Evaluation: 100%|██████████████████████████████████████████████████████████████| 25/25 [00:16<00:00,  1.54it/s]\n",
            "C:\\Users\\Domenico\\.conda\\envs\\tf\\lib\\site-packages\\simpletransformers\\classification\\classification_model.py:612: UserWarning: Dataframe headers not specified. Falling back to using column 0 as text and column 1 as labels.\n",
            "  warnings.warn(\n"
          ]
        },
        {
          "output_type": "stream",
          "name": "stdout",
          "text": [
            "{'mcc': 0.27001350101258437, 'tp': 64, 'tn': 63, 'fp': 37, 'fn': 36, 'auroc': 0.7088000000000001, 'auprc': 0.6608379672369413, 'eval_loss': 0.6318239653110505}\n",
            "Correct predictions are:  127\n",
            "Total predictions are:  200\n",
            "Accuracy on test set is: 0.635 \n",
            "\n",
            "\n",
            "\n",
            "EPOCH NUMBER:  3\n",
            "\n",
            "NOW TRAIN THE MODEL.\n"
          ]
        },
        {
          "output_type": "stream",
          "name": "stderr",
          "text": [
            "  0%|▎                                                                                 | 1/300 [00:08<43:47,  8.79s/it]\n",
            "Epoch 1 of 1:   0%|                                                                              | 0/1 [00:00<?, ?it/s]\n",
            "Running Epoch 0 of 1:   0%|                                                                     | 0/38 [00:00<?, ?it/s]\u001b[A\n",
            "Running Epoch 0 of 1:   3%|█▌                                                           | 1/38 [00:02<01:35,  2.58s/it]\u001b[A\n",
            "Running Epoch 0 of 1:   5%|███▏                                                         | 2/38 [00:05<01:34,  2.62s/it]\u001b[A\n",
            "Running Epoch 0 of 1:   8%|████▊                                                        | 3/38 [00:07<01:33,  2.66s/it]\u001b[A\n",
            "Running Epoch 0 of 1:  11%|██████▍                                                      | 4/38 [00:10<01:30,  2.67s/it]\u001b[A\n",
            "Running Epoch 0 of 1:  13%|████████                                                     | 5/38 [00:13<01:27,  2.66s/it]\u001b[A\n",
            "Running Epoch 0 of 1:  16%|█████████▋                                                   | 6/38 [00:15<01:25,  2.67s/it]\u001b[A\n",
            "Running Epoch 0 of 1:  18%|███████████▏                                                 | 7/38 [00:18<01:22,  2.65s/it]\u001b[A\n",
            "Running Epoch 0 of 1:  21%|████████████▊                                                | 8/38 [00:21<01:19,  2.67s/it]\u001b[A\n",
            "Running Epoch 0 of 1:  24%|██████████████▍                                              | 9/38 [00:23<01:17,  2.68s/it]\u001b[A\n",
            "Running Epoch 0 of 1:  26%|███████████████▊                                            | 10/38 [00:26<01:14,  2.66s/it]\u001b[A\n",
            "Running Epoch 0 of 1:  29%|█████████████████▎                                          | 11/38 [00:29<01:11,  2.66s/it]\u001b[A\n",
            "Running Epoch 0 of 1:  32%|██████████████████▉                                         | 12/38 [00:31<01:09,  2.67s/it]\u001b[A\n",
            "Running Epoch 0 of 1:  34%|████████████████████▌                                       | 13/38 [00:34<01:06,  2.67s/it]\u001b[A\n",
            "Running Epoch 0 of 1:  37%|██████████████████████                                      | 14/38 [00:37<01:04,  2.68s/it]\u001b[A\n",
            "Running Epoch 0 of 1:  39%|███████████████████████▋                                    | 15/38 [00:39<01:01,  2.67s/it]\u001b[A\n",
            "Running Epoch 0 of 1:  42%|█████████████████████████▎                                  | 16/38 [00:42<00:58,  2.66s/it]\u001b[A\n",
            "Running Epoch 0 of 1:  45%|██████████████████████████▊                                 | 17/38 [00:45<00:56,  2.67s/it]\u001b[A\n",
            "Running Epoch 0 of 1:  47%|████████████████████████████▍                               | 18/38 [00:47<00:53,  2.66s/it]\u001b[A\n",
            "Running Epoch 0 of 1:  50%|██████████████████████████████                              | 19/38 [00:50<00:50,  2.65s/it]\u001b[A\n",
            "Running Epoch 0 of 1:  53%|███████████████████████████████▌                            | 20/38 [00:53<00:48,  2.68s/it]\u001b[A\n",
            "Running Epoch 0 of 1:  55%|█████████████████████████████████▏                          | 21/38 [00:55<00:45,  2.66s/it]\u001b[A\n",
            "Running Epoch 0 of 1:  58%|██████████████████████████████████▋                         | 22/38 [00:58<00:42,  2.68s/it]\u001b[A\n",
            "Running Epoch 0 of 1:  61%|████████████████████████████████████▎                       | 23/38 [01:01<00:40,  2.68s/it]\u001b[A\n",
            "Running Epoch 0 of 1:  63%|█████████████████████████████████████▉                      | 24/38 [01:04<00:37,  2.68s/it]\u001b[A\n",
            "Running Epoch 0 of 1:  66%|███████████████████████████████████████▍                    | 25/38 [01:06<00:34,  2.69s/it]\u001b[A\n",
            "Running Epoch 0 of 1:  68%|█████████████████████████████████████████                   | 26/38 [01:09<00:32,  2.68s/it]\u001b[A\n",
            "Running Epoch 0 of 1:  71%|██████████████████████████████████████████▋                 | 27/38 [01:12<00:29,  2.71s/it]\u001b[A\n",
            "Running Epoch 0 of 1:  74%|████████████████████████████████████████████▏               | 28/38 [01:14<00:27,  2.70s/it]\u001b[A\n",
            "Running Epoch 0 of 1:  76%|█████████████████████████████████████████████▊              | 29/38 [01:17<00:24,  2.70s/it]\u001b[A\n",
            "Running Epoch 0 of 1:  79%|███████████████████████████████████████████████▎            | 30/38 [01:20<00:21,  2.69s/it]\u001b[A\n",
            "Running Epoch 0 of 1:  82%|████████████████████████████████████████████████▉           | 31/38 [01:22<00:18,  2.68s/it]\u001b[A\n",
            "Running Epoch 0 of 1:  84%|██████████████████████████████████████████████████▌         | 32/38 [01:25<00:16,  2.67s/it]\u001b[A\n",
            "Running Epoch 0 of 1:  87%|████████████████████████████████████████████████████        | 33/38 [01:28<00:13,  2.69s/it]\u001b[A\n",
            "Running Epoch 0 of 1:  89%|█████████████████████████████████████████████████████▋      | 34/38 [01:30<00:10,  2.70s/it]\u001b[A\n",
            "Running Epoch 0 of 1:  92%|███████████████████████████████████████████████████████▎    | 35/38 [01:33<00:08,  2.71s/it]\u001b[A\n",
            "Running Epoch 0 of 1:  95%|████████████████████████████████████████████████████████▊   | 36/38 [01:36<00:05,  2.70s/it]\u001b[A\n",
            "Running Epoch 0 of 1:  97%|██████████████████████████████████████████████████████████▍ | 37/38 [01:39<00:02,  2.69s/it]\u001b[A\n",
            "Running Epoch 0 of 1: 100%|████████████████████████████████████████████████████████████| 38/38 [01:40<00:00,  2.65s/it]\n",
            "Epoch 1 of 1: 100%|█████████████████████████████████████████████████████████████████████| 1/1 [01:40<00:00, 100.86s/it]\n",
            "C:\\Users\\Domenico\\.conda\\envs\\tf\\lib\\site-packages\\simpletransformers\\classification\\classification_model.py:1454: UserWarning: Dataframe headers not specified. Falling back to using column 0 as text and column 1 as labels.\n",
            "  warnings.warn(\n"
          ]
        },
        {
          "output_type": "stream",
          "name": "stdout",
          "text": [
            "\n",
            "NOW EVALUATE THE TEST DF.\n"
          ]
        },
        {
          "output_type": "stream",
          "name": "stderr",
          "text": [
            "  0%|▍                                                                                 | 1/200 [00:07<24:46,  7.47s/it]\n",
            "Running Evaluation: 100%|██████████████████████████████████████████████████████████████| 25/25 [00:16<00:00,  1.51it/s]\n",
            "C:\\Users\\Domenico\\.conda\\envs\\tf\\lib\\site-packages\\simpletransformers\\classification\\classification_model.py:612: UserWarning: Dataframe headers not specified. Falling back to using column 0 as text and column 1 as labels.\n",
            "  warnings.warn(\n"
          ]
        },
        {
          "output_type": "stream",
          "name": "stdout",
          "text": [
            "{'mcc': 0.35561778417587725, 'tp': 90, 'tn': 41, 'fp': 59, 'fn': 10, 'auroc': 0.7352, 'auprc': 0.6867388384338907, 'eval_loss': 0.6508007681369782}\n",
            "Correct predictions are:  131\n",
            "Total predictions are:  200\n",
            "Accuracy on test set is: 0.655 \n",
            "\n",
            "\n",
            "\n",
            "EPOCH NUMBER:  4\n",
            "\n",
            "NOW TRAIN THE MODEL.\n"
          ]
        },
        {
          "output_type": "stream",
          "name": "stderr",
          "text": [
            "  0%|▎                                                                                 | 1/300 [00:08<43:37,  8.76s/it]\n",
            "Epoch 1 of 1:   0%|                                                                              | 0/1 [00:00<?, ?it/s]\n",
            "Running Epoch 0 of 1:   0%|                                                                     | 0/38 [00:00<?, ?it/s]\u001b[A\n",
            "Running Epoch 0 of 1:   3%|█▌                                                           | 1/38 [00:02<01:36,  2.61s/it]\u001b[A\n",
            "Running Epoch 0 of 1:   5%|███▏                                                         | 2/38 [00:05<01:35,  2.66s/it]\u001b[A\n",
            "Running Epoch 0 of 1:   8%|████▊                                                        | 3/38 [00:07<01:32,  2.65s/it]\u001b[A\n",
            "Running Epoch 0 of 1:  11%|██████▍                                                      | 4/38 [00:10<01:30,  2.67s/it]\u001b[A\n",
            "Running Epoch 0 of 1:  13%|████████                                                     | 5/38 [00:13<01:29,  2.71s/it]\u001b[A\n",
            "Running Epoch 0 of 1:  16%|█████████▋                                                   | 6/38 [00:16<01:26,  2.69s/it]\u001b[A\n",
            "Running Epoch 0 of 1:  18%|███████████▏                                                 | 7/38 [00:18<01:23,  2.69s/it]\u001b[A\n",
            "Running Epoch 0 of 1:  21%|████████████▊                                                | 8/38 [00:21<01:20,  2.69s/it]\u001b[A\n",
            "Running Epoch 0 of 1:  24%|██████████████▍                                              | 9/38 [00:24<01:18,  2.69s/it]\u001b[A\n",
            "Running Epoch 0 of 1:  26%|███████████████▊                                            | 10/38 [00:26<01:15,  2.70s/it]\u001b[A\n",
            "Running Epoch 0 of 1:  29%|█████████████████▎                                          | 11/38 [00:29<01:12,  2.70s/it]\u001b[A\n",
            "Running Epoch 0 of 1:  32%|██████████████████▉                                         | 12/38 [00:32<01:09,  2.69s/it]\u001b[A\n",
            "Running Epoch 0 of 1:  34%|████████████████████▌                                       | 13/38 [00:34<01:07,  2.70s/it]\u001b[A\n",
            "Running Epoch 0 of 1:  37%|██████████████████████                                      | 14/38 [00:37<01:04,  2.69s/it]\u001b[A\n",
            "Running Epoch 0 of 1:  39%|███████████████████████▋                                    | 15/38 [00:40<01:01,  2.68s/it]\u001b[A\n",
            "Running Epoch 0 of 1:  42%|█████████████████████████▎                                  | 16/38 [00:42<00:58,  2.67s/it]\u001b[A\n",
            "Running Epoch 0 of 1:  45%|██████████████████████████▊                                 | 17/38 [00:45<00:56,  2.68s/it]\u001b[A\n",
            "Running Epoch 0 of 1:  47%|████████████████████████████▍                               | 18/38 [00:48<00:53,  2.67s/it]\u001b[A\n",
            "Running Epoch 0 of 1:  50%|██████████████████████████████                              | 19/38 [00:50<00:50,  2.65s/it]\u001b[A\n",
            "Running Epoch 0 of 1:  53%|███████████████████████████████▌                            | 20/38 [00:53<00:47,  2.66s/it]\u001b[A\n",
            "Running Epoch 0 of 1:  55%|█████████████████████████████████▏                          | 21/38 [00:56<00:45,  2.67s/it]\u001b[A\n",
            "Running Epoch 0 of 1:  58%|██████████████████████████████████▋                         | 22/38 [00:58<00:42,  2.66s/it]\u001b[A\n",
            "Running Epoch 0 of 1:  61%|████████████████████████████████████▎                       | 23/38 [01:01<00:40,  2.68s/it]\u001b[A\n",
            "Running Epoch 0 of 1:  63%|█████████████████████████████████████▉                      | 24/38 [01:04<00:37,  2.68s/it]\u001b[A\n",
            "Running Epoch 0 of 1:  66%|███████████████████████████████████████▍                    | 25/38 [01:06<00:34,  2.68s/it]\u001b[A\n",
            "Running Epoch 0 of 1:  68%|█████████████████████████████████████████                   | 26/38 [01:09<00:32,  2.68s/it]\u001b[A\n",
            "Running Epoch 0 of 1:  71%|██████████████████████████████████████████▋                 | 27/38 [01:12<00:29,  2.68s/it]\u001b[A\n",
            "Running Epoch 0 of 1:  74%|████████████████████████████████████████████▏               | 28/38 [01:15<00:26,  2.69s/it]\u001b[A\n",
            "Running Epoch 0 of 1:  76%|█████████████████████████████████████████████▊              | 29/38 [01:17<00:24,  2.69s/it]\u001b[A\n",
            "Running Epoch 0 of 1:  79%|███████████████████████████████████████████████▎            | 30/38 [01:20<00:21,  2.68s/it]\u001b[A\n",
            "Running Epoch 0 of 1:  82%|████████████████████████████████████████████████▉           | 31/38 [01:23<00:18,  2.67s/it]\u001b[A\n",
            "Running Epoch 0 of 1:  84%|██████████████████████████████████████████████████▌         | 32/38 [01:25<00:16,  2.68s/it]\u001b[A\n",
            "Running Epoch 0 of 1:  87%|████████████████████████████████████████████████████        | 33/38 [01:28<00:13,  2.68s/it]\u001b[A\n",
            "Running Epoch 0 of 1:  89%|█████████████████████████████████████████████████████▋      | 34/38 [01:31<00:10,  2.71s/it]\u001b[A\n",
            "Running Epoch 0 of 1:  92%|███████████████████████████████████████████████████████▎    | 35/38 [01:33<00:08,  2.71s/it]\u001b[A\n",
            "Running Epoch 0 of 1:  95%|████████████████████████████████████████████████████████▊   | 36/38 [01:36<00:05,  2.69s/it]\u001b[A\n",
            "Running Epoch 0 of 1:  97%|██████████████████████████████████████████████████████████▍ | 37/38 [01:39<00:02,  2.67s/it]\u001b[A\n",
            "Running Epoch 0 of 1: 100%|████████████████████████████████████████████████████████████| 38/38 [01:40<00:00,  2.65s/it]\n",
            "Epoch 1 of 1: 100%|█████████████████████████████████████████████████████████████████████| 1/1 [01:40<00:00, 100.87s/it]\n",
            "C:\\Users\\Domenico\\.conda\\envs\\tf\\lib\\site-packages\\simpletransformers\\classification\\classification_model.py:1454: UserWarning: Dataframe headers not specified. Falling back to using column 0 as text and column 1 as labels.\n",
            "  warnings.warn(\n"
          ]
        },
        {
          "output_type": "stream",
          "name": "stdout",
          "text": [
            "\n",
            "NOW EVALUATE THE TEST DF.\n"
          ]
        },
        {
          "output_type": "stream",
          "name": "stderr",
          "text": [
            "  0%|▍                                                                                 | 1/200 [00:07<25:09,  7.59s/it]\n",
            "Running Evaluation: 100%|██████████████████████████████████████████████████████████████| 25/25 [00:15<00:00,  1.57it/s]\n",
            "C:\\Users\\Domenico\\.conda\\envs\\tf\\lib\\site-packages\\simpletransformers\\classification\\classification_model.py:612: UserWarning: Dataframe headers not specified. Falling back to using column 0 as text and column 1 as labels.\n",
            "  warnings.warn(\n"
          ]
        },
        {
          "output_type": "stream",
          "name": "stdout",
          "text": [
            "{'mcc': 0.3075346380392736, 'tp': 54, 'tn': 76, 'fp': 24, 'fn': 46, 'auroc': 0.7361, 'auprc': 0.6982374941122214, 'eval_loss': 0.7631167292594909}\n",
            "Correct predictions are:  130\n",
            "Total predictions are:  200\n",
            "Accuracy on test set is: 0.65 \n",
            "\n",
            "\n",
            "\n",
            "EPOCH NUMBER:  5\n",
            "\n",
            "NOW TRAIN THE MODEL.\n"
          ]
        },
        {
          "output_type": "stream",
          "name": "stderr",
          "text": [
            "  0%|▎                                                                                 | 1/300 [00:08<43:59,  8.83s/it]\n",
            "Epoch 1 of 1:   0%|                                                                              | 0/1 [00:00<?, ?it/s]\n",
            "Running Epoch 0 of 1:   0%|                                                                     | 0/38 [00:00<?, ?it/s]\u001b[A\n",
            "Running Epoch 0 of 1:   3%|█▌                                                           | 1/38 [00:02<01:32,  2.51s/it]\u001b[A\n",
            "Running Epoch 0 of 1:   5%|███▏                                                         | 2/38 [00:05<01:30,  2.52s/it]\u001b[A\n",
            "Running Epoch 0 of 1:   8%|████▊                                                        | 3/38 [00:07<01:29,  2.57s/it]\u001b[A\n",
            "Running Epoch 0 of 1:  11%|██████▍                                                      | 4/38 [00:10<01:27,  2.57s/it]\u001b[A\n",
            "Running Epoch 0 of 1:  13%|████████                                                     | 5/38 [00:12<01:24,  2.57s/it]\u001b[A\n",
            "Running Epoch 0 of 1:  16%|█████████▋                                                   | 6/38 [00:15<01:24,  2.63s/it]\u001b[A\n",
            "Running Epoch 0 of 1:  18%|███████████▏                                                 | 7/38 [00:18<01:21,  2.62s/it]\u001b[A\n",
            "Running Epoch 0 of 1:  21%|████████████▊                                                | 8/38 [00:20<01:19,  2.65s/it]\u001b[A\n",
            "Running Epoch 0 of 1:  24%|██████████████▍                                              | 9/38 [00:23<01:17,  2.67s/it]\u001b[A\n",
            "Running Epoch 0 of 1:  26%|███████████████▊                                            | 10/38 [00:26<01:14,  2.68s/it]\u001b[A\n",
            "Running Epoch 0 of 1:  29%|█████████████████▎                                          | 11/38 [00:28<01:11,  2.65s/it]\u001b[A\n",
            "Running Epoch 0 of 1:  32%|██████████████████▉                                         | 12/38 [00:31<01:10,  2.70s/it]\u001b[A\n",
            "Running Epoch 0 of 1:  34%|████████████████████▌                                       | 13/38 [00:34<01:06,  2.66s/it]\u001b[A\n",
            "Running Epoch 0 of 1:  37%|██████████████████████                                      | 14/38 [00:36<01:03,  2.66s/it]\u001b[A\n",
            "Running Epoch 0 of 1:  39%|███████████████████████▋                                    | 15/38 [00:39<01:00,  2.65s/it]\u001b[A\n",
            "Running Epoch 0 of 1:  42%|█████████████████████████▎                                  | 16/38 [00:42<00:57,  2.63s/it]\u001b[A\n",
            "Running Epoch 0 of 1:  45%|██████████████████████████▊                                 | 17/38 [00:44<00:55,  2.64s/it]\u001b[A\n",
            "Running Epoch 0 of 1:  47%|████████████████████████████▍                               | 18/38 [00:47<00:52,  2.64s/it]\u001b[A\n",
            "Running Epoch 0 of 1:  50%|██████████████████████████████                              | 19/38 [00:50<00:50,  2.66s/it]\u001b[A\n",
            "Running Epoch 0 of 1:  53%|███████████████████████████████▌                            | 20/38 [00:52<00:48,  2.67s/it]\u001b[A\n",
            "Running Epoch 0 of 1:  55%|█████████████████████████████████▏                          | 21/38 [00:55<00:45,  2.67s/it]\u001b[A\n",
            "Running Epoch 0 of 1:  58%|██████████████████████████████████▋                         | 22/38 [00:58<00:42,  2.66s/it]\u001b[A\n",
            "Running Epoch 0 of 1:  61%|████████████████████████████████████▎                       | 23/38 [01:00<00:39,  2.66s/it]\u001b[A\n",
            "Running Epoch 0 of 1:  63%|█████████████████████████████████████▉                      | 24/38 [01:03<00:37,  2.65s/it]\u001b[A\n",
            "Running Epoch 0 of 1:  66%|███████████████████████████████████████▍                    | 25/38 [01:06<00:34,  2.64s/it]\u001b[A\n",
            "Running Epoch 0 of 1:  68%|█████████████████████████████████████████                   | 26/38 [01:08<00:32,  2.68s/it]\u001b[A\n",
            "Running Epoch 0 of 1:  71%|██████████████████████████████████████████▋                 | 27/38 [01:11<00:29,  2.65s/it]\u001b[A\n",
            "Running Epoch 0 of 1:  74%|████████████████████████████████████████████▏               | 28/38 [01:13<00:26,  2.64s/it]\u001b[A\n",
            "Running Epoch 0 of 1:  76%|█████████████████████████████████████████████▊              | 29/38 [01:16<00:23,  2.63s/it]\u001b[A\n",
            "Running Epoch 0 of 1:  79%|███████████████████████████████████████████████▎            | 30/38 [01:19<00:21,  2.64s/it]\u001b[A\n",
            "Running Epoch 0 of 1:  82%|████████████████████████████████████████████████▉           | 31/38 [01:21<00:18,  2.65s/it]\u001b[A\n",
            "Running Epoch 0 of 1:  84%|██████████████████████████████████████████████████▌         | 32/38 [01:24<00:15,  2.66s/it]\u001b[A\n",
            "Running Epoch 0 of 1:  87%|████████████████████████████████████████████████████        | 33/38 [01:27<00:13,  2.67s/it]\u001b[A\n",
            "Running Epoch 0 of 1:  89%|█████████████████████████████████████████████████████▋      | 34/38 [01:29<00:10,  2.66s/it]\u001b[A\n",
            "Running Epoch 0 of 1:  92%|███████████████████████████████████████████████████████▎    | 35/38 [01:32<00:08,  2.68s/it]\u001b[A\n",
            "Running Epoch 0 of 1:  95%|████████████████████████████████████████████████████████▊   | 36/38 [01:35<00:05,  2.68s/it]\u001b[A\n",
            "Running Epoch 0 of 1:  97%|██████████████████████████████████████████████████████████▍ | 37/38 [01:38<00:02,  2.68s/it]\u001b[A\n",
            "Running Epoch 0 of 1: 100%|████████████████████████████████████████████████████████████| 38/38 [01:39<00:00,  2.63s/it]\n",
            "Epoch 1 of 1: 100%|██████████████████████████████████████████████████████████████████████| 1/1 [01:39<00:00, 99.81s/it]\n",
            "C:\\Users\\Domenico\\.conda\\envs\\tf\\lib\\site-packages\\simpletransformers\\classification\\classification_model.py:1454: UserWarning: Dataframe headers not specified. Falling back to using column 0 as text and column 1 as labels.\n",
            "  warnings.warn(\n"
          ]
        },
        {
          "output_type": "stream",
          "name": "stdout",
          "text": [
            "\n",
            "NOW EVALUATE THE TEST DF.\n"
          ]
        },
        {
          "output_type": "stream",
          "name": "stderr",
          "text": [
            "  0%|▍                                                                                 | 1/200 [00:07<25:11,  7.59s/it]\n",
            "Running Evaluation: 100%|██████████████████████████████████████████████████████████████| 25/25 [00:16<00:00,  1.54it/s]\n",
            "C:\\Users\\Domenico\\.conda\\envs\\tf\\lib\\site-packages\\simpletransformers\\classification\\classification_model.py:612: UserWarning: Dataframe headers not specified. Falling back to using column 0 as text and column 1 as labels.\n",
            "  warnings.warn(\n"
          ]
        },
        {
          "output_type": "stream",
          "name": "stdout",
          "text": [
            "{'mcc': 0.33139720853397336, 'tp': 79, 'tn': 53, 'fp': 47, 'fn': 21, 'auroc': 0.7361000000000001, 'auprc': 0.7168047633562286, 'eval_loss': 0.6971120399236679}\n",
            "Correct predictions are:  132\n",
            "Total predictions are:  200\n",
            "Accuracy on test set is: 0.66 \n",
            "\n",
            "\n",
            "\n",
            "EPOCH NUMBER:  6\n",
            "\n",
            "NOW TRAIN THE MODEL.\n"
          ]
        },
        {
          "output_type": "stream",
          "name": "stderr",
          "text": [
            "  0%|▎                                                                                 | 1/300 [00:08<43:03,  8.64s/it]\n",
            "Epoch 1 of 1:   0%|                                                                              | 0/1 [00:00<?, ?it/s]\n",
            "Running Epoch 0 of 1:   0%|                                                                     | 0/38 [00:00<?, ?it/s]\u001b[A\n",
            "Running Epoch 0 of 1:   3%|█▌                                                           | 1/38 [00:02<01:35,  2.59s/it]\u001b[A\n",
            "Running Epoch 0 of 1:   5%|███▏                                                         | 2/38 [00:05<01:34,  2.62s/it]\u001b[A\n",
            "Running Epoch 0 of 1:   8%|████▊                                                        | 3/38 [00:07<01:31,  2.60s/it]\u001b[A\n",
            "Running Epoch 0 of 1:  11%|██████▍                                                      | 4/38 [00:10<01:29,  2.64s/it]\u001b[A\n",
            "Running Epoch 0 of 1:  13%|████████                                                     | 5/38 [00:13<01:26,  2.64s/it]\u001b[A\n",
            "Running Epoch 0 of 1:  16%|█████████▋                                                   | 6/38 [00:15<01:25,  2.66s/it]\u001b[A\n",
            "Running Epoch 0 of 1:  18%|███████████▏                                                 | 7/38 [00:18<01:22,  2.67s/it]\u001b[A\n",
            "Running Epoch 0 of 1:  21%|████████████▊                                                | 8/38 [00:21<01:19,  2.66s/it]\u001b[A\n",
            "Running Epoch 0 of 1:  24%|██████████████▍                                              | 9/38 [00:23<01:17,  2.66s/it]\u001b[A\n",
            "Running Epoch 0 of 1:  26%|███████████████▊                                            | 10/38 [00:26<01:14,  2.67s/it]\u001b[A\n",
            "Running Epoch 0 of 1:  29%|█████████████████▎                                          | 11/38 [00:29<01:12,  2.67s/it]\u001b[A\n",
            "Running Epoch 0 of 1:  32%|██████████████████▉                                         | 12/38 [00:31<01:09,  2.66s/it]\u001b[A\n",
            "Running Epoch 0 of 1:  34%|████████████████████▌                                       | 13/38 [00:34<01:06,  2.67s/it]\u001b[A\n",
            "Running Epoch 0 of 1:  37%|██████████████████████                                      | 14/38 [00:37<01:04,  2.67s/it]\u001b[A\n",
            "Running Epoch 0 of 1:  39%|███████████████████████▋                                    | 15/38 [00:39<01:01,  2.68s/it]\u001b[A\n",
            "Running Epoch 0 of 1:  42%|█████████████████████████▎                                  | 16/38 [00:42<00:59,  2.68s/it]\u001b[A\n",
            "Running Epoch 0 of 1:  45%|██████████████████████████▊                                 | 17/38 [00:45<00:56,  2.67s/it]\u001b[A\n",
            "Running Epoch 0 of 1:  47%|████████████████████████████▍                               | 18/38 [00:47<00:53,  2.68s/it]\u001b[A\n",
            "Running Epoch 0 of 1:  50%|██████████████████████████████                              | 19/38 [00:50<00:50,  2.66s/it]\u001b[A\n",
            "Running Epoch 0 of 1:  53%|███████████████████████████████▌                            | 20/38 [00:53<00:47,  2.65s/it]\u001b[A\n",
            "Running Epoch 0 of 1:  55%|█████████████████████████████████▏                          | 21/38 [00:55<00:45,  2.67s/it]\u001b[A\n",
            "Running Epoch 0 of 1:  58%|██████████████████████████████████▋                         | 22/38 [00:58<00:42,  2.67s/it]\u001b[A\n",
            "Running Epoch 0 of 1:  61%|████████████████████████████████████▎                       | 23/38 [01:01<00:39,  2.66s/it]\u001b[A\n",
            "Running Epoch 0 of 1:  63%|█████████████████████████████████████▉                      | 24/38 [01:03<00:37,  2.67s/it]\u001b[A\n",
            "Running Epoch 0 of 1:  66%|███████████████████████████████████████▍                    | 25/38 [01:06<00:34,  2.67s/it]\u001b[A\n",
            "Running Epoch 0 of 1:  68%|█████████████████████████████████████████                   | 26/38 [01:09<00:31,  2.67s/it]\u001b[A\n",
            "Running Epoch 0 of 1:  71%|██████████████████████████████████████████▋                 | 27/38 [01:11<00:29,  2.67s/it]\u001b[A\n",
            "Running Epoch 0 of 1:  74%|████████████████████████████████████████████▏               | 28/38 [01:14<00:26,  2.68s/it]\u001b[A\n",
            "Running Epoch 0 of 1:  76%|█████████████████████████████████████████████▊              | 29/38 [01:17<00:23,  2.66s/it]\u001b[A\n",
            "Running Epoch 0 of 1:  79%|███████████████████████████████████████████████▎            | 30/38 [01:19<00:21,  2.67s/it]\u001b[A\n",
            "Running Epoch 0 of 1:  82%|████████████████████████████████████████████████▉           | 31/38 [01:22<00:18,  2.62s/it]\u001b[A\n",
            "Running Epoch 0 of 1:  84%|██████████████████████████████████████████████████▌         | 32/38 [01:25<00:15,  2.63s/it]\u001b[A\n",
            "Running Epoch 0 of 1:  87%|████████████████████████████████████████████████████        | 33/38 [01:27<00:13,  2.65s/it]\u001b[A\n",
            "Running Epoch 0 of 1:  89%|█████████████████████████████████████████████████████▋      | 34/38 [01:30<00:10,  2.67s/it]\u001b[A\n",
            "Running Epoch 0 of 1:  92%|███████████████████████████████████████████████████████▎    | 35/38 [01:33<00:08,  2.67s/it]\u001b[A\n",
            "Running Epoch 0 of 1:  95%|████████████████████████████████████████████████████████▊   | 36/38 [01:35<00:05,  2.66s/it]\u001b[A\n",
            "Running Epoch 0 of 1:  97%|██████████████████████████████████████████████████████████▍ | 37/38 [01:38<00:02,  2.67s/it]\u001b[A\n",
            "Running Epoch 0 of 1: 100%|████████████████████████████████████████████████████████████| 38/38 [01:40<00:00,  2.64s/it]\n",
            "Epoch 1 of 1: 100%|█████████████████████████████████████████████████████████████████████| 1/1 [01:40<00:00, 100.22s/it]\n",
            "C:\\Users\\Domenico\\.conda\\envs\\tf\\lib\\site-packages\\simpletransformers\\classification\\classification_model.py:1454: UserWarning: Dataframe headers not specified. Falling back to using column 0 as text and column 1 as labels.\n",
            "  warnings.warn(\n"
          ]
        },
        {
          "output_type": "stream",
          "name": "stdout",
          "text": [
            "\n",
            "NOW EVALUATE THE TEST DF.\n"
          ]
        },
        {
          "output_type": "stream",
          "name": "stderr",
          "text": [
            "  0%|▍                                                                                 | 1/200 [00:07<24:54,  7.51s/it]\n",
            "Running Evaluation: 100%|██████████████████████████████████████████████████████████████| 25/25 [00:16<00:00,  1.53it/s]\n",
            "C:\\Users\\Domenico\\.conda\\envs\\tf\\lib\\site-packages\\simpletransformers\\classification\\classification_model.py:612: UserWarning: Dataframe headers not specified. Falling back to using column 0 as text and column 1 as labels.\n",
            "  warnings.warn(\n"
          ]
        },
        {
          "output_type": "stream",
          "name": "stdout",
          "text": [
            "{'mcc': 0.3944629551908554, 'tp': 77, 'tn': 62, 'fp': 38, 'fn': 23, 'auroc': 0.7449999999999999, 'auprc': 0.7112777343944168, 'eval_loss': 0.8067010548710823}\n",
            "Correct predictions are:  139\n",
            "Total predictions are:  200\n",
            "Accuracy on test set is: 0.695 \n",
            "\n",
            "\n",
            "\n",
            "EPOCH NUMBER:  7\n",
            "\n",
            "NOW TRAIN THE MODEL.\n"
          ]
        },
        {
          "output_type": "stream",
          "name": "stderr",
          "text": [
            "  0%|▎                                                                                 | 1/300 [00:08<42:58,  8.62s/it]\n",
            "Epoch 1 of 1:   0%|                                                                              | 0/1 [00:00<?, ?it/s]\n",
            "Running Epoch 0 of 1:   0%|                                                                     | 0/38 [00:00<?, ?it/s]\u001b[A\n",
            "Running Epoch 0 of 1:   3%|█▌                                                           | 1/38 [00:02<01:38,  2.65s/it]\u001b[A\n",
            "Running Epoch 0 of 1:   5%|███▏                                                         | 2/38 [00:05<01:34,  2.63s/it]\u001b[A\n",
            "Running Epoch 0 of 1:   8%|████▊                                                        | 3/38 [00:07<01:32,  2.63s/it]\u001b[A\n",
            "Running Epoch 0 of 1:  11%|██████▍                                                      | 4/38 [00:10<01:29,  2.63s/it]\u001b[A\n",
            "Running Epoch 0 of 1:  13%|████████                                                     | 5/38 [00:13<01:27,  2.65s/it]\u001b[A\n",
            "Running Epoch 0 of 1:  16%|█████████▋                                                   | 6/38 [00:15<01:24,  2.63s/it]\u001b[A\n",
            "Running Epoch 0 of 1:  18%|███████████▏                                                 | 7/38 [00:18<01:21,  2.63s/it]\u001b[A\n",
            "Running Epoch 0 of 1:  21%|████████████▊                                                | 8/38 [00:21<01:19,  2.66s/it]\u001b[A\n",
            "Running Epoch 0 of 1:  24%|██████████████▍                                              | 9/38 [00:23<01:17,  2.66s/it]\u001b[A\n",
            "Running Epoch 0 of 1:  26%|███████████████▊                                            | 10/38 [00:26<01:14,  2.65s/it]\u001b[A\n",
            "Running Epoch 0 of 1:  29%|█████████████████▎                                          | 11/38 [00:29<01:11,  2.65s/it]\u001b[A\n",
            "Running Epoch 0 of 1:  32%|██████████████████▉                                         | 12/38 [00:31<01:08,  2.65s/it]\u001b[A\n",
            "Running Epoch 0 of 1:  34%|████████████████████▌                                       | 13/38 [00:34<01:06,  2.66s/it]\u001b[A\n",
            "Running Epoch 0 of 1:  37%|██████████████████████                                      | 14/38 [00:37<01:04,  2.67s/it]\u001b[A\n",
            "Running Epoch 0 of 1:  39%|███████████████████████▋                                    | 15/38 [00:39<01:01,  2.66s/it]\u001b[A\n",
            "Running Epoch 0 of 1:  42%|█████████████████████████▎                                  | 16/38 [00:42<00:58,  2.67s/it]\u001b[A\n",
            "Running Epoch 0 of 1:  45%|██████████████████████████▊                                 | 17/38 [00:45<00:56,  2.68s/it]\u001b[A\n",
            "Running Epoch 0 of 1:  47%|████████████████████████████▍                               | 18/38 [00:47<00:53,  2.65s/it]\u001b[A\n",
            "Running Epoch 0 of 1:  50%|██████████████████████████████                              | 19/38 [00:50<00:50,  2.66s/it]\u001b[A\n",
            "Running Epoch 0 of 1:  53%|███████████████████████████████▌                            | 20/38 [00:53<00:48,  2.69s/it]\u001b[A\n",
            "Running Epoch 0 of 1:  55%|█████████████████████████████████▏                          | 21/38 [00:55<00:45,  2.67s/it]\u001b[A\n",
            "Running Epoch 0 of 1:  58%|██████████████████████████████████▋                         | 22/38 [00:58<00:42,  2.64s/it]\u001b[A\n",
            "Running Epoch 0 of 1:  61%|████████████████████████████████████▎                       | 23/38 [01:00<00:39,  2.63s/it]\u001b[A\n",
            "Running Epoch 0 of 1:  63%|█████████████████████████████████████▉                      | 24/38 [01:03<00:36,  2.62s/it]\u001b[A\n",
            "Running Epoch 0 of 1:  66%|███████████████████████████████████████▍                    | 25/38 [01:06<00:34,  2.65s/it]\u001b[A\n",
            "Running Epoch 0 of 1:  68%|█████████████████████████████████████████                   | 26/38 [01:08<00:31,  2.64s/it]\u001b[A\n",
            "Running Epoch 0 of 1:  71%|██████████████████████████████████████████▋                 | 27/38 [01:11<00:28,  2.62s/it]\u001b[A\n",
            "Running Epoch 0 of 1:  74%|████████████████████████████████████████████▏               | 28/38 [01:14<00:26,  2.64s/it]\u001b[A\n",
            "Running Epoch 0 of 1:  76%|█████████████████████████████████████████████▊              | 29/38 [01:16<00:23,  2.64s/it]\u001b[A\n",
            "Running Epoch 0 of 1:  79%|███████████████████████████████████████████████▎            | 30/38 [01:19<00:21,  2.63s/it]\u001b[A\n",
            "Running Epoch 0 of 1:  82%|████████████████████████████████████████████████▉           | 31/38 [01:21<00:18,  2.61s/it]\u001b[A\n",
            "Running Epoch 0 of 1:  84%|██████████████████████████████████████████████████▌         | 32/38 [01:24<00:15,  2.58s/it]\u001b[A\n",
            "Running Epoch 0 of 1:  87%|████████████████████████████████████████████████████        | 33/38 [01:26<00:12,  2.55s/it]\u001b[A\n",
            "Running Epoch 0 of 1:  89%|█████████████████████████████████████████████████████▋      | 34/38 [01:29<00:10,  2.52s/it]\u001b[A\n",
            "Running Epoch 0 of 1:  92%|███████████████████████████████████████████████████████▎    | 35/38 [01:31<00:07,  2.54s/it]\u001b[A\n",
            "Running Epoch 0 of 1:  95%|████████████████████████████████████████████████████████▊   | 36/38 [01:34<00:05,  2.59s/it]\u001b[A\n",
            "Running Epoch 0 of 1:  97%|██████████████████████████████████████████████████████████▍ | 37/38 [01:37<00:02,  2.61s/it]\u001b[A\n",
            "Running Epoch 0 of 1: 100%|████████████████████████████████████████████████████████████| 38/38 [01:39<00:00,  2.61s/it]\n",
            "Epoch 1 of 1: 100%|██████████████████████████████████████████████████████████████████████| 1/1 [01:39<00:00, 99.10s/it]\n",
            "C:\\Users\\Domenico\\.conda\\envs\\tf\\lib\\site-packages\\simpletransformers\\classification\\classification_model.py:1454: UserWarning: Dataframe headers not specified. Falling back to using column 0 as text and column 1 as labels.\n",
            "  warnings.warn(\n"
          ]
        },
        {
          "output_type": "stream",
          "name": "stdout",
          "text": [
            "\n",
            "NOW EVALUATE THE TEST DF.\n"
          ]
        },
        {
          "output_type": "stream",
          "name": "stderr",
          "text": [
            "  0%|▍                                                                                 | 1/200 [00:07<25:12,  7.60s/it]\n",
            "Running Evaluation: 100%|██████████████████████████████████████████████████████████████| 25/25 [00:16<00:00,  1.53it/s]\n",
            "C:\\Users\\Domenico\\.conda\\envs\\tf\\lib\\site-packages\\simpletransformers\\classification\\classification_model.py:612: UserWarning: Dataframe headers not specified. Falling back to using column 0 as text and column 1 as labels.\n",
            "  warnings.warn(\n"
          ]
        },
        {
          "output_type": "stream",
          "name": "stdout",
          "text": [
            "{'mcc': 0.35142616985385566, 'tp': 63, 'tn': 72, 'fp': 28, 'fn': 37, 'auroc': 0.7275, 'auprc': 0.6894482882204256, 'eval_loss': 1.4940417170524598}\n",
            "Correct predictions are:  135\n",
            "Total predictions are:  200\n",
            "Accuracy on test set is: 0.675 \n",
            "\n",
            "\n",
            "\n",
            "EPOCH NUMBER:  8\n",
            "\n",
            "NOW TRAIN THE MODEL.\n"
          ]
        },
        {
          "output_type": "stream",
          "name": "stderr",
          "text": [
            "  0%|▎                                                                                 | 1/300 [00:08<43:44,  8.78s/it]\n",
            "Epoch 1 of 1:   0%|                                                                              | 0/1 [00:00<?, ?it/s]\n",
            "Running Epoch 0 of 1:   0%|                                                                     | 0/38 [00:00<?, ?it/s]\u001b[A\n",
            "Running Epoch 0 of 1:   3%|█▌                                                           | 1/38 [00:02<01:36,  2.61s/it]\u001b[A\n",
            "Running Epoch 0 of 1:   5%|███▏                                                         | 2/38 [00:05<01:35,  2.65s/it]\u001b[A\n",
            "Running Epoch 0 of 1:   8%|████▊                                                        | 3/38 [00:07<01:32,  2.64s/it]\u001b[A\n",
            "Running Epoch 0 of 1:  11%|██████▍                                                      | 4/38 [00:10<01:31,  2.68s/it]\u001b[A\n",
            "Running Epoch 0 of 1:  13%|████████                                                     | 5/38 [00:13<01:27,  2.66s/it]\u001b[A\n",
            "Running Epoch 0 of 1:  16%|█████████▋                                                   | 6/38 [00:15<01:24,  2.65s/it]\u001b[A\n",
            "Running Epoch 0 of 1:  18%|███████████▏                                                 | 7/38 [00:18<01:22,  2.67s/it]\u001b[A\n",
            "Running Epoch 0 of 1:  21%|████████████▊                                                | 8/38 [00:21<01:19,  2.65s/it]\u001b[A\n",
            "Running Epoch 0 of 1:  24%|██████████████▍                                              | 9/38 [00:23<01:17,  2.66s/it]\u001b[A\n",
            "Running Epoch 0 of 1:  26%|███████████████▊                                            | 10/38 [00:26<01:14,  2.67s/it]\u001b[A\n",
            "Running Epoch 0 of 1:  29%|█████████████████▎                                          | 11/38 [00:29<01:12,  2.70s/it]\u001b[A\n",
            "Running Epoch 0 of 1:  32%|██████████████████▉                                         | 12/38 [00:31<01:09,  2.67s/it]\u001b[A\n",
            "Running Epoch 0 of 1:  34%|████████████████████▌                                       | 13/38 [00:34<01:06,  2.67s/it]\u001b[A\n",
            "Running Epoch 0 of 1:  37%|██████████████████████                                      | 14/38 [00:37<01:04,  2.70s/it]\u001b[A\n",
            "Running Epoch 0 of 1:  39%|███████████████████████▋                                    | 15/38 [00:40<01:01,  2.67s/it]\u001b[A\n",
            "Running Epoch 0 of 1:  42%|█████████████████████████▎                                  | 16/38 [00:42<00:58,  2.67s/it]\u001b[A\n",
            "Running Epoch 0 of 1:  45%|██████████████████████████▊                                 | 17/38 [00:45<00:55,  2.66s/it]\u001b[A\n",
            "Running Epoch 0 of 1:  47%|████████████████████████████▍                               | 18/38 [00:48<00:53,  2.67s/it]\u001b[A\n",
            "Running Epoch 0 of 1:  50%|██████████████████████████████                              | 19/38 [00:50<00:50,  2.67s/it]\u001b[A\n",
            "Running Epoch 0 of 1:  53%|███████████████████████████████▌                            | 20/38 [00:53<00:48,  2.67s/it]\u001b[A\n",
            "Running Epoch 0 of 1:  55%|█████████████████████████████████▏                          | 21/38 [00:55<00:44,  2.64s/it]\u001b[A\n",
            "Running Epoch 0 of 1:  58%|██████████████████████████████████▋                         | 22/38 [00:58<00:41,  2.62s/it]\u001b[A\n",
            "Running Epoch 0 of 1:  61%|████████████████████████████████████▎                       | 23/38 [01:01<00:39,  2.65s/it]\u001b[A\n",
            "Running Epoch 0 of 1:  63%|█████████████████████████████████████▉                      | 24/38 [01:03<00:37,  2.64s/it]\u001b[A\n",
            "Running Epoch 0 of 1:  66%|███████████████████████████████████████▍                    | 25/38 [01:06<00:34,  2.66s/it]\u001b[A\n",
            "Running Epoch 0 of 1:  68%|█████████████████████████████████████████                   | 26/38 [01:09<00:31,  2.65s/it]\u001b[A\n",
            "Running Epoch 0 of 1:  71%|██████████████████████████████████████████▋                 | 27/38 [01:11<00:29,  2.65s/it]\u001b[A\n",
            "Running Epoch 0 of 1:  74%|████████████████████████████████████████████▏               | 28/38 [01:14<00:26,  2.64s/it]\u001b[A\n",
            "Running Epoch 0 of 1:  76%|█████████████████████████████████████████████▊              | 29/38 [01:17<00:23,  2.65s/it]\u001b[A\n",
            "Running Epoch 0 of 1:  79%|███████████████████████████████████████████████▎            | 30/38 [01:19<00:21,  2.66s/it]\u001b[A\n",
            "Running Epoch 0 of 1:  82%|████████████████████████████████████████████████▉           | 31/38 [01:22<00:18,  2.66s/it]\u001b[A\n",
            "Running Epoch 0 of 1:  84%|██████████████████████████████████████████████████▌         | 32/38 [01:25<00:15,  2.64s/it]\u001b[A\n",
            "Running Epoch 0 of 1:  87%|████████████████████████████████████████████████████        | 33/38 [01:27<00:13,  2.65s/it]\u001b[A\n",
            "Running Epoch 0 of 1:  89%|█████████████████████████████████████████████████████▋      | 34/38 [01:30<00:10,  2.65s/it]\u001b[A\n",
            "Running Epoch 0 of 1:  92%|███████████████████████████████████████████████████████▎    | 35/38 [01:33<00:07,  2.65s/it]\u001b[A\n",
            "Running Epoch 0 of 1:  95%|████████████████████████████████████████████████████████▊   | 36/38 [01:35<00:05,  2.65s/it]\u001b[A\n",
            "Running Epoch 0 of 1:  97%|██████████████████████████████████████████████████████████▍ | 37/38 [01:38<00:02,  2.67s/it]\u001b[A\n",
            "Running Epoch 0 of 1: 100%|████████████████████████████████████████████████████████████| 38/38 [01:40<00:00,  2.64s/it]\n",
            "Epoch 1 of 1: 100%|█████████████████████████████████████████████████████████████████████| 1/1 [01:40<00:00, 100.14s/it]\n",
            "C:\\Users\\Domenico\\.conda\\envs\\tf\\lib\\site-packages\\simpletransformers\\classification\\classification_model.py:1454: UserWarning: Dataframe headers not specified. Falling back to using column 0 as text and column 1 as labels.\n",
            "  warnings.warn(\n"
          ]
        },
        {
          "output_type": "stream",
          "name": "stdout",
          "text": [
            "\n",
            "NOW EVALUATE THE TEST DF.\n"
          ]
        },
        {
          "output_type": "stream",
          "name": "stderr",
          "text": [
            "  0%|▍                                                                                 | 1/200 [00:07<25:11,  7.60s/it]\n",
            "Running Evaluation: 100%|██████████████████████████████████████████████████████████████| 25/25 [00:16<00:00,  1.54it/s]\n",
            "C:\\Users\\Domenico\\.conda\\envs\\tf\\lib\\site-packages\\simpletransformers\\classification\\classification_model.py:612: UserWarning: Dataframe headers not specified. Falling back to using column 0 as text and column 1 as labels.\n",
            "  warnings.warn(\n"
          ]
        },
        {
          "output_type": "stream",
          "name": "stdout",
          "text": [
            "{'mcc': 0.31038822807949046, 'tp': 63, 'tn': 68, 'fp': 32, 'fn': 37, 'auroc': 0.7105, 'auprc': 0.6598909092415048, 'eval_loss': 1.4793945002555846}\n",
            "Correct predictions are:  131\n",
            "Total predictions are:  200\n",
            "Accuracy on test set is: 0.655 \n",
            "\n",
            "\n",
            "\n",
            "EPOCH NUMBER:  9\n",
            "\n",
            "NOW TRAIN THE MODEL.\n"
          ]
        },
        {
          "output_type": "stream",
          "name": "stderr",
          "text": [
            "  0%|▎                                                                                 | 1/300 [00:08<43:32,  8.74s/it]\n",
            "Epoch 1 of 1:   0%|                                                                              | 0/1 [00:00<?, ?it/s]\n",
            "Running Epoch 0 of 1:   0%|                                                                     | 0/38 [00:00<?, ?it/s]\u001b[A\n",
            "Running Epoch 0 of 1:   3%|█▌                                                           | 1/38 [00:02<01:37,  2.64s/it]\u001b[A\n",
            "Running Epoch 0 of 1:   5%|███▏                                                         | 2/38 [00:05<01:34,  2.63s/it]\u001b[A\n",
            "Running Epoch 0 of 1:   8%|████▊                                                        | 3/38 [00:08<01:33,  2.69s/it]\u001b[A\n",
            "Running Epoch 0 of 1:  11%|██████▍                                                      | 4/38 [00:10<01:30,  2.67s/it]\u001b[A\n",
            "Running Epoch 0 of 1:  13%|████████                                                     | 5/38 [00:13<01:28,  2.67s/it]\u001b[A\n",
            "Running Epoch 0 of 1:  16%|█████████▋                                                   | 6/38 [00:16<01:26,  2.69s/it]\u001b[A\n",
            "Running Epoch 0 of 1:  18%|███████████▏                                                 | 7/38 [00:18<01:23,  2.70s/it]\u001b[A\n",
            "Running Epoch 0 of 1:  21%|████████████▊                                                | 8/38 [00:21<01:20,  2.69s/it]\u001b[A\n",
            "Running Epoch 0 of 1:  24%|██████████████▍                                              | 9/38 [00:24<01:18,  2.69s/it]\u001b[A\n",
            "Running Epoch 0 of 1:  26%|███████████████▊                                            | 10/38 [00:26<01:15,  2.68s/it]\u001b[A\n",
            "Running Epoch 0 of 1:  29%|█████████████████▎                                          | 11/38 [00:29<01:12,  2.69s/it]\u001b[A\n",
            "Running Epoch 0 of 1:  32%|██████████████████▉                                         | 12/38 [00:32<01:09,  2.68s/it]\u001b[A\n",
            "Running Epoch 0 of 1:  34%|████████████████████▌                                       | 13/38 [00:34<01:06,  2.67s/it]\u001b[A\n",
            "Running Epoch 0 of 1:  37%|██████████████████████                                      | 14/38 [00:37<01:04,  2.70s/it]\u001b[A\n",
            "Running Epoch 0 of 1:  39%|███████████████████████▋                                    | 15/38 [00:40<01:01,  2.69s/it]\u001b[A\n",
            "Running Epoch 0 of 1:  42%|█████████████████████████▎                                  | 16/38 [00:42<00:59,  2.70s/it]\u001b[A\n",
            "Running Epoch 0 of 1:  45%|██████████████████████████▊                                 | 17/38 [00:45<00:56,  2.68s/it]\u001b[A\n",
            "Running Epoch 0 of 1:  47%|████████████████████████████▍                               | 18/38 [00:48<00:54,  2.70s/it]\u001b[A\n",
            "Running Epoch 0 of 1:  50%|██████████████████████████████                              | 19/38 [00:51<00:51,  2.71s/it]\u001b[A\n",
            "Running Epoch 0 of 1:  53%|███████████████████████████████▌                            | 20/38 [00:53<00:48,  2.69s/it]\u001b[A\n",
            "Running Epoch 0 of 1:  55%|█████████████████████████████████▏                          | 21/38 [00:56<00:45,  2.69s/it]\u001b[A\n",
            "Running Epoch 0 of 1:  58%|██████████████████████████████████▋                         | 22/38 [00:59<00:42,  2.68s/it]\u001b[A\n",
            "Running Epoch 0 of 1:  61%|████████████████████████████████████▎                       | 23/38 [01:01<00:40,  2.69s/it]\u001b[A\n",
            "Running Epoch 0 of 1:  63%|█████████████████████████████████████▉                      | 24/38 [01:04<00:37,  2.69s/it]\u001b[A\n",
            "Running Epoch 0 of 1:  66%|███████████████████████████████████████▍                    | 25/38 [01:07<00:34,  2.66s/it]\u001b[A\n",
            "Running Epoch 0 of 1:  68%|█████████████████████████████████████████                   | 26/38 [01:09<00:31,  2.64s/it]\u001b[A\n",
            "Running Epoch 0 of 1:  71%|██████████████████████████████████████████▋                 | 27/38 [01:12<00:29,  2.65s/it]\u001b[A\n",
            "Running Epoch 0 of 1:  74%|████████████████████████████████████████████▏               | 28/38 [01:15<00:26,  2.66s/it]\u001b[A\n",
            "Running Epoch 0 of 1:  76%|█████████████████████████████████████████████▊              | 29/38 [01:17<00:23,  2.64s/it]\u001b[A\n",
            "Running Epoch 0 of 1:  79%|███████████████████████████████████████████████▎            | 30/38 [01:20<00:21,  2.63s/it]\u001b[A\n",
            "Running Epoch 0 of 1:  82%|████████████████████████████████████████████████▉           | 31/38 [01:22<00:18,  2.64s/it]\u001b[A\n",
            "Running Epoch 0 of 1:  84%|██████████████████████████████████████████████████▌         | 32/38 [01:25<00:15,  2.65s/it]\u001b[A\n",
            "Running Epoch 0 of 1:  87%|████████████████████████████████████████████████████        | 33/38 [01:28<00:13,  2.65s/it]\u001b[A\n",
            "Running Epoch 0 of 1:  89%|█████████████████████████████████████████████████████▋      | 34/38 [01:30<00:10,  2.66s/it]\u001b[A\n",
            "Running Epoch 0 of 1:  92%|███████████████████████████████████████████████████████▎    | 35/38 [01:33<00:07,  2.65s/it]\u001b[A\n",
            "Running Epoch 0 of 1:  95%|████████████████████████████████████████████████████████▊   | 36/38 [01:36<00:05,  2.67s/it]\u001b[A\n",
            "Running Epoch 0 of 1:  97%|██████████████████████████████████████████████████████████▍ | 37/38 [01:38<00:02,  2.66s/it]\u001b[A\n",
            "Running Epoch 0 of 1: 100%|████████████████████████████████████████████████████████████| 38/38 [01:40<00:00,  2.65s/it]\n",
            "Epoch 1 of 1: 100%|█████████████████████████████████████████████████████████████████████| 1/1 [01:40<00:00, 100.63s/it]\n",
            "C:\\Users\\Domenico\\.conda\\envs\\tf\\lib\\site-packages\\simpletransformers\\classification\\classification_model.py:1454: UserWarning: Dataframe headers not specified. Falling back to using column 0 as text and column 1 as labels.\n",
            "  warnings.warn(\n"
          ]
        },
        {
          "output_type": "stream",
          "name": "stdout",
          "text": [
            "\n",
            "NOW EVALUATE THE TEST DF.\n"
          ]
        },
        {
          "output_type": "stream",
          "name": "stderr",
          "text": [
            "  0%|▍                                                                                 | 1/200 [00:07<24:43,  7.46s/it]\n",
            "Running Evaluation: 100%|██████████████████████████████████████████████████████████████| 25/25 [00:16<00:00,  1.54it/s]"
          ]
        },
        {
          "output_type": "stream",
          "name": "stdout",
          "text": [
            "{'mcc': 0.4018180173544301, 'tp': 88, 'tn': 49, 'fp': 51, 'fn': 12, 'auroc': 0.7102, 'auprc': 0.6594417211861696, 'eval_loss': 1.544718840122223}\n",
            "Correct predictions are:  137\n",
            "Total predictions are:  200\n",
            "Accuracy on test set is: 0.685 \n",
            "\n",
            "\n",
            "[0.59, 0.57, 0.635, 0.655, 0.65, 0.66, 0.695, 0.675, 0.655, 0.685]\n",
            "\n",
            "\n",
            " Over all runs maximum accuracies are: [0.68, 0.69, 0.695, 0.7, 0.72]\n",
            "The median is: 0.695\n",
            "RoBERTa Accuracy Score on Test set ->  0.695 +/- 0.025000000000000022\n"
          ]
        },
        {
          "output_type": "stream",
          "name": "stderr",
          "text": [
            "\n"
          ]
        }
      ]
    }
  ],
  "metadata": {
    "accelerator": "GPU",
    "colab": {
      "provenance": [],
      "include_colab_link": true
    },
    "kernelspec": {
      "display_name": "Python 3",
      "name": "python3"
    },
    "gpuClass": "standard"
  },
  "nbformat": 4,
  "nbformat_minor": 0
}