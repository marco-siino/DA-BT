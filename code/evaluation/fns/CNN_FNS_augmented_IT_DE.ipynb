{
  "cells": [
    {
      "cell_type": "markdown",
      "metadata": {
        "id": "view-in-github",
        "colab_type": "text"
      },
      "source": [
        "<a href=\"https://colab.research.google.com/github/marco-siino/DA-BT/blob/main/code/evaluation/fns/CNN_FNS_augmented_IT_DE.ipynb\" target=\"_parent\"><img src=\"https://colab.research.google.com/assets/colab-badge.svg\" alt=\"Open In Colab\"/></a>"
      ]
    },
    {
      "cell_type": "markdown",
      "metadata": {
        "id": "u-hLo5ufkCT1"
      },
      "source": [
        "## Investigating text data augmentation using back translation for author profiling\n",
        "- - - \n",
        "CNN ON FNS DS EXPERIMENTS NOTEBOOK \n",
        "- - -\n",
        "Convolutional Neural Network on Fake News Spreaders Dataset augmented with IT and DE backtranslation.\n",
        "Code by M. Siino. \n",
        "\n",
        "From the paper: \"Investigating text data augmentation using back translation for author profiling\" by M.Siino et al.\n",
        "\n"
      ]
    },
    {
      "cell_type": "markdown",
      "metadata": {
        "id": "6IBqUcj4cx2G"
      },
      "source": [
        "## Importing modules."
      ]
    },
    {
      "cell_type": "code",
      "execution_count": 1,
      "metadata": {
        "id": "AQSunQ-ucjLX",
        "colab": {
          "base_uri": "https://localhost:8080/"
        },
        "outputId": "7b20e6d3-74f1-4ffd-8fb9-5548ea65af2b"
      },
      "outputs": [
        {
          "output_type": "stream",
          "name": "stdout",
          "text": [
            "Fetching https://raw.githubusercontent.com/marco-siino/DA-BT/main/code/dataset.py\n",
            "Fetching https://raw.githubusercontent.com/marco-siino/DA-BT/main/code/vectorizer.py\n",
            "Fetching https://raw.githubusercontent.com/marco-siino/DA-BT/main/code/simulator.py\n"
          ]
        }
      ],
      "source": [
        "import matplotlib.pyplot as plt\n",
        "import os\n",
        "import random\n",
        "import re\n",
        "import shutil\n",
        "import string\n",
        "import tensorflow as tf\n",
        "from urllib import request\n",
        "\n",
        "\n",
        "import numpy as np\n",
        "\n",
        "from tensorflow.keras import layers\n",
        "from tensorflow.keras import losses\n",
        "from tensorflow.keras import preprocessing\n",
        "from keras.models import Model\n",
        "from tensorflow.keras.layers.experimental.preprocessing import TextVectorization\n",
        "\n",
        "# Import class Dataset\n",
        "module_url = f\"https://raw.githubusercontent.com/marco-siino/DA-BT/main/code/dataset.py\"\n",
        "module_name = module_url.split('/')[-1]\n",
        "print(f'Fetching {module_url}')\n",
        "with request.urlopen(module_url) as f, open(module_name,'w') as outf:\n",
        "  a = f.read()\n",
        "  outf.write(a.decode('utf-8'))\n",
        "from dataset import Dataset\n",
        "\n",
        "# Import class Vectorizer\n",
        "module_url = f\"https://raw.githubusercontent.com/marco-siino/DA-BT/main/code/vectorizer.py\"\n",
        "module_name = module_url.split('/')[-1]\n",
        "print(f'Fetching {module_url}')\n",
        "with request.urlopen(module_url) as f, open(module_name,'w') as outf:\n",
        "  a = f.read()\n",
        "  outf.write(a.decode('utf-8'))\n",
        "from vectorizer import Vectorizer\n",
        "\n",
        "# Import class Simulator\n",
        "module_url = f\"https://raw.githubusercontent.com/marco-siino/DA-BT/main/code/simulator.py\"\n",
        "module_name = module_url.split('/')[-1]\n",
        "print(f'Fetching {module_url}')\n",
        "with request.urlopen(module_url) as f, open(module_name,'w') as outf:\n",
        "  a = f.read()\n",
        "  outf.write(a.decode('utf-8'))\n",
        "from simulator import Simulator"
      ]
    },
    {
      "cell_type": "markdown",
      "source": [
        "## Fetch the dataset zips from GitHub and build up a Keras DS."
      ],
      "metadata": {
        "id": "ponyShZZABtv"
      }
    },
    {
      "cell_type": "code",
      "source": [
        "# Parameters of Dataset object are name of the ds used and augmentation language used.\n",
        "ds = Dataset('fns','mix-it-de')\n",
        "ds.build_ds(1)"
      ],
      "metadata": {
        "colab": {
          "base_uri": "https://localhost:8080/"
        },
        "id": "AvKprkqkzBIm",
        "outputId": "001daf12-9a19-44c1-e4cb-f95715a8b4c3"
      },
      "execution_count": 3,
      "outputs": [
        {
          "output_type": "stream",
          "name": "stdout",
          "text": [
            "Downloading data from https://github.com/marco-siino/DA-BT/raw/main/data/fns/fns-train-mix-it-de.zip\n",
            "2250769/2250769 [==============================] - 3s 1us/step\n",
            "Downloading data from https://github.com/marco-siino/DA-BT/raw/main/data/fns/fns-test-mix-it-de.zip\n",
            "1509960/1509960 [==============================] - 1s 1us/step\n",
            "Found 300 files belonging to 2 classes.\n",
            "Metal device set to: Apple M1\n",
            "Found 200 files belonging to 2 classes.\n"
          ]
        },
        {
          "output_type": "stream",
          "name": "stderr",
          "text": [
            "2023-04-04 10:50:02.663090: I tensorflow/core/common_runtime/pluggable_device/pluggable_device_factory.cc:306] Could not identify NUMA node of platform GPU ID 0, defaulting to 0. Your kernel may not have been built with NUMA support.\n",
            "2023-04-04 10:50:02.663586: I tensorflow/core/common_runtime/pluggable_device/pluggable_device_factory.cc:272] Created TensorFlow device (/job:localhost/replica:0/task:0/device:GPU:0 with 0 MB memory) -> physical PluggableDevice (device: 0, name: METAL, pci bus id: <undefined>)\n"
          ]
        }
      ]
    },
    {
      "cell_type": "markdown",
      "source": [
        "## Vectorize text accordingly to the train set."
      ],
      "metadata": {
        "id": "8Ga8vMTIANTh"
      }
    },
    {
      "cell_type": "code",
      "source": [
        "vct_layer_obj = Vectorizer(ds.train_set)"
      ],
      "metadata": {
        "colab": {
          "base_uri": "https://localhost:8080/"
        },
        "id": "6x-QXirtAAFU",
        "outputId": "8804db94-5f23-4bab-fa20-f0a3c77338bb"
      },
      "execution_count": 4,
      "outputs": [
        {
          "output_type": "stream",
          "name": "stderr",
          "text": [
            "2023-04-04 10:50:07.651822: W tensorflow/core/platform/profile_utils/cpu_utils.cc:128] Failed to get CPU frequency: 0 Hz\n",
            "2023-04-04 10:50:07.692892: I tensorflow/core/grappler/optimizers/custom_graph_optimizer_registry.cc:114] Plugin optimizer for device_type GPU is enabled.\n"
          ]
        },
        {
          "output_type": "stream",
          "name": "stdout",
          "text": [
            "Length of the longest sample is: 7166\n"
          ]
        },
        {
          "output_type": "stream",
          "name": "stderr",
          "text": [
            "2023-04-04 10:50:49.701682: I tensorflow/core/grappler/optimizers/custom_graph_optimizer_registry.cc:114] Plugin optimizer for device_type GPU is enabled.\n"
          ]
        },
        {
          "output_type": "stream",
          "name": "stdout",
          "text": [
            "\n",
            "Vocabulary size is: 98031\n"
          ]
        }
      ]
    },
    {
      "cell_type": "markdown",
      "source": [
        "## Run the simulation."
      ],
      "metadata": {
        "id": "ztD88sknARIV"
      }
    },
    {
      "cell_type": "code",
      "source": [
        "simulator = Simulator (\"cnn\",5,20,ds.train_set,ds.test_set,vct_layer_obj.vectorize_layer)\n",
        "simulator.run()"
      ],
      "metadata": {
        "colab": {
          "base_uri": "https://localhost:8080/"
        },
        "id": "rGT_dzZb94eM",
        "outputId": "4e9071ff-e3ba-4d9c-a9dc-b557c7b0cb18"
      },
      "execution_count": 5,
      "outputs": [
        {
          "output_type": "stream",
          "name": "stdout",
          "text": [
            "\n",
            "Setup for shallow model completed.\n"
          ]
        },
        {
          "output_type": "stream",
          "name": "stderr",
          "text": [
            "2023-04-04 10:50:50.901287: I tensorflow/core/grappler/optimizers/custom_graph_optimizer_registry.cc:114] Plugin optimizer for device_type GPU is enabled.\n"
          ]
        },
        {
          "output_type": "stream",
          "name": "stdout",
          "text": [
            "300/300 [==============================] - ETA: 0s - loss: 0.7371 - binary_accuracy: 0.5533"
          ]
        },
        {
          "output_type": "stream",
          "name": "stderr",
          "text": [
            "2023-04-04 10:51:08.659308: I tensorflow/core/grappler/optimizers/custom_graph_optimizer_registry.cc:114] Plugin optimizer for device_type GPU is enabled.\n"
          ]
        },
        {
          "output_type": "stream",
          "name": "stdout",
          "text": [
            "300/300 [==============================] - 21s 59ms/step - loss: 0.7371 - binary_accuracy: 0.5533 - val_loss: 0.6528 - val_binary_accuracy: 0.6050\n",
            "Run:  1 / Accuracy on test set at epoch  0  is:  0.6049999594688416 \n",
            "\n",
            "300/300 [==============================] - 17s 56ms/step - loss: 0.3781 - binary_accuracy: 0.8300 - val_loss: 0.8678 - val_binary_accuracy: 0.6550\n",
            "Run:  1 / Accuracy on test set at epoch  1  is:  0.6549999713897705 \n",
            "\n",
            "300/300 [==============================] - 17s 56ms/step - loss: 0.0665 - binary_accuracy: 0.9767 - val_loss: 1.6402 - val_binary_accuracy: 0.6750\n",
            "Run:  1 / Accuracy on test set at epoch  2  is:  0.675000011920929 \n",
            "\n",
            "300/300 [==============================] - 17s 56ms/step - loss: 4.8839e-04 - binary_accuracy: 1.0000 - val_loss: 3.7266 - val_binary_accuracy: 0.5600\n",
            "Run:  1 / Accuracy on test set at epoch  3  is:  0.5600000023841858 \n",
            "\n",
            "300/300 [==============================] - 17s 56ms/step - loss: 4.6383e-07 - binary_accuracy: 1.0000 - val_loss: 2.3058 - val_binary_accuracy: 0.6500\n",
            "Run:  1 / Accuracy on test set at epoch  4  is:  0.6499999761581421 \n",
            "\n",
            "300/300 [==============================] - 17s 56ms/step - loss: 1.1017e-09 - binary_accuracy: 1.0000 - val_loss: 1.7185 - val_binary_accuracy: 0.7100\n",
            "Run:  1 / Accuracy on test set at epoch  5  is:  0.7099999785423279 \n",
            "\n",
            "300/300 [==============================] - 17s 56ms/step - loss: 1.1017e-09 - binary_accuracy: 1.0000 - val_loss: 1.7452 - val_binary_accuracy: 0.6950\n",
            "Run:  1 / Accuracy on test set at epoch  6  is:  0.6949999928474426 \n",
            "\n",
            "300/300 [==============================] - 17s 56ms/step - loss: 5.5086e-10 - binary_accuracy: 1.0000 - val_loss: 1.7718 - val_binary_accuracy: 0.7100\n",
            "Run:  1 / Accuracy on test set at epoch  7  is:  0.7099999785423279 \n",
            "\n",
            "300/300 [==============================] - 17s 56ms/step - loss: 1.3772e-09 - binary_accuracy: 1.0000 - val_loss: 1.8199 - val_binary_accuracy: 0.7200\n",
            "Run:  1 / Accuracy on test set at epoch  8  is:  0.7199999690055847 \n",
            "\n",
            "300/300 [==============================] - 17s 58ms/step - loss: 0.0000e+00 - binary_accuracy: 1.0000 - val_loss: 1.8342 - val_binary_accuracy: 0.7200\n",
            "Run:  1 / Accuracy on test set at epoch  9  is:  0.7199999690055847 \n",
            "\n",
            "300/300 [==============================] - 17s 56ms/step - loss: 8.2630e-10 - binary_accuracy: 1.0000 - val_loss: 1.8824 - val_binary_accuracy: 0.7100\n",
            "Run:  1 / Accuracy on test set at epoch  10  is:  0.7099999785423279 \n",
            "\n",
            "300/300 [==============================] - 17s 56ms/step - loss: 0.0000e+00 - binary_accuracy: 1.0000 - val_loss: 1.8416 - val_binary_accuracy: 0.7200\n",
            "Run:  1 / Accuracy on test set at epoch  11  is:  0.7199999690055847 \n",
            "\n",
            "300/300 [==============================] - 17s 57ms/step - loss: 5.5086e-10 - binary_accuracy: 1.0000 - val_loss: 1.8527 - val_binary_accuracy: 0.7250\n",
            "Run:  1 / Accuracy on test set at epoch  12  is:  0.7249999642372131 \n",
            "\n",
            "300/300 [==============================] - 17s 56ms/step - loss: 0.0000e+00 - binary_accuracy: 1.0000 - val_loss: 1.8776 - val_binary_accuracy: 0.7200\n",
            "Run:  1 / Accuracy on test set at epoch  13  is:  0.7199999690055847 \n",
            "\n",
            "300/300 [==============================] - 17s 57ms/step - loss: 0.0000e+00 - binary_accuracy: 1.0000 - val_loss: 1.8665 - val_binary_accuracy: 0.7350\n",
            "Run:  1 / Accuracy on test set at epoch  14  is:  0.73499995470047 \n",
            "\n",
            "300/300 [==============================] - 17s 56ms/step - loss: 0.0000e+00 - binary_accuracy: 1.0000 - val_loss: 1.8870 - val_binary_accuracy: 0.7250\n",
            "Run:  1 / Accuracy on test set at epoch  15  is:  0.7249999642372131 \n",
            "\n",
            "300/300 [==============================] - 17s 56ms/step - loss: 0.0000e+00 - binary_accuracy: 1.0000 - val_loss: 1.8779 - val_binary_accuracy: 0.7350\n",
            "Run:  1 / Accuracy on test set at epoch  16  is:  0.73499995470047 \n",
            "\n",
            "300/300 [==============================] - 17s 55ms/step - loss: 0.0000e+00 - binary_accuracy: 1.0000 - val_loss: 1.8946 - val_binary_accuracy: 0.7200\n",
            "Run:  1 / Accuracy on test set at epoch  17  is:  0.7199999690055847 \n",
            "\n",
            "300/300 [==============================] - 17s 55ms/step - loss: 0.0000e+00 - binary_accuracy: 1.0000 - val_loss: 1.8934 - val_binary_accuracy: 0.7250\n",
            "Run:  1 / Accuracy on test set at epoch  18  is:  0.7249999642372131 \n",
            "\n",
            "300/300 [==============================] - 17s 55ms/step - loss: 0.0000e+00 - binary_accuracy: 1.0000 - val_loss: 1.9075 - val_binary_accuracy: 0.7200\n",
            "Run:  1 / Accuracy on test set at epoch  19  is:  0.7199999690055847 \n",
            "\n",
            "Accuracies over epochs: [0.6049999594688416, 0.6549999713897705, 0.675000011920929, 0.5600000023841858, 0.6499999761581421, 0.7099999785423279, 0.6949999928474426, 0.7099999785423279, 0.7199999690055847, 0.7199999690055847, 0.7099999785423279, 0.7199999690055847, 0.7249999642372131, 0.7199999690055847, 0.73499995470047, 0.7249999642372131, 0.73499995470047, 0.7199999690055847, 0.7249999642372131, 0.7199999690055847] \n",
            "\n"
          ]
        },
        {
          "output_type": "stream",
          "name": "stderr",
          "text": [
            "2023-04-04 10:56:31.205783: I tensorflow/core/grappler/optimizers/custom_graph_optimizer_registry.cc:114] Plugin optimizer for device_type GPU is enabled.\n"
          ]
        },
        {
          "output_type": "stream",
          "name": "stdout",
          "text": [
            "300/300 [==============================] - ETA: 0s - loss: 0.7302 - binary_accuracy: 0.5467"
          ]
        },
        {
          "output_type": "stream",
          "name": "stderr",
          "text": [
            "2023-04-04 10:56:50.344053: I tensorflow/core/grappler/optimizers/custom_graph_optimizer_registry.cc:114] Plugin optimizer for device_type GPU is enabled.\n"
          ]
        },
        {
          "output_type": "stream",
          "name": "stdout",
          "text": [
            "300/300 [==============================] - 23s 73ms/step - loss: 0.7302 - binary_accuracy: 0.5467 - val_loss: 0.6603 - val_binary_accuracy: 0.5800\n",
            "Run:  2 / Accuracy on test set at epoch  0  is:  0.5799999833106995 \n",
            "\n",
            "300/300 [==============================] - 17s 57ms/step - loss: 0.3767 - binary_accuracy: 0.8467 - val_loss: 0.8469 - val_binary_accuracy: 0.6750\n",
            "Run:  2 / Accuracy on test set at epoch  1  is:  0.675000011920929 \n",
            "\n",
            "300/300 [==============================] - 17s 58ms/step - loss: 0.0567 - binary_accuracy: 0.9767 - val_loss: 2.1214 - val_binary_accuracy: 0.6400\n",
            "Run:  2 / Accuracy on test set at epoch  2  is:  0.6399999856948853 \n",
            "\n",
            "300/300 [==============================] - 17s 56ms/step - loss: 8.3049e-04 - binary_accuracy: 1.0000 - val_loss: 4.2640 - val_binary_accuracy: 0.5450\n",
            "Run:  2 / Accuracy on test set at epoch  3  is:  0.5450000166893005 \n",
            "\n",
            "300/300 [==============================] - 17s 58ms/step - loss: 3.1559e-06 - binary_accuracy: 1.0000 - val_loss: 1.8872 - val_binary_accuracy: 0.6800\n",
            "Run:  2 / Accuracy on test set at epoch  4  is:  0.6800000071525574 \n",
            "\n",
            "300/300 [==============================] - 17s 57ms/step - loss: 6.8858e-09 - binary_accuracy: 1.0000 - val_loss: 2.2361 - val_binary_accuracy: 0.6750\n",
            "Run:  2 / Accuracy on test set at epoch  5  is:  0.675000011920929 \n",
            "\n",
            "300/300 [==============================] - 17s 56ms/step - loss: 0.0000e+00 - binary_accuracy: 1.0000 - val_loss: 1.8031 - val_binary_accuracy: 0.6900\n",
            "Run:  2 / Accuracy on test set at epoch  6  is:  0.6899999976158142 \n",
            "\n",
            "300/300 [==============================] - 17s 57ms/step - loss: 0.0000e+00 - binary_accuracy: 1.0000 - val_loss: 1.8809 - val_binary_accuracy: 0.6900\n",
            "Run:  2 / Accuracy on test set at epoch  7  is:  0.6899999976158142 \n",
            "\n",
            "300/300 [==============================] - 17s 57ms/step - loss: 5.5086e-10 - binary_accuracy: 1.0000 - val_loss: 1.9343 - val_binary_accuracy: 0.6900\n",
            "Run:  2 / Accuracy on test set at epoch  8  is:  0.6899999976158142 \n",
            "\n",
            "300/300 [==============================] - 18s 58ms/step - loss: 0.0000e+00 - binary_accuracy: 1.0000 - val_loss: 1.7203 - val_binary_accuracy: 0.7200\n",
            "Run:  2 / Accuracy on test set at epoch  9  is:  0.7199999690055847 \n",
            "\n",
            "300/300 [==============================] - 17s 57ms/step - loss: 8.2630e-10 - binary_accuracy: 1.0000 - val_loss: 1.7493 - val_binary_accuracy: 0.7300\n",
            "Run:  2 / Accuracy on test set at epoch  10  is:  0.7299999594688416 \n",
            "\n",
            "300/300 [==============================] - 17s 57ms/step - loss: 8.2630e-10 - binary_accuracy: 1.0000 - val_loss: 1.7735 - val_binary_accuracy: 0.7300\n",
            "Run:  2 / Accuracy on test set at epoch  11  is:  0.7299999594688416 \n",
            "\n",
            "300/300 [==============================] - 17s 56ms/step - loss: 0.0000e+00 - binary_accuracy: 1.0000 - val_loss: 1.7494 - val_binary_accuracy: 0.7250\n",
            "Run:  2 / Accuracy on test set at epoch  12  is:  0.7249999642372131 \n",
            "\n",
            "300/300 [==============================] - 17s 57ms/step - loss: 0.0000e+00 - binary_accuracy: 1.0000 - val_loss: 1.7915 - val_binary_accuracy: 0.7300\n",
            "Run:  2 / Accuracy on test set at epoch  13  is:  0.7299999594688416 \n",
            "\n",
            "300/300 [==============================] - 17s 56ms/step - loss: 0.0000e+00 - binary_accuracy: 1.0000 - val_loss: 1.7681 - val_binary_accuracy: 0.7250\n",
            "Run:  2 / Accuracy on test set at epoch  14  is:  0.7249999642372131 \n",
            "\n",
            "300/300 [==============================] - 17s 56ms/step - loss: 0.0000e+00 - binary_accuracy: 1.0000 - val_loss: 1.8170 - val_binary_accuracy: 0.7300\n",
            "Run:  2 / Accuracy on test set at epoch  15  is:  0.7299999594688416 \n",
            "\n",
            "300/300 [==============================] - 17s 56ms/step - loss: 0.0000e+00 - binary_accuracy: 1.0000 - val_loss: 1.7879 - val_binary_accuracy: 0.7250\n",
            "Run:  2 / Accuracy on test set at epoch  16  is:  0.7249999642372131 \n",
            "\n",
            "300/300 [==============================] - 17s 56ms/step - loss: 0.0000e+00 - binary_accuracy: 1.0000 - val_loss: 1.7789 - val_binary_accuracy: 0.7250\n",
            "Run:  2 / Accuracy on test set at epoch  17  is:  0.7249999642372131 \n",
            "\n",
            "300/300 [==============================] - 17s 57ms/step - loss: 0.0000e+00 - binary_accuracy: 1.0000 - val_loss: 1.7766 - val_binary_accuracy: 0.7350\n",
            "Run:  2 / Accuracy on test set at epoch  18  is:  0.73499995470047 \n",
            "\n",
            "300/300 [==============================] - 17s 55ms/step - loss: 0.0000e+00 - binary_accuracy: 1.0000 - val_loss: 1.8353 - val_binary_accuracy: 0.7300\n",
            "Run:  2 / Accuracy on test set at epoch  19  is:  0.7299999594688416 \n",
            "\n",
            "Accuracies over epochs: [0.5799999833106995, 0.675000011920929, 0.6399999856948853, 0.5450000166893005, 0.6800000071525574, 0.675000011920929, 0.6899999976158142, 0.6899999976158142, 0.6899999976158142, 0.7199999690055847, 0.7299999594688416, 0.7299999594688416, 0.7249999642372131, 0.7299999594688416, 0.7249999642372131, 0.7299999594688416, 0.7249999642372131, 0.7249999642372131, 0.73499995470047, 0.7299999594688416] \n",
            "\n"
          ]
        },
        {
          "output_type": "stream",
          "name": "stderr",
          "text": [
            "2023-04-04 11:02:17.417850: I tensorflow/core/grappler/optimizers/custom_graph_optimizer_registry.cc:114] Plugin optimizer for device_type GPU is enabled.\n"
          ]
        },
        {
          "output_type": "stream",
          "name": "stdout",
          "text": [
            "300/300 [==============================] - ETA: 0s - loss: 0.7339 - binary_accuracy: 0.5433"
          ]
        },
        {
          "output_type": "stream",
          "name": "stderr",
          "text": [
            "2023-04-04 11:02:41.605213: I tensorflow/core/grappler/optimizers/custom_graph_optimizer_registry.cc:114] Plugin optimizer for device_type GPU is enabled.\n"
          ]
        },
        {
          "output_type": "stream",
          "name": "stdout",
          "text": [
            "300/300 [==============================] - 28s 88ms/step - loss: 0.7339 - binary_accuracy: 0.5433 - val_loss: 0.6637 - val_binary_accuracy: 0.5800\n",
            "Run:  3 / Accuracy on test set at epoch  0  is:  0.5799999833106995 \n",
            "\n",
            "300/300 [==============================] - 17s 57ms/step - loss: 0.3916 - binary_accuracy: 0.8233 - val_loss: 0.9042 - val_binary_accuracy: 0.6750\n",
            "Run:  3 / Accuracy on test set at epoch  1  is:  0.675000011920929 \n",
            "\n",
            "300/300 [==============================] - 17s 57ms/step - loss: 0.0493 - binary_accuracy: 0.9733 - val_loss: 2.9158 - val_binary_accuracy: 0.5750\n",
            "Run:  3 / Accuracy on test set at epoch  2  is:  0.574999988079071 \n",
            "\n",
            "300/300 [==============================] - 17s 57ms/step - loss: 0.0059 - binary_accuracy: 0.9967 - val_loss: 1.8127 - val_binary_accuracy: 0.6600\n",
            "Run:  3 / Accuracy on test set at epoch  3  is:  0.6599999666213989 \n",
            "\n",
            "300/300 [==============================] - 17s 57ms/step - loss: 1.7325e-07 - binary_accuracy: 1.0000 - val_loss: 1.6854 - val_binary_accuracy: 0.7100\n",
            "Run:  3 / Accuracy on test set at epoch  4  is:  0.7099999785423279 \n",
            "\n",
            "300/300 [==============================] - 17s 57ms/step - loss: 7.7121e-09 - binary_accuracy: 1.0000 - val_loss: 1.7878 - val_binary_accuracy: 0.7150\n",
            "Run:  3 / Accuracy on test set at epoch  5  is:  0.7149999737739563 \n",
            "\n",
            "300/300 [==============================] - 17s 57ms/step - loss: 5.5086e-10 - binary_accuracy: 1.0000 - val_loss: 1.7986 - val_binary_accuracy: 0.7150\n",
            "Run:  3 / Accuracy on test set at epoch  6  is:  0.7149999737739563 \n",
            "\n",
            "300/300 [==============================] - 17s 57ms/step - loss: 0.0000e+00 - binary_accuracy: 1.0000 - val_loss: 1.8052 - val_binary_accuracy: 0.7150\n",
            "Run:  3 / Accuracy on test set at epoch  7  is:  0.7149999737739563 \n",
            "\n",
            "300/300 [==============================] - 17s 58ms/step - loss: 0.0000e+00 - binary_accuracy: 1.0000 - val_loss: 1.8066 - val_binary_accuracy: 0.7150\n",
            "Run:  3 / Accuracy on test set at epoch  8  is:  0.7149999737739563 \n",
            "\n",
            "300/300 [==============================] - 17s 57ms/step - loss: 0.0000e+00 - binary_accuracy: 1.0000 - val_loss: 1.8088 - val_binary_accuracy: 0.7150\n",
            "Run:  3 / Accuracy on test set at epoch  9  is:  0.7149999737739563 \n",
            "\n",
            "300/300 [==============================] - 17s 57ms/step - loss: 0.0000e+00 - binary_accuracy: 1.0000 - val_loss: 1.8085 - val_binary_accuracy: 0.7100\n",
            "Run:  3 / Accuracy on test set at epoch  10  is:  0.7099999785423279 \n",
            "\n",
            "300/300 [==============================] - 17s 57ms/step - loss: 0.0000e+00 - binary_accuracy: 1.0000 - val_loss: 1.8290 - val_binary_accuracy: 0.7000\n",
            "Run:  3 / Accuracy on test set at epoch  11  is:  0.699999988079071 \n",
            "\n",
            "300/300 [==============================] - 17s 56ms/step - loss: 0.0000e+00 - binary_accuracy: 1.0000 - val_loss: 1.8506 - val_binary_accuracy: 0.7100\n",
            "Run:  3 / Accuracy on test set at epoch  12  is:  0.7099999785423279 \n",
            "\n",
            "300/300 [==============================] - 17s 57ms/step - loss: 0.0000e+00 - binary_accuracy: 1.0000 - val_loss: 1.8210 - val_binary_accuracy: 0.7150\n",
            "Run:  3 / Accuracy on test set at epoch  13  is:  0.7149999737739563 \n",
            "\n",
            "300/300 [==============================] - 17s 56ms/step - loss: 0.0000e+00 - binary_accuracy: 1.0000 - val_loss: 1.8398 - val_binary_accuracy: 0.7050\n",
            "Run:  3 / Accuracy on test set at epoch  14  is:  0.7049999833106995 \n",
            "\n",
            "300/300 [==============================] - 17s 56ms/step - loss: 0.0000e+00 - binary_accuracy: 1.0000 - val_loss: 1.8587 - val_binary_accuracy: 0.7150\n",
            "Run:  3 / Accuracy on test set at epoch  15  is:  0.7149999737739563 \n",
            "\n",
            "300/300 [==============================] - 17s 56ms/step - loss: 0.0000e+00 - binary_accuracy: 1.0000 - val_loss: 1.8759 - val_binary_accuracy: 0.7100\n",
            "Run:  3 / Accuracy on test set at epoch  16  is:  0.7099999785423279 \n",
            "\n",
            "300/300 [==============================] - 17s 56ms/step - loss: 0.0000e+00 - binary_accuracy: 1.0000 - val_loss: 1.8915 - val_binary_accuracy: 0.7000\n",
            "Run:  3 / Accuracy on test set at epoch  17  is:  0.699999988079071 \n",
            "\n",
            "300/300 [==============================] - 17s 56ms/step - loss: 0.0000e+00 - binary_accuracy: 1.0000 - val_loss: 1.8366 - val_binary_accuracy: 0.7100\n",
            "Run:  3 / Accuracy on test set at epoch  18  is:  0.7099999785423279 \n",
            "\n",
            "300/300 [==============================] - 17s 56ms/step - loss: 0.0000e+00 - binary_accuracy: 1.0000 - val_loss: 1.8530 - val_binary_accuracy: 0.7050\n",
            "Run:  3 / Accuracy on test set at epoch  19  is:  0.7049999833106995 \n",
            "\n",
            "Accuracies over epochs: [0.5799999833106995, 0.675000011920929, 0.574999988079071, 0.6599999666213989, 0.7099999785423279, 0.7149999737739563, 0.7149999737739563, 0.7149999737739563, 0.7149999737739563, 0.7149999737739563, 0.7099999785423279, 0.699999988079071, 0.7099999785423279, 0.7149999737739563, 0.7049999833106995, 0.7149999737739563, 0.7099999785423279, 0.699999988079071, 0.7099999785423279, 0.7049999833106995] \n",
            "\n"
          ]
        },
        {
          "output_type": "stream",
          "name": "stderr",
          "text": [
            "2023-04-04 11:08:08.373644: I tensorflow/core/grappler/optimizers/custom_graph_optimizer_registry.cc:114] Plugin optimizer for device_type GPU is enabled.\n"
          ]
        },
        {
          "output_type": "stream",
          "name": "stdout",
          "text": [
            "300/300 [==============================] - ETA: 0s - loss: 0.7345 - binary_accuracy: 0.5367"
          ]
        },
        {
          "output_type": "stream",
          "name": "stderr",
          "text": [
            "2023-04-04 11:08:35.582635: I tensorflow/core/grappler/optimizers/custom_graph_optimizer_registry.cc:114] Plugin optimizer for device_type GPU is enabled.\n"
          ]
        },
        {
          "output_type": "stream",
          "name": "stdout",
          "text": [
            "300/300 [==============================] - 31s 99ms/step - loss: 0.7345 - binary_accuracy: 0.5367 - val_loss: 0.6581 - val_binary_accuracy: 0.6050\n",
            "Run:  4 / Accuracy on test set at epoch  0  is:  0.6049999594688416 \n",
            "\n",
            "300/300 [==============================] - 18s 60ms/step - loss: 0.4124 - binary_accuracy: 0.8133 - val_loss: 0.7286 - val_binary_accuracy: 0.7200\n",
            "Run:  4 / Accuracy on test set at epoch  1  is:  0.7199999690055847 \n",
            "\n",
            "300/300 [==============================] - 18s 61ms/step - loss: 0.0522 - binary_accuracy: 0.9800 - val_loss: 1.3341 - val_binary_accuracy: 0.7050\n",
            "Run:  4 / Accuracy on test set at epoch  2  is:  0.7049999833106995 \n",
            "\n",
            "300/300 [==============================] - 18s 60ms/step - loss: 4.1869e-04 - binary_accuracy: 1.0000 - val_loss: 2.2309 - val_binary_accuracy: 0.6650\n",
            "Run:  4 / Accuracy on test set at epoch  3  is:  0.6649999618530273 \n",
            "\n",
            "300/300 [==============================] - 18s 60ms/step - loss: 8.2327e-07 - binary_accuracy: 1.0000 - val_loss: 1.7614 - val_binary_accuracy: 0.6850\n",
            "Run:  4 / Accuracy on test set at epoch  4  is:  0.6850000023841858 \n",
            "\n",
            "300/300 [==============================] - 18s 60ms/step - loss: 3.9111e-08 - binary_accuracy: 1.0000 - val_loss: 2.2625 - val_binary_accuracy: 0.6850\n",
            "Run:  4 / Accuracy on test set at epoch  5  is:  0.6850000023841858 \n",
            "\n",
            "300/300 [==============================] - 18s 59ms/step - loss: 1.9280e-09 - binary_accuracy: 1.0000 - val_loss: 1.8818 - val_binary_accuracy: 0.6850\n",
            "Run:  4 / Accuracy on test set at epoch  6  is:  0.6850000023841858 \n",
            "\n",
            "300/300 [==============================] - 18s 59ms/step - loss: 1.6526e-09 - binary_accuracy: 1.0000 - val_loss: 1.9918 - val_binary_accuracy: 0.7050\n",
            "Run:  4 / Accuracy on test set at epoch  7  is:  0.7049999833106995 \n",
            "\n",
            "300/300 [==============================] - 18s 58ms/step - loss: 5.5086e-10 - binary_accuracy: 1.0000 - val_loss: 1.8462 - val_binary_accuracy: 0.7050\n",
            "Run:  4 / Accuracy on test set at epoch  8  is:  0.7049999833106995 \n",
            "\n",
            "300/300 [==============================] - 18s 60ms/step - loss: 5.5086e-10 - binary_accuracy: 1.0000 - val_loss: 1.8635 - val_binary_accuracy: 0.7100\n",
            "Run:  4 / Accuracy on test set at epoch  9  is:  0.7099999785423279 \n",
            "\n",
            "300/300 [==============================] - 18s 58ms/step - loss: 0.0000e+00 - binary_accuracy: 1.0000 - val_loss: 1.9929 - val_binary_accuracy: 0.7150\n",
            "Run:  4 / Accuracy on test set at epoch  10  is:  0.7149999737739563 \n",
            "\n",
            "300/300 [==============================] - 17s 58ms/step - loss: 5.5086e-10 - binary_accuracy: 1.0000 - val_loss: 1.9796 - val_binary_accuracy: 0.7200\n",
            "Run:  4 / Accuracy on test set at epoch  11  is:  0.7199999690055847 \n",
            "\n",
            "300/300 [==============================] - 17s 58ms/step - loss: 5.5086e-10 - binary_accuracy: 1.0000 - val_loss: 1.9773 - val_binary_accuracy: 0.7200\n",
            "Run:  4 / Accuracy on test set at epoch  12  is:  0.7199999690055847 \n",
            "\n",
            "300/300 [==============================] - 17s 58ms/step - loss: 0.0000e+00 - binary_accuracy: 1.0000 - val_loss: 1.9086 - val_binary_accuracy: 0.7150\n",
            "Run:  4 / Accuracy on test set at epoch  13  is:  0.7149999737739563 \n",
            "\n",
            "300/300 [==============================] - 17s 58ms/step - loss: 0.0000e+00 - binary_accuracy: 1.0000 - val_loss: 1.9860 - val_binary_accuracy: 0.7200\n",
            "Run:  4 / Accuracy on test set at epoch  14  is:  0.7199999690055847 \n",
            "\n",
            "300/300 [==============================] - 17s 58ms/step - loss: 0.0000e+00 - binary_accuracy: 1.0000 - val_loss: 1.9772 - val_binary_accuracy: 0.7200\n",
            "Run:  4 / Accuracy on test set at epoch  15  is:  0.7199999690055847 \n",
            "\n",
            "300/300 [==============================] - 17s 58ms/step - loss: 0.0000e+00 - binary_accuracy: 1.0000 - val_loss: 2.0247 - val_binary_accuracy: 0.7150\n",
            "Run:  4 / Accuracy on test set at epoch  16  is:  0.7149999737739563 \n",
            "\n",
            "300/300 [==============================] - 17s 57ms/step - loss: 0.0000e+00 - binary_accuracy: 1.0000 - val_loss: 2.0606 - val_binary_accuracy: 0.7100\n",
            "Run:  4 / Accuracy on test set at epoch  17  is:  0.7099999785423279 \n",
            "\n",
            "300/300 [==============================] - 17s 57ms/step - loss: 0.0000e+00 - binary_accuracy: 1.0000 - val_loss: 2.0898 - val_binary_accuracy: 0.7000\n",
            "Run:  4 / Accuracy on test set at epoch  18  is:  0.699999988079071 \n",
            "\n",
            "300/300 [==============================] - 17s 56ms/step - loss: 0.0000e+00 - binary_accuracy: 1.0000 - val_loss: 1.9929 - val_binary_accuracy: 0.7200\n",
            "Run:  4 / Accuracy on test set at epoch  19  is:  0.7199999690055847 \n",
            "\n",
            "Accuracies over epochs: [0.6049999594688416, 0.7199999690055847, 0.7049999833106995, 0.6649999618530273, 0.6850000023841858, 0.6850000023841858, 0.6850000023841858, 0.7049999833106995, 0.7049999833106995, 0.7099999785423279, 0.7149999737739563, 0.7199999690055847, 0.7199999690055847, 0.7149999737739563, 0.7199999690055847, 0.7199999690055847, 0.7149999737739563, 0.7099999785423279, 0.699999988079071, 0.7199999690055847] \n",
            "\n"
          ]
        },
        {
          "output_type": "stream",
          "name": "stderr",
          "text": [
            "2023-04-04 11:14:13.524045: I tensorflow/core/grappler/optimizers/custom_graph_optimizer_registry.cc:114] Plugin optimizer for device_type GPU is enabled.\n"
          ]
        },
        {
          "output_type": "stream",
          "name": "stdout",
          "text": [
            "300/300 [==============================] - ETA: 0s - loss: 0.7324 - binary_accuracy: 0.5433"
          ]
        },
        {
          "output_type": "stream",
          "name": "stderr",
          "text": [
            "2023-04-04 11:14:45.881564: I tensorflow/core/grappler/optimizers/custom_graph_optimizer_registry.cc:114] Plugin optimizer for device_type GPU is enabled.\n"
          ]
        },
        {
          "output_type": "stream",
          "name": "stdout",
          "text": [
            "300/300 [==============================] - 36s 116ms/step - loss: 0.7324 - binary_accuracy: 0.5433 - val_loss: 0.6627 - val_binary_accuracy: 0.5900\n",
            "Run:  5 / Accuracy on test set at epoch  0  is:  0.5899999737739563 \n",
            "\n",
            "300/300 [==============================] - 19s 64ms/step - loss: 0.3923 - binary_accuracy: 0.8200 - val_loss: 0.7601 - val_binary_accuracy: 0.7100\n",
            "Run:  5 / Accuracy on test set at epoch  1  is:  0.7099999785423279 \n",
            "\n",
            "300/300 [==============================] - 19s 62ms/step - loss: 0.0522 - binary_accuracy: 0.9833 - val_loss: 2.7592 - val_binary_accuracy: 0.5950\n",
            "Run:  5 / Accuracy on test set at epoch  2  is:  0.5949999690055847 \n",
            "\n",
            "300/300 [==============================] - 19s 62ms/step - loss: 6.6927e-04 - binary_accuracy: 1.0000 - val_loss: 2.7734 - val_binary_accuracy: 0.5950\n",
            "Run:  5 / Accuracy on test set at epoch  3  is:  0.5949999690055847 \n",
            "\n",
            "300/300 [==============================] - 19s 63ms/step - loss: 6.4231e-07 - binary_accuracy: 1.0000 - val_loss: 1.7167 - val_binary_accuracy: 0.6950\n",
            "Run:  5 / Accuracy on test set at epoch  4  is:  0.6949999928474426 \n",
            "\n",
            "300/300 [==============================] - 18s 60ms/step - loss: 2.4431e-07 - binary_accuracy: 1.0000 - val_loss: 1.7622 - val_binary_accuracy: 0.7200\n",
            "Run:  5 / Accuracy on test set at epoch  5  is:  0.7199999690055847 \n",
            "\n",
            "300/300 [==============================] - 18s 60ms/step - loss: 5.5086e-10 - binary_accuracy: 1.0000 - val_loss: 1.7784 - val_binary_accuracy: 0.7150\n",
            "Run:  5 / Accuracy on test set at epoch  6  is:  0.7149999737739563 \n",
            "\n",
            "300/300 [==============================] - 18s 59ms/step - loss: 5.5086e-10 - binary_accuracy: 1.0000 - val_loss: 1.7687 - val_binary_accuracy: 0.7250\n",
            "Run:  5 / Accuracy on test set at epoch  7  is:  0.7249999642372131 \n",
            "\n",
            "300/300 [==============================] - 17s 58ms/step - loss: 5.5086e-10 - binary_accuracy: 1.0000 - val_loss: 1.7792 - val_binary_accuracy: 0.7150\n",
            "Run:  5 / Accuracy on test set at epoch  8  is:  0.7149999737739563 \n",
            "\n",
            "300/300 [==============================] - 18s 59ms/step - loss: 0.0000e+00 - binary_accuracy: 1.0000 - val_loss: 1.8689 - val_binary_accuracy: 0.7100\n",
            "Run:  5 / Accuracy on test set at epoch  9  is:  0.7099999785423279 \n",
            "\n",
            "300/300 [==============================] - 17s 58ms/step - loss: 5.5086e-10 - binary_accuracy: 1.0000 - val_loss: 1.8742 - val_binary_accuracy: 0.7300\n",
            "Run:  5 / Accuracy on test set at epoch  10  is:  0.7299999594688416 \n",
            "\n",
            "300/300 [==============================] - 18s 59ms/step - loss: 0.0000e+00 - binary_accuracy: 1.0000 - val_loss: 1.8832 - val_binary_accuracy: 0.7250\n",
            "Run:  5 / Accuracy on test set at epoch  11  is:  0.7249999642372131 \n",
            "\n",
            "300/300 [==============================] - 18s 58ms/step - loss: 0.0000e+00 - binary_accuracy: 1.0000 - val_loss: 1.9294 - val_binary_accuracy: 0.7000\n",
            "Run:  5 / Accuracy on test set at epoch  12  is:  0.699999988079071 \n",
            "\n",
            "300/300 [==============================] - 17s 57ms/step - loss: 0.0000e+00 - binary_accuracy: 1.0000 - val_loss: 1.8942 - val_binary_accuracy: 0.7250\n",
            "Run:  5 / Accuracy on test set at epoch  13  is:  0.7249999642372131 \n",
            "\n",
            "300/300 [==============================] - 17s 57ms/step - loss: 0.0000e+00 - binary_accuracy: 1.0000 - val_loss: 1.9352 - val_binary_accuracy: 0.7000\n",
            "Run:  5 / Accuracy on test set at epoch  14  is:  0.699999988079071 \n",
            "\n",
            "300/300 [==============================] - 17s 57ms/step - loss: 0.0000e+00 - binary_accuracy: 1.0000 - val_loss: 1.9017 - val_binary_accuracy: 0.7250\n",
            "Run:  5 / Accuracy on test set at epoch  15  is:  0.7249999642372131 \n",
            "\n",
            "300/300 [==============================] - 17s 57ms/step - loss: 0.0000e+00 - binary_accuracy: 1.0000 - val_loss: 1.9387 - val_binary_accuracy: 0.7100\n",
            "Run:  5 / Accuracy on test set at epoch  16  is:  0.7099999785423279 \n",
            "\n",
            "300/300 [==============================] - 17s 57ms/step - loss: 0.0000e+00 - binary_accuracy: 1.0000 - val_loss: 1.9684 - val_binary_accuracy: 0.6950\n",
            "Run:  5 / Accuracy on test set at epoch  17  is:  0.6949999928474426 \n",
            "\n",
            "300/300 [==============================] - 18s 58ms/step - loss: 0.0000e+00 - binary_accuracy: 1.0000 - val_loss: 1.9111 - val_binary_accuracy: 0.7250\n",
            "Run:  5 / Accuracy on test set at epoch  18  is:  0.7249999642372131 \n",
            "\n",
            "300/300 [==============================] - 18s 59ms/step - loss: 0.0000e+00 - binary_accuracy: 1.0000 - val_loss: 1.9446 - val_binary_accuracy: 0.7200\n",
            "Run:  5 / Accuracy on test set at epoch  19  is:  0.7199999690055847 \n",
            "\n",
            "Accuracies over epochs: [0.5899999737739563, 0.7099999785423279, 0.5949999690055847, 0.5949999690055847, 0.6949999928474426, 0.7199999690055847, 0.7149999737739563, 0.7249999642372131, 0.7149999737739563, 0.7099999785423279, 0.7299999594688416, 0.7249999642372131, 0.699999988079071, 0.7249999642372131, 0.699999988079071, 0.7249999642372131, 0.7099999785423279, 0.6949999928474426, 0.7249999642372131, 0.7199999690055847] \n",
            "\n",
            "\n",
            "\n",
            " Over all runs maximum accuracies on test set are: [0.7149999737739563, 0.7199999690055847, 0.7299999594688416, 0.73499995470047, 0.73499995470047]\n",
            "The median is: 0.7299999594688416 \n",
            "\n",
            "\n",
            "\n",
            "CNN Accuracy Score on test set ->  0.7299999594688416 +/- 0.014999985694885254\n"
          ]
        }
      ]
    }
  ],
  "metadata": {
    "accelerator": "GPU",
    "colab": {
      "provenance": [],
      "include_colab_link": true
    },
    "kernelspec": {
      "display_name": "Python 3",
      "name": "python3"
    },
    "gpuClass": "standard"
  },
  "nbformat": 4,
  "nbformat_minor": 0
}